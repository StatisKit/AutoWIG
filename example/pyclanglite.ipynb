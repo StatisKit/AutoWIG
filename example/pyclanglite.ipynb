{
 "cells": [
  {
   "cell_type": "raw",
   "metadata": {
    "collapsed": false
   },
   "source": [
    "import pyclanglite\n",
    "from path import path\n",
    "rootdir = path(pyclanglite.__path__[-1])\n",
    "while not rootdir.basename() == 'PyClangLite':\n",
    "    rootdir = rootdir.parent\n",
    "rootdir = rootdir.abspath()"
   ]
  },
  {
   "cell_type": "code",
   "execution_count": 1,
   "metadata": {
    "collapsed": false
   },
   "outputs": [],
   "source": [
    "from path import path\n",
    "rootdir = path(u'/home/pfernique/Desktop/PyClangLite')"
   ]
  },
  {
   "cell_type": "code",
   "execution_count": 2,
   "metadata": {
    "collapsed": false
   },
   "outputs": [],
   "source": [
    "import subprocess\n",
    "popen = subprocess.Popen(['clang++', '-x', 'c++', '-v', '-E', '/dev/null'], stdout=subprocess.PIPE,\n",
    "                        stderr=subprocess.PIPE)\n",
    "out, err = popen.communicate()\n",
    "sysincludes = err.splitlines()\n",
    "headers = []\n",
    "flags = ['-x', 'c++', '-std=c++11', '-D__STDC_LIMIT_MACROS', '-D__STDC_CONSTANT_MACROS']\n",
    "if '#include <...> search starts here:' not in sysincludes or 'End of search list.' not in sysincludes:\n",
    "    warnings.warn('System includes not computed: parsing clang command output failed', Warning)\n",
    "else:\n",
    "    lindex = sysincludes.index('#include <...> search starts here:')\n",
    "    rindex = sysincludes.index('End of search list.')\n",
    "    sysincludes = sysincludes[lindex+1:rindex]\n",
    "flags.extend(['-I'+str(path(sysinclude.strip()).abspath()) for sysinclude in sysincludes])\n",
    "for sysinclude in sysincludes:\n",
    "    sysinclude = path(sysinclude.strip())\n",
    "    clanginclude = sysinclude/'clang'\n",
    "    if clanginclude.exists():\n",
    "        headers.extend([sysinclude.relpathto(header) for header in clanginclude.walkfiles('*.h')])\n",
    "selfcontained = rootdir/'src'/'wrapper'/'clang.h'\n",
    "selfcontained.write_lines(['#include <' + str(header) + '>' for header in headers])"
   ]
  },
  {
   "cell_type": "code",
   "execution_count": 3,
   "metadata": {
    "collapsed": false
   },
   "outputs": [
    {
     "data": {
      "text/plain": [
       "['-x',\n",
       " 'c++',\n",
       " '-std=c++11',\n",
       " '-D__STDC_LIMIT_MACROS',\n",
       " '-D__STDC_CONSTANT_MACROS',\n",
       " '-I/usr/include/c++/5.2.1',\n",
       " '-I/usr/include/x86_64-linux-gnu/c++/5.2.1',\n",
       " '-I/usr/include/c++/5.2.1/backward',\n",
       " '-I/usr/local/include',\n",
       " '-I/usr/local/lib/clang/3.9.0/include',\n",
       " '-I/usr/include/x86_64-linux-gnu',\n",
       " '-I/usr/include']"
      ]
     },
     "execution_count": 3,
     "metadata": {},
     "output_type": "execute_result"
    }
   ],
   "source": [
    "flags"
   ]
  },
  {
   "cell_type": "raw",
   "metadata": {},
   "source": [
    "from pyclanglite.ast import AbstractSyntaxTree\n",
    "ast = AbstractSyntaxTree(headers, flags=flags)"
   ]
  },
  {
   "cell_type": "raw",
   "metadata": {},
   "source": [
    "print ast"
   ]
  },
  {
   "cell_type": "raw",
   "metadata": {},
   "source": [
    "node = ast[642476]"
   ]
  },
  {
   "cell_type": "raw",
   "metadata": {},
   "source": [
    "node.get_destructor()"
   ]
  },
  {
   "cell_type": "code",
   "execution_count": 4,
   "metadata": {
    "collapsed": false
   },
   "outputs": [],
   "source": [
    "from autowig import autowig\n",
    "import pickle\n",
    "try:\n",
    "    with open('pyclanglite.pkl', 'r') as f:\n",
    "        asg = pickle.load(f)\n",
    "except:\n",
    "    print 'Parsing C++ code...'\n",
    "    asg = autowig.AbstractSemanticGraph()\n",
    "    autowig.parser.plugin = 'pyclanglite'\n",
    "    autowig.parser(asg, [selfcontained], flags=flags,\n",
    "                   overload='none', bootstrap=False, permissive=True)\n",
    "    with open('pyclanglite.pkl', 'w') as f:\n",
    "        pickle.dump(asg, f)"
   ]
  },
  {
   "cell_type": "code",
   "execution_count": 5,
   "metadata": {
    "collapsed": true
   },
   "outputs": [],
   "source": [
    "from autowig.controller import resolve_overload, suppress_forward_declarations\n",
    "resolve_overload(asg, 'none')\n",
    "suppress_forward_declarations(asg)\n",
    "for namespace in asg.namespaces():\n",
    "    namespace.boost_python_export = False"
   ]
  },
  {
   "cell_type": "code",
   "execution_count": 6,
   "metadata": {
    "collapsed": true
   },
   "outputs": [],
   "source": [
    "function = asg.nodes('.*clang::tooling::buildASTFromCodeWithArgs').pop()\n",
    "function.boost_python_export = True\n",
    "classes = [asg['class ::clang::Type'], asg['class ::clang::Decl']]\n",
    "import itertools\n",
    "classes.extend(itertools.chain(*[cls.inheritors(recursive=True) for cls in classes]))"
   ]
  },
  {
   "cell_type": "code",
   "execution_count": 7,
   "metadata": {
    "collapsed": false
   },
   "outputs": [
    {
     "name": "stdout",
     "output_type": "stream",
     "text": [
      "['none', 'public']\n"
     ]
    }
   ],
   "source": [
    "dependencies = asg.dependencies(function, *classes, bases=True, access='public')"
   ]
  },
  {
   "cell_type": "code",
   "execution_count": 8,
   "metadata": {
    "collapsed": false
   },
   "outputs": [
    {
     "data": {
      "text/plain": [
       "{'none', 'public'}"
      ]
     },
     "execution_count": 8,
     "metadata": {},
     "output_type": "execute_result"
    }
   ],
   "source": [
    "{asg[cls._node].access for cls in dependencies}"
   ]
  },
  {
   "cell_type": "code",
   "execution_count": 9,
   "metadata": {
    "collapsed": false
   },
   "outputs": [],
   "source": [
    "for dependency in dependencies:\n",
    "    dependency.boost_python_export = True\n",
    "for inheritor in asg['class ::llvm::SmallVectorBase'].inheritors(recursive=True):\n",
    "    inheritor.boost_python_export = False\n",
    "for namespace in asg.namespaces():\n",
    "    if namespace.globalname.startswith('_'):\n",
    "        for declaration in namespace.declarations(nested=True):\n",
    "            declaration.boost_python_export = True\n",
    "for cls in asg.classes():\n",
    "    if cls.boost_python_export:\n",
    "        if cls.localname.startswith('_') or any(ancestor.localname.startswith('_') for ancestor in cls.ancestors):\n",
    "            cls.boost_python_export = False\n",
    "for cls in asg.classes(templated=False, specialized=None):\n",
    "    cls.is_copyable = False"
   ]
  },
  {
   "cell_type": "code",
   "execution_count": 10,
   "metadata": {
    "collapsed": true
   },
   "outputs": [],
   "source": [
    "autowig.generator.plugin = 'boost_python'\n",
    "autowig.generator(asg, rootdir/'src'/'wrapper'/'_pyclanglite.cpp', None, pattern='.*', closure=False)\n",
    "if autowig.parser == 'libclang':\n",
    "    pass"
   ]
  },
  {
   "cell_type": "code",
   "execution_count": 11,
   "metadata": {
    "collapsed": false
   },
   "outputs": [],
   "source": [
    "module = asg[rootdir/'src'/'wrapper'/'_pyclanglite.cpp']\n",
    "module.write()\n",
    "\n",
    "for export in module.exports:\n",
    "    export.write()"
   ]
  },
  {
   "cell_type": "code",
   "execution_count": 13,
   "metadata": {
    "collapsed": false
   },
   "outputs": [
    {
     "name": "stdout",
     "output_type": "stream",
     "text": [
      "#include <boost/python.hpp>\n",
      "#include <//home/pfernique/Desktop/PyClangLite/src/wrapper/clang.h>\n",
      "\n",
      "void __clang_tooling_build_ast_from_code_with_args()\n",
      "{\n",
      "\n",
      "        std::string clang_7bbff48d109853e88270b3595c663a99_name = boost::python::extract< std::string >(boost::python::scope().attr(\"__name__\") + \".clang\");\n",
      "        boost::python::object clang_7bbff48d109853e88270b3595c663a99_module(boost::python::handle<  >(boost::python::borrowed(PyImport_AddModule(clang_7bbff48d109853e88270b3595c663a99_name.c_str()))));\n",
      "        boost::python::scope().attr(\"clang\") = clang_7bbff48d109853e88270b3595c663a99_module;\n",
      "        boost::python::scope clang_7bbff48d109853e88270b3595c663a99_scope = clang_7bbff48d109853e88270b3595c663a99_module;\n",
      "        std::string tooling_72106f10129759b3940693116b92ef77_name = boost::python::extract< std::string >(boost::python::scope().attr(\"__name__\") + \".tooling\");\n",
      "        boost::python::object tooling_72106f10129759b3940693116b92ef77_module(boost::python::handle<  >(boost::python::borrowed(PyImport_AddModule(tooling_72106f10129759b3940693116b92ef77_name.c_str()))));\n",
      "        boost::python::scope().attr(\"tooling\") = tooling_72106f10129759b3940693116b92ef77_module;\n",
      "        boost::python::scope tooling_72106f10129759b3940693116b92ef77_scope = tooling_72106f10129759b3940693116b92ef77_module;\n",
      "        class ::std::unique_ptr<clang::ASTUnit, std::default_delete<clang::ASTUnit> >  (*function_pointer_83e6ee90117e57a7a16669585107d90e)(class ::llvm::Twine  const &, class ::std::vector<std::basic_string<char, std::char_traits<char>, std::allocator<char> >, std::allocator<std::basic_string<char, std::char_traits<char>, std::allocator<char> > > >  const &, class ::llvm::Twine  const &, class ::std::shared_ptr<clang::PCHContainerOperations> ) = ::clang::tooling::buildASTFromCodeWithArgs;\n",
      "        boost::python::def(\"build_ast_from_code_with_args\", function_pointer_83e6ee90117e57a7a16669585107d90e);\n",
      "}\n"
     ]
    }
   ],
   "source": [
    "print asg[rootdir/'src'/'wrapper'/'__clang_tooling_build_ast_from_code_with_args.cpp'].get_content()"
   ]
  },
  {
   "cell_type": "code",
   "execution_count": 12,
   "metadata": {
    "collapsed": false
   },
   "outputs": [
    {
     "ename": "TypeError",
     "evalue": "exceptions must be old-style classes or derived from BaseException, not NoneType",
     "output_type": "error",
     "traceback": [
      "\u001b[1;31m---------------------------------------------------------------------------\u001b[0m",
      "\u001b[1;31mTypeError\u001b[0m                                 Traceback (most recent call last)",
      "\u001b[1;32m<ipython-input-12-26814ed17a01>\u001b[0m in \u001b[0;36m<module>\u001b[1;34m()\u001b[0m\n\u001b[1;32m----> 1\u001b[1;33m \u001b[1;32mraise\u001b[0m\u001b[1;33m\u001b[0m\u001b[0m\n\u001b[0m",
      "\u001b[1;31mTypeError\u001b[0m: exceptions must be old-style classes or derived from BaseException, not NoneType"
     ]
    }
   ],
   "source": [
    "raise"
   ]
  },
  {
   "cell_type": "code",
   "execution_count": null,
   "metadata": {
    "collapsed": false
   },
   "outputs": [],
   "source": [
    "len(classes), len(asg.classes(templated=None, specialized=None))"
   ]
  },
  {
   "cell_type": "code",
   "execution_count": null,
   "metadata": {
    "collapsed": false
   },
   "outputs": [],
   "source": [
    "asg.includes('class ::clang::PreprocessingDirective')[0].language"
   ]
  },
  {
   "cell_type": "code",
   "execution_count": null,
   "metadata": {
    "collapsed": false
   },
   "outputs": [],
   "source": [
    "asg['class ::clang::PreprocessingDirective'].boost_python_export.get_content()"
   ]
  },
  {
   "cell_type": "code",
   "execution_count": null,
   "metadata": {
    "collapsed": false
   },
   "outputs": [],
   "source": [
    "classes"
   ]
  },
  {
   "cell_type": "code",
   "execution_count": null,
   "metadata": {
    "collapsed": false
   },
   "outputs": [],
   "source": [
    "asg['/'].localname"
   ]
  },
  {
   "cell_type": "code",
   "execution_count": null,
   "metadata": {
    "collapsed": false
   },
   "outputs": [],
   "source": [
    "asg.namespaces()"
   ]
  },
  {
   "cell_type": "code",
   "execution_count": null,
   "metadata": {
    "collapsed": true
   },
   "outputs": [],
   "source": []
  },
  {
   "cell_type": "code",
   "execution_count": null,
   "metadata": {
    "collapsed": false
   },
   "outputs": [],
   "source": [
    "asg['class ::clang::Type'].inheritors(recursive=True)"
   ]
  },
  {
   "cell_type": "code",
   "execution_count": null,
   "metadata": {
    "collapsed": false
   },
   "outputs": [],
   "source": [
    "asg['class ::clang::Decl'].inheritors(recursive=True)"
   ]
  },
  {
   "cell_type": "code",
   "execution_count": null,
   "metadata": {
    "collapsed": true
   },
   "outputs": [],
   "source": [
    "asg['class ::clang::Decl'].inheritors"
   ]
  },
  {
   "cell_type": "code",
   "execution_count": null,
   "metadata": {
    "collapsed": false
   },
   "outputs": [],
   "source": [
    "%debug"
   ]
  },
  {
   "cell_type": "code",
   "execution_count": null,
   "metadata": {
    "collapsed": false
   },
   "outputs": [],
   "source": [
    "for node in asg.nodes():\n",
    "    node.boost_python_export = False\n",
    "\n",
    "node = asg.classes('^(class |union |struct |)::llvm::StringRef$').pop()\n",
    "node.boost_python_export = True\n",
    "if libclang:\n",
    "    asg._nodes[node.node]['is_abstract'] = False\n",
    "    asg._nodes[node.node]['_is_copyable'] = True\n",
    "\n",
    "asg.classes('^(class |union |struct |)::clang::ASTUnit$').pop().boost_python_export = True\n",
    "\n",
    "asg.classes('^(class |union |struct |)::clang::ASTContext$').pop().boost_python_export = True\n",
    "\n",
    "for function in asg.functions('^::clang::ASTContext::getSourceManager'):\n",
    "    if function.result_type.globalname in [prefix + '::clang::SourceManager &' for prefix in ['', 'class ']]:\n",
    "        function.is_overloaded = True\n",
    "        function.boost_python_export = True\n",
    "        break\n",
    "\n",
    "node = asg.classes('^(class |union |struct |)::clang::FileID$').pop()\n",
    "node.boost_python_export = True\n",
    "if libclang:\n",
    "    asg._nodes[node.node]['is_abstract'] = False\n",
    "    asg._nodes[node.node]['_is_copyable'] = True\n",
    "asg.functions('^::clang::FileID::isInvalid').pop().boost_python_export = True\n",
    "\n",
    "node = asg.classes('^(class |union |struct |)::clang::SourceLocation$').pop()\n",
    "node.boost_python_export = True\n",
    "if libclang:\n",
    "    asg._nodes[node.node]['is_abstract'] = False\n",
    "    asg._nodes[node.node]['_is_copyable'] = True\n",
    "\n",
    "asg.classes('^(class |union |struct |)::clang::SourceManager$').pop().boost_python_export = True\n",
    "for function in asg.functions('^::clang::SourceManager::getFileID'):\n",
    "    if function.localname == 'getFileID':\n",
    "        function.boost_python_export = True\n",
    "        break\n",
    "asg.functions('^::clang::SourceManager::getFilename').pop().boost_python_export = True\n",
    "asg.functions('^::clang::SourceManager::getIncludeLoc').pop().boost_python_export = True\n",
    "\n",
    "for node in asg.classes('^(class | union|struct |)::clang::([a-zA-Z]*(Decl|Type)|DeclContext)$'):\n",
    "    node.boost_python_export = True\n",
    "\n",
    "asg.enums('^(enum |)::clang::AccessSpecifier').pop().boost_python_export = True\n",
    "\n",
    "asg.classes('^(class | union|struct |)::clang::CXXBaseSpecifier').pop().boost_python_export = True\n",
    "for function in asg.functions('^::clang::CXXBaseSpecifier::getAccessSpecifier', free=False):\n",
    "    if function.localname == 'getAccessSpecifier':\n",
    "        function.boost_python_export = True\n",
    "        break\n",
    "for function in asg.functions('^::clang::CXXBaseSpecifier::getType', free=False):\n",
    "    if function.localname == 'getType':\n",
    "        function.boost_python_export = True\n",
    "        break\n",
    "\n",
    "node = asg.classes('^(class | union|struct |)::clang::QualType$').pop()\n",
    "node.boost_python_export = True\n",
    "if libclang:\n",
    "    asg._nodes[node.node]['is_abstract'] = False\n",
    "    asg._nodes[node.node]['_is_copyable'] = True\n",
    "asg.functions('^::clang::QualType::isLocalConstQualified', free=False).pop().boost_python_export = True\n",
    "asg.functions('^::clang::QualType::isLocalVolatileQualified', free=False).pop().boost_python_export = True\n",
    "asg.functions('^::clang::QualType::getTypePtrOrNull', free=False).pop().boost_python_export = True\n",
    "\n",
    "asg.functions('^(class | union|struct |)::clang::Type::isBuiltinType', free=False).pop().boost_python_export = True\n",
    "for function in asg.functions('^::clang::Type::isSpecificBuiltinType', free=False):\n",
    "    if function.localname == 'isSpecificBuiltinType':\n",
    "        function.boost_python_export = True\n",
    "        break\n",
    "asg.functions('^::clang::Type::isPointerType', free=False).pop().boost_python_export = True\n",
    "asg.functions('^::clang::Type::isLValueReferenceType', free=False).pop().boost_python_export = True\n",
    "asg.functions('^::clang::Type::isRValueReferenceType', free=False).pop().boost_python_export = True\n",
    "asg.functions('^::clang::Type::getPointeeType', free=False).pop().boost_python_export = True\n",
    "asg.functions('^::clang::Type::isStructureOrClassType', free=False).pop().boost_python_export = True\n",
    "asg.functions('^::clang::Type::isEnumeralType', free=False).pop().boost_python_export = True\n",
    "asg.functions('^::clang::Type::isUnionType', free=False).pop().boost_python_export = True\n",
    "asg.functions('^::clang::Type::getAsTagDecl', free=False).pop().boost_python_export = True\n",
    "asg.enums('(enum |)::clang::Type::TypeClass').pop().boost_python_export = True\n",
    "asg.functions('^::clang::Type::isBuiltinType', free=False).pop().boost_python_export = True\n",
    "asg.functions('^::clang::Type::getUnqualifiedDesugaredType', free=False).pop().boost_python_export = True\n",
    "asg.functions('^::clang::Type::getCanonicalTypeInternal', free=False).pop().boost_python_export = True\n",
    "for function in asg.functions('^::clang::Type::getTypeClass', free=False):\n",
    "    if function.localname == 'getTypeClass':\n",
    "        function.boost_python_export = True\n",
    "        break\n",
    "\n",
    "asg.functions('::clang::ElaboratedType::getNamedType', free=False).pop().boost_python_export = True\n",
    "asg.functions('::clang::ElaboratedType::desugar', free=False).pop().boost_python_export = True\n",
    "\n",
    "asg.enums('^(enum |)::clang::BuiltinType::Kind$').pop().boost_python_export = True\n",
    "\n",
    "asg.functions('^::clang::Decl::isImplicit', free=False).pop().boost_python_export = True\n",
    "asg.functions('^::clang::Decl::getAccessUnsafe', free=False).pop().boost_python_export = True\n",
    "asg.enums('(enum |)::clang::Decl::Kind').pop().boost_python_export = True\n",
    "asg.functions('^::clang::Decl::getKind').pop().boost_python_export = True\n",
    "asg.functions('^::clang::Decl::getLocation').pop().boost_python_export = True\n",
    "asg.functions('^::clang::Decl::getASTContext').pop().boost_python_export = True\n",
    "for function in asg.functions('^::clang::Decl::getDeclContext', free=False):\n",
    "    if function.result_type.globalname in [prefix + '::clang::DeclContext *' for prefix in ['', 'class ']]:\n",
    "        function.is_overloaded = True\n",
    "        function.boost_python_export = True\n",
    "        break\n",
    "for function in asg.functions('^::clang::DeclContext::getDeclKind', free=False):\n",
    "    if function.localname == 'getDeclKind':\n",
    "        function.boost_python_export = True\n",
    "        break\n",
    "for function in asg.functions('^::clang::DeclContext::getParent', free=False):\n",
    "    if function.result_type.globalname in [prefix + '::clang::DeclContext *' for prefix in ['', 'class ']]:\n",
    "        function.is_overloaded = True\n",
    "        function.boost_python_export = True\n",
    "        break\n",
    "for function in asg.functions('^::clang::DeclContext::getLexicalParent', free=False):\n",
    "    if function.result_type.globalname in [prefix + '::clang::DeclContext *' for prefix in ['', 'class ']]:\n",
    "        function.is_overloaded = True\n",
    "        function.boost_python_export = True\n",
    "        break\n",
    "for function in asg.functions('^::clang::DeclContext::getLookupParent', free=False):\n",
    "    if function.result_type.globalname in [prefix + '::clang::DeclContext *' for prefix in ['', 'class ']]:\n",
    "        function.is_overloaded = True\n",
    "        function.boost_python_export = True\n",
    "        break\n",
    "\n",
    "asg.functions('^::clang::NamespaceDecl::isInline', free=False).pop().boost_python_export = True\n",
    "\n",
    "asg.functions('^::clang::LinkageSpecDecl::getLanguage', free=False).pop().boost_python_export = True\n",
    "asg.enums('(enum |)::clang::LinkageSpecDecl::LanguageIDs').pop().boost_python_export = True\n",
    "\n",
    "asg.functions('^::clang::ValueDecl::getType').pop().boost_python_export = True\n",
    "\n",
    "asg.functions('^::clang::FieldDecl::isMutable').pop().boost_python_export = True\n",
    "\n",
    "for fct in asg.functions('^::clang::FunctionDecl::isDeleted'):\n",
    "    if fct.localname == 'isDeleted':\n",
    "        fct.boost_python_export = True\n",
    "asg.functions('^::clang::FunctionDecl::getNumParams').pop().boost_python_export = True\n",
    "for function in asg.functions('^::clang::FunctionDecl::getParamDecl', free=False):\n",
    "    if function.result_type.globalname in [prefix + '::clang::ParmVarDecl *' for prefix in ['', 'class ']]:\n",
    "        function.is_overloaded = True\n",
    "        function.boost_python_export = True\n",
    "for function in asg.functions('^::clang::FunctionDecl::getReturnType', free=False):\n",
    "    if function.localname == 'getReturnType':\n",
    "        function.boost_python_export = True\n",
    "        break\n",
    "\n",
    "for function in asg.functions('^::clang::CXXMethodDecl::isStatic', free=False):\n",
    "    if function.localname == 'isStatic':\n",
    "        function.boost_python_export = True\n",
    "        break\n",
    "asg.functions('^::clang::CXXMethodDecl::isConst', free=False).pop().boost_python_export = True\n",
    "asg.functions('^::clang::CXXMethodDecl::isVolatile', free=False).pop().boost_python_export = True\n",
    "asg.functions('^::clang::CXXMethodDecl::isVirtual', free=False).pop().boost_python_export = True\n",
    "asg.functions('^::clang::CXXMethodDecl::isPure', free=False).pop().boost_python_export = True\n",
    "\n",
    "asg.functions('^::clang::TagDecl::isClass', free=False).pop().boost_python_export = True\n",
    "asg.functions('^::clang::TagDecl::isStruct', free=False).pop().boost_python_export = True\n",
    "asg.functions('^::clang::TagDecl::isUnion', free=False).pop().boost_python_export = True\n",
    "asg.functions('^::clang::TagDecl::hasNameForLinkage', free=False).pop().boost_python_export = True\n",
    "asg.functions('^::clang::TagDecl::getTypedefNameForAnonDecl', free=False).pop().boost_python_export = True\n",
    "for function in asg.functions('::clang::TagDecl::isCompleteDefinition', free=False):\n",
    "    if function.localname == 'isCompleteDefinition':\n",
    "        function.boost_python_export = True\n",
    "        break\n",
    "\n",
    "asg.functions('^::clang::CXXRecordDecl::isAbstract', free=False).pop().boost_python_export = True\n",
    "asg.functions('^::clang::CXXRecordDecl::getNumBases', free=False).pop().boost_python_export = True\n",
    "asg.functions('^::clang::CXXRecordDecl::getNumVBases', free=False).pop().boost_python_export = True\n",
    "\n",
    "for function in asg.functions('^::clang::CXXConstructorDecl::isCopyConstructor'):\n",
    "    if len(function.parameters) == 0:\n",
    "        function.boost_python_export = True\n",
    "        function.asg._nodes[function.node]['is_const'] = True\n",
    "for function in asg.functions('^::clang::CXXConstructorDecl::isMoveConstructor'):\n",
    "    if len(function.parameters) == 0:\n",
    "        function.boost_python_export = True\n",
    "        function.asg._nodes[function.node]['is_const'] = True\n",
    "asg.functions('^::clang::ClassTemplateDecl::isThisDeclarationADefinition', free=False).pop().boost_python_export = True\n",
    "\n",
    "asg.functions('^::clang::ClassTemplateSpecializationDecl::getTemplateArgs', free=False).pop().boost_python_export = True\n",
    "asg.functions('^::clang::ClassTemplateSpecializationDecl::isExplicitSpecialization', free=False).pop().boost_python_export = True\n",
    "for function in asg.functions('^::clang::ClassTemplateSpecializationDecl::getSpecializedTemplate', free=False):\n",
    "    if function.localname == 'getSpecializedTemplate':\n",
    "        function.boost_python_export = True\n",
    "        break\n",
    "asg.classes('^(class |union |struct |)::clang::TemplateArgumentList$').pop().boost_python_export = True\n",
    "asg.functions('^::clang::TemplateArgumentList::get', free=False).pop().boost_python_export = True\n",
    "asg.functions('^::clang::TemplateArgumentList::size', free=False).pop().boost_python_export = True\n",
    "\n",
    "asg.classes('^(class |union |struct |)::clang::TemplateArgument$').pop().boost_python_export = True\n",
    "asg.enums('^(enum |)::clang::TemplateArgument::ArgKind').pop().boost_python_export = True\n",
    "asg.functions('^::clang::TemplateArgument::getKind', free=False).pop().boost_python_export = True\n",
    "asg.functions('^::clang::TemplateArgument::getAsType', free=False).pop().boost_python_export = True\n",
    "asg.functions('^::clang::TemplateArgument::getAsDecl', free=False).pop().boost_python_export = True\n",
    "asg.functions('^::clang::TemplateArgument::getIntegralType', free=False).pop().boost_python_export = True\n",
    "\n",
    "asg.functions('^::clang::TypedefNameDecl::getUnderlyingType', free=False).pop().boost_python_export = True\n",
    "\n",
    "for enum in asg.enums():\n",
    "    if not enum.clean:\n",
    "        for constant in enum.constants:\n",
    "            constant.boost_python_export = True\n",
    "\n",
    "decl = asg.classes('^(class |struct |)::clang::Decl$').pop()\n",
    "decl.is_copyable = False\n",
    "for inheritor in decl.inheritors(True):\n",
    "    inheritor.is_copyable = False\n",
    "\n",
    "asg['::clang'].boost_python_export = True\n",
    "asg['::llvm'].boost_python_export = True\n",
    "\n",
    "if libclang:\n",
    "    asg['::llvm::StringRef'].header.is_primary = True\n",
    "else:\n",
    "    asg['class ::llvm::StringRef'].header.is_primary = True\n",
    "\n",
    "if libclang:\n",
    "    asg['::clang::FileID'].header.is_primary = True\n",
    "else:\n",
    "    asg['class ::clang::FileID'].header.is_primary = True"
   ]
  },
  {
   "cell_type": "code",
   "execution_count": null,
   "metadata": {
    "collapsed": true
   },
   "outputs": [],
   "source": [
    "from autowig import autowig"
   ]
  }
 ],
 "metadata": {
  "kernelspec": {
   "display_name": "Python 2",
   "language": "python",
   "name": "python2"
  },
  "language_info": {
   "codemirror_mode": {
    "name": "ipython",
    "version": 2
   },
   "file_extension": ".py",
   "mimetype": "text/x-python",
   "name": "python",
   "nbconvert_exporter": "python",
   "pygments_lexer": "ipython2",
   "version": "2.7.10"
  }
 },
 "nbformat": 4,
 "nbformat_minor": 0
}
