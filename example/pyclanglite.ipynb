{
 "cells": [
  {
   "cell_type": "raw",
   "metadata": {
    "collapsed": false
   },
   "source": [
    "import pyclanglite\n",
    "from path import path\n",
    "rootdir = path(pyclanglite.__path__[-1])\n",
    "while not rootdir.basename() == 'PyClangLite':\n",
    "    rootdir = rootdir.parent\n",
    "rootdir = rootdir.abspath()"
   ]
  },
  {
   "cell_type": "code",
   "execution_count": 1,
   "metadata": {
    "collapsed": false
   },
   "outputs": [],
   "source": [
    "from path import path\n",
    "import os\n",
    "rootdir = path(u'/home/pfernique/Desktop/PyClangLite')\n",
    "for filepath in (rootdir/'src'/'wrapper').walkfiles('*.[hc]*'):\n",
    "    os.remove(filepath.abspath())"
   ]
  },
  {
   "cell_type": "code",
   "execution_count": 2,
   "metadata": {
    "collapsed": false
   },
   "outputs": [],
   "source": [
    "import subprocess\n",
    "popen = subprocess.Popen(['clang++', '-x', 'c++', '-v', '-E', '/dev/null'], stdout=subprocess.PIPE,\n",
    "                        stderr=subprocess.PIPE)\n",
    "out, err = popen.communicate()\n",
    "sysincludes = err.splitlines()\n",
    "headers = []\n",
    "flags = ['-x', 'c++', '-std=c++11', '-D__STDC_LIMIT_MACROS', '-D__STDC_CONSTANT_MACROS']\n",
    "if '#include <...> search starts here:' not in sysincludes or 'End of search list.' not in sysincludes:\n",
    "    warnings.warn('System includes not computed: parsing clang command output failed', Warning)\n",
    "else:\n",
    "    lindex = sysincludes.index('#include <...> search starts here:')\n",
    "    rindex = sysincludes.index('End of search list.')\n",
    "    sysincludes = sysincludes[lindex+1:rindex]\n",
    "flags.extend(['-I'+str(path(sysinclude.strip()).abspath()) for sysinclude in sysincludes])\n",
    "for sysinclude in sysincludes:\n",
    "    sysinclude = path(sysinclude.strip())\n",
    "    clanginclude = sysinclude/'clang'\n",
    "    if clanginclude.exists():\n",
    "        headers.extend([sysinclude.relpathto(header) for header in clanginclude.walkfiles('*.h')])\n",
    "selfcontained = rootdir/'src'/'wrapper'/'clang.h'\n",
    "selfcontained.write_lines(['#include <' + str(header) + '>' for header in headers])\n",
    "headers  = [selfcontained]"
   ]
  },
  {
   "cell_type": "code",
   "execution_count": 3,
   "metadata": {
    "collapsed": false
   },
   "outputs": [],
   "source": [
    "from autowig import autowig\n",
    "import pickle\n",
    "try:\n",
    "    with open('pyclanglite.pkl', 'r') as f:\n",
    "        asg = pickle.load(f)\n",
    "except:\n",
    "    asg = autowig.AbstractSemanticGraph()\n",
    "    autowig.parser.plugin = 'pyclanglite'\n",
    "    autowig.parser(asg, headers, flags=flags, bootstrap=False)\n",
    "    with open('pyclanglite.pkl', 'w') as f:\n",
    "        pickle.dump(asg, f)"
   ]
  },
  {
   "cell_type": "code",
   "execution_count": 4,
   "metadata": {
    "collapsed": false
   },
   "outputs": [],
   "source": [
    "controller = \"\"\"\n",
    "def bootstrap_controller(asg):\n",
    "    for node in asg.nodes('::clang::ASTUnit::top_level_(begin|end)'):\n",
    "        if not node.return_type.boost_python_export:\n",
    "            node.return_type.boost_python_export = True\n",
    "    for node in asg.nodes('^class ::std::(shared|weak|unique)_ptr$'):\n",
    "        node.is_copyable = False\n",
    "        node.is_smart_pointer = True\n",
    "    node = asg.nodes('::clang::HeaderSearch::NormalizeDashIncludePath').pop()\n",
    "    node.boost_python_export = False\n",
    "    for node in asg.nodes('::clang::DeclSpec::(TSCS|TSW|TSS|TST)_'):\n",
    "        node.boost_python_export = False\n",
    "\"\"\"\n",
    "exec controller + \"    return asg\"\n",
    "autowig.controller['bootstrap'] = bootstrap_controller\n",
    "autowig.controller.plugin = 'bootstrap'\n",
    "asg = autowig.controller(asg)"
   ]
  },
  {
   "cell_type": "code",
   "execution_count": 5,
   "metadata": {
    "collapsed": false
   },
   "outputs": [],
   "source": [
    "subset = asg.nodes('::clang::tooling::buildASTFromCodeWithArgs')\n",
    "classes = [asg['class ::clang::Type'], asg['class ::clang::Decl']]\n",
    "subset += classes\n",
    "subset += classes[0].subclasses(recursive=True)\n",
    "subset += classes[1].subclasses(recursive=True)"
   ]
  },
  {
   "cell_type": "code",
   "execution_count": 6,
   "metadata": {
    "collapsed": true
   },
   "outputs": [],
   "source": [
    "from autowig.boost_python_generator import caching\n",
    "caching(asg)"
   ]
  },
  {
   "cell_type": "code",
   "execution_count": null,
   "metadata": {
    "collapsed": false
   },
   "outputs": [],
   "source": [
    "autowig.generator.plugin = 'boost_python'\n",
    "wrappers = autowig.generator(asg, subset,\n",
    "                             module=rootdir/'src'/'wrapper'/'_pyclanglite.cpp',\n",
    "                             decorator=None, closure=True)\n",
    "if autowig.parser == 'libclang':\n",
    "    pass"
   ]
  },
  {
   "cell_type": "code",
   "execution_count": null,
   "metadata": {
    "collapsed": false
   },
   "outputs": [],
   "source": [
    "for wrapper in wrappers:\n",
    "    wrapper.write()\n",
    "session = autowig.scons(rootdir, '-k', '-j6')\n",
    "session"
   ]
  },
  {
   "cell_type": "code",
   "execution_count": null,
   "metadata": {
    "collapsed": false
   },
   "outputs": [],
   "source": [
    "while session.err:\n",
    "    controller += '\\n' + autowig.feedback(session, rootdir, asg,\n",
    "                                          variantdir='build-scons',\n",
    "                                          tabsize=4, indent=1,\n",
    "                                          force=True)\n",
    "    exec controller + \"\\n    return asg\"\n",
    "    autowig.controller['bootstrap'] = bootstrap_controller\n",
    "    autowig.controller.plugin = 'bootstrap'\n",
    "    asg = autowig.controller(asg)\n",
    "    for wrapper in wrappers:\n",
    "        if wrapper.on_disk:\n",
    "            wrapper.write()\n",
    "    session = autowig.scons(rootdir, '-k', '-j6')\n",
    "session"
   ]
  },
  {
   "cell_type": "code",
   "execution_count": null,
   "metadata": {
    "collapsed": false
   },
   "outputs": [],
   "source": [
    "print controller"
   ]
  },
  {
   "cell_type": "code",
   "execution_count": null,
   "metadata": {
    "collapsed": false
   },
   "outputs": [],
   "source": [
    "asg['class ::clang::DeclContext::decl_iterator'].methods()"
   ]
  },
  {
   "cell_type": "code",
   "execution_count": null,
   "metadata": {
    "collapsed": true
   },
   "outputs": [],
   "source": []
  }
 ],
 "metadata": {
  "kernelspec": {
   "display_name": "Python 2",
   "language": "python",
   "name": "python2"
  },
  "language_info": {
   "codemirror_mode": {
    "name": "ipython",
    "version": 2
   },
   "file_extension": ".py",
   "mimetype": "text/x-python",
   "name": "python",
   "nbconvert_exporter": "python",
   "pygments_lexer": "ipython2",
   "version": "2.7.10"
  }
 },
 "nbformat": 4,
 "nbformat_minor": 0
}
