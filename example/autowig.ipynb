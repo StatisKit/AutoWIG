{
 "metadata": {
  "name": "",
  "signature": "sha256:2548c6dd3b4a8f69bba37c1903999780c90814bab1a1677fce90dd081dc3904d"
 },
 "nbformat": 3,
 "nbformat_minor": 0,
 "worksheets": [
  {
   "cells": [
    {
     "cell_type": "heading",
     "level": 1,
     "metadata": {},
     "source": [
      "Examples of `VPlants.AutoWIG` package "
     ]
    },
    {
     "cell_type": "heading",
     "level": 2,
     "metadata": {},
     "source": [
      "Using [clang]([https://github.com/llvm-mirror/clang.git) to parse files"
     ]
    },
    {
     "cell_type": "markdown",
     "metadata": {},
     "source": [
      "This part is largely based on [Tam\u00e1s Szelei's coding blog](http://szelei.me/code-generator/).\n",
      "We aimed to present choice made in `VPlants.AutoWIG` package in order to propose clear and reusable C++ binding."
     ]
    },
    {
     "cell_type": "code",
     "collapsed": false,
     "input": [
      "from vplants.autowig.all import autowig"
     ],
     "language": "python",
     "metadata": {},
     "outputs": [],
     "prompt_number": 1
    },
    {
     "cell_type": "heading",
     "level": 3,
     "metadata": {},
     "source": [
      "Parse file"
     ]
    },
    {
     "cell_type": "markdown",
     "metadata": {},
     "source": [
      "Set the variable `header_path` to the folder containing relevant `*.h` files"
     ]
    },
    {
     "cell_type": "code",
     "collapsed": false,
     "input": [
      "from openalea.core.path import path\n",
      "from vplants import autowig\n",
      "modulepath = path(autowig.__path__[0])\n",
      "while modulepath.name.name != 'src':\n",
      "    modulepath = modulepath.parent\n",
      "modulepath = modulepath.parent\n",
      "filepath = modulepath/'example'/'header'/'type.h'\n",
      "filepath = path('/')/'home'/'pfernique'/'Desktop'/'statiskit'/'src'/'cpp'/'base.h'"
     ],
     "language": "python",
     "metadata": {},
     "outputs": [],
     "prompt_number": 2
    },
    {
     "cell_type": "markdown",
     "metadata": {},
     "source": [
      "To parse a file one need to specify the path to the file and additional `CXXFLAGS`."
     ]
    },
    {
     "cell_type": "code",
     "collapsed": false,
     "input": [
      "translation_unit = parse_file(filepath, dictflags=dict(std='c++11'))"
     ],
     "language": "python",
     "metadata": {},
     "outputs": [],
     "prompt_number": 3
    },
    {
     "cell_type": "markdown",
     "metadata": {},
     "source": [
      "Traversing the AST is performed with cursors. A cursor points to a node in the AST, and can tell what kind of node that is (for example, a class declaration) and what are its children (e.g. the members of the class), as well as numerous other information. \n",
      "In order to easily see in ASCII format results of a file parsing the `ascii` function `__repr__` (based on [dump_ast.py](https://github.com/sztomi/code-generator/blob/master/src/dump_ast.py)) is defined for `TranslationUnit` instances."
     ]
    },
    {
     "cell_type": "code",
     "collapsed": false,
     "input": [
      "translation_unit"
     ],
     "language": "python",
     "metadata": {},
     "outputs": [
      {
       "metadata": {},
       "output_type": "pyout",
       "prompt_number": 4,
       "text": [
        "TRANSLATION_UNIT /home/pfernique/Desktop/statiskit/src/cpp/base.h\n",
        "  +--NAMESPACE Statiskit\n",
        "     +--FUNCTION_DECL isvalid\n",
        "     |  +--PARM_DECL v\n",
        "     +--FUNCTION_DECL isvalid\n",
        "     |  +--PARM_DECL v\n",
        "     +--FUNCTION_DECL isvalid\n",
        "     |  +--PARM_DECL v\n",
        "     |     +--NAMESPACE_REF std\n",
        "     |     +--TYPE_REF string\n",
        "     +--TYPE_ALIAS_DECL event_type\n",
        "     |  +--NAMESPACE_REF boost\n",
        "     |  +--TEMPLATE_REF variant\n",
        "     |  +--NAMESPACE_REF std\n",
        "     |  +--TYPE_REF string\n",
        "     +--ENUM_DECL storage_type\n",
        "     |  +--ENUM_CONSTANT_DECL INTEGER\n",
        "     |  +--ENUM_CONSTANT_DECL REAL\n",
        "     |  +--ENUM_CONSTANT_DECL FACTOR\n",
        "     +--TYPE_ALIAS_DECL events_type\n",
        "     |  +--NAMESPACE_REF std\n",
        "     |  +--TEMPLATE_REF vector\n",
        "     |  +--TYPE_REF event_type\n",
        "     +--TYPE_ALIAS_DECL storages_type\n",
        "     |  +--NAMESPACE_REF std\n",
        "     |  +--TEMPLATE_REF vector\n",
        "     |  +--TYPE_REF enum Statiskit::storage_type\n",
        "     +--FUNCTION_DECL get_default\n",
        "     |  +--TYPE_REF event_type\n",
        "     |  +--PARM_DECL storage\n",
        "     |     +--TYPE_REF enum Statiskit::storage_type\n",
        "     +--FUNCTION_DECL get_defaults\n",
        "     |  +--TYPE_REF events_type\n",
        "     |  +--PARM_DECL storages\n",
        "     |     +--TYPE_REF storages_type\n",
        "     +--CLASS_TEMPLATE StorageConverter\n",
        "     |  +--TEMPLATE_TYPE_PARAMETER N\n",
        "     |  +--TEMPLATE_TYPE_PARAMETER O\n",
        "     |  +--CXX_METHOD operator()\n",
        "     |     +--TYPE_REF N\n",
        "     |     +--PARM_DECL o\n",
        "     |        +--TYPE_REF O\n",
        "     +--CLASS_TEMPLATE_PARTIAL_SPECIALIZATION StorageConverter\n",
        "     |  +--TEMPLATE_TYPE_PARAMETER N\n",
        "     |  +--TYPE_REF N\n",
        "     |  +--NAMESPACE_REF std\n",
        "     |  +--TYPE_REF string\n",
        "     |  +--CXX_METHOD operator()\n",
        "     |     +--TYPE_REF N\n",
        "     |     +--PARM_DECL o\n",
        "     |        +--NAMESPACE_REF std\n",
        "     |        +--TYPE_REF string\n",
        "     +--CLASS_TEMPLATE_PARTIAL_SPECIALIZATION StorageConverter\n",
        "     |  +--TEMPLATE_TYPE_PARAMETER O\n",
        "     |  +--NAMESPACE_REF std\n",
        "     |  +--TYPE_REF string\n",
        "     |  +--TYPE_REF O\n",
        "     |  +--CXX_METHOD operator()\n",
        "     |     +--NAMESPACE_REF std\n",
        "     |     +--TYPE_REF string\n",
        "     |     +--PARM_DECL o\n",
        "     |        +--TYPE_REF O\n",
        "     +--FUNCTION_TEMPLATE to_string\n",
        "     |  +--TEMPLATE_TYPE_PARAMETER T\n",
        "     |  +--NAMESPACE_REF std\n",
        "     |  +--TYPE_REF string\n",
        "     |  +--PARM_DECL t\n",
        "     |  |  +--TYPE_REF T\n",
        "     |  +--PARM_DECL width\n",
        "     |     +--UNEXPOSED_EXPR \n",
        "     |        +--UNEXPOSED_EXPR \n",
        "     |           +--INTEGER_LITERAL \n",
        "     +--FUNCTION_DECL get_rg\n",
        "     |  +--NAMESPACE_REF boost\n",
        "     |  +--TYPE_REF mt19937\n",
        "     +--FUNCTION_DECL set_seed\n",
        "        +--PARM_DECL seed"
       ]
      }
     ],
     "prompt_number": 4
    },
    {
     "cell_type": "heading",
     "level": 3,
     "metadata": {},
     "source": [
      "Code Model"
     ]
    },
    {
     "cell_type": "markdown",
     "metadata": {},
     "source": [
      "Parsed output could be wrapped in an online manner, but it is clearer (and more reusable) to actually build a code model in which the parsed C++ objects are objects."
     ]
    },
    {
     "cell_type": "code",
     "collapsed": false,
     "input": [
      "interface = read_interface(translation_unit)\n",
      "Interface(interface)"
     ],
     "language": "python",
     "metadata": {},
     "outputs": [
      {
       "html": [
        "<!DOCTYPE html PUBLIC \"-//W3C//DTD HTML 4.01//EN\"\n",
        "   \"http://www.w3.org/TR/html4/strict.dtd\">\n",
        "\n",
        "<html>\n",
        "<head>\n",
        "  <title></title>\n",
        "  <meta http-equiv=\"content-type\" content=\"text/html; charset=None\">\n",
        "  <style type=\"text/css\">\n",
        "td.linenos { background-color: #f0f0f0; padding-right: 10px; }\n",
        "span.lineno { background-color: #f0f0f0; padding: 0 5px 0 5px; }\n",
        "pre { line-height: 125%; }\n",
        "body .hll { background-color: #ffffcc }\n",
        "body  { background: #f8f8f8; }\n",
        "body .c { color: #408080; font-style: italic } /* Comment */\n",
        "body .err { border: 1px solid #FF0000 } /* Error */\n",
        "body .k { color: #008000; font-weight: bold } /* Keyword */\n",
        "body .o { color: #666666 } /* Operator */\n",
        "body .cm { color: #408080; font-style: italic } /* Comment.Multiline */\n",
        "body .cp { color: #BC7A00 } /* Comment.Preproc */\n",
        "body .c1 { color: #408080; font-style: italic } /* Comment.Single */\n",
        "body .cs { color: #408080; font-style: italic } /* Comment.Special */\n",
        "body .gd { color: #A00000 } /* Generic.Deleted */\n",
        "body .ge { font-style: italic } /* Generic.Emph */\n",
        "body .gr { color: #FF0000 } /* Generic.Error */\n",
        "body .gh { color: #000080; font-weight: bold } /* Generic.Heading */\n",
        "body .gi { color: #00A000 } /* Generic.Inserted */\n",
        "body .go { color: #888888 } /* Generic.Output */\n",
        "body .gp { color: #000080; font-weight: bold } /* Generic.Prompt */\n",
        "body .gs { font-weight: bold } /* Generic.Strong */\n",
        "body .gu { color: #800080; font-weight: bold } /* Generic.Subheading */\n",
        "body .gt { color: #0044DD } /* Generic.Traceback */\n",
        "body .kc { color: #008000; font-weight: bold } /* Keyword.Constant */\n",
        "body .kd { color: #008000; font-weight: bold } /* Keyword.Declaration */\n",
        "body .kn { color: #008000; font-weight: bold } /* Keyword.Namespace */\n",
        "body .kp { color: #008000 } /* Keyword.Pseudo */\n",
        "body .kr { color: #008000; font-weight: bold } /* Keyword.Reserved */\n",
        "body .kt { color: #B00040 } /* Keyword.Type */\n",
        "body .m { color: #666666 } /* Literal.Number */\n",
        "body .s { color: #BA2121 } /* Literal.String */\n",
        "body .na { color: #7D9029 } /* Name.Attribute */\n",
        "body .nb { color: #008000 } /* Name.Builtin */\n",
        "body .nc { color: #0000FF; font-weight: bold } /* Name.Class */\n",
        "body .no { color: #880000 } /* Name.Constant */\n",
        "body .nd { color: #AA22FF } /* Name.Decorator */\n",
        "body .ni { color: #999999; font-weight: bold } /* Name.Entity */\n",
        "body .ne { color: #D2413A; font-weight: bold } /* Name.Exception */\n",
        "body .nf { color: #0000FF } /* Name.Function */\n",
        "body .nl { color: #A0A000 } /* Name.Label */\n",
        "body .nn { color: #0000FF; font-weight: bold } /* Name.Namespace */\n",
        "body .nt { color: #008000; font-weight: bold } /* Name.Tag */\n",
        "body .nv { color: #19177C } /* Name.Variable */\n",
        "body .ow { color: #AA22FF; font-weight: bold } /* Operator.Word */\n",
        "body .w { color: #bbbbbb } /* Text.Whitespace */\n",
        "body .mf { color: #666666 } /* Literal.Number.Float */\n",
        "body .mh { color: #666666 } /* Literal.Number.Hex */\n",
        "body .mi { color: #666666 } /* Literal.Number.Integer */\n",
        "body .mo { color: #666666 } /* Literal.Number.Oct */\n",
        "body .sb { color: #BA2121 } /* Literal.String.Backtick */\n",
        "body .sc { color: #BA2121 } /* Literal.String.Char */\n",
        "body .sd { color: #BA2121; font-style: italic } /* Literal.String.Doc */\n",
        "body .s2 { color: #BA2121 } /* Literal.String.Double */\n",
        "body .se { color: #BB6622; font-weight: bold } /* Literal.String.Escape */\n",
        "body .sh { color: #BA2121 } /* Literal.String.Heredoc */\n",
        "body .si { color: #BB6688; font-weight: bold } /* Literal.String.Interpol */\n",
        "body .sx { color: #008000 } /* Literal.String.Other */\n",
        "body .sr { color: #BB6688 } /* Literal.String.Regex */\n",
        "body .s1 { color: #BA2121 } /* Literal.String.Single */\n",
        "body .ss { color: #19177C } /* Literal.String.Symbol */\n",
        "body .bp { color: #008000 } /* Name.Builtin.Pseudo */\n",
        "body .vc { color: #19177C } /* Name.Variable.Class */\n",
        "body .vg { color: #19177C } /* Name.Variable.Global */\n",
        "body .vi { color: #19177C } /* Name.Variable.Instance */\n",
        "body .il { color: #666666 } /* Literal.Number.Integer.Long */\n",
        "\n",
        "  </style>\n",
        "</head>\n",
        "<body>\n",
        "<h2></h2>\n",
        "\n",
        "<div class=\"highlight\"><pre><span class=\"k\">namespace</span> <span class=\"n\">Statiskit</span>\n",
        "<span class=\"p\">{</span>\n",
        "\t<span class=\"kt\">bool</span> <span class=\"n\">isvalid</span><span class=\"p\">(</span><span class=\"k\">const</span> <span class=\"kt\">double</span> <span class=\"o\">&amp;</span> <span class=\"n\">v</span><span class=\"p\">);</span>\n",
        "\n",
        "\t<span class=\"kt\">bool</span> <span class=\"nf\">isvalid</span><span class=\"p\">(</span><span class=\"k\">const</span> <span class=\"kt\">int</span> <span class=\"o\">&amp;</span> <span class=\"n\">v</span><span class=\"p\">);</span>\n",
        "\n",
        "\t<span class=\"kt\">bool</span> <span class=\"nf\">isvalid</span><span class=\"p\">(</span><span class=\"k\">const</span> <span class=\"n\">std</span><span class=\"o\">::</span><span class=\"n\">string</span> <span class=\"o\">&amp;</span> <span class=\"n\">v</span><span class=\"p\">);</span>\n",
        "\n",
        "\t\n",
        "\n",
        "\t<span class=\"k\">enum</span> <span class=\"n\">storage_type</span>\n",
        "\t<span class=\"p\">{</span>\n",
        "\t\t<span class=\"n\">FACTOR</span><span class=\"p\">,</span>\n",
        "\t\t<span class=\"n\">INTEGER</span><span class=\"p\">,</span>\n",
        "\t\t<span class=\"n\">REAL</span>\n",
        "\t<span class=\"p\">};</span>\n",
        "\n",
        "\t\n",
        "\n",
        "\t\n",
        "\n",
        "\t<span class=\"n\">event_type</span> <span class=\"nf\">get_default</span><span class=\"p\">(</span><span class=\"k\">const</span> <span class=\"n\">Statiskit</span><span class=\"o\">::</span><span class=\"n\">storage_type</span> <span class=\"o\">&amp;</span> <span class=\"n\">storage</span><span class=\"p\">);</span>\n",
        "\n",
        "\t<span class=\"n\">events_type</span> <span class=\"nf\">get_defaults</span><span class=\"p\">(</span><span class=\"k\">const</span> <span class=\"n\">storages_type</span> <span class=\"o\">&amp;</span> <span class=\"n\">storages</span><span class=\"p\">);</span>\n",
        "\n",
        "\t<span class=\"k\">template</span> <span class=\"o\">&lt;</span> <span class=\"k\">typename</span> <span class=\"n\">N</span><span class=\"p\">,</span> <span class=\"k\">typename</span> <span class=\"n\">O</span> <span class=\"o\">&gt;</span> <span class=\"k\">class</span> <span class=\"nc\">StorageConverter</span>\n",
        "\t<span class=\"p\">{</span>\n",
        "\t\t<span class=\"nl\">public:</span>\n",
        "\t\t\t<span class=\"n\">N</span> <span class=\"k\">operator</span><span class=\"p\">()(</span><span class=\"k\">const</span> <span class=\"n\">O</span> <span class=\"o\">&amp;</span> <span class=\"n\">o</span><span class=\"p\">);</span>\n",
        "\t\t\t\n",
        "\t<span class=\"p\">};</span>\n",
        "\n",
        "\t\n",
        "\n",
        "\t\n",
        "\n",
        "\t\n",
        "\n",
        "\t<span class=\"n\">boost</span><span class=\"o\">::</span><span class=\"n\">mt19937</span> <span class=\"o\">&amp;</span> <span class=\"n\">get_rg</span><span class=\"p\">();</span>\n",
        "\n",
        "\t<span class=\"kt\">void</span> <span class=\"nf\">set_seed</span><span class=\"p\">(</span><span class=\"k\">const</span> <span class=\"kt\">unsigned</span> <span class=\"kt\">int</span> <span class=\"o\">&amp;</span> <span class=\"n\">seed</span><span class=\"p\">);</span>\n",
        "<span class=\"p\">}</span>\n",
        "</pre></div>\n",
        "</body>\n",
        "</html>\n"
       ],
       "metadata": {},
       "output_type": "pyout",
       "prompt_number": 5,
       "text": [
        "<IPython.core.display.HTML at 0x7f8eb80e0110>"
       ]
      }
     ],
     "prompt_number": 5
    },
    {
     "cell_type": "code",
     "collapsed": false,
     "input": [
      "boost_python = read_boost_python(interface)\n",
      "wrapperpath = path('/')/'home'/'pfernique'/'Desktop'/'statiskit'/'src'/'wrapper'\n",
      "write_boost_python(wrapperpath, boost_python)"
     ],
     "language": "python",
     "metadata": {},
     "outputs": [],
     "prompt_number": 6
    },
    {
     "cell_type": "heading",
     "level": 3,
     "metadata": {},
     "source": [
      "Boost.Python"
     ]
    },
    {
     "cell_type": "code",
     "collapsed": false,
     "input": [
      "from vplants.autowig.boost_python import ClassBoostPythonModel"
     ],
     "language": "python",
     "metadata": {},
     "outputs": []
    }
   ],
   "metadata": {}
  }
 ]
}