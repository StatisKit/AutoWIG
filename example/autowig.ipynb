{
 "metadata": {
  "name": "",
  "signature": "sha256:5e81d599f96a24e765a26ffc8036132823416f988dfbb17e4a11de62edb3df66"
 },
 "nbformat": 3,
 "nbformat_minor": 0,
 "worksheets": [
  {
   "cells": [
    {
     "cell_type": "markdown",
     "metadata": {},
     "source": [
      "Set the variable `header_path` to the folder containing relevant `*.h` files"
     ]
    },
    {
     "cell_type": "code",
     "collapsed": false,
     "input": [
      "from openalea.core.path import path\n",
      "from vplants import autowig\n",
      "header_path = path(autowig.__path__[0])\n",
      "while header_path.name.name != 'src':\n",
      "    header_path = header_path.parent\n",
      "header_path = header_path.parent/'example'/'header'"
     ],
     "language": "python",
     "metadata": {},
     "outputs": [],
     "prompt_number": 1
    },
    {
     "cell_type": "heading",
     "level": 1,
     "metadata": {},
     "source": [
      "Examples of `VPlants.AutoWIG` package "
     ]
    },
    {
     "cell_type": "heading",
     "level": 2,
     "metadata": {},
     "source": [
      "Using [clang]([https://github.com/llvm-mirror/clang.git) to parse files"
     ]
    },
    {
     "cell_type": "markdown",
     "metadata": {},
     "source": [
      "This part is largely based on [Tam\u00e1s Szelei's coding blog](http://szelei.me/code-generator/).\n",
      "We aimed to present choice made in `VPlants.AutoWIG` package in order to propose clear and reusable C++ binding."
     ]
    },
    {
     "cell_type": "code",
     "collapsed": false,
     "input": [
      "from vplants.autowig import parse"
     ],
     "language": "python",
     "metadata": {},
     "outputs": [],
     "prompt_number": 2
    },
    {
     "cell_type": "heading",
     "level": 3,
     "metadata": {},
     "source": [
      "Parse file"
     ]
    },
    {
     "cell_type": "markdown",
     "metadata": {},
     "source": [
      "To parse a file one need to specify the path to the file and additional `CXXFLAGS`."
     ]
    },
    {
     "cell_type": "code",
     "collapsed": false,
     "input": [
      "translation_unit = parse(header_path/'type.h')#, cxxflags=dict(std='c++11'))"
     ],
     "language": "python",
     "metadata": {},
     "outputs": [],
     "prompt_number": 3
    },
    {
     "cell_type": "markdown",
     "metadata": {},
     "source": [
      "Traversing the AST is performed with cursors. A cursor points to a node in the AST, and can tell what kind of node that is (for example, a class declaration) and what are its children (e.g. the members of the class), as well as numerous other information. \n",
      "In order to easily see in ASCII format results of a file parsing the `ascii` function `__repr__` (based on [dump_ast.py](https://github.com/sztomi/code-generator/blob/master/src/dump_ast.py)) is defined for `TranslationUnit` instances."
     ]
    },
    {
     "cell_type": "code",
     "collapsed": false,
     "input": [
      "translation_unit"
     ],
     "language": "python",
     "metadata": {},
     "outputs": [
      {
       "metadata": {},
       "output_type": "pyout",
       "prompt_number": 4,
       "text": [
        "TRANSLATION_UNIT /home/pfernique/Desktop/GitHub/pfernique/autowig/example/header/type.h\n",
        "  +--NAMESPACE namespace_a\n",
        "  |  +--VAR_DECL variable\n",
        "  |  +--NAMESPACE namespace_b\n",
        "  |  |  +--CLASS_DECL Class\n",
        "  |  |  +--NAMESPACE namespace_c\n",
        "  |  |     +--ENUM_DECL enum_type\n",
        "  |  |        +--ENUM_CONSTANT_DECL ENUM_A\n",
        "  |  |        +--ENUM_CONSTANT_DECL ENUM_B\n",
        "  |  +--TYPEDEF_DECL ref_enum_type\n",
        "  |  |  +--NAMESPACE_REF namespace_b\n",
        "  |  |  +--NAMESPACE_REF namespace_c\n",
        "  |  |  +--TYPE_REF enum namespace_a::namespace_b::namespace_c::enum_type\n",
        "  |  +--FUNCTION_DECL function\n",
        "  |  |  +--PARM_DECL a\n",
        "  |  +--STRUCT_DECL Struct\n",
        "  |  |  +--CONSTRUCTOR Struct\n",
        "  |  |  +--DESTRUCTOR ~Struct\n",
        "  |  |  +--CONSTRUCTOR Struct\n",
        "  |  |  |  +--PARM_DECL s\n",
        "  |  |  |     +--TYPE_REF struct namespace_a::Struct\n",
        "  |  |  +--CXX_METHOD virtual_function\n",
        "  |  |     +--PARM_DECL enum_value\n",
        "  |  |        +--TYPE_REF ref_enum_type\n",
        "  |  +--CLASS_DECL BaseClass\n",
        "  |     +--CXX_BASE_SPECIFIER struct namespace_a::Struct\n",
        "  |     |  +--TYPE_REF struct namespace_a::Struct\n",
        "  |     +--CXX_ACCESS_SPEC_DECL \n",
        "  |     +--CONSTRUCTOR BaseClass\n",
        "  +--NAMESPACE namespace_b\n",
        "     +--CLASS_DECL DerivedClass\n",
        "        +--CXX_BASE_SPECIFIER namespace_a::BaseClass\n",
        "        |  +--NAMESPACE_REF namespace_a\n",
        "        |  +--TYPE_REF class namespace_a::BaseClass\n",
        "        +--FIELD_DECL field\n",
        "        +--CXX_ACCESS_SPEC_DECL \n",
        "        +--CXX_METHOD virtual_function\n",
        "           +--PARM_DECL enum_value\n",
        "              +--NAMESPACE_REF namespace_a\n",
        "              +--TYPE_REF ref_enum_type"
       ]
      }
     ],
     "prompt_number": 4
    },
    {
     "cell_type": "heading",
     "level": 3,
     "metadata": {},
     "source": [
      "Code Model"
     ]
    },
    {
     "cell_type": "code",
     "collapsed": false,
     "input": [
      "from vplants.autowig import interface_model"
     ],
     "language": "python",
     "metadata": {},
     "outputs": []
    },
    {
     "cell_type": "markdown",
     "metadata": {},
     "source": [
      "Parsed output could be wrapped in an online manner, but it is clearer (and more reusable) to actually build a code model in which the parsed C++ objects are objects."
     ]
    },
    {
     "cell_type": "code",
     "collapsed": false,
     "input": [
      "globalscope = interface_model(header_path/'type.h')\n",
      "globalscope"
     ],
     "language": "python",
     "metadata": {},
     "outputs": []
    },
    {
     "cell_type": "code",
     "collapsed": false,
     "input": [
      "cursor = globalscope.declarations[0].declarations[2].cursor"
     ],
     "language": "python",
     "metadata": {},
     "outputs": [],
     "prompt_number": 9
    },
    {
     "cell_type": "code",
     "collapsed": false,
     "input": [
      "cursor.spelling"
     ],
     "language": "python",
     "metadata": {},
     "outputs": [
      {
       "metadata": {},
       "output_type": "pyout",
       "prompt_number": 21,
       "text": [
        "'ref_enum_type'"
       ]
      }
     ],
     "prompt_number": 21
    },
    {
     "cell_type": "code",
     "collapsed": false,
     "input": [
      "ch = list(cursor.get_children())"
     ],
     "language": "python",
     "metadata": {},
     "outputs": [],
     "prompt_number": 10
    },
    {
     "cell_type": "code",
     "collapsed": false,
     "input": [
      "c = ch[-1]"
     ],
     "language": "python",
     "metadata": {},
     "outputs": [],
     "prompt_number": 11
    },
    {
     "cell_type": "code",
     "collapsed": false,
     "input": [
      "c.type.get_declaration().spelling"
     ],
     "language": "python",
     "metadata": {},
     "outputs": [
      {
       "metadata": {},
       "output_type": "pyout",
       "prompt_number": 20,
       "text": [
        "'enum_type'"
       ]
      }
     ],
     "prompt_number": 20
    },
    {
     "cell_type": "code",
     "collapsed": false,
     "input": [
      "inc = header_model.includes[0]"
     ],
     "language": "python",
     "metadata": {},
     "outputs": []
    },
    {
     "cell_type": "code",
     "collapsed": false,
     "input": [
      "inc.name"
     ],
     "language": "python",
     "metadata": {},
     "outputs": []
    },
    {
     "cell_type": "code",
     "collapsed": false,
     "input": [
      "from clang.cindex import CursorKind\n",
      "sorted([str(i) for i in CursorKind.get_all_kinds()])"
     ],
     "language": "python",
     "metadata": {},
     "outputs": []
    },
    {
     "cell_type": "heading",
     "level": 4,
     "metadata": {},
     "source": [
      "Variable Model"
     ]
    },
    {
     "cell_type": "code",
     "collapsed": false,
     "input": [
      "parser.Interface(parser.VariableModel(variable))"
     ],
     "language": "python",
     "metadata": {},
     "outputs": []
    },
    {
     "cell_type": "heading",
     "level": 4,
     "metadata": {},
     "source": [
      "Function Model"
     ]
    },
    {
     "cell_type": "code",
     "collapsed": false,
     "input": [
      "parser.Interface(parser.FunctionModel(function))"
     ],
     "language": "python",
     "metadata": {},
     "outputs": []
    },
    {
     "cell_type": "heading",
     "level": 4,
     "metadata": {},
     "source": [
      "Class & Struct Models"
     ]
    },
    {
     "cell_type": "code",
     "collapsed": false,
     "input": [
      "parser.Interface(parser.ClassModel(struct))"
     ],
     "language": "python",
     "metadata": {},
     "outputs": []
    },
    {
     "cell_type": "heading",
     "level": 4,
     "metadata": {},
     "source": [
      "Header Model"
     ]
    },
    {
     "cell_type": "code",
     "collapsed": false,
     "input": [
      "parser.Interface(parser.HeaderModel(translation_unit.cursor))"
     ],
     "language": "python",
     "metadata": {},
     "outputs": []
    },
    {
     "cell_type": "code",
     "collapsed": false,
     "input": [
      "parser.Interface(parser.ClassModel(derivedclass))"
     ],
     "language": "python",
     "metadata": {},
     "outputs": []
    },
    {
     "cell_type": "code",
     "collapsed": false,
     "input": [
      "model.destructor"
     ],
     "language": "python",
     "metadata": {},
     "outputs": []
    },
    {
     "cell_type": "code",
     "collapsed": false,
     "input": [
      "import itertools"
     ],
     "language": "python",
     "metadata": {},
     "outputs": []
    },
    {
     "cell_type": "code",
     "collapsed": false,
     "input": [
      "list(itertools.chain([0,1],[2]))"
     ],
     "language": "python",
     "metadata": {},
     "outputs": []
    },
    {
     "cell_type": "code",
     "collapsed": false,
     "input": [
      "[i.lexical_parent for i in translation_unit.cursor.get_children()]"
     ],
     "language": "python",
     "metadata": {},
     "outputs": []
    },
    {
     "cell_type": "code",
     "collapsed": false,
     "input": [],
     "language": "python",
     "metadata": {},
     "outputs": []
    }
   ],
   "metadata": {}
  }
 ]
}