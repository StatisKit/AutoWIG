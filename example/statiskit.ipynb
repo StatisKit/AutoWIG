{
 "cells": [
  {
   "cell_type": "code",
   "execution_count": 1,
   "metadata": {
    "collapsed": false
   },
   "outputs": [],
   "source": [
    "from autowig import autowig"
   ]
  },
  {
   "cell_type": "code",
   "execution_count": 2,
   "metadata": {
    "collapsed": true
   },
   "outputs": [],
   "source": [
    "from path import path\n",
    "\n",
    "rootdir = path('../../StatisKit').abspath()"
   ]
  },
  {
   "cell_type": "code",
   "execution_count": 3,
   "metadata": {
    "collapsed": false
   },
   "outputs": [
    {
     "data": {
      "text/html": [
       "<!DOCTYPE html PUBLIC \"-//W3C//DTD HTML 4.01//EN\"\n",
       "   \"http://www.w3.org/TR/html4/strict.dtd\">\n",
       "\n",
       "<html>\n",
       "<head>\n",
       "  <title></title>\n",
       "  <meta http-equiv=\"content-type\" content=\"text/html; charset=None\">\n",
       "  <style type=\"text/css\">\n",
       "td.linenos { background-color: #f0f0f0; padding-right: 10px; }\n",
       "span.lineno { background-color: #f0f0f0; padding: 0 5px 0 5px; }\n",
       "pre { line-height: 125%; }\n",
       "body .hll { background-color: #ffffcc }\n",
       "body  { background: #f8f8f8; }\n",
       "body .c { color: #408080; font-style: italic } /* Comment */\n",
       "body .err { border: 1px solid #FF0000 } /* Error */\n",
       "body .k { color: #008000; font-weight: bold } /* Keyword */\n",
       "body .o { color: #666666 } /* Operator */\n",
       "body .ch { color: #408080; font-style: italic } /* Comment.Hashbang */\n",
       "body .cm { color: #408080; font-style: italic } /* Comment.Multiline */\n",
       "body .cp { color: #BC7A00 } /* Comment.Preproc */\n",
       "body .cpf { color: #408080; font-style: italic } /* Comment.PreprocFile */\n",
       "body .c1 { color: #408080; font-style: italic } /* Comment.Single */\n",
       "body .cs { color: #408080; font-style: italic } /* Comment.Special */\n",
       "body .gd { color: #A00000 } /* Generic.Deleted */\n",
       "body .ge { font-style: italic } /* Generic.Emph */\n",
       "body .gr { color: #FF0000 } /* Generic.Error */\n",
       "body .gh { color: #000080; font-weight: bold } /* Generic.Heading */\n",
       "body .gi { color: #00A000 } /* Generic.Inserted */\n",
       "body .go { color: #888888 } /* Generic.Output */\n",
       "body .gp { color: #000080; font-weight: bold } /* Generic.Prompt */\n",
       "body .gs { font-weight: bold } /* Generic.Strong */\n",
       "body .gu { color: #800080; font-weight: bold } /* Generic.Subheading */\n",
       "body .gt { color: #0044DD } /* Generic.Traceback */\n",
       "body .kc { color: #008000; font-weight: bold } /* Keyword.Constant */\n",
       "body .kd { color: #008000; font-weight: bold } /* Keyword.Declaration */\n",
       "body .kn { color: #008000; font-weight: bold } /* Keyword.Namespace */\n",
       "body .kp { color: #008000 } /* Keyword.Pseudo */\n",
       "body .kr { color: #008000; font-weight: bold } /* Keyword.Reserved */\n",
       "body .kt { color: #B00040 } /* Keyword.Type */\n",
       "body .m { color: #666666 } /* Literal.Number */\n",
       "body .s { color: #BA2121 } /* Literal.String */\n",
       "body .na { color: #7D9029 } /* Name.Attribute */\n",
       "body .nb { color: #008000 } /* Name.Builtin */\n",
       "body .nc { color: #0000FF; font-weight: bold } /* Name.Class */\n",
       "body .no { color: #880000 } /* Name.Constant */\n",
       "body .nd { color: #AA22FF } /* Name.Decorator */\n",
       "body .ni { color: #999999; font-weight: bold } /* Name.Entity */\n",
       "body .ne { color: #D2413A; font-weight: bold } /* Name.Exception */\n",
       "body .nf { color: #0000FF } /* Name.Function */\n",
       "body .nl { color: #A0A000 } /* Name.Label */\n",
       "body .nn { color: #0000FF; font-weight: bold } /* Name.Namespace */\n",
       "body .nt { color: #008000; font-weight: bold } /* Name.Tag */\n",
       "body .nv { color: #19177C } /* Name.Variable */\n",
       "body .ow { color: #AA22FF; font-weight: bold } /* Operator.Word */\n",
       "body .w { color: #bbbbbb } /* Text.Whitespace */\n",
       "body .mb { color: #666666 } /* Literal.Number.Bin */\n",
       "body .mf { color: #666666 } /* Literal.Number.Float */\n",
       "body .mh { color: #666666 } /* Literal.Number.Hex */\n",
       "body .mi { color: #666666 } /* Literal.Number.Integer */\n",
       "body .mo { color: #666666 } /* Literal.Number.Oct */\n",
       "body .sb { color: #BA2121 } /* Literal.String.Backtick */\n",
       "body .sc { color: #BA2121 } /* Literal.String.Char */\n",
       "body .sd { color: #BA2121; font-style: italic } /* Literal.String.Doc */\n",
       "body .s2 { color: #BA2121 } /* Literal.String.Double */\n",
       "body .se { color: #BB6622; font-weight: bold } /* Literal.String.Escape */\n",
       "body .sh { color: #BA2121 } /* Literal.String.Heredoc */\n",
       "body .si { color: #BB6688; font-weight: bold } /* Literal.String.Interpol */\n",
       "body .sx { color: #008000 } /* Literal.String.Other */\n",
       "body .sr { color: #BB6688 } /* Literal.String.Regex */\n",
       "body .s1 { color: #BA2121 } /* Literal.String.Single */\n",
       "body .ss { color: #19177C } /* Literal.String.Symbol */\n",
       "body .bp { color: #008000 } /* Name.Builtin.Pseudo */\n",
       "body .vc { color: #19177C } /* Name.Variable.Class */\n",
       "body .vg { color: #19177C } /* Name.Variable.Global */\n",
       "body .vi { color: #19177C } /* Name.Variable.Instance */\n",
       "body .il { color: #666666 } /* Literal.Number.Integer.Long */\n",
       "\n",
       "  </style>\n",
       "</head>\n",
       "<body>\n",
       "<h2></h2>\n",
       "\n",
       "<div class=\"highlight\"><pre><span class=\"go\">scons: Reading SConscript files ...</span>\n",
       "<span class=\"go\">scons: done reading SConscript files.</span>\n",
       "<span class=\"go\">scons: Building targets ...</span>\n",
       "<span class=\"go\">scons: `build&#39; is up to date.</span>\n",
       "<span class=\"go\">scons: done building targets.</span>\n",
       "</pre></div>\n",
       "</body>\n",
       "</html>\n"
      ],
      "text/plain": [
       "<autowig.scons.ShellSession at 0x7f7a67cee410>"
      ]
     },
     "execution_count": 3,
     "metadata": {},
     "output_type": "execute_result"
    }
   ],
   "source": [
    "autowig.scons(rootdir + '/misc', '-j3')"
   ]
  },
  {
   "cell_type": "code",
   "execution_count": 4,
   "metadata": {
    "collapsed": false
   },
   "outputs": [
    {
     "data": {
      "text/html": [
       "<!DOCTYPE html PUBLIC \"-//W3C//DTD HTML 4.01//EN\"\n",
       "   \"http://www.w3.org/TR/html4/strict.dtd\">\n",
       "\n",
       "<html>\n",
       "<head>\n",
       "  <title></title>\n",
       "  <meta http-equiv=\"content-type\" content=\"text/html; charset=None\">\n",
       "  <style type=\"text/css\">\n",
       "td.linenos { background-color: #f0f0f0; padding-right: 10px; }\n",
       "span.lineno { background-color: #f0f0f0; padding: 0 5px 0 5px; }\n",
       "pre { line-height: 125%; }\n",
       "body .hll { background-color: #ffffcc }\n",
       "body  { background: #f8f8f8; }\n",
       "body .c { color: #408080; font-style: italic } /* Comment */\n",
       "body .err { border: 1px solid #FF0000 } /* Error */\n",
       "body .k { color: #008000; font-weight: bold } /* Keyword */\n",
       "body .o { color: #666666 } /* Operator */\n",
       "body .ch { color: #408080; font-style: italic } /* Comment.Hashbang */\n",
       "body .cm { color: #408080; font-style: italic } /* Comment.Multiline */\n",
       "body .cp { color: #BC7A00 } /* Comment.Preproc */\n",
       "body .cpf { color: #408080; font-style: italic } /* Comment.PreprocFile */\n",
       "body .c1 { color: #408080; font-style: italic } /* Comment.Single */\n",
       "body .cs { color: #408080; font-style: italic } /* Comment.Special */\n",
       "body .gd { color: #A00000 } /* Generic.Deleted */\n",
       "body .ge { font-style: italic } /* Generic.Emph */\n",
       "body .gr { color: #FF0000 } /* Generic.Error */\n",
       "body .gh { color: #000080; font-weight: bold } /* Generic.Heading */\n",
       "body .gi { color: #00A000 } /* Generic.Inserted */\n",
       "body .go { color: #888888 } /* Generic.Output */\n",
       "body .gp { color: #000080; font-weight: bold } /* Generic.Prompt */\n",
       "body .gs { font-weight: bold } /* Generic.Strong */\n",
       "body .gu { color: #800080; font-weight: bold } /* Generic.Subheading */\n",
       "body .gt { color: #0044DD } /* Generic.Traceback */\n",
       "body .kc { color: #008000; font-weight: bold } /* Keyword.Constant */\n",
       "body .kd { color: #008000; font-weight: bold } /* Keyword.Declaration */\n",
       "body .kn { color: #008000; font-weight: bold } /* Keyword.Namespace */\n",
       "body .kp { color: #008000 } /* Keyword.Pseudo */\n",
       "body .kr { color: #008000; font-weight: bold } /* Keyword.Reserved */\n",
       "body .kt { color: #B00040 } /* Keyword.Type */\n",
       "body .m { color: #666666 } /* Literal.Number */\n",
       "body .s { color: #BA2121 } /* Literal.String */\n",
       "body .na { color: #7D9029 } /* Name.Attribute */\n",
       "body .nb { color: #008000 } /* Name.Builtin */\n",
       "body .nc { color: #0000FF; font-weight: bold } /* Name.Class */\n",
       "body .no { color: #880000 } /* Name.Constant */\n",
       "body .nd { color: #AA22FF } /* Name.Decorator */\n",
       "body .ni { color: #999999; font-weight: bold } /* Name.Entity */\n",
       "body .ne { color: #D2413A; font-weight: bold } /* Name.Exception */\n",
       "body .nf { color: #0000FF } /* Name.Function */\n",
       "body .nl { color: #A0A000 } /* Name.Label */\n",
       "body .nn { color: #0000FF; font-weight: bold } /* Name.Namespace */\n",
       "body .nt { color: #008000; font-weight: bold } /* Name.Tag */\n",
       "body .nv { color: #19177C } /* Name.Variable */\n",
       "body .ow { color: #AA22FF; font-weight: bold } /* Operator.Word */\n",
       "body .w { color: #bbbbbb } /* Text.Whitespace */\n",
       "body .mb { color: #666666 } /* Literal.Number.Bin */\n",
       "body .mf { color: #666666 } /* Literal.Number.Float */\n",
       "body .mh { color: #666666 } /* Literal.Number.Hex */\n",
       "body .mi { color: #666666 } /* Literal.Number.Integer */\n",
       "body .mo { color: #666666 } /* Literal.Number.Oct */\n",
       "body .sb { color: #BA2121 } /* Literal.String.Backtick */\n",
       "body .sc { color: #BA2121 } /* Literal.String.Char */\n",
       "body .sd { color: #BA2121; font-style: italic } /* Literal.String.Doc */\n",
       "body .s2 { color: #BA2121 } /* Literal.String.Double */\n",
       "body .se { color: #BB6622; font-weight: bold } /* Literal.String.Escape */\n",
       "body .sh { color: #BA2121 } /* Literal.String.Heredoc */\n",
       "body .si { color: #BB6688; font-weight: bold } /* Literal.String.Interpol */\n",
       "body .sx { color: #008000 } /* Literal.String.Other */\n",
       "body .sr { color: #BB6688 } /* Literal.String.Regex */\n",
       "body .s1 { color: #BA2121 } /* Literal.String.Single */\n",
       "body .ss { color: #19177C } /* Literal.String.Symbol */\n",
       "body .bp { color: #008000 } /* Name.Builtin.Pseudo */\n",
       "body .vc { color: #19177C } /* Name.Variable.Class */\n",
       "body .vg { color: #19177C } /* Name.Variable.Global */\n",
       "body .vi { color: #19177C } /* Name.Variable.Instance */\n",
       "body .il { color: #666666 } /* Literal.Number.Integer.Long */\n",
       "\n",
       "  </style>\n",
       "</head>\n",
       "<body>\n",
       "<h2></h2>\n",
       "\n",
       "<div class=\"highlight\"><pre><span class=\"go\">scons: Reading SConscript files ...</span>\n",
       "<span class=\"go\">scons: done reading SConscript files.</span>\n",
       "<span class=\"go\">scons: Building targets ...</span>\n",
       "<span class=\"go\">scons: `build&#39; is up to date.</span>\n",
       "<span class=\"go\">scons: done building targets.</span>\n",
       "</pre></div>\n",
       "</body>\n",
       "</html>\n"
      ],
      "text/plain": [
       "<autowig.scons.ShellSession at 0x7f7a67cee690>"
      ]
     },
     "execution_count": 4,
     "metadata": {},
     "output_type": "execute_result"
    }
   ],
   "source": [
    "autowig.scons(rootdir + '/core', '-j3')"
   ]
  },
  {
   "cell_type": "code",
   "execution_count": 5,
   "metadata": {
    "collapsed": false
   },
   "outputs": [],
   "source": [
    "includedir = rootdir + \"/core/build-scons/include\"\n",
    "\n",
    "headers = [str(f) for f in includedir.walkfiles('*.h')]\n",
    "    \n",
    "flags = ['-x', 'c++', '-g', '-std=c++11', '-stdlib=libstdc++',\n",
    "         '-I' + str(includedir)]\n",
    "\n",
    "asg = autowig.AbstractSemanticGraph()\n",
    "autowig.front_end.plugin = 'pyclanglite'\n",
    "autowig.front_end(asg, headers, flags=flags,\n",
    "                  overload='class', bootstrap=3, permissive=True)\n",
    "asg.clean()"
   ]
  },
  {
   "cell_type": "code",
   "execution_count": 6,
   "metadata": {
    "collapsed": true
   },
   "outputs": [],
   "source": [
    "autowig.node_path.plugin = 'flat'"
   ]
  },
  {
   "cell_type": "code",
   "execution_count": 7,
   "metadata": {
    "collapsed": false
   },
   "outputs": [
    {
     "name": "stdout",
     "output_type": "stream",
     "text": [
      "class ::statiskit::WeightedUnivariateDataFrame\n",
      "/home/pfernique/Desktop/StatisKit/core/src/wrapper/_statiskit_weighted_univariate_data_frame.cpp\n",
      "class ::statiskit::MultivariateEvent\n",
      "/home/pfernique/Desktop/StatisKit/core/src/wrapper/_statiskit_multivariate_event.cpp\n",
      "class ::statiskit::UnivariateDataFrame\n",
      "/home/pfernique/Desktop/StatisKit/core/src/wrapper/_statiskit_univariate_data_frame.cpp\n",
      "class ::statiskit::OrdinalSampleSpace\n",
      "/home/pfernique/Desktop/StatisKit/core/src/wrapper/_statiskit_ordinal_sample_space.cpp\n",
      "class ::statiskit::DetachedEvent\n",
      "/home/pfernique/Desktop/StatisKit/core/src/wrapper/_statiskit_detached_event.cpp\n",
      "class ::statiskit::NominalSampleSpace\n",
      "/home/pfernique/Desktop/StatisKit/core/src/wrapper/_statiskit_nominal_sample_space.cpp\n",
      "struct ::statiskit::UnivariateSampleSpace\n",
      "/home/pfernique/Desktop/StatisKit/core/src/wrapper/_statiskit_univariate_sample_space.cpp\n",
      "struct ::statiskit::ContinuousEvent\n",
      "/home/pfernique/Desktop/StatisKit/core/src/wrapper/_statiskit_continuous_event.cpp\n",
      "class ::std::allocator<char>\n",
      "/home/pfernique/Desktop/StatisKit/core/src/wrapper/_std_allocator_c9e2abf953f758ecad961ad25c8ee646.cpp\n",
      "struct ::statiskit::ContinuousSampleSpace\n",
      "/home/pfernique/Desktop/StatisKit/core/src/wrapper/_statiskit_continuous_sample_space.cpp\n",
      "class ::statiskit::MultivariateSampleSpace\n",
      "/home/pfernique/Desktop/StatisKit/core/src/wrapper/_statiskit_multivariate_sample_space.cpp\n",
      "class ::statiskit::VariableName\n",
      "/home/pfernique/Desktop/StatisKit/core/src/wrapper/_statiskit_variable_name.cpp\n",
      "class ::std::basic_string<char, std::char_traits<char>, std::allocator<char> >\n",
      "/home/pfernique/Desktop/StatisKit/core/src/wrapper/_std_basic_string_7161f45fb596507dbfed70691c152b7e.cpp\n",
      "class ::statiskit::RealSampleSpace\n",
      "/home/pfernique/Desktop/StatisKit/core/src/wrapper/_statiskit_real_sample_space.cpp\n",
      "struct ::std::char_traits<char>\n",
      "/home/pfernique/Desktop/StatisKit/core/src/wrapper/_std_char_traits_239abb9ee1cb53408dcea7b52dcd6c9b.cpp\n",
      "struct ::statiskit::UnivariateEvent\n",
      "/home/pfernique/Desktop/StatisKit/core/src/wrapper/_statiskit_univariate_event.cpp\n",
      "struct ::statiskit::CategoricalEvent\n",
      "/home/pfernique/Desktop/StatisKit/core/src/wrapper/_statiskit_categorical_event.cpp\n",
      "class ::statiskit::ScalarPredictor\n",
      "/home/pfernique/Desktop/StatisKit/core/src/wrapper/_statiskit_scalar_predictor.cpp\n",
      "class ::std::fpos<__mbstate_t>\n",
      "/home/pfernique/Desktop/StatisKit/core/src/wrapper/_std_fpos_178c676cc19f5a899633420978853800.cpp\n",
      "struct ::statiskit::DiscreteSampleSpace\n",
      "/home/pfernique/Desktop/StatisKit/core/src/wrapper/_statiskit_discrete_sample_space.cpp\n",
      "struct ::statiskit::CategoricalSampleSpace\n",
      "/home/pfernique/Desktop/StatisKit/core/src/wrapper/_statiskit_categorical_sample_space.cpp\n",
      "class ::statiskit::IntegerSampleSpace\n",
      "/home/pfernique/Desktop/StatisKit/core/src/wrapper/_statiskit_integer_sample_space.cpp\n",
      "struct ::statiskit::DiscreteEvent\n",
      "/home/pfernique/Desktop/StatisKit/core/src/wrapper/_statiskit_discrete_event.cpp\n"
     ]
    }
   ],
   "source": [
    "autowig.back_end.plugin = 'boost_python'\n",
    "autowig.back_end(asg, rootdir + '/core/src/wrapper/__statiskit.cpp')"
   ]
  },
  {
   "cell_type": "code",
   "execution_count": 8,
   "metadata": {
    "collapsed": false
   },
   "outputs": [
    {
     "data": {
      "text/plain": [
       "[False, False, False, False, False, False]"
      ]
     },
     "execution_count": 8,
     "metadata": {},
     "output_type": "execute_result"
    }
   ],
   "source": [
    "[dcl.boost_python_export for dcl in asg['struct ::statiskit::DiscreteEvent'].declarations()]"
   ]
  },
  {
   "cell_type": "code",
   "execution_count": 9,
   "metadata": {
    "collapsed": false
   },
   "outputs": [
    {
     "ename": "TypeError",
     "evalue": "pep8_node_rename() takes at least 2 arguments (2 given)",
     "output_type": "error",
     "traceback": [
      "\u001b[1;31m---------------------------------------------------------------------------\u001b[0m",
      "\u001b[1;31mTypeError\u001b[0m                                 Traceback (most recent call last)",
      "\u001b[1;32m<ipython-input-9-f5b4252fbc0f>\u001b[0m in \u001b[0;36m<module>\u001b[1;34m()\u001b[0m\n\u001b[1;32m----> 1\u001b[1;33m \u001b[0masg\u001b[0m\u001b[1;33m[\u001b[0m\u001b[1;34m'struct ::statiskit::DiscreteEvent'\u001b[0m\u001b[1;33m]\u001b[0m\u001b[1;33m.\u001b[0m\u001b[0mboost_python_export\u001b[0m\u001b[1;33m.\u001b[0m\u001b[0mget_content\u001b[0m\u001b[1;33m(\u001b[0m\u001b[1;33m)\u001b[0m\u001b[1;33m\u001b[0m\u001b[0m\n\u001b[0m",
      "\u001b[1;32m/home/pfernique/Desktop/AutoWIG/src/autowig/boost_python_back_end.py\u001b[0m in \u001b[0;36mget_content\u001b[1;34m(self)\u001b[0m\n\u001b[0;32m    582\u001b[0m         \u001b[0mcontent\u001b[0m \u001b[1;33m+=\u001b[0m \u001b[1;34m'\\n\\nvoid '\u001b[0m \u001b[1;33m+\u001b[0m \u001b[0mself\u001b[0m\u001b[1;33m.\u001b[0m\u001b[0mprefix\u001b[0m \u001b[1;33m+\u001b[0m \u001b[1;34m'()\\n{\\n'\u001b[0m\u001b[1;33m\u001b[0m\u001b[0m\n\u001b[0;32m    583\u001b[0m         content += self.SCOPE.render(scopes = self.scopes,\n\u001b[1;32m--> 584\u001b[1;33m                 node_rename = node_rename)\n\u001b[0m\u001b[0;32m    585\u001b[0m         \u001b[1;32mfor\u001b[0m \u001b[0marg\u001b[0m \u001b[1;32min\u001b[0m \u001b[0mself\u001b[0m\u001b[1;33m.\u001b[0m\u001b[0mdeclarations\u001b[0m\u001b[1;33m:\u001b[0m\u001b[1;33m\u001b[0m\u001b[0m\n\u001b[0;32m    586\u001b[0m             \u001b[1;32mif\u001b[0m \u001b[0misinstance\u001b[0m\u001b[1;33m(\u001b[0m\u001b[0marg\u001b[0m\u001b[1;33m,\u001b[0m \u001b[0mEnumeratorProxy\u001b[0m\u001b[1;33m)\u001b[0m\u001b[1;33m:\u001b[0m\u001b[1;33m\u001b[0m\u001b[0m\n",
      "\u001b[1;32m/usr/lib/python2.7/dist-packages/mako/template.pyc\u001b[0m in \u001b[0;36mrender\u001b[1;34m(self, *args, **data)\u001b[0m\n\u001b[0;32m    443\u001b[0m \u001b[1;33m\u001b[0m\u001b[0m\n\u001b[0;32m    444\u001b[0m         \"\"\"\n\u001b[1;32m--> 445\u001b[1;33m         \u001b[1;32mreturn\u001b[0m \u001b[0mruntime\u001b[0m\u001b[1;33m.\u001b[0m\u001b[0m_render\u001b[0m\u001b[1;33m(\u001b[0m\u001b[0mself\u001b[0m\u001b[1;33m,\u001b[0m \u001b[0mself\u001b[0m\u001b[1;33m.\u001b[0m\u001b[0mcallable_\u001b[0m\u001b[1;33m,\u001b[0m \u001b[0margs\u001b[0m\u001b[1;33m,\u001b[0m \u001b[0mdata\u001b[0m\u001b[1;33m)\u001b[0m\u001b[1;33m\u001b[0m\u001b[0m\n\u001b[0m\u001b[0;32m    446\u001b[0m \u001b[1;33m\u001b[0m\u001b[0m\n\u001b[0;32m    447\u001b[0m     \u001b[1;32mdef\u001b[0m \u001b[0mrender_unicode\u001b[0m\u001b[1;33m(\u001b[0m\u001b[0mself\u001b[0m\u001b[1;33m,\u001b[0m \u001b[1;33m*\u001b[0m\u001b[0margs\u001b[0m\u001b[1;33m,\u001b[0m \u001b[1;33m**\u001b[0m\u001b[0mdata\u001b[0m\u001b[1;33m)\u001b[0m\u001b[1;33m:\u001b[0m\u001b[1;33m\u001b[0m\u001b[0m\n",
      "\u001b[1;32m/usr/lib/python2.7/dist-packages/mako/runtime.pyc\u001b[0m in \u001b[0;36m_render\u001b[1;34m(template, callable_, args, data, as_unicode)\u001b[0m\n\u001b[0;32m    827\u001b[0m \u001b[1;33m\u001b[0m\u001b[0m\n\u001b[0;32m    828\u001b[0m     _render_context(template, callable_, context, *args,\n\u001b[1;32m--> 829\u001b[1;33m                     **_kwargs_for_callable(callable_, data))\n\u001b[0m\u001b[0;32m    830\u001b[0m     \u001b[1;32mreturn\u001b[0m \u001b[0mcontext\u001b[0m\u001b[1;33m.\u001b[0m\u001b[0m_pop_buffer\u001b[0m\u001b[1;33m(\u001b[0m\u001b[1;33m)\u001b[0m\u001b[1;33m.\u001b[0m\u001b[0mgetvalue\u001b[0m\u001b[1;33m(\u001b[0m\u001b[1;33m)\u001b[0m\u001b[1;33m\u001b[0m\u001b[0m\n\u001b[0;32m    831\u001b[0m \u001b[1;33m\u001b[0m\u001b[0m\n",
      "\u001b[1;32m/usr/lib/python2.7/dist-packages/mako/runtime.pyc\u001b[0m in \u001b[0;36m_render_context\u001b[1;34m(tmpl, callable_, context, *args, **kwargs)\u001b[0m\n\u001b[0;32m    862\u001b[0m         \u001b[1;31m# if main render method, call from the base of the inheritance stack\u001b[0m\u001b[1;33m\u001b[0m\u001b[1;33m\u001b[0m\u001b[0m\n\u001b[0;32m    863\u001b[0m         \u001b[1;33m(\u001b[0m\u001b[0minherit\u001b[0m\u001b[1;33m,\u001b[0m \u001b[0mlclcontext\u001b[0m\u001b[1;33m)\u001b[0m \u001b[1;33m=\u001b[0m \u001b[0m_populate_self_namespace\u001b[0m\u001b[1;33m(\u001b[0m\u001b[0mcontext\u001b[0m\u001b[1;33m,\u001b[0m \u001b[0mtmpl\u001b[0m\u001b[1;33m)\u001b[0m\u001b[1;33m\u001b[0m\u001b[0m\n\u001b[1;32m--> 864\u001b[1;33m         \u001b[0m_exec_template\u001b[0m\u001b[1;33m(\u001b[0m\u001b[0minherit\u001b[0m\u001b[1;33m,\u001b[0m \u001b[0mlclcontext\u001b[0m\u001b[1;33m,\u001b[0m \u001b[0margs\u001b[0m\u001b[1;33m=\u001b[0m\u001b[0margs\u001b[0m\u001b[1;33m,\u001b[0m \u001b[0mkwargs\u001b[0m\u001b[1;33m=\u001b[0m\u001b[0mkwargs\u001b[0m\u001b[1;33m)\u001b[0m\u001b[1;33m\u001b[0m\u001b[0m\n\u001b[0m\u001b[0;32m    865\u001b[0m     \u001b[1;32melse\u001b[0m\u001b[1;33m:\u001b[0m\u001b[1;33m\u001b[0m\u001b[0m\n\u001b[0;32m    866\u001b[0m         \u001b[1;31m# otherwise, call the actual rendering method specified\u001b[0m\u001b[1;33m\u001b[0m\u001b[1;33m\u001b[0m\u001b[0m\n",
      "\u001b[1;32m/usr/lib/python2.7/dist-packages/mako/runtime.pyc\u001b[0m in \u001b[0;36m_exec_template\u001b[1;34m(callable_, context, args, kwargs)\u001b[0m\n\u001b[0;32m    888\u001b[0m             \u001b[0m_render_error\u001b[0m\u001b[1;33m(\u001b[0m\u001b[0mtemplate\u001b[0m\u001b[1;33m,\u001b[0m \u001b[0mcontext\u001b[0m\u001b[1;33m,\u001b[0m \u001b[0me\u001b[0m\u001b[1;33m)\u001b[0m\u001b[1;33m\u001b[0m\u001b[0m\n\u001b[0;32m    889\u001b[0m     \u001b[1;32melse\u001b[0m\u001b[1;33m:\u001b[0m\u001b[1;33m\u001b[0m\u001b[0m\n\u001b[1;32m--> 890\u001b[1;33m         \u001b[0mcallable_\u001b[0m\u001b[1;33m(\u001b[0m\u001b[0mcontext\u001b[0m\u001b[1;33m,\u001b[0m \u001b[1;33m*\u001b[0m\u001b[0margs\u001b[0m\u001b[1;33m,\u001b[0m \u001b[1;33m**\u001b[0m\u001b[0mkwargs\u001b[0m\u001b[1;33m)\u001b[0m\u001b[1;33m\u001b[0m\u001b[0m\n\u001b[0m\u001b[0;32m    891\u001b[0m \u001b[1;33m\u001b[0m\u001b[0m\n\u001b[0;32m    892\u001b[0m \u001b[1;33m\u001b[0m\u001b[0m\n",
      "\u001b[1;32mmemory:0x7f7a84b60610\u001b[0m in \u001b[0;36mrender_body\u001b[1;34m(context, **pageargs)\u001b[0m\n",
      "\u001b[1;31mTypeError\u001b[0m: pep8_node_rename() takes at least 2 arguments (2 given)"
     ]
    }
   ],
   "source": [
    "asg['struct ::statiskit::DiscreteEvent'].boost_python_export.get_content()"
   ]
  },
  {
   "cell_type": "code",
   "execution_count": 9,
   "metadata": {
    "collapsed": false
   },
   "outputs": [],
   "source": [
    "autowig.back_end.plugin = 'on_disk'\n",
    "autowig.back_end(asg, pattern=rootdir + '/core/src/wrapper.*')"
   ]
  },
  {
   "cell_type": "code",
   "execution_count": 8,
   "metadata": {
    "collapsed": false
   },
   "outputs": [
    {
     "name": "stderr",
     "output_type": "stream",
     "text": [
      "ERROR: No traceback has been produced, nothing to debug.\n"
     ]
    }
   ],
   "source": [
    "%debug"
   ]
  },
  {
   "cell_type": "code",
   "execution_count": null,
   "metadata": {
    "collapsed": false
   },
   "outputs": [],
   "source": [
    "asg.clean()\n",
    "\n",
    "primaries = [header for header in asg.files(header=True) if header.is_primary]\n",
    "for hdr in asg.files(header=True):\n",
    "    if not hdr.is_primary and hdr.include in primaries:\n",
    "        hdr.is_primary = True \n",
    "        \n",
    "for inc in asg.directories():\n",
    "    if inc.as_include:\n",
    "        if inc.globalname + 'c++/' in asg:\n",
    "            for vsn in asg[inc.globalname + 'c++/'].directories:\n",
    "                vsn.as_include = True\n",
    "                for hdr in vsn.files:\n",
    "                    if hdr.suffix == '':\n",
    "                        hdr.is_primary = True\n",
    "        elif inc.globalname + 'boost/' in asg:\n",
    "            for hdr in sg[inc.globalname + 'boost/'].files:\n",
    "                hdr.is_primary = True\n",
    "                \n",
    "for tpl in asg.classes('.*(unique|weak|shared)_ptr$', templated=True,\n",
    "                       specialized=False):\n",
    "    tpl.is_smart_pointer = True"
   ]
  },
  {
   "cell_type": "code",
   "execution_count": 7,
   "metadata": {
    "code_folding": [],
    "collapsed": false,
    "scrolled": true
   },
   "outputs": [],
   "source": [
    "autowig.back_end.plugin = 'boost_python:std_filter'\n",
    "autowig.back_end(asg)"
   ]
  },
  {
   "cell_type": "code",
   "execution_count": 8,
   "metadata": {
    "collapsed": false
   },
   "outputs": [],
   "source": [
    "if 'struct ::arma::Base<double, arma::Op<arma::diagview<double>, arma::op_strans> >' in asg:\n",
    "    asg['struct ::arma::Base<double, arma::Op<arma::diagview<double>, arma::op_strans> >'].boost_python_export = False\n",
    "if 'struct ::arma::Base<double, arma::Op<arma::Row<double>, arma::op_strans> >' in asg:\n",
    "    asg['struct ::arma::Base<double, arma::Op<arma::Row<double>, arma::op_strans> >'].boost_python_export = False\n",
    "if 'struct ::arma::Base<double, arma::Op<arma::subview_col<double>, arma::op_strans> >' in asg:\n",
    "    asg['struct ::arma::Base<double, arma::Op<arma::subview_col<double>, arma::op_strans> >'].boost_python_export = False\n",
    "if 'struct ::arma::Base<double, arma::Op<arma::subview_row<double>, arma::op_strans> >' in asg:\n",
    "    asg['struct ::arma::Base<double, arma::Op<arma::subview_row<double>, arma::op_strans> >'].boost_python_export = False\n",
    "if 'struct ::arma::Base<double, arma::Op<arma::Col<double>, arma::op_strans> >' in asg:\n",
    "    asg['struct ::arma::Base<double, arma::Op<arma::Col<double>, arma::op_strans> >'].boost_python_export = False\n",
    "if 'class ::arma::SpMat<double>' in asg:\n",
    "    for mtd in asg['class ::arma::SpMat<double>'].methods(r'.*operator\\*=.*'):\n",
    "        if mtd.parameters[0].type.target == 'class ::arma::subview<double>':\n",
    "            mtd.boost_python_export = False\n",
    "if 'class ::arma::SpSubview<double>' in asg:\n",
    "    for mtd in asg['class ::arma::SpSubview<double>'].methods('.*check_overlap.*'):\n",
    "        mtd.boost_python_export = False\n",
    "if 'class ::arma::SpMat<unsigned long long>' in asg:\n",
    "    for mtd in asg['class ::arma::SpMat<unsigned long long>'].methods(r'.*operator\\*=.*'):\n",
    "        if mtd.parameters[0].type.target == 'class ::arma::subview<unsigned long long>':\n",
    "            mtd.boost_python_export = False\n",
    "if 'class ::arma::SpSubview<unsigned long long>' in asg:\n",
    "    for mtd in asg['class ::arma::SpSubview<unsigned long long>'].methods('.*check_overlap.*'):\n",
    "        mtd.boost_python_export = False"
   ]
  },
  {
   "cell_type": "code",
   "execution_count": 9,
   "metadata": {
    "collapsed": false
   },
   "outputs": [],
   "source": [
    "for tdf in  asg['::'].typedefs():\n",
    "    tdf.boost_python_export = False"
   ]
  },
  {
   "cell_type": "code",
   "execution_count": 10,
   "metadata": {
    "collapsed": false
   },
   "outputs": [],
   "source": [
    "from vplants.autowig.boost_python_back_end import BoostPythonExportMappingFileProxy\n",
    "\n",
    "autowig.back_end.plugin = 'boost_python:export'\n",
    "autowig.back_end(asg,\n",
    "                 directory = rootdir + '/core/src/wrapper',\n",
    "                 pattern = '.*statiskit.*',\n",
    "                 proxy = BoostPythonExportMappingFileProxy,\n",
    "                 prefix = '_')\n",
    "autowig.back_end.plugin = 'boost_python:closure'\n",
    "autowig.back_end(asg)\n",
    "autowig.back_end.plugin = 'boost_python:export'\n",
    "autowig.back_end(asg,\n",
    "                 directory = rootdir + '/misc/src/wrapper',\n",
    "                 proxy = BoostPythonExportMappingFileProxy,\n",
    "                 prefix = '_')\n",
    "autowig.back_end.plugin = 'boost_python:module'\n",
    "autowig.back_end(asg,\n",
    "                 filename = rootdir + '/core/src/wrapper/__core.cpp',\n",
    "                 package = 'statiskit.core')\n",
    "autowig.back_end(asg,\n",
    "                 filename = rootdir + '/misc/src/wrapper/__misc.cpp',\n",
    "                 package = 'statiskit.misc')\n",
    "autowig.back_end.plugin = 'boost_python:import'\n",
    "autowig.back_end(asg,\n",
    "                 filename = rootdir + '/core/src/statiskit/core/_core.py',\n",
    "                 module = rootdir + '/core/src/wrapper/__core.cpp')\n",
    "autowig.back_end(asg,\n",
    "                 filename = rootdir + '/misc/src/statiskit/misc/_misc.py',\n",
    "                 module = rootdir + '/misc/src/wrapper/__misc.cpp')"
   ]
  },
  {
   "cell_type": "code",
   "execution_count": 11,
   "metadata": {
    "collapsed": false
   },
   "outputs": [],
   "source": [
    "autowig.back_end.plugin = 'on_disk'\n",
    "autowig.back_end(asg,\n",
    "                 pattern = rootdir + '/(core|misc)/src/(wrapper|statiskit)/.*')"
   ]
  },
  {
   "cell_type": "code",
   "execution_count": 12,
   "metadata": {
    "collapsed": false
   },
   "outputs": [],
   "source": [
    "import pickle\n",
    "with open('/home/pfernique/Desktop/test.pkl', 'w') as f:\n",
    "    pickle.dump(asg, f)"
   ]
  },
  {
   "cell_type": "code",
   "execution_count": 13,
   "metadata": {
    "collapsed": false
   },
   "outputs": [
    {
     "name": "stderr",
     "output_type": "stream",
     "text": [
      "ERROR: No traceback has been produced, nothing to debug.\n"
     ]
    }
   ],
   "source": [
    "%debug"
   ]
  },
  {
   "cell_type": "code",
   "execution_count": 14,
   "metadata": {
    "collapsed": false
   },
   "outputs": [
    {
     "data": {
      "text/plain": [
       "['_specialization_edges',\n",
       " '_template_edges',\n",
       " '_include_edges',\n",
       " '_base_edges',\n",
       " '_parameter_edges',\n",
       " '_nodes',\n",
       " '_syntax_edges',\n",
       " '_language',\n",
       " '_type_edges']"
      ]
     },
     "execution_count": 14,
     "metadata": {},
     "output_type": "execute_result"
    }
   ],
   "source": [
    "asg.__dict__.keys()"
   ]
  },
  {
   "cell_type": "code",
   "execution_count": 15,
   "metadata": {
    "collapsed": false
   },
   "outputs": [],
   "source": [
    "for key, values in asg._specialization_edges.iteritems():\n",
    "    for value in values:\n",
    "        if not isinstance(value, basestring):\n",
    "            print value"
   ]
  },
  {
   "cell_type": "code",
   "execution_count": 16,
   "metadata": {
    "collapsed": false
   },
   "outputs": [],
   "source": [
    "for key, values in asg._template_edges.iteritems():\n",
    "    for value in values:\n",
    "        if not isinstance(value['target'], basestring):\n",
    "            print value"
   ]
  },
  {
   "cell_type": "code",
   "execution_count": 17,
   "metadata": {
    "collapsed": false
   },
   "outputs": [],
   "source": [
    "for key, value in asg._include_edges.iteritems():\n",
    "    if not isinstance(value, basestring):\n",
    "        print value"
   ]
  },
  {
   "cell_type": "code",
   "execution_count": 18,
   "metadata": {
    "collapsed": true
   },
   "outputs": [],
   "source": [
    "for key, values in asg._base_edges.iteritems():\n",
    "    for value in values:\n",
    "        if not isinstance(value['base'], basestring):\n",
    "            print value"
   ]
  },
  {
   "cell_type": "code",
   "execution_count": 19,
   "metadata": {
    "collapsed": false
   },
   "outputs": [],
   "source": [
    "for key, values in asg._syntax_edges.iteritems():\n",
    "    for value in values:\n",
    "        if not isinstance(value, basestring):\n",
    "            print value"
   ]
  },
  {
   "cell_type": "code",
   "execution_count": 20,
   "metadata": {
    "collapsed": false
   },
   "outputs": [],
   "source": [
    "from vplants.autowig.asg import NodeProxy\n",
    "\n",
    "for key, values in asg._nodes.iteritems():\n",
    "    for value in values:\n",
    "        if isinstance(values[value], NodeProxy):\n",
    "            print key, value"
   ]
  },
  {
   "cell_type": "code",
   "execution_count": 21,
   "metadata": {
    "collapsed": false
   },
   "outputs": [
    {
     "name": "stderr",
     "output_type": "stream",
     "text": [
      "ERROR: No traceback has been produced, nothing to debug.\n"
     ]
    }
   ],
   "source": [
    "%debug"
   ]
  },
  {
   "cell_type": "code",
   "execution_count": 22,
   "metadata": {
    "collapsed": false,
    "scrolled": true
   },
   "outputs": [
    {
     "data": {
      "text/html": [
       "<!DOCTYPE html PUBLIC \"-//W3C//DTD HTML 4.01//EN\"\n",
       "   \"http://www.w3.org/TR/html4/strict.dtd\">\n",
       "\n",
       "<html>\n",
       "<head>\n",
       "  <title></title>\n",
       "  <meta http-equiv=\"content-type\" content=\"text/html; charset=None\">\n",
       "  <style type=\"text/css\">\n",
       "td.linenos { background-color: #f0f0f0; padding-right: 10px; }\n",
       "span.lineno { background-color: #f0f0f0; padding: 0 5px 0 5px; }\n",
       "pre { line-height: 125%; }\n",
       "body .hll { background-color: #ffffcc }\n",
       "body  { background: #f8f8f8; }\n",
       "body .c { color: #408080; font-style: italic } /* Comment */\n",
       "body .err { border: 1px solid #FF0000 } /* Error */\n",
       "body .k { color: #008000; font-weight: bold } /* Keyword */\n",
       "body .o { color: #666666 } /* Operator */\n",
       "body .ch { color: #408080; font-style: italic } /* Comment.Hashbang */\n",
       "body .cm { color: #408080; font-style: italic } /* Comment.Multiline */\n",
       "body .cp { color: #BC7A00 } /* Comment.Preproc */\n",
       "body .cpf { color: #408080; font-style: italic } /* Comment.PreprocFile */\n",
       "body .c1 { color: #408080; font-style: italic } /* Comment.Single */\n",
       "body .cs { color: #408080; font-style: italic } /* Comment.Special */\n",
       "body .gd { color: #A00000 } /* Generic.Deleted */\n",
       "body .ge { font-style: italic } /* Generic.Emph */\n",
       "body .gr { color: #FF0000 } /* Generic.Error */\n",
       "body .gh { color: #000080; font-weight: bold } /* Generic.Heading */\n",
       "body .gi { color: #00A000 } /* Generic.Inserted */\n",
       "body .go { color: #888888 } /* Generic.Output */\n",
       "body .gp { color: #000080; font-weight: bold } /* Generic.Prompt */\n",
       "body .gs { font-weight: bold } /* Generic.Strong */\n",
       "body .gu { color: #800080; font-weight: bold } /* Generic.Subheading */\n",
       "body .gt { color: #0044DD } /* Generic.Traceback */\n",
       "body .kc { color: #008000; font-weight: bold } /* Keyword.Constant */\n",
       "body .kd { color: #008000; font-weight: bold } /* Keyword.Declaration */\n",
       "body .kn { color: #008000; font-weight: bold } /* Keyword.Namespace */\n",
       "body .kp { color: #008000 } /* Keyword.Pseudo */\n",
       "body .kr { color: #008000; font-weight: bold } /* Keyword.Reserved */\n",
       "body .kt { color: #B00040 } /* Keyword.Type */\n",
       "body .m { color: #666666 } /* Literal.Number */\n",
       "body .s { color: #BA2121 } /* Literal.String */\n",
       "body .na { color: #7D9029 } /* Name.Attribute */\n",
       "body .nb { color: #008000 } /* Name.Builtin */\n",
       "body .nc { color: #0000FF; font-weight: bold } /* Name.Class */\n",
       "body .no { color: #880000 } /* Name.Constant */\n",
       "body .nd { color: #AA22FF } /* Name.Decorator */\n",
       "body .ni { color: #999999; font-weight: bold } /* Name.Entity */\n",
       "body .ne { color: #D2413A; font-weight: bold } /* Name.Exception */\n",
       "body .nf { color: #0000FF } /* Name.Function */\n",
       "body .nl { color: #A0A000 } /* Name.Label */\n",
       "body .nn { color: #0000FF; font-weight: bold } /* Name.Namespace */\n",
       "body .nt { color: #008000; font-weight: bold } /* Name.Tag */\n",
       "body .nv { color: #19177C } /* Name.Variable */\n",
       "body .ow { color: #AA22FF; font-weight: bold } /* Operator.Word */\n",
       "body .w { color: #bbbbbb } /* Text.Whitespace */\n",
       "body .mb { color: #666666 } /* Literal.Number.Bin */\n",
       "body .mf { color: #666666 } /* Literal.Number.Float */\n",
       "body .mh { color: #666666 } /* Literal.Number.Hex */\n",
       "body .mi { color: #666666 } /* Literal.Number.Integer */\n",
       "body .mo { color: #666666 } /* Literal.Number.Oct */\n",
       "body .sb { color: #BA2121 } /* Literal.String.Backtick */\n",
       "body .sc { color: #BA2121 } /* Literal.String.Char */\n",
       "body .sd { color: #BA2121; font-style: italic } /* Literal.String.Doc */\n",
       "body .s2 { color: #BA2121 } /* Literal.String.Double */\n",
       "body .se { color: #BB6622; font-weight: bold } /* Literal.String.Escape */\n",
       "body .sh { color: #BA2121 } /* Literal.String.Heredoc */\n",
       "body .si { color: #BB6688; font-weight: bold } /* Literal.String.Interpol */\n",
       "body .sx { color: #008000 } /* Literal.String.Other */\n",
       "body .sr { color: #BB6688 } /* Literal.String.Regex */\n",
       "body .s1 { color: #BA2121 } /* Literal.String.Single */\n",
       "body .ss { color: #19177C } /* Literal.String.Symbol */\n",
       "body .bp { color: #008000 } /* Name.Builtin.Pseudo */\n",
       "body .vc { color: #19177C } /* Name.Variable.Class */\n",
       "body .vg { color: #19177C } /* Name.Variable.Global */\n",
       "body .vi { color: #19177C } /* Name.Variable.Instance */\n",
       "body .il { color: #666666 } /* Literal.Number.Integer.Long */\n",
       "\n",
       "  </style>\n",
       "</head>\n",
       "<body>\n",
       "<h2></h2>\n",
       "\n",
       "<div class=\"highlight\"><pre><span class=\"go\">scons: Reading SConscript files ...</span>\n",
       "<span class=\"go\">scons: done reading SConscript files.</span>\n",
       "<span class=\"go\">scons: Building targets ...</span>\n",
       "<span class=\"go\">g++ -o build-scons/src/wrapper/_arma_sp_mat_iterator_base_dd21a5af50bc5901b17b5a489a90a164.os -c -DNDEBUG -O2 -std=c++0x -DNDEBUG -O2 -fPIC -ftemplate-depth-100 -DBOOST_PYTHON_DYNAMIC_LIB -Ibuild-scons/include -I/usr/include -I/usr/include/python2.7 build-scons/src/wrapper/_arma_sp_mat_iterator_base_dd21a5af50bc5901b17b5a489a90a164.cpp</span>\n",
       "<span class=\"go\">g++ -o build-scons/src/wrapper/_std_pair_dff0d8d9eb135e2187447d4336b74a9e.os -c -DNDEBUG -O2 -std=c++0x -DNDEBUG -O2 -fPIC -ftemplate-depth-100 -DBOOST_PYTHON_DYNAMIC_LIB -Ibuild-scons/include -I/usr/include -I/usr/include/python2.7 build-scons/src/wrapper/_std_pair_dff0d8d9eb135e2187447d4336b74a9e.cpp</span>\n",
       "<span class=\"go\">g++ -o build-scons/src/wrapper/_std_binary_function_55b4555fc5a250038e48372020b16954.os -c -DNDEBUG -O2 -std=c++0x -DNDEBUG -O2 -fPIC -ftemplate-depth-100 -DBOOST_PYTHON_DYNAMIC_LIB -Ibuild-scons/include -I/usr/include -I/usr/include/python2.7 build-scons/src/wrapper/_std_binary_function_55b4555fc5a250038e48372020b16954.cpp</span>\n",
       "<span class=\"go\">g++ -o build-scons/src/wrapper/_std_ios_seekdir.os -c -DNDEBUG -O2 -std=c++0x -DNDEBUG -O2 -fPIC -ftemplate-depth-100 -DBOOST_PYTHON_DYNAMIC_LIB -Ibuild-scons/include -I/usr/include -I/usr/include/python2.7 build-scons/src/wrapper/_std_ios_seekdir.cpp</span>\n",
       "<span class=\"go\">g++ -o build-scons/src/wrapper/_gnu_cxx_normal_iterator_be25d972a612533d88e9269d20fe99c3.os -c -DNDEBUG -O2 -std=c++0x -DNDEBUG -O2 -fPIC -ftemplate-depth-100 -DBOOST_PYTHON_DYNAMIC_LIB -Ibuild-scons/include -I/usr/include -I/usr/include/python2.7 build-scons/src/wrapper/_gnu_cxx_normal_iterator_be25d972a612533d88e9269d20fe99c3.cpp</span>\n",
       "<span class=\"go\">g++ -o build-scons/src/wrapper/_arma_subview_each_1_2eaf6147c2f35a4e8d827f88b87bf6b4.os -c -DNDEBUG -O2 -std=c++0x -DNDEBUG -O2 -fPIC -ftemplate-depth-100 -DBOOST_PYTHON_DYNAMIC_LIB -Ibuild-scons/include -I/usr/include -I/usr/include/python2.7 build-scons/src/wrapper/_arma_subview_each_1_2eaf6147c2f35a4e8d827f88b87bf6b4.cpp</span>\n",
       "<span class=\"go\">g++ -o build-scons/src/wrapper/_arma_base_f7e6ff685399593bbd306b5253a67c50.os -c -DNDEBUG -O2 -std=c++0x -DNDEBUG -O2 -fPIC -ftemplate-depth-100 -DBOOST_PYTHON_DYNAMIC_LIB -Ibuild-scons/include -I/usr/include -I/usr/include/python2.7 build-scons/src/wrapper/_arma_base_f7e6ff685399593bbd306b5253a67c50.cpp</span>\n",
       "<span class=\"go\">g++ -o build-scons/src/wrapper/_std_iterator_e2939ea540a3530ab8cd010eb465779c.os -c -DNDEBUG -O2 -std=c++0x -DNDEBUG -O2 -fPIC -ftemplate-depth-100 -DBOOST_PYTHON_DYNAMIC_LIB -Ibuild-scons/include -I/usr/include -I/usr/include/python2.7 build-scons/src/wrapper/_std_iterator_e2939ea540a3530ab8cd010eb465779c.cpp</span>\n",
       "<span class=\"go\">g++ -o build-scons/src/wrapper/_std_reverse_iterator_86dab9d1904a5cd9949b1212599f81ef.os -c -DNDEBUG -O2 -std=c++0x -DNDEBUG -O2 -fPIC -ftemplate-depth-100 -DBOOST_PYTHON_DYNAMIC_LIB -Ibuild-scons/include -I/usr/include -I/usr/include/python2.7 build-scons/src/wrapper/_std_reverse_iterator_86dab9d1904a5cd9949b1212599f81ef.cpp</span>\n",
       "<span class=\"go\">g++ -o build-scons/src/wrapper/_gnu_cxx_normal_iterator_41fc9352f98e5f81a807536334abaf0a.os -c -DNDEBUG -O2 -std=c++0x -DNDEBUG -O2 -fPIC -ftemplate-depth-100 -DBOOST_PYTHON_DYNAMIC_LIB -Ibuild-scons/include -I/usr/include -I/usr/include/python2.7 build-scons/src/wrapper/_gnu_cxx_normal_iterator_41fc9352f98e5f81a807536334abaf0a.cpp</span>\n",
       "<span class=\"go\">g++ -o build-scons/src/wrapper/_arma_op_682cd46a4b2854758641ac49b4b9c0b8.os -c -DNDEBUG -O2 -std=c++0x -DNDEBUG -O2 -fPIC -ftemplate-depth-100 -DBOOST_PYTHON_DYNAMIC_LIB -Ibuild-scons/include -I/usr/include -I/usr/include/python2.7 build-scons/src/wrapper/_arma_op_682cd46a4b2854758641ac49b4b9c0b8.cpp</span>\n",
       "<span class=\"go\">g++ -o build-scons/src/wrapper/_std_set_505e316e9d405a1599227e17b799e0e2.os -c -DNDEBUG -O2 -std=c++0x -DNDEBUG -O2 -fPIC -ftemplate-depth-100 -DBOOST_PYTHON_DYNAMIC_LIB -Ibuild-scons/include -I/usr/include -I/usr/include/python2.7 build-scons/src/wrapper/_std_set_505e316e9d405a1599227e17b799e0e2.cpp</span>\n",
       "<span class=\"go\">g++ -o build-scons/src/wrapper/_arma_sp_base_e7aabbc68d375275b170e0fc0d246282.os -c -DNDEBUG -O2 -std=c++0x -DNDEBUG -O2 -fPIC -ftemplate-depth-100 -DBOOST_PYTHON_DYNAMIC_LIB -Ibuild-scons/include -I/usr/include -I/usr/include/python2.7 build-scons/src/wrapper/_arma_sp_base_e7aabbc68d375275b170e0fc0d246282.cpp</span>\n",
       "<span class=\"go\">g++ -o build-scons/src/wrapper/_arma_mat_a1c6595547c1506594939b4db70e1a6e.os -c -DNDEBUG -O2 -std=c++0x -DNDEBUG -O2 -fPIC -ftemplate-depth-100 -DBOOST_PYTHON_DYNAMIC_LIB -Ibuild-scons/include -I/usr/include -I/usr/include/python2.7 build-scons/src/wrapper/_arma_mat_a1c6595547c1506594939b4db70e1a6e.cpp</span>\n",
       "<span class=\"go\">g++ -o build-scons/src/wrapper/_arma_diagview_69009e26379a57d7934ecbf7e331082b.os -c -DNDEBUG -O2 -std=c++0x -DNDEBUG -O2 -fPIC -ftemplate-depth-100 -DBOOST_PYTHON_DYNAMIC_LIB -Ibuild-scons/include -I/usr/include -I/usr/include/python2.7 build-scons/src/wrapper/_arma_diagview_69009e26379a57d7934ecbf7e331082b.cpp</span>\n",
       "<span class=\"go\">g++ -o build-scons/src/wrapper/_std_ios_base_init.os -c -DNDEBUG -O2 -std=c++0x -DNDEBUG -O2 -fPIC -ftemplate-depth-100 -DBOOST_PYTHON_DYNAMIC_LIB -Ibuild-scons/include -I/usr/include -I/usr/include/python2.7 build-scons/src/wrapper/_std_ios_base_init.cpp</span>\n",
       "<span class=\"go\">g++ -o build-scons/src/wrapper/_arma_subview_col_23badeabb0715e68af5af97c5878ddf6.os -c -DNDEBUG -O2 -std=c++0x -DNDEBUG -O2 -fPIC -ftemplate-depth-100 -DBOOST_PYTHON_DYNAMIC_LIB -Ibuild-scons/include -I/usr/include -I/usr/include/python2.7 build-scons/src/wrapper/_arma_subview_col_23badeabb0715e68af5af97c5878ddf6.cpp</span>\n",
       "<span class=\"go\">g++ -o build-scons/src/wrapper/_arma_base_eval_expr_92ebb3e037c550c5ac922aa566c047a1.os -c -DNDEBUG -O2 -std=c++0x -DNDEBUG -O2 -fPIC -ftemplate-depth-100 -DBOOST_PYTHON_DYNAMIC_LIB -Ibuild-scons/include -I/usr/include -I/usr/include/python2.7 build-scons/src/wrapper/_arma_base_eval_expr_92ebb3e037c550c5ac922aa566c047a1.cpp</span>\n",
       "<span class=\"go\">g++ -o build-scons/src/wrapper/_std_pair_15e6545fba325fd2929ca8c2c24d2758.os -c -DNDEBUG -O2 -std=c++0x -DNDEBUG -O2 -fPIC -ftemplate-depth-100 -DBOOST_PYTHON_DYNAMIC_LIB -Ibuild-scons/include -I/usr/include -I/usr/include/python2.7 build-scons/src/wrapper/_std_pair_15e6545fba325fd2929ca8c2c24d2758.cpp</span>\n",
       "<span class=\"go\">g++ -o build-scons/src/wrapper/_std_iterator_6b8921be0f2256abbbe2f9d96d586989.os -c -DNDEBUG -O2 -std=c++0x -DNDEBUG -O2 -fPIC -ftemplate-depth-100 -DBOOST_PYTHON_DYNAMIC_LIB -Ibuild-scons/include -I/usr/include -I/usr/include/python2.7 build-scons/src/wrapper/_std_iterator_6b8921be0f2256abbbe2f9d96d586989.cpp</span>\n",
       "<span class=\"go\">g++ -o build-scons/src/wrapper/_arma_base_trans_default_8efc3cf153a45476b3cb37c306c0cfaa.os -c -DNDEBUG -O2 -std=c++0x -DNDEBUG -O2 -fPIC -ftemplate-depth-100 -DBOOST_PYTHON_DYNAMIC_LIB -Ibuild-scons/include -I/usr/include -I/usr/include/python2.7 build-scons/src/wrapper/_arma_base_trans_default_8efc3cf153a45476b3cb37c306c0cfaa.cpp</span>\n",
       "<span class=\"go\">g++ -o build-scons/src/wrapper/_std_pair_ebe87ad2aad65c01ba0c8e1cd4935a51.os -c -DNDEBUG -O2 -std=c++0x -DNDEBUG -O2 -fPIC -ftemplate-depth-100 -DBOOST_PYTHON_DYNAMIC_LIB -Ibuild-scons/include -I/usr/include -I/usr/include/python2.7 build-scons/src/wrapper/_std_pair_ebe87ad2aad65c01ba0c8e1cd4935a51.cpp</span>\n",
       "<span class=\"go\">g++ -o build-scons/src/wrapper/_arma_sp_col_02fcbdad0d155aee81d4f5ed91790061.os -c -DNDEBUG -O2 -std=c++0x -DNDEBUG -O2 -fPIC -ftemplate-depth-100 -DBOOST_PYTHON_DYNAMIC_LIB -Ibuild-scons/include -I/usr/include -I/usr/include/python2.7 build-scons/src/wrapper/_arma_sp_col_02fcbdad0d155aee81d4f5ed91790061.cpp</span>\n",
       "<span class=\"go\">g++ -o build-scons/src/wrapper/_arma_base_cube_454cdd9ee66f54c0b6b8e49314dcd746.os -c -DNDEBUG -O2 -std=c++0x -DNDEBUG -O2 -fPIC -ftemplate-depth-100 -DBOOST_PYTHON_DYNAMIC_LIB -Ibuild-scons/include -I/usr/include -I/usr/include/python2.7 build-scons/src/wrapper/_arma_base_cube_454cdd9ee66f54c0b6b8e49314dcd746.cpp</span>\n",
       "<span class=\"go\">g++ -o build-scons/src/wrapper/_std_basic_ostream_d2368b7a8f79566f82141f26afccb03c.os -c -DNDEBUG -O2 -std=c++0x -DNDEBUG -O2 -fPIC -ftemplate-depth-100 -DBOOST_PYTHON_DYNAMIC_LIB -Ibuild-scons/include -I/usr/include -I/usr/include/python2.7 build-scons/src/wrapper/_std_basic_ostream_d2368b7a8f79566f82141f26afccb03c.cpp</span>\n",
       "<span class=\"go\">g++ -o build-scons/src/wrapper/_std_rb_tree_iterator_b517c216ca715db5ba68a831b03be6e9.os -c -DNDEBUG -O2 -std=c++0x -DNDEBUG -O2 -fPIC -ftemplate-depth-100 -DBOOST_PYTHON_DYNAMIC_LIB -Ibuild-scons/include -I/usr/include -I/usr/include/python2.7 build-scons/src/wrapper/_std_rb_tree_iterator_b517c216ca715db5ba68a831b03be6e9.cpp</span>\n",
       "<span class=\"go\">g++ -o build-scons/src/wrapper/_arma_base_cube_d81a81f69c0950bd9f7a8103ddd2d065.os -c -DNDEBUG -O2 -std=c++0x -DNDEBUG -O2 -fPIC -ftemplate-depth-100 -DBOOST_PYTHON_DYNAMIC_LIB -Ibuild-scons/include -I/usr/include -I/usr/include/python2.7 build-scons/src/wrapper/_arma_base_cube_d81a81f69c0950bd9f7a8103ddd2d065.cpp</span>\n",
       "<span class=\"go\">g++ -o build-scons/src/wrapper/_arma_sp_subview_iterator_690d256dffeb5999afcaf5b74d00936a.os -c -DNDEBUG -O2 -std=c++0x -DNDEBUG -O2 -fPIC -ftemplate-depth-100 -DBOOST_PYTHON_DYNAMIC_LIB -Ibuild-scons/include -I/usr/include -I/usr/include/python2.7 build-scons/src/wrapper/_arma_sp_subview_iterator_690d256dffeb5999afcaf5b74d00936a.cpp</span>\n",
       "<span class=\"go\">g++ -o build-scons/src/wrapper/_std_allocator_263df74f4895556a86f097ead15dac0d.os -c -DNDEBUG -O2 -std=c++0x -DNDEBUG -O2 -fPIC -ftemplate-depth-100 -DBOOST_PYTHON_DYNAMIC_LIB -Ibuild-scons/include -I/usr/include -I/usr/include/python2.7 build-scons/src/wrapper/_std_allocator_263df74f4895556a86f097ead15dac0d.cpp</span>\n",
       "<span class=\"go\">g++ -o build-scons/src/wrapper/_std_allocator_7d6d2e9120b9547a9815cecd949f91d6.os -c -DNDEBUG -O2 -std=c++0x -DNDEBUG -O2 -fPIC -ftemplate-depth-100 -DBOOST_PYTHON_DYNAMIC_LIB -Ibuild-scons/include -I/usr/include -I/usr/include/python2.7 build-scons/src/wrapper/_std_allocator_7d6d2e9120b9547a9815cecd949f91d6.cpp</span>\n",
       "<span class=\"go\">g++ -o build-scons/src/wrapper/_arma_subview_cube_1a6f2aaf934c5585b38f17acfb6a1cca.os -c -DNDEBUG -O2 -std=c++0x -DNDEBUG -O2 -fPIC -ftemplate-depth-100 -DBOOST_PYTHON_DYNAMIC_LIB -Ibuild-scons/include -I/usr/include -I/usr/include/python2.7 build-scons/src/wrapper/_arma_subview_cube_1a6f2aaf934c5585b38f17acfb6a1cca.cpp</span>\n",
       "<span class=\"go\">g++ -o build-scons/src/wrapper/_std_reverse_iterator_a0785695bf6b58b69d0ab0324e218c80.os -c -DNDEBUG -O2 -std=c++0x -DNDEBUG -O2 -fPIC -ftemplate-depth-100 -DBOOST_PYTHON_DYNAMIC_LIB -Ibuild-scons/include -I/usr/include -I/usr/include/python2.7 build-scons/src/wrapper/_std_reverse_iterator_a0785695bf6b58b69d0ab0324e218c80.cpp</span>\n",
       "<span class=\"go\">g++ -o build-scons/src/wrapper/_std_set_dd0a0a85c2d85c459e2c30bcacfd8277.os -c -DNDEBUG -O2 -std=c++0x -DNDEBUG -O2 -fPIC -ftemplate-depth-100 -DBOOST_PYTHON_DYNAMIC_LIB -Ibuild-scons/include -I/usr/include -I/usr/include/python2.7 build-scons/src/wrapper/_std_set_dd0a0a85c2d85c459e2c30bcacfd8277.cpp</span>\n",
       "<span class=\"go\">g++ -o build-scons/src/wrapper/_arma_span.os -c -DNDEBUG -O2 -std=c++0x -DNDEBUG -O2 -fPIC -ftemplate-depth-100 -DBOOST_PYTHON_DYNAMIC_LIB -Ibuild-scons/include -I/usr/include -I/usr/include/python2.7 build-scons/src/wrapper/_arma_span.cpp</span>\n",
       "<span class=\"go\">g++ -o build-scons/src/wrapper/_std_ios_base.os -c -DNDEBUG -O2 -std=c++0x -DNDEBUG -O2 -fPIC -ftemplate-depth-100 -DBOOST_PYTHON_DYNAMIC_LIB -Ibuild-scons/include -I/usr/include -I/usr/include/python2.7 build-scons/src/wrapper/_std_ios_base.cpp</span>\n",
       "<span class=\"go\">g++ -o build-scons/src/wrapper/_arma_base_inv_yes_90da73bf5e6054d29338c4186e481ddf.os -c -DNDEBUG -O2 -std=c++0x -DNDEBUG -O2 -fPIC -ftemplate-depth-100 -DBOOST_PYTHON_DYNAMIC_LIB -Ibuild-scons/include -I/usr/include -I/usr/include/python2.7 build-scons/src/wrapper/_arma_base_inv_yes_90da73bf5e6054d29338c4186e481ddf.cpp</span>\n",
       "<span class=\"go\">g++ -o build-scons/src/wrapper/_std_reverse_iterator_6f8adf63b81459f7b4cfb5057c1c12ac.os -c -DNDEBUG -O2 -std=c++0x -DNDEBUG -O2 -fPIC -ftemplate-depth-100 -DBOOST_PYTHON_DYNAMIC_LIB -Ibuild-scons/include -I/usr/include -I/usr/include/python2.7 build-scons/src/wrapper/_std_reverse_iterator_6f8adf63b81459f7b4cfb5057c1c12ac.cpp</span>\n",
       "<span class=\"go\">g++ -o build-scons/src/wrapper/_std_initializer_list_586ff11f720e5052bd75352b66868b1d.os -c -DNDEBUG -O2 -std=c++0x -DNDEBUG -O2 -fPIC -ftemplate-depth-100 -DBOOST_PYTHON_DYNAMIC_LIB -Ibuild-scons/include -I/usr/include -I/usr/include/python2.7 build-scons/src/wrapper/_std_initializer_list_586ff11f720e5052bd75352b66868b1d.cpp</span>\n",
       "<span class=\"go\">g++ -o build-scons/src/wrapper/_std_allocator_0a5705dfc4e05159947cf0c0e06bc444.os -c -DNDEBUG -O2 -std=c++0x -DNDEBUG -O2 -fPIC -ftemplate-depth-100 -DBOOST_PYTHON_DYNAMIC_LIB -Ibuild-scons/include -I/usr/include -I/usr/include/python2.7 build-scons/src/wrapper/_std_allocator_0a5705dfc4e05159947cf0c0e06bc444.cpp</span>\n",
       "<span class=\"go\">g++ -o build-scons/src/wrapper/_arma_op_4177a28456f053d7aedb1d49bf449f59.os -c -DNDEBUG -O2 -std=c++0x -DNDEBUG -O2 -fPIC -ftemplate-depth-100 -DBOOST_PYTHON_DYNAMIC_LIB -Ibuild-scons/include -I/usr/include -I/usr/include/python2.7 build-scons/src/wrapper/_arma_op_4177a28456f053d7aedb1d49bf449f59.cpp</span>\n",
       "<span class=\"go\">g++ -o build-scons/src/wrapper/_std_reverse_iterator_841fe44ddbad53e5b9da7917633a2ac7.os -c -DNDEBUG -O2 -std=c++0x -DNDEBUG -O2 -fPIC -ftemplate-depth-100 -DBOOST_PYTHON_DYNAMIC_LIB -Ibuild-scons/include -I/usr/include -I/usr/include/python2.7 build-scons/src/wrapper/_std_reverse_iterator_841fe44ddbad53e5b9da7917633a2ac7.cpp</span>\n",
       "<span class=\"go\">g++ -o build-scons/src/wrapper/_std_iterator_2b8fbf26714b5bdea3018afe8eae794e.os -c -DNDEBUG -O2 -std=c++0x -DNDEBUG -O2 -fPIC -ftemplate-depth-100 -DBOOST_PYTHON_DYNAMIC_LIB -Ibuild-scons/include -I/usr/include -I/usr/include/python2.7 build-scons/src/wrapper/_std_iterator_2b8fbf26714b5bdea3018afe8eae794e.cpp</span>\n",
       "<span class=\"go\">g++ -o build-scons/src/wrapper/_std_set_cb22ea540e395c29b0cf03fc7bdf6c2d.os -c -DNDEBUG -O2 -std=c++0x -DNDEBUG -O2 -fPIC -ftemplate-depth-100 -DBOOST_PYTHON_DYNAMIC_LIB -Ibuild-scons/include -I/usr/include -I/usr/include/python2.7 build-scons/src/wrapper/_std_set_cb22ea540e395c29b0cf03fc7bdf6c2d.cpp</span>\n",
       "<span class=\"go\">g++ -o build-scons/src/wrapper/_std_ios_fmtflags.os -c -DNDEBUG -O2 -std=c++0x -DNDEBUG -O2 -fPIC -ftemplate-depth-100 -DBOOST_PYTHON_DYNAMIC_LIB -Ibuild-scons/include -I/usr/include -I/usr/include/python2.7 build-scons/src/wrapper/_std_ios_fmtflags.cpp</span>\n",
       "<span class=\"go\">g++ -o build-scons/src/wrapper/_std_exception.os -c -DNDEBUG -O2 -std=c++0x -DNDEBUG -O2 -fPIC -ftemplate-depth-100 -DBOOST_PYTHON_DYNAMIC_LIB -Ibuild-scons/include -I/usr/include -I/usr/include/python2.7 build-scons/src/wrapper/_std_exception.cpp</span>\n",
       "<span class=\"go\">g++ -o build-scons/src/wrapper/_std_rb_tree_iterator_19ebcbb89d245d4fa3cfa1d7d34689ca.os -c -DNDEBUG -O2 -std=c++0x -DNDEBUG -O2 -fPIC -ftemplate-depth-100 -DBOOST_PYTHON_DYNAMIC_LIB -Ibuild-scons/include -I/usr/include -I/usr/include/python2.7 build-scons/src/wrapper/_std_rb_tree_iterator_19ebcbb89d245d4fa3cfa1d7d34689ca.cpp</span>\n",
       "<span class=\"go\">g++ -o build-scons/src/wrapper/_std_initializer_list_6dd289a82ada550d915b31a7d442f252.os -c -DNDEBUG -O2 -std=c++0x -DNDEBUG -O2 -fPIC -ftemplate-depth-100 -DBOOST_PYTHON_DYNAMIC_LIB -Ibuild-scons/include -I/usr/include -I/usr/include/python2.7 build-scons/src/wrapper/_std_initializer_list_6dd289a82ada550d915b31a7d442f252.cpp</span>\n",
       "<span class=\"go\">g++ -o build-scons/src/wrapper/_arma_subview_each_common_a312dd619aa6512a8507e5e11abd649b.os -c -DNDEBUG -O2 -std=c++0x -DNDEBUG -O2 -fPIC -ftemplate-depth-100 -DBOOST_PYTHON_DYNAMIC_LIB -Ibuild-scons/include -I/usr/include -I/usr/include/python2.7 build-scons/src/wrapper/_arma_subview_each_common_a312dd619aa6512a8507e5e11abd649b.cpp</span>\n",
       "<span class=\"go\">g++ -o build-scons/src/wrapper/_arma_op_394d3dd6c86b572a99c11a889bdbdb69.os -c -DNDEBUG -O2 -std=c++0x -DNDEBUG -O2 -fPIC -ftemplate-depth-100 -DBOOST_PYTHON_DYNAMIC_LIB -Ibuild-scons/include -I/usr/include -I/usr/include/python2.7 build-scons/src/wrapper/_arma_op_394d3dd6c86b572a99c11a889bdbdb69.cpp</span>\n",
       "<span class=\"go\">g++ -o build-scons/src/wrapper/_std_vector_47c6298461835c16ba3ff35172133373.os -c -DNDEBUG -O2 -std=c++0x -DNDEBUG -O2 -fPIC -ftemplate-depth-100 -DBOOST_PYTHON_DYNAMIC_LIB -Ibuild-scons/include -I/usr/include -I/usr/include/python2.7 build-scons/src/wrapper/_std_vector_47c6298461835c16ba3ff35172133373.cpp</span>\n",
       "<span class=\"go\">g++ -o build-scons/src/wrapper/_std_ios_base_event.os -c -DNDEBUG -O2 -std=c++0x -DNDEBUG -O2 -fPIC -ftemplate-depth-100 -DBOOST_PYTHON_DYNAMIC_LIB -Ibuild-scons/include -I/usr/include -I/usr/include/python2.7 build-scons/src/wrapper/_std_ios_base_event.cpp</span>\n",
       "<span class=\"go\">g++ -o build-scons/src/wrapper/_arma_sp_base_eval_sp_mat_2609d2bdcb4355f5886197fcc889865e.os -c -DNDEBUG -O2 -std=c++0x -DNDEBUG -O2 -fPIC -ftemplate-depth-100 -DBOOST_PYTHON_DYNAMIC_LIB -Ibuild-scons/include -I/usr/include -I/usr/include/python2.7 build-scons/src/wrapper/_arma_sp_base_eval_sp_mat_2609d2bdcb4355f5886197fcc889865e.cpp</span>\n",
       "<span class=\"go\">g++ -o build-scons/src/wrapper/_std_iterator_49e2a6bd8fc3535096ae6e982b54edb1.os -c -DNDEBUG -O2 -std=c++0x -DNDEBUG -O2 -fPIC -ftemplate-depth-100 -DBOOST_PYTHON_DYNAMIC_LIB -Ibuild-scons/include -I/usr/include -I/usr/include/python2.7 build-scons/src/wrapper/_std_iterator_49e2a6bd8fc3535096ae6e982b54edb1.cpp</span>\n",
       "<span class=\"go\">g++ -o build-scons/src/wrapper/_std_reverse_iterator_24d82582518959eaad4688836f9a48a0.os -c -DNDEBUG -O2 -std=c++0x -DNDEBUG -O2 -fPIC -ftemplate-depth-100 -DBOOST_PYTHON_DYNAMIC_LIB -Ibuild-scons/include -I/usr/include -I/usr/include/python2.7 build-scons/src/wrapper/_std_reverse_iterator_24d82582518959eaad4688836f9a48a0.cpp</span>\n",
       "<span class=\"go\">g++ -o build-scons/src/wrapper/_std_allocator_ce66b49ffb675af5b5b10b900c383be7.os -c -DNDEBUG -O2 -std=c++0x -DNDEBUG -O2 -fPIC -ftemplate-depth-100 -DBOOST_PYTHON_DYNAMIC_LIB -Ibuild-scons/include -I/usr/include -I/usr/include/python2.7 build-scons/src/wrapper/_std_allocator_ce66b49ffb675af5b5b10b900c383be7.cpp</span>\n",
       "<span class=\"go\">g++ -o build-scons/src/wrapper/_arma_base_trans_default_a965556604f9573b9750e69bbd32bed5.os -c -DNDEBUG -O2 -std=c++0x -DNDEBUG -O2 -fPIC -ftemplate-depth-100 -DBOOST_PYTHON_DYNAMIC_LIB -Ibuild-scons/include -I/usr/include -I/usr/include/python2.7 build-scons/src/wrapper/_arma_base_trans_default_a965556604f9573b9750e69bbd32bed5.cpp</span>\n",
       "<span class=\"go\">g++ -o build-scons/src/wrapper/_arma_sp_base_7d751ceb6c6659318f9f57bc371933f0.os -c -DNDEBUG -O2 -std=c++0x -DNDEBUG -O2 -fPIC -ftemplate-depth-100 -DBOOST_PYTHON_DYNAMIC_LIB -Ibuild-scons/include -I/usr/include -I/usr/include/python2.7 build-scons/src/wrapper/_arma_sp_base_7d751ceb6c6659318f9f57bc371933f0.cpp</span>\n",
       "<span class=\"go\">g++ -o build-scons/src/wrapper/_std_iterator_3c8e16b4d29150b99f75934373985f58.os -c -DNDEBUG -O2 -std=c++0x -DNDEBUG -O2 -fPIC -ftemplate-depth-100 -DBOOST_PYTHON_DYNAMIC_LIB -Ibuild-scons/include -I/usr/include -I/usr/include/python2.7 build-scons/src/wrapper/_std_iterator_3c8e16b4d29150b99f75934373985f58.cpp</span>\n",
       "<span class=\"go\">g++ -o build-scons/src/wrapper/_arma_sp_mat_const_row_iterator_74422668b1975b4fa2089fbce26319e9.os -c -DNDEBUG -O2 -std=c++0x -DNDEBUG -O2 -fPIC -ftemplate-depth-100 -DBOOST_PYTHON_DYNAMIC_LIB -Ibuild-scons/include -I/usr/include -I/usr/include/python2.7 build-scons/src/wrapper/_arma_sp_mat_const_row_iterator_74422668b1975b4fa2089fbce26319e9.cpp</span>\n",
       "<span class=\"go\">g++ -o build-scons/src/wrapper/_arma_sp_mat_iterator_bdc1befec1c45d64a24ae09116147abd.os -c -DNDEBUG -O2 -std=c++0x -DNDEBUG -O2 -fPIC -ftemplate-depth-100 -DBOOST_PYTHON_DYNAMIC_LIB -Ibuild-scons/include -I/usr/include -I/usr/include/python2.7 build-scons/src/wrapper/_arma_sp_mat_iterator_bdc1befec1c45d64a24ae09116147abd.cpp</span>\n",
       "<span class=\"go\">g++ -o build-scons/src/wrapper/_std_rb_tree_color.os -c -DNDEBUG -O2 -std=c++0x -DNDEBUG -O2 -fPIC -ftemplate-depth-100 -DBOOST_PYTHON_DYNAMIC_LIB -Ibuild-scons/include -I/usr/include -I/usr/include/python2.7 build-scons/src/wrapper/_std_rb_tree_color.cpp</span>\n",
       "<span class=\"go\">g++ -o build-scons/src/wrapper/_arma_mat_injector_86f63991644d59e8942a651de046b40a.os -c -DNDEBUG -O2 -std=c++0x -DNDEBUG -O2 -fPIC -ftemplate-depth-100 -DBOOST_PYTHON_DYNAMIC_LIB -Ibuild-scons/include -I/usr/include -I/usr/include/python2.7 build-scons/src/wrapper/_arma_mat_injector_86f63991644d59e8942a651de046b40a.cpp</span>\n",
       "<span class=\"go\">g++ -o build-scons/src/wrapper/_arma_span_alt.os -c -DNDEBUG -O2 -std=c++0x -DNDEBUG -O2 -fPIC -ftemplate-depth-100 -DBOOST_PYTHON_DYNAMIC_LIB -Ibuild-scons/include -I/usr/include -I/usr/include/python2.7 build-scons/src/wrapper/_arma_span_alt.cpp</span>\n",
       "<span class=\"go\">g++ -o build-scons/src/wrapper/_std_basic_ios_dc0bed07c88f59b7b3e4f11a1fde9779.os -c -DNDEBUG -O2 -std=c++0x -DNDEBUG -O2 -fPIC -ftemplate-depth-100 -DBOOST_PYTHON_DYNAMIC_LIB -Ibuild-scons/include -I/usr/include -I/usr/include/python2.7 build-scons/src/wrapper/_std_basic_ios_dc0bed07c88f59b7b3e4f11a1fde9779.cpp</span>\n",
       "<span class=\"go\">g++ -o build-scons/src/wrapper/_std_reverse_iterator_8a24c447297750d4ae049ad4ff5b01b5.os -c -DNDEBUG -O2 -std=c++0x -DNDEBUG -O2 -fPIC -ftemplate-depth-100 -DBOOST_PYTHON_DYNAMIC_LIB -Ibuild-scons/include -I/usr/include -I/usr/include/python2.7 build-scons/src/wrapper/_std_reverse_iterator_8a24c447297750d4ae049ad4ff5b01b5.cpp</span>\n",
       "<span class=\"go\">g++ -o build-scons/src/wrapper/_std_runtime_error.os -c -DNDEBUG -O2 -std=c++0x -DNDEBUG -O2 -fPIC -ftemplate-depth-100 -DBOOST_PYTHON_DYNAMIC_LIB -Ibuild-scons/include -I/usr/include -I/usr/include/python2.7 build-scons/src/wrapper/_std_runtime_error.cpp</span>\n",
       "<span class=\"go\">g++ -o build-scons/src/wrapper/_arma_base_eval_expr_1ef512516e965b0d86aa2aa4e3e1df0f.os -c -DNDEBUG -O2 -std=c++0x -DNDEBUG -O2 -fPIC -ftemplate-depth-100 -DBOOST_PYTHON_DYNAMIC_LIB -Ibuild-scons/include -I/usr/include -I/usr/include/python2.7 build-scons/src/wrapper/_arma_base_eval_expr_1ef512516e965b0d86aa2aa4e3e1df0f.cpp</span>\n",
       "<span class=\"go\">g++ -o build-scons/src/wrapper/_std_binary_function_c524538be611580a9d1a78390a081cc2.os -c -DNDEBUG -O2 -std=c++0x -DNDEBUG -O2 -fPIC -ftemplate-depth-100 -DBOOST_PYTHON_DYNAMIC_LIB -Ibuild-scons/include -I/usr/include -I/usr/include/python2.7 build-scons/src/wrapper/_std_binary_function_c524538be611580a9d1a78390a081cc2.cpp</span>\n",
       "<span class=\"go\">g++ -o build-scons/src/wrapper/_gnu_cxx_new_allocator_4cc032d4c9895aceb60fe81b98f10fef.os -c -DNDEBUG -O2 -std=c++0x -DNDEBUG -O2 -fPIC -ftemplate-depth-100 -DBOOST_PYTHON_DYNAMIC_LIB -Ibuild-scons/include -I/usr/include -I/usr/include/python2.7 build-scons/src/wrapper/_gnu_cxx_new_allocator_4cc032d4c9895aceb60fe81b98f10fef.cpp</span>\n",
       "<span class=\"go\">g++ -o build-scons/src/wrapper/_std_pair_43b5c3907ba95bb289cfa186a716eacc.os -c -DNDEBUG -O2 -std=c++0x -DNDEBUG -O2 -fPIC -ftemplate-depth-100 -DBOOST_PYTHON_DYNAMIC_LIB -Ibuild-scons/include -I/usr/include -I/usr/include/python2.7 build-scons/src/wrapper/_std_pair_43b5c3907ba95bb289cfa186a716eacc.cpp</span>\n",
       "<span class=\"go\">g++ -o build-scons/src/wrapper/_arma_base_b95d975e29625e3495e78241f86f3b46.os -c -DNDEBUG -O2 -std=c++0x -DNDEBUG -O2 -fPIC -ftemplate-depth-100 -DBOOST_PYTHON_DYNAMIC_LIB -Ibuild-scons/include -I/usr/include -I/usr/include/python2.7 build-scons/src/wrapper/_arma_base_b95d975e29625e3495e78241f86f3b46.cpp</span>\n",
       "<span class=\"go\">g++ -o build-scons/src/wrapper/_std_allocator_rebind_8697a839b65352aa915feca0f9381daa.os -c -DNDEBUG -O2 -std=c++0x -DNDEBUG -O2 -fPIC -ftemplate-depth-100 -DBOOST_PYTHON_DYNAMIC_LIB -Ibuild-scons/include -I/usr/include -I/usr/include/python2.7 build-scons/src/wrapper/_std_allocator_rebind_8697a839b65352aa915feca0f9381daa.cpp</span>\n",
       "<span class=\"go\">g++ -o build-scons/src/wrapper/_arma_size_cube.os -c -DNDEBUG -O2 -std=c++0x -DNDEBUG -O2 -fPIC -ftemplate-depth-100 -DBOOST_PYTHON_DYNAMIC_LIB -Ibuild-scons/include -I/usr/include -I/usr/include/python2.7 build-scons/src/wrapper/_arma_size_cube.cpp</span>\n",
       "<span class=\"go\">g++ -o build-scons/src/wrapper/_std_ostreambuf_iterator_8ed59c366b1d5196ad34b13b32ead60f.os -c -DNDEBUG -O2 -std=c++0x -DNDEBUG -O2 -fPIC -ftemplate-depth-100 -DBOOST_PYTHON_DYNAMIC_LIB -Ibuild-scons/include -I/usr/include -I/usr/include/python2.7 build-scons/src/wrapper/_std_ostreambuf_iterator_8ed59c366b1d5196ad34b13b32ead60f.cpp</span>\n",
       "<span class=\"go\">g++ -o build-scons/src/wrapper/_arma.os -c -DNDEBUG -O2 -std=c++0x -DNDEBUG -O2 -fPIC -ftemplate-depth-100 -DBOOST_PYTHON_DYNAMIC_LIB -Ibuild-scons/include -I/usr/include -I/usr/include/python2.7 build-scons/src/wrapper/_arma.cpp</span>\n",
       "<span class=\"go\">g++ -o build-scons/src/wrapper/_std.os -c -DNDEBUG -O2 -std=c++0x -DNDEBUG -O2 -fPIC -ftemplate-depth-100 -DBOOST_PYTHON_DYNAMIC_LIB -Ibuild-scons/include -I/usr/include -I/usr/include/python2.7 build-scons/src/wrapper/_std.cpp</span>\n",
       "<span class=\"go\">g++ -o build-scons/src/wrapper/_arma_spdiagview_7fd9bc64de0f5fd3b4fe7890be22f168.os -c -DNDEBUG -O2 -std=c++0x -DNDEBUG -O2 -fPIC -ftemplate-depth-100 -DBOOST_PYTHON_DYNAMIC_LIB -Ibuild-scons/include -I/usr/include -I/usr/include/python2.7 build-scons/src/wrapper/_arma_spdiagview_7fd9bc64de0f5fd3b4fe7890be22f168.cpp</span>\n",
       "<span class=\"go\">g++ -o build-scons/src/wrapper/_arma_op_87b3aab099a2514b8c55a6526a903037.os -c -DNDEBUG -O2 -std=c++0x -DNDEBUG -O2 -fPIC -ftemplate-depth-100 -DBOOST_PYTHON_DYNAMIC_LIB -Ibuild-scons/include -I/usr/include -I/usr/include/python2.7 build-scons/src/wrapper/_arma_op_87b3aab099a2514b8c55a6526a903037.cpp</span>\n",
       "<span class=\"go\">g++ -o build-scons/src/wrapper/_arma_base_c8d39d1d0fa05c74aa2dac82e60b5d73.os -c -DNDEBUG -O2 -std=c++0x -DNDEBUG -O2 -fPIC -ftemplate-depth-100 -DBOOST_PYTHON_DYNAMIC_LIB -Ibuild-scons/include -I/usr/include -I/usr/include/python2.7 build-scons/src/wrapper/_arma_base_c8d39d1d0fa05c74aa2dac82e60b5d73.cpp</span>\n",
       "<span class=\"go\">g++ -o build-scons/src/wrapper/_arma_sp_row_c8e78cafc10557b9a574a0b3a1171809.os -c -DNDEBUG -O2 -std=c++0x -DNDEBUG -O2 -fPIC -ftemplate-depth-100 -DBOOST_PYTHON_DYNAMIC_LIB -Ibuild-scons/include -I/usr/include -I/usr/include/python2.7 build-scons/src/wrapper/_arma_sp_row_c8e78cafc10557b9a574a0b3a1171809.cpp</span>\n",
       "<span class=\"go\">g++ -o build-scons/src/wrapper/_arma_sp_val_proxy_8799570eba805d30b8ce05afb69e913e.os -c -DNDEBUG -O2 -std=c++0x -DNDEBUG -O2 -fPIC -ftemplate-depth-100 -DBOOST_PYTHON_DYNAMIC_LIB -Ibuild-scons/include -I/usr/include -I/usr/include/python2.7 build-scons/src/wrapper/_arma_sp_val_proxy_8799570eba805d30b8ce05afb69e913e.cpp</span>\n",
       "<span class=\"go\">g++ -o build-scons/src/wrapper/_arma_base_cube_eval_expr_abec4ec1ae7e5d5dadc9da266cc6a4e4.os -c -DNDEBUG -O2 -std=c++0x -DNDEBUG -O2 -fPIC -ftemplate-depth-100 -DBOOST_PYTHON_DYNAMIC_LIB -Ibuild-scons/include -I/usr/include -I/usr/include/python2.7 build-scons/src/wrapper/_arma_base_cube_eval_expr_abec4ec1ae7e5d5dadc9da266cc6a4e4.cpp</span>\n",
       "<span class=\"go\">g++ -o build-scons/src/wrapper/_std_less_5dd699e50e8d539abea1c65c7ef5b412.os -c -DNDEBUG -O2 -std=c++0x -DNDEBUG -O2 -fPIC -ftemplate-depth-100 -DBOOST_PYTHON_DYNAMIC_LIB -Ibuild-scons/include -I/usr/include -I/usr/include/python2.7 build-scons/src/wrapper/_std_less_5dd699e50e8d539abea1c65c7ef5b412.cpp</span>\n",
       "<span class=\"go\">g++ -o build-scons/src/wrapper/_std_iterator_7109581d7c2e5e07b0d085ee517b0a47.os -c -DNDEBUG -O2 -std=c++0x -DNDEBUG -O2 -fPIC -ftemplate-depth-100 -DBOOST_PYTHON_DYNAMIC_LIB -Ibuild-scons/include -I/usr/include -I/usr/include/python2.7 build-scons/src/wrapper/_std_iterator_7109581d7c2e5e07b0d085ee517b0a47.cpp</span>\n",
       "<span class=\"go\">g++ -o build-scons/src/wrapper/_std_char_traits_239abb9ee1cb53408dcea7b52dcd6c9b.os -c -DNDEBUG -O2 -std=c++0x -DNDEBUG -O2 -fPIC -ftemplate-depth-100 -DBOOST_PYTHON_DYNAMIC_LIB -Ibuild-scons/include -I/usr/include -I/usr/include/python2.7 build-scons/src/wrapper/_std_char_traits_239abb9ee1cb53408dcea7b52dcd6c9b.cpp</span>\n",
       "<span class=\"go\">g++ -o build-scons/src/wrapper/_arma_base_inv_yes_327587cc1b815b0483f16250e61d5048.os -c -DNDEBUG -O2 -std=c++0x -DNDEBUG -O2 -fPIC -ftemplate-depth-100 -DBOOST_PYTHON_DYNAMIC_LIB -Ibuild-scons/include -I/usr/include -I/usr/include/python2.7 build-scons/src/wrapper/_arma_base_inv_yes_327587cc1b815b0483f16250e61d5048.cpp</span>\n",
       "<span class=\"go\">g++ -o build-scons/src/wrapper/_arma_base_trans_default_dc474013d53f562ebfdfbd567e7c15f4.os -c -DNDEBUG -O2 -std=c++0x -DNDEBUG -O2 -fPIC -ftemplate-depth-100 -DBOOST_PYTHON_DYNAMIC_LIB -Ibuild-scons/include -I/usr/include -I/usr/include/python2.7 build-scons/src/wrapper/_arma_base_trans_default_dc474013d53f562ebfdfbd567e7c15f4.cpp</span>\n",
       "<span class=\"go\">g++ -o build-scons/src/wrapper/_gnu_cxx_normal_iterator_9a904e6b0d52510a9336bf9a3a31c5a5.os -c -DNDEBUG -O2 -std=c++0x -DNDEBUG -O2 -fPIC -ftemplate-depth-100 -DBOOST_PYTHON_DYNAMIC_LIB -Ibuild-scons/include -I/usr/include -I/usr/include/python2.7 build-scons/src/wrapper/_gnu_cxx_normal_iterator_9a904e6b0d52510a9336bf9a3a31c5a5.cpp</span>\n",
       "<span class=\"go\">g++ -o build-scons/src/wrapper/_std_locale.os -c -DNDEBUG -O2 -std=c++0x -DNDEBUG -O2 -fPIC -ftemplate-depth-100 -DBOOST_PYTHON_DYNAMIC_LIB -Ibuild-scons/include -I/usr/include -I/usr/include/python2.7 build-scons/src/wrapper/_std_locale.cpp</span>\n",
       "<span class=\"go\">g++ -o build-scons/src/wrapper/_arma_base_cube_eval_cube_0eb9d06cf21f527aa3fde2df89b156c1.os -c -DNDEBUG -O2 -std=c++0x -DNDEBUG -O2 -fPIC -ftemplate-depth-100 -DBOOST_PYTHON_DYNAMIC_LIB -Ibuild-scons/include -I/usr/include -I/usr/include/python2.7 build-scons/src/wrapper/_arma_base_cube_eval_cube_0eb9d06cf21f527aa3fde2df89b156c1.cpp</span>\n",
       "<span class=\"go\">g++ -o build-scons/src/wrapper/_std_fpos_178c676cc19f5a899633420978853800.os -c -DNDEBUG -O2 -std=c++0x -DNDEBUG -O2 -fPIC -ftemplate-depth-100 -DBOOST_PYTHON_DYNAMIC_LIB -Ibuild-scons/include -I/usr/include -I/usr/include/python2.7 build-scons/src/wrapper/_std_fpos_178c676cc19f5a899633420978853800.cpp</span>\n",
       "<span class=\"go\">g++ -o build-scons/src/wrapper/_arma_sp_mat_const_iterator_e880c6d45acf559e9ff36c81b34dc99a.os -c -DNDEBUG -O2 -std=c++0x -DNDEBUG -O2 -fPIC -ftemplate-depth-100 -DBOOST_PYTHON_DYNAMIC_LIB -Ibuild-scons/include -I/usr/include -I/usr/include/python2.7 build-scons/src/wrapper/_arma_sp_mat_const_iterator_e880c6d45acf559e9ff36c81b34dc99a.cpp</span>\n",
       "<span class=\"go\">g++ -o build-scons/src/wrapper/_std_pair_2317ae9d82db5276bd268f4ff3f354ff.os -c -DNDEBUG -O2 -std=c++0x -DNDEBUG -O2 -fPIC -ftemplate-depth-100 -DBOOST_PYTHON_DYNAMIC_LIB -Ibuild-scons/include -I/usr/include -I/usr/include/python2.7 build-scons/src/wrapper/_std_pair_2317ae9d82db5276bd268f4ff3f354ff.cpp</span>\n",
       "<span class=\"go\">g++ -o build-scons/src/wrapper/_std_vector_ceaaf4317c29555cb734564c5aa793fe.os -c -DNDEBUG -O2 -std=c++0x -DNDEBUG -O2 -fPIC -ftemplate-depth-100 -DBOOST_PYTHON_DYNAMIC_LIB -Ibuild-scons/include -I/usr/include -I/usr/include/python2.7 build-scons/src/wrapper/_std_vector_ceaaf4317c29555cb734564c5aa793fe.cpp</span>\n",
       "<span class=\"go\">g++ -o build-scons/src/wrapper/_std_array_c56e6e25af645bf4a65e9e3490004b37.os -c -DNDEBUG -O2 -std=c++0x -DNDEBUG -O2 -fPIC -ftemplate-depth-100 -DBOOST_PYTHON_DYNAMIC_LIB -Ibuild-scons/include -I/usr/include -I/usr/include/python2.7 build-scons/src/wrapper/_std_array_c56e6e25af645bf4a65e9e3490004b37.cpp</span>\n",
       "<span class=\"go\">g++ -o build-scons/src/wrapper/_arma_base_d686bd0eb69d5c69abb6ddab8210eea7.os -c -DNDEBUG -O2 -std=c++0x -DNDEBUG -O2 -fPIC -ftemplate-depth-100 -DBOOST_PYTHON_DYNAMIC_LIB -Ibuild-scons/include -I/usr/include -I/usr/include/python2.7 build-scons/src/wrapper/_arma_base_d686bd0eb69d5c69abb6ddab8210eea7.cpp</span>\n",
       "<span class=\"go\">g++ -o build-scons/src/wrapper/_std_less_ec1e7ddd2f5b5cdd9d7af34a4c003b11.os -c -DNDEBUG -O2 -std=c++0x -DNDEBUG -O2 -fPIC -ftemplate-depth-100 -DBOOST_PYTHON_DYNAMIC_LIB -Ibuild-scons/include -I/usr/include -I/usr/include/python2.7 build-scons/src/wrapper/_std_less_ec1e7ddd2f5b5cdd9d7af34a4c003b11.cpp</span>\n",
       "<span class=\"go\">g++ -o build-scons/src/wrapper/_std_pair_669d62c454845da881e101acdfc76283.os -c -DNDEBUG -O2 -std=c++0x -DNDEBUG -O2 -fPIC -ftemplate-depth-100 -DBOOST_PYTHON_DYNAMIC_LIB -Ibuild-scons/include -I/usr/include -I/usr/include/python2.7 build-scons/src/wrapper/_std_pair_669d62c454845da881e101acdfc76283.cpp</span>\n",
       "<span class=\"go\">g++ -o build-scons/src/wrapper/_arma_sp_subview_iterator_base_cc33643df2335e2fb63b31b451d2174e.os -c -DNDEBUG -O2 -std=c++0x -DNDEBUG -O2 -fPIC -ftemplate-depth-100 -DBOOST_PYTHON_DYNAMIC_LIB -Ibuild-scons/include -I/usr/include -I/usr/include/python2.7 build-scons/src/wrapper/_arma_sp_subview_iterator_base_cc33643df2335e2fb63b31b451d2174e.cpp</span>\n",
       "<span class=\"go\">g++ -o build-scons/src/wrapper/_arma_base_inv_yes_35756b47b6e959e0a210eac8a117b86a.os -c -DNDEBUG -O2 -std=c++0x -DNDEBUG -O2 -fPIC -ftemplate-depth-100 -DBOOST_PYTHON_DYNAMIC_LIB -Ibuild-scons/include -I/usr/include -I/usr/include/python2.7 build-scons/src/wrapper/_arma_base_inv_yes_35756b47b6e959e0a210eac8a117b86a.cpp</span>\n",
       "<span class=\"go\">g++ -o build-scons/src/wrapper/_std_allocator_rebind_2e280b91aab654afaa6f06274adc645b.os -c -DNDEBUG -O2 -std=c++0x -DNDEBUG -O2 -fPIC -ftemplate-depth-100 -DBOOST_PYTHON_DYNAMIC_LIB -Ibuild-scons/include -I/usr/include -I/usr/include/python2.7 build-scons/src/wrapper/_std_allocator_rebind_2e280b91aab654afaa6f06274adc645b.cpp</span>\n",
       "<span class=\"go\">g++ -o build-scons/src/wrapper/_std_initializer_list_e4a3d8e171c95253b3fb784bf7b6e729.os -c -DNDEBUG -O2 -std=c++0x -DNDEBUG -O2 -fPIC -ftemplate-depth-100 -DBOOST_PYTHON_DYNAMIC_LIB -Ibuild-scons/include -I/usr/include -I/usr/include/python2.7 build-scons/src/wrapper/_std_initializer_list_e4a3d8e171c95253b3fb784bf7b6e729.cpp</span>\n",
       "<span class=\"go\">g++ -o build-scons/src/wrapper/_std_allocator_rebind_9314b54652585a759553eb0d9c14f320.os -c -DNDEBUG -O2 -std=c++0x -DNDEBUG -O2 -fPIC -ftemplate-depth-100 -DBOOST_PYTHON_DYNAMIC_LIB -Ibuild-scons/include -I/usr/include -I/usr/include/python2.7 build-scons/src/wrapper/_std_allocator_rebind_9314b54652585a759553eb0d9c14f320.cpp</span>\n",
       "<span class=\"go\">g++ -o build-scons/src/wrapper/_std_rb_tree_iterator_20515ba2a11c55b28f649d262adf4f4d.os -c -DNDEBUG -O2 -std=c++0x -DNDEBUG -O2 -fPIC -ftemplate-depth-100 -DBOOST_PYTHON_DYNAMIC_LIB -Ibuild-scons/include -I/usr/include -I/usr/include/python2.7 build-scons/src/wrapper/_std_rb_tree_iterator_20515ba2a11c55b28f649d262adf4f4d.cpp</span>\n",
       "<span class=\"go\">g++ -o build-scons/src/wrapper/_std_rb_tree_const_iterator_8b2d6fffe61050eab1058fd54c1def25.os -c -DNDEBUG -O2 -std=c++0x -DNDEBUG -O2 -fPIC -ftemplate-depth-100 -DBOOST_PYTHON_DYNAMIC_LIB -Ibuild-scons/include -I/usr/include -I/usr/include/python2.7 build-scons/src/wrapper/_std_rb_tree_const_iterator_8b2d6fffe61050eab1058fd54c1def25.cpp</span>\n",
       "<span class=\"go\">g++ -o build-scons/src/wrapper/_std_reverse_iterator_73e142775498517591518effbcf5515e.os -c -DNDEBUG -O2 -std=c++0x -DNDEBUG -O2 -fPIC -ftemplate-depth-100 -DBOOST_PYTHON_DYNAMIC_LIB -Ibuild-scons/include -I/usr/include -I/usr/include/python2.7 build-scons/src/wrapper/_std_reverse_iterator_73e142775498517591518effbcf5515e.cpp</span>\n",
       "<span class=\"go\">g++ -o build-scons/src/wrapper/_arma_size_mat.os -c -DNDEBUG -O2 -std=c++0x -DNDEBUG -O2 -fPIC -ftemplate-depth-100 -DBOOST_PYTHON_DYNAMIC_LIB -Ibuild-scons/include -I/usr/include -I/usr/include/python2.7 build-scons/src/wrapper/_arma_size_mat.cpp</span>\n",
       "<span class=\"go\">g++ -o build-scons/src/wrapper/_gnu_cxx_normal_iterator_a3e60237b5a2558e9093b12ddcffd917.os -c -DNDEBUG -O2 -std=c++0x -DNDEBUG -O2 -fPIC -ftemplate-depth-100 -DBOOST_PYTHON_DYNAMIC_LIB -Ibuild-scons/include -I/usr/include -I/usr/include/python2.7 build-scons/src/wrapper/_gnu_cxx_normal_iterator_a3e60237b5a2558e9093b12ddcffd917.cpp</span>\n",
       "<span class=\"go\">g++ -o build-scons/src/wrapper/_std_basic_string_7161f45fb596507dbfed70691c152b7e.os -c -DNDEBUG -O2 -std=c++0x -DNDEBUG -O2 -fPIC -ftemplate-depth-100 -DBOOST_PYTHON_DYNAMIC_LIB -Ibuild-scons/include -I/usr/include -I/usr/include/python2.7 build-scons/src/wrapper/_std_basic_string_7161f45fb596507dbfed70691c152b7e.cpp</span>\n",
       "<span class=\"go\">g++ -o build-scons/src/wrapper/_arma_base_eval_expr_00af1f6996a05757b03fb2318637d065.os -c -DNDEBUG -O2 -std=c++0x -DNDEBUG -O2 -fPIC -ftemplate-depth-100 -DBOOST_PYTHON_DYNAMIC_LIB -Ibuild-scons/include -I/usr/include -I/usr/include/python2.7 build-scons/src/wrapper/_arma_base_eval_expr_00af1f6996a05757b03fb2318637d065.cpp</span>\n",
       "<span class=\"go\">g++ -o build-scons/src/wrapper/__misc.os -c -DNDEBUG -O2 -std=c++0x -DNDEBUG -O2 -fPIC -ftemplate-depth-100 -DBOOST_PYTHON_DYNAMIC_LIB -Ibuild-scons/include -I/usr/include -I/usr/include/python2.7 build-scons/src/wrapper/__misc.cpp</span>\n",
       "<span class=\"go\">g++ -o build-scons/src/wrapper/_std_allocator_rebind_c19401430b045d519a97431a17598418.os -c -DNDEBUG -O2 -std=c++0x -DNDEBUG -O2 -fPIC -ftemplate-depth-100 -DBOOST_PYTHON_DYNAMIC_LIB -Ibuild-scons/include -I/usr/include -I/usr/include/python2.7 build-scons/src/wrapper/_std_allocator_rebind_c19401430b045d519a97431a17598418.cpp</span>\n",
       "<span class=\"go\">g++ -o build-scons/src/wrapper/_gnu_cxx_new_allocator_92e06661b4035d0197c6677091529009.os -c -DNDEBUG -O2 -std=c++0x -DNDEBUG -O2 -fPIC -ftemplate-depth-100 -DBOOST_PYTHON_DYNAMIC_LIB -Ibuild-scons/include -I/usr/include -I/usr/include/python2.7 build-scons/src/wrapper/_gnu_cxx_new_allocator_92e06661b4035d0197c6677091529009.cpp</span>\n",
       "<span class=\"go\">g++ -o build-scons/src/wrapper/_std_less_b063b147a31c5cdd96e444161cf0ffa7.os -c -DNDEBUG -O2 -std=c++0x -DNDEBUG -O2 -fPIC -ftemplate-depth-100 -DBOOST_PYTHON_DYNAMIC_LIB -Ibuild-scons/include -I/usr/include -I/usr/include/python2.7 build-scons/src/wrapper/_std_less_b063b147a31c5cdd96e444161cf0ffa7.cpp</span>\n",
       "<span class=\"go\">g++ -o build-scons/src/wrapper/_boost_random_mersenne_twister_engine_1a63acd07e9457a5884c0ffb646961f3.os -c -DNDEBUG -O2 -std=c++0x -DNDEBUG -O2 -fPIC -ftemplate-depth-100 -DBOOST_PYTHON_DYNAMIC_LIB -Ibuild-scons/include -I/usr/include -I/usr/include/python2.7 build-scons/src/wrapper/_boost_random_mersenne_twister_engine_1a63acd07e9457a5884c0ffb646961f3.cpp</span>\n",
       "<span class=\"go\">g++ -o build-scons/src/wrapper/_arma_sp_mat_24b75b8b9cf3513995752c3290cd30ed.os -c -DNDEBUG -O2 -std=c++0x -DNDEBUG -O2 -fPIC -ftemplate-depth-100 -DBOOST_PYTHON_DYNAMIC_LIB -Ibuild-scons/include -I/usr/include -I/usr/include/python2.7 build-scons/src/wrapper/_arma_sp_mat_24b75b8b9cf3513995752c3290cd30ed.cpp</span>\n",
       "<span class=\"go\">g++ -o build-scons/src/wrapper/_arma_subview_row_b1d3ba6538265a4dbab89124a8eb45a4.os -c -DNDEBUG -O2 -std=c++0x -DNDEBUG -O2 -fPIC -ftemplate-depth-100 -DBOOST_PYTHON_DYNAMIC_LIB -Ibuild-scons/include -I/usr/include -I/usr/include/python2.7 build-scons/src/wrapper/_arma_subview_row_b1d3ba6538265a4dbab89124a8eb45a4.cpp</span>\n",
       "<span class=\"go\">g++ -o build-scons/src/wrapper/_std_basic_istream_4c9e5eab62d358b9b9e7849871764a79.os -c -DNDEBUG -O2 -std=c++0x -DNDEBUG -O2 -fPIC -ftemplate-depth-100 -DBOOST_PYTHON_DYNAMIC_LIB -Ibuild-scons/include -I/usr/include -I/usr/include/python2.7 build-scons/src/wrapper/_std_basic_istream_4c9e5eab62d358b9b9e7849871764a79.cpp</span>\n",
       "<span class=\"go\">g++ -o build-scons/src/wrapper/_std_pair_bab0f1fb23ed5d9c8021a389b4a25b43.os -c -DNDEBUG -O2 -std=c++0x -DNDEBUG -O2 -fPIC -ftemplate-depth-100 -DBOOST_PYTHON_DYNAMIC_LIB -Ibuild-scons/include -I/usr/include -I/usr/include/python2.7 build-scons/src/wrapper/_std_pair_bab0f1fb23ed5d9c8021a389b4a25b43.cpp</span>\n",
       "<span class=\"go\">g++ -o build-scons/src/wrapper/_arma_col_56cd46050b21533b9b9c423184c4e611.os -c -DNDEBUG -O2 -std=c++0x -DNDEBUG -O2 -fPIC -ftemplate-depth-100 -DBOOST_PYTHON_DYNAMIC_LIB -Ibuild-scons/include -I/usr/include -I/usr/include/python2.7 build-scons/src/wrapper/_arma_col_56cd46050b21533b9b9c423184c4e611.cpp</span>\n",
       "<span class=\"go\">g++ -o build-scons/src/wrapper/_arma_base_trans_default_655beb027e065055b7cf2fa1e1747273.os -c -DNDEBUG -O2 -std=c++0x -DNDEBUG -O2 -fPIC -ftemplate-depth-100 -DBOOST_PYTHON_DYNAMIC_LIB -Ibuild-scons/include -I/usr/include -I/usr/include/python2.7 build-scons/src/wrapper/_arma_base_trans_default_655beb027e065055b7cf2fa1e1747273.cpp</span>\n",
       "<span class=\"go\">g++ -o build-scons/src/wrapper/_arma_span_base_17ad49c384c7512d8d5f662bdfcc1958.os -c -DNDEBUG -O2 -std=c++0x -DNDEBUG -O2 -fPIC -ftemplate-depth-100 -DBOOST_PYTHON_DYNAMIC_LIB -Ibuild-scons/include -I/usr/include -I/usr/include/python2.7 build-scons/src/wrapper/_arma_span_base_17ad49c384c7512d8d5f662bdfcc1958.cpp</span>\n",
       "<span class=\"go\">g++ -o build-scons/src/wrapper/_std_iterator_72f618b10d565f12a8055241dbee5262.os -c -DNDEBUG -O2 -std=c++0x -DNDEBUG -O2 -fPIC -ftemplate-depth-100 -DBOOST_PYTHON_DYNAMIC_LIB -Ibuild-scons/include -I/usr/include -I/usr/include/python2.7 build-scons/src/wrapper/_std_iterator_72f618b10d565f12a8055241dbee5262.cpp</span>\n",
       "<span class=\"go\">g++ -o build-scons/src/wrapper/_std_reverse_iterator_65558c747247519eb9312d2f602662da.os -c -DNDEBUG -O2 -std=c++0x -DNDEBUG -O2 -fPIC -ftemplate-depth-100 -DBOOST_PYTHON_DYNAMIC_LIB -Ibuild-scons/include -I/usr/include -I/usr/include/python2.7 build-scons/src/wrapper/_std_reverse_iterator_65558c747247519eb9312d2f602662da.cpp</span>\n",
       "<span class=\"go\">g++ -o build-scons/src/wrapper/_arma_cube_464f0802010853aea18e19cece5a6438.os -c -DNDEBUG -O2 -std=c++0x -DNDEBUG -O2 -fPIC -ftemplate-depth-100 -DBOOST_PYTHON_DYNAMIC_LIB -Ibuild-scons/include -I/usr/include -I/usr/include/python2.7 build-scons/src/wrapper/_arma_cube_464f0802010853aea18e19cece5a6438.cpp</span>\n",
       "<span class=\"go\">g++ -o build-scons/src/wrapper/_arma_subview_b7fa27ef485c5f7381bd8b4779ac885a.os -c -DNDEBUG -O2 -std=c++0x -DNDEBUG -O2 -fPIC -ftemplate-depth-100 -DBOOST_PYTHON_DYNAMIC_LIB -Ibuild-scons/include -I/usr/include -I/usr/include/python2.7 build-scons/src/wrapper/_arma_subview_b7fa27ef485c5f7381bd8b4779ac885a.cpp</span>\n",
       "<span class=\"go\">g++ -o build-scons/src/wrapper/_arma_sp_subview_row_iterator_ffc676d86f7151259a6736013a95bfd3.os -c -DNDEBUG -O2 -std=c++0x -DNDEBUG -O2 -fPIC -ftemplate-depth-100 -DBOOST_PYTHON_DYNAMIC_LIB -Ibuild-scons/include -I/usr/include -I/usr/include/python2.7 build-scons/src/wrapper/_arma_sp_subview_row_iterator_ffc676d86f7151259a6736013a95bfd3.cpp</span>\n",
       "<span class=\"go\">g++ -o build-scons/src/wrapper/_std_basic_istream_sentry_c702204f91205b45a91cfb9aa50bbeac.os -c -DNDEBUG -O2 -std=c++0x -DNDEBUG -O2 -fPIC -ftemplate-depth-100 -DBOOST_PYTHON_DYNAMIC_LIB -Ibuild-scons/include -I/usr/include -I/usr/include/python2.7 build-scons/src/wrapper/_std_basic_istream_sentry_c702204f91205b45a91cfb9aa50bbeac.cpp</span>\n",
       "<span class=\"go\">g++ -o build-scons/src/wrapper/_std_iterator_0518e59d6426539293606a610df6e375.os -c -DNDEBUG -O2 -std=c++0x -DNDEBUG -O2 -fPIC -ftemplate-depth-100 -DBOOST_PYTHON_DYNAMIC_LIB -Ibuild-scons/include -I/usr/include -I/usr/include/python2.7 build-scons/src/wrapper/_std_iterator_0518e59d6426539293606a610df6e375.cpp</span>\n",
       "<span class=\"go\">g++ -o build-scons/src/wrapper/_arma_mat_injector_a909d17439595c208683a0622d0db137.os -c -DNDEBUG -O2 -std=c++0x -DNDEBUG -O2 -fPIC -ftemplate-depth-100 -DBOOST_PYTHON_DYNAMIC_LIB -Ibuild-scons/include -I/usr/include -I/usr/include/python2.7 build-scons/src/wrapper/_arma_mat_injector_a909d17439595c208683a0622d0db137.cpp</span>\n",
       "<span class=\"go\">g++ -o build-scons/src/wrapper/_arma_sp_subview_const_iterator_d0f6fd7938d853128871401663e11c96.os -c -DNDEBUG -O2 -std=c++0x -DNDEBUG -O2 -fPIC -ftemplate-depth-100 -DBOOST_PYTHON_DYNAMIC_LIB -Ibuild-scons/include -I/usr/include -I/usr/include/python2.7 build-scons/src/wrapper/_arma_sp_subview_const_iterator_d0f6fd7938d853128871401663e11c96.cpp</span>\n",
       "<span class=\"go\">g++ -o build-scons/src/wrapper/_arma_sp_subview_const_row_iterator_0991dc1c32ad5316b0d8c06c3da5087b.os -c -DNDEBUG -O2 -std=c++0x -DNDEBUG -O2 -fPIC -ftemplate-depth-100 -DBOOST_PYTHON_DYNAMIC_LIB -Ibuild-scons/include -I/usr/include -I/usr/include/python2.7 build-scons/src/wrapper/_arma_sp_subview_const_row_iterator_0991dc1c32ad5316b0d8c06c3da5087b.cpp</span>\n",
       "<span class=\"go\">g++ -o build-scons/src/wrapper/_std_rb_tree_const_iterator_46481384d9de5fd88c4af9d3cb709dc8.os -c -DNDEBUG -O2 -std=c++0x -DNDEBUG -O2 -fPIC -ftemplate-depth-100 -DBOOST_PYTHON_DYNAMIC_LIB -Ibuild-scons/include -I/usr/include -I/usr/include/python2.7 build-scons/src/wrapper/_std_rb_tree_const_iterator_46481384d9de5fd88c4af9d3cb709dc8.cpp</span>\n",
       "<span class=\"go\">g++ -o build-scons/src/wrapper/_arma_row_9a2662e3df4d5d1493108bc2ae31986e.os -c -DNDEBUG -O2 -std=c++0x -DNDEBUG -O2 -fPIC -ftemplate-depth-100 -DBOOST_PYTHON_DYNAMIC_LIB -Ibuild-scons/include -I/usr/include -I/usr/include/python2.7 build-scons/src/wrapper/_arma_row_9a2662e3df4d5d1493108bc2ae31986e.cpp</span>\n",
       "<span class=\"go\">g++ -o build-scons/src/wrapper/_arma_base_inv_yes_659101d8f466591da5e2524011179d3c.os -c -DNDEBUG -O2 -std=c++0x -DNDEBUG -O2 -fPIC -ftemplate-depth-100 -DBOOST_PYTHON_DYNAMIC_LIB -Ibuild-scons/include -I/usr/include -I/usr/include/python2.7 build-scons/src/wrapper/_arma_base_inv_yes_659101d8f466591da5e2524011179d3c.cpp</span>\n",
       "<span class=\"go\">g++ -o build-scons/src/wrapper/_std_rb_tree_const_iterator_9571eaac3a8851fdba46303571521d7c.os -c -DNDEBUG -O2 -std=c++0x -DNDEBUG -O2 -fPIC -ftemplate-depth-100 -DBOOST_PYTHON_DYNAMIC_LIB -Ibuild-scons/include -I/usr/include -I/usr/include/python2.7 build-scons/src/wrapper/_std_rb_tree_const_iterator_9571eaac3a8851fdba46303571521d7c.cpp</span>\n",
       "<span class=\"go\">g++ -o build-scons/src/wrapper/_std_vector_a4e66ad697f8520c8a6996da67512f5f.os -c -DNDEBUG -O2 -std=c++0x -DNDEBUG -O2 -fPIC -ftemplate-depth-100 -DBOOST_PYTHON_DYNAMIC_LIB -Ibuild-scons/include -I/usr/include -I/usr/include/python2.7 build-scons/src/wrapper/_std_vector_a4e66ad697f8520c8a6996da67512f5f.cpp</span>\n",
       "<span class=\"go\">g++ -o build-scons/src/wrapper/_std_basic_streambuf_1682b704c1ba5c66ba7aa8f2fb38a8cf.os -c -DNDEBUG -O2 -std=c++0x -DNDEBUG -O2 -fPIC -ftemplate-depth-100 -DBOOST_PYTHON_DYNAMIC_LIB -Ibuild-scons/include -I/usr/include -I/usr/include/python2.7 build-scons/src/wrapper/_std_basic_streambuf_1682b704c1ba5c66ba7aa8f2fb38a8cf.cpp</span>\n",
       "<span class=\"go\">g++ -o build-scons/src/wrapper/_std_ios_openmode.os -c -DNDEBUG -O2 -std=c++0x -DNDEBUG -O2 -fPIC -ftemplate-depth-100 -DBOOST_PYTHON_DYNAMIC_LIB -Ibuild-scons/include -I/usr/include -I/usr/include/python2.7 build-scons/src/wrapper/_std_ios_openmode.cpp</span>\n",
       "<span class=\"go\">g++ -o build-scons/src/wrapper/_std_initializer_list_902f81679d355d84a5e9bc13f21d25f3.os -c -DNDEBUG -O2 -std=c++0x -DNDEBUG -O2 -fPIC -ftemplate-depth-100 -DBOOST_PYTHON_DYNAMIC_LIB -Ibuild-scons/include -I/usr/include -I/usr/include/python2.7 build-scons/src/wrapper/_std_initializer_list_902f81679d355d84a5e9bc13f21d25f3.cpp</span>\n",
       "<span class=\"go\">g++ -o build-scons/src/wrapper/_arma_sp_mat_row_iterator_7b05e7cd59e556fa947c8d4afef0b7fe.os -c -DNDEBUG -O2 -std=c++0x -DNDEBUG -O2 -fPIC -ftemplate-depth-100 -DBOOST_PYTHON_DYNAMIC_LIB -Ibuild-scons/include -I/usr/include -I/usr/include/python2.7 build-scons/src/wrapper/_arma_sp_mat_row_iterator_7b05e7cd59e556fa947c8d4afef0b7fe.cpp</span>\n",
       "<span class=\"go\">g++ -o build-scons/src/wrapper/_gnu_cxx_new_allocator_b87689aee2c45c99abec83c3451b1883.os -c -DNDEBUG -O2 -std=c++0x -DNDEBUG -O2 -fPIC -ftemplate-depth-100 -DBOOST_PYTHON_DYNAMIC_LIB -Ibuild-scons/include -I/usr/include -I/usr/include/python2.7 build-scons/src/wrapper/_gnu_cxx_new_allocator_b87689aee2c45c99abec83c3451b1883.cpp</span>\n",
       "<span class=\"go\">g++ -o build-scons/src/wrapper/_arma_sp_subview_35365bb0e9a15ad1a7bbb531af8db059.os -c -DNDEBUG -O2 -std=c++0x -DNDEBUG -O2 -fPIC -ftemplate-depth-100 -DBOOST_PYTHON_DYNAMIC_LIB -Ibuild-scons/include -I/usr/include -I/usr/include/python2.7 build-scons/src/wrapper/_arma_sp_subview_35365bb0e9a15ad1a7bbb531af8db059.cpp</span>\n",
       "<span class=\"go\">g++ -o build-scons/src/wrapper/_arma_subview_each_common_0cc28d03109f5c419a2f4a6f355002ef.os -c -DNDEBUG -O2 -std=c++0x -DNDEBUG -O2 -fPIC -ftemplate-depth-100 -DBOOST_PYTHON_DYNAMIC_LIB -Ibuild-scons/include -I/usr/include -I/usr/include/python2.7 build-scons/src/wrapper/_arma_subview_each_common_0cc28d03109f5c419a2f4a6f355002ef.cpp</span>\n",
       "<span class=\"go\">g++ -o build-scons/src/wrapper/_std_reverse_iterator_f6b41bc72820523c924a82f10bbdb8fe.os -c -DNDEBUG -O2 -std=c++0x -DNDEBUG -O2 -fPIC -ftemplate-depth-100 -DBOOST_PYTHON_DYNAMIC_LIB -Ibuild-scons/include -I/usr/include -I/usr/include/python2.7 build-scons/src/wrapper/_std_reverse_iterator_f6b41bc72820523c924a82f10bbdb8fe.cpp</span>\n",
       "<span class=\"go\">g++ -o build-scons/src/wrapper/_arma_file_type.os -c -DNDEBUG -O2 -std=c++0x -DNDEBUG -O2 -fPIC -ftemplate-depth-100 -DBOOST_PYTHON_DYNAMIC_LIB -Ibuild-scons/include -I/usr/include -I/usr/include/python2.7 build-scons/src/wrapper/_arma_file_type.cpp</span>\n",
       "<span class=\"go\">g++ -o build-scons/src/wrapper/_arma_sp_base_eval_expr_d326e166c1755cbb99b94980550518fd.os -c -DNDEBUG -O2 -std=c++0x -DNDEBUG -O2 -fPIC -ftemplate-depth-100 -DBOOST_PYTHON_DYNAMIC_LIB -Ibuild-scons/include -I/usr/include -I/usr/include/python2.7 build-scons/src/wrapper/_arma_sp_base_eval_expr_d326e166c1755cbb99b94980550518fd.cpp</span>\n",
       "<span class=\"go\">g++ -o build-scons/src/wrapper/_std_iterator_7a398c45a0a456858585af37862c60a8.os -c -DNDEBUG -O2 -std=c++0x -DNDEBUG -O2 -fPIC -ftemplate-depth-100 -DBOOST_PYTHON_DYNAMIC_LIB -Ibuild-scons/include -I/usr/include -I/usr/include/python2.7 build-scons/src/wrapper/_std_iterator_7a398c45a0a456858585af37862c60a8.cpp</span>\n",
       "<span class=\"go\">g++ -o build-scons/src/wrapper/_arma_subview_each_1_08d4fd94228e51cd8a856e4b400ac867.os -c -DNDEBUG -O2 -std=c++0x -DNDEBUG -O2 -fPIC -ftemplate-depth-100 -DBOOST_PYTHON_DYNAMIC_LIB -Ibuild-scons/include -I/usr/include -I/usr/include/python2.7 build-scons/src/wrapper/_arma_subview_each_1_08d4fd94228e51cd8a856e4b400ac867.cpp</span>\n",
       "<span class=\"go\">g++ -o build-scons/src/wrapper/_arma_op_0448bdcb1a275cbcb72b7cd28ab32674.os -c -DNDEBUG -O2 -std=c++0x -DNDEBUG -O2 -fPIC -ftemplate-depth-100 -DBOOST_PYTHON_DYNAMIC_LIB -Ibuild-scons/include -I/usr/include -I/usr/include/python2.7 build-scons/src/wrapper/_arma_op_0448bdcb1a275cbcb72b7cd28ab32674.cpp</span>\n",
       "<span class=\"go\">g++ -o build-scons/src/wrapper/_gnu_cxx_normal_iterator_df7ba2a7162a5cbcbe81e7bda45a122d.os -c -DNDEBUG -O2 -std=c++0x -DNDEBUG -O2 -fPIC -ftemplate-depth-100 -DBOOST_PYTHON_DYNAMIC_LIB -Ibuild-scons/include -I/usr/include -I/usr/include/python2.7 build-scons/src/wrapper/_gnu_cxx_normal_iterator_df7ba2a7162a5cbcbe81e7bda45a122d.cpp</span>\n",
       "<span class=\"go\">g++ -o build-scons/src/wrapper/_std_rb_tree_node_base.os -c -DNDEBUG -O2 -std=c++0x -DNDEBUG -O2 -fPIC -ftemplate-depth-100 -DBOOST_PYTHON_DYNAMIC_LIB -Ibuild-scons/include -I/usr/include -I/usr/include/python2.7 build-scons/src/wrapper/_std_rb_tree_node_base.cpp</span>\n",
       "<span class=\"go\">g++ -o build-scons/src/wrapper/_gnu_cxx_normal_iterator_87259be806605f6ead49172a112e60b7.os -c -DNDEBUG -O2 -std=c++0x -DNDEBUG -O2 -fPIC -ftemplate-depth-100 -DBOOST_PYTHON_DYNAMIC_LIB -Ibuild-scons/include -I/usr/include -I/usr/include/python2.7 build-scons/src/wrapper/_gnu_cxx_normal_iterator_87259be806605f6ead49172a112e60b7.cpp</span>\n",
       "<span class=\"go\">g++ -o build-scons/src/wrapper/_gnu_cxx_new_allocator_1eec3ee2927858e0b21d56d8e2f02338.os -c -DNDEBUG -O2 -std=c++0x -DNDEBUG -O2 -fPIC -ftemplate-depth-100 -DBOOST_PYTHON_DYNAMIC_LIB -Ibuild-scons/include -I/usr/include -I/usr/include/python2.7 build-scons/src/wrapper/_gnu_cxx_new_allocator_1eec3ee2927858e0b21d56d8e2f02338.cpp</span>\n",
       "<span class=\"go\">g++ -o build-scons/src/wrapper/_std_binary_function_bd00ea94e56a5de7a17fc5cd744f392e.os -c -DNDEBUG -O2 -std=c++0x -DNDEBUG -O2 -fPIC -ftemplate-depth-100 -DBOOST_PYTHON_DYNAMIC_LIB -Ibuild-scons/include -I/usr/include -I/usr/include/python2.7 build-scons/src/wrapper/_std_binary_function_bd00ea94e56a5de7a17fc5cd744f392e.cpp</span>\n",
       "<span class=\"go\">g++ -o build-scons/src/wrapper/_std_pair_1b015299a9535374ab35f93bfb957b2d.os -c -DNDEBUG -O2 -std=c++0x -DNDEBUG -O2 -fPIC -ftemplate-depth-100 -DBOOST_PYTHON_DYNAMIC_LIB -Ibuild-scons/include -I/usr/include -I/usr/include/python2.7 build-scons/src/wrapper/_std_pair_1b015299a9535374ab35f93bfb957b2d.cpp</span>\n",
       "<span class=\"go\">g++ -o build-scons/src/wrapper/_arma_base_eval_mat_6fb17fd92c9258c794ea1ad70f27d122.os -c -DNDEBUG -O2 -std=c++0x -DNDEBUG -O2 -fPIC -ftemplate-depth-100 -DBOOST_PYTHON_DYNAMIC_LIB -Ibuild-scons/include -I/usr/include -I/usr/include/python2.7 build-scons/src/wrapper/_arma_base_eval_mat_6fb17fd92c9258c794ea1ad70f27d122.cpp</span>\n",
       "<span class=\"go\">g++ -o src/statiskit/misc/__misc.so -shared build-scons/src/wrapper/_arma_sp_mat_iterator_base_dd21a5af50bc5901b17b5a489a90a164.os build-scons/src/wrapper/_std_iterator_8384dd07dd4e563db5b76ea95fbb3c07.os build-scons/src/wrapper/_std_pair_dff0d8d9eb135e2187447d4336b74a9e.os build-scons/src/wrapper/_std_binary_function_55b4555fc5a250038e48372020b16954.os build-scons/src/wrapper/_std_ios_seekdir.os build-scons/src/wrapper/_gnu_cxx_normal_iterator_be25d972a612533d88e9269d20fe99c3.os build-scons/src/wrapper/_arma_subview_each_1_2eaf6147c2f35a4e8d827f88b87bf6b4.os build-scons/src/wrapper/_arma_base_f7e6ff685399593bbd306b5253a67c50.os build-scons/src/wrapper/_std_iterator_e2939ea540a3530ab8cd010eb465779c.os build-scons/src/wrapper/_std_reverse_iterator_86dab9d1904a5cd9949b1212599f81ef.os build-scons/src/wrapper/_gnu_cxx_normal_iterator_41fc9352f98e5f81a807536334abaf0a.os build-scons/src/wrapper/_arma_op_682cd46a4b2854758641ac49b4b9c0b8.os build-scons/src/wrapper/_std_set_505e316e9d405a1599227e17b799e0e2.os build-scons/src/wrapper/_arma_sp_base_e7aabbc68d375275b170e0fc0d246282.os build-scons/src/wrapper/_arma_mat_a1c6595547c1506594939b4db70e1a6e.os build-scons/src/wrapper/_arma_diagview_69009e26379a57d7934ecbf7e331082b.os build-scons/src/wrapper/_std_ios_base_init.os build-scons/src/wrapper/_arma_subview_col_23badeabb0715e68af5af97c5878ddf6.os build-scons/src/wrapper/_arma_base_eval_expr_92ebb3e037c550c5ac922aa566c047a1.os build-scons/src/wrapper/_std_pair_15e6545fba325fd2929ca8c2c24d2758.os build-scons/src/wrapper/_std_iterator_6b8921be0f2256abbbe2f9d96d586989.os build-scons/src/wrapper/_arma_base_trans_default_8efc3cf153a45476b3cb37c306c0cfaa.os build-scons/src/wrapper/_std_pair_ebe87ad2aad65c01ba0c8e1cd4935a51.os build-scons/src/wrapper/_arma_sp_col_02fcbdad0d155aee81d4f5ed91790061.os build-scons/src/wrapper/_std_rb_tree_iterator_163cc827dfcc5435bfebe79b6b677c36.os build-scons/src/wrapper/_arma_base_cube_454cdd9ee66f54c0b6b8e49314dcd746.os build-scons/src/wrapper/_std_basic_ostream_d2368b7a8f79566f82141f26afccb03c.os build-scons/src/wrapper/_std_rb_tree_iterator_b517c216ca715db5ba68a831b03be6e9.os build-scons/src/wrapper/_arma_base_cube_d81a81f69c0950bd9f7a8103ddd2d065.os build-scons/src/wrapper/_arma_sp_subview_iterator_690d256dffeb5999afcaf5b74d00936a.os build-scons/src/wrapper/_std_allocator_263df74f4895556a86f097ead15dac0d.os build-scons/src/wrapper/_std_allocator_7d6d2e9120b9547a9815cecd949f91d6.os build-scons/src/wrapper/_arma_subview_cube_1a6f2aaf934c5585b38f17acfb6a1cca.os build-scons/src/wrapper/_std_reverse_iterator_a0785695bf6b58b69d0ab0324e218c80.os build-scons/src/wrapper/_std_set_dd0a0a85c2d85c459e2c30bcacfd8277.os build-scons/src/wrapper/_arma_span.os build-scons/src/wrapper/_std_ios_base.os build-scons/src/wrapper/_arma_base_inv_yes_90da73bf5e6054d29338c4186e481ddf.os build-scons/src/wrapper/_std_binary_function_6964b1b8511e57ab9a3a889a6d6ae4cb.os build-scons/src/wrapper/_std_iterator_eac5e8c081605bb6b2a96a9405771431.os build-scons/src/wrapper/_std_reverse_iterator_6f8adf63b81459f7b4cfb5057c1c12ac.os build-scons/src/wrapper/_std_initializer_list_586ff11f720e5052bd75352b66868b1d.os build-scons/src/wrapper/_std_allocator_0a5705dfc4e05159947cf0c0e06bc444.os build-scons/src/wrapper/_arma_op_4177a28456f053d7aedb1d49bf449f59.os build-scons/src/wrapper/_std_reverse_iterator_841fe44ddbad53e5b9da7917633a2ac7.os build-scons/src/wrapper/_std_iterator_2b8fbf26714b5bdea3018afe8eae794e.os build-scons/src/wrapper/_std_set_cb22ea540e395c29b0cf03fc7bdf6c2d.os build-scons/src/wrapper/_std_ios_fmtflags.os build-scons/src/wrapper/_std_exception.os build-scons/src/wrapper/_std_rb_tree_iterator_19ebcbb89d245d4fa3cfa1d7d34689ca.os build-scons/src/wrapper/_std_initializer_list_6dd289a82ada550d915b31a7d442f252.os build-scons/src/wrapper/_arma_subview_each_common_a312dd619aa6512a8507e5e11abd649b.os build-scons/src/wrapper/_arma_op_394d3dd6c86b572a99c11a889bdbdb69.os build-scons/src/wrapper/_std_vector_47c6298461835c16ba3ff35172133373.os build-scons/src/wrapper/_std_ios_base_event.os build-scons/src/wrapper/_arma_sp_base_eval_sp_mat_2609d2bdcb4355f5886197fcc889865e.os build-scons/src/wrapper/_std_iterator_49e2a6bd8fc3535096ae6e982b54edb1.os build-scons/src/wrapper/_std_reverse_iterator_24d82582518959eaad4688836f9a48a0.os build-scons/src/wrapper/_std_allocator_ce66b49ffb675af5b5b10b900c383be7.os build-scons/src/wrapper/_arma_base_trans_default_a965556604f9573b9750e69bbd32bed5.os build-scons/src/wrapper/_arma_sp_base_7d751ceb6c6659318f9f57bc371933f0.os build-scons/src/wrapper/_std_iterator_3c8e16b4d29150b99f75934373985f58.os build-scons/src/wrapper/_arma_sp_mat_const_row_iterator_74422668b1975b4fa2089fbce26319e9.os build-scons/src/wrapper/_arma_sp_mat_iterator_bdc1befec1c45d64a24ae09116147abd.os build-scons/src/wrapper/_std_rb_tree_color.os build-scons/src/wrapper/_arma_mat_injector_86f63991644d59e8942a651de046b40a.os build-scons/src/wrapper/_arma_span_alt.os build-scons/src/wrapper/_std_basic_ios_dc0bed07c88f59b7b3e4f11a1fde9779.os build-scons/src/wrapper/_std_reverse_iterator_8a24c447297750d4ae049ad4ff5b01b5.os build-scons/src/wrapper/_std_runtime_error.os build-scons/src/wrapper/_std_set_afce2ca3f57a5565bbc4edd5cf7122e0.os build-scons/src/wrapper/_arma_base_eval_expr_1ef512516e965b0d86aa2aa4e3e1df0f.os build-scons/src/wrapper/_std_binary_function_c524538be611580a9d1a78390a081cc2.os build-scons/src/wrapper/_gnu_cxx_new_allocator_4cc032d4c9895aceb60fe81b98f10fef.os build-scons/src/wrapper/_std_pair_43b5c3907ba95bb289cfa186a716eacc.os build-scons/src/wrapper/_arma_base_b95d975e29625e3495e78241f86f3b46.os build-scons/src/wrapper/_std_allocator_rebind_8697a839b65352aa915feca0f9381daa.os build-scons/src/wrapper/_arma_size_cube.os build-scons/src/wrapper/_std_ostreambuf_iterator_8ed59c366b1d5196ad34b13b32ead60f.os build-scons/src/wrapper/_arma.os build-scons/src/wrapper/_std.os build-scons/src/wrapper/_arma_spdiagview_7fd9bc64de0f5fd3b4fe7890be22f168.os build-scons/src/wrapper/_arma_op_87b3aab099a2514b8c55a6526a903037.os build-scons/src/wrapper/_arma_base_c8d39d1d0fa05c74aa2dac82e60b5d73.os build-scons/src/wrapper/_arma_sp_row_c8e78cafc10557b9a574a0b3a1171809.os build-scons/src/wrapper/_arma_sp_val_proxy_8799570eba805d30b8ce05afb69e913e.os build-scons/src/wrapper/_arma_base_cube_eval_expr_abec4ec1ae7e5d5dadc9da266cc6a4e4.os build-scons/src/wrapper/_std_less_5dd699e50e8d539abea1c65c7ef5b412.os build-scons/src/wrapper/_std_iterator_7109581d7c2e5e07b0d085ee517b0a47.os build-scons/src/wrapper/_std_char_traits_239abb9ee1cb53408dcea7b52dcd6c9b.os build-scons/src/wrapper/_arma_base_inv_yes_327587cc1b815b0483f16250e61d5048.os build-scons/src/wrapper/_arma_base_trans_default_dc474013d53f562ebfdfbd567e7c15f4.os build-scons/src/wrapper/_std_pair_8f1a0fc263405bd58792910a4397dc2d.os build-scons/src/wrapper/_gnu_cxx_normal_iterator_9a904e6b0d52510a9336bf9a3a31c5a5.os build-scons/src/wrapper/_std_locale.os build-scons/src/wrapper/_arma_base_cube_eval_cube_0eb9d06cf21f527aa3fde2df89b156c1.os build-scons/src/wrapper/_std_fpos_178c676cc19f5a899633420978853800.os build-scons/src/wrapper/_arma_sp_mat_const_iterator_e880c6d45acf559e9ff36c81b34dc99a.os build-scons/src/wrapper/_std_pair_2317ae9d82db5276bd268f4ff3f354ff.os build-scons/src/wrapper/_std_vector_ceaaf4317c29555cb734564c5aa793fe.os build-scons/src/wrapper/_std_array_c56e6e25af645bf4a65e9e3490004b37.os build-scons/src/wrapper/_arma_base_d686bd0eb69d5c69abb6ddab8210eea7.os build-scons/src/wrapper/_std_less_ec1e7ddd2f5b5cdd9d7af34a4c003b11.os build-scons/src/wrapper/_std_pair_669d62c454845da881e101acdfc76283.os build-scons/src/wrapper/_arma_sp_subview_iterator_base_cc33643df2335e2fb63b31b451d2174e.os build-scons/src/wrapper/_arma_base_inv_yes_35756b47b6e959e0a210eac8a117b86a.os build-scons/src/wrapper/_std_allocator_rebind_2e280b91aab654afaa6f06274adc645b.os build-scons/src/wrapper/_std_initializer_list_e4a3d8e171c95253b3fb784bf7b6e729.os build-scons/src/wrapper/_std_allocator_rebind_9314b54652585a759553eb0d9c14f320.os build-scons/src/wrapper/_std_rb_tree_iterator_20515ba2a11c55b28f649d262adf4f4d.os build-scons/src/wrapper/_std_rb_tree_const_iterator_16130705a66f5765a70912cb87f93204.os build-scons/src/wrapper/_std_rb_tree_const_iterator_8b2d6fffe61050eab1058fd54c1def25.os build-scons/src/wrapper/_std_reverse_iterator_73e142775498517591518effbcf5515e.os build-scons/src/wrapper/_arma_size_mat.os build-scons/src/wrapper/_gnu_cxx_normal_iterator_a3e60237b5a2558e9093b12ddcffd917.os build-scons/src/wrapper/_std_basic_string_7161f45fb596507dbfed70691c152b7e.os build-scons/src/wrapper/_arma_base_eval_expr_00af1f6996a05757b03fb2318637d065.os build-scons/src/wrapper/__misc.os build-scons/src/wrapper/_std_allocator_rebind_c19401430b045d519a97431a17598418.os build-scons/src/wrapper/_gnu_cxx_new_allocator_92e06661b4035d0197c6677091529009.os build-scons/src/wrapper/_std_less_b063b147a31c5cdd96e444161cf0ffa7.os build-scons/src/wrapper/_boost_random_mersenne_twister_engine_1a63acd07e9457a5884c0ffb646961f3.os build-scons/src/wrapper/_arma_sp_mat_24b75b8b9cf3513995752c3290cd30ed.os build-scons/src/wrapper/_arma_subview_row_b1d3ba6538265a4dbab89124a8eb45a4.os build-scons/src/wrapper/_std_basic_istream_4c9e5eab62d358b9b9e7849871764a79.os build-scons/src/wrapper/_std_vector_4fc452ca64325c4481496b3070f836d2.os build-scons/src/wrapper/_std_iterator_24d14463367c5c978d4a5b7d38cf4f20.os build-scons/src/wrapper/_std_pair_bab0f1fb23ed5d9c8021a389b4a25b43.os build-scons/src/wrapper/_arma_col_56cd46050b21533b9b9c423184c4e611.os build-scons/src/wrapper/_arma_base_trans_default_655beb027e065055b7cf2fa1e1747273.os build-scons/src/wrapper/_arma_span_base_17ad49c384c7512d8d5f662bdfcc1958.os build-scons/src/wrapper/_std_pair_821b6d3dd5915b6280a9173276174c3d.os build-scons/src/wrapper/_std_iterator_72f618b10d565f12a8055241dbee5262.os build-scons/src/wrapper/_std_reverse_iterator_65558c747247519eb9312d2f602662da.os build-scons/src/wrapper/_arma_cube_464f0802010853aea18e19cece5a6438.os build-scons/src/wrapper/_arma_subview_b7fa27ef485c5f7381bd8b4779ac885a.os build-scons/src/wrapper/_arma_sp_subview_row_iterator_ffc676d86f7151259a6736013a95bfd3.os build-scons/src/wrapper/_std_basic_istream_sentry_c702204f91205b45a91cfb9aa50bbeac.os build-scons/src/wrapper/_std_iterator_0518e59d6426539293606a610df6e375.os build-scons/src/wrapper/_arma_mat_injector_a909d17439595c208683a0622d0db137.os build-scons/src/wrapper/_arma_sp_subview_const_iterator_d0f6fd7938d853128871401663e11c96.os build-scons/src/wrapper/_arma_sp_subview_const_row_iterator_0991dc1c32ad5316b0d8c06c3da5087b.os build-scons/src/wrapper/_std_rb_tree_const_iterator_46481384d9de5fd88c4af9d3cb709dc8.os build-scons/src/wrapper/_arma_row_9a2662e3df4d5d1493108bc2ae31986e.os build-scons/src/wrapper/_arma_base_inv_yes_659101d8f466591da5e2524011179d3c.os build-scons/src/wrapper/_std_rb_tree_const_iterator_9571eaac3a8851fdba46303571521d7c.os build-scons/src/wrapper/_std_vector_a4e66ad697f8520c8a6996da67512f5f.os build-scons/src/wrapper/_std_basic_streambuf_1682b704c1ba5c66ba7aa8f2fb38a8cf.os build-scons/src/wrapper/_std_ios_openmode.os build-scons/src/wrapper/_std_initializer_list_902f81679d355d84a5e9bc13f21d25f3.os build-scons/src/wrapper/_arma_sp_mat_row_iterator_7b05e7cd59e556fa947c8d4afef0b7fe.os build-scons/src/wrapper/_gnu_cxx_new_allocator_b87689aee2c45c99abec83c3451b1883.os build-scons/src/wrapper/_arma_sp_subview_35365bb0e9a15ad1a7bbb531af8db059.os build-scons/src/wrapper/_arma_subview_each_common_0cc28d03109f5c419a2f4a6f355002ef.os build-scons/src/wrapper/_std_reverse_iterator_f6b41bc72820523c924a82f10bbdb8fe.os build-scons/src/wrapper/_arma_file_type.os build-scons/src/wrapper/_arma_sp_base_eval_expr_d326e166c1755cbb99b94980550518fd.os build-scons/src/wrapper/_std_iterator_7a398c45a0a456858585af37862c60a8.os build-scons/src/wrapper/_arma_subview_each_1_08d4fd94228e51cd8a856e4b400ac867.os build-scons/src/wrapper/_arma_op_0448bdcb1a275cbcb72b7cd28ab32674.os build-scons/src/wrapper/_gnu_cxx_normal_iterator_df7ba2a7162a5cbcbe81e7bda45a122d.os build-scons/src/wrapper/_std_rb_tree_node_base.os build-scons/src/wrapper/_gnu_cxx_normal_iterator_87259be806605f6ead49172a112e60b7.os build-scons/src/wrapper/_gnu_cxx_new_allocator_1eec3ee2927858e0b21d56d8e2f02338.os build-scons/src/wrapper/_std_binary_function_bd00ea94e56a5de7a17fc5cd744f392e.os build-scons/src/wrapper/_std_pair_1b015299a9535374ab35f93bfb957b2d.os build-scons/src/wrapper/_arma_base_eval_mat_6fb17fd92c9258c794ea1ad70f27d122.os -Lbuild-scons/lib -L/usr/lib -lpthread -lpython2.7 -lboost_python -larmadillo</span>\n",
       "<span class=\"go\">scons: done building targets.</span>\n",
       "</pre></div>\n",
       "</body>\n",
       "</html>\n"
      ],
      "text/plain": [
       "<vplants.autowig.scons.ShellSession at 0x7ff704f97cd0>"
      ]
     },
     "execution_count": 22,
     "metadata": {},
     "output_type": "execute_result"
    }
   ],
   "source": [
    "autowig.scons(rootdir + '/misc', '-j3')"
   ]
  },
  {
   "cell_type": "code",
   "execution_count": null,
   "metadata": {
    "collapsed": true
   },
   "outputs": [],
   "source": []
  },
  {
   "cell_type": "code",
   "execution_count": null,
   "metadata": {
    "collapsed": true
   },
   "outputs": [],
   "source": []
  },
  {
   "cell_type": "code",
   "execution_count": 23,
   "metadata": {
    "collapsed": false
   },
   "outputs": [
    {
     "data": {
      "text/html": [
       "<!DOCTYPE html PUBLIC \"-//W3C//DTD HTML 4.01//EN\"\n",
       "   \"http://www.w3.org/TR/html4/strict.dtd\">\n",
       "\n",
       "<html>\n",
       "<head>\n",
       "  <title></title>\n",
       "  <meta http-equiv=\"content-type\" content=\"text/html; charset=None\">\n",
       "  <style type=\"text/css\">\n",
       "td.linenos { background-color: #f0f0f0; padding-right: 10px; }\n",
       "span.lineno { background-color: #f0f0f0; padding: 0 5px 0 5px; }\n",
       "pre { line-height: 125%; }\n",
       "body .hll { background-color: #ffffcc }\n",
       "body  { background: #f8f8f8; }\n",
       "body .c { color: #408080; font-style: italic } /* Comment */\n",
       "body .err { border: 1px solid #FF0000 } /* Error */\n",
       "body .k { color: #008000; font-weight: bold } /* Keyword */\n",
       "body .o { color: #666666 } /* Operator */\n",
       "body .ch { color: #408080; font-style: italic } /* Comment.Hashbang */\n",
       "body .cm { color: #408080; font-style: italic } /* Comment.Multiline */\n",
       "body .cp { color: #BC7A00 } /* Comment.Preproc */\n",
       "body .cpf { color: #408080; font-style: italic } /* Comment.PreprocFile */\n",
       "body .c1 { color: #408080; font-style: italic } /* Comment.Single */\n",
       "body .cs { color: #408080; font-style: italic } /* Comment.Special */\n",
       "body .gd { color: #A00000 } /* Generic.Deleted */\n",
       "body .ge { font-style: italic } /* Generic.Emph */\n",
       "body .gr { color: #FF0000 } /* Generic.Error */\n",
       "body .gh { color: #000080; font-weight: bold } /* Generic.Heading */\n",
       "body .gi { color: #00A000 } /* Generic.Inserted */\n",
       "body .go { color: #888888 } /* Generic.Output */\n",
       "body .gp { color: #000080; font-weight: bold } /* Generic.Prompt */\n",
       "body .gs { font-weight: bold } /* Generic.Strong */\n",
       "body .gu { color: #800080; font-weight: bold } /* Generic.Subheading */\n",
       "body .gt { color: #0044DD } /* Generic.Traceback */\n",
       "body .kc { color: #008000; font-weight: bold } /* Keyword.Constant */\n",
       "body .kd { color: #008000; font-weight: bold } /* Keyword.Declaration */\n",
       "body .kn { color: #008000; font-weight: bold } /* Keyword.Namespace */\n",
       "body .kp { color: #008000 } /* Keyword.Pseudo */\n",
       "body .kr { color: #008000; font-weight: bold } /* Keyword.Reserved */\n",
       "body .kt { color: #B00040 } /* Keyword.Type */\n",
       "body .m { color: #666666 } /* Literal.Number */\n",
       "body .s { color: #BA2121 } /* Literal.String */\n",
       "body .na { color: #7D9029 } /* Name.Attribute */\n",
       "body .nb { color: #008000 } /* Name.Builtin */\n",
       "body .nc { color: #0000FF; font-weight: bold } /* Name.Class */\n",
       "body .no { color: #880000 } /* Name.Constant */\n",
       "body .nd { color: #AA22FF } /* Name.Decorator */\n",
       "body .ni { color: #999999; font-weight: bold } /* Name.Entity */\n",
       "body .ne { color: #D2413A; font-weight: bold } /* Name.Exception */\n",
       "body .nf { color: #0000FF } /* Name.Function */\n",
       "body .nl { color: #A0A000 } /* Name.Label */\n",
       "body .nn { color: #0000FF; font-weight: bold } /* Name.Namespace */\n",
       "body .nt { color: #008000; font-weight: bold } /* Name.Tag */\n",
       "body .nv { color: #19177C } /* Name.Variable */\n",
       "body .ow { color: #AA22FF; font-weight: bold } /* Operator.Word */\n",
       "body .w { color: #bbbbbb } /* Text.Whitespace */\n",
       "body .mb { color: #666666 } /* Literal.Number.Bin */\n",
       "body .mf { color: #666666 } /* Literal.Number.Float */\n",
       "body .mh { color: #666666 } /* Literal.Number.Hex */\n",
       "body .mi { color: #666666 } /* Literal.Number.Integer */\n",
       "body .mo { color: #666666 } /* Literal.Number.Oct */\n",
       "body .sb { color: #BA2121 } /* Literal.String.Backtick */\n",
       "body .sc { color: #BA2121 } /* Literal.String.Char */\n",
       "body .sd { color: #BA2121; font-style: italic } /* Literal.String.Doc */\n",
       "body .s2 { color: #BA2121 } /* Literal.String.Double */\n",
       "body .se { color: #BB6622; font-weight: bold } /* Literal.String.Escape */\n",
       "body .sh { color: #BA2121 } /* Literal.String.Heredoc */\n",
       "body .si { color: #BB6688; font-weight: bold } /* Literal.String.Interpol */\n",
       "body .sx { color: #008000 } /* Literal.String.Other */\n",
       "body .sr { color: #BB6688 } /* Literal.String.Regex */\n",
       "body .s1 { color: #BA2121 } /* Literal.String.Single */\n",
       "body .ss { color: #19177C } /* Literal.String.Symbol */\n",
       "body .bp { color: #008000 } /* Name.Builtin.Pseudo */\n",
       "body .vc { color: #19177C } /* Name.Variable.Class */\n",
       "body .vg { color: #19177C } /* Name.Variable.Global */\n",
       "body .vi { color: #19177C } /* Name.Variable.Instance */\n",
       "body .il { color: #666666 } /* Literal.Number.Integer.Long */\n",
       "\n",
       "  </style>\n",
       "</head>\n",
       "<body>\n",
       "<h2></h2>\n",
       "\n",
       "<div class=\"highlight\"><pre><span class=\"go\">scons: Reading SConscript files ...</span>\n",
       "<span class=\"go\">scons: done reading SConscript files.</span>\n",
       "<span class=\"go\">scons: Building targets ...</span>\n",
       "<span class=\"go\">g++ -o build-scons/src/wrapper/_std_allocator_01c8a042835f5d89bba7056ebdcbc7ce.os -c -DNDEBUG -O2 -std=c++0x -DNDEBUG -O2 -fPIC -ftemplate-depth-100 -DBOOST_PYTHON_DYNAMIC_LIB -Ibuild-scons/include -I/usr/include -I/usr/include/python2.7 build-scons/src/wrapper/_std_allocator_01c8a042835f5d89bba7056ebdcbc7ce.cpp</span>\n",
       "<span class=\"go\">g++ -o build-scons/src/wrapper/_statiskit_univariate_frequency_distribution_estimation_27900f5e7e77569bb2bafd2adfd5c343.os -c -DNDEBUG -O2 -std=c++0x -DNDEBUG -O2 -fPIC -ftemplate-depth-100 -DBOOST_PYTHON_DYNAMIC_LIB -Ibuild-scons/include -I/usr/include -I/usr/include/python2.7 build-scons/src/wrapper/_statiskit_univariate_frequency_distribution_estimation_27900f5e7e77569bb2bafd2adfd5c343.cpp</span>\n",
       "<span class=\"go\">g++ -o build-scons/src/wrapper/_statiskit_slope_heuristic_maximal_selector.os -c -DNDEBUG -O2 -std=c++0x -DNDEBUG -O2 -fPIC -ftemplate-depth-100 -DBOOST_PYTHON_DYNAMIC_LIB -Ibuild-scons/include -I/usr/include -I/usr/include/python2.7 build-scons/src/wrapper/_statiskit_slope_heuristic_maximal_selector.cpp</span>\n",
       "<span class=\"go\">g++ -o build-scons/src/wrapper/_std_iterator_2892052a3d885265abe0e27c0bca5dfb.os -c -DNDEBUG -O2 -std=c++0x -DNDEBUG -O2 -fPIC -ftemplate-depth-100 -DBOOST_PYTHON_DYNAMIC_LIB -Ibuild-scons/include -I/usr/include -I/usr/include/python2.7 build-scons/src/wrapper/_std_iterator_2892052a3d885265abe0e27c0bca5dfb.cpp</span>\n",
       "<span class=\"go\">g++ -o build-scons/src/wrapper/_statiskit.os -c -DNDEBUG -O2 -std=c++0x -DNDEBUG -O2 -fPIC -ftemplate-depth-100 -DBOOST_PYTHON_DYNAMIC_LIB -Ibuild-scons/include -I/usr/include -I/usr/include/python2.7 build-scons/src/wrapper/_statiskit.cpp</span>\n",
       "<span class=\"go\">g++ -o build-scons/src/wrapper/_statiskit_elementary_event_4d1671eb267c5d1296b29a65b4b525bc.os -c -DNDEBUG -O2 -std=c++0x -DNDEBUG -O2 -fPIC -ftemplate-depth-100 -DBOOST_PYTHON_DYNAMIC_LIB -Ibuild-scons/include -I/usr/include -I/usr/include/python2.7 build-scons/src/wrapper/_statiskit_elementary_event_4d1671eb267c5d1296b29a65b4b525bc.cpp</span>\n",
       "<span class=\"go\">g++ -o build-scons/src/wrapper/_gnu_cxx_new_allocator_73b7c08f334153da8fc0d7479aa8c1ad.os -c -DNDEBUG -O2 -std=c++0x -DNDEBUG -O2 -fPIC -ftemplate-depth-100 -DBOOST_PYTHON_DYNAMIC_LIB -Ibuild-scons/include -I/usr/include -I/usr/include/python2.7 build-scons/src/wrapper/_gnu_cxx_new_allocator_73b7c08f334153da8fc0d7479aa8c1ad.cpp</span>\n",
       "<span class=\"go\">g++ -o build-scons/src/wrapper/_std_vector_ba7cbf9f8deb547aaf64d9fd5be95867.os -c -DNDEBUG -O2 -std=c++0x -DNDEBUG -O2 -fPIC -ftemplate-depth-100 -DBOOST_PYTHON_DYNAMIC_LIB -Ibuild-scons/include -I/usr/include -I/usr/include/python2.7 build-scons/src/wrapper/_std_vector_ba7cbf9f8deb547aaf64d9fd5be95867.cpp</span>\n",
       "<span class=\"go\">g++ -o build-scons/src/wrapper/_statiskit_univariate_frequency_distribution_27df997dfa3c5c8abedb05fe904b2e13.os -c -DNDEBUG -O2 -std=c++0x -DNDEBUG -O2 -fPIC -ftemplate-depth-100 -DBOOST_PYTHON_DYNAMIC_LIB -Ibuild-scons/include -I/usr/include -I/usr/include/python2.7 build-scons/src/wrapper/_statiskit_univariate_frequency_distribution_27df997dfa3c5c8abedb05fe904b2e13.cpp</span>\n",
       "<span class=\"go\">g++ -o build-scons/src/wrapper/_statiskit_lower_bound_error.os -c -DNDEBUG -O2 -std=c++0x -DNDEBUG -O2 -fPIC -ftemplate-depth-100 -DBOOST_PYTHON_DYNAMIC_LIB -Ibuild-scons/include -I/usr/include -I/usr/include/python2.7 build-scons/src/wrapper/_statiskit_lower_bound_error.cpp</span>\n",
       "<span class=\"go\">g++ -o build-scons/src/wrapper/_std_allocator_rebind_401fb2a748e651fea575460df3b1834c.os -c -DNDEBUG -O2 -std=c++0x -DNDEBUG -O2 -fPIC -ftemplate-depth-100 -DBOOST_PYTHON_DYNAMIC_LIB -Ibuild-scons/include -I/usr/include -I/usr/include/python2.7 build-scons/src/wrapper/_std_allocator_rebind_401fb2a748e651fea575460df3b1834c.cpp</span>\n",
       "<span class=\"go\">g++ -o build-scons/src/wrapper/_statiskit_slope_heuristic.os -c -DNDEBUG -O2 -std=c++0x -DNDEBUG -O2 -fPIC -ftemplate-depth-100 -DBOOST_PYTHON_DYNAMIC_LIB -Ibuild-scons/include -I/usr/include -I/usr/include/python2.7 build-scons/src/wrapper/_statiskit_slope_heuristic.cpp</span>\n",
       "<span class=\"go\">g++ -o build-scons/src/wrapper/_statiskit_univariate_frequency_distribution_b46ddaf2e1615e249b8bf31d7fa26e8e.os -c -DNDEBUG -O2 -std=c++0x -DNDEBUG -O2 -fPIC -ftemplate-depth-100 -DBOOST_PYTHON_DYNAMIC_LIB -Ibuild-scons/include -I/usr/include -I/usr/include/python2.7 build-scons/src/wrapper/_statiskit_univariate_frequency_distribution_b46ddaf2e1615e249b8bf31d7fa26e8e.cpp</span>\n",
       "<span class=\"go\">g++ -o build-scons/src/wrapper/_std_reverse_iterator_c29e22053c4357f1a5f2e363c2c4127a.os -c -DNDEBUG -O2 -std=c++0x -DNDEBUG -O2 -fPIC -ftemplate-depth-100 -DBOOST_PYTHON_DYNAMIC_LIB -Ibuild-scons/include -I/usr/include -I/usr/include/python2.7 build-scons/src/wrapper/_std_reverse_iterator_c29e22053c4357f1a5f2e363c2c4127a.cpp</span>\n",
       "<span class=\"go\">g++ -o build-scons/src/wrapper/_statiskit_univariate_frequency_distribution_ec596ac2b13e5da7902790b3b4121130.os -c -DNDEBUG -O2 -std=c++0x -DNDEBUG -O2 -fPIC -ftemplate-depth-100 -DBOOST_PYTHON_DYNAMIC_LIB -Ibuild-scons/include -I/usr/include -I/usr/include/python2.7 build-scons/src/wrapper/_statiskit_univariate_frequency_distribution_ec596ac2b13e5da7902790b3b4121130.cpp</span>\n",
       "<span class=\"go\">g++ -o build-scons/src/wrapper/_statiskit_set_censored_event_3cec8f26a180598bab802288a7472147.os -c -DNDEBUG -O2 -std=c++0x -DNDEBUG -O2 -fPIC -ftemplate-depth-100 -DBOOST_PYTHON_DYNAMIC_LIB -Ibuild-scons/include -I/usr/include -I/usr/include/python2.7 build-scons/src/wrapper/_statiskit_set_censored_event_3cec8f26a180598bab802288a7472147.cpp</span>\n",
       "<span class=\"go\">g++ -o build-scons/src/wrapper/_statiskit_active_estimation_f152ff52280850ab95e81d0cbf33aafb.os -c -DNDEBUG -O2 -std=c++0x -DNDEBUG -O2 -fPIC -ftemplate-depth-100 -DBOOST_PYTHON_DYNAMIC_LIB -Ibuild-scons/include -I/usr/include -I/usr/include/python2.7 build-scons/src/wrapper/_statiskit_active_estimation_f152ff52280850ab95e81d0cbf33aafb.cpp</span>\n",
       "<span class=\"go\">g++ -o build-scons/src/wrapper/_statiskit_independent_multivariate_distribution_estimation_estimator_94ac948ff63d5f57b76f48c442b73cea.os -c -DNDEBUG -O2 -std=c++0x -DNDEBUG -O2 -fPIC -ftemplate-depth-100 -DBOOST_PYTHON_DYNAMIC_LIB -Ibuild-scons/include -I/usr/include -I/usr/include/python2.7 build-scons/src/wrapper/_statiskit_independent_multivariate_distribution_estimation_estimator_94ac948ff63d5f57b76f48c442b73cea.cpp</span>\n",
       "<span class=\"go\">g++ -o build-scons/src/wrapper/_statiskit_get_inf.os -c -DNDEBUG -O2 -std=c++0x -DNDEBUG -O2 -fPIC -ftemplate-depth-100 -DBOOST_PYTHON_DYNAMIC_LIB -Ibuild-scons/include -I/usr/include -I/usr/include/python2.7 build-scons/src/wrapper/_statiskit_get_inf.cpp</span>\n",
       "<span class=\"go\">g++ -o build-scons/src/wrapper/_statiskit_continuous_multivariate_distribution_estimation.os -c -DNDEBUG -O2 -std=c++0x -DNDEBUG -O2 -fPIC -ftemplate-depth-100 -DBOOST_PYTHON_DYNAMIC_LIB -Ibuild-scons/include -I/usr/include -I/usr/include/python2.7 build-scons/src/wrapper/_statiskit_continuous_multivariate_distribution_estimation.cpp</span>\n",
       "<span class=\"go\">g++ -o build-scons/src/wrapper/_std_iterator_9512ebc1639f5b51aa4b9bf8f1f16936.os -c -DNDEBUG -O2 -std=c++0x -DNDEBUG -O2 -fPIC -ftemplate-depth-100 -DBOOST_PYTHON_DYNAMIC_LIB -Ibuild-scons/include -I/usr/include -I/usr/include/python2.7 build-scons/src/wrapper/_std_iterator_9512ebc1639f5b51aa4b9bf8f1f16936.cpp</span>\n",
       "<span class=\"go\">g++ -o build-scons/src/wrapper/_statiskit_discrete_multivariate_distribution_estimation.os -c -DNDEBUG -O2 -std=c++0x -DNDEBUG -O2 -fPIC -ftemplate-depth-100 -DBOOST_PYTHON_DYNAMIC_LIB -Ibuild-scons/include -I/usr/include -I/usr/include/python2.7 build-scons/src/wrapper/_statiskit_discrete_multivariate_distribution_estimation.cpp</span>\n",
       "<span class=\"go\">g++ -o build-scons/src/wrapper/_gnu_cxx_normal_iterator_b06afc0c26a3539ebbb7dccde99cc832.os -c -DNDEBUG -O2 -std=c++0x -DNDEBUG -O2 -fPIC -ftemplate-depth-100 -DBOOST_PYTHON_DYNAMIC_LIB -Ibuild-scons/include -I/usr/include -I/usr/include/python2.7 build-scons/src/wrapper/_gnu_cxx_normal_iterator_b06afc0c26a3539ebbb7dccde99cc832.cpp</span>\n",
       "<span class=\"go\">g++ -o build-scons/src/wrapper/_std_iterator_ff6131ab19285695a8d3dbbe93ee12c9.os -c -DNDEBUG -O2 -std=c++0x -DNDEBUG -O2 -fPIC -ftemplate-depth-100 -DBOOST_PYTHON_DYNAMIC_LIB -Ibuild-scons/include -I/usr/include -I/usr/include/python2.7 build-scons/src/wrapper/_std_iterator_ff6131ab19285695a8d3dbbe93ee12c9.cpp</span>\n",
       "<span class=\"go\">g++ -o build-scons/src/wrapper/_std_iterator_e4498ba825c85ed48888b958f81aa84b.os -c -DNDEBUG -O2 -std=c++0x -DNDEBUG -O2 -fPIC -ftemplate-depth-100 -DBOOST_PYTHON_DYNAMIC_LIB -Ibuild-scons/include -I/usr/include -I/usr/include/python2.7 build-scons/src/wrapper/_std_iterator_e4498ba825c85ed48888b958f81aa84b.cpp</span>\n",
       "<span class=\"go\">g++ -o build-scons/src/wrapper/_statiskit_independent_multivariate_distribution_c1b00a1bc9f35d2293ab6cf27cc2fec2.os -c -DNDEBUG -O2 -std=c++0x -DNDEBUG -O2 -fPIC -ftemplate-depth-100 -DBOOST_PYTHON_DYNAMIC_LIB -Ibuild-scons/include -I/usr/include -I/usr/include/python2.7 build-scons/src/wrapper/_statiskit_independent_multivariate_distribution_c1b00a1bc9f35d2293ab6cf27cc2fec2.cpp</span>\n",
       "<span class=\"go\">g++ -o build-scons/src/wrapper/_statiskit_natural_co_variance_estimation.os -c -DNDEBUG -O2 -std=c++0x -DNDEBUG -O2 -fPIC -ftemplate-depth-100 -DBOOST_PYTHON_DYNAMIC_LIB -Ibuild-scons/include -I/usr/include -I/usr/include/python2.7 build-scons/src/wrapper/_statiskit_natural_co_variance_estimation.cpp</span>\n",
       "<span class=\"go\">g++ -o build-scons/src/wrapper/_statiskit_univariate_data_frame.os -c -DNDEBUG -O2 -std=c++0x -DNDEBUG -O2 -fPIC -ftemplate-depth-100 -DBOOST_PYTHON_DYNAMIC_LIB -Ibuild-scons/include -I/usr/include -I/usr/include/python2.7 build-scons/src/wrapper/_statiskit_univariate_data_frame.cpp</span>\n",
       "<span class=\"go\">g++ -o build-scons/src/wrapper/_statiskit_binomial_distribution.os -c -DNDEBUG -O2 -std=c++0x -DNDEBUG -O2 -fPIC -ftemplate-depth-100 -DBOOST_PYTHON_DYNAMIC_LIB -Ibuild-scons/include -I/usr/include -I/usr/include/python2.7 build-scons/src/wrapper/_statiskit_binomial_distribution.cpp</span>\n",
       "<span class=\"go\">g++ -o build-scons/src/wrapper/_statiskit_get_epsilon.os -c -DNDEBUG -O2 -std=c++0x -DNDEBUG -O2 -fPIC -ftemplate-depth-100 -DBOOST_PYTHON_DYNAMIC_LIB -Ibuild-scons/include -I/usr/include -I/usr/include/python2.7 build-scons/src/wrapper/_statiskit_get_epsilon.cpp</span>\n",
       "<span class=\"go\">g++ -o build-scons/src/wrapper/_statiskit_lazy_estimation_c0ba381061fb54b888d7efd5b8b3952f.os -c -DNDEBUG -O2 -std=c++0x -DNDEBUG -O2 -fPIC -ftemplate-depth-100 -DBOOST_PYTHON_DYNAMIC_LIB -Ibuild-scons/include -I/usr/include -I/usr/include/python2.7 build-scons/src/wrapper/_statiskit_lazy_estimation_c0ba381061fb54b888d7efd5b8b3952f.cpp</span>\n",
       "<span class=\"go\">g++ -o build-scons/src/wrapper/_statiskit_discrete_multivariate_distribution_estimation_estimator.os -c -DNDEBUG -O2 -std=c++0x -DNDEBUG -O2 -fPIC -ftemplate-depth-100 -DBOOST_PYTHON_DYNAMIC_LIB -Ibuild-scons/include -I/usr/include -I/usr/include/python2.7 build-scons/src/wrapper/_statiskit_discrete_multivariate_distribution_estimation_estimator.cpp</span>\n",
       "<span class=\"go\">g++ -o build-scons/src/wrapper/_std_reverse_iterator_e2a7bfe0e0a55bdaaba1c64c0a2e1ab5.os -c -DNDEBUG -O2 -std=c++0x -DNDEBUG -O2 -fPIC -ftemplate-depth-100 -DBOOST_PYTHON_DYNAMIC_LIB -Ibuild-scons/include -I/usr/include -I/usr/include/python2.7 build-scons/src/wrapper/_std_reverse_iterator_e2a7bfe0e0a55bdaaba1c64c0a2e1ab5.cpp</span>\n",
       "<span class=\"go\">g++ -o build-scons/src/wrapper/_statiskit_my_error_function.os -c -DNDEBUG -O2 -std=c++0x -DNDEBUG -O2 -fPIC -ftemplate-depth-100 -DBOOST_PYTHON_DYNAMIC_LIB -Ibuild-scons/include -I/usr/include -I/usr/include/python2.7 build-scons/src/wrapper/_statiskit_my_error_function.cpp</span>\n",
       "<span class=\"go\">g++ -o build-scons/src/wrapper/_statiskit_interval_censored_event_695e19db958a5e38add4e0c0fc9adf97.os -c -DNDEBUG -O2 -std=c++0x -DNDEBUG -O2 -fPIC -ftemplate-depth-100 -DBOOST_PYTHON_DYNAMIC_LIB -Ibuild-scons/include -I/usr/include -I/usr/include/python2.7 build-scons/src/wrapper/_statiskit_interval_censored_event_695e19db958a5e38add4e0c0fc9adf97.cpp</span>\n",
       "<span class=\"go\">g++ -o build-scons/src/wrapper/_gnu_cxx_normal_iterator_3d81aa8fca175e9ba15b559f79c15b56.os -c -DNDEBUG -O2 -std=c++0x -DNDEBUG -O2 -fPIC -ftemplate-depth-100 -DBOOST_PYTHON_DYNAMIC_LIB -Ibuild-scons/include -I/usr/include -I/usr/include/python2.7 build-scons/src/wrapper/_gnu_cxx_normal_iterator_3d81aa8fca175e9ba15b559f79c15b56.cpp</span>\n",
       "<span class=\"go\">g++ -o build-scons/src/wrapper/_statiskit_univariate_distribution_estimation_estimator.os -c -DNDEBUG -O2 -std=c++0x -DNDEBUG -O2 -fPIC -ftemplate-depth-100 -DBOOST_PYTHON_DYNAMIC_LIB -Ibuild-scons/include -I/usr/include -I/usr/include/python2.7 build-scons/src/wrapper/_statiskit_univariate_distribution_estimation_estimator.cpp</span>\n",
       "<span class=\"go\">g++ -o build-scons/src/wrapper/_std_iterator_2656f72ee7eb5646982bbfa4188de3de.os -c -DNDEBUG -O2 -std=c++0x -DNDEBUG -O2 -fPIC -ftemplate-depth-100 -DBOOST_PYTHON_DYNAMIC_LIB -Ibuild-scons/include -I/usr/include -I/usr/include/python2.7 build-scons/src/wrapper/_std_iterator_2656f72ee7eb5646982bbfa4188de3de.cpp</span>\n",
       "<span class=\"go\">g++ -o build-scons/src/wrapper/_statiskit_slope_heuristic_huber_solver.os -c -DNDEBUG -O2 -std=c++0x -DNDEBUG -O2 -fPIC -ftemplate-depth-100 -DBOOST_PYTHON_DYNAMIC_LIB -Ibuild-scons/include -I/usr/include -I/usr/include/python2.7 build-scons/src/wrapper/_statiskit_slope_heuristic_huber_solver.cpp</span>\n",
       "<span class=\"go\">g++ -o build-scons/src/wrapper/_statiskit_univariate_histogram_distribution_estimation_estimator.os -c -DNDEBUG -O2 -std=c++0x -DNDEBUG -O2 -fPIC -ftemplate-depth-100 -DBOOST_PYTHON_DYNAMIC_LIB -Ibuild-scons/include -I/usr/include -I/usr/include/python2.7 build-scons/src/wrapper/_statiskit_univariate_histogram_distribution_estimation_estimator.cpp</span>\n",
       "<span class=\"go\">g++ -o build-scons/src/wrapper/_std_reverse_iterator_52386acc03395a3c8366021e746c0073.os -c -DNDEBUG -O2 -std=c++0x -DNDEBUG -O2 -fPIC -ftemplate-depth-100 -DBOOST_PYTHON_DYNAMIC_LIB -Ibuild-scons/include -I/usr/include -I/usr/include/python2.7 build-scons/src/wrapper/_std_reverse_iterator_52386acc03395a3c8366021e746c0073.cpp</span>\n",
       "<span class=\"go\">g++ -o build-scons/src/wrapper/_gnu_cxx_new_allocator_f9b623d5093e52bc897e31bbd6a9df0c.os -c -DNDEBUG -O2 -std=c++0x -DNDEBUG -O2 -fPIC -ftemplate-depth-100 -DBOOST_PYTHON_DYNAMIC_LIB -Ibuild-scons/include -I/usr/include -I/usr/include/python2.7 build-scons/src/wrapper/_gnu_cxx_new_allocator_f9b623d5093e52bc897e31bbd6a9df0c.cpp</span>\n",
       "<span class=\"go\">g++ -o build-scons/src/wrapper/_statiskit_active_estimation_51cf72501a535c48a5f5ece33bf623a8.os -c -DNDEBUG -O2 -std=c++0x -DNDEBUG -O2 -fPIC -ftemplate-depth-100 -DBOOST_PYTHON_DYNAMIC_LIB -Ibuild-scons/include -I/usr/include -I/usr/include/python2.7 build-scons/src/wrapper/_statiskit_active_estimation_51cf72501a535c48a5f5ece33bf623a8.cpp</span>\n",
       "<span class=\"go\">g++ -o build-scons/src/wrapper/_gnu_cxx_new_allocator_11d6759a0a545ac4956b78cc17a6b37a.os -c -DNDEBUG -O2 -std=c++0x -DNDEBUG -O2 -fPIC -ftemplate-depth-100 -DBOOST_PYTHON_DYNAMIC_LIB -Ibuild-scons/include -I/usr/include -I/usr/include/python2.7 build-scons/src/wrapper/_gnu_cxx_new_allocator_11d6759a0a545ac4956b78cc17a6b37a.cpp</span>\n",
       "<span class=\"go\">g++ -o build-scons/src/wrapper/_statiskit_continuous_event.os -c -DNDEBUG -O2 -std=c++0x -DNDEBUG -O2 -fPIC -ftemplate-depth-100 -DBOOST_PYTHON_DYNAMIC_LIB -Ibuild-scons/include -I/usr/include -I/usr/include/python2.7 build-scons/src/wrapper/_statiskit_continuous_event.cpp</span>\n",
       "<span class=\"go\">g++ -o build-scons/src/wrapper/_statiskit_slope_heuristic_estimation_7277086e994454ddaea1c1016da2125e.os -c -DNDEBUG -O2 -std=c++0x -DNDEBUG -O2 -fPIC -ftemplate-depth-100 -DBOOST_PYTHON_DYNAMIC_LIB -Ibuild-scons/include -I/usr/include -I/usr/include/python2.7 build-scons/src/wrapper/_statiskit_slope_heuristic_estimation_7277086e994454ddaea1c1016da2125e.cpp</span>\n",
       "<span class=\"go\">g++ -o build-scons/src/wrapper/_statiskit_get_pr.os -c -DNDEBUG -O2 -std=c++0x -DNDEBUG -O2 -fPIC -ftemplate-depth-100 -DBOOST_PYTHON_DYNAMIC_LIB -Ibuild-scons/include -I/usr/include -I/usr/include/python2.7 build-scons/src/wrapper/_statiskit_get_pr.cpp</span>\n",
       "<span class=\"go\">g++ -o build-scons/src/wrapper/_gnu_cxx_normal_iterator_7d0699e84beb54b5942742b983906328.os -c -DNDEBUG -O2 -std=c++0x -DNDEBUG -O2 -fPIC -ftemplate-depth-100 -DBOOST_PYTHON_DYNAMIC_LIB -Ibuild-scons/include -I/usr/include -I/usr/include/python2.7 build-scons/src/wrapper/_gnu_cxx_normal_iterator_7d0699e84beb54b5942742b983906328.cpp</span>\n",
       "<span class=\"go\">g++ -o build-scons/src/wrapper/_statiskit_multivariate_sample_space.os -c -DNDEBUG -O2 -std=c++0x -DNDEBUG -O2 -fPIC -ftemplate-depth-100 -DBOOST_PYTHON_DYNAMIC_LIB -Ibuild-scons/include -I/usr/include -I/usr/include/python2.7 build-scons/src/wrapper/_statiskit_multivariate_sample_space.cpp</span>\n",
       "<span class=\"go\">g++ -o build-scons/src/wrapper/_std_allocator_rebind_4e05c5c5ce4e5ef3b457ab3f9eba69db.os -c -DNDEBUG -O2 -std=c++0x -DNDEBUG -O2 -fPIC -ftemplate-depth-100 -DBOOST_PYTHON_DYNAMIC_LIB -Ibuild-scons/include -I/usr/include -I/usr/include/python2.7 build-scons/src/wrapper/_std_allocator_rebind_4e05c5c5ce4e5ef3b457ab3f9eba69db.cpp</span>\n",
       "<span class=\"go\">g++ -o build-scons/src/wrapper/_statiskit_active_estimation_5fb2eab9d71e57ac893df2afa31c4d87.os -c -DNDEBUG -O2 -std=c++0x -DNDEBUG -O2 -fPIC -ftemplate-depth-100 -DBOOST_PYTHON_DYNAMIC_LIB -Ibuild-scons/include -I/usr/include -I/usr/include/python2.7 build-scons/src/wrapper/_statiskit_active_estimation_5fb2eab9d71e57ac893df2afa31c4d87.cpp</span>\n",
       "<span class=\"go\">g++ -o build-scons/src/wrapper/_statiskit_active_estimation_fe71f4e41d4b5e188acd6e7b981c1384.os -c -DNDEBUG -O2 -std=c++0x -DNDEBUG -O2 -fPIC -ftemplate-depth-100 -DBOOST_PYTHON_DYNAMIC_LIB -Ibuild-scons/include -I/usr/include -I/usr/include/python2.7 build-scons/src/wrapper/_statiskit_active_estimation_fe71f4e41d4b5e188acd6e7b981c1384.cpp</span>\n",
       "<span class=\"go\">g++ -o build-scons/src/wrapper/_statiskit_lazy_estimation_1e6e46598195539096997510f789dc8c.os -c -DNDEBUG -O2 -std=c++0x -DNDEBUG -O2 -fPIC -ftemplate-depth-100 -DBOOST_PYTHON_DYNAMIC_LIB -Ibuild-scons/include -I/usr/include -I/usr/include/python2.7 build-scons/src/wrapper/_statiskit_lazy_estimation_1e6e46598195539096997510f789dc8c.cpp</span>\n",
       "<span class=\"go\">g++ -o build-scons/src/wrapper/_std_allocator_3128a031b8f456b58079f67ae1ec9a7f.os -c -DNDEBUG -O2 -std=c++0x -DNDEBUG -O2 -fPIC -ftemplate-depth-100 -DBOOST_PYTHON_DYNAMIC_LIB -Ibuild-scons/include -I/usr/include -I/usr/include/python2.7 build-scons/src/wrapper/_std_allocator_3128a031b8f456b58079f67ae1ec9a7f.cpp</span>\n",
       "<span class=\"go\">g++ -o build-scons/src/wrapper/_gnu_cxx_normal_iterator_571f31aed5d3569f8da7fbe42b67012f.os -c -DNDEBUG -O2 -std=c++0x -DNDEBUG -O2 -fPIC -ftemplate-depth-100 -DBOOST_PYTHON_DYNAMIC_LIB -Ibuild-scons/include -I/usr/include -I/usr/include/python2.7 build-scons/src/wrapper/_gnu_cxx_normal_iterator_571f31aed5d3569f8da7fbe42b67012f.cpp</span>\n",
       "<span class=\"go\">g++ -o build-scons/src/wrapper/_std_allocator_rebind_ed24e54fbd4551bb886182f27c1ca0a2.os -c -DNDEBUG -O2 -std=c++0x -DNDEBUG -O2 -fPIC -ftemplate-depth-100 -DBOOST_PYTHON_DYNAMIC_LIB -Ibuild-scons/include -I/usr/include -I/usr/include/python2.7 build-scons/src/wrapper/_std_allocator_rebind_ed24e54fbd4551bb886182f27c1ca0a2.cpp</span>\n",
       "<span class=\"go\">g++ -o build-scons/src/wrapper/_std_initializer_list_347909e128505727b0035ec81e72d7a2.os -c -DNDEBUG -O2 -std=c++0x -DNDEBUG -O2 -fPIC -ftemplate-depth-100 -DBOOST_PYTHON_DYNAMIC_LIB -Ibuild-scons/include -I/usr/include -I/usr/include/python2.7 build-scons/src/wrapper/_std_initializer_list_347909e128505727b0035ec81e72d7a2.cpp</span>\n",
       "<span class=\"go\">g++ -o build-scons/src/wrapper/_gnu_cxx_new_allocator_41170f6ea60a59b3b8fe9a25adfbff32.os -c -DNDEBUG -O2 -std=c++0x -DNDEBUG -O2 -fPIC -ftemplate-depth-100 -DBOOST_PYTHON_DYNAMIC_LIB -Ibuild-scons/include -I/usr/include -I/usr/include/python2.7 build-scons/src/wrapper/_gnu_cxx_new_allocator_41170f6ea60a59b3b8fe9a25adfbff32.cpp</span>\n",
       "<span class=\"go\">g++ -o build-scons/src/wrapper/_statiskit_size_error.os -c -DNDEBUG -O2 -std=c++0x -DNDEBUG -O2 -fPIC -ftemplate-depth-100 -DBOOST_PYTHON_DYNAMIC_LIB -Ibuild-scons/include -I/usr/include -I/usr/include/python2.7 build-scons/src/wrapper/_statiskit_size_error.cpp</span>\n",
       "<span class=\"go\">g++ -o build-scons/src/wrapper/_statiskit_independent_multivariate_distribution_estimation_d20ddd6aa8615491867c89ce7d93fad1.os -c -DNDEBUG -O2 -std=c++0x -DNDEBUG -O2 -fPIC -ftemplate-depth-100 -DBOOST_PYTHON_DYNAMIC_LIB -Ibuild-scons/include -I/usr/include -I/usr/include/python2.7 build-scons/src/wrapper/_statiskit_independent_multivariate_distribution_estimation_d20ddd6aa8615491867c89ce7d93fad1.cpp</span>\n",
       "<span class=\"go\">g++ -o build-scons/src/wrapper/_std_allocator_2eb0c1d35a9f519c870eeb26550e66aa.os -c -DNDEBUG -O2 -std=c++0x -DNDEBUG -O2 -fPIC -ftemplate-depth-100 -DBOOST_PYTHON_DYNAMIC_LIB -Ibuild-scons/include -I/usr/include -I/usr/include/python2.7 build-scons/src/wrapper/_std_allocator_2eb0c1d35a9f519c870eeb26550e66aa.cpp</span>\n",
       "<span class=\"go\">g++ -o build-scons/src/wrapper/_statiskit_univariate_data_frame_metric.os -c -DNDEBUG -O2 -std=c++0x -DNDEBUG -O2 -fPIC -ftemplate-depth-100 -DBOOST_PYTHON_DYNAMIC_LIB -Ibuild-scons/include -I/usr/include -I/usr/include/python2.7 build-scons/src/wrapper/_statiskit_univariate_data_frame_metric.cpp</span>\n",
       "<span class=\"go\">g++ -o build-scons/src/wrapper/_std_allocator_rebind_86085200db85575db1f9627ac50d6f31.os -c -DNDEBUG -O2 -std=c++0x -DNDEBUG -O2 -fPIC -ftemplate-depth-100 -DBOOST_PYTHON_DYNAMIC_LIB -Ibuild-scons/include -I/usr/include -I/usr/include/python2.7 build-scons/src/wrapper/_std_allocator_rebind_86085200db85575db1f9627ac50d6f31.cpp</span>\n",
       "<span class=\"go\">g++ -o build-scons/src/wrapper/_std_reverse_iterator_aca2e99d305551f6ab1d5ba89c3737a0.os -c -DNDEBUG -O2 -std=c++0x -DNDEBUG -O2 -fPIC -ftemplate-depth-100 -DBOOST_PYTHON_DYNAMIC_LIB -Ibuild-scons/include -I/usr/include -I/usr/include/python2.7 build-scons/src/wrapper/_std_reverse_iterator_aca2e99d305551f6ab1d5ba89c3737a0.cpp</span>\n",
       "<span class=\"go\">g++ -o build-scons/src/wrapper/_statiskit_multivariate_distribution_estimation_estimator.os -c -DNDEBUG -O2 -std=c++0x -DNDEBUG -O2 -fPIC -ftemplate-depth-100 -DBOOST_PYTHON_DYNAMIC_LIB -Ibuild-scons/include -I/usr/include -I/usr/include/python2.7 build-scons/src/wrapper/_statiskit_multivariate_distribution_estimation_estimator.cpp</span>\n",
       "<span class=\"go\">g++ -o build-scons/src/wrapper/_statiskit_slope_heuristic_solver.os -c -DNDEBUG -O2 -std=c++0x -DNDEBUG -O2 -fPIC -ftemplate-depth-100 -DBOOST_PYTHON_DYNAMIC_LIB -Ibuild-scons/include -I/usr/include -I/usr/include/python2.7 build-scons/src/wrapper/_statiskit_slope_heuristic_solver.cpp</span>\n",
       "<span class=\"go\">g++ -o build-scons/src/wrapper/_statiskit_get_nn.os -c -DNDEBUG -O2 -std=c++0x -DNDEBUG -O2 -fPIC -ftemplate-depth-100 -DBOOST_PYTHON_DYNAMIC_LIB -Ibuild-scons/include -I/usr/include -I/usr/include/python2.7 build-scons/src/wrapper/_statiskit_get_nn.cpp</span>\n",
       "<span class=\"go\">g++ -o build-scons/src/wrapper/_statiskit_mean_estimation.os -c -DNDEBUG -O2 -std=c++0x -DNDEBUG -O2 -fPIC -ftemplate-depth-100 -DBOOST_PYTHON_DYNAMIC_LIB -Ibuild-scons/include -I/usr/include -I/usr/include/python2.7 build-scons/src/wrapper/_statiskit_mean_estimation.cpp</span>\n",
       "<span class=\"go\">g++ -o build-scons/src/wrapper/_statiskit_active_estimation_93a5c66bb70454fd80c0e1d040147e5c.os -c -DNDEBUG -O2 -std=c++0x -DNDEBUG -O2 -fPIC -ftemplate-depth-100 -DBOOST_PYTHON_DYNAMIC_LIB -Ibuild-scons/include -I/usr/include -I/usr/include/python2.7 build-scons/src/wrapper/_statiskit_active_estimation_93a5c66bb70454fd80c0e1d040147e5c.cpp</span>\n",
       "<span class=\"go\">g++ -o build-scons/src/wrapper/_std_reverse_iterator_bf953108cea75cd99ebde61e431a8261.os -c -DNDEBUG -O2 -std=c++0x -DNDEBUG -O2 -fPIC -ftemplate-depth-100 -DBOOST_PYTHON_DYNAMIC_LIB -Ibuild-scons/include -I/usr/include -I/usr/include/python2.7 build-scons/src/wrapper/_std_reverse_iterator_bf953108cea75cd99ebde61e431a8261.cpp</span>\n",
       "<span class=\"go\">g++ -o build-scons/src/wrapper/_gnu_cxx_new_allocator_4a0c418389c95e5c80dc22dc672f0135.os -c -DNDEBUG -O2 -std=c++0x -DNDEBUG -O2 -fPIC -ftemplate-depth-100 -DBOOST_PYTHON_DYNAMIC_LIB -Ibuild-scons/include -I/usr/include -I/usr/include/python2.7 build-scons/src/wrapper/_gnu_cxx_new_allocator_4a0c418389c95e5c80dc22dc672f0135.cpp</span>\n",
       "<span class=\"go\">g++ -o build-scons/src/wrapper/_statiskit_right_censored_event_15f9750d6baa5ade9d254d3d65b75862.os -c -DNDEBUG -O2 -std=c++0x -DNDEBUG -O2 -fPIC -ftemplate-depth-100 -DBOOST_PYTHON_DYNAMIC_LIB -Ibuild-scons/include -I/usr/include -I/usr/include/python2.7 build-scons/src/wrapper/_statiskit_right_censored_event_15f9750d6baa5ade9d254d3d65b75862.cpp</span>\n",
       "<span class=\"go\">g++ -o build-scons/src/wrapper/_statiskit_discrete_univariate_distribution.os -c -DNDEBUG -O2 -std=c++0x -DNDEBUG -O2 -fPIC -ftemplate-depth-100 -DBOOST_PYTHON_DYNAMIC_LIB -Ibuild-scons/include -I/usr/include -I/usr/include/python2.7 build-scons/src/wrapper/_statiskit_discrete_univariate_distribution.cpp</span>\n",
       "<span class=\"go\">g++ -o build-scons/src/wrapper/_std_reverse_iterator_aefbd4a4a3ec56be8ab30e8031998dc6.os -c -DNDEBUG -O2 -std=c++0x -DNDEBUG -O2 -fPIC -ftemplate-depth-100 -DBOOST_PYTHON_DYNAMIC_LIB -Ibuild-scons/include -I/usr/include -I/usr/include/python2.7 build-scons/src/wrapper/_std_reverse_iterator_aefbd4a4a3ec56be8ab30e8031998dc6.cpp</span>\n",
       "<span class=\"go\">g++ -o build-scons/src/wrapper/_gnu_cxx_normal_iterator_c0c85a3cfa2c57d38eed02e269f344b4.os -c -DNDEBUG -O2 -std=c++0x -DNDEBUG -O2 -fPIC -ftemplate-depth-100 -DBOOST_PYTHON_DYNAMIC_LIB -Ibuild-scons/include -I/usr/include -I/usr/include/python2.7 build-scons/src/wrapper/_gnu_cxx_normal_iterator_c0c85a3cfa2c57d38eed02e269f344b4.cpp</span>\n",
       "<span class=\"go\">g++ -o build-scons/src/wrapper/_statiskit_categorical_multivariate_distribution.os -c -DNDEBUG -O2 -std=c++0x -DNDEBUG -O2 -fPIC -ftemplate-depth-100 -DBOOST_PYTHON_DYNAMIC_LIB -Ibuild-scons/include -I/usr/include -I/usr/include/python2.7 build-scons/src/wrapper/_statiskit_categorical_multivariate_distribution.cpp</span>\n",
       "<span class=\"go\">g++ -o build-scons/src/wrapper/_std_allocator_rebind_bb502b2d2bb75027b06e6bedd6c96fd2.os -c -DNDEBUG -O2 -std=c++0x -DNDEBUG -O2 -fPIC -ftemplate-depth-100 -DBOOST_PYTHON_DYNAMIC_LIB -Ibuild-scons/include -I/usr/include -I/usr/include/python2.7 build-scons/src/wrapper/_std_allocator_rebind_bb502b2d2bb75027b06e6bedd6c96fd2.cpp</span>\n",
       "<span class=\"go\">g++ -o build-scons/src/wrapper/_statiskit_rounding_type.os -c -DNDEBUG -O2 -std=c++0x -DNDEBUG -O2 -fPIC -ftemplate-depth-100 -DBOOST_PYTHON_DYNAMIC_LIB -Ibuild-scons/include -I/usr/include -I/usr/include/python2.7 build-scons/src/wrapper/_statiskit_rounding_type.cpp</span>\n",
       "<span class=\"go\">g++ -o build-scons/src/wrapper/_gnu_cxx_normal_iterator_7447a89a115a58fdb6e70120f58a0bbb.os -c -DNDEBUG -O2 -std=c++0x -DNDEBUG -O2 -fPIC -ftemplate-depth-100 -DBOOST_PYTHON_DYNAMIC_LIB -Ibuild-scons/include -I/usr/include -I/usr/include/python2.7 build-scons/src/wrapper/_gnu_cxx_normal_iterator_7447a89a115a58fdb6e70120f58a0bbb.cpp</span>\n",
       "<span class=\"go\">g++ -o build-scons/src/wrapper/_statiskit_regular_univariate_histogram_distribution_slope_heuristic_estimation.os -c -DNDEBUG -O2 -std=c++0x -DNDEBUG -O2 -fPIC -ftemplate-depth-100 -DBOOST_PYTHON_DYNAMIC_LIB -Ibuild-scons/include -I/usr/include -I/usr/include/python2.7 build-scons/src/wrapper/_statiskit_regular_univariate_histogram_distribution_slope_heuristic_estimation.cpp</span>\n",
       "<span class=\"go\">g++ -o build-scons/src/wrapper/_statiskit_test_error.os -c -DNDEBUG -O2 -std=c++0x -DNDEBUG -O2 -fPIC -ftemplate-depth-100 -DBOOST_PYTHON_DYNAMIC_LIB -Ibuild-scons/include -I/usr/include -I/usr/include/python2.7 build-scons/src/wrapper/_statiskit_test_error.cpp</span>\n",
       "<span class=\"go\">g++ -o build-scons/src/wrapper/_statiskit_lazy_estimation_c9ffd0d92ccf50cca65eca5bdcf1e0ca.os -c -DNDEBUG -O2 -std=c++0x -DNDEBUG -O2 -fPIC -ftemplate-depth-100 -DBOOST_PYTHON_DYNAMIC_LIB -Ibuild-scons/include -I/usr/include -I/usr/include/python2.7 build-scons/src/wrapper/_statiskit_lazy_estimation_c9ffd0d92ccf50cca65eca5bdcf1e0ca.cpp</span>\n",
       "<span class=\"go\">g++ -o build-scons/src/wrapper/_statiskit_multivariate_log_likelihood.os -c -DNDEBUG -O2 -std=c++0x -DNDEBUG -O2 -fPIC -ftemplate-depth-100 -DBOOST_PYTHON_DYNAMIC_LIB -Ibuild-scons/include -I/usr/include -I/usr/include/python2.7 build-scons/src/wrapper/_statiskit_multivariate_log_likelihood.cpp</span>\n",
       "<span class=\"go\">g++ -o build-scons/src/wrapper/_statiskit_lazy_estimation_91340c4ac3dc5f8c8370fb7360c78887.os -c -DNDEBUG -O2 -std=c++0x -DNDEBUG -O2 -fPIC -ftemplate-depth-100 -DBOOST_PYTHON_DYNAMIC_LIB -Ibuild-scons/include -I/usr/include -I/usr/include/python2.7 build-scons/src/wrapper/_statiskit_lazy_estimation_91340c4ac3dc5f8c8370fb7360c78887.cpp</span>\n",
       "<span class=\"go\">g++ -o build-scons/src/wrapper/_std_iterator_c9c811dafa3a54f8bda5040252c2ed8a.os -c -DNDEBUG -O2 -std=c++0x -DNDEBUG -O2 -fPIC -ftemplate-depth-100 -DBOOST_PYTHON_DYNAMIC_LIB -Ibuild-scons/include -I/usr/include -I/usr/include/python2.7 build-scons/src/wrapper/_std_iterator_c9c811dafa3a54f8bda5040252c2ed8a.cpp</span>\n",
       "<span class=\"go\">g++ -o build-scons/src/wrapper/_statiskit_categorical_multivariate_distribution_estimation.os -c -DNDEBUG -O2 -std=c++0x -DNDEBUG -O2 -fPIC -ftemplate-depth-100 -DBOOST_PYTHON_DYNAMIC_LIB -Ibuild-scons/include -I/usr/include -I/usr/include/python2.7 build-scons/src/wrapper/_statiskit_categorical_multivariate_distribution_estimation.cpp</span>\n",
       "<span class=\"go\">g++ -o build-scons/src/wrapper/_statiskit_univariate_log_likelihood.os -c -DNDEBUG -O2 -std=c++0x -DNDEBUG -O2 -fPIC -ftemplate-depth-100 -DBOOST_PYTHON_DYNAMIC_LIB -Ibuild-scons/include -I/usr/include -I/usr/include/python2.7 build-scons/src/wrapper/_statiskit_univariate_log_likelihood.cpp</span>\n",
       "<span class=\"go\">g++ -o build-scons/src/wrapper/_statiskit_normal_distribution_ml_estimation_estimator.os -c -DNDEBUG -O2 -std=c++0x -DNDEBUG -O2 -fPIC -ftemplate-depth-100 -DBOOST_PYTHON_DYNAMIC_LIB -Ibuild-scons/include -I/usr/include -I/usr/include/python2.7 build-scons/src/wrapper/_statiskit_normal_distribution_ml_estimation_estimator.cpp</span>\n",
       "<span class=\"go\">g++ -o build-scons/src/wrapper/_statiskit_discrete_event.os -c -DNDEBUG -O2 -std=c++0x -DNDEBUG -O2 -fPIC -ftemplate-depth-100 -DBOOST_PYTHON_DYNAMIC_LIB -Ibuild-scons/include -I/usr/include -I/usr/include/python2.7 build-scons/src/wrapper/_statiskit_discrete_event.cpp</span>\n",
       "<span class=\"go\">g++ -o build-scons/src/wrapper/_statiskit_categorical_sample_space.os -c -DNDEBUG -O2 -std=c++0x -DNDEBUG -O2 -fPIC -ftemplate-depth-100 -DBOOST_PYTHON_DYNAMIC_LIB -Ibuild-scons/include -I/usr/include -I/usr/include/python2.7 build-scons/src/wrapper/_statiskit_categorical_sample_space.cpp</span>\n",
       "<span class=\"go\">g++ -o build-scons/src/wrapper/_statiskit_ordering_type.os -c -DNDEBUG -O2 -std=c++0x -DNDEBUG -O2 -fPIC -ftemplate-depth-100 -DBOOST_PYTHON_DYNAMIC_LIB -Ibuild-scons/include -I/usr/include -I/usr/include/python2.7 build-scons/src/wrapper/_statiskit_ordering_type.cpp</span>\n",
       "<span class=\"go\">g++ -o build-scons/src/wrapper/_gnu_cxx_normal_iterator_2c4b491983075a18924d83385b377965.os -c -DNDEBUG -O2 -std=c++0x -DNDEBUG -O2 -fPIC -ftemplate-depth-100 -DBOOST_PYTHON_DYNAMIC_LIB -Ibuild-scons/include -I/usr/include -I/usr/include/python2.7 build-scons/src/wrapper/_gnu_cxx_normal_iterator_2c4b491983075a18924d83385b377965.cpp</span>\n",
       "<span class=\"go\">g++ -o build-scons/src/wrapper/_statiskit_continuous_multivariate_distribution.os -c -DNDEBUG -O2 -std=c++0x -DNDEBUG -O2 -fPIC -ftemplate-depth-100 -DBOOST_PYTHON_DYNAMIC_LIB -Ibuild-scons/include -I/usr/include -I/usr/include/python2.7 build-scons/src/wrapper/_statiskit_continuous_multivariate_distribution.cpp</span>\n",
       "<span class=\"go\">g++ -o build-scons/src/wrapper/_statiskit_natural_mean_estimation.os -c -DNDEBUG -O2 -std=c++0x -DNDEBUG -O2 -fPIC -ftemplate-depth-100 -DBOOST_PYTHON_DYNAMIC_LIB -Ibuild-scons/include -I/usr/include -I/usr/include/python2.7 build-scons/src/wrapper/_statiskit_natural_mean_estimation.cpp</span>\n",
       "<span class=\"go\">g++ -o build-scons/src/wrapper/_statiskit_left_censored_event_2d36b77479005ec190a10f0080a8aae4.os -c -DNDEBUG -O2 -std=c++0x -DNDEBUG -O2 -fPIC -ftemplate-depth-100 -DBOOST_PYTHON_DYNAMIC_LIB -Ibuild-scons/include -I/usr/include -I/usr/include/python2.7 build-scons/src/wrapper/_statiskit_left_censored_event_2d36b77479005ec190a10f0080a8aae4.cpp</span>\n",
       "<span class=\"go\">g++ -o build-scons/src/wrapper/_statiskit_categorical_event.os -c -DNDEBUG -O2 -std=c++0x -DNDEBUG -O2 -fPIC -ftemplate-depth-100 -DBOOST_PYTHON_DYNAMIC_LIB -Ibuild-scons/include -I/usr/include -I/usr/include/python2.7 build-scons/src/wrapper/_statiskit_categorical_event.cpp</span>\n",
       "<span class=\"go\">g++ -o build-scons/src/wrapper/_std_initializer_list_b7c1dbc51ec856248dbb857f7b89aed7.os -c -DNDEBUG -O2 -std=c++0x -DNDEBUG -O2 -fPIC -ftemplate-depth-100 -DBOOST_PYTHON_DYNAMIC_LIB -Ibuild-scons/include -I/usr/include -I/usr/include/python2.7 build-scons/src/wrapper/_std_initializer_list_b7c1dbc51ec856248dbb857f7b89aed7.cpp</span>\n",
       "<span class=\"go\">g++ -o build-scons/src/wrapper/_statiskit_poisson_distribution_ml_estimation.os -c -DNDEBUG -O2 -std=c++0x -DNDEBUG -O2 -fPIC -ftemplate-depth-100 -DBOOST_PYTHON_DYNAMIC_LIB -Ibuild-scons/include -I/usr/include -I/usr/include/python2.7 build-scons/src/wrapper/_statiskit_poisson_distribution_ml_estimation.cpp</span>\n",
       "<span class=\"go\">g++ -o build-scons/src/wrapper/_statiskit_poisson_distribution.os -c -DNDEBUG -O2 -std=c++0x -DNDEBUG -O2 -fPIC -ftemplate-depth-100 -DBOOST_PYTHON_DYNAMIC_LIB -Ibuild-scons/include -I/usr/include -I/usr/include/python2.7 build-scons/src/wrapper/_statiskit_poisson_distribution.cpp</span>\n",
       "<span class=\"go\">g++ -o build-scons/src/wrapper/_statiskit_weighted_univariate_data_frame.os -c -DNDEBUG -O2 -std=c++0x -DNDEBUG -O2 -fPIC -ftemplate-depth-100 -DBOOST_PYTHON_DYNAMIC_LIB -Ibuild-scons/include -I/usr/include -I/usr/include/python2.7 build-scons/src/wrapper/_statiskit_weighted_univariate_data_frame.cpp</span>\n",
       "<span class=\"go\">g++ -o build-scons/src/wrapper/_statiskit_get_uimax.os -c -DNDEBUG -O2 -std=c++0x -DNDEBUG -O2 -fPIC -ftemplate-depth-100 -DBOOST_PYTHON_DYNAMIC_LIB -Ibuild-scons/include -I/usr/include -I/usr/include/python2.7 build-scons/src/wrapper/_statiskit_get_uimax.cpp</span>\n",
       "<span class=\"go\">g++ -o build-scons/src/wrapper/_std_iterator_b5b2f5581ee251bdab815d81a847749f.os -c -DNDEBUG -O2 -std=c++0x -DNDEBUG -O2 -fPIC -ftemplate-depth-100 -DBOOST_PYTHON_DYNAMIC_LIB -Ibuild-scons/include -I/usr/include -I/usr/include/python2.7 build-scons/src/wrapper/_std_iterator_b5b2f5581ee251bdab815d81a847749f.cpp</span>\n",
       "<span class=\"go\">g++ -o build-scons/src/wrapper/_statiskit_discrete_sample_space.os -c -DNDEBUG -O2 -std=c++0x -DNDEBUG -O2 -fPIC -ftemplate-depth-100 -DBOOST_PYTHON_DYNAMIC_LIB -Ibuild-scons/include -I/usr/include -I/usr/include/python2.7 build-scons/src/wrapper/_statiskit_discrete_sample_space.cpp</span>\n",
       "<span class=\"go\">g++ -o build-scons/src/wrapper/_std_initializer_list_3e7d3ba59ee95accaa0099cc980a46d1.os -c -DNDEBUG -O2 -std=c++0x -DNDEBUG -O2 -fPIC -ftemplate-depth-100 -DBOOST_PYTHON_DYNAMIC_LIB -Ibuild-scons/include -I/usr/include -I/usr/include/python2.7 build-scons/src/wrapper/_std_initializer_list_3e7d3ba59ee95accaa0099cc980a46d1.cpp</span>\n",
       "<span class=\"go\">g++ -o build-scons/src/wrapper/_gnu_cxx_normal_iterator_ba437e85edd15a07908b8ed388e8cd92.os -c -DNDEBUG -O2 -std=c++0x -DNDEBUG -O2 -fPIC -ftemplate-depth-100 -DBOOST_PYTHON_DYNAMIC_LIB -Ibuild-scons/include -I/usr/include -I/usr/include/python2.7 build-scons/src/wrapper/_gnu_cxx_normal_iterator_ba437e85edd15a07908b8ed388e8cd92.cpp</span>\n",
       "<span class=\"go\">g++ -o build-scons/src/wrapper/_statiskit_univariate_frequency_distribution_estimation_estimator_2dc2d05f6d5f5079b390445a2d6b51c5.os -c -DNDEBUG -O2 -std=c++0x -DNDEBUG -O2 -fPIC -ftemplate-depth-100 -DBOOST_PYTHON_DYNAMIC_LIB -Ibuild-scons/include -I/usr/include -I/usr/include/python2.7 build-scons/src/wrapper/_statiskit_univariate_frequency_distribution_estimation_estimator_2dc2d05f6d5f5079b390445a2d6b51c5.cpp</span>\n",
       "<span class=\"go\">g++ -o build-scons/src/wrapper/_statiskit_nominal_distribution.os -c -DNDEBUG -O2 -std=c++0x -DNDEBUG -O2 -fPIC -ftemplate-depth-100 -DBOOST_PYTHON_DYNAMIC_LIB -Ibuild-scons/include -I/usr/include -I/usr/include/python2.7 build-scons/src/wrapper/_statiskit_nominal_distribution.cpp</span>\n",
       "<span class=\"go\">g++ -o build-scons/src/wrapper/_statiskit_duplicated_value_error.os -c -DNDEBUG -O2 -std=c++0x -DNDEBUG -O2 -fPIC -ftemplate-depth-100 -DBOOST_PYTHON_DYNAMIC_LIB -Ibuild-scons/include -I/usr/include -I/usr/include/python2.7 build-scons/src/wrapper/_statiskit_duplicated_value_error.cpp</span>\n",
       "<span class=\"go\">g++ -o build-scons/src/wrapper/_statiskit_lazy_estimation_71f0d5d2b19150fb9ee7688c94276601.os -c -DNDEBUG -O2 -std=c++0x -DNDEBUG -O2 -fPIC -ftemplate-depth-100 -DBOOST_PYTHON_DYNAMIC_LIB -Ibuild-scons/include -I/usr/include -I/usr/include/python2.7 build-scons/src/wrapper/_statiskit_lazy_estimation_71f0d5d2b19150fb9ee7688c94276601.cpp</span>\n",
       "<span class=\"go\">g++ -o build-scons/src/wrapper/_statiskit_binomial_distribution_mm_estimation_estimator.os -c -DNDEBUG -O2 -std=c++0x -DNDEBUG -O2 -fPIC -ftemplate-depth-100 -DBOOST_PYTHON_DYNAMIC_LIB -Ibuild-scons/include -I/usr/include -I/usr/include/python2.7 build-scons/src/wrapper/_statiskit_binomial_distribution_mm_estimation_estimator.cpp</span>\n",
       "<span class=\"go\">g++ -o build-scons/src/wrapper/_std_iterator_b5c583fcf78a594ab13106079ab16bca.os -c -DNDEBUG -O2 -std=c++0x -DNDEBUG -O2 -fPIC -ftemplate-depth-100 -DBOOST_PYTHON_DYNAMIC_LIB -Ibuild-scons/include -I/usr/include -I/usr/include/python2.7 build-scons/src/wrapper/_std_iterator_b5c583fcf78a594ab13106079ab16bca.cpp</span>\n",
       "<span class=\"go\">g++ -o build-scons/src/wrapper/_std_iterator_4c7222dee3535bb1b32c123e204275e5.os -c -DNDEBUG -O2 -std=c++0x -DNDEBUG -O2 -fPIC -ftemplate-depth-100 -DBOOST_PYTHON_DYNAMIC_LIB -Ibuild-scons/include -I/usr/include -I/usr/include/python2.7 build-scons/src/wrapper/_std_iterator_4c7222dee3535bb1b32c123e204275e5.cpp</span>\n",
       "<span class=\"go\">g++ -o build-scons/src/wrapper/_statiskit_active_estimation_e4893e08e46c514ba83d3d106cf034b8.os -c -DNDEBUG -O2 -std=c++0x -DNDEBUG -O2 -fPIC -ftemplate-depth-100 -DBOOST_PYTHON_DYNAMIC_LIB -Ibuild-scons/include -I/usr/include -I/usr/include/python2.7 build-scons/src/wrapper/_statiskit_active_estimation_e4893e08e46c514ba83d3d106cf034b8.cpp</span>\n",
       "<span class=\"go\">g++ -o build-scons/src/wrapper/_statiskit_univariate_distribution.os -c -DNDEBUG -O2 -std=c++0x -DNDEBUG -O2 -fPIC -ftemplate-depth-100 -DBOOST_PYTHON_DYNAMIC_LIB -Ibuild-scons/include -I/usr/include -I/usr/include/python2.7 build-scons/src/wrapper/_statiskit_univariate_distribution.cpp</span>\n",
       "<span class=\"go\">g++ -o build-scons/src/wrapper/_std_initializer_list_91b2dc7eaefa5aa3b6d55a06294bef1f.os -c -DNDEBUG -O2 -std=c++0x -DNDEBUG -O2 -fPIC -ftemplate-depth-100 -DBOOST_PYTHON_DYNAMIC_LIB -Ibuild-scons/include -I/usr/include -I/usr/include/python2.7 build-scons/src/wrapper/_std_initializer_list_91b2dc7eaefa5aa3b6d55a06294bef1f.cpp</span>\n",
       "<span class=\"go\">g++ -o build-scons/src/wrapper/_std_initializer_list_c372c6dd4f8559dfb4b12772c5dad0e9.os -c -DNDEBUG -O2 -std=c++0x -DNDEBUG -O2 -fPIC -ftemplate-depth-100 -DBOOST_PYTHON_DYNAMIC_LIB -Ibuild-scons/include -I/usr/include -I/usr/include/python2.7 build-scons/src/wrapper/_std_initializer_list_c372c6dd4f8559dfb4b12772c5dad0e9.cpp</span>\n",
       "<span class=\"go\">g++ -o build-scons/src/wrapper/_statiskit_left_censored_event_119cc34a340858c2be673e21220e5637.os -c -DNDEBUG -O2 -std=c++0x -DNDEBUG -O2 -fPIC -ftemplate-depth-100 -DBOOST_PYTHON_DYNAMIC_LIB -Ibuild-scons/include -I/usr/include -I/usr/include/python2.7 build-scons/src/wrapper/_statiskit_left_censored_event_119cc34a340858c2be673e21220e5637.cpp</span>\n",
       "<span class=\"go\">g++ -o build-scons/src/wrapper/_statiskit_continuous_sample_space.os -c -DNDEBUG -O2 -std=c++0x -DNDEBUG -O2 -fPIC -ftemplate-depth-100 -DBOOST_PYTHON_DYNAMIC_LIB -Ibuild-scons/include -I/usr/include -I/usr/include/python2.7 build-scons/src/wrapper/_statiskit_continuous_sample_space.cpp</span>\n",
       "<span class=\"go\">g++ -o build-scons/src/wrapper/_statiskit_get_minits.os -c -DNDEBUG -O2 -std=c++0x -DNDEBUG -O2 -fPIC -ftemplate-depth-100 -DBOOST_PYTHON_DYNAMIC_LIB -Ibuild-scons/include -I/usr/include -I/usr/include/python2.7 build-scons/src/wrapper/_statiskit_get_minits.cpp</span>\n",
       "<span class=\"go\">g++ -o build-scons/src/wrapper/_statiskit_event_type.os -c -DNDEBUG -O2 -std=c++0x -DNDEBUG -O2 -fPIC -ftemplate-depth-100 -DBOOST_PYTHON_DYNAMIC_LIB -Ibuild-scons/include -I/usr/include -I/usr/include/python2.7 build-scons/src/wrapper/_statiskit_event_type.cpp</span>\n",
       "<span class=\"go\">g++ -o build-scons/src/wrapper/_statiskit_active_estimation_c815fb08291d52ffbecb0f201d4471a3.os -c -DNDEBUG -O2 -std=c++0x -DNDEBUG -O2 -fPIC -ftemplate-depth-100 -DBOOST_PYTHON_DYNAMIC_LIB -Ibuild-scons/include -I/usr/include -I/usr/include/python2.7 build-scons/src/wrapper/_statiskit_active_estimation_c815fb08291d52ffbecb0f201d4471a3.cpp</span>\n",
       "<span class=\"go\">g++ -o build-scons/src/wrapper/_statiskit_slope_heuristic_iwls_solver.os -c -DNDEBUG -O2 -std=c++0x -DNDEBUG -O2 -fPIC -ftemplate-depth-100 -DBOOST_PYTHON_DYNAMIC_LIB -Ibuild-scons/include -I/usr/include -I/usr/include/python2.7 build-scons/src/wrapper/_statiskit_slope_heuristic_iwls_solver.cpp</span>\n",
       "<span class=\"go\">g++ -o build-scons/src/wrapper/_statiskit_co_variance_estimation.os -c -DNDEBUG -O2 -std=c++0x -DNDEBUG -O2 -fPIC -ftemplate-depth-100 -DBOOST_PYTHON_DYNAMIC_LIB -Ibuild-scons/include -I/usr/include -I/usr/include/python2.7 build-scons/src/wrapper/_statiskit_co_variance_estimation.cpp</span>\n",
       "<span class=\"go\">g++ -o build-scons/src/wrapper/_std_reverse_iterator_b77d9460f6e056d8b7fa457000062593.os -c -DNDEBUG -O2 -std=c++0x -DNDEBUG -O2 -fPIC -ftemplate-depth-100 -DBOOST_PYTHON_DYNAMIC_LIB -Ibuild-scons/include -I/usr/include -I/usr/include/python2.7 build-scons/src/wrapper/_std_reverse_iterator_b77d9460f6e056d8b7fa457000062593.cpp</span>\n",
       "<span class=\"go\">g++ -o build-scons/src/wrapper/_std_iterator_abe57280229b5ce092a1d3395c0c5f31.os -c -DNDEBUG -O2 -std=c++0x -DNDEBUG -O2 -fPIC -ftemplate-depth-100 -DBOOST_PYTHON_DYNAMIC_LIB -Ibuild-scons/include -I/usr/include -I/usr/include/python2.7 build-scons/src/wrapper/_std_iterator_abe57280229b5ce092a1d3395c0c5f31.cpp</span>\n",
       "<span class=\"go\">g++ -o build-scons/src/wrapper/_statiskit_regular_univariate_histogram_distribution_slope_heuristic_estimation_estimator.os -c -DNDEBUG -O2 -std=c++0x -DNDEBUG -O2 -fPIC -ftemplate-depth-100 -DBOOST_PYTHON_DYNAMIC_LIB -Ibuild-scons/include -I/usr/include -I/usr/include/python2.7 build-scons/src/wrapper/_statiskit_regular_univariate_histogram_distribution_slope_heuristic_estimation_estimator.cpp</span>\n",
       "<span class=\"go\">g++ -o build-scons/src/wrapper/_statiskit_irregular_univariate_histogram_distribution_slope_heuristic_estimation.os -c -DNDEBUG -O2 -std=c++0x -DNDEBUG -O2 -fPIC -ftemplate-depth-100 -DBOOST_PYTHON_DYNAMIC_LIB -Ibuild-scons/include -I/usr/include -I/usr/include/python2.7 build-scons/src/wrapper/_statiskit_irregular_univariate_histogram_distribution_slope_heuristic_estimation.cpp</span>\n",
       "<span class=\"go\">g++ -o build-scons/src/wrapper/_statiskit_univariate_frequency_distribution_estimation_estimator_f7e3fcbd207e57a891fa19d825125270.os -c -DNDEBUG -O2 -std=c++0x -DNDEBUG -O2 -fPIC -ftemplate-depth-100 -DBOOST_PYTHON_DYNAMIC_LIB -Ibuild-scons/include -I/usr/include -I/usr/include/python2.7 build-scons/src/wrapper/_statiskit_univariate_frequency_distribution_estimation_estimator_f7e3fcbd207e57a891fa19d825125270.cpp</span>\n",
       "<span class=\"go\">g++ -o build-scons/src/wrapper/_statiskit_independent_multivariate_distribution_estimation_estimator_318fc4eed9a650faaa81b4f3a71a778d.os -c -DNDEBUG -O2 -std=c++0x -DNDEBUG -O2 -fPIC -ftemplate-depth-100 -DBOOST_PYTHON_DYNAMIC_LIB -Ibuild-scons/include -I/usr/include -I/usr/include/python2.7 build-scons/src/wrapper/_statiskit_independent_multivariate_distribution_estimation_estimator_318fc4eed9a650faaa81b4f3a71a778d.cpp</span>\n",
       "<span class=\"go\">g++ -o build-scons/src/wrapper/_gnu_cxx_normal_iterator_4b0a57a1d08a5a15ac5a3e3b6cc58335.os -c -DNDEBUG -O2 -std=c++0x -DNDEBUG -O2 -fPIC -ftemplate-depth-100 -DBOOST_PYTHON_DYNAMIC_LIB -Ibuild-scons/include -I/usr/include -I/usr/include/python2.7 build-scons/src/wrapper/_gnu_cxx_normal_iterator_4b0a57a1d08a5a15ac5a3e3b6cc58335.cpp</span>\n",
       "<span class=\"go\">g++ -o build-scons/src/wrapper/_statiskit_interval_censored_event_da52ebc0143c567393ac2fb12eb7b0de.os -c -DNDEBUG -O2 -std=c++0x -DNDEBUG -O2 -fPIC -ftemplate-depth-100 -DBOOST_PYTHON_DYNAMIC_LIB -Ibuild-scons/include -I/usr/include -I/usr/include/python2.7 build-scons/src/wrapper/_statiskit_interval_censored_event_da52ebc0143c567393ac2fb12eb7b0de.cpp</span>\n",
       "<span class=\"go\">g++ -o build-scons/src/wrapper/_gnu_cxx_new_allocator_39022a5700b8525b803f96a856a90862.os -c -DNDEBUG -O2 -std=c++0x -DNDEBUG -O2 -fPIC -ftemplate-depth-100 -DBOOST_PYTHON_DYNAMIC_LIB -Ibuild-scons/include -I/usr/include -I/usr/include/python2.7 build-scons/src/wrapper/_gnu_cxx_new_allocator_39022a5700b8525b803f96a856a90862.cpp</span>\n",
       "<span class=\"go\">g++ -o build-scons/src/wrapper/_statiskit_elementary_event_cbcf17cab51f57b48b1234a139e68c06.os -c -DNDEBUG -O2 -std=c++0x -DNDEBUG -O2 -fPIC -ftemplate-depth-100 -DBOOST_PYTHON_DYNAMIC_LIB -Ibuild-scons/include -I/usr/include -I/usr/include/python2.7 build-scons/src/wrapper/_statiskit_elementary_event_cbcf17cab51f57b48b1234a139e68c06.cpp</span>\n",
       "<span class=\"go\">g++ -o build-scons/src/wrapper/_gnu_cxx_new_allocator_2a173dda8afd51389869b877d5c7ee7e.os -c -DNDEBUG -O2 -std=c++0x -DNDEBUG -O2 -fPIC -ftemplate-depth-100 -DBOOST_PYTHON_DYNAMIC_LIB -Ibuild-scons/include -I/usr/include -I/usr/include/python2.7 build-scons/src/wrapper/_gnu_cxx_new_allocator_2a173dda8afd51389869b877d5c7ee7e.cpp</span>\n",
       "<span class=\"go\">g++ -o build-scons/src/wrapper/_std_vector_bfaea671f2f559e88aa6288f67fb2ac3.os -c -DNDEBUG -O2 -std=c++0x -DNDEBUG -O2 -fPIC -ftemplate-depth-100 -DBOOST_PYTHON_DYNAMIC_LIB -Ibuild-scons/include -I/usr/include -I/usr/include/python2.7 build-scons/src/wrapper/_std_vector_bfaea671f2f559e88aa6288f67fb2ac3.cpp</span>\n",
       "<span class=\"go\">g++ -o build-scons/src/wrapper/_statiskit_poisson_distribution_ml_estimation_estimator.os -c -DNDEBUG -O2 -std=c++0x -DNDEBUG -O2 -fPIC -ftemplate-depth-100 -DBOOST_PYTHON_DYNAMIC_LIB -Ibuild-scons/include -I/usr/include -I/usr/include/python2.7 build-scons/src/wrapper/_statiskit_poisson_distribution_ml_estimation_estimator.cpp</span>\n",
       "<span class=\"go\">g++ -o build-scons/src/wrapper/_gnu_cxx_normal_iterator_1d72e8aa45e559939537a5b298ed2961.os -c -DNDEBUG -O2 -std=c++0x -DNDEBUG -O2 -fPIC -ftemplate-depth-100 -DBOOST_PYTHON_DYNAMIC_LIB -Ibuild-scons/include -I/usr/include -I/usr/include/python2.7 build-scons/src/wrapper/_gnu_cxx_normal_iterator_1d72e8aa45e559939537a5b298ed2961.cpp</span>\n",
       "<span class=\"go\">g++ -o build-scons/src/wrapper/_std_allocator_4d4f388916ae5d978c66d400ee5deced.os -c -DNDEBUG -O2 -std=c++0x -DNDEBUG -O2 -fPIC -ftemplate-depth-100 -DBOOST_PYTHON_DYNAMIC_LIB -Ibuild-scons/include -I/usr/include -I/usr/include/python2.7 build-scons/src/wrapper/_std_allocator_4d4f388916ae5d978c66d400ee5deced.cpp</span>\n",
       "<span class=\"go\">g++ -o build-scons/src/wrapper/_statiskit_slope_heuristic_superior_selector.os -c -DNDEBUG -O2 -std=c++0x -DNDEBUG -O2 -fPIC -ftemplate-depth-100 -DBOOST_PYTHON_DYNAMIC_LIB -Ibuild-scons/include -I/usr/include -I/usr/include/python2.7 build-scons/src/wrapper/_statiskit_slope_heuristic_superior_selector.cpp</span>\n",
       "<span class=\"go\">g++ -o build-scons/src/wrapper/_statiskit_ordinal_distribution.os -c -DNDEBUG -O2 -std=c++0x -DNDEBUG -O2 -fPIC -ftemplate-depth-100 -DBOOST_PYTHON_DYNAMIC_LIB -Ibuild-scons/include -I/usr/include -I/usr/include/python2.7 build-scons/src/wrapper/_statiskit_ordinal_distribution.cpp</span>\n",
       "<span class=\"go\">g++ -o build-scons/src/wrapper/_gnu_cxx_normal_iterator_144db34bb3e65a49ab99c7b8ad33c42b.os -c -DNDEBUG -O2 -std=c++0x -DNDEBUG -O2 -fPIC -ftemplate-depth-100 -DBOOST_PYTHON_DYNAMIC_LIB -Ibuild-scons/include -I/usr/include -I/usr/include/python2.7 build-scons/src/wrapper/_gnu_cxx_normal_iterator_144db34bb3e65a49ab99c7b8ad33c42b.cpp</span>\n",
       "<span class=\"go\">g++ -o build-scons/src/wrapper/_statiskit_slope_heuristic_bi_square_solver.os -c -DNDEBUG -O2 -std=c++0x -DNDEBUG -O2 -fPIC -ftemplate-depth-100 -DBOOST_PYTHON_DYNAMIC_LIB -Ibuild-scons/include -I/usr/include -I/usr/include/python2.7 build-scons/src/wrapper/_statiskit_slope_heuristic_bi_square_solver.cpp</span>\n",
       "<span class=\"go\">g++ -o build-scons/src/wrapper/_statiskit_active_estimation_1a441d795e725da0ae87847854803256.os -c -DNDEBUG -O2 -std=c++0x -DNDEBUG -O2 -fPIC -ftemplate-depth-100 -DBOOST_PYTHON_DYNAMIC_LIB -Ibuild-scons/include -I/usr/include -I/usr/include/python2.7 build-scons/src/wrapper/_statiskit_active_estimation_1a441d795e725da0ae87847854803256.cpp</span>\n",
       "<span class=\"go\">g++ -o build-scons/src/wrapper/_gnu_cxx_normal_iterator_ca54e8d56b25530e808512b42dffcb11.os -c -DNDEBUG -O2 -std=c++0x -DNDEBUG -O2 -fPIC -ftemplate-depth-100 -DBOOST_PYTHON_DYNAMIC_LIB -Ibuild-scons/include -I/usr/include -I/usr/include/python2.7 build-scons/src/wrapper/_gnu_cxx_normal_iterator_ca54e8d56b25530e808512b42dffcb11.cpp</span>\n",
       "<span class=\"go\">g++ -o build-scons/src/wrapper/_statiskit_active_estimation_97b9ff80b0db59369e7e020acd3f1ab8.os -c -DNDEBUG -O2 -std=c++0x -DNDEBUG -O2 -fPIC -ftemplate-depth-100 -DBOOST_PYTHON_DYNAMIC_LIB -Ibuild-scons/include -I/usr/include -I/usr/include/python2.7 build-scons/src/wrapper/_statiskit_active_estimation_97b9ff80b0db59369e7e020acd3f1ab8.cpp</span>\n",
       "<span class=\"go\">g++ -o build-scons/src/wrapper/_statiskit_natural_co_variance_estimation_estimator.os -c -DNDEBUG -O2 -std=c++0x -DNDEBUG -O2 -fPIC -ftemplate-depth-100 -DBOOST_PYTHON_DYNAMIC_LIB -Ibuild-scons/include -I/usr/include -I/usr/include/python2.7 build-scons/src/wrapper/_statiskit_natural_co_variance_estimation_estimator.cpp</span>\n",
       "<span class=\"go\">g++ -o build-scons/src/wrapper/_statiskit_real_sample_space.os -c -DNDEBUG -O2 -std=c++0x -DNDEBUG -O2 -fPIC -ftemplate-depth-100 -DBOOST_PYTHON_DYNAMIC_LIB -Ibuild-scons/include -I/usr/include -I/usr/include/python2.7 build-scons/src/wrapper/_statiskit_real_sample_space.cpp</span>\n",
       "<span class=\"go\">g++ -o build-scons/src/wrapper/_std_reverse_iterator_7fe985cb49ec59c38b2baed8e1866b73.os -c -DNDEBUG -O2 -std=c++0x -DNDEBUG -O2 -fPIC -ftemplate-depth-100 -DBOOST_PYTHON_DYNAMIC_LIB -Ibuild-scons/include -I/usr/include -I/usr/include/python2.7 build-scons/src/wrapper/_std_reverse_iterator_7fe985cb49ec59c38b2baed8e1866b73.cpp</span>\n",
       "<span class=\"go\">g++ -o build-scons/src/wrapper/_std_reverse_iterator_e5d243e67c4d528b982a775f54b165be.os -c -DNDEBUG -O2 -std=c++0x -DNDEBUG -O2 -fPIC -ftemplate-depth-100 -DBOOST_PYTHON_DYNAMIC_LIB -Ibuild-scons/include -I/usr/include -I/usr/include/python2.7 build-scons/src/wrapper/_std_reverse_iterator_e5d243e67c4d528b982a775f54b165be.cpp</span>\n",
       "<span class=\"go\">g++ -o build-scons/src/wrapper/_std_reverse_iterator_13e25404972d51cab7975b4eb3477ce3.os -c -DNDEBUG -O2 -std=c++0x -DNDEBUG -O2 -fPIC -ftemplate-depth-100 -DBOOST_PYTHON_DYNAMIC_LIB -Ibuild-scons/include -I/usr/include -I/usr/include/python2.7 build-scons/src/wrapper/_std_reverse_iterator_13e25404972d51cab7975b4eb3477ce3.cpp</span>\n",
       "<span class=\"go\">g++ -o build-scons/src/wrapper/_statiskit_get_missing_event.os -c -DNDEBUG -O2 -std=c++0x -DNDEBUG -O2 -fPIC -ftemplate-depth-100 -DBOOST_PYTHON_DYNAMIC_LIB -Ibuild-scons/include -I/usr/include -I/usr/include/python2.7 build-scons/src/wrapper/_statiskit_get_missing_event.cpp</span>\n",
       "<span class=\"go\">g++ -o build-scons/src/wrapper/_statiskit_univariate_histogram_distribution_estimation.os -c -DNDEBUG -O2 -std=c++0x -DNDEBUG -O2 -fPIC -ftemplate-depth-100 -DBOOST_PYTHON_DYNAMIC_LIB -Ibuild-scons/include -I/usr/include -I/usr/include/python2.7 build-scons/src/wrapper/_statiskit_univariate_histogram_distribution_estimation.cpp</span>\n",
       "<span class=\"go\">g++ -o build-scons/src/wrapper/_statiskit_slope_heuristic_ols_solver.os -c -DNDEBUG -O2 -std=c++0x -DNDEBUG -O2 -fPIC -ftemplate-depth-100 -DBOOST_PYTHON_DYNAMIC_LIB -Ibuild-scons/include -I/usr/include -I/usr/include/python2.7 build-scons/src/wrapper/_statiskit_slope_heuristic_ols_solver.cpp</span>\n",
       "<span class=\"go\">g++ -o build-scons/src/wrapper/_std_reverse_iterator_db7b67f763e459d0aa7049c07546e57d.os -c -DNDEBUG -O2 -std=c++0x -DNDEBUG -O2 -fPIC -ftemplate-depth-100 -DBOOST_PYTHON_DYNAMIC_LIB -Ibuild-scons/include -I/usr/include -I/usr/include/python2.7 build-scons/src/wrapper/_std_reverse_iterator_db7b67f763e459d0aa7049c07546e57d.cpp</span>\n",
       "<span class=\"go\">g++ -o build-scons/src/wrapper/_statiskit_upper_bound_error.os -c -DNDEBUG -O2 -std=c++0x -DNDEBUG -O2 -fPIC -ftemplate-depth-100 -DBOOST_PYTHON_DYNAMIC_LIB -Ibuild-scons/include -I/usr/include -I/usr/include/python2.7 build-scons/src/wrapper/_statiskit_upper_bound_error.cpp</span>\n",
       "<span class=\"go\">g++ -o build-scons/src/wrapper/_std_allocator_rebind_5c692b6956195d0ca674244c81d24a97.os -c -DNDEBUG -O2 -std=c++0x -DNDEBUG -O2 -fPIC -ftemplate-depth-100 -DBOOST_PYTHON_DYNAMIC_LIB -Ibuild-scons/include -I/usr/include -I/usr/include/python2.7 build-scons/src/wrapper/_std_allocator_rebind_5c692b6956195d0ca674244c81d24a97.cpp</span>\n",
       "<span class=\"go\">g++ -o build-scons/src/wrapper/_statiskit_normal_distribution.os -c -DNDEBUG -O2 -std=c++0x -DNDEBUG -O2 -fPIC -ftemplate-depth-100 -DBOOST_PYTHON_DYNAMIC_LIB -Ibuild-scons/include -I/usr/include -I/usr/include/python2.7 build-scons/src/wrapper/_statiskit_normal_distribution.cpp</span>\n",
       "<span class=\"go\">g++ -o build-scons/src/wrapper/_statiskit_right_censored_event_f6970cd4b74e59d78af00d572640f229.os -c -DNDEBUG -O2 -std=c++0x -DNDEBUG -O2 -fPIC -ftemplate-depth-100 -DBOOST_PYTHON_DYNAMIC_LIB -Ibuild-scons/include -I/usr/include -I/usr/include/python2.7 build-scons/src/wrapper/_statiskit_right_censored_event_f6970cd4b74e59d78af00d572640f229.cpp</span>\n",
       "<span class=\"go\">g++ -o build-scons/src/wrapper/_statiskit_nominal_sample_space.os -c -DNDEBUG -O2 -std=c++0x -DNDEBUG -O2 -fPIC -ftemplate-depth-100 -DBOOST_PYTHON_DYNAMIC_LIB -Ibuild-scons/include -I/usr/include -I/usr/include/python2.7 build-scons/src/wrapper/_statiskit_nominal_sample_space.cpp</span>\n",
       "<span class=\"go\">g++ -o build-scons/src/wrapper/_statiskit_multivariate_distribution_estimation.os -c -DNDEBUG -O2 -std=c++0x -DNDEBUG -O2 -fPIC -ftemplate-depth-100 -DBOOST_PYTHON_DYNAMIC_LIB -Ibuild-scons/include -I/usr/include -I/usr/include/python2.7 build-scons/src/wrapper/_statiskit_multivariate_distribution_estimation.cpp</span>\n",
       "<span class=\"go\">g++ -o build-scons/src/wrapper/_std_iterator_bb6e5b0ac6e8510682b14e044f48c75d.os -c -DNDEBUG -O2 -std=c++0x -DNDEBUG -O2 -fPIC -ftemplate-depth-100 -DBOOST_PYTHON_DYNAMIC_LIB -Ibuild-scons/include -I/usr/include -I/usr/include/python2.7 build-scons/src/wrapper/_std_iterator_bb6e5b0ac6e8510682b14e044f48c75d.cpp</span>\n",
       "<span class=\"go\">g++ -o build-scons/src/wrapper/_statiskit_quantitative_univariate_frequency_distribution_4d0dfed2ce505eb195b528a7d105d94f.os -c -DNDEBUG -O2 -std=c++0x -DNDEBUG -O2 -fPIC -ftemplate-depth-100 -DBOOST_PYTHON_DYNAMIC_LIB -Ibuild-scons/include -I/usr/include -I/usr/include/python2.7 build-scons/src/wrapper/_statiskit_quantitative_univariate_frequency_distribution_4d0dfed2ce505eb195b528a7d105d94f.cpp</span>\n",
       "<span class=\"go\">g++ -o build-scons/src/wrapper/_statiskit_variable_name.os -c -DNDEBUG -O2 -std=c++0x -DNDEBUG -O2 -fPIC -ftemplate-depth-100 -DBOOST_PYTHON_DYNAMIC_LIB -Ibuild-scons/include -I/usr/include -I/usr/include/python2.7 build-scons/src/wrapper/_statiskit_variable_name.cpp</span>\n",
       "<span class=\"go\">g++ -o build-scons/src/wrapper/_statiskit_lazy_estimation_fda7482d926f55239627039b2e97356f.os -c -DNDEBUG -O2 -std=c++0x -DNDEBUG -O2 -fPIC -ftemplate-depth-100 -DBOOST_PYTHON_DYNAMIC_LIB -Ibuild-scons/include -I/usr/include -I/usr/include/python2.7 build-scons/src/wrapper/_statiskit_lazy_estimation_fda7482d926f55239627039b2e97356f.cpp</span>\n",
       "<span class=\"go\">g++ -o build-scons/src/wrapper/_std_vector_f8aba8dfa1565c4393ce7561c9672735.os -c -DNDEBUG -O2 -std=c++0x -DNDEBUG -O2 -fPIC -ftemplate-depth-100 -DBOOST_PYTHON_DYNAMIC_LIB -Ibuild-scons/include -I/usr/include -I/usr/include/python2.7 build-scons/src/wrapper/_std_vector_f8aba8dfa1565c4393ce7561c9672735.cpp</span>\n",
       "<span class=\"go\">g++ -o build-scons/src/wrapper/_std_reverse_iterator_fa79cb3651645f40bd58c8adbcce5d56.os -c -DNDEBUG -O2 -std=c++0x -DNDEBUG -O2 -fPIC -ftemplate-depth-100 -DBOOST_PYTHON_DYNAMIC_LIB -Ibuild-scons/include -I/usr/include -I/usr/include/python2.7 build-scons/src/wrapper/_std_reverse_iterator_fa79cb3651645f40bd58c8adbcce5d56.cpp</span>\n",
       "<span class=\"go\">g++ -o build-scons/src/wrapper/_statiskit_nullptr_error.os -c -DNDEBUG -O2 -std=c++0x -DNDEBUG -O2 -fPIC -ftemplate-depth-100 -DBOOST_PYTHON_DYNAMIC_LIB -Ibuild-scons/include -I/usr/include -I/usr/include/python2.7 build-scons/src/wrapper/_statiskit_nullptr_error.cpp</span>\n",
       "<span class=\"go\">g++ -o build-scons/src/wrapper/_statiskit_normal_distribution_ml_estimation.os -c -DNDEBUG -O2 -std=c++0x -DNDEBUG -O2 -fPIC -ftemplate-depth-100 -DBOOST_PYTHON_DYNAMIC_LIB -Ibuild-scons/include -I/usr/include -I/usr/include/python2.7 build-scons/src/wrapper/_statiskit_normal_distribution_ml_estimation.cpp</span>\n",
       "<span class=\"go\">g++ -o build-scons/src/wrapper/_std_allocator_rebind_515408cb8a535246a0d296dc35213d21.os -c -DNDEBUG -O2 -std=c++0x -DNDEBUG -O2 -fPIC -ftemplate-depth-100 -DBOOST_PYTHON_DYNAMIC_LIB -Ibuild-scons/include -I/usr/include -I/usr/include/python2.7 build-scons/src/wrapper/_std_allocator_rebind_515408cb8a535246a0d296dc35213d21.cpp</span>\n",
       "<span class=\"go\">g++ -o build-scons/src/wrapper/_gnu_cxx_normal_iterator_732f49ab20c45e93a1f444ac5e3a3811.os -c -DNDEBUG -O2 -std=c++0x -DNDEBUG -O2 -fPIC -ftemplate-depth-100 -DBOOST_PYTHON_DYNAMIC_LIB -Ibuild-scons/include -I/usr/include -I/usr/include/python2.7 build-scons/src/wrapper/_gnu_cxx_normal_iterator_732f49ab20c45e93a1f444ac5e3a3811.cpp</span>\n",
       "<span class=\"go\">g++ -o build-scons/src/wrapper/_statiskit_co_variance_estimation_estimator.os -c -DNDEBUG -O2 -std=c++0x -DNDEBUG -O2 -fPIC -ftemplate-depth-100 -DBOOST_PYTHON_DYNAMIC_LIB -Ibuild-scons/include -I/usr/include -I/usr/include/python2.7 build-scons/src/wrapper/_statiskit_co_variance_estimation_estimator.cpp</span>\n",
       "<span class=\"go\">g++ -o build-scons/src/wrapper/_std_iterator_628b648865a95805adf3b58712c8d0fa.os -c -DNDEBUG -O2 -std=c++0x -DNDEBUG -O2 -fPIC -ftemplate-depth-100 -DBOOST_PYTHON_DYNAMIC_LIB -Ibuild-scons/include -I/usr/include -I/usr/include/python2.7 build-scons/src/wrapper/_std_iterator_628b648865a95805adf3b58712c8d0fa.cpp</span>\n",
       "<span class=\"go\">g++ -o build-scons/src/wrapper/_statiskit_discrete_multivariate_distribution.os -c -DNDEBUG -O2 -std=c++0x -DNDEBUG -O2 -fPIC -ftemplate-depth-100 -DBOOST_PYTHON_DYNAMIC_LIB -Ibuild-scons/include -I/usr/include -I/usr/include/python2.7 build-scons/src/wrapper/_statiskit_discrete_multivariate_distribution.cpp</span>\n",
       "<span class=\"go\">g++ -o build-scons/src/wrapper/_std_reverse_iterator_0740ce431cd954d68a7fe7e8b7fda386.os -c -DNDEBUG -O2 -std=c++0x -DNDEBUG -O2 -fPIC -ftemplate-depth-100 -DBOOST_PYTHON_DYNAMIC_LIB -Ibuild-scons/include -I/usr/include -I/usr/include/python2.7 build-scons/src/wrapper/_std_reverse_iterator_0740ce431cd954d68a7fe7e8b7fda386.cpp</span>\n",
       "<span class=\"go\">g++ -o build-scons/src/wrapper/_statiskit_independent_multivariate_distribution_estimation_5ff96cffc15e5f3685f9ff8f30477ab3.os -c -DNDEBUG -O2 -std=c++0x -DNDEBUG -O2 -fPIC -ftemplate-depth-100 -DBOOST_PYTHON_DYNAMIC_LIB -Ibuild-scons/include -I/usr/include -I/usr/include/python2.7 build-scons/src/wrapper/_statiskit_independent_multivariate_distribution_estimation_5ff96cffc15e5f3685f9ff8f30477ab3.cpp</span>\n",
       "<span class=\"go\">g++ -o build-scons/src/wrapper/_statiskit_integer_sample_space.os -c -DNDEBUG -O2 -std=c++0x -DNDEBUG -O2 -fPIC -ftemplate-depth-100 -DBOOST_PYTHON_DYNAMIC_LIB -Ibuild-scons/include -I/usr/include -I/usr/include/python2.7 build-scons/src/wrapper/_statiskit_integer_sample_space.cpp</span>\n",
       "<span class=\"go\">g++ -o build-scons/src/wrapper/_statiskit_univariate_event.os -c -DNDEBUG -O2 -std=c++0x -DNDEBUG -O2 -fPIC -ftemplate-depth-100 -DBOOST_PYTHON_DYNAMIC_LIB -Ibuild-scons/include -I/usr/include -I/usr/include/python2.7 build-scons/src/wrapper/_statiskit_univariate_event.cpp</span>\n",
       "<span class=\"go\">g++ -o build-scons/src/wrapper/_std_vector_bdb9a1e7b3d75dd7b983afd217aa4fb4.os -c -DNDEBUG -O2 -std=c++0x -DNDEBUG -O2 -fPIC -ftemplate-depth-100 -DBOOST_PYTHON_DYNAMIC_LIB -Ibuild-scons/include -I/usr/include -I/usr/include/python2.7 build-scons/src/wrapper/_std_vector_bdb9a1e7b3d75dd7b983afd217aa4fb4.cpp</span>\n",
       "<span class=\"go\">g++ -o build-scons/src/wrapper/_statiskit_lazy_estimation_bd7c6aef7a315c2a89bea56cfda7c885.os -c -DNDEBUG -O2 -std=c++0x -DNDEBUG -O2 -fPIC -ftemplate-depth-100 -DBOOST_PYTHON_DYNAMIC_LIB -Ibuild-scons/include -I/usr/include -I/usr/include/python2.7 build-scons/src/wrapper/_statiskit_lazy_estimation_bd7c6aef7a315c2a89bea56cfda7c885.cpp</span>\n",
       "<span class=\"go\">g++ -o build-scons/src/wrapper/_statiskit_binomial_distribution_mm_estimation.os -c -DNDEBUG -O2 -std=c++0x -DNDEBUG -O2 -fPIC -ftemplate-depth-100 -DBOOST_PYTHON_DYNAMIC_LIB -Ibuild-scons/include -I/usr/include -I/usr/include/python2.7 build-scons/src/wrapper/_statiskit_binomial_distribution_mm_estimation.cpp</span>\n",
       "<span class=\"go\">g++ -o build-scons/src/wrapper/_statiskit_slope_heuristic_selector.os -c -DNDEBUG -O2 -std=c++0x -DNDEBUG -O2 -fPIC -ftemplate-depth-100 -DBOOST_PYTHON_DYNAMIC_LIB -Ibuild-scons/include -I/usr/include -I/usr/include/python2.7 build-scons/src/wrapper/_statiskit_slope_heuristic_selector.cpp</span>\n",
       "<span class=\"go\">g++ -o build-scons/src/wrapper/_statiskit_independent_multivariate_distribution_estimation_estimator_a4243b18f6645880b3225063ce39830f.os -c -DNDEBUG -O2 -std=c++0x -DNDEBUG -O2 -fPIC -ftemplate-depth-100 -DBOOST_PYTHON_DYNAMIC_LIB -Ibuild-scons/include -I/usr/include -I/usr/include/python2.7 build-scons/src/wrapper/_statiskit_independent_multivariate_distribution_estimation_estimator_a4243b18f6645880b3225063ce39830f.cpp</span>\n",
       "<span class=\"go\">g++ -o build-scons/src/wrapper/_statiskit_get_rr.os -c -DNDEBUG -O2 -std=c++0x -DNDEBUG -O2 -fPIC -ftemplate-depth-100 -DBOOST_PYTHON_DYNAMIC_LIB -Ibuild-scons/include -I/usr/include -I/usr/include/python2.7 build-scons/src/wrapper/_statiskit_get_rr.cpp</span>\n",
       "<span class=\"go\">g++ -o build-scons/src/wrapper/_statiskit_get_random_generator.os -c -DNDEBUG -O2 -std=c++0x -DNDEBUG -O2 -fPIC -ftemplate-depth-100 -DBOOST_PYTHON_DYNAMIC_LIB -Ibuild-scons/include -I/usr/include -I/usr/include/python2.7 build-scons/src/wrapper/_statiskit_get_random_generator.cpp</span>\n",
       "<span class=\"go\">g++ -o build-scons/src/wrapper/_statiskit_univariate_sample_space.os -c -DNDEBUG -O2 -std=c++0x -DNDEBUG -O2 -fPIC -ftemplate-depth-100 -DBOOST_PYTHON_DYNAMIC_LIB -Ibuild-scons/include -I/usr/include -I/usr/include/python2.7 build-scons/src/wrapper/_statiskit_univariate_sample_space.cpp</span>\n",
       "<span class=\"go\">g++ -o build-scons/src/wrapper/_statiskit_elementary_event_62703162019c56088e01ce01960071c2.os -c -DNDEBUG -O2 -std=c++0x -DNDEBUG -O2 -fPIC -ftemplate-depth-100 -DBOOST_PYTHON_DYNAMIC_LIB -Ibuild-scons/include -I/usr/include -I/usr/include/python2.7 build-scons/src/wrapper/_statiskit_elementary_event_62703162019c56088e01ce01960071c2.cpp</span>\n",
       "<span class=\"go\">g++ -o build-scons/src/wrapper/_std_allocator_0bcb525bba7b5ff9bbdaa8d1051ffbd5.os -c -DNDEBUG -O2 -std=c++0x -DNDEBUG -O2 -fPIC -ftemplate-depth-100 -DBOOST_PYTHON_DYNAMIC_LIB -Ibuild-scons/include -I/usr/include -I/usr/include/python2.7 build-scons/src/wrapper/_std_allocator_0bcb525bba7b5ff9bbdaa8d1051ffbd5.cpp</span>\n",
       "<span class=\"go\">g++ -o build-scons/src/wrapper/_statiskit_set_censored_event_166a39916f0355498312b1d6c92745a2.os -c -DNDEBUG -O2 -std=c++0x -DNDEBUG -O2 -fPIC -ftemplate-depth-100 -DBOOST_PYTHON_DYNAMIC_LIB -Ibuild-scons/include -I/usr/include -I/usr/include/python2.7 build-scons/src/wrapper/_statiskit_set_censored_event_166a39916f0355498312b1d6c92745a2.cpp</span>\n",
       "<span class=\"go\">g++ -o build-scons/src/wrapper/_std_allocator_rebind_e9acc5db015a5a5e9c5babfd93ed40ac.os -c -DNDEBUG -O2 -std=c++0x -DNDEBUG -O2 -fPIC -ftemplate-depth-100 -DBOOST_PYTHON_DYNAMIC_LIB -Ibuild-scons/include -I/usr/include -I/usr/include/python2.7 build-scons/src/wrapper/_std_allocator_rebind_e9acc5db015a5a5e9c5babfd93ed40ac.cpp</span>\n",
       "<span class=\"go\">g++ -o build-scons/src/wrapper/_gnu_cxx_normal_iterator_7a2acdf7800a54528c8b01086d6244e1.os -c -DNDEBUG -O2 -std=c++0x -DNDEBUG -O2 -fPIC -ftemplate-depth-100 -DBOOST_PYTHON_DYNAMIC_LIB -Ibuild-scons/include -I/usr/include -I/usr/include/python2.7 build-scons/src/wrapper/_gnu_cxx_normal_iterator_7a2acdf7800a54528c8b01086d6244e1.cpp</span>\n",
       "<span class=\"go\">g++ -o build-scons/src/wrapper/_statiskit_categorical_univariate_distribution.os -c -DNDEBUG -O2 -std=c++0x -DNDEBUG -O2 -fPIC -ftemplate-depth-100 -DBOOST_PYTHON_DYNAMIC_LIB -Ibuild-scons/include -I/usr/include -I/usr/include/python2.7 build-scons/src/wrapper/_statiskit_categorical_univariate_distribution.cpp</span>\n",
       "<span class=\"go\">g++ -o build-scons/src/wrapper/__core.os -c -DNDEBUG -O2 -std=c++0x -DNDEBUG -O2 -fPIC -ftemplate-depth-100 -DBOOST_PYTHON_DYNAMIC_LIB -Ibuild-scons/include -I/usr/include -I/usr/include/python2.7 build-scons/src/wrapper/__core.cpp</span>\n",
       "<span class=\"go\">g++ -o build-scons/src/wrapper/_std_allocator_20c541f3016652748eb016e61d8c1620.os -c -DNDEBUG -O2 -std=c++0x -DNDEBUG -O2 -fPIC -ftemplate-depth-100 -DBOOST_PYTHON_DYNAMIC_LIB -Ibuild-scons/include -I/usr/include -I/usr/include/python2.7 build-scons/src/wrapper/_std_allocator_20c541f3016652748eb016e61d8c1620.cpp</span>\n",
       "<span class=\"go\">g++ -o build-scons/src/wrapper/_std_allocator_34fedd62e02d5410b948d6ef077d6662.os -c -DNDEBUG -O2 -std=c++0x -DNDEBUG -O2 -fPIC -ftemplate-depth-100 -DBOOST_PYTHON_DYNAMIC_LIB -Ibuild-scons/include -I/usr/include -I/usr/include/python2.7 build-scons/src/wrapper/_std_allocator_34fedd62e02d5410b948d6ef077d6662.cpp</span>\n",
       "<span class=\"go\">g++ -o build-scons/src/wrapper/_statiskit_irregular_univariate_histogram_distribution_slope_heuristic_estimation_estimator.os -c -DNDEBUG -O2 -std=c++0x -DNDEBUG -O2 -fPIC -ftemplate-depth-100 -DBOOST_PYTHON_DYNAMIC_LIB -Ibuild-scons/include -I/usr/include -I/usr/include/python2.7 build-scons/src/wrapper/_statiskit_irregular_univariate_histogram_distribution_slope_heuristic_estimation_estimator.cpp</span>\n",
       "<span class=\"go\">g++ -o build-scons/src/wrapper/_std_iterator_3ba9a43382d653cdbe95f1c8b474ab09.os -c -DNDEBUG -O2 -std=c++0x -DNDEBUG -O2 -fPIC -ftemplate-depth-100 -DBOOST_PYTHON_DYNAMIC_LIB -Ibuild-scons/include -I/usr/include -I/usr/include/python2.7 build-scons/src/wrapper/_std_iterator_3ba9a43382d653cdbe95f1c8b474ab09.cpp</span>\n",
       "<span class=\"go\">g++ -o build-scons/src/wrapper/_statiskit_continuous_univariate_distribution_estimation_estimator.os -c -DNDEBUG -O2 -std=c++0x -DNDEBUG -O2 -fPIC -ftemplate-depth-100 -DBOOST_PYTHON_DYNAMIC_LIB -Ibuild-scons/include -I/usr/include -I/usr/include/python2.7 build-scons/src/wrapper/_statiskit_continuous_univariate_distribution_estimation_estimator.cpp</span>\n",
       "<span class=\"go\">g++ -o build-scons/src/wrapper/_statiskit_independent_multivariate_distribution_estimation_aee197622ff85f3baa6d640f5b553d9c.os -c -DNDEBUG -O2 -std=c++0x -DNDEBUG -O2 -fPIC -ftemplate-depth-100 -DBOOST_PYTHON_DYNAMIC_LIB -Ibuild-scons/include -I/usr/include -I/usr/include/python2.7 build-scons/src/wrapper/_statiskit_independent_multivariate_distribution_estimation_aee197622ff85f3baa6d640f5b553d9c.cpp</span>\n",
       "<span class=\"go\">g++ -o build-scons/src/wrapper/_statiskit_negative_binomial_distribution.os -c -DNDEBUG -O2 -std=c++0x -DNDEBUG -O2 -fPIC -ftemplate-depth-100 -DBOOST_PYTHON_DYNAMIC_LIB -Ibuild-scons/include -I/usr/include -I/usr/include/python2.7 build-scons/src/wrapper/_statiskit_negative_binomial_distribution.cpp</span>\n",
       "<span class=\"go\">g++ -o build-scons/src/wrapper/_statiskit_discrete_univariate_distribution_estimation.os -c -DNDEBUG -O2 -std=c++0x -DNDEBUG -O2 -fPIC -ftemplate-depth-100 -DBOOST_PYTHON_DYNAMIC_LIB -Ibuild-scons/include -I/usr/include -I/usr/include/python2.7 build-scons/src/wrapper/_statiskit_discrete_univariate_distribution_estimation.cpp</span>\n",
       "<span class=\"go\">g++ -o build-scons/src/wrapper/_statiskit_univariate_frequency_distribution_estimation_597c7156f3275499be9135f3a1f10677.os -c -DNDEBUG -O2 -std=c++0x -DNDEBUG -O2 -fPIC -ftemplate-depth-100 -DBOOST_PYTHON_DYNAMIC_LIB -Ibuild-scons/include -I/usr/include -I/usr/include/python2.7 build-scons/src/wrapper/_statiskit_univariate_frequency_distribution_estimation_597c7156f3275499be9135f3a1f10677.cpp</span>\n",
       "<span class=\"go\">g++ -o build-scons/src/wrapper/_statiskit_parameter_error.os -c -DNDEBUG -O2 -std=c++0x -DNDEBUG -O2 -fPIC -ftemplate-depth-100 -DBOOST_PYTHON_DYNAMIC_LIB -Ibuild-scons/include -I/usr/include -I/usr/include/python2.7 build-scons/src/wrapper/_statiskit_parameter_error.cpp</span>\n",
       "<span class=\"go\">g++ -o build-scons/src/wrapper/_statiskit_set_censored_event_76af2002e1a8575d9e05fdaf5dbb8b40.os -c -DNDEBUG -O2 -std=c++0x -DNDEBUG -O2 -fPIC -ftemplate-depth-100 -DBOOST_PYTHON_DYNAMIC_LIB -Ibuild-scons/include -I/usr/include -I/usr/include/python2.7 build-scons/src/wrapper/_statiskit_set_censored_event_76af2002e1a8575d9e05fdaf5dbb8b40.cpp</span>\n",
       "<span class=\"go\">g++ -o build-scons/src/wrapper/_std_reverse_iterator_eaefe89228e65e9fb45878a6e611b3a3.os -c -DNDEBUG -O2 -std=c++0x -DNDEBUG -O2 -fPIC -ftemplate-depth-100 -DBOOST_PYTHON_DYNAMIC_LIB -Ibuild-scons/include -I/usr/include -I/usr/include/python2.7 build-scons/src/wrapper/_std_reverse_iterator_eaefe89228e65e9fb45878a6e611b3a3.cpp</span>\n",
       "<span class=\"go\">g++ -o build-scons/src/wrapper/_statiskit_detached_event.os -c -DNDEBUG -O2 -std=c++0x -DNDEBUG -O2 -fPIC -ftemplate-depth-100 -DBOOST_PYTHON_DYNAMIC_LIB -Ibuild-scons/include -I/usr/include -I/usr/include/python2.7 build-scons/src/wrapper/_statiskit_detached_event.cpp</span>\n",
       "<span class=\"go\">g++ -o build-scons/src/wrapper/_std_initializer_list_a3cd5106cfa554d68b761ff131a1a60f.os -c -DNDEBUG -O2 -std=c++0x -DNDEBUG -O2 -fPIC -ftemplate-depth-100 -DBOOST_PYTHON_DYNAMIC_LIB -Ibuild-scons/include -I/usr/include -I/usr/include/python2.7 build-scons/src/wrapper/_std_initializer_list_a3cd5106cfa554d68b761ff131a1a60f.cpp</span>\n",
       "<span class=\"go\">g++ -o build-scons/src/wrapper/_std_initializer_list_b19a937b812f50ad820d6166a3a6db59.os -c -DNDEBUG -O2 -std=c++0x -DNDEBUG -O2 -fPIC -ftemplate-depth-100 -DBOOST_PYTHON_DYNAMIC_LIB -Ibuild-scons/include -I/usr/include -I/usr/include/python2.7 build-scons/src/wrapper/_std_initializer_list_b19a937b812f50ad820d6166a3a6db59.cpp</span>\n",
       "<span class=\"go\">g++ -o build-scons/src/wrapper/_std_iterator_7aea868a59485e54b7af704933a96ba4.os -c -DNDEBUG -O2 -std=c++0x -DNDEBUG -O2 -fPIC -ftemplate-depth-100 -DBOOST_PYTHON_DYNAMIC_LIB -Ibuild-scons/include -I/usr/include -I/usr/include/python2.7 build-scons/src/wrapper/_std_iterator_7aea868a59485e54b7af704933a96ba4.cpp</span>\n",
       "<span class=\"go\">g++ -o build-scons/src/wrapper/_statiskit_get_imin.os -c -DNDEBUG -O2 -std=c++0x -DNDEBUG -O2 -fPIC -ftemplate-depth-100 -DBOOST_PYTHON_DYNAMIC_LIB -Ibuild-scons/include -I/usr/include -I/usr/include/python2.7 build-scons/src/wrapper/_statiskit_get_imin.cpp</span>\n",
       "<span class=\"go\">g++ -o build-scons/src/wrapper/_std_vector_ffce84d9df7d57c7914b19f3e4ee68c3.os -c -DNDEBUG -O2 -std=c++0x -DNDEBUG -O2 -fPIC -ftemplate-depth-100 -DBOOST_PYTHON_DYNAMIC_LIB -Ibuild-scons/include -I/usr/include -I/usr/include/python2.7 build-scons/src/wrapper/_std_vector_ffce84d9df7d57c7914b19f3e4ee68c3.cpp</span>\n",
       "<span class=\"go\">g++ -o build-scons/src/wrapper/_std_iterator_f5e4a02a0af057ac8dfc732802cf528b.os -c -DNDEBUG -O2 -std=c++0x -DNDEBUG -O2 -fPIC -ftemplate-depth-100 -DBOOST_PYTHON_DYNAMIC_LIB -Ibuild-scons/include -I/usr/include -I/usr/include/python2.7 build-scons/src/wrapper/_std_iterator_f5e4a02a0af057ac8dfc732802cf528b.cpp</span>\n",
       "<span class=\"go\">g++ -o build-scons/src/wrapper/_statiskit_multivariate_distribution.os -c -DNDEBUG -O2 -std=c++0x -DNDEBUG -O2 -fPIC -ftemplate-depth-100 -DBOOST_PYTHON_DYNAMIC_LIB -Ibuild-scons/include -I/usr/include -I/usr/include/python2.7 build-scons/src/wrapper/_statiskit_multivariate_distribution.cpp</span>\n",
       "<span class=\"go\">g++ -o build-scons/src/wrapper/_gnu_cxx_new_allocator_d3459ed41bdc52fdaac7e6ab57e50ed1.os -c -DNDEBUG -O2 -std=c++0x -DNDEBUG -O2 -fPIC -ftemplate-depth-100 -DBOOST_PYTHON_DYNAMIC_LIB -Ibuild-scons/include -I/usr/include -I/usr/include/python2.7 build-scons/src/wrapper/_gnu_cxx_new_allocator_d3459ed41bdc52fdaac7e6ab57e50ed1.cpp</span>\n",
       "<span class=\"go\">g++ -o build-scons/src/wrapper/_gnu_cxx_normal_iterator_01d53e5dab5c5dd3aac0df61eef80f18.os -c -DNDEBUG -O2 -std=c++0x -DNDEBUG -O2 -fPIC -ftemplate-depth-100 -DBOOST_PYTHON_DYNAMIC_LIB -Ibuild-scons/include -I/usr/include -I/usr/include/python2.7 build-scons/src/wrapper/_gnu_cxx_normal_iterator_01d53e5dab5c5dd3aac0df61eef80f18.cpp</span>\n",
       "<span class=\"go\">g++ -o build-scons/src/wrapper/_statiskit_natural_mean_estimation_estimator.os -c -DNDEBUG -O2 -std=c++0x -DNDEBUG -O2 -fPIC -ftemplate-depth-100 -DBOOST_PYTHON_DYNAMIC_LIB -Ibuild-scons/include -I/usr/include -I/usr/include/python2.7 build-scons/src/wrapper/_statiskit_natural_mean_estimation_estimator.cpp</span>\n",
       "<span class=\"go\">g++ -o build-scons/src/wrapper/_statiskit_active_estimation_51ebe87589b657ceb69e8858993257a8.os -c -DNDEBUG -O2 -std=c++0x -DNDEBUG -O2 -fPIC -ftemplate-depth-100 -DBOOST_PYTHON_DYNAMIC_LIB -Ibuild-scons/include -I/usr/include -I/usr/include/python2.7 build-scons/src/wrapper/_statiskit_active_estimation_51ebe87589b657ceb69e8858993257a8.cpp</span>\n",
       "<span class=\"go\">g++ -o build-scons/src/wrapper/_statiskit_negative_binomial_distribution_mm_estimation_estimator.os -c -DNDEBUG -O2 -std=c++0x -DNDEBUG -O2 -fPIC -ftemplate-depth-100 -DBOOST_PYTHON_DYNAMIC_LIB -Ibuild-scons/include -I/usr/include -I/usr/include/python2.7 build-scons/src/wrapper/_statiskit_negative_binomial_distribution_mm_estimation_estimator.cpp</span>\n",
       "<span class=\"go\">g++ -o build-scons/src/wrapper/_statiskit_lazy_estimation_783a5f669e9a5115a3df76c21481f3cf.os -c -DNDEBUG -O2 -std=c++0x -DNDEBUG -O2 -fPIC -ftemplate-depth-100 -DBOOST_PYTHON_DYNAMIC_LIB -Ibuild-scons/include -I/usr/include -I/usr/include/python2.7 build-scons/src/wrapper/_statiskit_lazy_estimation_783a5f669e9a5115a3df76c21481f3cf.cpp</span>\n",
       "<span class=\"go\">g++ -o build-scons/src/wrapper/_std_iterator_c714d09c2194547aac420a51322a6466.os -c -DNDEBUG -O2 -std=c++0x -DNDEBUG -O2 -fPIC -ftemplate-depth-100 -DBOOST_PYTHON_DYNAMIC_LIB -Ibuild-scons/include -I/usr/include -I/usr/include/python2.7 build-scons/src/wrapper/_std_iterator_c714d09c2194547aac420a51322a6466.cpp</span>\n",
       "<span class=\"go\">g++ -o build-scons/src/wrapper/_statiskit_ordinal_sample_space.os -c -DNDEBUG -O2 -std=c++0x -DNDEBUG -O2 -fPIC -ftemplate-depth-100 -DBOOST_PYTHON_DYNAMIC_LIB -Ibuild-scons/include -I/usr/include -I/usr/include/python2.7 build-scons/src/wrapper/_statiskit_ordinal_sample_space.cpp</span>\n",
       "<span class=\"go\">g++ -o build-scons/src/wrapper/_statiskit_lazy_estimation_f1df1969525f5c77ade3646e27cb3db4.os -c -DNDEBUG -O2 -std=c++0x -DNDEBUG -O2 -fPIC -ftemplate-depth-100 -DBOOST_PYTHON_DYNAMIC_LIB -Ibuild-scons/include -I/usr/include -I/usr/include/python2.7 build-scons/src/wrapper/_statiskit_lazy_estimation_f1df1969525f5c77ade3646e27cb3db4.cpp</span>\n",
       "<span class=\"go\">g++ -o build-scons/src/wrapper/_statiskit_categorical_multivariate_distribution_estimation_estimator.os -c -DNDEBUG -O2 -std=c++0x -DNDEBUG -O2 -fPIC -ftemplate-depth-100 -DBOOST_PYTHON_DYNAMIC_LIB -Ibuild-scons/include -I/usr/include -I/usr/include/python2.7 build-scons/src/wrapper/_statiskit_categorical_multivariate_distribution_estimation_estimator.cpp</span>\n",
       "<span class=\"go\">g++ -o build-scons/src/wrapper/_statiskit_discrete_univariate_distribution_estimation_estimator.os -c -DNDEBUG -O2 -std=c++0x -DNDEBUG -O2 -fPIC -ftemplate-depth-100 -DBOOST_PYTHON_DYNAMIC_LIB -Ibuild-scons/include -I/usr/include -I/usr/include/python2.7 build-scons/src/wrapper/_statiskit_discrete_univariate_distribution_estimation_estimator.cpp</span>\n",
       "<span class=\"go\">g++ -o build-scons/src/wrapper/_std_reverse_iterator_4a86fd12ac7651a58673eddbcbd40cf3.os -c -DNDEBUG -O2 -std=c++0x -DNDEBUG -O2 -fPIC -ftemplate-depth-100 -DBOOST_PYTHON_DYNAMIC_LIB -Ibuild-scons/include -I/usr/include -I/usr/include/python2.7 build-scons/src/wrapper/_std_reverse_iterator_4a86fd12ac7651a58673eddbcbd40cf3.cpp</span>\n",
       "<span class=\"go\">g++ -o build-scons/src/wrapper/_statiskit_continuous_univariate_distribution_estimation.os -c -DNDEBUG -O2 -std=c++0x -DNDEBUG -O2 -fPIC -ftemplate-depth-100 -DBOOST_PYTHON_DYNAMIC_LIB -Ibuild-scons/include -I/usr/include -I/usr/include/python2.7 build-scons/src/wrapper/_statiskit_continuous_univariate_distribution_estimation.cpp</span>\n",
       "<span class=\"go\">g++ -o build-scons/src/wrapper/_gnu_cxx_normal_iterator_8edfdd891ae757bf8fc4ff1597767e84.os -c -DNDEBUG -O2 -std=c++0x -DNDEBUG -O2 -fPIC -ftemplate-depth-100 -DBOOST_PYTHON_DYNAMIC_LIB -Ibuild-scons/include -I/usr/include -I/usr/include/python2.7 build-scons/src/wrapper/_gnu_cxx_normal_iterator_8edfdd891ae757bf8fc4ff1597767e84.cpp</span>\n",
       "<span class=\"go\">g++ -o build-scons/src/wrapper/_std_reverse_iterator_56a087029373505bb21ec4a3eecb2cec.os -c -DNDEBUG -O2 -std=c++0x -DNDEBUG -O2 -fPIC -ftemplate-depth-100 -DBOOST_PYTHON_DYNAMIC_LIB -Ibuild-scons/include -I/usr/include -I/usr/include/python2.7 build-scons/src/wrapper/_std_reverse_iterator_56a087029373505bb21ec4a3eecb2cec.cpp</span>\n",
       "<span class=\"go\">g++ -o build-scons/src/wrapper/_statiskit_univariate_distribution_estimation.os -c -DNDEBUG -O2 -std=c++0x -DNDEBUG -O2 -fPIC -ftemplate-depth-100 -DBOOST_PYTHON_DYNAMIC_LIB -Ibuild-scons/include -I/usr/include -I/usr/include/python2.7 build-scons/src/wrapper/_statiskit_univariate_distribution_estimation.cpp</span>\n",
       "<span class=\"go\">g++ -o build-scons/src/wrapper/_std_reverse_iterator_466b8996ea1f5798946bfdb2c2a903d0.os -c -DNDEBUG -O2 -std=c++0x -DNDEBUG -O2 -fPIC -ftemplate-depth-100 -DBOOST_PYTHON_DYNAMIC_LIB -Ibuild-scons/include -I/usr/include -I/usr/include/python2.7 build-scons/src/wrapper/_std_reverse_iterator_466b8996ea1f5798946bfdb2c2a903d0.cpp</span>\n",
       "<span class=\"go\">g++ -o build-scons/src/wrapper/_statiskit_multivariate_data_frame.os -c -DNDEBUG -O2 -std=c++0x -DNDEBUG -O2 -fPIC -ftemplate-depth-100 -DBOOST_PYTHON_DYNAMIC_LIB -Ibuild-scons/include -I/usr/include -I/usr/include/python2.7 build-scons/src/wrapper/_statiskit_multivariate_data_frame.cpp</span>\n",
       "<span class=\"go\">g++ -o build-scons/src/wrapper/_std_reverse_iterator_6465de2c120e5ea8ad77d39b96f44d06.os -c -DNDEBUG -O2 -std=c++0x -DNDEBUG -O2 -fPIC -ftemplate-depth-100 -DBOOST_PYTHON_DYNAMIC_LIB -Ibuild-scons/include -I/usr/include -I/usr/include/python2.7 build-scons/src/wrapper/_std_reverse_iterator_6465de2c120e5ea8ad77d39b96f44d06.cpp</span>\n",
       "<span class=\"go\">g++ -o build-scons/src/wrapper/_statiskit_univariate_histogram_distribution.os -c -DNDEBUG -O2 -std=c++0x -DNDEBUG -O2 -fPIC -ftemplate-depth-100 -DBOOST_PYTHON_DYNAMIC_LIB -Ibuild-scons/include -I/usr/include -I/usr/include/python2.7 build-scons/src/wrapper/_statiskit_univariate_histogram_distribution.cpp</span>\n",
       "<span class=\"go\">g++ -o build-scons/src/wrapper/_std_iterator_c10c7c1c61c55b69ace5c31a1adb589a.os -c -DNDEBUG -O2 -std=c++0x -DNDEBUG -O2 -fPIC -ftemplate-depth-100 -DBOOST_PYTHON_DYNAMIC_LIB -Ibuild-scons/include -I/usr/include -I/usr/include/python2.7 build-scons/src/wrapper/_std_iterator_c10c7c1c61c55b69ace5c31a1adb589a.cpp</span>\n",
       "<span class=\"go\">g++ -o build-scons/src/wrapper/_statiskit_get_maxits.os -c -DNDEBUG -O2 -std=c++0x -DNDEBUG -O2 -fPIC -ftemplate-depth-100 -DBOOST_PYTHON_DYNAMIC_LIB -Ibuild-scons/include -I/usr/include -I/usr/include/python2.7 build-scons/src/wrapper/_statiskit_get_maxits.cpp</span>\n",
       "<span class=\"go\">g++ -o build-scons/src/wrapper/_std_allocator_1871f9b61af659e8aa29ae6743b0c971.os -c -DNDEBUG -O2 -std=c++0x -DNDEBUG -O2 -fPIC -ftemplate-depth-100 -DBOOST_PYTHON_DYNAMIC_LIB -Ibuild-scons/include -I/usr/include -I/usr/include/python2.7 build-scons/src/wrapper/_std_allocator_1871f9b61af659e8aa29ae6743b0c971.cpp</span>\n",
       "<span class=\"go\">g++ -o build-scons/src/wrapper/_std_allocator_2cb08cbd9ab857e7bc8d3f4758234bb5.os -c -DNDEBUG -O2 -std=c++0x -DNDEBUG -O2 -fPIC -ftemplate-depth-100 -DBOOST_PYTHON_DYNAMIC_LIB -Ibuild-scons/include -I/usr/include -I/usr/include/python2.7 build-scons/src/wrapper/_std_allocator_2cb08cbd9ab857e7bc8d3f4758234bb5.cpp</span>\n",
       "<span class=\"go\">g++ -o build-scons/src/wrapper/_statiskit_negative_binomial_distribution_mm_estimation.os -c -DNDEBUG -O2 -std=c++0x -DNDEBUG -O2 -fPIC -ftemplate-depth-100 -DBOOST_PYTHON_DYNAMIC_LIB -Ibuild-scons/include -I/usr/include -I/usr/include/python2.7 build-scons/src/wrapper/_statiskit_negative_binomial_distribution_mm_estimation.cpp</span>\n",
       "<span class=\"go\">g++ -o build-scons/src/wrapper/_statiskit_continuous_multivariate_distribution_estimation_estimator.os -c -DNDEBUG -O2 -std=c++0x -DNDEBUG -O2 -fPIC -ftemplate-depth-100 -DBOOST_PYTHON_DYNAMIC_LIB -Ibuild-scons/include -I/usr/include -I/usr/include/python2.7 build-scons/src/wrapper/_statiskit_continuous_multivariate_distribution_estimation_estimator.cpp</span>\n",
       "<span class=\"go\">g++ -o build-scons/src/wrapper/_std_allocator_rebind_6438ca13cb48521c82caabd202e3bae0.os -c -DNDEBUG -O2 -std=c++0x -DNDEBUG -O2 -fPIC -ftemplate-depth-100 -DBOOST_PYTHON_DYNAMIC_LIB -Ibuild-scons/include -I/usr/include -I/usr/include/python2.7 build-scons/src/wrapper/_std_allocator_rebind_6438ca13cb48521c82caabd202e3bae0.cpp</span>\n",
       "<span class=\"go\">g++ -o build-scons/src/wrapper/_statiskit_mean_estimation_estimator.os -c -DNDEBUG -O2 -std=c++0x -DNDEBUG -O2 -fPIC -ftemplate-depth-100 -DBOOST_PYTHON_DYNAMIC_LIB -Ibuild-scons/include -I/usr/include -I/usr/include/python2.7 build-scons/src/wrapper/_statiskit_mean_estimation_estimator.cpp</span>\n",
       "<span class=\"go\">g++ -o build-scons/src/wrapper/_std_vector_4bcb8ae5157054959df5be6d6ab43950.os -c -DNDEBUG -O2 -std=c++0x -DNDEBUG -O2 -fPIC -ftemplate-depth-100 -DBOOST_PYTHON_DYNAMIC_LIB -Ibuild-scons/include -I/usr/include -I/usr/include/python2.7 build-scons/src/wrapper/_std_vector_4bcb8ae5157054959df5be6d6ab43950.cpp</span>\n",
       "<span class=\"go\">g++ -o build-scons/src/wrapper/_statiskit_get_nan.os -c -DNDEBUG -O2 -std=c++0x -DNDEBUG -O2 -fPIC -ftemplate-depth-100 -DBOOST_PYTHON_DYNAMIC_LIB -Ibuild-scons/include -I/usr/include -I/usr/include/python2.7 build-scons/src/wrapper/_statiskit_get_nan.cpp</span>\n",
       "<span class=\"go\">g++ -o build-scons/src/wrapper/_std_vector_97da7be7f1a65987840fec9554975c70.os -c -DNDEBUG -O2 -std=c++0x -DNDEBUG -O2 -fPIC -ftemplate-depth-100 -DBOOST_PYTHON_DYNAMIC_LIB -Ibuild-scons/include -I/usr/include -I/usr/include/python2.7 build-scons/src/wrapper/_std_vector_97da7be7f1a65987840fec9554975c70.cpp</span>\n",
       "<span class=\"go\">g++ -o build-scons/src/wrapper/_statiskit_independent_multivariate_distribution_84d11e6cd18a5568a60fc89a13d75962.os -c -DNDEBUG -O2 -std=c++0x -DNDEBUG -O2 -fPIC -ftemplate-depth-100 -DBOOST_PYTHON_DYNAMIC_LIB -Ibuild-scons/include -I/usr/include -I/usr/include/python2.7 build-scons/src/wrapper/_statiskit_independent_multivariate_distribution_84d11e6cd18a5568a60fc89a13d75962.cpp</span>\n",
       "<span class=\"go\">g++ -o build-scons/src/wrapper/_statiskit_quantitative_univariate_frequency_distribution_245828b5cad952b8b60d78797baec7be.os -c -DNDEBUG -O2 -std=c++0x -DNDEBUG -O2 -fPIC -ftemplate-depth-100 -DBOOST_PYTHON_DYNAMIC_LIB -Ibuild-scons/include -I/usr/include -I/usr/include/python2.7 build-scons/src/wrapper/_statiskit_quantitative_univariate_frequency_distribution_245828b5cad952b8b60d78797baec7be.cpp</span>\n",
       "<span class=\"go\">g++ -o build-scons/src/wrapper/_statiskit_multivariate_event.os -c -DNDEBUG -O2 -std=c++0x -DNDEBUG -O2 -fPIC -ftemplate-depth-100 -DBOOST_PYTHON_DYNAMIC_LIB -Ibuild-scons/include -I/usr/include -I/usr/include/python2.7 build-scons/src/wrapper/_statiskit_multivariate_event.cpp</span>\n",
       "<span class=\"go\">g++ -o build-scons/src/wrapper/_statiskit_get_nr.os -c -DNDEBUG -O2 -std=c++0x -DNDEBUG -O2 -fPIC -ftemplate-depth-100 -DBOOST_PYTHON_DYNAMIC_LIB -Ibuild-scons/include -I/usr/include -I/usr/include/python2.7 build-scons/src/wrapper/_statiskit_get_nr.cpp</span>\n",
       "<span class=\"go\">g++ -o build-scons/src/wrapper/_statiskit_scalar_predictor.os -c -DNDEBUG -O2 -std=c++0x -DNDEBUG -O2 -fPIC -ftemplate-depth-100 -DBOOST_PYTHON_DYNAMIC_LIB -Ibuild-scons/include -I/usr/include -I/usr/include/python2.7 build-scons/src/wrapper/_statiskit_scalar_predictor.cpp</span>\n",
       "<span class=\"go\">g++ -o build-scons/src/wrapper/_std_vector_c9ca68dea6845abea1b5a8d168ec044c.os -c -DNDEBUG -O2 -std=c++0x -DNDEBUG -O2 -fPIC -ftemplate-depth-100 -DBOOST_PYTHON_DYNAMIC_LIB -Ibuild-scons/include -I/usr/include -I/usr/include/python2.7 build-scons/src/wrapper/_std_vector_c9ca68dea6845abea1b5a8d168ec044c.cpp</span>\n",
       "<span class=\"go\">g++ -o build-scons/src/wrapper/_statiskit_get_imax.os -c -DNDEBUG -O2 -std=c++0x -DNDEBUG -O2 -fPIC -ftemplate-depth-100 -DBOOST_PYTHON_DYNAMIC_LIB -Ibuild-scons/include -I/usr/include -I/usr/include/python2.7 build-scons/src/wrapper/_statiskit_get_imax.cpp</span>\n",
       "<span class=\"go\">g++ -o build-scons/src/wrapper/_gnu_cxx_new_allocator_dec96cb10c2c5491977f32fabace1dbc.os -c -DNDEBUG -O2 -std=c++0x -DNDEBUG -O2 -fPIC -ftemplate-depth-100 -DBOOST_PYTHON_DYNAMIC_LIB -Ibuild-scons/include -I/usr/include -I/usr/include/python2.7 build-scons/src/wrapper/_gnu_cxx_new_allocator_dec96cb10c2c5491977f32fabace1dbc.cpp</span>\n",
       "<span class=\"go\">g++ -o build-scons/src/wrapper/_std_iterator_2e64135afc57577facaef50ed984f43c.os -c -DNDEBUG -O2 -std=c++0x -DNDEBUG -O2 -fPIC -ftemplate-depth-100 -DBOOST_PYTHON_DYNAMIC_LIB -Ibuild-scons/include -I/usr/include -I/usr/include/python2.7 build-scons/src/wrapper/_std_iterator_2e64135afc57577facaef50ed984f43c.cpp</span>\n",
       "<span class=\"go\">g++ -o build-scons/src/wrapper/_statiskit_continuous_univariate_distribution.os -c -DNDEBUG -O2 -std=c++0x -DNDEBUG -O2 -fPIC -ftemplate-depth-100 -DBOOST_PYTHON_DYNAMIC_LIB -Ibuild-scons/include -I/usr/include -I/usr/include/python2.7 build-scons/src/wrapper/_statiskit_continuous_univariate_distribution.cpp</span>\n",
       "<span class=\"go\">g++ -o build-scons/src/wrapper/_statiskit_interval_error.os -c -DNDEBUG -O2 -std=c++0x -DNDEBUG -O2 -fPIC -ftemplate-depth-100 -DBOOST_PYTHON_DYNAMIC_LIB -Ibuild-scons/include -I/usr/include -I/usr/include/python2.7 build-scons/src/wrapper/_statiskit_interval_error.cpp</span>\n",
       "<span class=\"go\">g++ -o build-scons/src/wrapper/_statiskit_independent_multivariate_distribution_f8e628fe7b10595ca2569a9c85b8965f.os -c -DNDEBUG -O2 -std=c++0x -DNDEBUG -O2 -fPIC -ftemplate-depth-100 -DBOOST_PYTHON_DYNAMIC_LIB -Ibuild-scons/include -I/usr/include -I/usr/include/python2.7 build-scons/src/wrapper/_statiskit_independent_multivariate_distribution_f8e628fe7b10595ca2569a9c85b8965f.cpp</span>\n",
       "<span class=\"go\">g++ -o build-scons/src/wrapper/_statiskit_categorical_univariate_distribution_estimation_estimator.os -c -DNDEBUG -O2 -std=c++0x -DNDEBUG -O2 -fPIC -ftemplate-depth-100 -DBOOST_PYTHON_DYNAMIC_LIB -Ibuild-scons/include -I/usr/include -I/usr/include/python2.7 build-scons/src/wrapper/_statiskit_categorical_univariate_distribution_estimation_estimator.cpp</span>\n",
       "<span class=\"go\">g++ -o build-scons/src/wrapper/_statiskit_lazy_estimation_9d8b345884685cd4b3d9c8917928a740.os -c -DNDEBUG -O2 -std=c++0x -DNDEBUG -O2 -fPIC -ftemplate-depth-100 -DBOOST_PYTHON_DYNAMIC_LIB -Ibuild-scons/include -I/usr/include -I/usr/include/python2.7 build-scons/src/wrapper/_statiskit_lazy_estimation_9d8b345884685cd4b3d9c8917928a740.cpp</span>\n",
       "<span class=\"go\">g++ -o build-scons/src/wrapper/_statiskit_categorical_univariate_distribution_estimation.os -c -DNDEBUG -O2 -std=c++0x -DNDEBUG -O2 -fPIC -ftemplate-depth-100 -DBOOST_PYTHON_DYNAMIC_LIB -Ibuild-scons/include -I/usr/include -I/usr/include/python2.7 build-scons/src/wrapper/_statiskit_categorical_univariate_distribution_estimation.cpp</span>\n",
       "<span class=\"go\">g++ -o build-scons/src/wrapper/_statiskit_lazy_estimation_319b4d63cb0b5162a57a49b4ccbaadb5.os -c -DNDEBUG -O2 -std=c++0x -DNDEBUG -O2 -fPIC -ftemplate-depth-100 -DBOOST_PYTHON_DYNAMIC_LIB -Ibuild-scons/include -I/usr/include -I/usr/include/python2.7 build-scons/src/wrapper/_statiskit_lazy_estimation_319b4d63cb0b5162a57a49b4ccbaadb5.cpp</span>\n",
       "<span class=\"go\">g++ -o build-scons/src/wrapper/_statiskit_independent_multivariate_distribution_estimation_estimator_d9e60e6290425d0cbcf0955922eb8cde.os -c -DNDEBUG -O2 -std=c++0x -DNDEBUG -O2 -fPIC -ftemplate-depth-100 -DBOOST_PYTHON_DYNAMIC_LIB -Ibuild-scons/include -I/usr/include -I/usr/include/python2.7 build-scons/src/wrapper/_statiskit_independent_multivariate_distribution_estimation_estimator_d9e60e6290425d0cbcf0955922eb8cde.cpp</span>\n",
       "<span class=\"go\">g++ -o build-scons/src/wrapper/_statiskit_encoding_type.os -c -DNDEBUG -O2 -std=c++0x -DNDEBUG -O2 -fPIC -ftemplate-depth-100 -DBOOST_PYTHON_DYNAMIC_LIB -Ibuild-scons/include -I/usr/include -I/usr/include/python2.7 build-scons/src/wrapper/_statiskit_encoding_type.cpp</span>\n",
       "<span class=\"go\">g++ -o build-scons/src/wrapper/_statiskit_active_estimation_815e982735ae5887bbbe4a7b38156e8c.os -c -DNDEBUG -O2 -std=c++0x -DNDEBUG -O2 -fPIC -ftemplate-depth-100 -DBOOST_PYTHON_DYNAMIC_LIB -Ibuild-scons/include -I/usr/include -I/usr/include/python2.7 build-scons/src/wrapper/_statiskit_active_estimation_815e982735ae5887bbbe4a7b38156e8c.cpp</span>\n",
       "<span class=\"go\">g++ -o build-scons/src/wrapper/_statiskit_independent_multivariate_distribution_estimation_3720842f69395a9795184eb28a264605.os -c -DNDEBUG -O2 -std=c++0x -DNDEBUG -O2 -fPIC -ftemplate-depth-100 -DBOOST_PYTHON_DYNAMIC_LIB -Ibuild-scons/include -I/usr/include -I/usr/include/python2.7 build-scons/src/wrapper/_statiskit_independent_multivariate_distribution_estimation_3720842f69395a9795184eb28a264605.cpp</span>\n",
       "<span class=\"go\">g++ -o build-scons/src/wrapper/_gnu_cxx_normal_iterator_5b3e1006d29159ae8b57d0d898f58696.os -c -DNDEBUG -O2 -std=c++0x -DNDEBUG -O2 -fPIC -ftemplate-depth-100 -DBOOST_PYTHON_DYNAMIC_LIB -Ibuild-scons/include -I/usr/include -I/usr/include/python2.7 build-scons/src/wrapper/_gnu_cxx_normal_iterator_5b3e1006d29159ae8b57d0d898f58696.cpp</span>\n",
       "<span class=\"go\">g++ -o build-scons/src/wrapper/_statiskit_independent_multivariate_distribution_e079f9abd64056808635dde55d1e8c57.os -c -DNDEBUG -O2 -std=c++0x -DNDEBUG -O2 -fPIC -ftemplate-depth-100 -DBOOST_PYTHON_DYNAMIC_LIB -Ibuild-scons/include -I/usr/include -I/usr/include/python2.7 build-scons/src/wrapper/_statiskit_independent_multivariate_distribution_e079f9abd64056808635dde55d1e8c57.cpp</span>\n",
       "<span class=\"go\">g++ -o build-scons/src/wrapper/_statiskit_get_zz.os -c -DNDEBUG -O2 -std=c++0x -DNDEBUG -O2 -fPIC -ftemplate-depth-100 -DBOOST_PYTHON_DYNAMIC_LIB -Ibuild-scons/include -I/usr/include -I/usr/include/python2.7 build-scons/src/wrapper/_statiskit_get_zz.cpp</span>\n",
       "<span class=\"go\">g++ -o build-scons/src/wrapper/_std_initializer_list_c2c28464f0fc5e6ea4c3cd11b13e8990.os -c -DNDEBUG -O2 -std=c++0x -DNDEBUG -O2 -fPIC -ftemplate-depth-100 -DBOOST_PYTHON_DYNAMIC_LIB -Ibuild-scons/include -I/usr/include -I/usr/include/python2.7 build-scons/src/wrapper/_std_initializer_list_c2c28464f0fc5e6ea4c3cd11b13e8990.cpp</span>\n",
       "<span class=\"go\">g++ -o build-scons/src/wrapper/_statiskit_multivariate_data_frame_metric.os -c -DNDEBUG -O2 -std=c++0x -DNDEBUG -O2 -fPIC -ftemplate-depth-100 -DBOOST_PYTHON_DYNAMIC_LIB -Ibuild-scons/include -I/usr/include -I/usr/include/python2.7 build-scons/src/wrapper/_statiskit_multivariate_data_frame_metric.cpp</span>\n",
       "<span class=\"go\">g++ -o build-scons/src/wrapper/_std_initializer_list_ec081388748a5064a8a1a9d59ecdede2.os -c -DNDEBUG -O2 -std=c++0x -DNDEBUG -O2 -fPIC -ftemplate-depth-100 -DBOOST_PYTHON_DYNAMIC_LIB -Ibuild-scons/include -I/usr/include -I/usr/include/python2.7 build-scons/src/wrapper/_std_initializer_list_ec081388748a5064a8a1a9d59ecdede2.cpp</span>\n",
       "<span class=\"go\">g++ -o build-scons/src/wrapper/_statiskit_logistic_distribution.os -c -DNDEBUG -O2 -std=c++0x -DNDEBUG -O2 -fPIC -ftemplate-depth-100 -DBOOST_PYTHON_DYNAMIC_LIB -Ibuild-scons/include -I/usr/include -I/usr/include/python2.7 build-scons/src/wrapper/_statiskit_logistic_distribution.cpp</span>\n",
       "<span class=\"go\">g++ -o build-scons/src/wrapper/_statiskit_active_estimation_f0d9f56823ca5a628d8022ed0d8b48ab.os -c -DNDEBUG -O2 -std=c++0x -DNDEBUG -O2 -fPIC -ftemplate-depth-100 -DBOOST_PYTHON_DYNAMIC_LIB -Ibuild-scons/include -I/usr/include -I/usr/include/python2.7 build-scons/src/wrapper/_statiskit_active_estimation_f0d9f56823ca5a628d8022ed0d8b48ab.cpp</span>\n",
       "<span class=\"go\">g++ -o build-scons/src/wrapper/_statiskit_lazy_estimation_686022c52b665c62816c8aedcf7784ac.os -c -DNDEBUG -O2 -std=c++0x -DNDEBUG -O2 -fPIC -ftemplate-depth-100 -DBOOST_PYTHON_DYNAMIC_LIB -Ibuild-scons/include -I/usr/include -I/usr/include/python2.7 build-scons/src/wrapper/_statiskit_lazy_estimation_686022c52b665c62816c8aedcf7784ac.cpp</span>\n",
       "<span class=\"go\">g++ -o build-scons/src/wrapper/_gnu_cxx_normal_iterator_1e9f4253443359599186aeba408d080b.os -c -DNDEBUG -O2 -std=c++0x -DNDEBUG -O2 -fPIC -ftemplate-depth-100 -DBOOST_PYTHON_DYNAMIC_LIB -Ibuild-scons/include -I/usr/include -I/usr/include/python2.7 build-scons/src/wrapper/_gnu_cxx_normal_iterator_1e9f4253443359599186aeba408d080b.cpp</span>\n",
       "<span class=\"go\">g++ -o build-scons/src/wrapper/_statiskit_get_default_estimator.os -c -DNDEBUG -O2 -std=c++0x -DNDEBUG -O2 -fPIC -ftemplate-depth-100 -DBOOST_PYTHON_DYNAMIC_LIB -Ibuild-scons/include -I/usr/include -I/usr/include/python2.7 build-scons/src/wrapper/_statiskit_get_default_estimator.cpp</span>\n",
       "<span class=\"go\">g++ -o build-scons/src/wrapper/_statiskit_outcome_type.os -c -DNDEBUG -O2 -std=c++0x -DNDEBUG -O2 -fPIC -ftemplate-depth-100 -DBOOST_PYTHON_DYNAMIC_LIB -Ibuild-scons/include -I/usr/include -I/usr/include/python2.7 build-scons/src/wrapper/_statiskit_outcome_type.cpp</span>\n",
       "<span class=\"go\">g++ -o build-scons/src/wrapper/_std_vector_533cafef7e015c268f88531cb6dec762.os -c -DNDEBUG -O2 -std=c++0x -DNDEBUG -O2 -fPIC -ftemplate-depth-100 -DBOOST_PYTHON_DYNAMIC_LIB -Ibuild-scons/include -I/usr/include -I/usr/include/python2.7 build-scons/src/wrapper/_std_vector_533cafef7e015c268f88531cb6dec762.cpp</span>\n",
       "<span class=\"go\">g++ -o src/statiskit/core/__core.so -shared build-scons/src/wrapper/_std_allocator_01c8a042835f5d89bba7056ebdcbc7ce.os build-scons/src/wrapper/_statiskit_univariate_frequency_distribution_estimation_27900f5e7e77569bb2bafd2adfd5c343.os build-scons/src/wrapper/_statiskit_slope_heuristic_maximal_selector.os build-scons/src/wrapper/_std_iterator_2892052a3d885265abe0e27c0bca5dfb.os build-scons/src/wrapper/_statiskit.os build-scons/src/wrapper/_statiskit_elementary_event_4d1671eb267c5d1296b29a65b4b525bc.os build-scons/src/wrapper/_gnu_cxx_new_allocator_73b7c08f334153da8fc0d7479aa8c1ad.os build-scons/src/wrapper/_std_vector_ba7cbf9f8deb547aaf64d9fd5be95867.os build-scons/src/wrapper/_statiskit_univariate_frequency_distribution_27df997dfa3c5c8abedb05fe904b2e13.os build-scons/src/wrapper/_statiskit_lower_bound_error.os build-scons/src/wrapper/_std_allocator_rebind_401fb2a748e651fea575460df3b1834c.os build-scons/src/wrapper/_statiskit_slope_heuristic.os build-scons/src/wrapper/_statiskit_univariate_frequency_distribution_b46ddaf2e1615e249b8bf31d7fa26e8e.os build-scons/src/wrapper/_std_reverse_iterator_c29e22053c4357f1a5f2e363c2c4127a.os build-scons/src/wrapper/_statiskit_univariate_frequency_distribution_ec596ac2b13e5da7902790b3b4121130.os build-scons/src/wrapper/_statiskit_set_censored_event_3cec8f26a180598bab802288a7472147.os build-scons/src/wrapper/_statiskit_active_estimation_f152ff52280850ab95e81d0cbf33aafb.os build-scons/src/wrapper/_statiskit_independent_multivariate_distribution_estimation_estimator_94ac948ff63d5f57b76f48c442b73cea.os build-scons/src/wrapper/_statiskit_get_inf.os build-scons/src/wrapper/_statiskit_continuous_multivariate_distribution_estimation.os build-scons/src/wrapper/_std_iterator_9512ebc1639f5b51aa4b9bf8f1f16936.os build-scons/src/wrapper/_statiskit_discrete_multivariate_distribution_estimation.os build-scons/src/wrapper/_gnu_cxx_normal_iterator_b06afc0c26a3539ebbb7dccde99cc832.os build-scons/src/wrapper/_std_iterator_ff6131ab19285695a8d3dbbe93ee12c9.os build-scons/src/wrapper/_std_iterator_e4498ba825c85ed48888b958f81aa84b.os build-scons/src/wrapper/_statiskit_independent_multivariate_distribution_c1b00a1bc9f35d2293ab6cf27cc2fec2.os build-scons/src/wrapper/_statiskit_natural_co_variance_estimation.os build-scons/src/wrapper/_statiskit_univariate_data_frame.os build-scons/src/wrapper/_statiskit_binomial_distribution.os build-scons/src/wrapper/_statiskit_get_epsilon.os build-scons/src/wrapper/_statiskit_lazy_estimation_c0ba381061fb54b888d7efd5b8b3952f.os build-scons/src/wrapper/_statiskit_discrete_multivariate_distribution_estimation_estimator.os build-scons/src/wrapper/_std_reverse_iterator_e2a7bfe0e0a55bdaaba1c64c0a2e1ab5.os build-scons/src/wrapper/_statiskit_my_error_function.os build-scons/src/wrapper/_statiskit_interval_censored_event_695e19db958a5e38add4e0c0fc9adf97.os build-scons/src/wrapper/_gnu_cxx_normal_iterator_3d81aa8fca175e9ba15b559f79c15b56.os build-scons/src/wrapper/_statiskit_univariate_distribution_estimation_estimator.os build-scons/src/wrapper/_std_iterator_2656f72ee7eb5646982bbfa4188de3de.os build-scons/src/wrapper/_statiskit_slope_heuristic_huber_solver.os build-scons/src/wrapper/_statiskit_univariate_histogram_distribution_estimation_estimator.os build-scons/src/wrapper/_std_reverse_iterator_52386acc03395a3c8366021e746c0073.os build-scons/src/wrapper/_gnu_cxx_new_allocator_f9b623d5093e52bc897e31bbd6a9df0c.os build-scons/src/wrapper/_statiskit_active_estimation_51cf72501a535c48a5f5ece33bf623a8.os build-scons/src/wrapper/_gnu_cxx_new_allocator_11d6759a0a545ac4956b78cc17a6b37a.os build-scons/src/wrapper/_statiskit_continuous_event.os build-scons/src/wrapper/_statiskit_slope_heuristic_estimation_7277086e994454ddaea1c1016da2125e.os build-scons/src/wrapper/_statiskit_get_pr.os build-scons/src/wrapper/_gnu_cxx_normal_iterator_7d0699e84beb54b5942742b983906328.os build-scons/src/wrapper/_statiskit_multivariate_sample_space.os build-scons/src/wrapper/_std_allocator_rebind_4e05c5c5ce4e5ef3b457ab3f9eba69db.os build-scons/src/wrapper/_statiskit_active_estimation_5fb2eab9d71e57ac893df2afa31c4d87.os build-scons/src/wrapper/_statiskit_active_estimation_fe71f4e41d4b5e188acd6e7b981c1384.os build-scons/src/wrapper/_statiskit_lazy_estimation_1e6e46598195539096997510f789dc8c.os build-scons/src/wrapper/_std_allocator_3128a031b8f456b58079f67ae1ec9a7f.os build-scons/src/wrapper/_gnu_cxx_normal_iterator_571f31aed5d3569f8da7fbe42b67012f.os build-scons/src/wrapper/_std_allocator_rebind_ed24e54fbd4551bb886182f27c1ca0a2.os build-scons/src/wrapper/_std_initializer_list_347909e128505727b0035ec81e72d7a2.os build-scons/src/wrapper/_gnu_cxx_new_allocator_41170f6ea60a59b3b8fe9a25adfbff32.os build-scons/src/wrapper/_statiskit_size_error.os build-scons/src/wrapper/_statiskit_independent_multivariate_distribution_estimation_d20ddd6aa8615491867c89ce7d93fad1.os build-scons/src/wrapper/_std_allocator_2eb0c1d35a9f519c870eeb26550e66aa.os build-scons/src/wrapper/_statiskit_univariate_data_frame_metric.os build-scons/src/wrapper/_std_allocator_rebind_86085200db85575db1f9627ac50d6f31.os build-scons/src/wrapper/_std_reverse_iterator_aca2e99d305551f6ab1d5ba89c3737a0.os build-scons/src/wrapper/_statiskit_multivariate_distribution_estimation_estimator.os build-scons/src/wrapper/_statiskit_slope_heuristic_solver.os build-scons/src/wrapper/_statiskit_get_nn.os build-scons/src/wrapper/_statiskit_mean_estimation.os build-scons/src/wrapper/_statiskit_active_estimation_93a5c66bb70454fd80c0e1d040147e5c.os build-scons/src/wrapper/_std_reverse_iterator_bf953108cea75cd99ebde61e431a8261.os build-scons/src/wrapper/_gnu_cxx_new_allocator_4a0c418389c95e5c80dc22dc672f0135.os build-scons/src/wrapper/_statiskit_right_censored_event_15f9750d6baa5ade9d254d3d65b75862.os build-scons/src/wrapper/_statiskit_discrete_univariate_distribution.os build-scons/src/wrapper/_std_reverse_iterator_aefbd4a4a3ec56be8ab30e8031998dc6.os build-scons/src/wrapper/_gnu_cxx_normal_iterator_c0c85a3cfa2c57d38eed02e269f344b4.os build-scons/src/wrapper/_statiskit_categorical_multivariate_distribution.os build-scons/src/wrapper/_std_allocator_rebind_bb502b2d2bb75027b06e6bedd6c96fd2.os build-scons/src/wrapper/_statiskit_rounding_type.os build-scons/src/wrapper/_gnu_cxx_normal_iterator_7447a89a115a58fdb6e70120f58a0bbb.os build-scons/src/wrapper/_statiskit_regular_univariate_histogram_distribution_slope_heuristic_estimation.os build-scons/src/wrapper/_statiskit_test_error.os build-scons/src/wrapper/_statiskit_lazy_estimation_c9ffd0d92ccf50cca65eca5bdcf1e0ca.os build-scons/src/wrapper/_statiskit_multivariate_log_likelihood.os build-scons/src/wrapper/_statiskit_lazy_estimation_91340c4ac3dc5f8c8370fb7360c78887.os build-scons/src/wrapper/_std_iterator_c9c811dafa3a54f8bda5040252c2ed8a.os build-scons/src/wrapper/_statiskit_categorical_multivariate_distribution_estimation.os build-scons/src/wrapper/_statiskit_univariate_log_likelihood.os build-scons/src/wrapper/_statiskit_normal_distribution_ml_estimation_estimator.os build-scons/src/wrapper/_statiskit_discrete_event.os build-scons/src/wrapper/_statiskit_categorical_sample_space.os build-scons/src/wrapper/_statiskit_ordering_type.os build-scons/src/wrapper/_gnu_cxx_normal_iterator_2c4b491983075a18924d83385b377965.os build-scons/src/wrapper/_statiskit_continuous_multivariate_distribution.os build-scons/src/wrapper/_statiskit_natural_mean_estimation.os build-scons/src/wrapper/_statiskit_left_censored_event_2d36b77479005ec190a10f0080a8aae4.os build-scons/src/wrapper/_statiskit_categorical_event.os build-scons/src/wrapper/_std_initializer_list_b7c1dbc51ec856248dbb857f7b89aed7.os build-scons/src/wrapper/_statiskit_poisson_distribution_ml_estimation.os build-scons/src/wrapper/_statiskit_poisson_distribution.os build-scons/src/wrapper/_statiskit_weighted_univariate_data_frame.os build-scons/src/wrapper/_statiskit_get_uimax.os build-scons/src/wrapper/_std_iterator_b5b2f5581ee251bdab815d81a847749f.os build-scons/src/wrapper/_statiskit_discrete_sample_space.os build-scons/src/wrapper/_std_initializer_list_3e7d3ba59ee95accaa0099cc980a46d1.os build-scons/src/wrapper/_gnu_cxx_normal_iterator_ba437e85edd15a07908b8ed388e8cd92.os build-scons/src/wrapper/_statiskit_univariate_frequency_distribution_estimation_estimator_2dc2d05f6d5f5079b390445a2d6b51c5.os build-scons/src/wrapper/_statiskit_nominal_distribution.os build-scons/src/wrapper/_statiskit_duplicated_value_error.os build-scons/src/wrapper/_statiskit_lazy_estimation_71f0d5d2b19150fb9ee7688c94276601.os build-scons/src/wrapper/_statiskit_binomial_distribution_mm_estimation_estimator.os build-scons/src/wrapper/_std_iterator_b5c583fcf78a594ab13106079ab16bca.os build-scons/src/wrapper/_std_iterator_4c7222dee3535bb1b32c123e204275e5.os build-scons/src/wrapper/_statiskit_active_estimation_e4893e08e46c514ba83d3d106cf034b8.os build-scons/src/wrapper/_statiskit_univariate_distribution.os build-scons/src/wrapper/_std_initializer_list_91b2dc7eaefa5aa3b6d55a06294bef1f.os build-scons/src/wrapper/_std_initializer_list_c372c6dd4f8559dfb4b12772c5dad0e9.os build-scons/src/wrapper/_statiskit_left_censored_event_119cc34a340858c2be673e21220e5637.os build-scons/src/wrapper/_statiskit_continuous_sample_space.os build-scons/src/wrapper/_statiskit_get_minits.os build-scons/src/wrapper/_statiskit_event_type.os build-scons/src/wrapper/_statiskit_active_estimation_c815fb08291d52ffbecb0f201d4471a3.os build-scons/src/wrapper/_statiskit_slope_heuristic_iwls_solver.os build-scons/src/wrapper/_statiskit_co_variance_estimation.os build-scons/src/wrapper/_std_reverse_iterator_b77d9460f6e056d8b7fa457000062593.os build-scons/src/wrapper/_std_iterator_abe57280229b5ce092a1d3395c0c5f31.os build-scons/src/wrapper/_statiskit_regular_univariate_histogram_distribution_slope_heuristic_estimation_estimator.os build-scons/src/wrapper/_statiskit_irregular_univariate_histogram_distribution_slope_heuristic_estimation.os build-scons/src/wrapper/_statiskit_univariate_frequency_distribution_estimation_estimator_f7e3fcbd207e57a891fa19d825125270.os build-scons/src/wrapper/_statiskit_independent_multivariate_distribution_estimation_estimator_318fc4eed9a650faaa81b4f3a71a778d.os build-scons/src/wrapper/_gnu_cxx_normal_iterator_4b0a57a1d08a5a15ac5a3e3b6cc58335.os build-scons/src/wrapper/_statiskit_interval_censored_event_da52ebc0143c567393ac2fb12eb7b0de.os build-scons/src/wrapper/_gnu_cxx_new_allocator_39022a5700b8525b803f96a856a90862.os build-scons/src/wrapper/_statiskit_elementary_event_cbcf17cab51f57b48b1234a139e68c06.os build-scons/src/wrapper/_gnu_cxx_new_allocator_2a173dda8afd51389869b877d5c7ee7e.os build-scons/src/wrapper/_std_vector_bfaea671f2f559e88aa6288f67fb2ac3.os build-scons/src/wrapper/_statiskit_poisson_distribution_ml_estimation_estimator.os build-scons/src/wrapper/_gnu_cxx_normal_iterator_1d72e8aa45e559939537a5b298ed2961.os build-scons/src/wrapper/_std_allocator_4d4f388916ae5d978c66d400ee5deced.os build-scons/src/wrapper/_statiskit_slope_heuristic_superior_selector.os build-scons/src/wrapper/_statiskit_ordinal_distribution.os build-scons/src/wrapper/_gnu_cxx_normal_iterator_144db34bb3e65a49ab99c7b8ad33c42b.os build-scons/src/wrapper/_statiskit_slope_heuristic_bi_square_solver.os build-scons/src/wrapper/_statiskit_active_estimation_1a441d795e725da0ae87847854803256.os build-scons/src/wrapper/_gnu_cxx_normal_iterator_ca54e8d56b25530e808512b42dffcb11.os build-scons/src/wrapper/_statiskit_active_estimation_97b9ff80b0db59369e7e020acd3f1ab8.os build-scons/src/wrapper/_statiskit_natural_co_variance_estimation_estimator.os build-scons/src/wrapper/_statiskit_real_sample_space.os build-scons/src/wrapper/_std_reverse_iterator_7fe985cb49ec59c38b2baed8e1866b73.os build-scons/src/wrapper/_std_reverse_iterator_e5d243e67c4d528b982a775f54b165be.os build-scons/src/wrapper/_std_reverse_iterator_13e25404972d51cab7975b4eb3477ce3.os build-scons/src/wrapper/_statiskit_get_missing_event.os build-scons/src/wrapper/_statiskit_univariate_histogram_distribution_estimation.os build-scons/src/wrapper/_statiskit_slope_heuristic_ols_solver.os build-scons/src/wrapper/_std_reverse_iterator_db7b67f763e459d0aa7049c07546e57d.os build-scons/src/wrapper/_statiskit_upper_bound_error.os build-scons/src/wrapper/_std_allocator_rebind_5c692b6956195d0ca674244c81d24a97.os build-scons/src/wrapper/_statiskit_normal_distribution.os build-scons/src/wrapper/_statiskit_right_censored_event_f6970cd4b74e59d78af00d572640f229.os build-scons/src/wrapper/_statiskit_nominal_sample_space.os build-scons/src/wrapper/_statiskit_multivariate_distribution_estimation.os build-scons/src/wrapper/_std_iterator_bb6e5b0ac6e8510682b14e044f48c75d.os build-scons/src/wrapper/_statiskit_quantitative_univariate_frequency_distribution_4d0dfed2ce505eb195b528a7d105d94f.os build-scons/src/wrapper/_statiskit_variable_name.os build-scons/src/wrapper/_statiskit_lazy_estimation_fda7482d926f55239627039b2e97356f.os build-scons/src/wrapper/_std_vector_f8aba8dfa1565c4393ce7561c9672735.os build-scons/src/wrapper/_std_reverse_iterator_fa79cb3651645f40bd58c8adbcce5d56.os build-scons/src/wrapper/_statiskit_nullptr_error.os build-scons/src/wrapper/_statiskit_normal_distribution_ml_estimation.os build-scons/src/wrapper/_std_allocator_rebind_515408cb8a535246a0d296dc35213d21.os build-scons/src/wrapper/_gnu_cxx_normal_iterator_732f49ab20c45e93a1f444ac5e3a3811.os build-scons/src/wrapper/_statiskit_co_variance_estimation_estimator.os build-scons/src/wrapper/_std_iterator_628b648865a95805adf3b58712c8d0fa.os build-scons/src/wrapper/_statiskit_discrete_multivariate_distribution.os build-scons/src/wrapper/_std_reverse_iterator_0740ce431cd954d68a7fe7e8b7fda386.os build-scons/src/wrapper/_statiskit_independent_multivariate_distribution_estimation_5ff96cffc15e5f3685f9ff8f30477ab3.os build-scons/src/wrapper/_statiskit_integer_sample_space.os build-scons/src/wrapper/_statiskit_univariate_event.os build-scons/src/wrapper/_std_vector_bdb9a1e7b3d75dd7b983afd217aa4fb4.os build-scons/src/wrapper/_statiskit_lazy_estimation_bd7c6aef7a315c2a89bea56cfda7c885.os build-scons/src/wrapper/_statiskit_binomial_distribution_mm_estimation.os build-scons/src/wrapper/_statiskit_slope_heuristic_selector.os build-scons/src/wrapper/_statiskit_independent_multivariate_distribution_estimation_estimator_a4243b18f6645880b3225063ce39830f.os build-scons/src/wrapper/_statiskit_get_rr.os build-scons/src/wrapper/_statiskit_get_random_generator.os build-scons/src/wrapper/_statiskit_univariate_sample_space.os build-scons/src/wrapper/_statiskit_elementary_event_62703162019c56088e01ce01960071c2.os build-scons/src/wrapper/_std_allocator_0bcb525bba7b5ff9bbdaa8d1051ffbd5.os build-scons/src/wrapper/_statiskit_set_censored_event_166a39916f0355498312b1d6c92745a2.os build-scons/src/wrapper/_std_allocator_rebind_e9acc5db015a5a5e9c5babfd93ed40ac.os build-scons/src/wrapper/_gnu_cxx_normal_iterator_7a2acdf7800a54528c8b01086d6244e1.os build-scons/src/wrapper/_statiskit_categorical_univariate_distribution.os build-scons/src/wrapper/__core.os build-scons/src/wrapper/_std_allocator_20c541f3016652748eb016e61d8c1620.os build-scons/src/wrapper/_std_allocator_34fedd62e02d5410b948d6ef077d6662.os build-scons/src/wrapper/_statiskit_irregular_univariate_histogram_distribution_slope_heuristic_estimation_estimator.os build-scons/src/wrapper/_std_iterator_3ba9a43382d653cdbe95f1c8b474ab09.os build-scons/src/wrapper/_statiskit_continuous_univariate_distribution_estimation_estimator.os build-scons/src/wrapper/_statiskit_independent_multivariate_distribution_estimation_aee197622ff85f3baa6d640f5b553d9c.os build-scons/src/wrapper/_statiskit_negative_binomial_distribution.os build-scons/src/wrapper/_statiskit_discrete_univariate_distribution_estimation.os build-scons/src/wrapper/_statiskit_univariate_frequency_distribution_estimation_597c7156f3275499be9135f3a1f10677.os build-scons/src/wrapper/_statiskit_parameter_error.os build-scons/src/wrapper/_statiskit_set_censored_event_76af2002e1a8575d9e05fdaf5dbb8b40.os build-scons/src/wrapper/_std_reverse_iterator_eaefe89228e65e9fb45878a6e611b3a3.os build-scons/src/wrapper/_statiskit_detached_event.os build-scons/src/wrapper/_std_initializer_list_a3cd5106cfa554d68b761ff131a1a60f.os build-scons/src/wrapper/_std_initializer_list_b19a937b812f50ad820d6166a3a6db59.os build-scons/src/wrapper/_std_iterator_7aea868a59485e54b7af704933a96ba4.os build-scons/src/wrapper/_statiskit_get_imin.os build-scons/src/wrapper/_std_vector_ffce84d9df7d57c7914b19f3e4ee68c3.os build-scons/src/wrapper/_std_iterator_f5e4a02a0af057ac8dfc732802cf528b.os build-scons/src/wrapper/_statiskit_multivariate_distribution.os build-scons/src/wrapper/_gnu_cxx_new_allocator_d3459ed41bdc52fdaac7e6ab57e50ed1.os build-scons/src/wrapper/_gnu_cxx_normal_iterator_01d53e5dab5c5dd3aac0df61eef80f18.os build-scons/src/wrapper/_statiskit_natural_mean_estimation_estimator.os build-scons/src/wrapper/_statiskit_active_estimation_51ebe87589b657ceb69e8858993257a8.os build-scons/src/wrapper/_statiskit_negative_binomial_distribution_mm_estimation_estimator.os build-scons/src/wrapper/_statiskit_lazy_estimation_783a5f669e9a5115a3df76c21481f3cf.os build-scons/src/wrapper/_std_iterator_c714d09c2194547aac420a51322a6466.os build-scons/src/wrapper/_statiskit_ordinal_sample_space.os build-scons/src/wrapper/_statiskit_lazy_estimation_f1df1969525f5c77ade3646e27cb3db4.os build-scons/src/wrapper/_statiskit_categorical_multivariate_distribution_estimation_estimator.os build-scons/src/wrapper/_statiskit_discrete_univariate_distribution_estimation_estimator.os build-scons/src/wrapper/_std_reverse_iterator_4a86fd12ac7651a58673eddbcbd40cf3.os build-scons/src/wrapper/_statiskit_continuous_univariate_distribution_estimation.os build-scons/src/wrapper/_gnu_cxx_normal_iterator_8edfdd891ae757bf8fc4ff1597767e84.os build-scons/src/wrapper/_std_reverse_iterator_56a087029373505bb21ec4a3eecb2cec.os build-scons/src/wrapper/_statiskit_univariate_distribution_estimation.os build-scons/src/wrapper/_std_reverse_iterator_466b8996ea1f5798946bfdb2c2a903d0.os build-scons/src/wrapper/_statiskit_multivariate_data_frame.os build-scons/src/wrapper/_std_reverse_iterator_6465de2c120e5ea8ad77d39b96f44d06.os build-scons/src/wrapper/_statiskit_univariate_histogram_distribution.os build-scons/src/wrapper/_std_iterator_c10c7c1c61c55b69ace5c31a1adb589a.os build-scons/src/wrapper/_statiskit_get_maxits.os build-scons/src/wrapper/_std_allocator_1871f9b61af659e8aa29ae6743b0c971.os build-scons/src/wrapper/_std_allocator_2cb08cbd9ab857e7bc8d3f4758234bb5.os build-scons/src/wrapper/_statiskit_negative_binomial_distribution_mm_estimation.os build-scons/src/wrapper/_statiskit_continuous_multivariate_distribution_estimation_estimator.os build-scons/src/wrapper/_std_allocator_rebind_6438ca13cb48521c82caabd202e3bae0.os build-scons/src/wrapper/_statiskit_mean_estimation_estimator.os build-scons/src/wrapper/_std_vector_4bcb8ae5157054959df5be6d6ab43950.os build-scons/src/wrapper/_statiskit_get_nan.os build-scons/src/wrapper/_std_vector_97da7be7f1a65987840fec9554975c70.os build-scons/src/wrapper/_statiskit_independent_multivariate_distribution_84d11e6cd18a5568a60fc89a13d75962.os build-scons/src/wrapper/_statiskit_quantitative_univariate_frequency_distribution_245828b5cad952b8b60d78797baec7be.os build-scons/src/wrapper/_statiskit_multivariate_event.os build-scons/src/wrapper/_statiskit_get_nr.os build-scons/src/wrapper/_statiskit_scalar_predictor.os build-scons/src/wrapper/_std_vector_c9ca68dea6845abea1b5a8d168ec044c.os build-scons/src/wrapper/_statiskit_get_imax.os build-scons/src/wrapper/_gnu_cxx_new_allocator_dec96cb10c2c5491977f32fabace1dbc.os build-scons/src/wrapper/_std_iterator_2e64135afc57577facaef50ed984f43c.os build-scons/src/wrapper/_statiskit_continuous_univariate_distribution.os build-scons/src/wrapper/_statiskit_interval_error.os build-scons/src/wrapper/_statiskit_independent_multivariate_distribution_f8e628fe7b10595ca2569a9c85b8965f.os build-scons/src/wrapper/_statiskit_categorical_univariate_distribution_estimation_estimator.os build-scons/src/wrapper/_statiskit_lazy_estimation_9d8b345884685cd4b3d9c8917928a740.os build-scons/src/wrapper/_statiskit_categorical_univariate_distribution_estimation.os build-scons/src/wrapper/_statiskit_lazy_estimation_319b4d63cb0b5162a57a49b4ccbaadb5.os build-scons/src/wrapper/_statiskit_independent_multivariate_distribution_estimation_estimator_d9e60e6290425d0cbcf0955922eb8cde.os build-scons/src/wrapper/_statiskit_encoding_type.os build-scons/src/wrapper/_statiskit_active_estimation_815e982735ae5887bbbe4a7b38156e8c.os build-scons/src/wrapper/_statiskit_independent_multivariate_distribution_estimation_3720842f69395a9795184eb28a264605.os build-scons/src/wrapper/_gnu_cxx_normal_iterator_5b3e1006d29159ae8b57d0d898f58696.os build-scons/src/wrapper/_statiskit_independent_multivariate_distribution_e079f9abd64056808635dde55d1e8c57.os build-scons/src/wrapper/_statiskit_get_zz.os build-scons/src/wrapper/_std_initializer_list_c2c28464f0fc5e6ea4c3cd11b13e8990.os build-scons/src/wrapper/_statiskit_multivariate_data_frame_metric.os build-scons/src/wrapper/_std_initializer_list_ec081388748a5064a8a1a9d59ecdede2.os build-scons/src/wrapper/_statiskit_logistic_distribution.os build-scons/src/wrapper/_statiskit_active_estimation_f0d9f56823ca5a628d8022ed0d8b48ab.os build-scons/src/wrapper/_statiskit_lazy_estimation_686022c52b665c62816c8aedcf7784ac.os build-scons/src/wrapper/_gnu_cxx_normal_iterator_1e9f4253443359599186aeba408d080b.os build-scons/src/wrapper/_statiskit_get_default_estimator.os build-scons/src/wrapper/_statiskit_outcome_type.os build-scons/src/wrapper/_std_vector_533cafef7e015c268f88531cb6dec762.os -Lbuild-scons/lib -L/usr/lib -lpthread -lpython2.7 -lboost_python -larmadillo -lstatiskit_core</span>\n",
       "<span class=\"go\">scons: done building targets.</span>\n",
       "</pre></div>\n",
       "</body>\n",
       "</html>\n"
      ],
      "text/plain": [
       "<vplants.autowig.scons.ShellSession at 0x7ff7050e6550>"
      ]
     },
     "execution_count": 23,
     "metadata": {},
     "output_type": "execute_result"
    }
   ],
   "source": [
    "autowig.scons(rootdir + '/core', '-j3')"
   ]
  },
  {
   "cell_type": "code",
   "execution_count": 24,
   "metadata": {
    "collapsed": false
   },
   "outputs": [
    {
     "ename": "KeyError",
     "evalue": "path(u\"'::std::string' parameter\")",
     "output_type": "error",
     "traceback": [
      "\u001b[1;31m---------------------------------------------------------------------------\u001b[0m",
      "\u001b[1;31mKeyError\u001b[0m                                  Traceback (most recent call last)",
      "\u001b[1;32m<ipython-input-24-4fb0e02fe53b>\u001b[0m in \u001b[0;36m<module>\u001b[1;34m()\u001b[0m\n\u001b[1;32m----> 1\u001b[1;33m \u001b[0masg\u001b[0m\u001b[1;33m[\u001b[0m\u001b[1;34m'::std::string'\u001b[0m\u001b[1;33m]\u001b[0m\u001b[1;33m\u001b[0m\u001b[0m\n\u001b[0m",
      "\u001b[1;32m/home/pfernique/Desktop/AutoWIG/src/vplants/autowig/asg.pyc\u001b[0m in \u001b[0;36m__getitem__\u001b[1;34m(self, node)\u001b[0m\n\u001b[0;32m   1717\u001b[0m                         \u001b[1;32mraise\u001b[0m \u001b[0mKeyError\u001b[0m\u001b[1;33m(\u001b[0m\u001b[1;34m'\\''\u001b[0m \u001b[1;33m+\u001b[0m \u001b[0mnode\u001b[0m \u001b[1;33m+\u001b[0m \u001b[1;34m'\\' parameter'\u001b[0m\u001b[1;33m)\u001b[0m\u001b[1;33m\u001b[0m\u001b[0m\n\u001b[0;32m   1718\u001b[0m                 \u001b[1;32melse\u001b[0m\u001b[1;33m:\u001b[0m\u001b[1;33m\u001b[0m\u001b[0m\n\u001b[1;32m-> 1719\u001b[1;33m                     \u001b[1;32mraise\u001b[0m \u001b[0mKeyError\u001b[0m\u001b[1;33m(\u001b[0m\u001b[1;34m'\\''\u001b[0m \u001b[1;33m+\u001b[0m \u001b[0mnode\u001b[0m \u001b[1;33m+\u001b[0m \u001b[1;34m'\\' parameter'\u001b[0m\u001b[1;33m)\u001b[0m\u001b[1;33m\u001b[0m\u001b[0m\n\u001b[0m\u001b[0;32m   1720\u001b[0m \u001b[1;33m\u001b[0m\u001b[0m\n\u001b[0;32m   1721\u001b[0m \u001b[0m__all__\u001b[0m \u001b[1;33m+=\u001b[0m \u001b[1;33m[\u001b[0m\u001b[0msubclass\u001b[0m\u001b[1;33m.\u001b[0m\u001b[0m__name__\u001b[0m\u001b[1;33m.\u001b[0m\u001b[0mrsplit\u001b[0m\u001b[1;33m(\u001b[0m\u001b[1;34m'.'\u001b[0m\u001b[1;33m,\u001b[0m \u001b[1;36m1\u001b[0m\u001b[1;33m)\u001b[0m\u001b[1;33m.\u001b[0m\u001b[0mpop\u001b[0m\u001b[1;33m(\u001b[0m\u001b[1;33m)\u001b[0m \u001b[1;32mfor\u001b[0m \u001b[0msubclass\u001b[0m \u001b[1;32min\u001b[0m \u001b[0msubclasses\u001b[0m\u001b[1;33m(\u001b[0m\u001b[0mNodeProxy\u001b[0m\u001b[1;33m)\u001b[0m\u001b[1;33m]\u001b[0m\u001b[1;33m\u001b[0m\u001b[0m\n",
      "\u001b[1;31mKeyError\u001b[0m: path(u\"'::std::string' parameter\")"
     ]
    }
   ],
   "source": [
    "asg['::std::string']"
   ]
  },
  {
   "cell_type": "code",
   "execution_count": null,
   "metadata": {
    "collapsed": false
   },
   "outputs": [],
   "source": [
    "asg.nodes('.*string')"
   ]
  },
  {
   "cell_type": "code",
   "execution_count": null,
   "metadata": {
    "collapsed": false
   },
   "outputs": [],
   "source": [
    "asg.typedefs('.*string')"
   ]
  },
  {
   "cell_type": "code",
   "execution_count": null,
   "metadata": {
    "collapsed": true
   },
   "outputs": [],
   "source": []
  }
 ],
 "metadata": {
  "kernelspec": {
   "display_name": "Python 2",
   "language": "python",
   "name": "python2"
  },
  "language_info": {
   "codemirror_mode": {
    "name": "ipython",
    "version": 2
   },
   "file_extension": ".py",
   "mimetype": "text/x-python",
   "name": "python",
   "nbconvert_exporter": "python",
   "pygments_lexer": "ipython2",
   "version": "2.7.10"
  }
 },
 "nbformat": 4,
 "nbformat_minor": 0
}
