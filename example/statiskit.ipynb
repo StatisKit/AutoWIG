{
 "cells": [
  {
   "cell_type": "code",
   "execution_count": 1,
   "metadata": {
    "collapsed": false
   },
   "outputs": [],
   "source": [
    "from vplants.autowig import autowig"
   ]
  },
  {
   "cell_type": "code",
   "execution_count": 2,
   "metadata": {
    "collapsed": false
   },
   "outputs": [],
   "source": [
    "from path import path\n",
    "\n",
    "rootdir = path('../../statiskit/').abspath()\n",
    "\n",
    "includedir = rootdir + \"/core/build-scons/include\"\n",
    "headers = [str(f) for f in includedir.walkfiles('*.h')]\n",
    "    \n",
    "flags = ['-x', 'c++', '-g', '-std=c++11', '-stdlib=libstdc++',\n",
    "         '-I/usr/include', '-I' + str(includedir), '-D__STDC_CONSTANT_MACROS',\n",
    "         '-I/usr/local/lib/clang/3.7.0/include', '-D__STDC_LIMIT_MACROS']\n",
    "\n",
    "asg = autowig.AbstractSemanticGraph()\n",
    "autowig.front_end.plugin = 'pyclanglite'\n",
    "autowig.front_end(asg, headers, flags=flags, silent=True,\n",
    "                  force_overload=True, bootstrap=3, cache=rootdir+'/.AutoWIG')#, force=True)"
   ]
  },
  {
   "cell_type": "code",
   "execution_count": 3,
   "metadata": {
    "collapsed": false
   },
   "outputs": [
    {
     "data": {
      "text/plain": [
       "(True, True)"
      ]
     },
     "execution_count": 3,
     "metadata": {},
     "output_type": "execute_result"
    }
   ],
   "source": [
    "rends = asg.functions('::std::vector<std::basic_string<char>, std::allocator<std::basic_string<char> > >::rend')\n",
    "rends[0].boost_python_export, rends[1].boost_python_export"
   ]
  },
  {
   "cell_type": "code",
   "execution_count": 4,
   "metadata": {
    "collapsed": false
   },
   "outputs": [],
   "source": [
    "autowig.middle_end.plugin = 'default'\n",
    "autowig.middle_end(asg)\n",
    "\n",
    "primaries = [header for header in asg.files(header=True) if header.is_primary]\n",
    "for hdr in asg.files(header=True):\n",
    "    if not hdr.is_primary and hdr.include in primaries:\n",
    "        hdr.is_primary = True\n",
    "        \n",
    "for inc in asg.directories():\n",
    "    if inc.as_include:\n",
    "        if inc.globalname + 'c++/' in asg:\n",
    "            for vsn in asg[inc.globalname + 'c++/'].directories:\n",
    "                vsn.as_include = True\n",
    "                for hdr in vsn.files:\n",
    "                    if hdr.suffix == '':\n",
    "                        hdr.is_primary = True\n",
    "        elif inc.globalname + 'boost/' in asg:\n",
    "            for hdr in sg[inc.globalname + 'boost/'].files:\n",
    "                hdr.is_primary = True\n",
    "                \n",
    "for tpl in asg.classes('.*(unique|weak|shared)_ptr$', templated=True,\n",
    "                       specialized=False):\n",
    "    tpl.is_smart_pointer = True"
   ]
  },
  {
   "cell_type": "code",
   "execution_count": 5,
   "metadata": {
    "code_folding": [],
    "collapsed": false,
    "scrolled": true
   },
   "outputs": [],
   "source": [
    "autowig.back_end.plugin = 'boost_python:std_filter'\n",
    "autowig.back_end(asg)"
   ]
  },
  {
   "cell_type": "code",
   "execution_count": 6,
   "metadata": {
    "collapsed": false
   },
   "outputs": [],
   "source": [
    "if 'struct ::arma::Base<double, arma::Op<arma::diagview<double>, arma::op_strans> >' in asg:\n",
    "    asg['struct ::arma::Base<double, arma::Op<arma::diagview<double>, arma::op_strans> >'].boost_python_export = False\n",
    "if 'struct ::arma::Base<double, arma::Op<arma::Row<double>, arma::op_strans> >' in asg:\n",
    "    asg['struct ::arma::Base<double, arma::Op<arma::Row<double>, arma::op_strans> >'].boost_python_export = False\n",
    "if 'struct ::arma::Base<double, arma::Op<arma::subview_col<double>, arma::op_strans> >':\n",
    "    asg['struct ::arma::Base<double, arma::Op<arma::subview_col<double>, arma::op_strans> >'].boost_python_export = False\n",
    "if 'class ::arma::SpMat<double>' in asg:\n",
    "    for mtd in asg['class ::arma::SpMat<double>'].methods(r'.*operator\\*=.*'):\n",
    "        if mtd.parameters[0].type.target == 'class ::arma::subview<double>':\n",
    "            mtd.boost_python_export = False\n",
    "if 'class ::arma::SpSubview<double>' in asg:\n",
    "    for mtd in asg['class ::arma::SpSubview<double>'].methods('.*check_overlap.*'):\n",
    "        mtd.boost_python_export = False"
   ]
  },
  {
   "cell_type": "code",
   "execution_count": 7,
   "metadata": {
    "collapsed": false
   },
   "outputs": [
    {
     "data": {
      "text/plain": [
       "(True, True)"
      ]
     },
     "execution_count": 7,
     "metadata": {},
     "output_type": "execute_result"
    }
   ],
   "source": [
    "rends[0].boost_python_export, rends[1].boost_python_export"
   ]
  },
  {
   "cell_type": "code",
   "execution_count": 8,
   "metadata": {
    "collapsed": false
   },
   "outputs": [
    {
     "name": "stdout",
     "output_type": "stream",
     "text": [
      "True True\n",
      "True True\n"
     ]
    }
   ],
   "source": [
    "autowig.back_end.plugin = 'boost_python:export'\n",
    "autowig.back_end(asg,\n",
    "                 directory = rootdir + '/core/src/wrapper',\n",
    "                 pattern = '.*statiskit.*',\n",
    "                 prefix = '_')\n",
    "print rends[0].boost_python_export, rends[1].boost_python_export\n",
    "autowig.back_end.plugin = 'boost_python:closure'\n",
    "autowig.back_end(asg)\n",
    "print rends[0].boost_python_export, rends[1].boost_python_export\n",
    "autowig.back_end.plugin = 'boost_python:export'\n",
    "autowig.back_end(asg,\n",
    "                 directory = rootdir + '/misc/src/wrapper',\n",
    "                 prefix = '_')\n",
    "autowig.back_end.plugin = 'boost_python:module'\n",
    "autowig.back_end(asg,\n",
    "                 filename = rootdir + '/core/src/wrapper/__core.cpp',\n",
    "                 package = 'statiskit.core')\n",
    "autowig.back_end(asg,\n",
    "                 filename = rootdir + '/misc/src/wrapper/__misc.cpp',\n",
    "                 package = 'statiskit.misc')\n",
    "autowig.back_end.plugin = 'boost_python:import'\n",
    "autowig.back_end(asg,\n",
    "                 filename = rootdir + '/core/src/statiskit/core/_core.py',\n",
    "                 module = rootdir + '/core/src/wrapper/__core.cpp')\n",
    "autowig.back_end(asg,\n",
    "                 filename = rootdir + '/misc/src/statiskit/misc/_misc.py',\n",
    "                 module = rootdir + '/misc/src/wrapper/__misc.cpp')"
   ]
  },
  {
   "cell_type": "code",
   "execution_count": 9,
   "metadata": {
    "collapsed": false
   },
   "outputs": [
    {
     "data": {
      "text/plain": [
       "/home/pfernique/Desktop/Git/statiskit/misc/src/wrapper/_arma_sp_subview_35365bb0e9a15ad1a7bbb531af8db059.cpp"
      ]
     },
     "execution_count": 9,
     "metadata": {},
     "output_type": "execute_result"
    }
   ],
   "source": [
    "asg['class ::arma::SpSubview<double>'].boost_python_export"
   ]
  },
  {
   "cell_type": "code",
   "execution_count": 10,
   "metadata": {
    "collapsed": false
   },
   "outputs": [],
   "source": [
    "autowig.back_end.plugin = 'on_disk'\n",
    "autowig.back_end(asg,\n",
    "                 pattern = rootdir + '/(core|misc)/src/(wrapper|statiskit)/.*')"
   ]
  },
  {
   "cell_type": "code",
   "execution_count": 11,
   "metadata": {
    "collapsed": false,
    "scrolled": true
   },
   "outputs": [
    {
     "data": {
      "text/html": [
       "<!DOCTYPE html PUBLIC \"-//W3C//DTD HTML 4.01//EN\"\n",
       "   \"http://www.w3.org/TR/html4/strict.dtd\">\n",
       "\n",
       "<html>\n",
       "<head>\n",
       "  <title></title>\n",
       "  <meta http-equiv=\"content-type\" content=\"text/html; charset=None\">\n",
       "  <style type=\"text/css\">\n",
       "td.linenos { background-color: #f0f0f0; padding-right: 10px; }\n",
       "span.lineno { background-color: #f0f0f0; padding: 0 5px 0 5px; }\n",
       "pre { line-height: 125%; }\n",
       "body .hll { background-color: #ffffcc }\n",
       "body  { background: #f8f8f8; }\n",
       "body .c { color: #408080; font-style: italic } /* Comment */\n",
       "body .err { border: 1px solid #FF0000 } /* Error */\n",
       "body .k { color: #008000; font-weight: bold } /* Keyword */\n",
       "body .o { color: #666666 } /* Operator */\n",
       "body .cm { color: #408080; font-style: italic } /* Comment.Multiline */\n",
       "body .cp { color: #BC7A00 } /* Comment.Preproc */\n",
       "body .c1 { color: #408080; font-style: italic } /* Comment.Single */\n",
       "body .cs { color: #408080; font-style: italic } /* Comment.Special */\n",
       "body .gd { color: #A00000 } /* Generic.Deleted */\n",
       "body .ge { font-style: italic } /* Generic.Emph */\n",
       "body .gr { color: #FF0000 } /* Generic.Error */\n",
       "body .gh { color: #000080; font-weight: bold } /* Generic.Heading */\n",
       "body .gi { color: #00A000 } /* Generic.Inserted */\n",
       "body .go { color: #888888 } /* Generic.Output */\n",
       "body .gp { color: #000080; font-weight: bold } /* Generic.Prompt */\n",
       "body .gs { font-weight: bold } /* Generic.Strong */\n",
       "body .gu { color: #800080; font-weight: bold } /* Generic.Subheading */\n",
       "body .gt { color: #0044DD } /* Generic.Traceback */\n",
       "body .kc { color: #008000; font-weight: bold } /* Keyword.Constant */\n",
       "body .kd { color: #008000; font-weight: bold } /* Keyword.Declaration */\n",
       "body .kn { color: #008000; font-weight: bold } /* Keyword.Namespace */\n",
       "body .kp { color: #008000 } /* Keyword.Pseudo */\n",
       "body .kr { color: #008000; font-weight: bold } /* Keyword.Reserved */\n",
       "body .kt { color: #B00040 } /* Keyword.Type */\n",
       "body .m { color: #666666 } /* Literal.Number */\n",
       "body .s { color: #BA2121 } /* Literal.String */\n",
       "body .na { color: #7D9029 } /* Name.Attribute */\n",
       "body .nb { color: #008000 } /* Name.Builtin */\n",
       "body .nc { color: #0000FF; font-weight: bold } /* Name.Class */\n",
       "body .no { color: #880000 } /* Name.Constant */\n",
       "body .nd { color: #AA22FF } /* Name.Decorator */\n",
       "body .ni { color: #999999; font-weight: bold } /* Name.Entity */\n",
       "body .ne { color: #D2413A; font-weight: bold } /* Name.Exception */\n",
       "body .nf { color: #0000FF } /* Name.Function */\n",
       "body .nl { color: #A0A000 } /* Name.Label */\n",
       "body .nn { color: #0000FF; font-weight: bold } /* Name.Namespace */\n",
       "body .nt { color: #008000; font-weight: bold } /* Name.Tag */\n",
       "body .nv { color: #19177C } /* Name.Variable */\n",
       "body .ow { color: #AA22FF; font-weight: bold } /* Operator.Word */\n",
       "body .w { color: #bbbbbb } /* Text.Whitespace */\n",
       "body .mb { color: #666666 } /* Literal.Number.Bin */\n",
       "body .mf { color: #666666 } /* Literal.Number.Float */\n",
       "body .mh { color: #666666 } /* Literal.Number.Hex */\n",
       "body .mi { color: #666666 } /* Literal.Number.Integer */\n",
       "body .mo { color: #666666 } /* Literal.Number.Oct */\n",
       "body .sb { color: #BA2121 } /* Literal.String.Backtick */\n",
       "body .sc { color: #BA2121 } /* Literal.String.Char */\n",
       "body .sd { color: #BA2121; font-style: italic } /* Literal.String.Doc */\n",
       "body .s2 { color: #BA2121 } /* Literal.String.Double */\n",
       "body .se { color: #BB6622; font-weight: bold } /* Literal.String.Escape */\n",
       "body .sh { color: #BA2121 } /* Literal.String.Heredoc */\n",
       "body .si { color: #BB6688; font-weight: bold } /* Literal.String.Interpol */\n",
       "body .sx { color: #008000 } /* Literal.String.Other */\n",
       "body .sr { color: #BB6688 } /* Literal.String.Regex */\n",
       "body .s1 { color: #BA2121 } /* Literal.String.Single */\n",
       "body .ss { color: #19177C } /* Literal.String.Symbol */\n",
       "body .bp { color: #008000 } /* Name.Builtin.Pseudo */\n",
       "body .vc { color: #19177C } /* Name.Variable.Class */\n",
       "body .vg { color: #19177C } /* Name.Variable.Global */\n",
       "body .vi { color: #19177C } /* Name.Variable.Instance */\n",
       "body .il { color: #666666 } /* Literal.Number.Integer.Long */\n",
       "\n",
       "  </style>\n",
       "</head>\n",
       "<body>\n",
       "<h2></h2>\n",
       "\n",
       "<div class=\"highlight\"><pre><span class=\"go\">scons: Reading SConscript files ...</span>\n",
       "<span class=\"go\">scons: done reading SConscript files.</span>\n",
       "<span class=\"go\">scons: Building targets ...</span>\n",
       "<span class=\"go\">g++ -o build-scons/src/wrapper/__misc.os -c -DNDEBUG -O2 -std=c++0x -DNDEBUG -O2 -fPIC -ftemplate-depth-100 -DBOOST_PYTHON_DYNAMIC_LIB -Ibuild-scons/include -I/usr/include -I/usr/include/python2.7 build-scons/src/wrapper/__misc.cpp</span>\n",
       "<span class=\"go\">g++ -o build-scons/src/wrapper/_arma_sp_mat_24b75b8b9cf3513995752c3290cd30ed.os -c -DNDEBUG -O2 -std=c++0x -DNDEBUG -O2 -fPIC -ftemplate-depth-100 -DBOOST_PYTHON_DYNAMIC_LIB -Ibuild-scons/include -I/usr/include -I/usr/include/python2.7 build-scons/src/wrapper/_arma_sp_mat_24b75b8b9cf3513995752c3290cd30ed.cpp</span>\n",
       "<span class=\"go\">g++ -o src/statiskit/misc/__misc.so -shared build-scons/src/wrapper/_std_rb_tree_iterator_19ebcbb89d245d4fa3cfa1d7d34689ca.os build-scons/src/wrapper/_arma_base_trans_default_8efc3cf153a45476b3cb37c306c0cfaa.os build-scons/src/wrapper/_arma_subview_each_common_0cc28d03109f5c419a2f4a6f355002ef.os build-scons/src/wrapper/_arma_mat_const_row_col_iterator_14d3f61fede6542d90b0d882aab6e313.os build-scons/src/wrapper/_arma_op_682cd46a4b2854758641ac49b4b9c0b8.os build-scons/src/wrapper/_std_set_dd0a0a85c2d85c459e2c30bcacfd8277.os build-scons/src/wrapper/_arma.os build-scons/src/wrapper/_arma_sp_base_eval_expr_d326e166c1755cbb99b94980550518fd.os build-scons/src/wrapper/_arma_base_eval_expr_2b9a2cfefc045debad79de2ba5c6624e.os build-scons/src/wrapper/_arma_subview_row_htrans_ee7f12251a315a6697e47a05954a4a63.os build-scons/src/wrapper/_arma_sp_mat_const_iterator_e880c6d45acf559e9ff36c81b34dc99a.os build-scons/src/wrapper/_std_pair_246b49197e535696a503f928dacbdf9a.os build-scons/src/wrapper/_arma_sp_subview_const_row_iterator_0991dc1c32ad5316b0d8c06c3da5087b.os build-scons/src/wrapper/_arma_sp_mat_iterator_base_dd21a5af50bc5901b17b5a489a90a164.os build-scons/src/wrapper/_arma_base_inv_yes_327587cc1b815b0483f16250e61d5048.os build-scons/src/wrapper/_arma_subview_each1_2eaf6147c2f35a4e8d827f88b87bf6b4.os build-scons/src/wrapper/_arma_mat_injector_86f63991644d59e8942a651de046b40a.os build-scons/src/wrapper/_arma_col_56cd46050b21533b9b9c423184c4e611.os build-scons/src/wrapper/__misc.os build-scons/src/wrapper/_arma_sp_base_7d751ceb6c6659318f9f57bc371933f0.os build-scons/src/wrapper/_std_ios_iostate.os build-scons/src/wrapper/_arma_base_eval_expr_92ebb3e037c550c5ac922aa566c047a1.os build-scons/src/wrapper/_std_ios_base.os build-scons/src/wrapper/_arma_subview_row_b1d3ba6538265a4dbab89124a8eb45a4.os build-scons/src/wrapper/_arma_subview_each1_08d4fd94228e51cd8a856e4b400ac867.os build-scons/src/wrapper/_arma_sp_row_c8e78cafc10557b9a574a0b3a1171809.os build-scons/src/wrapper/_arma_sp_mat_iterator_bdc1befec1c45d64a24ae09116147abd.os build-scons/src/wrapper/_arma_cube_464f0802010853aea18e19cece5a6438.os build-scons/src/wrapper/_arma_base_cube_454cdd9ee66f54c0b6b8e49314dcd746.os build-scons/src/wrapper/_arma_base_cube_eval_cube_0eb9d06cf21f527aa3fde2df89b156c1.os build-scons/src/wrapper/_std_basic_istream_sentry_c702204f91205b45a91cfb9aa50bbeac.os build-scons/src/wrapper/_arma_subview_col_23badeabb0715e68af5af97c5878ddf6.os build-scons/src/wrapper/_std_basic_ios_dc0bed07c88f59b7b3e4f11a1fde9779.os build-scons/src/wrapper/_std_pair_ebe87ad2aad65c01ba0c8e1cd4935a51.os build-scons/src/wrapper/_arma_base_cube_d81a81f69c0950bd9f7a8103ddd2d065.os build-scons/src/wrapper/_boost_io_detail.os build-scons/src/wrapper/_std_rb_tree_color.os build-scons/src/wrapper/_arma_base_trans_default_dc474013d53f562ebfdfbd567e7c15f4.os build-scons/src/wrapper/_arma_base_inv_yes_35756b47b6e959e0a210eac8a117b86a.os build-scons/src/wrapper/_arma_subview_cube_1a6f2aaf934c5585b38f17acfb6a1cca.os build-scons/src/wrapper/_std_set_d27eaa833e625fc0946ed45cdb2b5ddd.os build-scons/src/wrapper/_std_exception.os build-scons/src/wrapper/_arma_sp_base_eval_sp_mat_2609d2bdcb4355f5886197fcc889865e.os build-scons/src/wrapper/_arma_sp_val_proxy_8799570eba805d30b8ce05afb69e913e.os build-scons/src/wrapper/_std_locale.os build-scons/src/wrapper/_arma_sp_subview_iterator_690d256dffeb5999afcaf5b74d00936a.os build-scons/src/wrapper/_arma_size_cube.os build-scons/src/wrapper/_arma_sp_mat_row_iterator_7b05e7cd59e556fa947c8d4afef0b7fe.os build-scons/src/wrapper/_std_pair_dff0d8d9eb135e2187447d4336b74a9e.os build-scons/src/wrapper/_std_basic_streambuf_1682b704c1ba5c66ba7aa8f2fb38a8cf.os build-scons/src/wrapper/_arma_base_53fa589629645de79f55a264e54d85a9.os build-scons/src/wrapper/_std_rb_tree_iterator_b517c216ca715db5ba68a831b03be6e9.os build-scons/src/wrapper/_arma_sp_mat_24b75b8b9cf3513995752c3290cd30ed.os build-scons/src/wrapper/_arma_op_0448bdcb1a275cbcb72b7cd28ab32674.os build-scons/src/wrapper/_arma_mat_row_iterator_165a7e3750d959ff984e81990a82e2b2.os build-scons/src/wrapper/_boost_random.os build-scons/src/wrapper/_arma_subview_each_common_a312dd619aa6512a8507e5e11abd649b.os build-scons/src/wrapper/_arma_sp_base_e7aabbc68d375275b170e0fc0d246282.os build-scons/src/wrapper/_arma_mat_row_col_iterator_825cbc9bcac2530097907e5d3e4cb88a.os build-scons/src/wrapper/_std_ios_base_init.os build-scons/src/wrapper/_arma_sp_mat_const_row_iterator_74422668b1975b4fa2089fbce26319e9.os build-scons/src/wrapper/_arma_diagview_69009e26379a57d7934ecbf7e331082b.os build-scons/src/wrapper/_std_pair_bab0f1fb23ed5d9c8021a389b4a25b43.os build-scons/src/wrapper/_arma_base_eval_expr_1ef512516e965b0d86aa2aa4e3e1df0f.os build-scons/src/wrapper/_std.os build-scons/src/wrapper/_arma_base_inv_yes_90da73bf5e6054d29338c4186e481ddf.os build-scons/src/wrapper/_std_vector_bf586709ccee55c9ab0edc3d8b09c29d.os build-scons/src/wrapper/_std_rb_tree_const_iterator_3ec430c2d9325e76b50d368bd1ccea12.os build-scons/src/wrapper/_arma_sp_subview_row_iterator_ffc676d86f7151259a6736013a95bfd3.os build-scons/src/wrapper/_std_ios_base_event.os build-scons/src/wrapper/_boost_random_mersenne_twister_engine_1a63acd07e9457a5884c0ffb646961f3.os build-scons/src/wrapper/_arma_sp_subview_iterator_base_cc33643df2335e2fb63b31b451d2174e.os build-scons/src/wrapper/_std_rb_tree_const_iterator_9571eaac3a8851fdba46303571521d7c.os build-scons/src/wrapper/_arma_base_trans_default_6fd09e45b4db5560a0a714cb7217dbbe.os build-scons/src/wrapper/_arma_size_mat.os build-scons/src/wrapper/_arma_sp_subview_const_iterator_d0f6fd7938d853128871401663e11c96.os build-scons/src/wrapper/_arma_sp_subview_35365bb0e9a15ad1a7bbb531af8db059.os build-scons/src/wrapper/_arma_mat_a1c6595547c1506594939b4db70e1a6e.os build-scons/src/wrapper/_std_ios_fmtflags.os build-scons/src/wrapper/_std_rb_tree_const_iterator_46481384d9de5fd88c4af9d3cb709dc8.os build-scons/src/wrapper/_arma_base_b95d975e29625e3495e78241f86f3b46.os build-scons/src/wrapper/_std_vector_47c6298461835c16ba3ff35172133373.os build-scons/src/wrapper/_arma_base_trans_default_a965556604f9573b9750e69bbd32bed5.os build-scons/src/wrapper/_arma_base_cube_eval_expr_abec4ec1ae7e5d5dadc9da266cc6a4e4.os build-scons/src/wrapper/_arma_span.os build-scons/src/wrapper/_std_locale_impl.os build-scons/src/wrapper/_std_set_505e316e9d405a1599227e17b799e0e2.os build-scons/src/wrapper/_std_basic_string_7161f45fb596507dbfed70691c152b7e.os build-scons/src/wrapper/_arma_base_d686bd0eb69d5c69abb6ddab8210eea7.os build-scons/src/wrapper/_std_basic_ostream_d2368b7a8f79566f82141f26afccb03c.os build-scons/src/wrapper/_arma_sp_val_proxy_e2fb1c6e6d1e55f38bb9fa276926dd4b.os build-scons/src/wrapper/_std_ios_seekdir.os build-scons/src/wrapper/_arma_base_eval_mat_6fb17fd92c9258c794ea1ad70f27d122.os build-scons/src/wrapper/_std_pair_2317ae9d82db5276bd268f4ff3f354ff.os build-scons/src/wrapper/_std_array_c56e6e25af645bf4a65e9e3490004b37.os build-scons/src/wrapper/_arma_base_inv_yes_5be6ded1d0c25058b9987573666c8aae.os build-scons/src/wrapper/_arma_row_9a2662e3df4d5d1493108bc2ae31986e.os build-scons/src/wrapper/_arma_subview_b7fa27ef485c5f7381bd8b4779ac885a.os build-scons/src/wrapper/_std_pair_aaac99e948485e0bb1bd3fea816e19f2.os build-scons/src/wrapper/_arma_sp_col_02fcbdad0d155aee81d4f5ed91790061.os build-scons/src/wrapper/_std_basic_istream_4c9e5eab62d358b9b9e7849871764a79.os build-scons/src/wrapper/_std_rb_tree_iterator_74b53c1ca63c5783ab73bfe05e702f4c.os build-scons/src/wrapper/_arma_base_f7e6ff685399593bbd306b5253a67c50.os build-scons/src/wrapper/_arma_file_type.os build-scons/src/wrapper/_arma_mat_const_row_iterator_d38148483a6d5d9bae486582b8c9f3ee.os build-scons/src/wrapper/_std_rb_tree_node_base.os -Lbuild-scons/lib -L/usr/lib -lpthread -lpython2.7 -lboost_python -larmadillo</span>\n",
       "<span class=\"go\">scons: done building targets.</span>\n",
       "</pre></div>\n",
       "</body>\n",
       "</html>\n"
      ],
      "text/plain": [
       "<vplants.autowig.scons.ShellSession at 0x7f6841b81810>"
      ]
     },
     "execution_count": 11,
     "metadata": {},
     "output_type": "execute_result"
    }
   ],
   "source": [
    "autowig.scons(rootdir + '/misc', '-j3')"
   ]
  },
  {
   "cell_type": "code",
   "execution_count": 12,
   "metadata": {
    "collapsed": false
   },
   "outputs": [
    {
     "data": {
      "text/html": [
       "<!DOCTYPE html PUBLIC \"-//W3C//DTD HTML 4.01//EN\"\n",
       "   \"http://www.w3.org/TR/html4/strict.dtd\">\n",
       "\n",
       "<html>\n",
       "<head>\n",
       "  <title></title>\n",
       "  <meta http-equiv=\"content-type\" content=\"text/html; charset=None\">\n",
       "  <style type=\"text/css\">\n",
       "td.linenos { background-color: #f0f0f0; padding-right: 10px; }\n",
       "span.lineno { background-color: #f0f0f0; padding: 0 5px 0 5px; }\n",
       "pre { line-height: 125%; }\n",
       "body .hll { background-color: #ffffcc }\n",
       "body  { background: #f8f8f8; }\n",
       "body .c { color: #408080; font-style: italic } /* Comment */\n",
       "body .err { border: 1px solid #FF0000 } /* Error */\n",
       "body .k { color: #008000; font-weight: bold } /* Keyword */\n",
       "body .o { color: #666666 } /* Operator */\n",
       "body .cm { color: #408080; font-style: italic } /* Comment.Multiline */\n",
       "body .cp { color: #BC7A00 } /* Comment.Preproc */\n",
       "body .c1 { color: #408080; font-style: italic } /* Comment.Single */\n",
       "body .cs { color: #408080; font-style: italic } /* Comment.Special */\n",
       "body .gd { color: #A00000 } /* Generic.Deleted */\n",
       "body .ge { font-style: italic } /* Generic.Emph */\n",
       "body .gr { color: #FF0000 } /* Generic.Error */\n",
       "body .gh { color: #000080; font-weight: bold } /* Generic.Heading */\n",
       "body .gi { color: #00A000 } /* Generic.Inserted */\n",
       "body .go { color: #888888 } /* Generic.Output */\n",
       "body .gp { color: #000080; font-weight: bold } /* Generic.Prompt */\n",
       "body .gs { font-weight: bold } /* Generic.Strong */\n",
       "body .gu { color: #800080; font-weight: bold } /* Generic.Subheading */\n",
       "body .gt { color: #0044DD } /* Generic.Traceback */\n",
       "body .kc { color: #008000; font-weight: bold } /* Keyword.Constant */\n",
       "body .kd { color: #008000; font-weight: bold } /* Keyword.Declaration */\n",
       "body .kn { color: #008000; font-weight: bold } /* Keyword.Namespace */\n",
       "body .kp { color: #008000 } /* Keyword.Pseudo */\n",
       "body .kr { color: #008000; font-weight: bold } /* Keyword.Reserved */\n",
       "body .kt { color: #B00040 } /* Keyword.Type */\n",
       "body .m { color: #666666 } /* Literal.Number */\n",
       "body .s { color: #BA2121 } /* Literal.String */\n",
       "body .na { color: #7D9029 } /* Name.Attribute */\n",
       "body .nb { color: #008000 } /* Name.Builtin */\n",
       "body .nc { color: #0000FF; font-weight: bold } /* Name.Class */\n",
       "body .no { color: #880000 } /* Name.Constant */\n",
       "body .nd { color: #AA22FF } /* Name.Decorator */\n",
       "body .ni { color: #999999; font-weight: bold } /* Name.Entity */\n",
       "body .ne { color: #D2413A; font-weight: bold } /* Name.Exception */\n",
       "body .nf { color: #0000FF } /* Name.Function */\n",
       "body .nl { color: #A0A000 } /* Name.Label */\n",
       "body .nn { color: #0000FF; font-weight: bold } /* Name.Namespace */\n",
       "body .nt { color: #008000; font-weight: bold } /* Name.Tag */\n",
       "body .nv { color: #19177C } /* Name.Variable */\n",
       "body .ow { color: #AA22FF; font-weight: bold } /* Operator.Word */\n",
       "body .w { color: #bbbbbb } /* Text.Whitespace */\n",
       "body .mb { color: #666666 } /* Literal.Number.Bin */\n",
       "body .mf { color: #666666 } /* Literal.Number.Float */\n",
       "body .mh { color: #666666 } /* Literal.Number.Hex */\n",
       "body .mi { color: #666666 } /* Literal.Number.Integer */\n",
       "body .mo { color: #666666 } /* Literal.Number.Oct */\n",
       "body .sb { color: #BA2121 } /* Literal.String.Backtick */\n",
       "body .sc { color: #BA2121 } /* Literal.String.Char */\n",
       "body .sd { color: #BA2121; font-style: italic } /* Literal.String.Doc */\n",
       "body .s2 { color: #BA2121 } /* Literal.String.Double */\n",
       "body .se { color: #BB6622; font-weight: bold } /* Literal.String.Escape */\n",
       "body .sh { color: #BA2121 } /* Literal.String.Heredoc */\n",
       "body .si { color: #BB6688; font-weight: bold } /* Literal.String.Interpol */\n",
       "body .sx { color: #008000 } /* Literal.String.Other */\n",
       "body .sr { color: #BB6688 } /* Literal.String.Regex */\n",
       "body .s1 { color: #BA2121 } /* Literal.String.Single */\n",
       "body .ss { color: #19177C } /* Literal.String.Symbol */\n",
       "body .bp { color: #008000 } /* Name.Builtin.Pseudo */\n",
       "body .vc { color: #19177C } /* Name.Variable.Class */\n",
       "body .vg { color: #19177C } /* Name.Variable.Global */\n",
       "body .vi { color: #19177C } /* Name.Variable.Instance */\n",
       "body .il { color: #666666 } /* Literal.Number.Integer.Long */\n",
       "\n",
       "  </style>\n",
       "</head>\n",
       "<body>\n",
       "<h2></h2>\n",
       "\n",
       "<div class=\"highlight\"><pre><span class=\"go\">scons: Reading SConscript files ...</span>\n",
       "<span class=\"go\">scons: done reading SConscript files.</span>\n",
       "<span class=\"go\">scons: Building targets ...</span>\n",
       "<span class=\"go\">g++ -o build-scons/src/wrapper/__core.os -c -DNDEBUG -O2 -std=c++0x -DNDEBUG -O2 -fPIC -ftemplate-depth-100 -DBOOST_PYTHON_DYNAMIC_LIB -Ibuild-scons/include -I/usr/include -I/usr/include/python2.7 build-scons/src/wrapper/__core.cpp</span>\n",
       "<span class=\"go\">g++ -o build-scons/src/wrapper/_std_shared_ptr_0ae15e9e814359d2bd0ca467241726ed.os -c -DNDEBUG -O2 -std=c++0x -DNDEBUG -O2 -fPIC -ftemplate-depth-100 -DBOOST_PYTHON_DYNAMIC_LIB -Ibuild-scons/include -I/usr/include -I/usr/include/python2.7 build-scons/src/wrapper/_std_shared_ptr_0ae15e9e814359d2bd0ca467241726ed.cpp</span>\n",
       "<span class=\"go\">g++ -o build-scons/src/wrapper/_std_shared_ptr_13710e60c21a55dda67ed1806d77a74a.os -c -DNDEBUG -O2 -std=c++0x -DNDEBUG -O2 -fPIC -ftemplate-depth-100 -DBOOST_PYTHON_DYNAMIC_LIB -Ibuild-scons/include -I/usr/include -I/usr/include/python2.7 build-scons/src/wrapper/_std_shared_ptr_13710e60c21a55dda67ed1806d77a74a.cpp</span>\n",
       "<span class=\"go\">g++ -o build-scons/src/wrapper/_std_shared_ptr_75ccda2549b4534c92d3e797fcf2cb5e.os -c -DNDEBUG -O2 -std=c++0x -DNDEBUG -O2 -fPIC -ftemplate-depth-100 -DBOOST_PYTHON_DYNAMIC_LIB -Ibuild-scons/include -I/usr/include -I/usr/include/python2.7 build-scons/src/wrapper/_std_shared_ptr_75ccda2549b4534c92d3e797fcf2cb5e.cpp</span>\n",
       "<span class=\"go\">scons: building terminated because of errors.</span>\n",
       "<span class=\"go\">build-scons/src/wrapper/_std_shared_ptr_0ae15e9e814359d2bd0ca467241726ed.cpp: In function &#39;void _std_shared_ptr_0ae15e9e814359d2bd0ca467241726ed()&#39;:</span>\n",
       "<span class=\"go\">build-scons/src/wrapper/_std_shared_ptr_0ae15e9e814359d2bd0ca467241726ed.cpp:22:39: error: &#39;null_ptr&#39; was not declared in this scope</span>\n",
       "<span class=\"go\">             .def(boost::python::init&lt; null_ptr &gt;())</span>\n",
       "<span class=\"go\">                                       ^</span>\n",
       "<span class=\"go\">build-scons/src/wrapper/_std_shared_ptr_0ae15e9e814359d2bd0ca467241726ed.cpp:22:48: error: template argument 1 is invalid</span>\n",
       "<span class=\"go\">             .def(boost::python::init&lt; null_ptr &gt;())</span>\n",
       "<span class=\"go\">                                                ^</span>\n",
       "<span class=\"go\">scons: *** [build-scons/src/wrapper/_std_shared_ptr_0ae15e9e814359d2bd0ca467241726ed.os] Error 1</span>\n",
       "<span class=\"go\">build-scons/src/wrapper/_std_shared_ptr_13710e60c21a55dda67ed1806d77a74a.cpp: In function &#39;void _std_shared_ptr_13710e60c21a55dda67ed1806d77a74a()&#39;:</span>\n",
       "<span class=\"go\">build-scons/src/wrapper/_std_shared_ptr_13710e60c21a55dda67ed1806d77a74a.cpp:22:39: error: &#39;null_ptr&#39; was not declared in this scope</span>\n",
       "<span class=\"go\">             .def(boost::python::init&lt; null_ptr &gt;())</span>\n",
       "<span class=\"go\">                                       ^</span>\n",
       "<span class=\"go\">build-scons/src/wrapper/_std_shared_ptr_13710e60c21a55dda67ed1806d77a74a.cpp:22:48: error: template argument 1 is invalid</span>\n",
       "<span class=\"go\">             .def(boost::python::init&lt; null_ptr &gt;())</span>\n",
       "<span class=\"go\">                                                ^</span>\n",
       "<span class=\"go\">scons: *** [build-scons/src/wrapper/_std_shared_ptr_13710e60c21a55dda67ed1806d77a74a.os] Error 1</span>\n",
       "<span class=\"go\">build-scons/src/wrapper/_std_shared_ptr_75ccda2549b4534c92d3e797fcf2cb5e.cpp: In function &#39;void _std_shared_ptr_75ccda2549b4534c92d3e797fcf2cb5e()&#39;:</span>\n",
       "<span class=\"go\">build-scons/src/wrapper/_std_shared_ptr_75ccda2549b4534c92d3e797fcf2cb5e.cpp:22:39: error: &#39;null_ptr&#39; was not declared in this scope</span>\n",
       "<span class=\"go\">             .def(boost::python::init&lt; null_ptr &gt;())</span>\n",
       "<span class=\"go\">                                       ^</span>\n",
       "<span class=\"go\">build-scons/src/wrapper/_std_shared_ptr_75ccda2549b4534c92d3e797fcf2cb5e.cpp:22:48: error: template argument 1 is invalid</span>\n",
       "<span class=\"go\">             .def(boost::python::init&lt; null_ptr &gt;())</span>\n",
       "<span class=\"go\">                                                ^</span>\n",
       "<span class=\"go\">scons: *** [build-scons/src/wrapper/_std_shared_ptr_75ccda2549b4534c92d3e797fcf2cb5e.os] Error 1</span>\n",
       "</pre></div>\n",
       "</body>\n",
       "</html>\n"
      ],
      "text/plain": [
       "<vplants.autowig.scons.ShellSession at 0x7f6826b866d0>"
      ]
     },
     "execution_count": 12,
     "metadata": {},
     "output_type": "execute_result"
    }
   ],
   "source": [
    "autowig.scons(rootdir + '/core', '-j3')"
   ]
  },
  {
   "cell_type": "code",
   "execution_count": 13,
   "metadata": {
    "collapsed": false
   },
   "outputs": [
    {
     "data": {
      "text/plain": [
       "[::std::vector<double, std::allocator<double> >::begin::8586b02d-882f-5625-8704-49546ef111b6,\n",
       " ::std::vector<double, std::allocator<double> >::begin::0aa5fdfc-c294-5df3-8c85-7dcad5566e45,\n",
       " ::std::vector<double, std::allocator<double> >::rbegin::7af8af85-3d23-58e4-887d-7fd6350be1da,\n",
       " ::std::vector<double, std::allocator<double> >::rbegin::28f8735c-bfc9-5241-9c6d-2ce0dfcb9717,\n",
       " ::std::vector<double, std::allocator<double> >::cbegin::f81eb128-bd51-5553-ad5d-bf383e387820,\n",
       " ::std::vector<double, std::allocator<double> >::crbegin::1380f30b-2eb3-5603-a479-a901ec8e8d9f]"
      ]
     },
     "execution_count": 13,
     "metadata": {},
     "output_type": "execute_result"
    }
   ],
   "source": [
    "mtds = asg['class ::std::vector<double, std::allocator<double> >'].methods('.*begin.*')\n",
    "mtds"
   ]
  },
  {
   "cell_type": "code",
   "execution_count": 14,
   "metadata": {
    "collapsed": false
   },
   "outputs": [
    {
     "name": "stdout",
     "output_type": "stream",
     "text": [
      "class ::__gnu_cxx::__normal_iterator<double *, std::vector<double, std::allocator<double> > >\n"
     ]
    }
   ],
   "source": [
    "print mtds[0].result_type"
   ]
  },
  {
   "cell_type": "code",
   "execution_count": 18,
   "metadata": {
    "collapsed": false
   },
   "outputs": [],
   "source": [
    "spcs = asg['class ::std::shared_ptr'].specializations()"
   ]
  },
  {
   "cell_type": "code",
   "execution_count": 19,
   "metadata": {
    "collapsed": false
   },
   "outputs": [
    {
     "data": {
      "text/plain": [
       "[False,\n",
       " False,\n",
       " False,\n",
       " False,\n",
       " False,\n",
       " False,\n",
       " False,\n",
       " False,\n",
       " False,\n",
       " False,\n",
       " False,\n",
       " False,\n",
       " False,\n",
       " False,\n",
       " False,\n",
       " False,\n",
       " False,\n",
       " False]"
      ]
     },
     "execution_count": 19,
     "metadata": {},
     "output_type": "execute_result"
    }
   ],
   "source": [
    "[spc.boost_python_export for spc in spcs]"
   ]
  },
  {
   "cell_type": "code",
   "execution_count": null,
   "metadata": {
    "collapsed": true
   },
   "outputs": [],
   "source": []
  }
 ],
 "metadata": {
  "kernelspec": {
   "display_name": "Python 2",
   "language": "python",
   "name": "python2"
  },
  "language_info": {
   "codemirror_mode": {
    "name": "ipython",
    "version": 2
   },
   "file_extension": ".py",
   "mimetype": "text/x-python",
   "name": "python",
   "nbconvert_exporter": "python",
   "pygments_lexer": "ipython2",
   "version": "2.7.9"
  }
 },
 "nbformat": 4,
 "nbformat_minor": 0
}
