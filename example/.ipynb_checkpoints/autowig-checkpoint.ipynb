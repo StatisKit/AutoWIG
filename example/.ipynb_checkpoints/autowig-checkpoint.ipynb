{
 "metadata": {
  "name": "",
  "signature": "sha256:04eb13c4cdc5d1866e57c391bebc109f48c5a0762f34aff0a3d2af4acd0a52d2"
 },
 "nbformat": 3,
 "nbformat_minor": 0,
 "worksheets": [
  {
   "cells": [
    {
     "cell_type": "markdown",
     "metadata": {},
     "source": [
      "Set the variable `header_path` to the folder containing relevant `*.h` files"
     ]
    },
    {
     "cell_type": "code",
     "collapsed": false,
     "input": [
      "from openalea.core.path import path\n",
      "from vplants import autowig\n",
      "header_path = path(autowig.__path__[0])\n",
      "while header_path.name.name != 'src':\n",
      "    header_path = header_path.parent\n",
      "header_path = header_path.parent/'example'/'header'"
     ],
     "language": "python",
     "metadata": {},
     "outputs": [],
     "prompt_number": 1
    },
    {
     "cell_type": "heading",
     "level": 1,
     "metadata": {},
     "source": [
      "Examples of `VPlants.AutoWIG` package "
     ]
    },
    {
     "cell_type": "heading",
     "level": 2,
     "metadata": {},
     "source": [
      "Using [clang]([https://github.com/llvm-mirror/clang.git) to parse files"
     ]
    },
    {
     "cell_type": "markdown",
     "metadata": {},
     "source": [
      "This part is largely based on [Tam\u00e1s Szelei's coding blog](http://szelei.me/code-generator/).\n",
      "We aimed to present choice made in `VPlants.AutoWIG` package in order to propose clear and reusable C++ binding."
     ]
    },
    {
     "cell_type": "code",
     "collapsed": false,
     "input": [
      "from vplants.autowig import parser"
     ],
     "language": "python",
     "metadata": {},
     "outputs": [],
     "prompt_number": 2
    },
    {
     "cell_type": "heading",
     "level": 3,
     "metadata": {},
     "source": [
      "Parse file"
     ]
    },
    {
     "cell_type": "markdown",
     "metadata": {},
     "source": [
      "To parse a file one need to specify the path to the file and additional `CXXFLAGS`."
     ]
    },
    {
     "cell_type": "code",
     "collapsed": false,
     "input": [
      "translation_unit = parser.parse_file(header_path/'type.h')#, cxxflags=dict(std='c++11'))"
     ],
     "language": "python",
     "metadata": {},
     "outputs": [],
     "prompt_number": 3
    },
    {
     "cell_type": "markdown",
     "metadata": {},
     "source": [
      "Traversing the AST is performed with cursors. A cursor points to a node in the AST, and can tell what kind of node that is (for example, a class declaration) and what are its children (e.g. the members of the class), as well as numerous other information. \n",
      "In order to easily see in ASCII format results of a file parsing the `ascii` function `__repr__` (based on [dump_ast.py](https://github.com/sztomi/code-generator/blob/master/src/dump_ast.py)) is defined for `TranslationUnit` instances."
     ]
    },
    {
     "cell_type": "code",
     "collapsed": false,
     "input": [
      "translation_unit"
     ],
     "language": "python",
     "metadata": {},
     "outputs": [
      {
       "metadata": {},
       "output_type": "pyout",
       "prompt_number": 4,
       "text": [
        "TRANSLATION_UNIT /home/pfernique/Desktop/GitHub/pfernique/autowig/example/header/type.h\n",
        "  +--NAMESPACE namespace_a\n",
        "  |  +--VAR_DECL variable\n",
        "  |  +--NAMESPACE namespace_b\n",
        "  |  |  +--CLASS_DECL Class\n",
        "  |  |  +--NAMESPACE namespace_c\n",
        "  |  |     +--ENUM_DECL enum_type\n",
        "  |  |        +--ENUM_CONSTANT_DECL ENUM_A\n",
        "  |  |        +--ENUM_CONSTANT_DECL ENUM_B\n",
        "  |  +--TYPEDEF_DECL enum_type\n",
        "  |  |  +--NAMESPACE_REF namespace_b\n",
        "  |  |  +--NAMESPACE_REF namespace_c\n",
        "  |  |  +--TYPE_REF enum namespace_a::namespace_b::namespace_c::enum_type\n",
        "  |  +--FUNCTION_DECL function\n",
        "  |  |  +--PARM_DECL a\n",
        "  |  +--STRUCT_DECL Struct\n",
        "  |  |  +--CONSTRUCTOR Struct\n",
        "  |  |  +--DESTRUCTOR ~Struct\n",
        "  |  |  +--CONSTRUCTOR Struct\n",
        "  |  |  |  +--PARM_DECL s\n",
        "  |  |  |     +--TYPE_REF struct namespace_a::Struct\n",
        "  |  |  +--CXX_METHOD virtual_function\n",
        "  |  |     +--PARM_DECL enum_value\n",
        "  |  |        +--TYPE_REF enum_type\n",
        "  |  +--CLASS_DECL BaseClass\n",
        "  |     +--CXX_BASE_SPECIFIER struct namespace_a::Struct\n",
        "  |        +--TYPE_REF struct namespace_a::Struct\n",
        "  +--NAMESPACE namespace_b\n",
        "     +--CLASS_DECL DerivedClass\n",
        "        +--CXX_BASE_SPECIFIER namespace_a::BaseClass\n",
        "        |  +--NAMESPACE_REF namespace_a\n",
        "        |  +--TYPE_REF class namespace_a::BaseClass\n",
        "        +--FIELD_DECL field\n",
        "        +--CXX_ACCESS_SPEC_DECL \n",
        "        +--CXX_METHOD virtual_function\n",
        "           +--PARM_DECL enum_value\n",
        "              +--NAMESPACE_REF namespace_a\n",
        "              +--TYPE_REF enum_type"
       ]
      }
     ],
     "prompt_number": 4
    },
    {
     "cell_type": "heading",
     "level": 3,
     "metadata": {},
     "source": [
      "Code Model"
     ]
    },
    {
     "cell_type": "markdown",
     "metadata": {},
     "source": [
      "Parsed output could be wrapped in an online manner, but it is clearer (and more reusable) to actually build a code model in which the parsed C++ objects are objects."
     ]
    },
    {
     "cell_type": "code",
     "collapsed": false,
     "input": [
      "header_model = parser.HeaderModel(translation_unit)\n",
      "parser.Interface(header_model)"
     ],
     "language": "python",
     "metadata": {},
     "outputs": [
      {
       "html": [
        "<!DOCTYPE html PUBLIC \"-//W3C//DTD HTML 4.01//EN\"\n",
        "   \"http://www.w3.org/TR/html4/strict.dtd\">\n",
        "\n",
        "<html>\n",
        "<head>\n",
        "  <title></title>\n",
        "  <meta http-equiv=\"content-type\" content=\"text/html; charset=None\">\n",
        "  <style type=\"text/css\">\n",
        "td.linenos { background-color: #f0f0f0; padding-right: 10px; }\n",
        "span.lineno { background-color: #f0f0f0; padding: 0 5px 0 5px; }\n",
        "pre { line-height: 125%; }\n",
        "body .hll { background-color: #ffffcc }\n",
        "body  { background: #f8f8f8; }\n",
        "body .c { color: #408080; font-style: italic } /* Comment */\n",
        "body .err { border: 1px solid #FF0000 } /* Error */\n",
        "body .k { color: #008000; font-weight: bold } /* Keyword */\n",
        "body .o { color: #666666 } /* Operator */\n",
        "body .cm { color: #408080; font-style: italic } /* Comment.Multiline */\n",
        "body .cp { color: #BC7A00 } /* Comment.Preproc */\n",
        "body .c1 { color: #408080; font-style: italic } /* Comment.Single */\n",
        "body .cs { color: #408080; font-style: italic } /* Comment.Special */\n",
        "body .gd { color: #A00000 } /* Generic.Deleted */\n",
        "body .ge { font-style: italic } /* Generic.Emph */\n",
        "body .gr { color: #FF0000 } /* Generic.Error */\n",
        "body .gh { color: #000080; font-weight: bold } /* Generic.Heading */\n",
        "body .gi { color: #00A000 } /* Generic.Inserted */\n",
        "body .go { color: #888888 } /* Generic.Output */\n",
        "body .gp { color: #000080; font-weight: bold } /* Generic.Prompt */\n",
        "body .gs { font-weight: bold } /* Generic.Strong */\n",
        "body .gu { color: #800080; font-weight: bold } /* Generic.Subheading */\n",
        "body .gt { color: #0044DD } /* Generic.Traceback */\n",
        "body .kc { color: #008000; font-weight: bold } /* Keyword.Constant */\n",
        "body .kd { color: #008000; font-weight: bold } /* Keyword.Declaration */\n",
        "body .kn { color: #008000; font-weight: bold } /* Keyword.Namespace */\n",
        "body .kp { color: #008000 } /* Keyword.Pseudo */\n",
        "body .kr { color: #008000; font-weight: bold } /* Keyword.Reserved */\n",
        "body .kt { color: #B00040 } /* Keyword.Type */\n",
        "body .m { color: #666666 } /* Literal.Number */\n",
        "body .s { color: #BA2121 } /* Literal.String */\n",
        "body .na { color: #7D9029 } /* Name.Attribute */\n",
        "body .nb { color: #008000 } /* Name.Builtin */\n",
        "body .nc { color: #0000FF; font-weight: bold } /* Name.Class */\n",
        "body .no { color: #880000 } /* Name.Constant */\n",
        "body .nd { color: #AA22FF } /* Name.Decorator */\n",
        "body .ni { color: #999999; font-weight: bold } /* Name.Entity */\n",
        "body .ne { color: #D2413A; font-weight: bold } /* Name.Exception */\n",
        "body .nf { color: #0000FF } /* Name.Function */\n",
        "body .nl { color: #A0A000 } /* Name.Label */\n",
        "body .nn { color: #0000FF; font-weight: bold } /* Name.Namespace */\n",
        "body .nt { color: #008000; font-weight: bold } /* Name.Tag */\n",
        "body .nv { color: #19177C } /* Name.Variable */\n",
        "body .ow { color: #AA22FF; font-weight: bold } /* Operator.Word */\n",
        "body .w { color: #bbbbbb } /* Text.Whitespace */\n",
        "body .mf { color: #666666 } /* Literal.Number.Float */\n",
        "body .mh { color: #666666 } /* Literal.Number.Hex */\n",
        "body .mi { color: #666666 } /* Literal.Number.Integer */\n",
        "body .mo { color: #666666 } /* Literal.Number.Oct */\n",
        "body .sb { color: #BA2121 } /* Literal.String.Backtick */\n",
        "body .sc { color: #BA2121 } /* Literal.String.Char */\n",
        "body .sd { color: #BA2121; font-style: italic } /* Literal.String.Doc */\n",
        "body .s2 { color: #BA2121 } /* Literal.String.Double */\n",
        "body .se { color: #BB6622; font-weight: bold } /* Literal.String.Escape */\n",
        "body .sh { color: #BA2121 } /* Literal.String.Heredoc */\n",
        "body .si { color: #BB6688; font-weight: bold } /* Literal.String.Interpol */\n",
        "body .sx { color: #008000 } /* Literal.String.Other */\n",
        "body .sr { color: #BB6688 } /* Literal.String.Regex */\n",
        "body .s1 { color: #BA2121 } /* Literal.String.Single */\n",
        "body .ss { color: #19177C } /* Literal.String.Symbol */\n",
        "body .bp { color: #008000 } /* Name.Builtin.Pseudo */\n",
        "body .vc { color: #19177C } /* Name.Variable.Class */\n",
        "body .vg { color: #19177C } /* Name.Variable.Global */\n",
        "body .vi { color: #19177C } /* Name.Variable.Instance */\n",
        "body .il { color: #666666 } /* Literal.Number.Integer.Long */\n",
        "\n",
        "  </style>\n",
        "</head>\n",
        "<body>\n",
        "<h2></h2>\n",
        "\n",
        "<div class=\"highlight\"><pre><span class=\"k\">namespace</span> <span class=\"n\">namespace_a</span>\n",
        "<span class=\"p\">{</span>\n",
        "\t<span class=\"kt\">int</span> <span class=\"n\">variable</span><span class=\"p\">;</span>\n",
        "\n",
        "\t<span class=\"k\">namespace</span> <span class=\"n\">namespace_b</span>\n",
        "\t<span class=\"p\">{</span>\n",
        "\t\t<span class=\"k\">class</span> <span class=\"nc\">Class</span><span class=\"p\">;</span>\n",
        "\t\n",
        "\t\t<span class=\"k\">namespace</span> <span class=\"n\">namespace_c</span>\n",
        "\t\t<span class=\"p\">{</span>\n",
        "\t\t\t<span class=\"k\">enum</span> <span class=\"n\">enum_type</span>\n",
        "\t\t\t<span class=\"p\">{</span>\n",
        "\t\t\t\t<span class=\"n\">ENUM_A</span><span class=\"p\">,</span>\n",
        "\t\t\t\t<span class=\"n\">ENUM_B</span>\n",
        "\t\t\t<span class=\"p\">};</span>\n",
        "\t\t<span class=\"p\">}</span>\n",
        "\t<span class=\"p\">}</span>\n",
        "\n",
        "\t<span class=\"k\">typedef</span> <span class=\"n\">namespace_a</span><span class=\"o\">::</span><span class=\"n\">namespace_b</span><span class=\"o\">::</span><span class=\"n\">namespace_c</span><span class=\"o\">::</span><span class=\"n\">enum_type</span> <span class=\"n\">enum_type</span><span class=\"p\">;</span>\n",
        "\n",
        "\t<span class=\"kt\">int</span> <span class=\"o\">&amp;</span> <span class=\"n\">function</span><span class=\"p\">(</span><span class=\"k\">const</span> <span class=\"kt\">int</span> <span class=\"o\">&amp;</span> <span class=\"n\">a</span><span class=\"p\">);</span>\n",
        "\n",
        "\t<span class=\"k\">class</span> <span class=\"nc\">Struct</span>\n",
        "\t<span class=\"p\">{</span>\n",
        "\t\t<span class=\"nl\">public:</span>\n",
        "\t\t\t<span class=\"n\">Struct</span><span class=\"p\">();</span>\n",
        "\t\t\t<span class=\"n\">Struct</span><span class=\"p\">(</span><span class=\"k\">const</span> <span class=\"n\">namespace_a</span><span class=\"o\">::</span><span class=\"n\">Struct</span> <span class=\"o\">&amp;</span> <span class=\"n\">s</span><span class=\"p\">);</span>\n",
        "\t\t\t<span class=\"k\">virtual</span> <span class=\"o\">~</span><span class=\"n\">Struct</span><span class=\"p\">();</span>\n",
        "\t\t\t\n",
        "\t\t\t<span class=\"k\">virtual</span> <span class=\"kt\">double</span> <span class=\"n\">virtual_function</span><span class=\"p\">(</span><span class=\"k\">const</span> <span class=\"n\">enum_type</span> <span class=\"o\">&amp;</span> <span class=\"n\">enum_value</span><span class=\"p\">)</span> <span class=\"o\">=</span> <span class=\"mi\">0</span><span class=\"p\">;</span>\n",
        "\t\t\t\n",
        "\t\n",
        "\t<span class=\"p\">};</span>\n",
        "\n",
        "\t<span class=\"k\">class</span> <span class=\"nc\">BaseClass</span> <span class=\"o\">:</span> <span class=\"k\">public</span> <span class=\"n\">namespace_a</span><span class=\"o\">::</span><span class=\"n\">Struct</span>\n",
        "\t<span class=\"p\">{};</span>\n",
        "<span class=\"p\">}</span>\n",
        "\n",
        "<span class=\"k\">namespace</span> <span class=\"n\">namespace_b</span>\n",
        "<span class=\"p\">{</span>\n",
        "\t<span class=\"k\">class</span> <span class=\"nc\">DerivedClass</span> <span class=\"o\">:</span> <span class=\"k\">public</span> <span class=\"n\">namespace_a</span><span class=\"o\">::</span><span class=\"n\">BaseClass</span>\n",
        "\t<span class=\"p\">{</span>\n",
        "\t\t<span class=\"nl\">public:</span>\n",
        "\t\t\t<span class=\"k\">virtual</span> <span class=\"kt\">double</span> <span class=\"n\">virtual_function</span><span class=\"p\">(</span><span class=\"k\">const</span> <span class=\"n\">namespace_a</span><span class=\"o\">::</span><span class=\"n\">enum_type</span> <span class=\"o\">&amp;</span> <span class=\"n\">enum_value</span><span class=\"p\">);</span>\n",
        "\t\t\t\n",
        "\t\t<span class=\"nl\">private:</span>\n",
        "\t\t\t<span class=\"kt\">int</span> <span class=\"n\">field</span><span class=\"p\">;</span>\n",
        "\t\t\t\n",
        "\t\n",
        "\t<span class=\"p\">};</span>\n",
        "<span class=\"p\">}</span>\n",
        "</pre></div>\n",
        "</body>\n",
        "</html>\n"
       ],
       "metadata": {},
       "output_type": "pyout",
       "prompt_number": 5,
       "text": [
        "<vplants.autowig.parser.interface.Interface at 0x7f42e9338bd0>"
       ]
      }
     ],
     "prompt_number": 5
    },
    {
     "cell_type": "code",
     "collapsed": false,
     "input": [
      "bc = header_model.declarations[1].declarations[0].bases[0]"
     ],
     "language": "python",
     "metadata": {},
     "outputs": [],
     "prompt_number": 6
    },
    {
     "cell_type": "code",
     "collapsed": false,
     "input": [
      "bc.name"
     ],
     "language": "python",
     "metadata": {},
     "outputs": [
      {
       "metadata": {},
       "output_type": "pyout",
       "prompt_number": 7,
       "text": [
        "'namespace_a::BaseClass'"
       ]
      }
     ],
     "prompt_number": 7
    },
    {
     "cell_type": "code",
     "collapsed": false,
     "input": [
      "inc = header_model.includes[0]"
     ],
     "language": "python",
     "metadata": {},
     "outputs": [
      {
       "ename": "AttributeError",
       "evalue": "'HeaderModel' object has no attribute 'includes'",
       "output_type": "pyerr",
       "traceback": [
        "\u001b[0;31m---------------------------------------------------------------------------\u001b[0m\n\u001b[0;31mAttributeError\u001b[0m                            Traceback (most recent call last)",
        "\u001b[0;32m<ipython-input-8-6163eff65508>\u001b[0m in \u001b[0;36m<module>\u001b[0;34m()\u001b[0m\n\u001b[0;32m----> 1\u001b[0;31m \u001b[0minc\u001b[0m \u001b[0;34m=\u001b[0m \u001b[0mheader_model\u001b[0m\u001b[0;34m.\u001b[0m\u001b[0mincludes\u001b[0m\u001b[0;34m[\u001b[0m\u001b[0;36m0\u001b[0m\u001b[0;34m]\u001b[0m\u001b[0;34m\u001b[0m\u001b[0m\n\u001b[0m",
        "\u001b[0;31mAttributeError\u001b[0m: 'HeaderModel' object has no attribute 'includes'"
       ]
      }
     ],
     "prompt_number": 8
    },
    {
     "cell_type": "code",
     "collapsed": false,
     "input": [
      "inc.name"
     ],
     "language": "python",
     "metadata": {},
     "outputs": []
    },
    {
     "cell_type": "code",
     "collapsed": false,
     "input": [
      "from clang.cindex import CursorKind\n",
      "sorted([str(i) for i in CursorKind.get_all_kinds()])"
     ],
     "language": "python",
     "metadata": {},
     "outputs": []
    },
    {
     "cell_type": "heading",
     "level": 4,
     "metadata": {},
     "source": [
      "Variable Model"
     ]
    },
    {
     "cell_type": "code",
     "collapsed": false,
     "input": [
      "parser.Interface(parser.VariableModel(variable))"
     ],
     "language": "python",
     "metadata": {},
     "outputs": []
    },
    {
     "cell_type": "heading",
     "level": 4,
     "metadata": {},
     "source": [
      "Function Model"
     ]
    },
    {
     "cell_type": "code",
     "collapsed": false,
     "input": [
      "parser.Interface(parser.FunctionModel(function))"
     ],
     "language": "python",
     "metadata": {},
     "outputs": []
    },
    {
     "cell_type": "heading",
     "level": 4,
     "metadata": {},
     "source": [
      "Class & Struct Models"
     ]
    },
    {
     "cell_type": "code",
     "collapsed": false,
     "input": [
      "parser.Interface(parser.ClassModel(struct))"
     ],
     "language": "python",
     "metadata": {},
     "outputs": []
    },
    {
     "cell_type": "heading",
     "level": 4,
     "metadata": {},
     "source": [
      "Header Model"
     ]
    },
    {
     "cell_type": "code",
     "collapsed": false,
     "input": [
      "parser.Interface(parser.HeaderModel(translation_unit.cursor))"
     ],
     "language": "python",
     "metadata": {},
     "outputs": []
    },
    {
     "cell_type": "code",
     "collapsed": false,
     "input": [
      "parser.Interface(parser.ClassModel(derivedclass))"
     ],
     "language": "python",
     "metadata": {},
     "outputs": []
    },
    {
     "cell_type": "code",
     "collapsed": false,
     "input": [
      "model.destructor"
     ],
     "language": "python",
     "metadata": {},
     "outputs": []
    },
    {
     "cell_type": "code",
     "collapsed": false,
     "input": [
      "import itertools"
     ],
     "language": "python",
     "metadata": {},
     "outputs": []
    },
    {
     "cell_type": "code",
     "collapsed": false,
     "input": [
      "list(itertools.chain([0,1],[2]))"
     ],
     "language": "python",
     "metadata": {},
     "outputs": []
    },
    {
     "cell_type": "code",
     "collapsed": false,
     "input": [
      "[i.lexical_parent for i in translation_unit.cursor.get_children()]"
     ],
     "language": "python",
     "metadata": {},
     "outputs": []
    },
    {
     "cell_type": "code",
     "collapsed": false,
     "input": [],
     "language": "python",
     "metadata": {},
     "outputs": []
    }
   ],
   "metadata": {}
  }
 ]
}