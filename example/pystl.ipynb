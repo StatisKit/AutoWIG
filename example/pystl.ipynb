{
 "cells": [
  {
   "cell_type": "code",
   "execution_count": 1,
   "metadata": {
    "collapsed": false
   },
   "outputs": [],
   "source": [
    "from autowig import autowig"
   ]
  },
  {
   "cell_type": "code",
   "execution_count": 2,
   "metadata": {
    "collapsed": false
   },
   "outputs": [],
   "source": [
    "import pystl\n",
    "from path import path\n",
    "\n",
    "rootdir = path(pystl.__path__[-1])\n",
    "while not rootdir.basename() == 'src':\n",
    "    rootdir = rootdir.parent\n",
    "rootdir = rootdir.parent.abspath()"
   ]
  },
  {
   "cell_type": "code",
   "execution_count": 3,
   "metadata": {
    "collapsed": false
   },
   "outputs": [
    {
     "data": {
      "text/html": [
       "<!DOCTYPE html PUBLIC \"-//W3C//DTD HTML 4.01//EN\"\n",
       "   \"http://www.w3.org/TR/html4/strict.dtd\">\n",
       "\n",
       "<html>\n",
       "<head>\n",
       "  <title></title>\n",
       "  <meta http-equiv=\"content-type\" content=\"text/html; charset=None\">\n",
       "  <style type=\"text/css\">\n",
       "td.linenos { background-color: #f0f0f0; padding-right: 10px; }\n",
       "span.lineno { background-color: #f0f0f0; padding: 0 5px 0 5px; }\n",
       "pre { line-height: 125%; }\n",
       "body .hll { background-color: #ffffcc }\n",
       "body  { background: #f8f8f8; }\n",
       "body .c { color: #408080; font-style: italic } /* Comment */\n",
       "body .err { border: 1px solid #FF0000 } /* Error */\n",
       "body .k { color: #008000; font-weight: bold } /* Keyword */\n",
       "body .o { color: #666666 } /* Operator */\n",
       "body .ch { color: #408080; font-style: italic } /* Comment.Hashbang */\n",
       "body .cm { color: #408080; font-style: italic } /* Comment.Multiline */\n",
       "body .cp { color: #BC7A00 } /* Comment.Preproc */\n",
       "body .cpf { color: #408080; font-style: italic } /* Comment.PreprocFile */\n",
       "body .c1 { color: #408080; font-style: italic } /* Comment.Single */\n",
       "body .cs { color: #408080; font-style: italic } /* Comment.Special */\n",
       "body .gd { color: #A00000 } /* Generic.Deleted */\n",
       "body .ge { font-style: italic } /* Generic.Emph */\n",
       "body .gr { color: #FF0000 } /* Generic.Error */\n",
       "body .gh { color: #000080; font-weight: bold } /* Generic.Heading */\n",
       "body .gi { color: #00A000 } /* Generic.Inserted */\n",
       "body .go { color: #888888 } /* Generic.Output */\n",
       "body .gp { color: #000080; font-weight: bold } /* Generic.Prompt */\n",
       "body .gs { font-weight: bold } /* Generic.Strong */\n",
       "body .gu { color: #800080; font-weight: bold } /* Generic.Subheading */\n",
       "body .gt { color: #0044DD } /* Generic.Traceback */\n",
       "body .kc { color: #008000; font-weight: bold } /* Keyword.Constant */\n",
       "body .kd { color: #008000; font-weight: bold } /* Keyword.Declaration */\n",
       "body .kn { color: #008000; font-weight: bold } /* Keyword.Namespace */\n",
       "body .kp { color: #008000 } /* Keyword.Pseudo */\n",
       "body .kr { color: #008000; font-weight: bold } /* Keyword.Reserved */\n",
       "body .kt { color: #B00040 } /* Keyword.Type */\n",
       "body .m { color: #666666 } /* Literal.Number */\n",
       "body .s { color: #BA2121 } /* Literal.String */\n",
       "body .na { color: #7D9029 } /* Name.Attribute */\n",
       "body .nb { color: #008000 } /* Name.Builtin */\n",
       "body .nc { color: #0000FF; font-weight: bold } /* Name.Class */\n",
       "body .no { color: #880000 } /* Name.Constant */\n",
       "body .nd { color: #AA22FF } /* Name.Decorator */\n",
       "body .ni { color: #999999; font-weight: bold } /* Name.Entity */\n",
       "body .ne { color: #D2413A; font-weight: bold } /* Name.Exception */\n",
       "body .nf { color: #0000FF } /* Name.Function */\n",
       "body .nl { color: #A0A000 } /* Name.Label */\n",
       "body .nn { color: #0000FF; font-weight: bold } /* Name.Namespace */\n",
       "body .nt { color: #008000; font-weight: bold } /* Name.Tag */\n",
       "body .nv { color: #19177C } /* Name.Variable */\n",
       "body .ow { color: #AA22FF; font-weight: bold } /* Operator.Word */\n",
       "body .w { color: #bbbbbb } /* Text.Whitespace */\n",
       "body .mb { color: #666666 } /* Literal.Number.Bin */\n",
       "body .mf { color: #666666 } /* Literal.Number.Float */\n",
       "body .mh { color: #666666 } /* Literal.Number.Hex */\n",
       "body .mi { color: #666666 } /* Literal.Number.Integer */\n",
       "body .mo { color: #666666 } /* Literal.Number.Oct */\n",
       "body .sb { color: #BA2121 } /* Literal.String.Backtick */\n",
       "body .sc { color: #BA2121 } /* Literal.String.Char */\n",
       "body .sd { color: #BA2121; font-style: italic } /* Literal.String.Doc */\n",
       "body .s2 { color: #BA2121 } /* Literal.String.Double */\n",
       "body .se { color: #BB6622; font-weight: bold } /* Literal.String.Escape */\n",
       "body .sh { color: #BA2121 } /* Literal.String.Heredoc */\n",
       "body .si { color: #BB6688; font-weight: bold } /* Literal.String.Interpol */\n",
       "body .sx { color: #008000 } /* Literal.String.Other */\n",
       "body .sr { color: #BB6688 } /* Literal.String.Regex */\n",
       "body .s1 { color: #BA2121 } /* Literal.String.Single */\n",
       "body .ss { color: #19177C } /* Literal.String.Symbol */\n",
       "body .bp { color: #008000 } /* Name.Builtin.Pseudo */\n",
       "body .vc { color: #19177C } /* Name.Variable.Class */\n",
       "body .vg { color: #19177C } /* Name.Variable.Global */\n",
       "body .vi { color: #19177C } /* Name.Variable.Instance */\n",
       "body .il { color: #666666 } /* Literal.Number.Integer.Long */\n",
       "\n",
       "  </style>\n",
       "</head>\n",
       "<body>\n",
       "<h2></h2>\n",
       "\n",
       "<div class=\"highlight\"><pre><span class=\"go\">scons: Reading SConscript files ...</span>\n",
       "<span class=\"go\">scons: done reading SConscript files.</span>\n",
       "<span class=\"go\">scons: Building targets ...</span>\n",
       "<span class=\"go\">scons: `build&#39; is up to date.</span>\n",
       "<span class=\"go\">scons: done building targets.</span>\n",
       "</pre></div>\n",
       "</body>\n",
       "</html>\n"
      ],
      "text/plain": [
       "<autowig.scons.ShellSession at 0x7f8abae3ee50>"
      ]
     },
     "execution_count": 3,
     "metadata": {},
     "output_type": "execute_result"
    }
   ],
   "source": [
    "autowig.scons(rootdir, '-j3')"
   ]
  },
  {
   "cell_type": "code",
   "execution_count": 4,
   "metadata": {
    "collapsed": false
   },
   "outputs": [
    {
     "name": "stdout",
     "output_type": "stream",
     "text": [
      "[]\n"
     ]
    }
   ],
   "source": [
    "includedir = rootdir + \"/build-scons/include\"\n",
    "headers = [str(f) for f in includedir.walkfiles('*.h')]\n",
    "    \n",
    "flags = ['-x', 'c++', '-std=c++11', '-stdlib=libstdc++', '-I' + str(includedir),\n",
    "         '-I/usr/include', '-I' + str(includedir), '-D__STDC_CONSTANT_MACROS',\n",
    "         '-I/usr/local/lib/clang/3.9.0/include', '-D__STDC_LIMIT_MACROS']\n",
    "\n",
    "asg = autowig.AbstractSemanticGraph()\n",
    "autowig.front_end.plugin = 'pyclanglite'\n",
    "autowig.front_end(asg, headers, flags=flags, overload='class', bootstrap=True, permissive=False)"
   ]
  },
  {
   "cell_type": "code",
   "execution_count": 5,
   "metadata": {
    "collapsed": false
   },
   "outputs": [
    {
     "data": {
      "text/plain": [
       "['-x',\n",
       " 'c++',\n",
       " '-std=c++11',\n",
       " '-stdlib=libstdc++',\n",
       " '-I/home/pfernique/Desktop/PySTL/build-scons/include',\n",
       " '-I/usr/include',\n",
       " '-I/home/pfernique/Desktop/PySTL/build-scons/include',\n",
       " '-D__STDC_CONSTANT_MACROS',\n",
       " '-I/usr/local/lib/clang/3.9.0/include',\n",
       " '-D__STDC_LIMIT_MACROS',\n",
       " '-I/usr/local/include',\n",
       " '-I/usr/local/lib/clang/3.9.0/include',\n",
       " '-I/usr/include/x86_64-linux-gnu',\n",
       " '-I/usr/include']"
      ]
     },
     "execution_count": 5,
     "metadata": {},
     "output_type": "execute_result"
    }
   ],
   "source": [
    "flags"
   ]
  },
  {
   "cell_type": "code",
   "execution_count": 6,
   "metadata": {
    "collapsed": false
   },
   "outputs": [
    {
     "data": {
      "text/plain": [
       "['/home/pfernique/Desktop/PySTL/build-scons/include/pystl/base.h',\n",
       " '/home/pfernique/Desktop/PySTL/build-scons/include/pystl/deque.h',\n",
       " '/home/pfernique/Desktop/PySTL/build-scons/include/pystl/unordered_map.h',\n",
       " '/home/pfernique/Desktop/PySTL/build-scons/include/pystl/unordered_set.h',\n",
       " '/home/pfernique/Desktop/PySTL/build-scons/include/pystl/ordered_map.h',\n",
       " '/home/pfernique/Desktop/PySTL/build-scons/include/pystl/ordered_set.h',\n",
       " '/home/pfernique/Desktop/PySTL/build-scons/include/pystl/array.h',\n",
       " '/home/pfernique/Desktop/PySTL/build-scons/include/pystl/vector.h']"
      ]
     },
     "execution_count": 6,
     "metadata": {},
     "output_type": "execute_result"
    }
   ],
   "source": [
    "headers"
   ]
  },
  {
   "cell_type": "code",
   "execution_count": 7,
   "metadata": {
    "collapsed": false
   },
   "outputs": [
    {
     "data": {
      "text/plain": [
       "42"
      ]
     },
     "execution_count": 7,
     "metadata": {},
     "output_type": "execute_result"
    }
   ],
   "source": [
    "len(asg)"
   ]
  },
  {
   "cell_type": "code",
   "execution_count": 7,
   "metadata": {
    "collapsed": false
   },
   "outputs": [
    {
     "data": {
      "text/plain": [
       "[/home/pfernique/Desktop/PySTL/build-scons/include/pystl/ordered_map.h,\n",
       " /usr/include/x86_64-linux-gnu/,\n",
       " /home/pfernique/Desktop/PySTL/build-scons/include/pystl/base.h,\n",
       " /usr/,\n",
       " char16_t,\n",
       " /home/pfernique/Desktop/PySTL/build-scons/include/pystl/array.h,\n",
       " unsigned short int,\n",
       " long long int,\n",
       " short int,\n",
       " /usr/include/,\n",
       " unsigned long int,\n",
       " /usr/local/lib/clang/3.9.0/,\n",
       " /home/pfernique/Desktop/PySTL/build-scons/include/pystl/,\n",
       " ::,\n",
       " /usr/local/lib/clang/,\n",
       " long int,\n",
       " long double,\n",
       " float,\n",
       " unsigned long long int,\n",
       " /home/pfernique/Desktop/,\n",
       " /usr/local/lib/,\n",
       " /home/pfernique/Desktop/PySTL/build-scons/include/pystl/deque.h,\n",
       " signed char,\n",
       " /home/pfernique/Desktop/PySTL/build-scons/include/pystl/unordered_set.h,\n",
       " /,\n",
       " wchar_t,\n",
       " unsigned int,\n",
       " double,\n",
       " /home/pfernique/Desktop/PySTL/build-scons/include/pystl/vector.h,\n",
       " nullptr_t,\n",
       " bool,\n",
       " /usr/local/include/,\n",
       " /home/pfernique/Desktop/PySTL/,\n",
       " int,\n",
       " _Complex float,\n",
       " void,\n",
       " /home/pfernique/,\n",
       " unsigned char,\n",
       " char,\n",
       " /home/,\n",
       " _Complex long double,\n",
       " /home/pfernique/Desktop/PySTL/build-scons/,\n",
       " char32_t,\n",
       " /usr/local/,\n",
       " /usr/local/lib/clang/3.9.0/include/,\n",
       " /home/pfernique/Desktop/PySTL/build-scons/include/pystl/unordered_map.h,\n",
       " /home/pfernique/Desktop/PySTL/build-scons/include/pystl/ordered_set.h,\n",
       " /home/pfernique/Desktop/PySTL/build-scons/include/,\n",
       " _Complex double]"
      ]
     },
     "execution_count": 7,
     "metadata": {},
     "output_type": "execute_result"
    }
   ],
   "source": [
    "asg.nodes()"
   ]
  },
  {
   "cell_type": "code",
   "execution_count": 6,
   "metadata": {
    "collapsed": true
   },
   "outputs": [],
   "source": [
    "asg.clean()"
   ]
  },
  {
   "cell_type": "code",
   "execution_count": 7,
   "metadata": {
    "collapsed": false
   },
   "outputs": [
    {
     "data": {
      "text/plain": [
       "16"
      ]
     },
     "execution_count": 7,
     "metadata": {},
     "output_type": "execute_result"
    }
   ],
   "source": [
    "len(asg)"
   ]
  },
  {
   "cell_type": "code",
   "execution_count": 5,
   "metadata": {
    "collapsed": true
   },
   "outputs": [],
   "source": [
    "autowig.back_end.plugin = 'boost_python'"
   ]
  },
  {
   "cell_type": "code",
   "execution_count": 6,
   "metadata": {
    "collapsed": false
   },
   "outputs": [],
   "source": [
    "autowig.back_end(asg,\n",
    "                 module = rootdir + '/src/wrapper/__pystl.cpp',\n",
    "                 pattern = '::pystl.*',\n",
    "                 prefix = '_')"
   ]
  },
  {
   "cell_type": "code",
   "execution_count": 9,
   "metadata": {
    "collapsed": false
   },
   "outputs": [
    {
     "data": {
      "text/plain": [
       "[]"
      ]
     },
     "execution_count": 9,
     "metadata": {},
     "output_type": "execute_result"
    }
   ],
   "source": [
    "asg.declarations()"
   ]
  },
  {
   "cell_type": "code",
   "execution_count": 7,
   "metadata": {
    "collapsed": false
   },
   "outputs": [
    {
     "name": "stderr",
     "output_type": "stream",
     "text": [
      "ERROR: No traceback has been produced, nothing to debug.\n"
     ]
    }
   ],
   "source": [
    "%debug"
   ]
  },
  {
   "cell_type": "code",
   "execution_count": 8,
   "metadata": {
    "collapsed": false
   },
   "outputs": [],
   "source": [
    "autowig.back_end.plugin = 'on_disk'\n",
    "autowig.back_end(asg, pattern=rootdir+'.*')"
   ]
  },
  {
   "cell_type": "code",
   "execution_count": 11,
   "metadata": {
    "collapsed": false
   },
   "outputs": [
    {
     "data": {
      "text/plain": [
       "[/usr/include/pthread.h,\n",
       " /home/pfernique/Desktop/PySTL/build-scons/include/pystl/deque.h,\n",
       " /usr/include/c++/5.2.1/bits/stl_pair.h,\n",
       " /usr/include/x86_64-linux-gnu/bits/types.h,\n",
       " /usr/include/c++/5.2.1/bits/char_traits.h,\n",
       " /home/pfernique/Desktop/PySTL/src/wrapper/__pystl.cpp,\n",
       " /usr/include/sched.h,\n",
       " /usr/include/x86_64-linux-gnu/c++/5.2.1/bits/atomic_word.h,\n",
       " /home/pfernique/Desktop/PySTL/build-scons/include/pystl/unordered_set.h,\n",
       " /home/pfernique/Desktop/PySTL/build-scons/include/pystl/vector.h,\n",
       " /usr/include/x86_64-linux-gnu/c++/5.2.1/bits/c++config.h,\n",
       " /usr/include/x86_64-linux-gnu/bits/sched.h,\n",
       " /home/pfernique/Desktop/PySTL/build-scons/include/pystl/unordered_map.h,\n",
       " /usr/include/x86_64-linux-gnu/c++/5.2.1/bits/gthr.h,\n",
       " /usr/include/c++/5.2.1/ext/atomicity.h,\n",
       " /usr/include/x86_64-linux-gnu/bits/pthreadtypes.h,\n",
       " /usr/include/c++/5.2.1/cctype,\n",
       " /usr/include/c++/5.2.1/cwchar,\n",
       " /usr/include/c++/5.2.1/bits/allocator.h,\n",
       " /usr/include/c++/5.2.1/type_traits,\n",
       " /usr/include/libio.h,\n",
       " /usr/include/stdint.h,\n",
       " /usr/include/c++/5.2.1/bits/basic_string.h,\n",
       " /home/pfernique/Desktop/AutoWIG/example/input.cc,\n",
       " /usr/include/errno.h,\n",
       " /usr/include/c++/5.2.1/bits/localefwd.h,\n",
       " /usr/include/x86_64-linux-gnu/c++/5.2.1/bits/gthr-default.h,\n",
       " /usr/include/c++/5.2.1/cerrno,\n",
       " /usr/include/c++/5.2.1/ext/string_conversions.h,\n",
       " /usr/include/time.h,\n",
       " /usr/include/stdio.h,\n",
       " /home/pfernique/Desktop/PySTL/build-scons/include/pystl/base.h,\n",
       " /usr/local/lib/clang/3.9.0/include/stdint.h,\n",
       " /usr/include/c++/5.2.1/bits/memoryfwd.h,\n",
       " /usr/include/c++/5.2.1/bits/stl_iterator.h,\n",
       " /home/pfernique/Desktop/PySTL/build-scons/include/pystl/ordered_set.h,\n",
       " /usr/include/ctype.h,\n",
       " /usr/include/c++/5.2.1/bits/postypes.h,\n",
       " /usr/include/wchar.h,\n",
       " /usr/local/lib/clang/3.9.0/include/stddef.h,\n",
       " /home/pfernique/Desktop/PySTL/build-scons/include/pystl/ordered_map.h,\n",
       " /usr/include/c++/5.2.1/string,\n",
       " /usr/include/c++/5.2.1/bits/move.h,\n",
       " /usr/include/c++/5.2.1/bits/stringfwd.h,\n",
       " /usr/include/c++/5.2.1/cstdio,\n",
       " /usr/include/c++/5.2.1/cstdint,\n",
       " /home/pfernique/Desktop/PySTL/build-scons/include/pystl/array.h,\n",
       " /usr/include/c++/5.2.1/bits/stl_algobase.h]"
      ]
     },
     "execution_count": 11,
     "metadata": {},
     "output_type": "execute_result"
    }
   ],
   "source": [
    "asg.files()"
   ]
  },
  {
   "cell_type": "code",
   "execution_count": null,
   "metadata": {
    "collapsed": false
   },
   "outputs": [],
   "source": [
    "autowig.back_end(asg,\n",
    "                 pattern = '::pystl.*',\n",
    "                 directory = rootdir + '/src/wrapper',\n",
    "                 prefix = '_')\n",
    "asg.boost_python_closure()\n",
    "\n",
    "autowig.back_end.plugin = 'boost_python:closure'\n",
    "autowig.back_end(asg)\n",
    "autowig.back_end.plugin = 'boost_python:export'\n",
    "autowig.back_end(asg,\n",
    "                 directory = rootdir + '/src/wrapper',\n",
    "                 proxy = BoostPythonExportMappingFileProxy,\n",
    "                 prefix = '_')\n",
    "autowig.back_end.plugin = 'boost_python:module'\n",
    "autowig.back_end(asg,\n",
    "                 filename = rootdir + '/src/wrapper/__pystl.cpp',\n",
    "                 package = 'pystl')\n",
    "autowig.back_end.plugin = 'boost_python:import'\n",
    "autowig.back_end(asg,\n",
    "                 filename = rootdir + '/src/pystl/__pystl.py',\n",
    "                 module = rootdir + '/src/wrapper/__pystl.cpp')"
   ]
  },
  {
   "cell_type": "code",
   "execution_count": null,
   "metadata": {
    "collapsed": true
   },
   "outputs": [],
   "source": [
    "autowig.back_end.plugin = 'on_disk'\n",
    "autowig.back_end(asg,\n",
    "                 pattern = rootdir + '/src/(wrapper|pystl).*')"
   ]
  },
  {
   "cell_type": "code",
   "execution_count": null,
   "metadata": {
    "collapsed": false
   },
   "outputs": [],
   "source": [
    "autowig.scons(rootdir, '-j3')"
   ]
  },
  {
   "cell_type": "code",
   "execution_count": null,
   "metadata": {
    "collapsed": false
   },
   "outputs": [],
   "source": [
    "hashes = asg.nodes('struct ::std::hash')\n",
    "hashes"
   ]
  },
  {
   "cell_type": "code",
   "execution_count": null,
   "metadata": {
    "collapsed": false
   },
   "outputs": [],
   "source": [
    "hashes[-3].header"
   ]
  },
  {
   "cell_type": "code",
   "execution_count": null,
   "metadata": {
    "collapsed": true
   },
   "outputs": [],
   "source": []
  }
 ],
 "metadata": {
  "kernelspec": {
   "display_name": "Python 2",
   "language": "python",
   "name": "python2"
  },
  "language_info": {
   "codemirror_mode": {
    "name": "ipython",
    "version": 2
   },
   "file_extension": ".py",
   "mimetype": "text/x-python",
   "name": "python",
   "nbconvert_exporter": "python",
   "pygments_lexer": "ipython2",
   "version": "2.7.10"
  }
 },
 "nbformat": 4,
 "nbformat_minor": 0
}
