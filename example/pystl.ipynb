{
 "cells": [
  {
   "cell_type": "raw",
   "metadata": {},
   "source": [
    "from vplants.autowig import autowig\n",
    "\n",
    "import pystl\n",
    "from path import path\n",
    "\n",
    "rootdir = path(pystl.__path__[-1])\n",
    "while not rootdir.basename() == 'src':\n",
    "    rootdir = rootdir.parent\n",
    "rootdir = rootdir.parent.abspath()\n",
    "\n",
    "includedir = rootdir + \"/build-scons/include\"\n",
    "    \n",
    "flags = ['-x', 'c++', '-g', '-std=c++11', '-stdlib=libstdc++', '-I' + str(includedir)]\n",
    "\n",
    "headers = [str(f) for f in includedir.walkfiles('*.h')]\n",
    "\n",
    "from pyclanglite.ast import AbstractSyntaxTree\n",
    "\n",
    "ast = AbstractSyntaxTree(headers, flags=flags)"
   ]
  },
  {
   "cell_type": "raw",
   "metadata": {},
   "source": [
    "print ast"
   ]
  },
  {
   "cell_type": "raw",
   "metadata": {},
   "source": [
    "node = ast[16996]\n",
    "node.get_name()"
   ]
  },
  {
   "cell_type": "raw",
   "metadata": {},
   "source": [
    "t = node.get_template_args().get(2)\n",
    "t.get_kind()\n",
    "t = t.get_as_type().get_type_ptr_or_null().get_as_tag_decl()"
   ]
  },
  {
   "cell_type": "raw",
   "metadata": {},
   "source": [
    "t.unset_type_as_written()"
   ]
  },
  {
   "cell_type": "raw",
   "metadata": {},
   "source": [
    "tt = t.get_as_type()\n",
    "ttt = tt.get_type_ptr_or_null()\n",
    "ttt.get_as_tag_decl().spelling()"
   ]
  },
  {
   "cell_type": "raw",
   "metadata": {},
   "source": [
    "node.spelling()"
   ]
  },
  {
   "cell_type": "code",
   "execution_count": 1,
   "metadata": {
    "collapsed": true
   },
   "outputs": [],
   "source": [
    "from vplants.autowig import autowig"
   ]
  },
  {
   "cell_type": "code",
   "execution_count": 2,
   "metadata": {
    "collapsed": false
   },
   "outputs": [],
   "source": [
    "import pystl\n",
    "from path import path\n",
    "\n",
    "rootdir = path(pystl.__path__[-1])\n",
    "while not rootdir.basename() == 'src':\n",
    "    rootdir = rootdir.parent\n",
    "rootdir = rootdir.parent.abspath()"
   ]
  },
  {
   "cell_type": "code",
   "execution_count": 3,
   "metadata": {
    "collapsed": false
   },
   "outputs": [
    {
     "data": {
      "text/html": [
       "<!DOCTYPE html PUBLIC \"-//W3C//DTD HTML 4.01//EN\"\n",
       "   \"http://www.w3.org/TR/html4/strict.dtd\">\n",
       "\n",
       "<html>\n",
       "<head>\n",
       "  <title></title>\n",
       "  <meta http-equiv=\"content-type\" content=\"text/html; charset=None\">\n",
       "  <style type=\"text/css\">\n",
       "td.linenos { background-color: #f0f0f0; padding-right: 10px; }\n",
       "span.lineno { background-color: #f0f0f0; padding: 0 5px 0 5px; }\n",
       "pre { line-height: 125%; }\n",
       "body .hll { background-color: #ffffcc }\n",
       "body  { background: #f8f8f8; }\n",
       "body .c { color: #408080; font-style: italic } /* Comment */\n",
       "body .err { border: 1px solid #FF0000 } /* Error */\n",
       "body .k { color: #008000; font-weight: bold } /* Keyword */\n",
       "body .o { color: #666666 } /* Operator */\n",
       "body .ch { color: #408080; font-style: italic } /* Comment.Hashbang */\n",
       "body .cm { color: #408080; font-style: italic } /* Comment.Multiline */\n",
       "body .cp { color: #BC7A00 } /* Comment.Preproc */\n",
       "body .cpf { color: #408080; font-style: italic } /* Comment.PreprocFile */\n",
       "body .c1 { color: #408080; font-style: italic } /* Comment.Single */\n",
       "body .cs { color: #408080; font-style: italic } /* Comment.Special */\n",
       "body .gd { color: #A00000 } /* Generic.Deleted */\n",
       "body .ge { font-style: italic } /* Generic.Emph */\n",
       "body .gr { color: #FF0000 } /* Generic.Error */\n",
       "body .gh { color: #000080; font-weight: bold } /* Generic.Heading */\n",
       "body .gi { color: #00A000 } /* Generic.Inserted */\n",
       "body .go { color: #888888 } /* Generic.Output */\n",
       "body .gp { color: #000080; font-weight: bold } /* Generic.Prompt */\n",
       "body .gs { font-weight: bold } /* Generic.Strong */\n",
       "body .gu { color: #800080; font-weight: bold } /* Generic.Subheading */\n",
       "body .gt { color: #0044DD } /* Generic.Traceback */\n",
       "body .kc { color: #008000; font-weight: bold } /* Keyword.Constant */\n",
       "body .kd { color: #008000; font-weight: bold } /* Keyword.Declaration */\n",
       "body .kn { color: #008000; font-weight: bold } /* Keyword.Namespace */\n",
       "body .kp { color: #008000 } /* Keyword.Pseudo */\n",
       "body .kr { color: #008000; font-weight: bold } /* Keyword.Reserved */\n",
       "body .kt { color: #B00040 } /* Keyword.Type */\n",
       "body .m { color: #666666 } /* Literal.Number */\n",
       "body .s { color: #BA2121 } /* Literal.String */\n",
       "body .na { color: #7D9029 } /* Name.Attribute */\n",
       "body .nb { color: #008000 } /* Name.Builtin */\n",
       "body .nc { color: #0000FF; font-weight: bold } /* Name.Class */\n",
       "body .no { color: #880000 } /* Name.Constant */\n",
       "body .nd { color: #AA22FF } /* Name.Decorator */\n",
       "body .ni { color: #999999; font-weight: bold } /* Name.Entity */\n",
       "body .ne { color: #D2413A; font-weight: bold } /* Name.Exception */\n",
       "body .nf { color: #0000FF } /* Name.Function */\n",
       "body .nl { color: #A0A000 } /* Name.Label */\n",
       "body .nn { color: #0000FF; font-weight: bold } /* Name.Namespace */\n",
       "body .nt { color: #008000; font-weight: bold } /* Name.Tag */\n",
       "body .nv { color: #19177C } /* Name.Variable */\n",
       "body .ow { color: #AA22FF; font-weight: bold } /* Operator.Word */\n",
       "body .w { color: #bbbbbb } /* Text.Whitespace */\n",
       "body .mb { color: #666666 } /* Literal.Number.Bin */\n",
       "body .mf { color: #666666 } /* Literal.Number.Float */\n",
       "body .mh { color: #666666 } /* Literal.Number.Hex */\n",
       "body .mi { color: #666666 } /* Literal.Number.Integer */\n",
       "body .mo { color: #666666 } /* Literal.Number.Oct */\n",
       "body .sb { color: #BA2121 } /* Literal.String.Backtick */\n",
       "body .sc { color: #BA2121 } /* Literal.String.Char */\n",
       "body .sd { color: #BA2121; font-style: italic } /* Literal.String.Doc */\n",
       "body .s2 { color: #BA2121 } /* Literal.String.Double */\n",
       "body .se { color: #BB6622; font-weight: bold } /* Literal.String.Escape */\n",
       "body .sh { color: #BA2121 } /* Literal.String.Heredoc */\n",
       "body .si { color: #BB6688; font-weight: bold } /* Literal.String.Interpol */\n",
       "body .sx { color: #008000 } /* Literal.String.Other */\n",
       "body .sr { color: #BB6688 } /* Literal.String.Regex */\n",
       "body .s1 { color: #BA2121 } /* Literal.String.Single */\n",
       "body .ss { color: #19177C } /* Literal.String.Symbol */\n",
       "body .bp { color: #008000 } /* Name.Builtin.Pseudo */\n",
       "body .vc { color: #19177C } /* Name.Variable.Class */\n",
       "body .vg { color: #19177C } /* Name.Variable.Global */\n",
       "body .vi { color: #19177C } /* Name.Variable.Instance */\n",
       "body .il { color: #666666 } /* Literal.Number.Integer.Long */\n",
       "\n",
       "  </style>\n",
       "</head>\n",
       "<body>\n",
       "<h2></h2>\n",
       "\n",
       "<div class=\"highlight\"><pre><span class=\"go\">scons: Reading SConscript files ...</span>\n",
       "<span class=\"go\">scons: done reading SConscript files.</span>\n",
       "<span class=\"go\">scons: Building targets ...</span>\n",
       "<span class=\"go\">Install file: &quot;build-scons/src/cpp/base.h&quot; as &quot;build-scons/include/pystl/base.h&quot;</span>\n",
       "<span class=\"go\">scons: done building targets.</span>\n",
       "</pre></div>\n",
       "</body>\n",
       "</html>\n"
      ],
      "text/plain": [
       "<vplants.autowig.scons.ShellSession at 0x7f6cac0acb10>"
      ]
     },
     "execution_count": 3,
     "metadata": {},
     "output_type": "execute_result"
    }
   ],
   "source": [
    "autowig.scons(rootdir, '-j3')"
   ]
  },
  {
   "cell_type": "code",
   "execution_count": 4,
   "metadata": {
    "collapsed": false
   },
   "outputs": [],
   "source": [
    "includedir = rootdir + \"/build-scons/include\"\n",
    "headers = [str(f) for f in includedir.walkfiles('*base.h')]\n",
    "    \n",
    "flags = ['-x', 'c++', '-g', '-std=c++11', '-stdlib=libstdc++', '-I' + str(includedir)]\n",
    "\n",
    "#['-x', 'c++', '-g', '-std=c++11', '-stdlib=libstdc++',\n",
    "#         '-I/usr/include', '-I' + str(includedir), '-D__STDC_CONSTANT_MACROS',\n",
    "#         '-I/usr/local/lib/clang/3.9.0/include', '-D__STDC_LIMIT_MACROS']\n",
    "\n",
    "force = True\n",
    "\n",
    "asg = autowig.AbstractSemanticGraph()\n",
    "autowig.front_end.plugin = 'pyclanglite'\n",
    "autowig.front_end(asg, headers, flags=flags, silent=True,\n",
    "                  force_overload=True, bootstrap=0, force=force, permissive=True)\n",
    "asg.clean()"
   ]
  },
  {
   "cell_type": "code",
   "execution_count": 5,
   "metadata": {
    "collapsed": false
   },
   "outputs": [],
   "source": [
    "targets = [ft for ft in asg.fundamental_types() + asg.typedefs('::pystl::*') if not ft.localname in ['void', 'null_ptr', 'unexposed', '_Complex float']]\n",
    "headers = asg.headers(*targets)"
   ]
  },
  {
   "cell_type": "code",
   "execution_count": 6,
   "metadata": {
    "collapsed": false
   },
   "outputs": [
    {
     "data": {
      "text/plain": [
       "[::unsigned char,\n",
       " ::unsigned int,\n",
       " ::int,\n",
       " ::long long,\n",
       " ::unsigned short,\n",
       " ::short,\n",
       " ::unsigned long,\n",
       " ::wchar_t,\n",
       " ::unsigned long long,\n",
       " ::char32_t,\n",
       " ::signed char,\n",
       " ::char16_t,\n",
       " ::long,\n",
       " ::bool,\n",
       " ::float,\n",
       " ::char,\n",
       " ::double,\n",
       " ::long double,\n",
       " ::pystl::String,\n",
       " ::pystl::WString]"
      ]
     },
     "execution_count": 6,
     "metadata": {},
     "output_type": "execute_result"
    }
   ],
   "source": [
    "targets"
   ]
  },
  {
   "cell_type": "code",
   "execution_count": 7,
   "metadata": {
    "collapsed": false
   },
   "outputs": [],
   "source": [
    "instantiations = {'array'         : {target: range(2,4) for target in targets},\n",
    "                  'vector'        : targets,\n",
    "                  'deque'         : targets,\n",
    "                  'ordered_set'   : {target : ['std::less', 'std::greater'] for target in targets},\n",
    "                  'ordered_map'   : {(source, target) : ['std::less', 'std::greater'] for source in targets for target in targets},\n",
    "                  'unordered_set' : targets,\n",
    "                  'unordered_map' : [(source, target) for source in targets for target in targets]}"
   ]
  },
  {
   "cell_type": "code",
   "execution_count": 8,
   "metadata": {
    "collapsed": false
   },
   "outputs": [],
   "source": [
    "templatedir = rootdir + '/share/template'\n",
    "from mako.template import Template\n",
    "templates = {template.basename().rsplit('.', 1)[0]: Template(filename=str(template)) for template in templatedir.walkfiles('*.mako')}\n",
    "sourcedir = rootdir + '/src/cpp'\n",
    "for template in instantiations:\n",
    "    if template in templates:\n",
    "        with open(sourcedir + '/' + template + '.h', 'w') as f:\n",
    "            f.write(templates[template].render(headers = headers,\n",
    "                                               targets = instantiations[template]))"
   ]
  },
  {
   "cell_type": "code",
   "execution_count": 9,
   "metadata": {
    "collapsed": false
   },
   "outputs": [
    {
     "data": {
      "text/html": [
       "<!DOCTYPE html PUBLIC \"-//W3C//DTD HTML 4.01//EN\"\n",
       "   \"http://www.w3.org/TR/html4/strict.dtd\">\n",
       "\n",
       "<html>\n",
       "<head>\n",
       "  <title></title>\n",
       "  <meta http-equiv=\"content-type\" content=\"text/html; charset=None\">\n",
       "  <style type=\"text/css\">\n",
       "td.linenos { background-color: #f0f0f0; padding-right: 10px; }\n",
       "span.lineno { background-color: #f0f0f0; padding: 0 5px 0 5px; }\n",
       "pre { line-height: 125%; }\n",
       "body .hll { background-color: #ffffcc }\n",
       "body  { background: #f8f8f8; }\n",
       "body .c { color: #408080; font-style: italic } /* Comment */\n",
       "body .err { border: 1px solid #FF0000 } /* Error */\n",
       "body .k { color: #008000; font-weight: bold } /* Keyword */\n",
       "body .o { color: #666666 } /* Operator */\n",
       "body .ch { color: #408080; font-style: italic } /* Comment.Hashbang */\n",
       "body .cm { color: #408080; font-style: italic } /* Comment.Multiline */\n",
       "body .cp { color: #BC7A00 } /* Comment.Preproc */\n",
       "body .cpf { color: #408080; font-style: italic } /* Comment.PreprocFile */\n",
       "body .c1 { color: #408080; font-style: italic } /* Comment.Single */\n",
       "body .cs { color: #408080; font-style: italic } /* Comment.Special */\n",
       "body .gd { color: #A00000 } /* Generic.Deleted */\n",
       "body .ge { font-style: italic } /* Generic.Emph */\n",
       "body .gr { color: #FF0000 } /* Generic.Error */\n",
       "body .gh { color: #000080; font-weight: bold } /* Generic.Heading */\n",
       "body .gi { color: #00A000 } /* Generic.Inserted */\n",
       "body .go { color: #888888 } /* Generic.Output */\n",
       "body .gp { color: #000080; font-weight: bold } /* Generic.Prompt */\n",
       "body .gs { font-weight: bold } /* Generic.Strong */\n",
       "body .gu { color: #800080; font-weight: bold } /* Generic.Subheading */\n",
       "body .gt { color: #0044DD } /* Generic.Traceback */\n",
       "body .kc { color: #008000; font-weight: bold } /* Keyword.Constant */\n",
       "body .kd { color: #008000; font-weight: bold } /* Keyword.Declaration */\n",
       "body .kn { color: #008000; font-weight: bold } /* Keyword.Namespace */\n",
       "body .kp { color: #008000 } /* Keyword.Pseudo */\n",
       "body .kr { color: #008000; font-weight: bold } /* Keyword.Reserved */\n",
       "body .kt { color: #B00040 } /* Keyword.Type */\n",
       "body .m { color: #666666 } /* Literal.Number */\n",
       "body .s { color: #BA2121 } /* Literal.String */\n",
       "body .na { color: #7D9029 } /* Name.Attribute */\n",
       "body .nb { color: #008000 } /* Name.Builtin */\n",
       "body .nc { color: #0000FF; font-weight: bold } /* Name.Class */\n",
       "body .no { color: #880000 } /* Name.Constant */\n",
       "body .nd { color: #AA22FF } /* Name.Decorator */\n",
       "body .ni { color: #999999; font-weight: bold } /* Name.Entity */\n",
       "body .ne { color: #D2413A; font-weight: bold } /* Name.Exception */\n",
       "body .nf { color: #0000FF } /* Name.Function */\n",
       "body .nl { color: #A0A000 } /* Name.Label */\n",
       "body .nn { color: #0000FF; font-weight: bold } /* Name.Namespace */\n",
       "body .nt { color: #008000; font-weight: bold } /* Name.Tag */\n",
       "body .nv { color: #19177C } /* Name.Variable */\n",
       "body .ow { color: #AA22FF; font-weight: bold } /* Operator.Word */\n",
       "body .w { color: #bbbbbb } /* Text.Whitespace */\n",
       "body .mb { color: #666666 } /* Literal.Number.Bin */\n",
       "body .mf { color: #666666 } /* Literal.Number.Float */\n",
       "body .mh { color: #666666 } /* Literal.Number.Hex */\n",
       "body .mi { color: #666666 } /* Literal.Number.Integer */\n",
       "body .mo { color: #666666 } /* Literal.Number.Oct */\n",
       "body .sb { color: #BA2121 } /* Literal.String.Backtick */\n",
       "body .sc { color: #BA2121 } /* Literal.String.Char */\n",
       "body .sd { color: #BA2121; font-style: italic } /* Literal.String.Doc */\n",
       "body .s2 { color: #BA2121 } /* Literal.String.Double */\n",
       "body .se { color: #BB6622; font-weight: bold } /* Literal.String.Escape */\n",
       "body .sh { color: #BA2121 } /* Literal.String.Heredoc */\n",
       "body .si { color: #BB6688; font-weight: bold } /* Literal.String.Interpol */\n",
       "body .sx { color: #008000 } /* Literal.String.Other */\n",
       "body .sr { color: #BB6688 } /* Literal.String.Regex */\n",
       "body .s1 { color: #BA2121 } /* Literal.String.Single */\n",
       "body .ss { color: #19177C } /* Literal.String.Symbol */\n",
       "body .bp { color: #008000 } /* Name.Builtin.Pseudo */\n",
       "body .vc { color: #19177C } /* Name.Variable.Class */\n",
       "body .vg { color: #19177C } /* Name.Variable.Global */\n",
       "body .vi { color: #19177C } /* Name.Variable.Instance */\n",
       "body .il { color: #666666 } /* Literal.Number.Integer.Long */\n",
       "\n",
       "  </style>\n",
       "</head>\n",
       "<body>\n",
       "<h2></h2>\n",
       "\n",
       "<div class=\"highlight\"><pre><span class=\"go\">scons: Reading SConscript files ...</span>\n",
       "<span class=\"go\">scons: done reading SConscript files.</span>\n",
       "<span class=\"go\">scons: Building targets ...</span>\n",
       "<span class=\"go\">Install file: &quot;build-scons/src/cpp/deque.h&quot; as &quot;build-scons/include/pystl/deque.h&quot;</span>\n",
       "<span class=\"go\">Install file: &quot;build-scons/src/cpp/unordered_map.h&quot; as &quot;build-scons/include/pystl/unordered_map.h&quot;</span>\n",
       "<span class=\"go\">Install file: &quot;build-scons/src/cpp/unordered_set.h&quot; as &quot;build-scons/include/pystl/unordered_set.h&quot;</span>\n",
       "<span class=\"go\">Install file: &quot;build-scons/src/cpp/ordered_map.h&quot; as &quot;build-scons/include/pystl/ordered_map.h&quot;</span>\n",
       "<span class=\"go\">Install file: &quot;build-scons/src/cpp/ordered_set.h&quot; as &quot;build-scons/include/pystl/ordered_set.h&quot;</span>\n",
       "<span class=\"go\">Install file: &quot;build-scons/src/cpp/array.h&quot; as &quot;build-scons/include/pystl/array.h&quot;</span>\n",
       "<span class=\"go\">Install file: &quot;build-scons/src/cpp/vector.h&quot; as &quot;build-scons/include/pystl/vector.h&quot;</span>\n",
       "<span class=\"go\">scons: done building targets.</span>\n",
       "</pre></div>\n",
       "</body>\n",
       "</html>\n"
      ],
      "text/plain": [
       "<vplants.autowig.scons.ShellSession at 0x7f6c8f803fd0>"
      ]
     },
     "execution_count": 9,
     "metadata": {},
     "output_type": "execute_result"
    }
   ],
   "source": [
    "autowig.scons(rootdir, '-j3')"
   ]
  },
  {
   "cell_type": "code",
   "execution_count": 10,
   "metadata": {
    "collapsed": false
   },
   "outputs": [
    {
     "data": {
      "text/plain": [
       "[::pystl::String, ::pystl::WString]"
      ]
     },
     "execution_count": 10,
     "metadata": {},
     "output_type": "execute_result"
    }
   ],
   "source": [
    "asg.typedefs('::pystl::*')"
   ]
  },
  {
   "cell_type": "code",
   "execution_count": 11,
   "metadata": {
    "collapsed": false
   },
   "outputs": [],
   "source": [
    "headers = [str(f) for f in includedir.walkfiles('*.h')]\n",
    "\n",
    "force = True\n",
    "\n",
    "asg = autowig.AbstractSemanticGraph()\n",
    "autowig.front_end.plugin = 'pyclanglite'\n",
    "autowig.front_end(asg, headers, flags=flags, silent=True,\n",
    "                  force_overload=True, bootstrap=2, cache=rootdir+'/.AutoWIG', force=force, permissive=True)"
   ]
  },
  {
   "cell_type": "code",
   "execution_count": 12,
   "metadata": {
    "collapsed": true
   },
   "outputs": [],
   "source": [
    "asg.clean()"
   ]
  },
  {
   "cell_type": "code",
   "execution_count": 13,
   "metadata": {
    "collapsed": true
   },
   "outputs": [],
   "source": [
    "autowig.back_end.plugin = 'boost_python:std_filter'\n",
    "autowig.back_end(asg)"
   ]
  },
  {
   "cell_type": "code",
   "execution_count": 14,
   "metadata": {
    "collapsed": false
   },
   "outputs": [],
   "source": [
    "from vplants.autowig.boost_python_back_end import BoostPythonExportMappingFileProxy\n",
    "\n",
    "autowig.back_end.plugin = 'boost_python:export'\n",
    "autowig.back_end(asg,\n",
    "                 pattern = '::pystl.*',\n",
    "                 directory = rootdir + '/src/wrapper',\n",
    "                 proxy = BoostPythonExportMappingFileProxy,\n",
    "                 prefix = '_')\n",
    "autowig.back_end.plugin = 'boost_python:closure'\n",
    "autowig.back_end(asg)\n",
    "autowig.back_end.plugin = 'boost_python:export'\n",
    "autowig.back_end(asg,\n",
    "                 directory = rootdir + '/src/wrapper',\n",
    "                 proxy = BoostPythonExportMappingFileProxy,\n",
    "                 prefix = '_')\n",
    "autowig.back_end.plugin = 'boost_python:module'\n",
    "autowig.back_end(asg,\n",
    "                 filename = rootdir + '/src/wrapper/__pystl.cpp',\n",
    "                 package = 'pystl')\n",
    "autowig.back_end.plugin = 'boost_python:import'\n",
    "autowig.back_end(asg,\n",
    "                 filename = rootdir + '/src/pystl/__pystl.py',\n",
    "                 module = rootdir + '/src/wrapper/__pystl.cpp')"
   ]
  },
  {
   "cell_type": "code",
   "execution_count": null,
   "metadata": {
    "collapsed": true
   },
   "outputs": [],
   "source": [
    "autowig.back_end.plugin = 'on_disk'\n",
    "autowig.back_end(asg,\n",
    "                 pattern = rootdir + '/src/(wrapper|pystl).*')"
   ]
  },
  {
   "cell_type": "code",
   "execution_count": null,
   "metadata": {
    "collapsed": false
   },
   "outputs": [],
   "source": [
    "autowig.scons(rootdir, '-j3')"
   ]
  },
  {
   "cell_type": "code",
   "execution_count": null,
   "metadata": {
    "collapsed": false
   },
   "outputs": [],
   "source": [
    "hashes = asg.nodes('struct ::std::hash')\n",
    "hashes"
   ]
  },
  {
   "cell_type": "code",
   "execution_count": null,
   "metadata": {
    "collapsed": false
   },
   "outputs": [],
   "source": [
    "hashes[-3].header"
   ]
  },
  {
   "cell_type": "code",
   "execution_count": null,
   "metadata": {
    "collapsed": true
   },
   "outputs": [],
   "source": []
  }
 ],
 "metadata": {
  "kernelspec": {
   "display_name": "Python 2",
   "language": "python",
   "name": "python2"
  },
  "language_info": {
   "codemirror_mode": {
    "name": "ipython",
    "version": 2
   },
   "file_extension": ".py",
   "mimetype": "text/x-python",
   "name": "python",
   "nbconvert_exporter": "python",
   "pygments_lexer": "ipython2",
   "version": "2.7.10"
  }
 },
 "nbformat": 4,
 "nbformat_minor": 0
}
