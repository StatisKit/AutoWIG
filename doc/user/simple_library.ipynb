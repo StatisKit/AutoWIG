{
 "cells": [
  {
   "cell_type": "markdown",
   "metadata": {},
   "source": [
    "# Wrapping a simple library\n",
    "\n",
    "We here aim at presenting the interactive wrapping workflow.\n",
    "For the sake of simplicity, we consider an artificial example of *C++* library.\n",
    "\n",
    "\n",
    "## The *C++* library\n",
    "\n",
    "This simple library contains one header (`simple_library/binomial.h` see below) and one source code file (`simple_library/binomial.cpp`).\n",
    "This artificial *C++* library implements mass computation for binomial distributions (`BinomialDistribution::pmf`).\n",
    "If an user try to set the probability of the binomial distribution `BinomialDistribution::_pi`) to values outside the interval $[0,1]$, a `ProbabilityError` exception is thrown."
   ]
  },
  {
   "cell_type": "code",
   "execution_count": 1,
   "metadata": {
    "collapsed": false
   },
   "outputs": [
    {
     "data": {
      "text/html": [
       "<!DOCTYPE html PUBLIC \"-//W3C//DTD HTML 4.01//EN\"\n",
       "   \"http://www.w3.org/TR/html4/strict.dtd\">\n",
       "\n",
       "<html>\n",
       "<head>\n",
       "  <title></title>\n",
       "  <meta http-equiv=\"content-type\" content=\"text/html; charset=None\">\n",
       "  <style type=\"text/css\">\n",
       "td.linenos { background-color: #f0f0f0; padding-right: 10px; }\n",
       "span.lineno { background-color: #f0f0f0; padding: 0 5px 0 5px; }\n",
       "pre { line-height: 125%; }\n",
       "body .hll { background-color: #ffffcc }\n",
       "body  { background: #f8f8f8; }\n",
       "body .c { color: #408080; font-style: italic } /* Comment */\n",
       "body .err { border: 1px solid #FF0000 } /* Error */\n",
       "body .k { color: #008000; font-weight: bold } /* Keyword */\n",
       "body .o { color: #666666 } /* Operator */\n",
       "body .ch { color: #408080; font-style: italic } /* Comment.Hashbang */\n",
       "body .cm { color: #408080; font-style: italic } /* Comment.Multiline */\n",
       "body .cp { color: #BC7A00 } /* Comment.Preproc */\n",
       "body .cpf { color: #408080; font-style: italic } /* Comment.PreprocFile */\n",
       "body .c1 { color: #408080; font-style: italic } /* Comment.Single */\n",
       "body .cs { color: #408080; font-style: italic } /* Comment.Special */\n",
       "body .gd { color: #A00000 } /* Generic.Deleted */\n",
       "body .ge { font-style: italic } /* Generic.Emph */\n",
       "body .gr { color: #FF0000 } /* Generic.Error */\n",
       "body .gh { color: #000080; font-weight: bold } /* Generic.Heading */\n",
       "body .gi { color: #00A000 } /* Generic.Inserted */\n",
       "body .go { color: #888888 } /* Generic.Output */\n",
       "body .gp { color: #000080; font-weight: bold } /* Generic.Prompt */\n",
       "body .gs { font-weight: bold } /* Generic.Strong */\n",
       "body .gu { color: #800080; font-weight: bold } /* Generic.Subheading */\n",
       "body .gt { color: #0044DD } /* Generic.Traceback */\n",
       "body .kc { color: #008000; font-weight: bold } /* Keyword.Constant */\n",
       "body .kd { color: #008000; font-weight: bold } /* Keyword.Declaration */\n",
       "body .kn { color: #008000; font-weight: bold } /* Keyword.Namespace */\n",
       "body .kp { color: #008000 } /* Keyword.Pseudo */\n",
       "body .kr { color: #008000; font-weight: bold } /* Keyword.Reserved */\n",
       "body .kt { color: #B00040 } /* Keyword.Type */\n",
       "body .m { color: #666666 } /* Literal.Number */\n",
       "body .s { color: #BA2121 } /* Literal.String */\n",
       "body .na { color: #7D9029 } /* Name.Attribute */\n",
       "body .nb { color: #008000 } /* Name.Builtin */\n",
       "body .nc { color: #0000FF; font-weight: bold } /* Name.Class */\n",
       "body .no { color: #880000 } /* Name.Constant */\n",
       "body .nd { color: #AA22FF } /* Name.Decorator */\n",
       "body .ni { color: #999999; font-weight: bold } /* Name.Entity */\n",
       "body .ne { color: #D2413A; font-weight: bold } /* Name.Exception */\n",
       "body .nf { color: #0000FF } /* Name.Function */\n",
       "body .nl { color: #A0A000 } /* Name.Label */\n",
       "body .nn { color: #0000FF; font-weight: bold } /* Name.Namespace */\n",
       "body .nt { color: #008000; font-weight: bold } /* Name.Tag */\n",
       "body .nv { color: #19177C } /* Name.Variable */\n",
       "body .ow { color: #AA22FF; font-weight: bold } /* Operator.Word */\n",
       "body .w { color: #bbbbbb } /* Text.Whitespace */\n",
       "body .mb { color: #666666 } /* Literal.Number.Bin */\n",
       "body .mf { color: #666666 } /* Literal.Number.Float */\n",
       "body .mh { color: #666666 } /* Literal.Number.Hex */\n",
       "body .mi { color: #666666 } /* Literal.Number.Integer */\n",
       "body .mo { color: #666666 } /* Literal.Number.Oct */\n",
       "body .sb { color: #BA2121 } /* Literal.String.Backtick */\n",
       "body .sc { color: #BA2121 } /* Literal.String.Char */\n",
       "body .sd { color: #BA2121; font-style: italic } /* Literal.String.Doc */\n",
       "body .s2 { color: #BA2121 } /* Literal.String.Double */\n",
       "body .se { color: #BB6622; font-weight: bold } /* Literal.String.Escape */\n",
       "body .sh { color: #BA2121 } /* Literal.String.Heredoc */\n",
       "body .si { color: #BB6688; font-weight: bold } /* Literal.String.Interpol */\n",
       "body .sx { color: #008000 } /* Literal.String.Other */\n",
       "body .sr { color: #BB6688 } /* Literal.String.Regex */\n",
       "body .s1 { color: #BA2121 } /* Literal.String.Single */\n",
       "body .ss { color: #19177C } /* Literal.String.Symbol */\n",
       "body .bp { color: #008000 } /* Name.Builtin.Pseudo */\n",
       "body .vc { color: #19177C } /* Name.Variable.Class */\n",
       "body .vg { color: #19177C } /* Name.Variable.Global */\n",
       "body .vi { color: #19177C } /* Name.Variable.Instance */\n",
       "body .il { color: #666666 } /* Literal.Number.Integer.Long */\n",
       "\n",
       "  </style>\n",
       "</head>\n",
       "<body>\n",
       "<h2></h2>\n",
       "\n",
       "<div class=\"highlight\"><pre><span></span><span class=\"cp\">#include</span> <span class=\"cpf\">&lt;exception&gt;</span><span class=\"cp\"></span>\n",
       "\n",
       "<span class=\"k\">class</span> <span class=\"nc\">ProbabilityError</span> <span class=\"o\">:</span> <span class=\"k\">public</span> <span class=\"n\">std</span><span class=\"o\">::</span><span class=\"n\">exception</span>\n",
       "<span class=\"p\">{</span>\n",
       "    <span class=\"c1\">/// \\brief Compute the exception content</span>\n",
       "    <span class=\"c1\">/// \\returns The message &quot;a probability must be in the interval [0,1]&quot;</span>\n",
       "    <span class=\"k\">virtual</span> <span class=\"k\">const</span> <span class=\"kt\">char</span><span class=\"o\">*</span> <span class=\"n\">what</span><span class=\"p\">()</span> <span class=\"k\">const</span> <span class=\"k\">noexcept</span><span class=\"p\">;</span> \n",
       "<span class=\"p\">};</span>\n",
       "\n",
       "<span class=\"k\">class</span> <span class=\"nc\">BinomialDistribution</span>\n",
       "<span class=\"p\">{</span>\n",
       "  <span class=\"k\">public</span><span class=\"o\">:</span>\n",
       "    <span class=\"n\">BinomialDistribution</span><span class=\"p\">(</span><span class=\"k\">const</span> <span class=\"kt\">unsigned</span> <span class=\"kt\">int</span> <span class=\"n\">n</span><span class=\"p\">,</span> <span class=\"k\">const</span> <span class=\"kt\">double</span> <span class=\"n\">pi</span><span class=\"p\">);</span>\n",
       "    <span class=\"n\">BinomialDistribution</span><span class=\"p\">(</span><span class=\"k\">const</span> <span class=\"n\">BinomialDistribution</span><span class=\"o\">&amp;</span> <span class=\"n\">binomial</span><span class=\"p\">);</span>\n",
       "  \n",
       "    <span class=\"kt\">double</span> <span class=\"nf\">pmf</span><span class=\"p\">(</span><span class=\"k\">const</span> <span class=\"kt\">unsigned</span> <span class=\"kt\">int</span> <span class=\"n\">value</span><span class=\"p\">)</span> <span class=\"k\">const</span><span class=\"p\">;</span>\n",
       "        \n",
       "    <span class=\"kt\">double</span> <span class=\"nf\">get_pi</span><span class=\"p\">()</span> <span class=\"k\">const</span><span class=\"p\">;</span>\n",
       "    \n",
       "    <span class=\"cm\">/** </span>\n",
       "<span class=\"cm\">     * \\param pi New probability value</span>\n",
       "<span class=\"cm\">     * \\throws \\ref ::ProbabilityError If the new probability value is not </span>\n",
       "<span class=\"cm\">     *         in the interval \\f$\\left[0,1\\right]\\f$ */</span>\n",
       "    <span class=\"kt\">void</span> <span class=\"nf\">set_pi</span><span class=\"p\">(</span><span class=\"k\">const</span> <span class=\"kt\">double</span> <span class=\"n\">pi</span><span class=\"p\">);</span>\n",
       "   \n",
       "    <span class=\"kt\">unsigned</span> <span class=\"kt\">int</span> <span class=\"n\">n</span><span class=\"p\">;</span>\n",
       "    \n",
       "  <span class=\"k\">protected</span><span class=\"o\">:</span>\n",
       "    <span class=\"kt\">double</span> <span class=\"n\">_pi</span><span class=\"p\">;</span>\n",
       "<span class=\"p\">};</span>\n",
       "</pre></div>\n",
       "</body>\n",
       "</html>\n"
      ],
      "text/plain": [
       "<IPython.core.display.HTML object>"
      ]
     },
     "execution_count": 1,
     "metadata": {},
     "output_type": "execute_result"
    }
   ],
   "source": [
    "from pygments import highlight\n",
    "from pygments.lexers import CppLexer\n",
    "from pygments.formatters import HtmlFormatter\n",
    "from IPython.core.display import HTML\n",
    "\n",
    "with open('simple_library/binomial.h', 'r') as filehandler:\n",
    "    header = HTML(highlight(filehandler.read(), CppLexer(),\n",
    "                         HtmlFormatter(full=True)))\n",
    "header"
   ]
  },
  {
   "cell_type": "markdown",
   "metadata": {},
   "source": [
    "In order to generate *Python* bindings for this *C++* library we need:\n",
    "\n",
    "* To compile the source code."
   ]
  },
  {
   "cell_type": "code",
   "execution_count": 2,
   "metadata": {
    "collapsed": false
   },
   "outputs": [],
   "source": [
    "import subprocess\n",
    "output = subprocess.check_output(['g++', '-o', 'simple_library/binomial.os',\n",
    "                 '-c', '-x', 'c++', '-std=c++0x', '-Wwrite-strings',\n",
    "                 '-fPIC', '-Isimple_library', 'simple_library/binomial.cpp'])"
   ]
  },
  {
   "cell_type": "markdown",
   "metadata": {},
   "source": [
    "* To make a shared library."
   ]
  },
  {
   "cell_type": "code",
   "execution_count": 3,
   "metadata": {
    "collapsed": false
   },
   "outputs": [],
   "source": [
    "output = subprocess.check_output(['g++', '-o', 'simple_library/libbinomial.so',\n",
    "                                  '-shared', 'simple_library/binomial.os'])"
   ]
  },
  {
   "cell_type": "markdown",
   "metadata": {},
   "source": [
    "* To import the shared library."
   ]
  },
  {
   "cell_type": "code",
   "execution_count": 8,
   "metadata": {
    "collapsed": true
   },
   "outputs": [],
   "source": [
    "from ctypes import cdll\n",
    "lib1 = cdll.LoadLibrary('simple_library/libbinomial.so')"
   ]
  },
  {
   "cell_type": "markdown",
   "metadata": {},
   "source": [
    "## Generation of *Python* bindings\n",
    "\n",
    "Once the *C++* library has been compiled, we can proceed to the generation of its *Python* bindings using **AutoWIG**."
   ]
  },
  {
   "cell_type": "code",
   "execution_count": null,
   "metadata": {
    "collapsed": true
   },
   "outputs": [],
   "source": [
    "from autowig import autowig"
   ]
  },
  {
   "cell_type": "markdown",
   "metadata": {},
   "source": [
    "The header is first parsed with relevant compilation flags."
   ]
  },
  {
   "cell_type": "code",
   "execution_count": 1,
   "metadata": {
    "collapsed": false
   },
   "outputs": [
    {
     "ename": "NameError",
     "evalue": "name 'autowig' is not defined",
     "output_type": "error",
     "traceback": [
      "\u001b[1;31m---------------------------------------------------------------------------\u001b[0m",
      "\u001b[1;31mNameError\u001b[0m                                 Traceback (most recent call last)",
      "\u001b[1;32m<ipython-input-1-98fb658e4515>\u001b[0m in \u001b[0;36m<module>\u001b[1;34m()\u001b[0m\n\u001b[1;32m----> 1\u001b[1;33m \u001b[0masg\u001b[0m \u001b[1;33m=\u001b[0m \u001b[0mautowig\u001b[0m\u001b[1;33m.\u001b[0m\u001b[0mAbstractSemanticGraph\u001b[0m\u001b[1;33m(\u001b[0m\u001b[1;33m)\u001b[0m\u001b[1;33m\u001b[0m\u001b[0m\n\u001b[0m\u001b[0;32m      2\u001b[0m asg = autowig.parser(asg,\n\u001b[0;32m      3\u001b[0m                      \u001b[1;33m[\u001b[0m\u001b[1;34m'./simple_library/binomial.h'\u001b[0m\u001b[1;33m]\u001b[0m\u001b[1;33m,\u001b[0m\u001b[1;33m\u001b[0m\u001b[0m\n\u001b[0;32m      4\u001b[0m                      ['-x', 'c++', '-std=c++11'])\n",
      "\u001b[1;31mNameError\u001b[0m: name 'autowig' is not defined"
     ]
    }
   ],
   "source": [
    "asg = autowig.AbstractSemanticGraph()\n",
    "asg = autowig.parser(asg,\n",
    "                     ['./simple_library/binomial.h'],\n",
    "                     ['-x', 'c++', '-std=c++0x', '-Isimple_library'])"
   ]
  },
  {
   "cell_type": "markdown",
   "metadata": {},
   "source": [
    "Since most of **AutoWIG** guidelines are respected, the `default` `controller` implementation is thus suitable."
   ]
  },
  {
   "cell_type": "code",
   "execution_count": null,
   "metadata": {
    "collapsed": true
   },
   "outputs": [],
   "source": [
    "asg = autowig.controller(asg)"
   ]
  },
  {
   "cell_type": "markdown",
   "metadata": {},
   "source": [
    "In order to wrap the library we need to select the `boost_python_internal` `generator` implementation."
   ]
  },
  {
   "cell_type": "code",
   "execution_count": null,
   "metadata": {
    "collapsed": true
   },
   "outputs": [],
   "source": [
    "autowig.generator.plugin = 'boost_python_internal'"
   ]
  },
  {
   "cell_type": "markdown",
   "metadata": {},
   "source": [
    "The **Boost.Python** module name chosen is `'./test/binomial/module.cpp'` and no decorator has to be written (`None`)."
   ]
  },
  {
   "cell_type": "code",
   "execution_count": null,
   "metadata": {
    "collapsed": true
   },
   "outputs": [],
   "source": [
    "wrappers = autowig.generator(asg,\n",
    "                             module = './simple_library/_libbinomial.cpp',\n",
    "                             decorator = None)"
   ]
  },
  {
   "cell_type": "markdown",
   "metadata": {},
   "source": [
    "The wrappers are only generated in-memory, we therefore need to write them on the disk to complete the process."
   ]
  },
  {
   "cell_type": "code",
   "execution_count": null,
   "metadata": {
    "collapsed": true
   },
   "outputs": [],
   "source": [
    "for wrapper in wrappers:\n",
    "    wrapper.write()"
   ]
  },
  {
   "cell_type": "markdown",
   "metadata": {},
   "source": [
    "Once the wrappers are written to disk, we need to compile the *Python* bindings using **SCons**."
   ]
  },
  {
   "cell_type": "code",
   "execution_count": null,
   "metadata": {
    "collapsed": true
   },
   "outputs": [],
   "source": [
    "autowig.scons('test')"
   ]
  },
  {
   "cell_type": "markdown",
   "metadata": {},
   "source": [
    "## Usage of *Python* bindings\n",
    "\n",
    "And we can hereafter use the *C++* library in the *Python* interpreter"
   ]
  },
  {
   "cell_type": "code",
   "execution_count": 7,
   "metadata": {
    "collapsed": false
   },
   "outputs": [],
   "source": []
  },
  {
   "cell_type": "code",
   "execution_count": 3,
   "metadata": {
    "collapsed": false
   },
   "outputs": [
    {
     "ename": "ImportError",
     "evalue": "No module named autowig",
     "output_type": "error",
     "traceback": [
      "\u001b[1;31m---------------------------------------------------------------------------\u001b[0m",
      "\u001b[1;31mImportError\u001b[0m                               Traceback (most recent call last)",
      "\u001b[1;32m<ipython-input-3-4dc81601d84e>\u001b[0m in \u001b[0;36m<module>\u001b[1;34m()\u001b[0m\n\u001b[0;32m      1\u001b[0m \u001b[1;32mimport\u001b[0m \u001b[0msys\u001b[0m\u001b[1;33m\u001b[0m\u001b[0m\n\u001b[0;32m      2\u001b[0m \u001b[1;32mimport\u001b[0m \u001b[0mos\u001b[0m\u001b[1;33m\u001b[0m\u001b[0m\n\u001b[1;32m----> 3\u001b[1;33m \u001b[1;32mimport\u001b[0m \u001b[0mautowig\u001b[0m\u001b[1;33m\u001b[0m\u001b[0m\n\u001b[0m\u001b[0;32m      4\u001b[0m \u001b[1;33m\u001b[0m\u001b[0m\n\u001b[0;32m      5\u001b[0m \u001b[0mlibpath\u001b[0m \u001b[1;33m=\u001b[0m \u001b[0mos\u001b[0m\u001b[1;33m.\u001b[0m\u001b[0mpath\u001b[0m\u001b[1;33m.\u001b[0m\u001b[0mjoin\u001b[0m\u001b[1;33m(\u001b[0m\u001b[1;34m'test'\u001b[0m\u001b[1;33m,\u001b[0m \u001b[1;34m'binomial'\u001b[0m\u001b[1;33m)\u001b[0m\u001b[1;33m.\u001b[0m\u001b[0mabspath\u001b[0m\u001b[1;33m(\u001b[0m\u001b[1;33m)\u001b[0m\u001b[1;33m\u001b[0m\u001b[0m\n",
      "\u001b[1;31mImportError\u001b[0m: No module named autowig"
     ]
    }
   ],
   "source": [
    "import sys\n",
    "import os\n",
    "import autowig\n",
    "\n",
    "libpath = os.path.abspath('simple_library')\n",
    "if sys.platform == 'win32':\n",
    "    os.environ['PATH'] += ':' + libpath\n",
    "elif sys.platform == 'darwin':\n",
    "    os.environ['DYLD_LIBRARY_PATH'] += ':' + libpath\n",
    "else:\n",
    "    os.environ['LD_LIBRARY_PATH'] += ':' + libpath\n",
    "execmd = sys.executable\n",
    "argv = sys.argv + [os.environ]\n",
    "os.execle(execmd, execmd, *argv)"
   ]
  },
  {
   "cell_type": "code",
   "execution_count": null,
   "metadata": {
    "collapsed": true
   },
   "outputs": [],
   "source": [
    "from simple_library import *\n",
    "binomial = BinomialDistribution(1,.5)"
   ]
  },
  {
   "cell_type": "code",
   "execution_count": null,
   "metadata": {
    "collapsed": true
   },
   "outputs": [],
   "source": [
    "binomial.pmf(0)"
   ]
  },
  {
   "cell_type": "code",
   "execution_count": null,
   "metadata": {
    "collapsed": true
   },
   "outputs": [],
   "source": [
    "binomial.pmf(1)"
   ]
  },
  {
   "cell_type": "code",
   "execution_count": null,
   "metadata": {
    "collapsed": true
   },
   "outputs": [],
   "source": [
    "binomial.n = 0\n",
    "binomial.pmf(0)"
   ]
  },
  {
   "cell_type": "code",
   "execution_count": null,
   "metadata": {
    "collapsed": true
   },
   "outputs": [],
   "source": [
    "binomial.set_pi(1.1)\n",
    "Traceback (most recent call last):\n",
    "  File \"<stdin>\", line 1, in <module>\n",
    "ProbabilityError: a probability must be in the interval [0,1]"
   ]
  }
 ],
 "metadata": {
  "kernelspec": {
   "display_name": "Python 2",
   "language": "python",
   "name": "python2"
  },
  "language_info": {
   "codemirror_mode": {
    "name": "ipython",
    "version": 2
   },
   "file_extension": ".py",
   "mimetype": "text/x-python",
   "name": "python",
   "nbconvert_exporter": "python",
   "pygments_lexer": "ipython2",
   "version": "2.7.12"
  },
  "slow": "False"
 },
 "nbformat": 4,
 "nbformat_minor": 0
}
