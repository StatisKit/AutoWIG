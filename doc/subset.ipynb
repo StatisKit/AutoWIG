{
 "cells": [
  {
   "cell_type": "markdown",
   "metadata": {},
   "source": [
    "# Wrapping a subset of a very large library\n",
    "\n",
    "In this example, we aim at presenting the methodology to wrap only a subset of a library.\n",
    "For the purpose of illustration and to demonstrate the usage of **AutoWIG** for very complex libraries, we considered the wrapping of the **Clang** library, a complete *C*/*C++* compiler.\n",
    "**Clang** is a great tool, but its stable *Python* interface (i.e. **libclang**) is lacking some useful features that are needed by **AutoWIG**.\n",
    "In particular, class template specializations are not available in the abstract syntax tree.\n",
    "Fortunately, most of the classes that would be needed during the traversal of the *C++* abstract syntax tree are not template specializations.\n",
    "We therefore proposed to bootstrap the **Clang** *Python* bindings with a first version of **AutoWIG** that uses only **libclang**.\n",
    "The new **Clang** *Python* interface, produced by **AutoWIG**, is **PyClangLite**.\n",
    "**PyClangLite** is able to wrap class template specializations.\n",
    "As for **libclang**, this interface is proposed only for a subset of the **Clang** library sufficient enough for proposing the new `pyclanglite` `parser`.\n",
    "\n",
    "First, ensure that the **LLVM**/**Clang** technologies are installed on your computer and if there were built with `RTTI`."
   ]
  },
  {
   "cell_type": "code",
   "execution_count": 1,
   "metadata": {
    "collapsed": false
   },
   "outputs": [],
   "source": [
    "import subprocess\n",
    "if not subprocess.check_output([\"llvm-config\", \"--version\"]).strip() == '3.8.1':\n",
    "    raise Exception\n",
    "subprocess.check_call(['clang++', '--version'])\n",
    "if not subprocess.check_output([\"llvm-config\", \"--has-rtti\"]).strip() == 'YES':\n",
    "    raise Exception"
   ]
  },
  {
   "cell_type": "markdown",
   "metadata": {},
   "source": [
    "Note that these techonologies must be installed using the current system prefix"
   ]
  },
  {
   "cell_type": "code",
   "execution_count": 2,
   "metadata": {
    "collapsed": false
   },
   "outputs": [],
   "source": [
    "import sys\n",
    "from path import path\n",
    "prefix = path(subprocess.check_output([\"llvm-config\", \"--prefix\"]).strip())\n",
    "if not prefix == sys.prefix:\n",
    "    raise Exception"
   ]
  },
  {
   "cell_type": "markdown",
   "metadata": {},
   "source": [
    "Then, clone the **PyClangLite**  repository into the **PyClangLite** directory."
   ]
  },
  {
   "cell_type": "code",
   "execution_count": 3,
   "metadata": {
    "collapsed": false
   },
   "outputs": [],
   "source": [
    "from path import path\n",
    "srcdir = path('PyClangLite')\n",
    "if not srcdir.exists():\n",
    "    from git import Repo\n",
    "    repo = Repo.clone_from('https://github.com/StatisKit/PyClangLite.git', srcdir.relpath('.'))"
   ]
  },
  {
   "cell_type": "markdown",
   "metadata": {},
   "source": [
    "This repository already has wrappers, we therefore need to remove them."
   ]
  },
  {
   "cell_type": "code",
   "execution_count": 4,
   "metadata": {
    "collapsed": false
   },
   "outputs": [],
   "source": [
    "srcdir = srcdir/'src'/'py'\n",
    "for wrapper in srcdir.walkfiles('*.cpp'):\n",
    "    wrapper.unlink()"
   ]
  },
  {
   "cell_type": "markdown",
   "metadata": {},
   "source": [
    "In addition to the **Clang** libraries, the **ClangLite** library is needed in order to have access to some functionalities."
   ]
  },
  {
   "cell_type": "code",
   "execution_count": 5,
   "metadata": {
    "collapsed": false
   },
   "outputs": [
    {
     "name": "stdout",
     "output_type": "stream",
     "text": [
      "scons: Reading SConscript files ...\n",
      "scons: done reading SConscript files.\n",
      "scons: Building targets ...\n",
      "Install file: \"src/cpp/tool.h\" as \"/home/pfernique/.miniconda2/envs/autowig/include/clanglite/tool.h\"\n",
      "g++ -o src/cpp/tool.os -c -std=c++0x -fvisibility-inlines-hidden -ffunction-sections -fdata-sections -Wno-deprecated-declarations -fPIC -DBOOST_PYTHON_DYNAMIC_LIB -D_GNU_SOURCE -D__STDC_CONSTANT_MACROS -D__STDC_FORMAT_MACROS -D__STDC_LIMIT_MACROS -I/home/pfernique/.miniconda2/envs/autowig/include -I/usr/include/python2.7 src/cpp/tool.cpp\n",
      "scons: done building targets.\n",
      "\n"
     ]
    }
   ],
   "source": [
    "from autowig.scons import scons\n",
    "if not prefix.basename() == '_build':\n",
    "    print scons(srcdir.parent.parent, 'cpp', '--prefix=' + prefix, '-j6')"
   ]
  },
  {
   "cell_type": "markdown",
   "metadata": {},
   "source": [
    "The `tool.h` header of this **ClangLite** library includes all necessary **Clang** headers."
   ]
  },
  {
   "cell_type": "code",
   "execution_count": 6,
   "metadata": {
    "collapsed": false,
    "scrolled": true
   },
   "outputs": [],
   "source": [
    "headers = [prefix/'include'/'clanglite'/'tool.h']"
   ]
  },
  {
   "cell_type": "markdown",
   "metadata": {},
   "source": [
    "We import **AutoWIG** and create an empty Abstract Semantic Graph (ASG).\n"
   ]
  },
  {
   "cell_type": "code",
   "execution_count": 7,
   "metadata": {
    "collapsed": true
   },
   "outputs": [],
   "source": [
    "from autowig import autowig\n",
    "asg = autowig.AbstractSemanticGraph()"
   ]
  },
  {
   "cell_type": "markdown",
   "metadata": {},
   "source": [
    "We then parse the header with relevant compilation flags."
   ]
  },
  {
   "cell_type": "code",
   "execution_count": 8,
   "metadata": {
    "collapsed": false,
    "scrolled": true
   },
   "outputs": [],
   "source": [
    "autowig.parser.plugin = 'libclang'\n",
    "asg = autowig.parser(asg, headers,\n",
    "               flags = ['-x', 'c++', '-std=c++11',\n",
    "                        '-D__STDC_LIMIT_MACROS', '-D__STDC_CONSTANT_MACROS',\n",
    "                        '-I' + str((prefix/'include').abspath())],\n",
    "               libpath = prefix/'lib'/'libclang.so',\n",
    "               bootstrap = False,\n",
    "               silent = True)"
   ]
  },
  {
   "cell_type": "markdown",
   "metadata": {},
   "source": [
    "Since most of **AutoWIG** guidelines are respected, the `default` `controller` implementation could be suitable.\n",
    "Nevertheless, we need to force some *C++* components to be wrapped or not.\n",
    "Moreover, **libclang** does not allow to investigate if enumerations are scoped or not.\n",
    "We therefore implements a new `controller`."
   ]
  },
  {
   "cell_type": "code",
   "execution_count": 17,
   "metadata": {
    "collapsed": false
   },
   "outputs": [],
   "source": [
    "def clanglite_controller(asg):\n",
    "    \n",
    "    for node in asg['::boost::python'].classes(nested = True):\n",
    "        node.is_copyable = True\n",
    "        \n",
    "    for node in asg.classes():\n",
    "        node.boost_python_export = False\n",
    "    for node in asg.enumerations():\n",
    "        node.boost_python_export = False\n",
    "    for node in asg.enumerators():\n",
    "        if node.parent.boost_python_export:\n",
    "            node.boost_python_export = False\n",
    "            \n",
    "    for node in asg.functions(free = True):\n",
    "        node.boost_python_export = False\n",
    "    for node in asg.variables(free = True):\n",
    "        node.boost_python_export = False\n",
    "        \n",
    "    from autowig.default_controller import refactoring\n",
    "    asg = refactoring(asg)\n",
    "    for fct in asg['::clanglite'].functions():\n",
    "        if not fct.localname == 'build_ast_from_code_with_args':\n",
    "            fct.parent = fct.parameters[0].qualified_type.desugared_type.unqualified_type\n",
    "    \n",
    "    subset = []\n",
    "    classes = [asg['class ::clang::Type'], asg['class ::clang::Decl']]\n",
    "    subset += classes\n",
    "    subset += classes[0].subclasses(recursive=True)\n",
    "    subset += classes[1].subclasses(recursive=True)\n",
    "    subset.append(asg['class ::llvm::StringRef'])\n",
    "    subset.append(asg['class ::clang::ASTUnit'])\n",
    "    subset.append(asg['class ::clang::ASTContext'])\n",
    "    subset.append(asg['class ::clang::FileID'])\n",
    "    subset.append(asg['class ::clang::SourceLocation'])\n",
    "    subset.append(asg['class ::clang::CXXBaseSpecifier'])\n",
    "    subset.append(asg['class ::clang::DeclContext'])\n",
    "    subset.append(asg['enum ::clang::AccessSpecifier'])\n",
    "    subset.append(asg['enum ::clang::LinkageSpecDecl::LanguageIDs'])\n",
    "    subset.append(asg['enum ::clang::BuiltinType::Kind'])\n",
    "    subset.append(asg['enum ::clang::TemplateArgument::ArgKind'])\n",
    "    subset.append(asg['enum ::clang::Decl::Kind'])\n",
    "    subset.extend(asg['::boost::python'].classes(nested = True))\n",
    "    subset.extend(asg['::boost::python'].enumerations(nested = True))\n",
    "    subset.extend(asg.nodes('::clanglite::build_ast_from_code_with_args'))\n",
    "\n",
    "    for node in subset:\n",
    "        node.boost_python_export = True\n",
    "\n",
    "    if autowig.parser.plugin == 'libclang':\n",
    "        for node in (asg.functions(pattern='.*(llvm|clang).*_(begin|end)')\n",
    "                     + asg.functions(pattern='.*(llvm|clang).*getNameAsString')\n",
    "                     + asg.nodes('::clang::NamedDecl::getQualifiedNameAsString')\n",
    "                     + asg.nodes('::clang::ObjCProtocolDecl::collectInheritedProtocolProperties')\n",
    "                     + asg.nodes('::clang::ASTUnit::LoadFromASTFile')\n",
    "                     + asg.nodes('::clang::ASTUnit::getCachedCompletionTypes')\n",
    "                     + asg.nodes('::clang::ASTUnit::getBufferForFile')\n",
    "                     + asg.nodes('::clang::CXXRecordDecl::getCaptureFields')\n",
    "                     + asg.nodes('::clang::ASTContext::SectionInfos')\n",
    "                     + asg.nodes('::clang::ASTContext::getAllocator')\n",
    "                     + asg.nodes('::clang::ASTContext::getObjCEncodingForFunctionDecl')\n",
    "                     + asg.nodes('::clang::ASTContext::getObjCEncodingForPropertyDecl')\n",
    "                     + asg.nodes('::clang::ASTContext::getObjCEncodingForMethodDecl')\n",
    "                     + asg.nodes('::clang::ASTContext::getAllocator')):\n",
    "            node.boost_python_export = False\n",
    "            \n",
    "    import sys\n",
    "    from path import path\n",
    "    for header in (path(sys.prefix)/'include'/'clang').walkfiles('*.h'):\n",
    "        asg[header.abspath()].is_external_dependency = False\n",
    "    \n",
    "    return asg"
   ]
  },
  {
   "cell_type": "markdown",
   "metadata": {},
   "source": [
    "This `controller` is then dynamically registered and used on the ASG."
   ]
  },
  {
   "cell_type": "code",
   "execution_count": 10,
   "metadata": {
    "collapsed": false
   },
   "outputs": [],
   "source": [
    "autowig.controller['clanglite'] = clanglite_controller\n",
    "autowig.controller.plugin = 'clanglite'\n",
    "asg = autowig.controller(asg)"
   ]
  },
  {
   "cell_type": "markdown",
   "metadata": {},
   "source": [
    "In order to wrap a subset of the **Clang** library, the user need to implements a `generator` that passes particular nodes to the `boost_python` `generator`."
   ]
  },
  {
   "cell_type": "code",
   "execution_count": 11,
   "metadata": {
    "collapsed": false
   },
   "outputs": [],
   "source": [
    "autowig.generator.plugin = 'boost_python_internal'\n",
    "wrappers = autowig.generator(asg,\n",
    "                  module = srcdir/'_clanglite.cpp',\n",
    "                  decorator = srcdir/'clanglite'/'_clanglite.py',\n",
    "                  closure = False)"
   ]
  },
  {
   "cell_type": "markdown",
   "metadata": {},
   "source": [
    "The wrappers are only generated in-memory.\n",
    "We therefore need to write them on the disk to complete the process."
   ]
  },
  {
   "cell_type": "code",
   "execution_count": 12,
   "metadata": {
    "collapsed": false
   },
   "outputs": [],
   "source": [
    "for wrapper in wrappers:\n",
    "    wrapper.write()"
   ]
  },
  {
   "cell_type": "raw",
   "metadata": {
    "collapsed": false
   },
   "source": [
    "import os\n",
    "subprocess.check_call(['conda', 'build',\n",
    "                       os.path.join('PyClangLite', 'conda', 'libclanglite'),\n",
    "                       '-c', 'statiskit', '-c', 'conda-forge'])\n",
    "subprocess.check_call(['conda', 'build',\n",
    "                       os.path.join('PyClangLite', 'conda', 'python-clanglite'),\n",
    "                       '-c', 'statiskit', '-c', 'conda-forge'])\n",
    "subprocess.check_call(['conda', 'install',\n",
    "                       'python-clanglite', '--use-local',\n",
    "                       '-c', 'statiskit', '-c', 'conda-forge'])"
   ]
  },
  {
   "cell_type": "raw",
   "metadata": {},
   "source": [
    "import clanglite\n",
    "from clanglite import __clanglite"
   ]
  },
  {
   "cell_type": "raw",
   "metadata": {},
   "source": [
    "clanglite.__path__"
   ]
  }
 ],
 "metadata": {
  "kernelspec": {
   "display_name": "Python 2",
   "language": "python",
   "name": "python2"
  },
  "language_info": {
   "codemirror_mode": {
    "name": "ipython",
    "version": 2
   },
   "file_extension": ".py",
   "mimetype": "text/x-python",
   "name": "python",
   "nbconvert_exporter": "python",
   "pygments_lexer": "ipython2",
   "version": "2.7.12"
  }
 },
 "nbformat": 4,
 "nbformat_minor": 0
}
