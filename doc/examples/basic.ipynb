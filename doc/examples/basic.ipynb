{
 "cells": [
  {
   "cell_type": "code",
   "execution_count": 2,
   "metadata": {
    "collapsed": false
   },
   "outputs": [],
   "source": [
    "from path import path\n",
    "srcdir = path('basic').abspath()\n",
    "for wrapper in srcdir.walkfiles('wrapper_*.cpp'):\n",
    "    wrapper.unlink()\n",
    "wrapper = srcdir/'_module.cpp'\n",
    "if wrapper.exists():\n",
    "    wrapper.unlink()\n",
    "wrapper = srcdir/'_module.py'\n",
    "if wrapper.exists():\n",
    "    wrapper.unlink()"
   ]
  },
  {
   "cell_type": "code",
   "execution_count": 3,
   "metadata": {
    "collapsed": false
   },
   "outputs": [
    {
     "ename": "ImportError",
     "evalue": "No module named parse",
     "output_type": "error",
     "traceback": [
      "\u001b[1;31m---------------------------------------------------------------------------\u001b[0m",
      "\u001b[1;31mImportError\u001b[0m                               Traceback (most recent call last)",
      "\u001b[1;32m<ipython-input-3-f37f48ccd01b>\u001b[0m in \u001b[0;36m<module>\u001b[1;34m()\u001b[0m\n\u001b[1;32m----> 1\u001b[1;33m \u001b[1;32mimport\u001b[0m \u001b[0mautowig\u001b[0m\u001b[1;33m\u001b[0m\u001b[0m\n\u001b[0m",
      "\u001b[1;32m/home/pfernique/Desktop/AutoWIG/src/py/autowig/__init__.py\u001b[0m in \u001b[0;36m<module>\u001b[1;34m()\u001b[0m\n\u001b[0;32m     14\u001b[0m \u001b[0mnode_rename\u001b[0m\u001b[1;33m.\u001b[0m\u001b[0mplugin\u001b[0m \u001b[1;33m=\u001b[0m \u001b[1;34m'PEP8'\u001b[0m\u001b[1;33m\u001b[0m\u001b[0m\n\u001b[0;32m     15\u001b[0m \u001b[0mnode_path\u001b[0m\u001b[1;33m.\u001b[0m\u001b[0mplugin\u001b[0m \u001b[1;33m=\u001b[0m \u001b[1;34m'hash'\u001b[0m\u001b[1;33m\u001b[0m\u001b[0m\n\u001b[1;32m---> 16\u001b[1;33m \u001b[1;32mfrom\u001b[0m \u001b[1;33m.\u001b[0m\u001b[0mboost_python_generator\u001b[0m \u001b[1;32mimport\u001b[0m \u001b[0mboost_python_call_policy\u001b[0m\u001b[1;33m,\u001b[0m \u001b[0mboost_python_export\u001b[0m\u001b[1;33m,\u001b[0m \u001b[0mboost_python_module\u001b[0m\u001b[1;33m,\u001b[0m \u001b[0mboost_python_decorator\u001b[0m\u001b[1;33m\u001b[0m\u001b[0m\n\u001b[0m\u001b[0;32m     17\u001b[0m \u001b[0mboost_python_call_policy\u001b[0m\u001b[1;33m.\u001b[0m\u001b[0mplugin\u001b[0m \u001b[1;33m=\u001b[0m \u001b[1;34m'default'\u001b[0m\u001b[1;33m\u001b[0m\u001b[0m\n\u001b[0;32m     18\u001b[0m \u001b[0mboost_python_export\u001b[0m\u001b[1;33m.\u001b[0m\u001b[0mproxy\u001b[0m \u001b[1;33m=\u001b[0m \u001b[1;34m'mapping'\u001b[0m\u001b[1;33m\u001b[0m\u001b[0m\n",
      "\u001b[1;32m/home/pfernique/Desktop/AutoWIG/src/py/autowig/boost_python_generator.py\u001b[0m in \u001b[0;36m<module>\u001b[1;34m()\u001b[0m\n\u001b[0;32m      5\u001b[0m \u001b[1;32mfrom\u001b[0m \u001b[0moperator\u001b[0m \u001b[1;32mimport\u001b[0m \u001b[0mattrgetter\u001b[0m\u001b[1;33m\u001b[0m\u001b[0m\n\u001b[0;32m      6\u001b[0m \u001b[1;32mimport\u001b[0m \u001b[0mos\u001b[0m\u001b[1;33m\u001b[0m\u001b[0m\n\u001b[1;32m----> 7\u001b[1;33m \u001b[1;32mimport\u001b[0m \u001b[0mparse\u001b[0m\u001b[1;33m\u001b[0m\u001b[0m\n\u001b[0m\u001b[0;32m      8\u001b[0m \u001b[1;33m\u001b[0m\u001b[0m\n\u001b[0;32m      9\u001b[0m from .asg import (AbstractSemanticGraph,\n",
      "\u001b[1;31mImportError\u001b[0m: No module named parse"
     ]
    }
   ],
   "source": [
    "import autowig"
   ]
  },
  {
   "cell_type": "code",
   "execution_count": null,
   "metadata": {
    "collapsed": true
   },
   "outputs": [],
   "source": [
    "asg = autowig.AbstractSemanticGraph()\n",
    "\n",
    "asg = autowig.parser(asg, [self.srcdir/'overload.h', self.srcdir/'binomial.h'],\n",
    "                          ['-x', 'c++', '-std=c++11', '-I' + str(self.srcdir)],\n",
    "                          silent = True)"
   ]
  },
  {
   "cell_type": "code",
   "execution_count": null,
   "metadata": {
    "collapsed": true
   },
   "outputs": [],
   "source": [
    "autowig.controller.plugin = 'default'\n",
    "autowig.controller(asg)"
   ]
  },
  {
   "cell_type": "code",
   "execution_count": null,
   "metadata": {
    "collapsed": true
   },
   "outputs": [],
   "source": [
    "wrappers = autowig.generator(asg, module = self.srcdir/'_module.cpp',\n",
    "                                  decorator = self.srcdir/'_module.py',\n",
    "                                  prefix = 'wrapper_')"
   ]
  },
  {
   "cell_type": "code",
   "execution_count": null,
   "metadata": {
    "collapsed": true
   },
   "outputs": [],
   "source": [
    "for wrapper in wrappers:\n",
    "    wrapper.write()"
   ]
  },
  {
   "cell_type": "code",
   "execution_count": null,
   "metadata": {
    "collapsed": true
   },
   "outputs": [],
   "source": [
    "autowig.scons(self.srcdir, 'build')"
   ]
  },
  {
   "cell_type": "code",
   "execution_count": null,
   "metadata": {
    "collapsed": true
   },
   "outputs": [],
   "source": [
    "for wrapper in srcdir.walkfiles('wrapper_*.cpp'):\n",
    "    wrapper.unlink()\n",
    "wrapper = srcdir/'_module.cpp'\n",
    "if wrapper.exists():\n",
    "    wrapper.unlink()\n",
    "wrapper = srcdir/'_module.py'\n",
    "if wrapper.exists():\n",
    "    wrapper.unlink()"
   ]
  }
 ],
 "metadata": {
  "kernelspec": {
   "display_name": "Python 2",
   "language": "python",
   "name": "python2"
  },
  "language_info": {
   "codemirror_mode": {
    "name": "ipython",
    "version": 2
   },
   "file_extension": ".py",
   "mimetype": "text/x-python",
   "name": "python",
   "nbconvert_exporter": "python",
   "pygments_lexer": "ipython2",
   "version": "2.7.12"
  }
 },
 "nbformat": 4,
 "nbformat_minor": 0
}
