{
 "cells": [
  {
   "cell_type": "markdown",
   "metadata": {},
   "source": [
    "# Wrapping a basic library\n",
    "\n",
    "We here aim at presenting the interactive wrapping workflow.\n",
    "For the sake of simplicity, we consider a basic example of *C++* library."
   ]
  },
  {
   "cell_type": "markdown",
   "metadata": {},
   "source": [
    "First, import **AutoWIG**."
   ]
  },
  {
   "cell_type": "code",
   "execution_count": 1,
   "metadata": {
    "collapsed": false
   },
   "outputs": [],
   "source": [
    "import autowig"
   ]
  },
  {
   "cell_type": "markdown",
   "metadata": {},
   "source": [
    "Then, to install and compile the *C++* library we use available **Conda** recipes."
   ]
  },
  {
   "cell_type": "code",
   "execution_count": 2,
   "metadata": {
    "collapsed": false
   },
   "outputs": [
    {
     "name": "stdout",
     "output_type": "stream",
     "text": [
      "Removing old build environment\n",
      "BUILD START: libbasic-1.0.0-0\n",
      "    (actual version deferred until further download or env creation)\n",
      "Fetching package metadata ...........\n",
      "Solving package specifications: ..........\n",
      "scons: Reading SConscript files ...\n",
      "scons: done reading SConscript files.\n",
      "scons: Building targets ...\n",
      "Install file: \"build/cpp/binomial.h\" as \"/home/main/miniconda/envs/_build/include/basic/binomial.h\"\n",
      "Install file: \"build/cpp/overload.h\" as \"/home/main/miniconda/envs/_build/include/basic/overload.h\"\n",
      "g++ -o build/cpp/overload.os -c -x c++ -std=c++0x -Wwrite-strings -fPIC -DBOOST_PYTHON_DYNAMIC_LIB -I/home/main/miniconda/envs/_build/include -I/home/main/miniconda/envs/_build/include/python2.7 build/cpp/overload.cpp\n",
      "g++ -o build/cpp/binomial.os -c -x c++ -std=c++0x -Wwrite-strings -fPIC -DBOOST_PYTHON_DYNAMIC_LIB -I/home/main/miniconda/envs/_build/include -I/home/main/miniconda/envs/_build/include/python2.7 build/cpp/binomial.cpp\n",
      "g++ -o /home/main/miniconda/envs/_build/lib/libbasic.so -shared build/cpp/binomial.os build/cpp/overload.os -L/home/main/miniconda/envs/_build/lib -lboost_python -lpython2.7\n",
      "scons: done building targets.\n",
      "\n",
      "The following packages will be downloaded:\n",
      "\n",
      "    package                    |            build\n",
      "    ---------------------------|-----------------\n",
      "    icu-54.1                   |                0        11.3 MB\n",
      "    scons-2.5.0                |           py27_0         737 KB  statiskit\n",
      "    setuptools-26.1.1          |           py27_0         518 KB\n",
      "    ------------------------------------------------------------\n",
      "                                           Total:        12.5 MB\n",
      "\n",
      "The following NEW packages will be INSTALLED:\n",
      "\n",
      "    icu:        54.1-0                 \n",
      "    libboost:   1.61.0-py27_0 statiskit\n",
      "    openssl:    1.0.2h-1               \n",
      "    pip:        8.1.2-py27_0           \n",
      "    python:     2.7.12-1               \n",
      "    readline:   6.2-2                  \n",
      "    scons:      2.5.0-py27_0  statiskit\n",
      "    setuptools: 26.1.1-py27_0          \n",
      "    sqlite:     3.13.0-0               \n",
      "    tk:         8.5.18-0               \n",
      "    wheel:      0.29.0-py27_0          \n",
      "    zlib:       1.2.8-3                \n",
      "\n",
      "Copying /home/main/AutoWIG/doc/examples/basic to /home/main/miniconda/conda-bld/work\n",
      "BUILD START: libbasic-1.0.0-0\n",
      "Package: libbasic-1.0.0-0\n",
      "source tree in: /home/main/miniconda/conda-bld/work\n",
      "number of files: 3\n",
      "Fixing permissions\n",
      "patchelf: file: /home/main/miniconda/envs/_build/lib/libbasic.so\n",
      "    setting rpath to: $ORIGIN/.\n",
      "Fixing permissions\n",
      "BUILD END: libbasic-1.0.0-0\n",
      "Nothing to test for: libbasic-1.0.0-0\n",
      "# If you want to upload this package to anaconda.org later, type:\n",
      "#\n",
      "# $ anaconda upload /home/main/miniconda/conda-bld/linux-64/libbasic-1.0.0-0.tar.bz2\n",
      "#\n",
      "# To have conda build upload to anaconda.org automatically, use\n",
      "# $ conda config --set anaconda_upload yes\n",
      "\n",
      "Fetching package metadata ...........\n",
      "Solving package specifications: ..........\n",
      "\n",
      "Package plan for installation in environment /home/main/miniconda:\n",
      "\n",
      "The following packages will be downloaded:\n",
      "\n",
      "    package                    |            build\n",
      "    ---------------------------|-----------------\n",
      "    conda-env-2.5.2            |           py27_0          26 KB\n",
      "    libbasic-1.0.0             |                0           7 KB  local\n",
      "    ------------------------------------------------------------\n",
      "                                           Total:          33 KB\n",
      "\n",
      "The following NEW packages will be INSTALLED:\n",
      "\n",
      "    libbasic:  1.0.0-0       local      \n",
      "\n",
      "The following packages will be SUPERCEDED by a higher-priority channel:\n",
      "\n",
      "    conda:     4.1.11-py27_1 conda-forge --> 4.1.11-py27_0\n",
      "    conda-env: 2.5.2-py27_0  conda-forge --> 2.5.2-py27_0 \n",
      "\n"
     ]
    }
   ],
   "source": [
    "%%bash --err error\n",
    "conda build -q basic/conda/libbasic -c statiskit\n",
    "conda install -y -q libbasic --use-local -c statiskit"
   ]
  },
  {
   "cell_type": "markdown",
   "metadata": {},
   "source": [
    "Once the headers have been installed in the system, we parse them with relevant compilation flags."
   ]
  },
  {
   "cell_type": "code",
   "execution_count": 3,
   "metadata": {
    "collapsed": false
   },
   "outputs": [],
   "source": [
    "import sys\n",
    "asg = autowig.AbstractSemanticGraph()\n",
    "asg = autowig.parser(asg, [sys.prefix + '/include/basic/overload.h',\n",
    "                           sys.prefix + '/include/basic/binomial.h'],\n",
    "                          ['-x', 'c++', '-std=c++11'],\n",
    "                          silent = True)"
   ]
  },
  {
   "cell_type": "markdown",
   "metadata": {},
   "source": [
    "Since most of **AutoWIG** guidelines are respected, the `default` `controller` implementation is suitable."
   ]
  },
  {
   "cell_type": "code",
   "execution_count": 4,
   "metadata": {
    "collapsed": false
   },
   "outputs": [],
   "source": [
    "autowig.controller.plugin = 'default'\n",
    "asg = autowig.controller(asg)"
   ]
  },
  {
   "cell_type": "markdown",
   "metadata": {},
   "source": [
    "In order to wrap the library we need to select the `boost_python_internal` `generator` implementation."
   ]
  },
  {
   "cell_type": "code",
   "execution_count": 5,
   "metadata": {
    "collapsed": false
   },
   "outputs": [],
   "source": [
    "autowig.generator.plugin = 'boost_python_internal'\n",
    "wrappers = autowig.generator(asg,\n",
    "                             module = 'basic/src/py/_module.cpp',\n",
    "                             decorator = 'basic/src/py/basic/_module.py',\n",
    "                             prefix = 'wrapper_')"
   ]
  },
  {
   "cell_type": "markdown",
   "metadata": {},
   "source": [
    "The wrappers are only generated in-memory.\n",
    "It is therefore needed to write them on the disk to complete the process."
   ]
  },
  {
   "cell_type": "code",
   "execution_count": 6,
   "metadata": {
    "collapsed": true
   },
   "outputs": [],
   "source": [
    "wrappers.write()"
   ]
  },
  {
   "cell_type": "markdown",
   "metadata": {},
   "source": [
    "Here is an example of the generated wrappers.\n",
    "We here present the wrappers for the `BinomialDistribution` class."
   ]
  },
  {
   "cell_type": "code",
   "execution_count": 7,
   "metadata": {
    "collapsed": true
   },
   "outputs": [
    {
     "data": {
      "text/plain": [
       "/home/main/AutoWIG/doc/examples/basic/src/py/wrapper_4046a8421fe9587c9dfbc97778162c7d.cpp"
      ]
     },
     "execution_count": 7,
     "metadata": {},
     "output_type": "execute_result"
    }
   ],
   "source": [
    "asg['class ::BinomialDistribution'].boost_python_export"
   ]
  },
  {
   "cell_type": "markdown",
   "metadata": {},
   "source": [
    "Once the wrappers are written on disk, we need to compile and install the *Python* bindings."
   ]
  },
  {
   "cell_type": "code",
   "execution_count": 8,
   "metadata": {
    "collapsed": false
   },
   "outputs": [
    {
     "name": "stdout",
     "output_type": "stream",
     "text": [
      "Removing old build environment\n",
      "BUILD START: python-basic-1.0.0-0\n",
      "    (actual version deferred until further download or env creation)\n",
      "Fetching package metadata ...........\n",
      "Solving package specifications: ..........\n",
      "scons: Reading SConscript files ...\n",
      "scons: done reading SConscript files.\n",
      "scons: Building targets ...\n",
      "g++ -o build/py/_module.h.gch -x c++-header -c -fPIC -x c++ -std=c++0x -Wwrite-strings -ftemplate-depth-100 -DBOOST_PYTHON_DYNAMIC_LIB -I/home/main/miniconda/envs/_build/include -I/home/main/miniconda/envs/_build/include/python2.7 build/py/_module.h\n",
      "Install file: \"build/cpp/binomial.h\" as \"/home/main/miniconda/envs/_build/include/basic/binomial.h\"\n",
      "Install file: \"build/cpp/overload.h\" as \"/home/main/miniconda/envs/_build/include/basic/overload.h\"\n",
      "g++ -o build/cpp/binomial.os -c -x c++ -std=c++0x -Wwrite-strings -fPIC -DBOOST_PYTHON_DYNAMIC_LIB -I/home/main/miniconda/envs/_build/include -I/home/main/miniconda/envs/_build/include/python2.7 build/cpp/binomial.cpp\n",
      "g++ -o build/cpp/overload.os -c -x c++ -std=c++0x -Wwrite-strings -fPIC -DBOOST_PYTHON_DYNAMIC_LIB -I/home/main/miniconda/envs/_build/include -I/home/main/miniconda/envs/_build/include/python2.7 build/cpp/overload.cpp\n",
      "g++ -o /home/main/miniconda/envs/_build/lib/libbasic.so -shared build/cpp/binomial.os build/cpp/overload.os -L/home/main/miniconda/envs/_build/lib -lboost_python -lpython2.7\n",
      "g++ -o build/py/wrapper_0f744e8d056f5d469a887c7c78eaf8fe.os -c -x c++ -std=c++0x -Wwrite-strings -ftemplate-depth-100 -fPIC -DBOOST_PYTHON_DYNAMIC_LIB -I/home/main/miniconda/envs/_build/include -I/home/main/miniconda/envs/_build/include/python2.7 build/py/wrapper_0f744e8d056f5d469a887c7c78eaf8fe.cpp\n",
      "g++ -o build/py/wrapper_92d464d1243554009adc48a065a5be3e.os -c -x c++ -std=c++0x -Wwrite-strings -ftemplate-depth-100 -fPIC -DBOOST_PYTHON_DYNAMIC_LIB -I/home/main/miniconda/envs/_build/include -I/home/main/miniconda/envs/_build/include/python2.7 build/py/wrapper_92d464d1243554009adc48a065a5be3e.cpp\n",
      "g++ -o build/py/wrapper_4046a8421fe9587c9dfbc97778162c7d.os -c -x c++ -std=c++0x -Wwrite-strings -ftemplate-depth-100 -fPIC -DBOOST_PYTHON_DYNAMIC_LIB -I/home/main/miniconda/envs/_build/include -I/home/main/miniconda/envs/_build/include/python2.7 build/py/wrapper_4046a8421fe9587c9dfbc97778162c7d.cpp\n",
      "g++ -o build/py/wrapper_f926cb231a7f5da09f313cd361ff94c7.os -c -x c++ -std=c++0x -Wwrite-strings -ftemplate-depth-100 -fPIC -DBOOST_PYTHON_DYNAMIC_LIB -I/home/main/miniconda/envs/_build/include -I/home/main/miniconda/envs/_build/include/python2.7 build/py/wrapper_f926cb231a7f5da09f313cd361ff94c7.cpp\n",
      "g++ -o build/py/_module.os -c -x c++ -std=c++0x -Wwrite-strings -ftemplate-depth-100 -fPIC -DBOOST_PYTHON_DYNAMIC_LIB -I/home/main/miniconda/envs/_build/include -I/home/main/miniconda/envs/_build/include/python2.7 build/py/_module.cpp\n",
      "gcc -o src/py/basic/__module.so @/home/main/miniconda/conda-bld/work/build/py/response_file.rsp -shared -Wl,-Bsymbolic -Wl,-soname=__module.so -L/home/main/miniconda/envs/_build/lib -lboost_python -lpython2.7 -lbasic\n",
      "scons: done building targets.\n",
      "running install\n",
      "running bdist_egg\n",
      "running egg_info\n",
      "creating src/py/basic.egg-info\n",
      "writing src/py/basic.egg-info/PKG-INFO\n",
      "writing top-level names to src/py/basic.egg-info/top_level.txt\n",
      "writing dependency_links to src/py/basic.egg-info/dependency_links.txt\n",
      "writing manifest file 'src/py/basic.egg-info/SOURCES.txt'\n",
      "reading manifest file 'src/py/basic.egg-info/SOURCES.txt'\n",
      "writing manifest file 'src/py/basic.egg-info/SOURCES.txt'\n",
      "installing library code to build/bdist.linux-x86_64/egg\n",
      "running install_lib\n",
      "running build_py\n",
      "creating build/lib\n",
      "creating build/lib/basic\n",
      "copying src/py/basic/_module.py -> build/lib/basic\n",
      "copying src/py/basic/__init__.py -> build/lib/basic\n",
      "copying src/py/basic/__module.so -> build/lib/basic\n",
      "creating build/bdist.linux-x86_64\n",
      "creating build/bdist.linux-x86_64/egg\n",
      "creating build/bdist.linux-x86_64/egg/basic\n",
      "copying build/lib/basic/_module.py -> build/bdist.linux-x86_64/egg/basic\n",
      "copying build/lib/basic/__module.so -> build/bdist.linux-x86_64/egg/basic\n",
      "copying build/lib/basic/__init__.py -> build/bdist.linux-x86_64/egg/basic\n",
      "byte-compiling build/bdist.linux-x86_64/egg/basic/_module.py to _module.pyc\n",
      "byte-compiling build/bdist.linux-x86_64/egg/basic/__init__.py to __init__.pyc\n",
      "creating build/bdist.linux-x86_64/egg/EGG-INFO\n",
      "copying src/py/basic.egg-info/PKG-INFO -> build/bdist.linux-x86_64/egg/EGG-INFO\n",
      "copying src/py/basic.egg-info/SOURCES.txt -> build/bdist.linux-x86_64/egg/EGG-INFO\n",
      "copying src/py/basic.egg-info/dependency_links.txt -> build/bdist.linux-x86_64/egg/EGG-INFO\n",
      "copying src/py/basic.egg-info/not-zip-safe -> build/bdist.linux-x86_64/egg/EGG-INFO\n",
      "copying src/py/basic.egg-info/top_level.txt -> build/bdist.linux-x86_64/egg/EGG-INFO\n",
      "writing build/bdist.linux-x86_64/egg/EGG-INFO/native_libs.txt\n",
      "creating dist\n",
      "creating 'dist/basic-1.0.0-py2.7.egg' and adding 'build/bdist.linux-x86_64/egg' to it\n",
      "removing 'build/bdist.linux-x86_64/egg' (and everything under it)\n",
      "Processing basic-1.0.0-py2.7.egg\n",
      "creating /home/main/miniconda/envs/_build/lib/python2.7/site-packages/basic-1.0.0-py2.7.egg\n",
      "Extracting basic-1.0.0-py2.7.egg to /home/main/miniconda/envs/_build/lib/python2.7/site-packages\n",
      "Adding basic 1.0.0 to easy-install.pth file\n",
      "\n",
      "Installed /home/main/miniconda/envs/_build/lib/python2.7/site-packages/basic-1.0.0-py2.7.egg\n",
      "Processing dependencies for basic==1.0.0\n",
      "Finished processing dependencies for basic==1.0.0\n",
      "\n",
      "The following NEW packages will be INSTALLED:\n",
      "\n",
      "    icu:        54.1-0                 \n",
      "    libbasic:   1.0.0-0       local    \n",
      "    libboost:   1.61.0-py27_0 statiskit\n",
      "    openssl:    1.0.2h-1               \n",
      "    pip:        8.1.2-py27_0           \n",
      "    python:     2.7.12-1               \n",
      "    readline:   6.2-2                  \n",
      "    scons:      2.5.0-py27_0  statiskit\n",
      "    setuptools: 26.1.1-py27_0          \n",
      "    sqlite:     3.13.0-0               \n",
      "    tk:         8.5.18-0               \n",
      "    wheel:      0.29.0-py27_0          \n",
      "    zlib:       1.2.8-3                \n",
      "\n",
      "Copying /home/main/AutoWIG/doc/examples/basic to /home/main/miniconda/conda-bld/work\n",
      "BUILD START: python-basic-1.0.0-0\n",
      "Package: python-basic-1.0.0-0\n",
      "source tree in: /home/main/miniconda/conda-bld/work\n",
      "found egg dir: /home/main/miniconda/envs/_build/lib/python2.7/site-packages/basic-1.0.0-py2.7.egg\n",
      "number of files: 11\n",
      "Fixing permissions\n",
      "patchelf: file: /home/main/miniconda/envs/_build/lib/python2.7/site-packages/basic/__module.so\n",
      "    setting rpath to: $ORIGIN/../../..\n",
      "Fixing permissions\n",
      "BUILD END: python-basic-1.0.0-0\n",
      "Nothing to test for: python-basic-1.0.0-0\n",
      "# If you want to upload this package to anaconda.org later, type:\n",
      "#\n",
      "# $ anaconda upload /home/main/miniconda/conda-bld/linux-64/python-basic-1.0.0-0.tar.bz2\n",
      "#\n",
      "# To have conda build upload to anaconda.org automatically, use\n",
      "# $ conda config --set anaconda_upload yes\n",
      "\n",
      "Fetching package metadata ...........\n",
      "Solving package specifications: ..........\n",
      "\n",
      "Package plan for installation in environment /home/main/miniconda:\n",
      "\n",
      "The following packages will be downloaded:\n",
      "\n",
      "    package                    |            build\n",
      "    ---------------------------|-----------------\n",
      "    python-basic-1.0.0         |                0          84 KB  local\n",
      "\n",
      "The following NEW packages will be INSTALLED:\n",
      "\n",
      "    python-basic: 1.0.0-0 local\n",
      "\n"
     ]
    }
   ],
   "source": [
    "%%bash --err error\n",
    "conda build -q basic/conda/python-basic -c statiskit\n",
    "conda install -y -q python-basic --use-local -c statiskit"
   ]
  },
  {
   "cell_type": "markdown",
   "metadata": {},
   "source": [
    "Finally, we can hereafter use the *C++* library in the *Python* interpreter."
   ]
  },
  {
   "cell_type": "code",
   "execution_count": 9,
   "metadata": {
    "collapsed": false
   },
   "outputs": [
    {
     "data": {
      "text/latex": [
       "$\\mathcal{B}\\left(1, 0.5\\right)$"
      ],
      "text/plain": [
       "<basic.__module.BinomialDistribution at 0x7f6874066998>"
      ]
     },
     "execution_count": 9,
     "metadata": {},
     "output_type": "execute_result"
    }
   ],
   "source": [
    "import basic\n",
    "binomial = basic.BinomialDistribution(1, .5)\n",
    "binomial"
   ]
  },
  {
   "cell_type": "code",
   "execution_count": 10,
   "metadata": {
    "collapsed": false
   },
   "outputs": [
    {
     "data": {
      "text/plain": [
       "0.5"
      ]
     },
     "execution_count": 10,
     "metadata": {},
     "output_type": "execute_result"
    }
   ],
   "source": [
    "binomial.pmf(0)"
   ]
  },
  {
   "cell_type": "code",
   "execution_count": 11,
   "metadata": {
    "collapsed": false
   },
   "outputs": [
    {
     "data": {
      "text/plain": [
       "0.5"
      ]
     },
     "execution_count": 11,
     "metadata": {},
     "output_type": "execute_result"
    }
   ],
   "source": [
    "binomial.pmf(1)"
   ]
  },
  {
   "cell_type": "code",
   "execution_count": 12,
   "metadata": {
    "collapsed": true
   },
   "outputs": [
    {
     "data": {
      "text/latex": [
       "$\\mathcal{B}\\left(0, 0.5\\right)$"
      ],
      "text/plain": [
       "<basic.__module.BinomialDistribution at 0x7f6874066998>"
      ]
     },
     "execution_count": 12,
     "metadata": {},
     "output_type": "execute_result"
    }
   ],
   "source": [
    "binomial.n = 0\n",
    "binomial"
   ]
  },
  {
   "cell_type": "code",
   "execution_count": 13,
   "metadata": {
    "collapsed": false
   },
   "outputs": [
    {
     "data": {
      "text/plain": [
       "1.0"
      ]
     },
     "execution_count": 13,
     "metadata": {},
     "output_type": "execute_result"
    }
   ],
   "source": [
    "binomial.pmf(0)"
   ]
  },
  {
   "cell_type": "code",
   "execution_count": 14,
   "metadata": {
    "collapsed": false
   },
   "outputs": [
    {
     "name": "stdout",
     "output_type": "stream",
     "text": [
      "a probability must be in the interval [0,1]\n"
     ]
    },
    {
     "name": "stderr",
     "output_type": "stream",
     "text": [
      "/home/main/miniconda/lib/python2.7/site-packages/ipykernel/__main__.py:4: DeprecationWarning: BaseException.message has been deprecated as of Python 2.6\n"
     ]
    }
   ],
   "source": [
    "try:\n",
    "    binomial.set_pi(1.1)\n",
    "except basic.ProbabilityError as error:\n",
    "    print error.message\n",
    "else:\n",
    "    raise Exception('A `basic.ProbabilityError` should have been raise')"
   ]
  }
 ],
 "metadata": {
  "anaconda-cloud": {},
  "kernelspec": {
   "display_name": "Python [default]",
   "language": "python",
   "name": "python2"
  },
  "language_info": {
   "codemirror_mode": {
    "name": "ipython",
    "version": 2
   },
   "file_extension": ".py",
   "mimetype": "text/x-python",
   "name": "python",
   "nbconvert_exporter": "python",
   "pygments_lexer": "ipython2",
   "version": "2.7.12"
  }
 },
 "nbformat": 4,
 "nbformat_minor": 0
}
