{
 "cells": [
  {
   "cell_type": "markdown",
   "metadata": {},
   "source": [
    "# Wrapping a basic library\n",
    "\n",
    "We here aim at presenting the interactive wrapping workflow.\n",
    "For the sake of simplicity, we consider a basic example of *C++* library."
   ]
  },
  {
   "cell_type": "markdown",
   "metadata": {},
   "source": [
    "First, import **AutoWIG**."
   ]
  },
  {
   "cell_type": "code",
   "execution_count": 1,
   "metadata": {
    "collapsed": true
   },
   "outputs": [],
   "source": [
    "import autowig"
   ]
  },
  {
   "cell_type": "markdown",
   "metadata": {},
   "source": [
    "Then, to install and compile the *C++* library we use available **Conda** recipes."
   ]
  },
  {
   "cell_type": "code",
   "execution_count": 2,
   "metadata": {},
   "outputs": [
    {
     "name": "stdout",
     "output_type": "stream",
     "text": [
      "scons: Reading SConscript files ...\n",
      "scons: done reading SConscript files.\n",
      "scons: Building targets ...\n",
      "Install file: \"build/cpp/base.h\" as \"/home/pfernique/.miniconda/conda-bld/libbasic_1494317428769/_b_env_placehold_placehold_placehold_placehold_placehold_placehold_placehold_placehold_placehold_placehold_placehold_placehold_placehold_placehold_placehold_placehold_placehold_placehold_placehol/include/basic/base.h\"\n",
      "Install file: \"build/cpp/binomial.h\" as \"/home/pfernique/.miniconda/conda-bld/libbasic_1494317428769/_b_env_placehold_placehold_placehold_placehold_placehold_placehold_placehold_placehold_placehold_placehold_placehold_placehold_placehold_placehold_placehold_placehold_placehold_placehold_placehol/include/basic/binomial.h\"\n",
      "Install file: \"build/cpp/overload.h\" as \"/home/pfernique/.miniconda/conda-bld/libbasic_1494317428769/_b_env_placehold_placehold_placehold_placehold_placehold_placehold_placehold_placehold_placehold_placehold_placehold_placehold_placehold_placehold_placehold_placehold_placehold_placehold_placehol/include/basic/overload.h\"\n",
      "g++ -o build/cpp/overload.os -c -x c++ -std=c++11 -fmax-errors=0 -Wl,--no-undefined -fvisibility=hidden -fPIC -DLIBBASIC -I/home/pfernique/.miniconda/conda-bld/libbasic_1494317428769/_b_env_placehold_placehold_placehold_placehold_placehold_placehold_placehold_placehold_placehold_placehold_placehold_placehold_placehold_placehold_placehold_placehold_placehold_placehold_placehol/include build/cpp/overload.cpp\n",
      "g++ -o build/cpp/binomial.os -c -x c++ -std=c++11 -fmax-errors=0 -Wl,--no-undefined -fvisibility=hidden -fPIC -DLIBBASIC -I/home/pfernique/.miniconda/conda-bld/libbasic_1494317428769/_b_env_placehold_placehold_placehold_placehold_placehold_placehold_placehold_placehold_placehold_placehold_placehold_placehold_placehold_placehold_placehold_placehold_placehold_placehold_placehol/include build/cpp/binomial.cpp\n",
      "g++ -o /home/pfernique/.miniconda/conda-bld/libbasic_1494317428769/_b_env_placehold_placehold_placehold_placehold_placehold_placehold_placehold_placehold_placehold_placehold_placehold_placehold_placehold_placehold_placehold_placehold_placehold_placehold_placehol/lib/libbasic.so -shared build/cpp/binomial.os build/cpp/overload.os -L/home/pfernique/.miniconda/conda-bld/libbasic_1494317428769/_b_env_placehold_placehold_placehold_placehold_placehold_placehold_placehold_placehold_placehold_placehold_placehold_placehold_placehold_placehold_placehold_placehold_placehold_placehold_placehol/lib\n",
      "scons: done building targets.\n",
      "BUILD START: libbasic-1.0.0-0\n",
      "    (actual version deferred until further download or env creation)\n",
      "\n",
      "The following NEW packages will be INSTALLED:\n",
      "\n",
      "    libdev:       1.0.0-py27_0  local\n",
      "    openssl:      1.0.2k-1           \n",
      "    path.py:      10.3.1-py27_0      \n",
      "    pip:          9.0.1-py27_1       \n",
      "    python:       2.7.13-0           \n",
      "    python-scons: 2.5.0-py27_0  local\n",
      "    pyyaml:       3.12-py27_0        \n",
      "    readline:     6.2-2              \n",
      "    setuptools:   27.2.0-py27_0      \n",
      "    sqlite:       3.13.0-0           \n",
      "    tk:           8.5.18-0           \n",
      "    wheel:        0.29.0-py27_0      \n",
      "    yaml:         0.1.6-0            \n",
      "    zlib:         1.2.8-3            \n",
      "\n",
      "BUILD START (revised): libbasic-1.0.0-0\n",
      "Package: libbasic-1.0.0-0\n",
      "source tree in: /home/pfernique/.miniconda/conda-bld/libbasic_1494317428769/work\n",
      "number of files: 4\n",
      "Fixing permissions\n",
      "patchelf: file: /home/pfernique/.miniconda/conda-bld/libbasic_1494317428769/_b_env_placehold_placehold_placehold_placehold_placehold_placehold_placehold_placehold_placehold_placehold_placehold_placehold_placehold_placehold_placehold_placehold_placehold_placehold_placehol/lib/libbasic.so\n",
      "    setting rpath to: $ORIGIN/.\n",
      "Fixing permissions\n",
      "/home/pfernique/.miniconda/conda-bld/linux-64/libbasic-1.0.0-0.tar.bz2\n",
      "Nothing to test for: /home/pfernique/.miniconda/conda-bld/linux-64/libbasic-1.0.0-0.tar.bz2\n",
      "# If you want to upload package(s) to anaconda.org later, type:\n",
      "\n",
      "anaconda upload /home/pfernique/.miniconda/conda-bld/linux-64/libbasic-1.0.0-0.tar.bz2\n",
      "\n",
      "# To have conda build upload to anaconda.org automatically, use\n",
      "# $ conda config --set anaconda_upload yes\n",
      "\n",
      "anaconda_upload is not set.  Not uploading wheels: []\n",
      "\n",
      "\n",
      "\n",
      "####################################################################################\n",
      "Source and build intermediates have been left in /home/pfernique/.miniconda/conda-bld.\n",
      "There are currently 293 accumulated.\n",
      "To remove them, you can run the ```conda build purge``` command\n",
      "Fetching package metadata .............\n",
      "Solving package specifications: .\n",
      "\n",
      "# All requested packages already installed.\n",
      "# packages in environment at /home/pfernique/.miniconda/envs/statiskit-dev:\n",
      "#\n",
      "libbasic                  1.0.0                         0    local\n"
     ]
    }
   ],
   "source": [
    "%%bash --err error\n",
    "conda build -q basic/conda/libbasic -c statiskit\n",
    "conda install -y -q libbasic --use-local -c statiskit"
   ]
  },
  {
   "cell_type": "markdown",
   "metadata": {},
   "source": [
    "Once the headers have been installed in the system, we parse them with relevant compilation flags."
   ]
  },
  {
   "cell_type": "code",
   "execution_count": 3,
   "metadata": {},
   "outputs": [
    {
     "name": "stdout",
     "output_type": "stream",
     "text": [
      "CPU times: user 120 ms, sys: 40 ms, total: 160 ms\n",
      "Wall time: 195 ms\n"
     ]
    }
   ],
   "source": [
    "%%time\n",
    "import sys\n",
    "asg = autowig.AbstractSemanticGraph()\n",
    "asg = autowig.parser(asg, [sys.prefix + '/include/basic/overload.h',\n",
    "                           sys.prefix + '/include/basic/binomial.h'],\n",
    "                          ['-x', 'c++', '-std=c++11'],\n",
    "                          silent = True)"
   ]
  },
  {
   "cell_type": "markdown",
   "metadata": {},
   "source": [
    "Since most of **AutoWIG** guidelines are respected, the `default` `controller` implementation is suitable."
   ]
  },
  {
   "cell_type": "code",
   "execution_count": 4,
   "metadata": {},
   "outputs": [
    {
     "name": "stdout",
     "output_type": "stream",
     "text": [
      "CPU times: user 68 ms, sys: 0 ns, total: 68 ms\n",
      "Wall time: 67.2 ms\n"
     ]
    }
   ],
   "source": [
    "%%time\n",
    "autowig.controller.plugin = 'default'\n",
    "asg = autowig.controller(asg)"
   ]
  },
  {
   "cell_type": "markdown",
   "metadata": {},
   "source": [
    "In order to wrap the library we need to select the `boost_python_internal` `generator` implementation."
   ]
  },
  {
   "cell_type": "code",
   "execution_count": 5,
   "metadata": {},
   "outputs": [
    {
     "name": "stdout",
     "output_type": "stream",
     "text": [
      "CPU times: user 40 ms, sys: 4 ms, total: 44 ms\n",
      "Wall time: 45.3 ms\n"
     ]
    }
   ],
   "source": [
    "%%time\n",
    "autowig.generator.plugin = 'boost_python_internal'\n",
    "wrappers = autowig.generator(asg,\n",
    "                             module = 'basic/src/py/_basic.cpp',\n",
    "                             decorator = 'basic/src/py/basic/_basic.py',\n",
    "                             prefix = 'wrapper_')"
   ]
  },
  {
   "cell_type": "markdown",
   "metadata": {},
   "source": [
    "The wrappers are only generated in-memory.\n",
    "It is therefore needed to write them on the disk to complete the process."
   ]
  },
  {
   "cell_type": "code",
   "execution_count": 6,
   "metadata": {},
   "outputs": [
    {
     "name": "stdout",
     "output_type": "stream",
     "text": [
      "CPU times: user 356 ms, sys: 428 ms, total: 784 ms\n",
      "Wall time: 1.94 s\n"
     ]
    }
   ],
   "source": [
    "%%time\n",
    "wrappers.write()"
   ]
  },
  {
   "cell_type": "markdown",
   "metadata": {},
   "source": [
    "Here is an example of the generated wrappers.\n",
    "We here present the wrappers for the `BinomialDistribution` class."
   ]
  },
  {
   "cell_type": "code",
   "execution_count": 7,
   "metadata": {},
   "outputs": [
    {
     "name": "stdout",
     "output_type": "stream",
     "text": [
      "\u001b[36m#\u001b[39;49;00m\u001b[36minclude\u001b[39;49;00m \u001b[37m\"_basic.h\"\u001b[39;49;00m\u001b[36m\u001b[39;49;00m\n",
      "\n",
      "\n",
      "\n",
      "\u001b[34mnamespace\u001b[39;49;00m autowig\n",
      "{\n",
      "\n",
      "}\n",
      "\n",
      "\u001b[36m#\u001b[39;49;00m\u001b[36mif defined(_MSC_VER)\u001b[39;49;00m\u001b[36m\u001b[39;49;00m\n",
      "    \u001b[36m#\u001b[39;49;00m\u001b[36mif (_MSC_VER == 1900)\u001b[39;49;00m\u001b[36m\u001b[39;49;00m\n",
      "\u001b[34mnamespace\u001b[39;49;00m boost\n",
      "{\n",
      "    \u001b[34mtemplate\u001b[39;49;00m <> \u001b[34mclass\u001b[39;49;00m \u001b[04m\u001b[31;01m:\u001b[39;49;00m\u001b[04m\u001b[31;01m:\u001b[39;49;00m\u001b[04m\u001b[32mBinomialDistribution\u001b[39;49;00m \u001b[34mconst\u001b[39;49;00m \u001b[34mvolatile\u001b[39;49;00m * get_pointer<\u001b[34mclass\u001b[39;49;00m \u001b[04m\u001b[31;01m:\u001b[39;49;00m\u001b[04m\u001b[31;01m:\u001b[39;49;00m\u001b[04m\u001b[32mBinomialDistribution\u001b[39;49;00m \u001b[34mconst\u001b[39;49;00m \u001b[34mvolatile\u001b[39;49;00m >(\u001b[34mclass\u001b[39;49;00m \u001b[04m\u001b[31;01m:\u001b[39;49;00m\u001b[04m\u001b[31;01m:\u001b[39;49;00m\u001b[04m\u001b[32mBinomialDistribution\u001b[39;49;00m \u001b[34mconst\u001b[39;49;00m \u001b[34mvolatile\u001b[39;49;00m *c) { \u001b[34mreturn\u001b[39;49;00m c; }\n",
      "}\n",
      "    \u001b[36m#\u001b[39;49;00m\u001b[36mendif\u001b[39;49;00m\u001b[36m\u001b[39;49;00m\n",
      "\u001b[36m#\u001b[39;49;00m\u001b[36mendif\u001b[39;49;00m\u001b[36m\u001b[39;49;00m\n",
      "\n",
      "\n",
      "\n",
      "\u001b[36mvoid\u001b[39;49;00m wrapper_4046a8421fe9587c9dfbc97778162c7d()\n",
      "{\n",
      "\n",
      "    \u001b[36mdouble\u001b[39;49;00m  (::BinomialDistribution::*method_pointer_3a3ff64f25e358a6a10b1cd3b3425b82)(\u001b[36munsigned\u001b[39;49;00m \u001b[36mint\u001b[39;49;00m \u001b[34mconst\u001b[39;49;00m) \u001b[34mconst\u001b[39;49;00m = &::BinomialDistribution::pmf;\n",
      "    \u001b[36mdouble\u001b[39;49;00m  (::BinomialDistribution::*method_pointer_3c97a500c9575c259d5cbdd76120ff4f)() \u001b[34mconst\u001b[39;49;00m = &::BinomialDistribution::get_pi;\n",
      "    \u001b[36mvoid\u001b[39;49;00m  (::BinomialDistribution::*method_pointer_d364a0529e33516f8ecbb7dcedd60aa0)(\u001b[36mdouble\u001b[39;49;00m \u001b[34mconst\u001b[39;49;00m) = &::BinomialDistribution::set_pi;\n",
      "    boost::python::class_< \u001b[34mclass\u001b[39;49;00m \u001b[04m\u001b[31;01m:\u001b[39;49;00m\u001b[04m\u001b[31;01m:\u001b[39;49;00m\u001b[04m\u001b[32mBinomialDistribution\u001b[39;49;00m, autowig::Held< \u001b[34mclass\u001b[39;49;00m \u001b[04m\u001b[31;01m:\u001b[39;49;00m\u001b[04m\u001b[31;01m:\u001b[39;49;00m\u001b[04m\u001b[32mBinomialDistribution\u001b[39;49;00m >::Type > class_4046a8421fe9587c9dfbc97778162c7d(\u001b[33m\"\u001b[39;49;00m\u001b[33mBinomialDistribution\u001b[39;49;00m\u001b[33m\"\u001b[39;49;00m, \u001b[33m\"\u001b[39;49;00m\u001b[33m\"\u001b[39;49;00m, boost::python::no_init);\n",
      "    class_4046a8421fe9587c9dfbc97778162c7d.def(boost::python::init< \u001b[36munsigned\u001b[39;49;00m \u001b[36mint\u001b[39;49;00m \u001b[34mconst\u001b[39;49;00m, \u001b[36mdouble\u001b[39;49;00m \u001b[34mconst\u001b[39;49;00m >(\u001b[33m\"\u001b[39;49;00m\u001b[33m\"\u001b[39;49;00m));\n",
      "    class_4046a8421fe9587c9dfbc97778162c7d.def(boost::python::init< \u001b[34mclass\u001b[39;49;00m \u001b[04m\u001b[31;01m:\u001b[39;49;00m\u001b[04m\u001b[31;01m:\u001b[39;49;00m\u001b[04m\u001b[32mBinomialDistribution\u001b[39;49;00m \u001b[34mconst\u001b[39;49;00m & >(\u001b[33m\"\u001b[39;49;00m\u001b[33m\"\u001b[39;49;00m));\n",
      "    class_4046a8421fe9587c9dfbc97778162c7d.def(\u001b[33m\"\u001b[39;49;00m\u001b[33mpmf\u001b[39;49;00m\u001b[33m\"\u001b[39;49;00m, method_pointer_3a3ff64f25e358a6a10b1cd3b3425b82, \u001b[33m\"\u001b[39;49;00m\u001b[33mCompute the probability of a value\u001b[39;49;00m\u001b[33m\\n\u001b[39;49;00m\u001b[33m\\n\u001b[39;49;00m\u001b[33mThe probability is given by the flowwing formula\u001b[39;49;00m\u001b[33m\\n\u001b[39;49;00m\u001b[33m:cite:`{JKK96}`\u001b[39;49;00m\u001b[33m\\n\u001b[39;49;00m\u001b[33m\\n\u001b[39;49;00m\u001b[33m:Parameter:\u001b[39;49;00m\u001b[33m\\n\u001b[39;49;00m\u001b[33m    `value` (:cpp:any:`unsigned` int) - Undocumented\u001b[39;49;00m\u001b[33m\\n\u001b[39;49;00m\u001b[33m\\n\u001b[39;49;00m\u001b[33m:Returns:\u001b[39;49;00m\u001b[33m\\n\u001b[39;49;00m\u001b[33m    The probability\u001b[39;49;00m\u001b[33m\\n\u001b[39;49;00m\u001b[33m\\n\u001b[39;49;00m\u001b[33m:Return Type:\u001b[39;49;00m\u001b[33m\\n\u001b[39;49;00m\u001b[33m    :cpp:any:`double`\u001b[39;49;00m\u001b[33m\\n\u001b[39;49;00m\u001b[33m\\n\u001b[39;49;00m\u001b[33m\"\u001b[39;49;00m);\n",
      "    class_4046a8421fe9587c9dfbc97778162c7d.def(\u001b[33m\"\u001b[39;49;00m\u001b[33mget_pi\u001b[39;49;00m\u001b[33m\"\u001b[39;49;00m, method_pointer_3c97a500c9575c259d5cbdd76120ff4f, \u001b[33m\"\u001b[39;49;00m\u001b[33m\"\u001b[39;49;00m);\n",
      "    class_4046a8421fe9587c9dfbc97778162c7d.def(\u001b[33m\"\u001b[39;49;00m\u001b[33mset_pi\u001b[39;49;00m\u001b[33m\"\u001b[39;49;00m, method_pointer_d364a0529e33516f8ecbb7dcedd60aa0, \u001b[33m\"\u001b[39;49;00m\u001b[33m:Parameter:\u001b[39;49;00m\u001b[33m\\n\u001b[39;49;00m\u001b[33m    `pi` (:cpp:any:`double`) - New probability value\u001b[39;49;00m\u001b[33m\\n\u001b[39;49;00m\u001b[33m\\n\u001b[39;49;00m\u001b[33m:Return Type:\u001b[39;49;00m\u001b[33m\\n\u001b[39;49;00m\u001b[33m    :cpp:any:`void`\u001b[39;49;00m\u001b[33m\\n\u001b[39;49;00m\u001b[33m\\n\u001b[39;49;00m\u001b[33m:Raises:\u001b[39;49;00m\u001b[33m\\n\u001b[39;49;00m\u001b[33m    :cpp:any:`\u001b[39;49;00m\u001b[33m\\\\\u001b[39;49;00m\u001b[33mref` - ::ProbabilityError If the new probability value is not in the interval\u001b[39;49;00m\u001b[33m\\n\u001b[39;49;00m\u001b[33m                      :math:`\u001b[39;49;00m\u001b[33m\\\\\u001b[39;49;00m\u001b[33mleft[0,1\u001b[39;49;00m\u001b[33m\\\\\u001b[39;49;00m\u001b[33mright]`\u001b[39;49;00m\u001b[33m\\n\u001b[39;49;00m\u001b[33m\\n\u001b[39;49;00m\u001b[33m.. warning::\u001b[39;49;00m\u001b[33m\\n\u001b[39;49;00m\u001b[33m\\n\u001b[39;49;00m\u001b[33m    The probability value must be in the interval :math:`\u001b[39;49;00m\u001b[33m\\\\\u001b[39;49;00m\u001b[33mleft[0,1\u001b[39;49;00m\u001b[33m\\\\\u001b[39;49;00m\u001b[33mright]`\u001b[39;49;00m\u001b[33m\\n\u001b[39;49;00m\u001b[33m\\n\u001b[39;49;00m\u001b[33m\"\u001b[39;49;00m);\n",
      "    class_4046a8421fe9587c9dfbc97778162c7d.def_readwrite(\u001b[33m\"\u001b[39;49;00m\u001b[33mn\u001b[39;49;00m\u001b[33m\"\u001b[39;49;00m, &::BinomialDistribution::n, \u001b[33m\"\u001b[39;49;00m\u001b[33m\"\u001b[39;49;00m);\n",
      "\n",
      "}\n"
     ]
    }
   ],
   "source": [
    "%%bash\n",
    "pygmentize basic/src/py/wrapper_4046a8421fe9587c9dfbc97778162c7d.cpp"
   ]
  },
  {
   "cell_type": "markdown",
   "metadata": {},
   "source": [
    "Once the wrappers are written on disk, we need to compile and install the *Python* bindings."
   ]
  },
  {
   "cell_type": "code",
   "execution_count": 8,
   "metadata": {},
   "outputs": [
    {
     "name": "stdout",
     "output_type": "stream",
     "text": [
      "scons: Reading SConscript files ...\n",
      "scons: done reading SConscript files.\n",
      "scons: Building targets ...\n",
      "g++ -o build/py/_basic.h.gch -x c++-header -c -fPIC -std=c++11 -DBOOST_PYTHON_DYNAMIC_LIB -DBOOST_ALL_NO_LIB -I/home/pfernique/.miniconda/conda-bld/python-basic_1494317441975/_b_env_placehold_placehold_placehold_placehold_placehold_placehold_placehold_placehold_placehold_placehold_placehold_placehold_placehold_placehold_placehold_placehold_placehold_placehold_plac/include -I/home/pfernique/.miniconda/conda-bld/python-basic_1494317441975/_b_env_placehold_placehold_placehold_placehold_placehold_placehold_placehold_placehold_placehold_placehold_placehold_placehold_placehold_placehold_placehold_placehold_placehold_placehold_plac/include/python2.7 build/py/_basic.h\n",
      "Creating 'build/py/response_file.rsp'\n",
      "Install file: \"build/cpp/base.h\" as \"/home/pfernique/.miniconda/conda-bld/python-basic_1494317441975/_b_env_placehold_placehold_placehold_placehold_placehold_placehold_placehold_placehold_placehold_placehold_placehold_placehold_placehold_placehold_placehold_placehold_placehold_placehold_plac/include/basic/base.h\"\n",
      "Install file: \"build/cpp/binomial.h\" as \"/home/pfernique/.miniconda/conda-bld/python-basic_1494317441975/_b_env_placehold_placehold_placehold_placehold_placehold_placehold_placehold_placehold_placehold_placehold_placehold_placehold_placehold_placehold_placehold_placehold_placehold_placehold_plac/include/basic/binomial.h\"\n",
      "Install file: \"build/cpp/overload.h\" as \"/home/pfernique/.miniconda/conda-bld/python-basic_1494317441975/_b_env_placehold_placehold_placehold_placehold_placehold_placehold_placehold_placehold_placehold_placehold_placehold_placehold_placehold_placehold_placehold_placehold_placehold_placehold_plac/include/basic/overload.h\"\n",
      "g++ -o build/cpp/overload.os -c -x c++ -std=c++11 -fmax-errors=0 -Wl,--no-undefined -fvisibility=hidden -fPIC -DLIBBASIC -I/home/pfernique/.miniconda/conda-bld/python-basic_1494317441975/_b_env_placehold_placehold_placehold_placehold_placehold_placehold_placehold_placehold_placehold_placehold_placehold_placehold_placehold_placehold_placehold_placehold_placehold_placehold_plac/include build/cpp/overload.cpp\n",
      "g++ -o build/cpp/binomial.os -c -x c++ -std=c++11 -fmax-errors=0 -Wl,--no-undefined -fvisibility=hidden -fPIC -DLIBBASIC -I/home/pfernique/.miniconda/conda-bld/python-basic_1494317441975/_b_env_placehold_placehold_placehold_placehold_placehold_placehold_placehold_placehold_placehold_placehold_placehold_placehold_placehold_placehold_placehold_placehold_placehold_placehold_plac/include build/cpp/binomial.cpp\n",
      "g++ -o /home/pfernique/.miniconda/conda-bld/python-basic_1494317441975/_b_env_placehold_placehold_placehold_placehold_placehold_placehold_placehold_placehold_placehold_placehold_placehold_placehold_placehold_placehold_placehold_placehold_placehold_placehold_plac/lib/libbasic.so -shared build/cpp/binomial.os build/cpp/overload.os -L/home/pfernique/.miniconda/conda-bld/python-basic_1494317441975/_b_env_placehold_placehold_placehold_placehold_placehold_placehold_placehold_placehold_placehold_placehold_placehold_placehold_placehold_placehold_placehold_placehold_placehold_placehold_plac/lib\n",
      "Install file: \"src/py/basic/_basic.py\" as \"/home/pfernique/.miniconda/conda-bld/python-basic_1494317441975/_b_env_placehold_placehold_placehold_placehold_placehold_placehold_placehold_placehold_placehold_placehold_placehold_placehold_placehold_placehold_placehold_placehold_placehold_placehold_plac/lib/python2.7/site-packages/basic/_basic.py\"\n",
      "Install file: \"src/py/basic/__init__.py\" as \"/home/pfernique/.miniconda/conda-bld/python-basic_1494317441975/_b_env_placehold_placehold_placehold_placehold_placehold_placehold_placehold_placehold_placehold_placehold_placehold_placehold_placehold_placehold_placehold_placehold_placehold_placehold_plac/lib/python2.7/site-packages/basic/__init__.py\"\n",
      "g++ -o build/py/wrapper_f926cb231a7f5da09f313cd361ff94c7.os -c -x c++ -std=c++11 -fmax-errors=0 -Wl,--no-undefined -fvisibility=hidden -fPIC -DBOOST_PYTHON_DYNAMIC_LIB -DBOOST_ALL_NO_LIB -I/home/pfernique/.miniconda/conda-bld/python-basic_1494317441975/_b_env_placehold_placehold_placehold_placehold_placehold_placehold_placehold_placehold_placehold_placehold_placehold_placehold_placehold_placehold_placehold_placehold_placehold_placehold_plac/include -I/home/pfernique/.miniconda/conda-bld/python-basic_1494317441975/_b_env_placehold_placehold_placehold_placehold_placehold_placehold_placehold_placehold_placehold_placehold_placehold_placehold_placehold_placehold_placehold_placehold_placehold_placehold_plac/include/python2.7 build/py/wrapper_f926cb231a7f5da09f313cd361ff94c7.cpp\n",
      "g++ -o build/py/wrapper_0f744e8d056f5d469a887c7c78eaf8fe.os -c -x c++ -std=c++11 -fmax-errors=0 -Wl,--no-undefined -fvisibility=hidden -fPIC -DBOOST_PYTHON_DYNAMIC_LIB -DBOOST_ALL_NO_LIB -I/home/pfernique/.miniconda/conda-bld/python-basic_1494317441975/_b_env_placehold_placehold_placehold_placehold_placehold_placehold_placehold_placehold_placehold_placehold_placehold_placehold_placehold_placehold_placehold_placehold_placehold_placehold_plac/include -I/home/pfernique/.miniconda/conda-bld/python-basic_1494317441975/_b_env_placehold_placehold_placehold_placehold_placehold_placehold_placehold_placehold_placehold_placehold_placehold_placehold_placehold_placehold_placehold_placehold_placehold_placehold_plac/include/python2.7 build/py/wrapper_0f744e8d056f5d469a887c7c78eaf8fe.cpp\n",
      "g++ -o build/py/wrapper_4046a8421fe9587c9dfbc97778162c7d.os -c -x c++ -std=c++11 -fmax-errors=0 -Wl,--no-undefined -fvisibility=hidden -fPIC -DBOOST_PYTHON_DYNAMIC_LIB -DBOOST_ALL_NO_LIB -I/home/pfernique/.miniconda/conda-bld/python-basic_1494317441975/_b_env_placehold_placehold_placehold_placehold_placehold_placehold_placehold_placehold_placehold_placehold_placehold_placehold_placehold_placehold_placehold_placehold_placehold_placehold_plac/include -I/home/pfernique/.miniconda/conda-bld/python-basic_1494317441975/_b_env_placehold_placehold_placehold_placehold_placehold_placehold_placehold_placehold_placehold_placehold_placehold_placehold_placehold_placehold_placehold_placehold_placehold_placehold_plac/include/python2.7 build/py/wrapper_4046a8421fe9587c9dfbc97778162c7d.cpp\n",
      "g++ -o build/py/wrapper_92d464d1243554009adc48a065a5be3e.os -c -x c++ -std=c++11 -fmax-errors=0 -Wl,--no-undefined -fvisibility=hidden -fPIC -DBOOST_PYTHON_DYNAMIC_LIB -DBOOST_ALL_NO_LIB -I/home/pfernique/.miniconda/conda-bld/python-basic_1494317441975/_b_env_placehold_placehold_placehold_placehold_placehold_placehold_placehold_placehold_placehold_placehold_placehold_placehold_placehold_placehold_placehold_placehold_placehold_placehold_plac/include -I/home/pfernique/.miniconda/conda-bld/python-basic_1494317441975/_b_env_placehold_placehold_placehold_placehold_placehold_placehold_placehold_placehold_placehold_placehold_placehold_placehold_placehold_placehold_placehold_placehold_placehold_placehold_plac/include/python2.7 build/py/wrapper_92d464d1243554009adc48a065a5be3e.cpp\n",
      "g++ -o build/py/_basic.os -c -x c++ -std=c++11 -fmax-errors=0 -Wl,--no-undefined -fvisibility=hidden -fPIC -DBOOST_PYTHON_DYNAMIC_LIB -DBOOST_ALL_NO_LIB -I/home/pfernique/.miniconda/conda-bld/python-basic_1494317441975/_b_env_placehold_placehold_placehold_placehold_placehold_placehold_placehold_placehold_placehold_placehold_placehold_placehold_placehold_placehold_placehold_placehold_placehold_placehold_plac/include -I/home/pfernique/.miniconda/conda-bld/python-basic_1494317441975/_b_env_placehold_placehold_placehold_placehold_placehold_placehold_placehold_placehold_placehold_placehold_placehold_placehold_placehold_placehold_placehold_placehold_placehold_placehold_plac/include/python2.7 build/py/_basic.cpp\n",
      "gcc -o /home/pfernique/.miniconda/conda-bld/python-basic_1494317441975/_b_env_placehold_placehold_placehold_placehold_placehold_placehold_placehold_placehold_placehold_placehold_placehold_placehold_placehold_placehold_placehold_placehold_placehold_placehold_plac/lib/python2.7/site-packages/basic/__basic.so @/home/pfernique/.miniconda/conda-bld/python-basic_1494317441975/work/build/py/response_file.rsp -shared -Wl,-Bsymbolic -Wl,-soname=__basic.so -L/home/pfernique/.miniconda/conda-bld/python-basic_1494317441975/_b_env_placehold_placehold_placehold_placehold_placehold_placehold_placehold_placehold_placehold_placehold_placehold_placehold_placehold_placehold_placehold_placehold_placehold_placehold_plac/lib -lboost_python -lpython2.7 -lbasic\n",
      "scons: done building targets.\n",
      "BUILD START: python-basic-1.0.0-py27_0\n",
      "    (actual version deferred until further download or env creation)\n",
      "\n",
      "The following NEW packages will be INSTALLED:\n",
      "\n",
      "    coverage:     4.3.4-py27_0       \n",
      "    icu:          54.1-0             \n",
      "    libbasic:     1.0.0-0       local\n",
      "    libboost:     1.61.0-py27_0 local\n",
      "    libdev:       1.0.0-py27_0  local\n",
      "    librun:       1.0.0-py27_0  local\n",
      "    nose:         1.3.7-py27_1       \n",
      "    openssl:      1.0.2k-1           \n",
      "    path.py:      10.3.1-py27_0      \n",
      "    pip:          9.0.1-py27_1       \n",
      "    python:       2.7.13-0           \n",
      "    python-dev:   1.0.0-py27_0  local\n",
      "    python-scons: 2.5.0-py27_0  local\n",
      "    pyyaml:       3.12-py27_0        \n",
      "    readline:     6.2-2              \n",
      "    setuptools:   27.2.0-py27_0      \n",
      "    sqlite:       3.13.0-0           \n",
      "    tk:           8.5.18-0           \n",
      "    wheel:        0.29.0-py27_0      \n",
      "    yaml:         0.1.6-0            \n",
      "    zlib:         1.2.8-3            \n",
      "\n",
      "BUILD START (revised): python-basic-1.0.0-py27_0\n",
      "Package: python-basic-1.0.0-py27_0\n",
      "source tree in: /home/pfernique/.miniconda/conda-bld/python-basic_1494317441975/work\n",
      "compiling .pyc files...\n",
      "number of files: 5\n",
      "Fixing permissions\n",
      "patchelf: file: /home/pfernique/.miniconda/conda-bld/python-basic_1494317441975/_b_env_placehold_placehold_placehold_placehold_placehold_placehold_placehold_placehold_placehold_placehold_placehold_placehold_placehold_placehold_placehold_placehold_placehold_placehold_plac/lib/python2.7/site-packages/basic/__basic.so\n",
      "    setting rpath to: $ORIGIN/../../..\n",
      "Fixing permissions\n",
      "/home/pfernique/.miniconda/conda-bld/linux-64/python-basic-1.0.0-py27_0.tar.bz2\n",
      "TEST START: /home/pfernique/.miniconda/conda-bld/linux-64/python-basic-1.0.0-py27_0.tar.bz2\n",
      "Deleting work directory, /home/pfernique/.miniconda/conda-bld/python-basic_1494317441975/work\n",
      "\n",
      "The following NEW packages will be INSTALLED:\n",
      "\n",
      "    icu:          54.1-0             \n",
      "    libbasic:     1.0.0-0       local\n",
      "    libboost:     1.61.0-py27_0 local\n",
      "    librun:       1.0.0-py27_0  local\n",
      "    openssl:      1.0.2k-1           \n",
      "    pip:          9.0.1-py27_1       \n",
      "    python:       2.7.13-0           \n",
      "    python-basic: 1.0.0-py27_0  local\n",
      "    readline:     6.2-2              \n",
      "    setuptools:   27.2.0-py27_0      \n",
      "    sqlite:       3.13.0-0           \n",
      "    tk:           8.5.18-0           \n",
      "    wheel:        0.29.0-py27_0      \n",
      "    zlib:         1.2.8-3            \n",
      "\n",
      "TEST END: /home/pfernique/.miniconda/conda-bld/linux-64/python-basic-1.0.0-py27_0.tar.bz2\n",
      "# If you want to upload package(s) to anaconda.org later, type:\n",
      "\n",
      "anaconda upload /home/pfernique/.miniconda/conda-bld/linux-64/python-basic-1.0.0-py27_0.tar.bz2\n",
      "\n",
      "# To have conda build upload to anaconda.org automatically, use\n",
      "# $ conda config --set anaconda_upload yes\n",
      "\n",
      "anaconda_upload is not set.  Not uploading wheels: []\n",
      "\n",
      "\n",
      "\n",
      "####################################################################################\n",
      "Source and build intermediates have been left in /home/pfernique/.miniconda/conda-bld.\n",
      "There are currently 293 accumulated.\n",
      "To remove them, you can run the ```conda build purge``` command\n",
      "Fetching package metadata .............\n",
      "Solving package specifications: .\n",
      "\n",
      "Package plan for installation in environment /home/pfernique/.miniconda/envs/statiskit-dev:\n",
      "\n",
      "The following NEW packages will be INSTALLED:\n",
      "\n",
      "    python-basic: 1.0.0-py27_0 local\n",
      "\n"
     ]
    }
   ],
   "source": [
    "%%bash --err error\n",
    "conda build -q basic/conda/python-basic -c statiskit\n",
    "conda install -y -q python-basic --use-local -c statiskit --force"
   ]
  },
  {
   "cell_type": "markdown",
   "metadata": {},
   "source": [
    "Finally, we can hereafter use the *C++* library in the *Python* interpreter."
   ]
  },
  {
   "cell_type": "code",
   "execution_count": 9,
   "metadata": {},
   "outputs": [
    {
     "data": {
      "text/latex": [
       "$\\mathcal{B}\\left(1, 0.5\\right)$"
      ],
      "text/plain": [
       "<basic.__basic.BinomialDistribution at 0x7fa6505c1940>"
      ]
     },
     "execution_count": 9,
     "metadata": {},
     "output_type": "execute_result"
    }
   ],
   "source": [
    "import basic\n",
    "binomial = basic.BinomialDistribution(1, .5)\n",
    "binomial"
   ]
  },
  {
   "cell_type": "code",
   "execution_count": 10,
   "metadata": {},
   "outputs": [
    {
     "data": {
      "text/plain": [
       "0.5"
      ]
     },
     "execution_count": 10,
     "metadata": {},
     "output_type": "execute_result"
    }
   ],
   "source": [
    "binomial.pmf(0)"
   ]
  },
  {
   "cell_type": "code",
   "execution_count": 11,
   "metadata": {},
   "outputs": [
    {
     "data": {
      "text/plain": [
       "0.5"
      ]
     },
     "execution_count": 11,
     "metadata": {},
     "output_type": "execute_result"
    }
   ],
   "source": [
    "binomial.pmf(1)"
   ]
  },
  {
   "cell_type": "code",
   "execution_count": 12,
   "metadata": {},
   "outputs": [
    {
     "data": {
      "text/latex": [
       "$\\mathcal{B}\\left(0, 0.5\\right)$"
      ],
      "text/plain": [
       "<basic.__basic.BinomialDistribution at 0x7fa6505c1940>"
      ]
     },
     "execution_count": 12,
     "metadata": {},
     "output_type": "execute_result"
    }
   ],
   "source": [
    "binomial.n = 0\n",
    "binomial"
   ]
  },
  {
   "cell_type": "code",
   "execution_count": 13,
   "metadata": {},
   "outputs": [
    {
     "data": {
      "text/plain": [
       "1.0"
      ]
     },
     "execution_count": 13,
     "metadata": {},
     "output_type": "execute_result"
    }
   ],
   "source": [
    "binomial.pmf(0)"
   ]
  },
  {
   "cell_type": "code",
   "execution_count": 14,
   "metadata": {},
   "outputs": [
    {
     "ename": "AttributeError",
     "evalue": "'module' object has no attribute 'ProbabilityError'",
     "output_type": "error",
     "traceback": [
      "\u001b[0;31m---------------------------------------------------------------------------\u001b[0m",
      "\u001b[0;31mAttributeError\u001b[0m                            Traceback (most recent call last)",
      "\u001b[0;32m<ipython-input-14-1ea8b4aa653d>\u001b[0m in \u001b[0;36m<module>\u001b[0;34m()\u001b[0m\n\u001b[1;32m      1\u001b[0m \u001b[0;32mtry\u001b[0m\u001b[0;34m:\u001b[0m\u001b[0;34m\u001b[0m\u001b[0m\n\u001b[1;32m      2\u001b[0m     \u001b[0mbinomial\u001b[0m\u001b[0;34m.\u001b[0m\u001b[0mset_pi\u001b[0m\u001b[0;34m(\u001b[0m\u001b[0;36m1.1\u001b[0m\u001b[0;34m)\u001b[0m\u001b[0;34m\u001b[0m\u001b[0m\n\u001b[0;32m----> 3\u001b[0;31m \u001b[0;32mexcept\u001b[0m \u001b[0mbasic\u001b[0m\u001b[0;34m.\u001b[0m\u001b[0mProbabilityError\u001b[0m \u001b[0;32mas\u001b[0m \u001b[0merror\u001b[0m\u001b[0;34m:\u001b[0m\u001b[0;34m\u001b[0m\u001b[0m\n\u001b[0m\u001b[1;32m      4\u001b[0m     \u001b[0;32mprint\u001b[0m \u001b[0merror\u001b[0m\u001b[0;34m.\u001b[0m\u001b[0mmessage\u001b[0m\u001b[0;34m\u001b[0m\u001b[0m\n\u001b[1;32m      5\u001b[0m \u001b[0;32melse\u001b[0m\u001b[0;34m:\u001b[0m\u001b[0;34m\u001b[0m\u001b[0m\n",
      "\u001b[0;31mAttributeError\u001b[0m: 'module' object has no attribute 'ProbabilityError'"
     ]
    }
   ],
   "source": [
    "try:\n",
    "    binomial.set_pi(1.1)\n",
    "except basic.ProbabilityError as error:\n",
    "    print error.message\n",
    "else:\n",
    "    raise Exception('A `basic.ProbabilityError` should have been raise')"
   ]
  }
 ],
 "metadata": {
  "anaconda-cloud": {},
  "kernelspec": {
   "display_name": "Python 2",
   "language": "python",
   "name": "python2"
  },
  "language_info": {
   "codemirror_mode": {
    "name": "ipython",
    "version": 2
   },
   "file_extension": ".py",
   "mimetype": "text/x-python",
   "name": "python",
   "nbconvert_exporter": "python",
   "pygments_lexer": "ipython2",
   "version": "2.7.13"
  }
 },
 "nbformat": 4,
 "nbformat_minor": 1
}
