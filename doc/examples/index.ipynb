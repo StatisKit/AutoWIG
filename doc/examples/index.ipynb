{
 "cells": [
  {
   "cell_type": "markdown",
   "metadata": {
    "collapsed": true
   },
   "source": [
    "# Examples\n\nIn the following section, we present some examples using **AutoWIG** in order to emphasize particular aspects of the wrapping process.\nNote that this examples can be executed on line on `Binder <http://mybinder.org/repo/statiskit/autowig>`_
Therefore, most of the presented examples are truncated or modified for the sake of clarity and simplicity.
Nevertheless, these examples are all fully available on-line (see the supplementary materials section for details)."
   ]
  },
  {
   "cell_type": "markdown",
   "metadata": {
    "nbsphinx-toctree": {}
   },
   "source": [
    "[Subset](./subset.ipynb)"
   ]
  }
 ],
 "metadata": {
  "celltoolbar": "Edit Metadata",
  "kernelspec": {
   "display_name": "Python 2",
   "language": "python",
   "name": "python2"
  },
  "language_info": {
   "codemirror_mode": {
    "name": "ipython",
    "version": 2
   },
   "file_extension": ".py",
   "mimetype": "text/x-python",
   "name": "python",
   "nbconvert_exporter": "python",
   "pygments_lexer": "ipython2",
   "version": "2.7.12"
  }
 },
 "nbformat": 4,
 "nbformat_minor": 1
}
