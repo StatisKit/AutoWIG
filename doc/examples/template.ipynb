{
 "cells": [
  {
   "cell_type": "markdown",
   "metadata": {
    "collapsed": true
   },
   "source": [
    "# Wrapping a template library\n",
    "\n",
    "A template library is a library where there are only template classes that can be instantiated.\n",
    "Wrapping such libraries therefore requires **AutoWIG** to be able to consider various *C++* template classes instantiations during the `Parse` step.\n",
    "It is therefore required to install the `pyclanglite` `parser`."
   ]
  },
  {
   "cell_type": "code",
   "execution_count": 1,
   "metadata": {
    "collapsed": false
   },
   "outputs": [
    {
     "name": "stdout",
     "output_type": "stream",
     "text": [
      "Fetching package metadata .........\n",
      "Solving package specifications: ..........\n",
      "\n",
      "Package plan for installation in environment /home/main/miniconda:\n",
      "\n",
      "The following packages will be downloaded:\n",
      "\n",
      "    package                    |            build\n",
      "    ---------------------------|-----------------\n",
      "    conda-env-2.5.2            |           py27_0          26 KB\n",
      "\n",
      "The following packages will be SUPERCEDED by a higher-priority channel:\n",
      "\n",
      "    conda:     4.1.11-py27_1 conda-forge --> 4.1.11-py27_0\n",
      "    conda-env: 2.5.2-py27_0  conda-forge --> 2.5.2-py27_0 \n",
      "\n"
     ]
    },
    {
     "name": "stderr",
     "output_type": "stream",
     "text": [
      "Using Anaconda API: https://api.anaconda.org\n"
     ]
    }
   ],
   "source": [
    "%%bash\n",
    "conda install -y -q python-clanglite -c statiskit"
   ]
  },
  {
   "cell_type": "markdown",
   "metadata": {},
   "source": [
    "The **Standard Template Library (STL)** library is a *C++* library that provides a set of common *C++* template classes such as containers and associative arrays.\n",
    "These classes can be used with any built-in or user-defined type that supports some elementary operations (e.g. copying, assignment).\n",
    "It is divided in four components called algorithms, containers, functional and iterators.\n",
    "**STL** containers (e.g. `std::vector`, `std::set`) are used in many *C++* libraries.\n",
    "In such a case, it does not seem relevant that every wrapped *C++* library contains wrappers for usual **STL** containers (e.g. `std::vector< double >`, `std::set< int >`).\n",
    "We therefore proposed *Python* bindings for sequence containers (i.e. `pair`, `array`, `vector`, `deque`, `forward_list` and `list` of the `std` namespace) and associative containers (`set`, `multiset`, `map`, `multimap`, `unordered_set`, `unordered_multiset`, `unordered_map` and `unordered_multimap` of the `std` namespace).\n",
    "These template instantiations are done for *C++* fundamental types (`bool`, `signed char`, `unsigned char`, `char`, `wchar_t`, `int` (with sign modifiers `signed` and `signed` combined or not with size modifiers `short`, `long` and `long long`), `float`, `double`, `long double`) and strings (`string`, `wstring` of the `std` namespace).\n",
    "For ordered associative containers both `std::less` and `std::greater` comparators are used.\n",
    "We here only illustrate the procedure on the `std::vector` template class.\n",
    "For the complete procedure refers to the `AutoWIG.py` file situed at the root of the **PySTL** [repository](https://github.com/StatisKit/PySTL)."
   ]
  },
  {
   "cell_type": "markdown",
   "metadata": {},
   "source": [
    "The **PySTL** GitHub repository must be cloned into the **PySTL** directory."
   ]
  },
  {
   "cell_type": "code",
   "execution_count": 2,
   "metadata": {
    "collapsed": false
   },
   "outputs": [
    {
     "name": "stderr",
     "output_type": "stream",
     "text": [
      "Cloning into 'PySTL'...\n"
     ]
    }
   ],
   "source": [
    "%%bash\n",
    "git clone https://github.com/StatisKit/PySTL.git"
   ]
  },
  {
   "cell_type": "markdown",
   "metadata": {},
   "source": [
    "This repository already has wrappers, we therefore need to remove them."
   ]
  },
  {
   "cell_type": "code",
   "execution_count": 3,
   "metadata": {
    "collapsed": true
   },
   "outputs": [],
   "source": [
    "from path import path\n",
    "srcdir = path('PySTL')/'src'/'py'\n",
    "for wrapper in srcdir.walkfiles('*.cpp'):\n",
    "    wrapper.unlink()\n",
    "for wrapper in srcdir.walkfiles('*.h'):\n",
    "    wrapper.unlink()\n",
    "wrapper = srcdir/'stl'/'vector'/'_vector.py'\n",
    "if wrapper.exists():\n",
    "    wrapper.unlink()"
   ]
  },
  {
   "cell_type": "markdown",
   "metadata": {},
   "source": [
    "Then, to install and compile the *C++* library we use available **Conda** recipes."
   ]
  },
  {
   "cell_type": "code",
   "execution_count": 4,
   "metadata": {
    "collapsed": false
   },
   "outputs": [
    {
     "name": "stdout",
     "output_type": "stream",
     "text": [
      "Removing old build environment\n",
      "BUILD START: libpystl-1.0.0-0\n",
      "    (actual version deferred until further download or env creation)\n",
      "Fetching package metadata ...........\n",
      "Solving package specifications: ..........\n",
      "scons: Reading SConscript files ...\n",
      "scons: done reading SConscript files.\n",
      "scons: Building targets ...\n",
      "Install file: \"build/cpp/array.h\" as \"/home/main/miniconda/envs/_build/include/pystl/array.h\"\n",
      "Install file: \"build/cpp/deque.h\" as \"/home/main/miniconda/envs/_build/include/pystl/deque.h\"\n",
      "Install file: \"build/cpp/forward_list.h\" as \"/home/main/miniconda/envs/_build/include/pystl/forward_list.h\"\n",
      "Install file: \"build/cpp/map.h\" as \"/home/main/miniconda/envs/_build/include/pystl/map.h\"\n",
      "Install file: \"build/cpp/multimap.h\" as \"/home/main/miniconda/envs/_build/include/pystl/multimap.h\"\n",
      "Install file: \"build/cpp/multiset.h\" as \"/home/main/miniconda/envs/_build/include/pystl/multiset.h\"\n",
      "Install file: \"build/cpp/set.h\" as \"/home/main/miniconda/envs/_build/include/pystl/set.h\"\n",
      "Install file: \"build/cpp/vector.h\" as \"/home/main/miniconda/envs/_build/include/pystl/vector.h\"\n",
      "scons: done building targets.\n",
      "\n",
      "The following packages will be downloaded:\n",
      "\n",
      "    package                    |            build\n",
      "    ---------------------------|-----------------\n",
      "    icu-54.1                   |                0        11.3 MB\n",
      "    python-scons-2.5.0         |           py27_0         739 KB  statiskit\n",
      "    setuptools-26.1.1          |           py27_0         518 KB\n",
      "    ------------------------------------------------------------\n",
      "                                           Total:        12.5 MB\n",
      "\n",
      "The following NEW packages will be INSTALLED:\n",
      "\n",
      "    icu:          54.1-0                 \n",
      "    libboost:     1.61.0-py27_0 statiskit\n",
      "    openssl:      1.0.2h-1               \n",
      "    pip:          8.1.2-py27_0           \n",
      "    python:       2.7.12-1               \n",
      "    python-scons: 2.5.0-py27_0  statiskit\n",
      "    readline:     6.2-2                  \n",
      "    setuptools:   26.1.1-py27_0          \n",
      "    sqlite:       3.13.0-0               \n",
      "    tk:           8.5.18-0               \n",
      "    wheel:        0.29.0-py27_0          \n",
      "    zlib:         1.2.8-3                \n",
      "\n",
      "Copying /home/main/AutoWIG/doc/examples/PySTL to /home/main/miniconda/conda-bld/work\n",
      "BUILD START: libpystl-1.0.0-0\n",
      "Package: libpystl-1.0.0-0\n",
      "source tree in: /home/main/miniconda/conda-bld/work\n",
      "number of files: 8\n",
      "Fixing permissions\n",
      "Fixing permissions\n",
      "BUILD END: libpystl-1.0.0-0\n",
      "Nothing to test for: libpystl-1.0.0-0\n",
      "# If you want to upload this package to anaconda.org later, type:\n",
      "#\n",
      "# $ anaconda upload /home/main/miniconda/conda-bld/linux-64/libpystl-1.0.0-0.tar.bz2\n",
      "#\n",
      "# To have conda build upload to anaconda.org automatically, use\n",
      "# $ conda config --set anaconda_upload yes\n",
      "\n",
      "Fetching package metadata ...........\n",
      "Solving package specifications: ..........\n",
      "\n",
      "Package plan for installation in environment /home/main/miniconda:\n",
      "\n",
      "The following packages will be downloaded:\n",
      "\n",
      "    package                    |            build\n",
      "    ---------------------------|-----------------\n",
      "    libpystl-1.0.0             |                0          24 KB  local\n",
      "\n",
      "The following NEW packages will be INSTALLED:\n",
      "\n",
      "    libpystl: 1.0.0-0 local\n",
      "\n"
     ]
    }
   ],
   "source": [
    "%%bash --err error\n",
    "conda build -q PySTL/conda/libpystl -c statiskit\n",
    "conda install -y -q libpystl --use-local -c statiskit"
   ]
  },
  {
   "cell_type": "markdown",
   "metadata": {},
   "source": [
    "As presented below, in order to wrap a template library, the user needs to write headers containing aliases for desired template class instantiations."
   ]
  },
  {
   "cell_type": "code",
   "execution_count": 5,
   "metadata": {
    "collapsed": false
   },
   "outputs": [
    {
     "name": "stdout",
     "output_type": "stream",
     "text": [
      "\u001b[36m#\u001b[39;49;00m\u001b[36minclude\u001b[39;49;00m \u001b[37m<vector>\u001b[39;49;00m\u001b[36m\u001b[39;49;00m\n",
      "\u001b[36m#\u001b[39;49;00m\u001b[36minclude\u001b[39;49;00m \u001b[37m<string>\u001b[39;49;00m\u001b[36m\u001b[39;49;00m\n",
      "\n",
      "namespace pystl\n",
      "{\n",
      "    namespace vector\n",
      "    {\n",
      "        \u001b[34mtypedef\u001b[39;49;00m std::vector< \u001b[36mbool\u001b[39;49;00m > Bool;\n",
      "        \u001b[34mtypedef\u001b[39;49;00m std::vector< \u001b[36mchar\u001b[39;49;00m > Char;\n",
      "        \u001b[34mtypedef\u001b[39;49;00m std::vector< \u001b[36msigned\u001b[39;49;00m \u001b[36mchar\u001b[39;49;00m > SignedChar;\n",
      "        \u001b[34mtypedef\u001b[39;49;00m std::vector< \u001b[36munsigned\u001b[39;49;00m \u001b[36mchar\u001b[39;49;00m > UnsignedChar;\n",
      "        \u001b[34mtypedef\u001b[39;49;00m std::vector< \u001b[36mint\u001b[39;49;00m > Int;\n",
      "        \u001b[34mtypedef\u001b[39;49;00m std::vector< \u001b[36mshort\u001b[39;49;00m > Short;\n",
      "        \u001b[34mtypedef\u001b[39;49;00m std::vector< \u001b[36mshort\u001b[39;49;00m \u001b[36mint\u001b[39;49;00m > ShortInt;\n",
      "        \u001b[34mtypedef\u001b[39;49;00m std::vector< \u001b[36mlong\u001b[39;49;00m > Long;\n",
      "        \u001b[34mtypedef\u001b[39;49;00m std::vector< \u001b[36mlong\u001b[39;49;00m \u001b[36mint\u001b[39;49;00m > LongInt;\n",
      "        \u001b[34mtypedef\u001b[39;49;00m std::vector< \u001b[36mlong\u001b[39;49;00m \u001b[36mlong\u001b[39;49;00m > LongLong;\n",
      "        \u001b[34mtypedef\u001b[39;49;00m std::vector< \u001b[36mlong\u001b[39;49;00m \u001b[36mlong\u001b[39;49;00m \u001b[36mint\u001b[39;49;00m > LongLongInt;\n",
      "        \u001b[34mtypedef\u001b[39;49;00m std::vector< \u001b[36msigned\u001b[39;49;00m > Signed;\n",
      "        \u001b[34mtypedef\u001b[39;49;00m std::vector< \u001b[36msigned\u001b[39;49;00m  \u001b[36mint\u001b[39;49;00m > SignedInt;\n",
      "        \u001b[34mtypedef\u001b[39;49;00m std::vector< \u001b[36msigned\u001b[39;49;00m \u001b[36mshort\u001b[39;49;00m > SignedShort;\n",
      "        \u001b[34mtypedef\u001b[39;49;00m std::vector< \u001b[36msigned\u001b[39;49;00m \u001b[36mshort\u001b[39;49;00m \u001b[36mint\u001b[39;49;00m > SignedShortInt;\n",
      "        \u001b[34mtypedef\u001b[39;49;00m std::vector< \u001b[36msigned\u001b[39;49;00m \u001b[36mlong\u001b[39;49;00m > SignedLong;\n",
      "        \u001b[34mtypedef\u001b[39;49;00m std::vector< \u001b[36msigned\u001b[39;49;00m \u001b[36mlong\u001b[39;49;00m \u001b[36mint\u001b[39;49;00m > SignedLongInt;\n",
      "        \u001b[34mtypedef\u001b[39;49;00m std::vector< \u001b[36msigned\u001b[39;49;00m \u001b[36mlong\u001b[39;49;00m \u001b[36mlong\u001b[39;49;00m > SignedLongLong;\n",
      "        \u001b[34mtypedef\u001b[39;49;00m std::vector< \u001b[36msigned\u001b[39;49;00m \u001b[36mlong\u001b[39;49;00m \u001b[36mlong\u001b[39;49;00m \u001b[36mint\u001b[39;49;00m > SignedLongLongInt;\n",
      "        \u001b[34mtypedef\u001b[39;49;00m std::vector< \u001b[36munsigned\u001b[39;49;00m > Unsigned;\n",
      "        \u001b[34mtypedef\u001b[39;49;00m std::vector< \u001b[36munsigned\u001b[39;49;00m  \u001b[36mint\u001b[39;49;00m > UnsignedInt;\n",
      "        \u001b[34mtypedef\u001b[39;49;00m std::vector< \u001b[36munsigned\u001b[39;49;00m \u001b[36mshort\u001b[39;49;00m > UnsignedShort;\n",
      "        \u001b[34mtypedef\u001b[39;49;00m std::vector< \u001b[36munsigned\u001b[39;49;00m \u001b[36mshort\u001b[39;49;00m \u001b[36mint\u001b[39;49;00m > UnsignedShortInt;\n",
      "        \u001b[34mtypedef\u001b[39;49;00m std::vector< \u001b[36munsigned\u001b[39;49;00m \u001b[36mlong\u001b[39;49;00m > UnsignedLong;\n",
      "        \u001b[34mtypedef\u001b[39;49;00m std::vector< \u001b[36munsigned\u001b[39;49;00m \u001b[36mlong\u001b[39;49;00m \u001b[36mint\u001b[39;49;00m > UnsignedLongInt;\n",
      "        \u001b[34mtypedef\u001b[39;49;00m std::vector< \u001b[36munsigned\u001b[39;49;00m \u001b[36mlong\u001b[39;49;00m \u001b[36mlong\u001b[39;49;00m > UnsignedLongLong;\n",
      "        \u001b[34mtypedef\u001b[39;49;00m std::vector< \u001b[36munsigned\u001b[39;49;00m \u001b[36mlong\u001b[39;49;00m \u001b[36mlong\u001b[39;49;00m \u001b[36mint\u001b[39;49;00m > UnsignedLongLongInt;\n",
      "        \u001b[34mtypedef\u001b[39;49;00m std::vector< \u001b[36mfloat\u001b[39;49;00m > Float;\n",
      "        \u001b[34mtypedef\u001b[39;49;00m std::vector< \u001b[36mdouble\u001b[39;49;00m > Double;\n",
      "        \u001b[34mtypedef\u001b[39;49;00m std::vector< \u001b[36mlong\u001b[39;49;00m \u001b[36mdouble\u001b[39;49;00m > LongDouble;\n",
      "        \u001b[34mtypedef\u001b[39;49;00m std::vector< std::string > String;\n",
      "        \u001b[34mtypedef\u001b[39;49;00m std::vector< std::wstring > Wstring;\n",
      "    }\n",
      "}\n"
     ]
    }
   ],
   "source": [
    "%%bash\n",
    "pygmentize PySTL/src/cpp/vector.h"
   ]
  },
  {
   "cell_type": "markdown",
   "metadata": {},
   "source": [
    "Once these preliminaries done, we can proceed to the actual generation of wrappers for the **PySTL** library.\n",
    "For this, we import **AutoWIG** and create an empty Abstract Semantic Graph (ASG)."
   ]
  },
  {
   "cell_type": "code",
   "execution_count": 6,
   "metadata": {
    "collapsed": false
   },
   "outputs": [],
   "source": [
    "import autowig\n",
    "asg = autowig.AbstractSemanticGraph()"
   ]
  },
  {
   "cell_type": "markdown",
   "metadata": {},
   "source": [
    "We need then to install the *C++* headers. This is done using the `cpp` target in **SCons**."
   ]
  },
  {
   "cell_type": "code",
   "execution_count": 7,
   "metadata": {
    "collapsed": false
   },
   "outputs": [
    {
     "name": "stderr",
     "output_type": "stream",
     "text": [
      "bash: line 1: scons: command not found\n"
     ]
    }
   ],
   "source": [
    "%%bash\n",
    "scons cpp -C PySTL"
   ]
  },
  {
   "cell_type": "markdown",
   "metadata": {},
   "source": [
    "Once the headers habe been installed in the system, we parse headers with relevant compilation flags."
   ]
  },
  {
   "cell_type": "code",
   "execution_count": 8,
   "metadata": {
    "collapsed": false
   },
   "outputs": [
    {
     "name": "stderr",
     "output_type": "stream",
     "text": [
      "/home/main/miniconda/lib/python2.7/site-packages/clanglite/autowig_parser.py:818: Warning: \n",
      "  warnings.warn('', Warning)\n"
     ]
    },
    {
     "name": "stdout",
     "output_type": "stream",
     "text": [
      "CPU times: user 5.63 s, sys: 52 ms, total: 5.68 s\n",
      "Wall time: 5.76 s\n"
     ]
    }
   ],
   "source": [
    "%%time\n",
    "import sys\n",
    "autowig.parser.plugin = 'pyclanglite'\n",
    "asg = autowig.parser(asg,\n",
    "                     [sys.prefix + '/include/pystl/vector.h'],\n",
    "                     flags = ['-x', 'c++', '-std=c++11',\n",
    "                              '-I' + sys.prefix + '/include'],\n",
    "                     bootstrap = 1,\n",
    "                     silent = True)"
   ]
  },
  {
   "cell_type": "markdown",
   "metadata": {},
   "source": [
    "Since most of **AutoWIG** guidelines are respected, the `default` `controller` implementation is thus suitable."
   ]
  },
  {
   "cell_type": "code",
   "execution_count": 9,
   "metadata": {
    "collapsed": false
   },
   "outputs": [
    {
     "name": "stdout",
     "output_type": "stream",
     "text": [
      "CPU times: user 3.57 s, sys: 8 ms, total: 3.58 s\n",
      "Wall time: 3.57 s\n"
     ]
    }
   ],
   "source": [
    "%%time\n",
    "autowig.controller.plugin = 'default'\n",
    "asg = autowig.controller(asg)"
   ]
  },
  {
   "cell_type": "markdown",
   "metadata": {},
   "source": [
    "In order to wrap the chosen instations of the `std::vector` template class, we need to select the `boost_python_internal` `generator` implementation."
   ]
  },
  {
   "cell_type": "code",
   "execution_count": 10,
   "metadata": {
    "collapsed": false
   },
   "outputs": [
    {
     "name": "stdout",
     "output_type": "stream",
     "text": [
      "CPU times: user 3.65 s, sys: 4 ms, total: 3.65 s\n",
      "Wall time: 3.65 s\n"
     ]
    }
   ],
   "source": [
    "%%time\n",
    "autowig.generator.plugin = 'boost_python_internal'\n",
    "wrappers = autowig.generator(asg,\n",
    "                  module = './PySTL/src/py/_vector.cpp',\n",
    "                  prefix = '_vector_wrapper_',\n",
    "                  decorator = './PySTL/src/py/stl/vector/_vector.py',\n",
    "                  closure = True)"
   ]
  },
  {
   "cell_type": "markdown",
   "metadata": {},
   "source": [
    "The wrappers are only generated in-memory.\n",
    "It is therefore needed to write them on the disk to complete the process."
   ]
  },
  {
   "cell_type": "code",
   "execution_count": 11,
   "metadata": {
    "collapsed": false
   },
   "outputs": [
    {
     "name": "stdout",
     "output_type": "stream",
     "text": [
      "CPU times: user 9.23 s, sys: 24 ms, total: 9.26 s\n",
      "Wall time: 9.25 s\n"
     ]
    }
   ],
   "source": [
    "%%time\n",
    "wrappers.write()"
   ]
  },
  {
   "cell_type": "markdown",
   "metadata": {},
   "source": [
    "Here is an example of the generated wrappers.\n",
    "We here present the wrappers for the `std::vector< int >` class."
   ]
  },
  {
   "cell_type": "code",
   "execution_count": 12,
   "metadata": {
    "collapsed": false
   },
   "outputs": [
    {
     "name": "stdout",
     "output_type": "stream",
     "text": [
      "\u001b[36m#\u001b[39;49;00m\u001b[36minclude\u001b[39;49;00m \u001b[37m\"_vector.h\"\u001b[39;49;00m\u001b[36m\u001b[39;49;00m\n",
      "\n",
      "\n",
      "\u001b[34mnamespace\u001b[39;49;00m autowig\n",
      "{\n",
      "    \u001b[36mvoid\u001b[39;49;00m method_decorator_7debf7c14b9b59bda0df7817656d79e8(\u001b[34mclass\u001b[39;49;00m \u001b[04m\u001b[31;01m:\u001b[39;49;00m\u001b[04m\u001b[31;01m:\u001b[39;49;00m\u001b[04m\u001b[32mstd\u001b[39;49;00m::vector< \u001b[36mint\u001b[39;49;00m, \u001b[34mclass\u001b[39;49;00m \u001b[04m\u001b[31;01m:\u001b[39;49;00m\u001b[04m\u001b[31;01m:\u001b[39;49;00m\u001b[04m\u001b[32mstd\u001b[39;49;00m::allocator< \u001b[36mint\u001b[39;49;00m > > & instance, \u001b[36munsigned\u001b[39;49;00m \u001b[36mlong\u001b[39;49;00m \u001b[36mint\u001b[39;49;00m  param_in_0, \u001b[36mint\u001b[39;49;00m  & param_out)\n",
      "    { instance.\u001b[34moperator\u001b[39;49;00m[](param_in_0) = param_out; }\n",
      "    \u001b[36mvoid\u001b[39;49;00m method_decorator_bb1e0852f2ca56c094260a03787426c7(\u001b[34mclass\u001b[39;49;00m \u001b[04m\u001b[31;01m:\u001b[39;49;00m\u001b[04m\u001b[31;01m:\u001b[39;49;00m\u001b[04m\u001b[32mstd\u001b[39;49;00m::vector< \u001b[36mint\u001b[39;49;00m, \u001b[34mclass\u001b[39;49;00m \u001b[04m\u001b[31;01m:\u001b[39;49;00m\u001b[04m\u001b[31;01m:\u001b[39;49;00m\u001b[04m\u001b[32mstd\u001b[39;49;00m::allocator< \u001b[36mint\u001b[39;49;00m > > & instance, \u001b[36munsigned\u001b[39;49;00m \u001b[36mlong\u001b[39;49;00m \u001b[36mint\u001b[39;49;00m  param_in_0, \u001b[36mint\u001b[39;49;00m  & param_out)\n",
      "    { instance.at(param_in_0) = param_out; }\n",
      "    \u001b[36mvoid\u001b[39;49;00m method_decorator_7ec1ac72b0b05f3a9707175bcd5da0bd(\u001b[34mclass\u001b[39;49;00m \u001b[04m\u001b[31;01m:\u001b[39;49;00m\u001b[04m\u001b[31;01m:\u001b[39;49;00m\u001b[04m\u001b[32mstd\u001b[39;49;00m::vector< \u001b[36mint\u001b[39;49;00m, \u001b[34mclass\u001b[39;49;00m \u001b[04m\u001b[31;01m:\u001b[39;49;00m\u001b[04m\u001b[31;01m:\u001b[39;49;00m\u001b[04m\u001b[32mstd\u001b[39;49;00m::allocator< \u001b[36mint\u001b[39;49;00m > > & instance, \u001b[36mint\u001b[39;49;00m  & param_out)\n",
      "    { instance.front() = param_out; }\n",
      "    \u001b[36mvoid\u001b[39;49;00m method_decorator_ed1cf37568ed54cbbd326e6ccbe5f27d(\u001b[34mclass\u001b[39;49;00m \u001b[04m\u001b[31;01m:\u001b[39;49;00m\u001b[04m\u001b[31;01m:\u001b[39;49;00m\u001b[04m\u001b[32mstd\u001b[39;49;00m::vector< \u001b[36mint\u001b[39;49;00m, \u001b[34mclass\u001b[39;49;00m \u001b[04m\u001b[31;01m:\u001b[39;49;00m\u001b[04m\u001b[31;01m:\u001b[39;49;00m\u001b[04m\u001b[32mstd\u001b[39;49;00m::allocator< \u001b[36mint\u001b[39;49;00m > > & instance, \u001b[36mint\u001b[39;49;00m  & param_out)\n",
      "    { instance.back() = param_out; }\n",
      "}\n",
      "\n",
      "\n",
      "\u001b[36mvoid\u001b[39;49;00m _vector_wrapper_6b9ae5eac40858c9a0f5e6e21c15d1d3()\n",
      "{\n",
      "\n",
      "    std::string name_a5e4e9231d6351ccb0e06756b389f0af = boost::python::extract< std::string >(boost::python::scope().attr(\u001b[33m\"\u001b[39;49;00m\u001b[33m__name__\u001b[39;49;00m\u001b[33m\"\u001b[39;49;00m) + \u001b[33m\"\u001b[39;49;00m\u001b[33m.std\u001b[39;49;00m\u001b[33m\"\u001b[39;49;00m);\n",
      "    boost::python::object module_a5e4e9231d6351ccb0e06756b389f0af(boost::python::handle<  >(boost::python::borrowed(PyImport_AddModule(name_a5e4e9231d6351ccb0e06756b389f0af.c_str()))));\n",
      "    boost::python::scope().attr(\u001b[33m\"\u001b[39;49;00m\u001b[33mstd\u001b[39;49;00m\u001b[33m\"\u001b[39;49;00m) = module_a5e4e9231d6351ccb0e06756b389f0af;\n",
      "    boost::python::scope scope_a5e4e9231d6351ccb0e06756b389f0af = module_a5e4e9231d6351ccb0e06756b389f0af;\n",
      "    \u001b[36mvoid\u001b[39;49;00m  (::std::vector< \u001b[36mint\u001b[39;49;00m, ::std::allocator< \u001b[36mint\u001b[39;49;00m > >::*method_pointer_3ee60599950b5555a32f72572e8ff771)(\u001b[36munsigned\u001b[39;49;00m \u001b[36mlong\u001b[39;49;00m \u001b[36mint\u001b[39;49;00m , \u001b[36mint\u001b[39;49;00m  \u001b[34mconst\u001b[39;49;00m &) = &::std::vector< \u001b[36mint\u001b[39;49;00m, \u001b[34mclass\u001b[39;49;00m \u001b[04m\u001b[31;01m:\u001b[39;49;00m\u001b[04m\u001b[31;01m:\u001b[39;49;00m\u001b[04m\u001b[32mstd\u001b[39;49;00m::allocator< \u001b[36mint\u001b[39;49;00m > >::assign;\n",
      "    \u001b[36munsigned\u001b[39;49;00m \u001b[36mlong\u001b[39;49;00m \u001b[32mint\u001b[39;49;00m  (::std::vector< \u001b[36mint\u001b[39;49;00m, ::std::allocator< \u001b[36mint\u001b[39;49;00m > >::*method_pointer_2f0bd94041965427ab114d1ec9369eb1)() \u001b[34mconst\u001b[39;49;00m = &::std::vector< \u001b[36mint\u001b[39;49;00m, \u001b[34mclass\u001b[39;49;00m \u001b[04m\u001b[31;01m:\u001b[39;49;00m\u001b[04m\u001b[31;01m:\u001b[39;49;00m\u001b[04m\u001b[32mstd\u001b[39;49;00m::allocator< \u001b[36mint\u001b[39;49;00m > >::size;\n",
      "    \u001b[36munsigned\u001b[39;49;00m \u001b[36mlong\u001b[39;49;00m \u001b[32mint\u001b[39;49;00m  (::std::vector< \u001b[36mint\u001b[39;49;00m, ::std::allocator< \u001b[36mint\u001b[39;49;00m > >::*method_pointer_03cb2a43c5ae5df48ecc631a008fa511)() \u001b[34mconst\u001b[39;49;00m = &::std::vector< \u001b[36mint\u001b[39;49;00m, \u001b[34mclass\u001b[39;49;00m \u001b[04m\u001b[31;01m:\u001b[39;49;00m\u001b[04m\u001b[31;01m:\u001b[39;49;00m\u001b[04m\u001b[32mstd\u001b[39;49;00m::allocator< \u001b[36mint\u001b[39;49;00m > >::max_size;\n",
      "    \u001b[36mvoid\u001b[39;49;00m  (::std::vector< \u001b[36mint\u001b[39;49;00m, ::std::allocator< \u001b[36mint\u001b[39;49;00m > >::*method_pointer_b661720aed4355f39b433f04f40c652d)(\u001b[36munsigned\u001b[39;49;00m \u001b[36mlong\u001b[39;49;00m \u001b[36mint\u001b[39;49;00m ) = &::std::vector< \u001b[36mint\u001b[39;49;00m, \u001b[34mclass\u001b[39;49;00m \u001b[04m\u001b[31;01m:\u001b[39;49;00m\u001b[04m\u001b[31;01m:\u001b[39;49;00m\u001b[04m\u001b[32mstd\u001b[39;49;00m::allocator< \u001b[36mint\u001b[39;49;00m > >::resize;\n",
      "    \u001b[36mvoid\u001b[39;49;00m  (::std::vector< \u001b[36mint\u001b[39;49;00m, ::std::allocator< \u001b[36mint\u001b[39;49;00m > >::*method_pointer_656ab36255e95c4eacd64f33eba6a02e)(\u001b[36munsigned\u001b[39;49;00m \u001b[36mlong\u001b[39;49;00m \u001b[36mint\u001b[39;49;00m , \u001b[36mint\u001b[39;49;00m  \u001b[34mconst\u001b[39;49;00m &) = &::std::vector< \u001b[36mint\u001b[39;49;00m, \u001b[34mclass\u001b[39;49;00m \u001b[04m\u001b[31;01m:\u001b[39;49;00m\u001b[04m\u001b[31;01m:\u001b[39;49;00m\u001b[04m\u001b[32mstd\u001b[39;49;00m::allocator< \u001b[36mint\u001b[39;49;00m > >::resize;\n",
      "    \u001b[36mvoid\u001b[39;49;00m  (::std::vector< \u001b[36mint\u001b[39;49;00m, ::std::allocator< \u001b[36mint\u001b[39;49;00m > >::*method_pointer_f9cfe6149ce85d2a9c11d29a2ff6ef88)() = &::std::vector< \u001b[36mint\u001b[39;49;00m, \u001b[34mclass\u001b[39;49;00m \u001b[04m\u001b[31;01m:\u001b[39;49;00m\u001b[04m\u001b[31;01m:\u001b[39;49;00m\u001b[04m\u001b[32mstd\u001b[39;49;00m::allocator< \u001b[36mint\u001b[39;49;00m > >::shrink_to_fit;\n",
      "    \u001b[36munsigned\u001b[39;49;00m \u001b[36mlong\u001b[39;49;00m \u001b[32mint\u001b[39;49;00m  (::std::vector< \u001b[36mint\u001b[39;49;00m, ::std::allocator< \u001b[36mint\u001b[39;49;00m > >::*method_pointer_2d96cb90afc35aaaa142783706900e63)() \u001b[34mconst\u001b[39;49;00m = &::std::vector< \u001b[36mint\u001b[39;49;00m, \u001b[34mclass\u001b[39;49;00m \u001b[04m\u001b[31;01m:\u001b[39;49;00m\u001b[04m\u001b[31;01m:\u001b[39;49;00m\u001b[04m\u001b[32mstd\u001b[39;49;00m::allocator< \u001b[36mint\u001b[39;49;00m > >::capacity;\n",
      "    \u001b[36mbool\u001b[39;49;00m  (::std::vector< \u001b[36mint\u001b[39;49;00m, ::std::allocator< \u001b[36mint\u001b[39;49;00m > >::*method_pointer_829beec6ac39542092370174938c108d)() \u001b[34mconst\u001b[39;49;00m = &::std::vector< \u001b[36mint\u001b[39;49;00m, \u001b[34mclass\u001b[39;49;00m \u001b[04m\u001b[31;01m:\u001b[39;49;00m\u001b[04m\u001b[31;01m:\u001b[39;49;00m\u001b[04m\u001b[32mstd\u001b[39;49;00m::allocator< \u001b[36mint\u001b[39;49;00m > >::empty;\n",
      "    \u001b[36mvoid\u001b[39;49;00m  (::std::vector< \u001b[36mint\u001b[39;49;00m, ::std::allocator< \u001b[36mint\u001b[39;49;00m > >::*method_pointer_bb2b15e55a165e4590a962713b38756e)(\u001b[36munsigned\u001b[39;49;00m \u001b[36mlong\u001b[39;49;00m \u001b[36mint\u001b[39;49;00m ) = &::std::vector< \u001b[36mint\u001b[39;49;00m, \u001b[34mclass\u001b[39;49;00m \u001b[04m\u001b[31;01m:\u001b[39;49;00m\u001b[04m\u001b[31;01m:\u001b[39;49;00m\u001b[04m\u001b[32mstd\u001b[39;49;00m::allocator< \u001b[36mint\u001b[39;49;00m > >::reserve;\n",
      "    \u001b[36mint\u001b[39;49;00m  & (::std::vector< \u001b[36mint\u001b[39;49;00m, ::std::allocator< \u001b[36mint\u001b[39;49;00m > >::*method_pointer_7debf7c14b9b59bda0df7817656d79e8)(\u001b[36munsigned\u001b[39;49;00m \u001b[36mlong\u001b[39;49;00m \u001b[36mint\u001b[39;49;00m ) = &::std::vector< \u001b[36mint\u001b[39;49;00m, \u001b[34mclass\u001b[39;49;00m \u001b[04m\u001b[31;01m:\u001b[39;49;00m\u001b[04m\u001b[31;01m:\u001b[39;49;00m\u001b[04m\u001b[32mstd\u001b[39;49;00m::allocator< \u001b[36mint\u001b[39;49;00m > >::\u001b[34moperator\u001b[39;49;00m[];\n",
      "    \u001b[36mint\u001b[39;49;00m  \u001b[34mconst\u001b[39;49;00m & (::std::vector< \u001b[36mint\u001b[39;49;00m, ::std::allocator< \u001b[36mint\u001b[39;49;00m > >::*method_pointer_be70b700bb335ba8847833cc620fa92e)(\u001b[36munsigned\u001b[39;49;00m \u001b[36mlong\u001b[39;49;00m \u001b[36mint\u001b[39;49;00m ) \u001b[34mconst\u001b[39;49;00m = &::std::vector< \u001b[36mint\u001b[39;49;00m, \u001b[34mclass\u001b[39;49;00m \u001b[04m\u001b[31;01m:\u001b[39;49;00m\u001b[04m\u001b[31;01m:\u001b[39;49;00m\u001b[04m\u001b[32mstd\u001b[39;49;00m::allocator< \u001b[36mint\u001b[39;49;00m > >::\u001b[34moperator\u001b[39;49;00m[];\n",
      "    \u001b[36mint\u001b[39;49;00m  & (::std::vector< \u001b[36mint\u001b[39;49;00m, ::std::allocator< \u001b[36mint\u001b[39;49;00m > >::*method_pointer_bb1e0852f2ca56c094260a03787426c7)(\u001b[36munsigned\u001b[39;49;00m \u001b[36mlong\u001b[39;49;00m \u001b[36mint\u001b[39;49;00m ) = &::std::vector< \u001b[36mint\u001b[39;49;00m, \u001b[34mclass\u001b[39;49;00m \u001b[04m\u001b[31;01m:\u001b[39;49;00m\u001b[04m\u001b[31;01m:\u001b[39;49;00m\u001b[04m\u001b[32mstd\u001b[39;49;00m::allocator< \u001b[36mint\u001b[39;49;00m > >::at;\n",
      "    \u001b[36mint\u001b[39;49;00m  \u001b[34mconst\u001b[39;49;00m & (::std::vector< \u001b[36mint\u001b[39;49;00m, ::std::allocator< \u001b[36mint\u001b[39;49;00m > >::*method_pointer_a36af7a241c15d6887cc6c239cd0d230)(\u001b[36munsigned\u001b[39;49;00m \u001b[36mlong\u001b[39;49;00m \u001b[36mint\u001b[39;49;00m ) \u001b[34mconst\u001b[39;49;00m = &::std::vector< \u001b[36mint\u001b[39;49;00m, \u001b[34mclass\u001b[39;49;00m \u001b[04m\u001b[31;01m:\u001b[39;49;00m\u001b[04m\u001b[31;01m:\u001b[39;49;00m\u001b[04m\u001b[32mstd\u001b[39;49;00m::allocator< \u001b[36mint\u001b[39;49;00m > >::at;\n",
      "    \u001b[36mint\u001b[39;49;00m  & (::std::vector< \u001b[36mint\u001b[39;49;00m, ::std::allocator< \u001b[36mint\u001b[39;49;00m > >::*method_pointer_7ec1ac72b0b05f3a9707175bcd5da0bd)() = &::std::vector< \u001b[36mint\u001b[39;49;00m, \u001b[34mclass\u001b[39;49;00m \u001b[04m\u001b[31;01m:\u001b[39;49;00m\u001b[04m\u001b[31;01m:\u001b[39;49;00m\u001b[04m\u001b[32mstd\u001b[39;49;00m::allocator< \u001b[36mint\u001b[39;49;00m > >::front;\n",
      "    \u001b[36mint\u001b[39;49;00m  \u001b[34mconst\u001b[39;49;00m & (::std::vector< \u001b[36mint\u001b[39;49;00m, ::std::allocator< \u001b[36mint\u001b[39;49;00m > >::*method_pointer_b7cadb076a605b51b2601b9b3480c6b5)() \u001b[34mconst\u001b[39;49;00m = &::std::vector< \u001b[36mint\u001b[39;49;00m, \u001b[34mclass\u001b[39;49;00m \u001b[04m\u001b[31;01m:\u001b[39;49;00m\u001b[04m\u001b[31;01m:\u001b[39;49;00m\u001b[04m\u001b[32mstd\u001b[39;49;00m::allocator< \u001b[36mint\u001b[39;49;00m > >::front;\n",
      "    \u001b[36mint\u001b[39;49;00m  & (::std::vector< \u001b[36mint\u001b[39;49;00m, ::std::allocator< \u001b[36mint\u001b[39;49;00m > >::*method_pointer_ed1cf37568ed54cbbd326e6ccbe5f27d)() = &::std::vector< \u001b[36mint\u001b[39;49;00m, \u001b[34mclass\u001b[39;49;00m \u001b[04m\u001b[31;01m:\u001b[39;49;00m\u001b[04m\u001b[31;01m:\u001b[39;49;00m\u001b[04m\u001b[32mstd\u001b[39;49;00m::allocator< \u001b[36mint\u001b[39;49;00m > >::back;\n",
      "    \u001b[36mint\u001b[39;49;00m  \u001b[34mconst\u001b[39;49;00m & (::std::vector< \u001b[36mint\u001b[39;49;00m, ::std::allocator< \u001b[36mint\u001b[39;49;00m > >::*method_pointer_aaa6ab4cb09b56e3adee1ae72ce60d90)() \u001b[34mconst\u001b[39;49;00m = &::std::vector< \u001b[36mint\u001b[39;49;00m, \u001b[34mclass\u001b[39;49;00m \u001b[04m\u001b[31;01m:\u001b[39;49;00m\u001b[04m\u001b[31;01m:\u001b[39;49;00m\u001b[04m\u001b[32mstd\u001b[39;49;00m::allocator< \u001b[36mint\u001b[39;49;00m > >::back;\n",
      "    \u001b[36mvoid\u001b[39;49;00m  (::std::vector< \u001b[36mint\u001b[39;49;00m, ::std::allocator< \u001b[36mint\u001b[39;49;00m > >::*method_pointer_341df5e2719858f39df095cac9121eaf)(\u001b[36mint\u001b[39;49;00m  \u001b[34mconst\u001b[39;49;00m &) = &::std::vector< \u001b[36mint\u001b[39;49;00m, \u001b[34mclass\u001b[39;49;00m \u001b[04m\u001b[31;01m:\u001b[39;49;00m\u001b[04m\u001b[31;01m:\u001b[39;49;00m\u001b[04m\u001b[32mstd\u001b[39;49;00m::allocator< \u001b[36mint\u001b[39;49;00m > >::push_back;\n",
      "    \u001b[36mvoid\u001b[39;49;00m  (::std::vector< \u001b[36mint\u001b[39;49;00m, ::std::allocator< \u001b[36mint\u001b[39;49;00m > >::*method_pointer_bbaecaa6c9535f04a1ffda1223792c23)() = &::std::vector< \u001b[36mint\u001b[39;49;00m, \u001b[34mclass\u001b[39;49;00m \u001b[04m\u001b[31;01m:\u001b[39;49;00m\u001b[04m\u001b[31;01m:\u001b[39;49;00m\u001b[04m\u001b[32mstd\u001b[39;49;00m::allocator< \u001b[36mint\u001b[39;49;00m > >::pop_back;\n",
      "    \u001b[36mvoid\u001b[39;49;00m  (::std::vector< \u001b[36mint\u001b[39;49;00m, ::std::allocator< \u001b[36mint\u001b[39;49;00m > >::*method_pointer_433012ce9fb655529590bcbd5d85150b)(\u001b[34mclass\u001b[39;49;00m \u001b[04m\u001b[31;01m:\u001b[39;49;00m\u001b[04m\u001b[31;01m:\u001b[39;49;00m\u001b[04m\u001b[32mstd\u001b[39;49;00m::vector< \u001b[36mint\u001b[39;49;00m, \u001b[34mclass\u001b[39;49;00m \u001b[04m\u001b[31;01m:\u001b[39;49;00m\u001b[04m\u001b[31;01m:\u001b[39;49;00m\u001b[04m\u001b[32mstd\u001b[39;49;00m::allocator< \u001b[36mint\u001b[39;49;00m > >  &) = &::std::vector< \u001b[36mint\u001b[39;49;00m, \u001b[34mclass\u001b[39;49;00m \u001b[04m\u001b[31;01m:\u001b[39;49;00m\u001b[04m\u001b[31;01m:\u001b[39;49;00m\u001b[04m\u001b[32mstd\u001b[39;49;00m::allocator< \u001b[36mint\u001b[39;49;00m > >::swap;\n",
      "    \u001b[36mvoid\u001b[39;49;00m  (::std::vector< \u001b[36mint\u001b[39;49;00m, ::std::allocator< \u001b[36mint\u001b[39;49;00m > >::*method_pointer_201a5d8f6cc15fd1b83d45af764f3905)() = &::std::vector< \u001b[36mint\u001b[39;49;00m, \u001b[34mclass\u001b[39;49;00m \u001b[04m\u001b[31;01m:\u001b[39;49;00m\u001b[04m\u001b[31;01m:\u001b[39;49;00m\u001b[04m\u001b[32mstd\u001b[39;49;00m::allocator< \u001b[36mint\u001b[39;49;00m > >::clear;\n",
      "    boost::python::class_< \u001b[34mclass\u001b[39;49;00m \u001b[04m\u001b[31;01m:\u001b[39;49;00m\u001b[04m\u001b[31;01m:\u001b[39;49;00m\u001b[04m\u001b[32mstd\u001b[39;49;00m::vector< \u001b[36mint\u001b[39;49;00m, \u001b[34mclass\u001b[39;49;00m \u001b[04m\u001b[31;01m:\u001b[39;49;00m\u001b[04m\u001b[31;01m:\u001b[39;49;00m\u001b[04m\u001b[32mstd\u001b[39;49;00m::allocator< \u001b[36mint\u001b[39;49;00m > >, autowig::HeldType< \u001b[34mclass\u001b[39;49;00m \u001b[04m\u001b[31;01m:\u001b[39;49;00m\u001b[04m\u001b[31;01m:\u001b[39;49;00m\u001b[04m\u001b[32mstd\u001b[39;49;00m::vector< \u001b[36mint\u001b[39;49;00m, \u001b[34mclass\u001b[39;49;00m \u001b[04m\u001b[31;01m:\u001b[39;49;00m\u001b[04m\u001b[31;01m:\u001b[39;49;00m\u001b[04m\u001b[32mstd\u001b[39;49;00m::allocator< \u001b[36mint\u001b[39;49;00m > > > > class_6b9ae5eac40858c9a0f5e6e21c15d1d3(\u001b[33m\"\u001b[39;49;00m\u001b[33m_Vector_6b9ae5eac40858c9a0f5e6e21c15d1d3\u001b[39;49;00m\u001b[33m\"\u001b[39;49;00m, \u001b[33m\"\u001b[39;49;00m\u001b[33m\"\u001b[39;49;00m, boost::python::no_init);\n",
      "    class_6b9ae5eac40858c9a0f5e6e21c15d1d3.def(boost::python::init<  >(\u001b[33m\"\u001b[39;49;00m\u001b[33m\"\u001b[39;49;00m));\n",
      "    class_6b9ae5eac40858c9a0f5e6e21c15d1d3.def(boost::python::init< \u001b[34mclass\u001b[39;49;00m \u001b[04m\u001b[31;01m:\u001b[39;49;00m\u001b[04m\u001b[31;01m:\u001b[39;49;00m\u001b[04m\u001b[32mstd\u001b[39;49;00m::allocator< \u001b[36mint\u001b[39;49;00m >  \u001b[34mconst\u001b[39;49;00m & >(\u001b[33m\"\u001b[39;49;00m\u001b[33m\"\u001b[39;49;00m));\n",
      "    class_6b9ae5eac40858c9a0f5e6e21c15d1d3.def(boost::python::init< \u001b[36munsigned\u001b[39;49;00m \u001b[36mlong\u001b[39;49;00m \u001b[36mint\u001b[39;49;00m , \u001b[34mclass\u001b[39;49;00m \u001b[04m\u001b[31;01m:\u001b[39;49;00m\u001b[04m\u001b[31;01m:\u001b[39;49;00m\u001b[04m\u001b[32mstd\u001b[39;49;00m::allocator< \u001b[36mint\u001b[39;49;00m >  \u001b[34mconst\u001b[39;49;00m & >(\u001b[33m\"\u001b[39;49;00m\u001b[33m\"\u001b[39;49;00m));\n",
      "    class_6b9ae5eac40858c9a0f5e6e21c15d1d3.def(boost::python::init< \u001b[36munsigned\u001b[39;49;00m \u001b[36mlong\u001b[39;49;00m \u001b[36mint\u001b[39;49;00m , \u001b[36mint\u001b[39;49;00m  \u001b[34mconst\u001b[39;49;00m &, \u001b[34mclass\u001b[39;49;00m \u001b[04m\u001b[31;01m:\u001b[39;49;00m\u001b[04m\u001b[31;01m:\u001b[39;49;00m\u001b[04m\u001b[32mstd\u001b[39;49;00m::allocator< \u001b[36mint\u001b[39;49;00m >  \u001b[34mconst\u001b[39;49;00m & >(\u001b[33m\"\u001b[39;49;00m\u001b[33m\"\u001b[39;49;00m));\n",
      "    class_6b9ae5eac40858c9a0f5e6e21c15d1d3.def(boost::python::init< \u001b[34mclass\u001b[39;49;00m \u001b[04m\u001b[31;01m:\u001b[39;49;00m\u001b[04m\u001b[31;01m:\u001b[39;49;00m\u001b[04m\u001b[32mstd\u001b[39;49;00m::vector< \u001b[36mint\u001b[39;49;00m, \u001b[34mclass\u001b[39;49;00m \u001b[04m\u001b[31;01m:\u001b[39;49;00m\u001b[04m\u001b[31;01m:\u001b[39;49;00m\u001b[04m\u001b[32mstd\u001b[39;49;00m::allocator< \u001b[36mint\u001b[39;49;00m > >  \u001b[34mconst\u001b[39;49;00m & >(\u001b[33m\"\u001b[39;49;00m\u001b[33m\"\u001b[39;49;00m));\n",
      "    class_6b9ae5eac40858c9a0f5e6e21c15d1d3.def(boost::python::init< \u001b[34mclass\u001b[39;49;00m \u001b[04m\u001b[31;01m:\u001b[39;49;00m\u001b[04m\u001b[31;01m:\u001b[39;49;00m\u001b[04m\u001b[32mstd\u001b[39;49;00m::vector< \u001b[36mint\u001b[39;49;00m, \u001b[34mclass\u001b[39;49;00m \u001b[04m\u001b[31;01m:\u001b[39;49;00m\u001b[04m\u001b[31;01m:\u001b[39;49;00m\u001b[04m\u001b[32mstd\u001b[39;49;00m::allocator< \u001b[36mint\u001b[39;49;00m > >  \u001b[34mconst\u001b[39;49;00m &, \u001b[34mclass\u001b[39;49;00m \u001b[04m\u001b[31;01m:\u001b[39;49;00m\u001b[04m\u001b[31;01m:\u001b[39;49;00m\u001b[04m\u001b[32mstd\u001b[39;49;00m::allocator< \u001b[36mint\u001b[39;49;00m >  \u001b[34mconst\u001b[39;49;00m & >(\u001b[33m\"\u001b[39;49;00m\u001b[33m\"\u001b[39;49;00m));\n",
      "    class_6b9ae5eac40858c9a0f5e6e21c15d1d3.def(\u001b[33m\"\u001b[39;49;00m\u001b[33massign\u001b[39;49;00m\u001b[33m\"\u001b[39;49;00m, method_pointer_3ee60599950b5555a32f72572e8ff771, \u001b[33m\"\u001b[39;49;00m\u001b[33m\"\u001b[39;49;00m);\n",
      "    class_6b9ae5eac40858c9a0f5e6e21c15d1d3.def(\u001b[33m\"\u001b[39;49;00m\u001b[33msize\u001b[39;49;00m\u001b[33m\"\u001b[39;49;00m, method_pointer_2f0bd94041965427ab114d1ec9369eb1, \u001b[33m\"\u001b[39;49;00m\u001b[33m\"\u001b[39;49;00m);\n",
      "    class_6b9ae5eac40858c9a0f5e6e21c15d1d3.def(\u001b[33m\"\u001b[39;49;00m\u001b[33mmax_size\u001b[39;49;00m\u001b[33m\"\u001b[39;49;00m, method_pointer_03cb2a43c5ae5df48ecc631a008fa511, \u001b[33m\"\u001b[39;49;00m\u001b[33m\"\u001b[39;49;00m);\n",
      "    class_6b9ae5eac40858c9a0f5e6e21c15d1d3.def(\u001b[33m\"\u001b[39;49;00m\u001b[33mresize\u001b[39;49;00m\u001b[33m\"\u001b[39;49;00m, method_pointer_b661720aed4355f39b433f04f40c652d, \u001b[33m\"\u001b[39;49;00m\u001b[33m\"\u001b[39;49;00m);\n",
      "    class_6b9ae5eac40858c9a0f5e6e21c15d1d3.def(\u001b[33m\"\u001b[39;49;00m\u001b[33mresize\u001b[39;49;00m\u001b[33m\"\u001b[39;49;00m, method_pointer_656ab36255e95c4eacd64f33eba6a02e, \u001b[33m\"\u001b[39;49;00m\u001b[33m\"\u001b[39;49;00m);\n",
      "    class_6b9ae5eac40858c9a0f5e6e21c15d1d3.def(\u001b[33m\"\u001b[39;49;00m\u001b[33mshrink_to_fit\u001b[39;49;00m\u001b[33m\"\u001b[39;49;00m, method_pointer_f9cfe6149ce85d2a9c11d29a2ff6ef88, \u001b[33m\"\u001b[39;49;00m\u001b[33m\"\u001b[39;49;00m);\n",
      "    class_6b9ae5eac40858c9a0f5e6e21c15d1d3.def(\u001b[33m\"\u001b[39;49;00m\u001b[33mcapacity\u001b[39;49;00m\u001b[33m\"\u001b[39;49;00m, method_pointer_2d96cb90afc35aaaa142783706900e63, \u001b[33m\"\u001b[39;49;00m\u001b[33m\"\u001b[39;49;00m);\n",
      "    class_6b9ae5eac40858c9a0f5e6e21c15d1d3.def(\u001b[33m\"\u001b[39;49;00m\u001b[33mempty\u001b[39;49;00m\u001b[33m\"\u001b[39;49;00m, method_pointer_829beec6ac39542092370174938c108d, \u001b[33m\"\u001b[39;49;00m\u001b[33m\"\u001b[39;49;00m);\n",
      "    class_6b9ae5eac40858c9a0f5e6e21c15d1d3.def(\u001b[33m\"\u001b[39;49;00m\u001b[33mreserve\u001b[39;49;00m\u001b[33m\"\u001b[39;49;00m, method_pointer_bb2b15e55a165e4590a962713b38756e, \u001b[33m\"\u001b[39;49;00m\u001b[33m\"\u001b[39;49;00m);\n",
      "    class_6b9ae5eac40858c9a0f5e6e21c15d1d3.def(\u001b[33m\"\u001b[39;49;00m\u001b[33m__getitem__\u001b[39;49;00m\u001b[33m\"\u001b[39;49;00m, method_pointer_7debf7c14b9b59bda0df7817656d79e8, boost::python::return_value_policy< boost::python::return_by_value >(), \u001b[33m\"\u001b[39;49;00m\u001b[33m\"\u001b[39;49;00m);\n",
      "    class_6b9ae5eac40858c9a0f5e6e21c15d1d3.def(\u001b[33m\"\u001b[39;49;00m\u001b[33m__getitem__\u001b[39;49;00m\u001b[33m\"\u001b[39;49;00m, autowig::method_decorator_7debf7c14b9b59bda0df7817656d79e8);\n",
      "    class_6b9ae5eac40858c9a0f5e6e21c15d1d3.def(\u001b[33m\"\u001b[39;49;00m\u001b[33m__getitem__\u001b[39;49;00m\u001b[33m\"\u001b[39;49;00m, method_pointer_be70b700bb335ba8847833cc620fa92e, boost::python::return_value_policy< boost::python::return_by_value >(), \u001b[33m\"\u001b[39;49;00m\u001b[33m\"\u001b[39;49;00m);\n",
      "    class_6b9ae5eac40858c9a0f5e6e21c15d1d3.def(\u001b[33m\"\u001b[39;49;00m\u001b[33mat\u001b[39;49;00m\u001b[33m\"\u001b[39;49;00m, method_pointer_bb1e0852f2ca56c094260a03787426c7, boost::python::return_value_policy< boost::python::return_by_value >(), \u001b[33m\"\u001b[39;49;00m\u001b[33m\"\u001b[39;49;00m);\n",
      "    class_6b9ae5eac40858c9a0f5e6e21c15d1d3.def(\u001b[33m\"\u001b[39;49;00m\u001b[33mat\u001b[39;49;00m\u001b[33m\"\u001b[39;49;00m, autowig::method_decorator_bb1e0852f2ca56c094260a03787426c7);\n",
      "    class_6b9ae5eac40858c9a0f5e6e21c15d1d3.def(\u001b[33m\"\u001b[39;49;00m\u001b[33mat\u001b[39;49;00m\u001b[33m\"\u001b[39;49;00m, method_pointer_a36af7a241c15d6887cc6c239cd0d230, boost::python::return_value_policy< boost::python::return_by_value >(), \u001b[33m\"\u001b[39;49;00m\u001b[33m\"\u001b[39;49;00m);\n",
      "    class_6b9ae5eac40858c9a0f5e6e21c15d1d3.def(\u001b[33m\"\u001b[39;49;00m\u001b[33mfront\u001b[39;49;00m\u001b[33m\"\u001b[39;49;00m, method_pointer_7ec1ac72b0b05f3a9707175bcd5da0bd, boost::python::return_value_policy< boost::python::return_by_value >(), \u001b[33m\"\u001b[39;49;00m\u001b[33m\"\u001b[39;49;00m);\n",
      "    class_6b9ae5eac40858c9a0f5e6e21c15d1d3.def(\u001b[33m\"\u001b[39;49;00m\u001b[33mfront\u001b[39;49;00m\u001b[33m\"\u001b[39;49;00m, autowig::method_decorator_7ec1ac72b0b05f3a9707175bcd5da0bd);\n",
      "    class_6b9ae5eac40858c9a0f5e6e21c15d1d3.def(\u001b[33m\"\u001b[39;49;00m\u001b[33mfront\u001b[39;49;00m\u001b[33m\"\u001b[39;49;00m, method_pointer_b7cadb076a605b51b2601b9b3480c6b5, boost::python::return_value_policy< boost::python::return_by_value >(), \u001b[33m\"\u001b[39;49;00m\u001b[33m\"\u001b[39;49;00m);\n",
      "    class_6b9ae5eac40858c9a0f5e6e21c15d1d3.def(\u001b[33m\"\u001b[39;49;00m\u001b[33mback\u001b[39;49;00m\u001b[33m\"\u001b[39;49;00m, method_pointer_ed1cf37568ed54cbbd326e6ccbe5f27d, boost::python::return_value_policy< boost::python::return_by_value >(), \u001b[33m\"\u001b[39;49;00m\u001b[33m\"\u001b[39;49;00m);\n",
      "    class_6b9ae5eac40858c9a0f5e6e21c15d1d3.def(\u001b[33m\"\u001b[39;49;00m\u001b[33mback\u001b[39;49;00m\u001b[33m\"\u001b[39;49;00m, autowig::method_decorator_ed1cf37568ed54cbbd326e6ccbe5f27d);\n",
      "    class_6b9ae5eac40858c9a0f5e6e21c15d1d3.def(\u001b[33m\"\u001b[39;49;00m\u001b[33mback\u001b[39;49;00m\u001b[33m\"\u001b[39;49;00m, method_pointer_aaa6ab4cb09b56e3adee1ae72ce60d90, boost::python::return_value_policy< boost::python::return_by_value >(), \u001b[33m\"\u001b[39;49;00m\u001b[33m\"\u001b[39;49;00m);\n",
      "    class_6b9ae5eac40858c9a0f5e6e21c15d1d3.def(\u001b[33m\"\u001b[39;49;00m\u001b[33mpush_back\u001b[39;49;00m\u001b[33m\"\u001b[39;49;00m, method_pointer_341df5e2719858f39df095cac9121eaf, \u001b[33m\"\u001b[39;49;00m\u001b[33m\"\u001b[39;49;00m);\n",
      "    class_6b9ae5eac40858c9a0f5e6e21c15d1d3.def(\u001b[33m\"\u001b[39;49;00m\u001b[33mpop_back\u001b[39;49;00m\u001b[33m\"\u001b[39;49;00m, method_pointer_bbaecaa6c9535f04a1ffda1223792c23, \u001b[33m\"\u001b[39;49;00m\u001b[33m\"\u001b[39;49;00m);\n",
      "    class_6b9ae5eac40858c9a0f5e6e21c15d1d3.def(\u001b[33m\"\u001b[39;49;00m\u001b[33mswap\u001b[39;49;00m\u001b[33m\"\u001b[39;49;00m, method_pointer_433012ce9fb655529590bcbd5d85150b, \u001b[33m\"\u001b[39;49;00m\u001b[33m\"\u001b[39;49;00m);\n",
      "    class_6b9ae5eac40858c9a0f5e6e21c15d1d3.def(\u001b[33m\"\u001b[39;49;00m\u001b[33mclear\u001b[39;49;00m\u001b[33m\"\u001b[39;49;00m, method_pointer_201a5d8f6cc15fd1b83d45af764f3905, \u001b[33m\"\u001b[39;49;00m\u001b[33m\"\u001b[39;49;00m);\n",
      "\n",
      "    \u001b[34mstruct\u001b[39;49;00m vector_6b9ae5eac40858c9a0f5e6e21c15d1d3_from_python\n",
      "    {\n",
      "        vector_6b9ae5eac40858c9a0f5e6e21c15d1d3_from_python()\n",
      "        {\n",
      "            boost::python::converter::registry::push_back(\n",
      "                &convertible,\n",
      "                &construct,\n",
      "                boost::python::type_id< \u001b[34mclass\u001b[39;49;00m \u001b[04m\u001b[31;01m:\u001b[39;49;00m\u001b[04m\u001b[31;01m:\u001b[39;49;00m\u001b[04m\u001b[32mstd\u001b[39;49;00m::vector< \u001b[36mint\u001b[39;49;00m, \u001b[34mclass\u001b[39;49;00m \u001b[04m\u001b[31;01m:\u001b[39;49;00m\u001b[04m\u001b[31;01m:\u001b[39;49;00m\u001b[04m\u001b[32mstd\u001b[39;49;00m::allocator< \u001b[36mint\u001b[39;49;00m > > >());\n",
      "        }\n",
      "\n",
      "        \u001b[34mstatic\u001b[39;49;00m \u001b[36mvoid\u001b[39;49;00m* convertible(PyObject* obj_ptr)\n",
      "        { \u001b[34mreturn\u001b[39;49;00m obj_ptr; }\n",
      "\n",
      "        \u001b[34mstatic\u001b[39;49;00m \u001b[36mvoid\u001b[39;49;00m construct(PyObject* obj_ptr, boost::python::converter::rvalue_from_python_stage1_data* data)\n",
      "        {\n",
      "            boost::python::handle<> obj_iter(PyObject_GetIter(obj_ptr));\n",
      "            \u001b[36mvoid\u001b[39;49;00m* storage = ((boost::python::converter::rvalue_from_python_storage< \u001b[34mclass\u001b[39;49;00m \u001b[04m\u001b[31;01m:\u001b[39;49;00m\u001b[04m\u001b[31;01m:\u001b[39;49;00m\u001b[04m\u001b[32mstd\u001b[39;49;00m::vector< \u001b[36mint\u001b[39;49;00m, \u001b[34mclass\u001b[39;49;00m \u001b[04m\u001b[31;01m:\u001b[39;49;00m\u001b[04m\u001b[31;01m:\u001b[39;49;00m\u001b[04m\u001b[32mstd\u001b[39;49;00m::allocator< \u001b[36mint\u001b[39;49;00m > > >*)data)->storage.bytes;\n",
      "            \u001b[34mnew\u001b[39;49;00m (storage) \u001b[34mclass\u001b[39;49;00m \u001b[04m\u001b[31;01m:\u001b[39;49;00m\u001b[04m\u001b[31;01m:\u001b[39;49;00m\u001b[04m\u001b[32mstd\u001b[39;49;00m::vector< \u001b[36mint\u001b[39;49;00m, \u001b[34mclass\u001b[39;49;00m \u001b[04m\u001b[31;01m:\u001b[39;49;00m\u001b[04m\u001b[31;01m:\u001b[39;49;00m\u001b[04m\u001b[32mstd\u001b[39;49;00m::allocator< \u001b[36mint\u001b[39;49;00m > >();\n",
      "            data->convertible = storage;\n",
      "            \u001b[34mclass\u001b[39;49;00m \u001b[04m\u001b[31;01m:\u001b[39;49;00m\u001b[04m\u001b[31;01m:\u001b[39;49;00m\u001b[04m\u001b[32mstd\u001b[39;49;00m::vector< \u001b[36mint\u001b[39;49;00m, \u001b[34mclass\u001b[39;49;00m \u001b[04m\u001b[31;01m:\u001b[39;49;00m\u001b[04m\u001b[31;01m:\u001b[39;49;00m\u001b[04m\u001b[32mstd\u001b[39;49;00m::allocator< \u001b[36mint\u001b[39;49;00m > >& result = *((\u001b[34mclass\u001b[39;49;00m \u001b[04m\u001b[31;01m:\u001b[39;49;00m\u001b[04m\u001b[31;01m:\u001b[39;49;00m\u001b[04m\u001b[32mstd\u001b[39;49;00m::vector< \u001b[36mint\u001b[39;49;00m, \u001b[34mclass\u001b[39;49;00m \u001b[04m\u001b[31;01m:\u001b[39;49;00m\u001b[04m\u001b[31;01m:\u001b[39;49;00m\u001b[04m\u001b[32mstd\u001b[39;49;00m::allocator< \u001b[36mint\u001b[39;49;00m > >*)storage);\n",
      "            \u001b[36munsigned\u001b[39;49;00m \u001b[36mint\u001b[39;49;00m i = \u001b[34m0\u001b[39;49;00m;\n",
      "            \u001b[34mfor\u001b[39;49;00m(;; i++)\n",
      "            {\n",
      "                boost::python::handle<> py_elem_hdl(boost::python::allow_null(PyIter_Next(obj_iter.get())));\n",
      "                \u001b[34mif\u001b[39;49;00m(PyErr_Occurred())\n",
      "                { boost::python::throw_error_already_set(); }\n",
      "                \u001b[34mif\u001b[39;49;00m(!py_elem_hdl.get())\n",
      "                { \u001b[34mbreak\u001b[39;49;00m; }\n",
      "                boost::python::object py_elem_obj(py_elem_hdl);\n",
      "                result.push_back((\u001b[36mint\u001b[39;49;00m )(boost::python::extract< \u001b[36mint\u001b[39;49;00m  >(py_elem_obj)));\n",
      "            }\n",
      "        }\n",
      "    };\n",
      "\n",
      "    vector_6b9ae5eac40858c9a0f5e6e21c15d1d3_from_python();\n",
      "}\n"
     ]
    }
   ],
   "source": [
    "%%bash\n",
    "pygmentize PySTL/src/py/_vector_wrapper_6b9ae5eac40858c9a0f5e6e21c15d1d3.cpp"
   ]
  },
  {
   "cell_type": "markdown",
   "metadata": {},
   "source": [
    "Once the wrappers are written on disk, we need to compile and install the *Python* bindings."
   ]
  },
  {
   "cell_type": "code",
   "execution_count": 13,
   "metadata": {
    "collapsed": false,
    "scrolled": true
   },
   "outputs": [
    {
     "name": "stdout",
     "output_type": "stream",
     "text": [
      "Removing old build environment\n",
      "BUILD START: python-stl-vector-1.0.0-py27_0\n",
      "    (actual version deferred until further download or env creation)\n",
      "Fetching package metadata ...........\n",
      "Solving package specifications: ..........\n",
      "scons: Reading SConscript files ...\n",
      "scons: done reading SConscript files.\n",
      "scons: Building targets ...\n",
      "Install file: \"build/cpp/vector.h\" as \"/home/main/miniconda/envs/_build/include/pystl/vector.h\"\n",
      "g++ -o build/py/_vector.h.gch -x c++-header -c -fPIC -std=c++0x -ftemplate-depth-100 -DBOOST_PYTHON_DYNAMIC_LIB -I/home/main/miniconda/envs/_build/include -I/home/main/miniconda/envs/_build/include/python2.7 build/py/_vector.h\n",
      "g++ -o build/py/_vector_wrapper_628e6cb7cb2e5fed9cbdad40da9cebd7.os -c -std=c++0x -ftemplate-depth-100 -fPIC -DBOOST_PYTHON_DYNAMIC_LIB -I/home/main/miniconda/envs/_build/include -I/home/main/miniconda/envs/_build/include/python2.7 build/py/_vector_wrapper_628e6cb7cb2e5fed9cbdad40da9cebd7.cpp\n",
      "g++ -o build/py/_vector_wrapper_448c20257e485acda59dc59305fceb58.os -c -std=c++0x -ftemplate-depth-100 -fPIC -DBOOST_PYTHON_DYNAMIC_LIB -I/home/main/miniconda/envs/_build/include -I/home/main/miniconda/envs/_build/include/python2.7 build/py/_vector_wrapper_448c20257e485acda59dc59305fceb58.cpp\n",
      "g++ -o build/py/_vector_wrapper_e82966ba7c645d4ebcb8ed3c8ecdfab3.os -c -std=c++0x -ftemplate-depth-100 -fPIC -DBOOST_PYTHON_DYNAMIC_LIB -I/home/main/miniconda/envs/_build/include -I/home/main/miniconda/envs/_build/include/python2.7 build/py/_vector_wrapper_e82966ba7c645d4ebcb8ed3c8ecdfab3.cpp\n",
      "g++ -o build/py/_vector_wrapper_69f7af7e22fe5fe28143fd340cbfa5b7.os -c -std=c++0x -ftemplate-depth-100 -fPIC -DBOOST_PYTHON_DYNAMIC_LIB -I/home/main/miniconda/envs/_build/include -I/home/main/miniconda/envs/_build/include/python2.7 build/py/_vector_wrapper_69f7af7e22fe5fe28143fd340cbfa5b7.cpp\n",
      "g++ -o build/py/_vector_wrapper_416406fc76ba5cccb54978782a4c8eca.os -c -std=c++0x -ftemplate-depth-100 -fPIC -DBOOST_PYTHON_DYNAMIC_LIB -I/home/main/miniconda/envs/_build/include -I/home/main/miniconda/envs/_build/include/python2.7 build/py/_vector_wrapper_416406fc76ba5cccb54978782a4c8eca.cpp\n",
      "g++ -o build/py/_vector_wrapper_e18d26d68fb856ae8cf4afd031221e99.os -c -std=c++0x -ftemplate-depth-100 -fPIC -DBOOST_PYTHON_DYNAMIC_LIB -I/home/main/miniconda/envs/_build/include -I/home/main/miniconda/envs/_build/include/python2.7 build/py/_vector_wrapper_e18d26d68fb856ae8cf4afd031221e99.cpp\n",
      "g++ -o build/py/_vector_wrapper_af8fefbb19d350f88fa4492cb56686d1.os -c -std=c++0x -ftemplate-depth-100 -fPIC -DBOOST_PYTHON_DYNAMIC_LIB -I/home/main/miniconda/envs/_build/include -I/home/main/miniconda/envs/_build/include/python2.7 build/py/_vector_wrapper_af8fefbb19d350f88fa4492cb56686d1.cpp\n",
      "g++ -o build/py/_vector_wrapper_09ccb85b06c656d0ae4b5098206c8c15.os -c -std=c++0x -ftemplate-depth-100 -fPIC -DBOOST_PYTHON_DYNAMIC_LIB -I/home/main/miniconda/envs/_build/include -I/home/main/miniconda/envs/_build/include/python2.7 build/py/_vector_wrapper_09ccb85b06c656d0ae4b5098206c8c15.cpp\n",
      "g++ -o build/py/_vector_wrapper_f1017c1f5f81521d8cf73de0d2a9d5b2.os -c -std=c++0x -ftemplate-depth-100 -fPIC -DBOOST_PYTHON_DYNAMIC_LIB -I/home/main/miniconda/envs/_build/include -I/home/main/miniconda/envs/_build/include/python2.7 build/py/_vector_wrapper_f1017c1f5f81521d8cf73de0d2a9d5b2.cpp\n",
      "g++ -o build/py/_vector_wrapper_36d80fce69e956aab642b15c28373775.os -c -std=c++0x -ftemplate-depth-100 -fPIC -DBOOST_PYTHON_DYNAMIC_LIB -I/home/main/miniconda/envs/_build/include -I/home/main/miniconda/envs/_build/include/python2.7 build/py/_vector_wrapper_36d80fce69e956aab642b15c28373775.cpp\n",
      "g++ -o build/py/_vector_wrapper_bb76550a6cb05724b18b7c262048c865.os -c -std=c++0x -ftemplate-depth-100 -fPIC -DBOOST_PYTHON_DYNAMIC_LIB -I/home/main/miniconda/envs/_build/include -I/home/main/miniconda/envs/_build/include/python2.7 build/py/_vector_wrapper_bb76550a6cb05724b18b7c262048c865.cpp\n",
      "g++ -o build/py/_vector_wrapper_93823bb50db15ce2a0108011ea943902.os -c -std=c++0x -ftemplate-depth-100 -fPIC -DBOOST_PYTHON_DYNAMIC_LIB -I/home/main/miniconda/envs/_build/include -I/home/main/miniconda/envs/_build/include/python2.7 build/py/_vector_wrapper_93823bb50db15ce2a0108011ea943902.cpp\n",
      "g++ -o build/py/_vector_wrapper_41189d27ccb450ec86b27e9434982ab1.os -c -std=c++0x -ftemplate-depth-100 -fPIC -DBOOST_PYTHON_DYNAMIC_LIB -I/home/main/miniconda/envs/_build/include -I/home/main/miniconda/envs/_build/include/python2.7 build/py/_vector_wrapper_41189d27ccb450ec86b27e9434982ab1.cpp\n",
      "g++ -o build/py/_vector_wrapper_ffc95a4eb0c75a818981112bce5f983e.os -c -std=c++0x -ftemplate-depth-100 -fPIC -DBOOST_PYTHON_DYNAMIC_LIB -I/home/main/miniconda/envs/_build/include -I/home/main/miniconda/envs/_build/include/python2.7 build/py/_vector_wrapper_ffc95a4eb0c75a818981112bce5f983e.cpp\n",
      "g++ -o build/py/_vector_wrapper_6e0fe7831b8559b7a3d09cc1c5902ea5.os -c -std=c++0x -ftemplate-depth-100 -fPIC -DBOOST_PYTHON_DYNAMIC_LIB -I/home/main/miniconda/envs/_build/include -I/home/main/miniconda/envs/_build/include/python2.7 build/py/_vector_wrapper_6e0fe7831b8559b7a3d09cc1c5902ea5.cpp\n",
      "g++ -o build/py/_vector_wrapper_eb20877782465209ad83e6572cd12886.os -c -std=c++0x -ftemplate-depth-100 -fPIC -DBOOST_PYTHON_DYNAMIC_LIB -I/home/main/miniconda/envs/_build/include -I/home/main/miniconda/envs/_build/include/python2.7 build/py/_vector_wrapper_eb20877782465209ad83e6572cd12886.cpp\n",
      "g++ -o build/py/_vector_wrapper_fba05b094bad5ee7a64ea37c5db11a9f.os -c -std=c++0x -ftemplate-depth-100 -fPIC -DBOOST_PYTHON_DYNAMIC_LIB -I/home/main/miniconda/envs/_build/include -I/home/main/miniconda/envs/_build/include/python2.7 build/py/_vector_wrapper_fba05b094bad5ee7a64ea37c5db11a9f.cpp\n",
      "g++ -o build/py/_vector_wrapper_ff2c07b97db75b65a298e043f3aaa8a8.os -c -std=c++0x -ftemplate-depth-100 -fPIC -DBOOST_PYTHON_DYNAMIC_LIB -I/home/main/miniconda/envs/_build/include -I/home/main/miniconda/envs/_build/include/python2.7 build/py/_vector_wrapper_ff2c07b97db75b65a298e043f3aaa8a8.cpp\n",
      "g++ -o build/py/_vector_wrapper_fa8686e2306058a5b119acebe09d778c.os -c -std=c++0x -ftemplate-depth-100 -fPIC -DBOOST_PYTHON_DYNAMIC_LIB -I/home/main/miniconda/envs/_build/include -I/home/main/miniconda/envs/_build/include/python2.7 build/py/_vector_wrapper_fa8686e2306058a5b119acebe09d778c.cpp\n",
      "g++ -o build/py/_vector_wrapper_d6530011068b53e68b0287acbd8fb321.os -c -std=c++0x -ftemplate-depth-100 -fPIC -DBOOST_PYTHON_DYNAMIC_LIB -I/home/main/miniconda/envs/_build/include -I/home/main/miniconda/envs/_build/include/python2.7 build/py/_vector_wrapper_d6530011068b53e68b0287acbd8fb321.cpp\n",
      "g++ -o build/py/_vector_wrapper_c90e94137f645591adaf1c6c2d1953c9.os -c -std=c++0x -ftemplate-depth-100 -fPIC -DBOOST_PYTHON_DYNAMIC_LIB -I/home/main/miniconda/envs/_build/include -I/home/main/miniconda/envs/_build/include/python2.7 build/py/_vector_wrapper_c90e94137f645591adaf1c6c2d1953c9.cpp\n",
      "g++ -o build/py/_vector_wrapper_3ddc8f81a4c15420ad2d2d4e3d99ea08.os -c -std=c++0x -ftemplate-depth-100 -fPIC -DBOOST_PYTHON_DYNAMIC_LIB -I/home/main/miniconda/envs/_build/include -I/home/main/miniconda/envs/_build/include/python2.7 build/py/_vector_wrapper_3ddc8f81a4c15420ad2d2d4e3d99ea08.cpp\n",
      "g++ -o build/py/_vector_wrapper_b776cce0cc7559e6ad186e6b089932b4.os -c -std=c++0x -ftemplate-depth-100 -fPIC -DBOOST_PYTHON_DYNAMIC_LIB -I/home/main/miniconda/envs/_build/include -I/home/main/miniconda/envs/_build/include/python2.7 build/py/_vector_wrapper_b776cce0cc7559e6ad186e6b089932b4.cpp\n",
      "g++ -o build/py/_vector_wrapper_dac8f273f61555c3a8102bedbc08248f.os -c -std=c++0x -ftemplate-depth-100 -fPIC -DBOOST_PYTHON_DYNAMIC_LIB -I/home/main/miniconda/envs/_build/include -I/home/main/miniconda/envs/_build/include/python2.7 build/py/_vector_wrapper_dac8f273f61555c3a8102bedbc08248f.cpp\n",
      "g++ -o build/py/_vector_wrapper_b26c6e83a2335bd4b071896b3504ec87.os -c -std=c++0x -ftemplate-depth-100 -fPIC -DBOOST_PYTHON_DYNAMIC_LIB -I/home/main/miniconda/envs/_build/include -I/home/main/miniconda/envs/_build/include/python2.7 build/py/_vector_wrapper_b26c6e83a2335bd4b071896b3504ec87.cpp\n",
      "g++ -o build/py/_vector_wrapper_9b35c25286da5c8cb096fe1e010a1bd9.os -c -std=c++0x -ftemplate-depth-100 -fPIC -DBOOST_PYTHON_DYNAMIC_LIB -I/home/main/miniconda/envs/_build/include -I/home/main/miniconda/envs/_build/include/python2.7 build/py/_vector_wrapper_9b35c25286da5c8cb096fe1e010a1bd9.cpp\n",
      "g++ -o build/py/_vector_wrapper_efcbef2d08e25ab1940fd673f3b52d2a.os -c -std=c++0x -ftemplate-depth-100 -fPIC -DBOOST_PYTHON_DYNAMIC_LIB -I/home/main/miniconda/envs/_build/include -I/home/main/miniconda/envs/_build/include/python2.7 build/py/_vector_wrapper_efcbef2d08e25ab1940fd673f3b52d2a.cpp\n",
      "g++ -o build/py/_vector_wrapper_ed684b2ceb2656a18be84bcc0aeb2109.os -c -std=c++0x -ftemplate-depth-100 -fPIC -DBOOST_PYTHON_DYNAMIC_LIB -I/home/main/miniconda/envs/_build/include -I/home/main/miniconda/envs/_build/include/python2.7 build/py/_vector_wrapper_ed684b2ceb2656a18be84bcc0aeb2109.cpp\n",
      "g++ -o build/py/_vector_wrapper_53c861f9d8075eb389446378d805b011.os -c -std=c++0x -ftemplate-depth-100 -fPIC -DBOOST_PYTHON_DYNAMIC_LIB -I/home/main/miniconda/envs/_build/include -I/home/main/miniconda/envs/_build/include/python2.7 build/py/_vector_wrapper_53c861f9d8075eb389446378d805b011.cpp\n",
      "g++ -o build/py/_vector_wrapper_4fada1bab0755efb9a58fc9b0133b385.os -c -std=c++0x -ftemplate-depth-100 -fPIC -DBOOST_PYTHON_DYNAMIC_LIB -I/home/main/miniconda/envs/_build/include -I/home/main/miniconda/envs/_build/include/python2.7 build/py/_vector_wrapper_4fada1bab0755efb9a58fc9b0133b385.cpp\n",
      "g++ -o build/py/_vector_wrapper_435bdf22f2f354fc96676e9aee352e11.os -c -std=c++0x -ftemplate-depth-100 -fPIC -DBOOST_PYTHON_DYNAMIC_LIB -I/home/main/miniconda/envs/_build/include -I/home/main/miniconda/envs/_build/include/python2.7 build/py/_vector_wrapper_435bdf22f2f354fc96676e9aee352e11.cpp\n",
      "g++ -o build/py/_vector_wrapper_97415f13d22d5aa4a1ae30d6b07a069f.os -c -std=c++0x -ftemplate-depth-100 -fPIC -DBOOST_PYTHON_DYNAMIC_LIB -I/home/main/miniconda/envs/_build/include -I/home/main/miniconda/envs/_build/include/python2.7 build/py/_vector_wrapper_97415f13d22d5aa4a1ae30d6b07a069f.cpp\n",
      "g++ -o build/py/_vector_wrapper_60aff78681e55436bd869117aca7d65b.os -c -std=c++0x -ftemplate-depth-100 -fPIC -DBOOST_PYTHON_DYNAMIC_LIB -I/home/main/miniconda/envs/_build/include -I/home/main/miniconda/envs/_build/include/python2.7 build/py/_vector_wrapper_60aff78681e55436bd869117aca7d65b.cpp\n",
      "g++ -o build/py/_vector_wrapper_6ff1e9316caf5bf0a9593325f734ca89.os -c -std=c++0x -ftemplate-depth-100 -fPIC -DBOOST_PYTHON_DYNAMIC_LIB -I/home/main/miniconda/envs/_build/include -I/home/main/miniconda/envs/_build/include/python2.7 build/py/_vector_wrapper_6ff1e9316caf5bf0a9593325f734ca89.cpp\n",
      "g++ -o build/py/_vector_wrapper_601f7a1862b55277b9f23f3a4eadf63d.os -c -std=c++0x -ftemplate-depth-100 -fPIC -DBOOST_PYTHON_DYNAMIC_LIB -I/home/main/miniconda/envs/_build/include -I/home/main/miniconda/envs/_build/include/python2.7 build/py/_vector_wrapper_601f7a1862b55277b9f23f3a4eadf63d.cpp\n",
      "g++ -o build/py/_vector_wrapper_d31a32c5b99551c394c5b82b30214e7f.os -c -std=c++0x -ftemplate-depth-100 -fPIC -DBOOST_PYTHON_DYNAMIC_LIB -I/home/main/miniconda/envs/_build/include -I/home/main/miniconda/envs/_build/include/python2.7 build/py/_vector_wrapper_d31a32c5b99551c394c5b82b30214e7f.cpp\n",
      "g++ -o build/py/_vector_wrapper_68c0a35200ee527493ddfeaa77766833.os -c -std=c++0x -ftemplate-depth-100 -fPIC -DBOOST_PYTHON_DYNAMIC_LIB -I/home/main/miniconda/envs/_build/include -I/home/main/miniconda/envs/_build/include/python2.7 build/py/_vector_wrapper_68c0a35200ee527493ddfeaa77766833.cpp\n",
      "g++ -o build/py/_vector_wrapper_8446c247679b5c328d3b2c6916603b42.os -c -std=c++0x -ftemplate-depth-100 -fPIC -DBOOST_PYTHON_DYNAMIC_LIB -I/home/main/miniconda/envs/_build/include -I/home/main/miniconda/envs/_build/include/python2.7 build/py/_vector_wrapper_8446c247679b5c328d3b2c6916603b42.cpp\n",
      "g++ -o build/py/_vector_wrapper_7258d82230c452618b4e83349f6b9aca.os -c -std=c++0x -ftemplate-depth-100 -fPIC -DBOOST_PYTHON_DYNAMIC_LIB -I/home/main/miniconda/envs/_build/include -I/home/main/miniconda/envs/_build/include/python2.7 build/py/_vector_wrapper_7258d82230c452618b4e83349f6b9aca.cpp\n",
      "g++ -o build/py/_vector_wrapper_6958164f536656fabead2f07ec187278.os -c -std=c++0x -ftemplate-depth-100 -fPIC -DBOOST_PYTHON_DYNAMIC_LIB -I/home/main/miniconda/envs/_build/include -I/home/main/miniconda/envs/_build/include/python2.7 build/py/_vector_wrapper_6958164f536656fabead2f07ec187278.cpp\n",
      "g++ -o build/py/_vector_wrapper_2dccc5963742586092f9c622734db1a6.os -c -std=c++0x -ftemplate-depth-100 -fPIC -DBOOST_PYTHON_DYNAMIC_LIB -I/home/main/miniconda/envs/_build/include -I/home/main/miniconda/envs/_build/include/python2.7 build/py/_vector_wrapper_2dccc5963742586092f9c622734db1a6.cpp\n",
      "g++ -o build/py/_vector_wrapper_277a0516fe4451448165550d8b9d6b2b.os -c -std=c++0x -ftemplate-depth-100 -fPIC -DBOOST_PYTHON_DYNAMIC_LIB -I/home/main/miniconda/envs/_build/include -I/home/main/miniconda/envs/_build/include/python2.7 build/py/_vector_wrapper_277a0516fe4451448165550d8b9d6b2b.cpp\n",
      "g++ -o build/py/_vector_wrapper_234b8f06eb8458ccbe98490ec6b735e0.os -c -std=c++0x -ftemplate-depth-100 -fPIC -DBOOST_PYTHON_DYNAMIC_LIB -I/home/main/miniconda/envs/_build/include -I/home/main/miniconda/envs/_build/include/python2.7 build/py/_vector_wrapper_234b8f06eb8458ccbe98490ec6b735e0.cpp\n",
      "g++ -o build/py/_vector_wrapper_192327feab525151a3e51ea10398b0fb.os -c -std=c++0x -ftemplate-depth-100 -fPIC -DBOOST_PYTHON_DYNAMIC_LIB -I/home/main/miniconda/envs/_build/include -I/home/main/miniconda/envs/_build/include/python2.7 build/py/_vector_wrapper_192327feab525151a3e51ea10398b0fb.cpp\n",
      "g++ -o build/py/_vector_wrapper_0e202a8855575dee86e8a8c24e73a6c0.os -c -std=c++0x -ftemplate-depth-100 -fPIC -DBOOST_PYTHON_DYNAMIC_LIB -I/home/main/miniconda/envs/_build/include -I/home/main/miniconda/envs/_build/include/python2.7 build/py/_vector_wrapper_0e202a8855575dee86e8a8c24e73a6c0.cpp\n",
      "g++ -o build/py/_vector_wrapper_1663f1821363576d83bbdfbc545ed162.os -c -std=c++0x -ftemplate-depth-100 -fPIC -DBOOST_PYTHON_DYNAMIC_LIB -I/home/main/miniconda/envs/_build/include -I/home/main/miniconda/envs/_build/include/python2.7 build/py/_vector_wrapper_1663f1821363576d83bbdfbc545ed162.cpp\n",
      "g++ -o build/py/_vector_wrapper_11349ea781745de99e5f30106bc6ff53.os -c -std=c++0x -ftemplate-depth-100 -fPIC -DBOOST_PYTHON_DYNAMIC_LIB -I/home/main/miniconda/envs/_build/include -I/home/main/miniconda/envs/_build/include/python2.7 build/py/_vector_wrapper_11349ea781745de99e5f30106bc6ff53.cpp\n",
      "g++ -o build/py/_vector_wrapper_0e326c9952665500b55fc75c4a29a95f.os -c -std=c++0x -ftemplate-depth-100 -fPIC -DBOOST_PYTHON_DYNAMIC_LIB -I/home/main/miniconda/envs/_build/include -I/home/main/miniconda/envs/_build/include/python2.7 build/py/_vector_wrapper_0e326c9952665500b55fc75c4a29a95f.cpp\n",
      "g++ -o build/py/_vector_wrapper_c047f2c3135554ceb57f166fd404cfc8.os -c -std=c++0x -ftemplate-depth-100 -fPIC -DBOOST_PYTHON_DYNAMIC_LIB -I/home/main/miniconda/envs/_build/include -I/home/main/miniconda/envs/_build/include/python2.7 build/py/_vector_wrapper_c047f2c3135554ceb57f166fd404cfc8.cpp\n",
      "g++ -o build/py/_vector_wrapper_6f282a8fc023580eb3c47d7f7aba4c14.os -c -std=c++0x -ftemplate-depth-100 -fPIC -DBOOST_PYTHON_DYNAMIC_LIB -I/home/main/miniconda/envs/_build/include -I/home/main/miniconda/envs/_build/include/python2.7 build/py/_vector_wrapper_6f282a8fc023580eb3c47d7f7aba4c14.cpp\n",
      "g++ -o build/py/_vector_wrapper_a2f39e7df7b35e239d69891ace5b02ea.os -c -std=c++0x -ftemplate-depth-100 -fPIC -DBOOST_PYTHON_DYNAMIC_LIB -I/home/main/miniconda/envs/_build/include -I/home/main/miniconda/envs/_build/include/python2.7 build/py/_vector_wrapper_a2f39e7df7b35e239d69891ace5b02ea.cpp\n",
      "g++ -o build/py/_vector_wrapper_dd6d9190167f586f9badff35231d7907.os -c -std=c++0x -ftemplate-depth-100 -fPIC -DBOOST_PYTHON_DYNAMIC_LIB -I/home/main/miniconda/envs/_build/include -I/home/main/miniconda/envs/_build/include/python2.7 build/py/_vector_wrapper_dd6d9190167f586f9badff35231d7907.cpp\n",
      "g++ -o build/py/_vector_wrapper_17f5c955076b580988c075548976412e.os -c -std=c++0x -ftemplate-depth-100 -fPIC -DBOOST_PYTHON_DYNAMIC_LIB -I/home/main/miniconda/envs/_build/include -I/home/main/miniconda/envs/_build/include/python2.7 build/py/_vector_wrapper_17f5c955076b580988c075548976412e.cpp\n",
      "g++ -o build/py/_vector_wrapper_eb06aec3a15d58079d817800249bc823.os -c -std=c++0x -ftemplate-depth-100 -fPIC -DBOOST_PYTHON_DYNAMIC_LIB -I/home/main/miniconda/envs/_build/include -I/home/main/miniconda/envs/_build/include/python2.7 build/py/_vector_wrapper_eb06aec3a15d58079d817800249bc823.cpp\n",
      "g++ -o build/py/_vector_wrapper_107131f9768c56e794a9b0de728d1738.os -c -std=c++0x -ftemplate-depth-100 -fPIC -DBOOST_PYTHON_DYNAMIC_LIB -I/home/main/miniconda/envs/_build/include -I/home/main/miniconda/envs/_build/include/python2.7 build/py/_vector_wrapper_107131f9768c56e794a9b0de728d1738.cpp\n",
      "g++ -o build/py/_vector_wrapper_31a4aa09ba5a5555a0eec7134703843b.os -c -std=c++0x -ftemplate-depth-100 -fPIC -DBOOST_PYTHON_DYNAMIC_LIB -I/home/main/miniconda/envs/_build/include -I/home/main/miniconda/envs/_build/include/python2.7 build/py/_vector_wrapper_31a4aa09ba5a5555a0eec7134703843b.cpp\n",
      "g++ -o build/py/_vector_wrapper_482d370613c7515d86da509a0c64e283.os -c -std=c++0x -ftemplate-depth-100 -fPIC -DBOOST_PYTHON_DYNAMIC_LIB -I/home/main/miniconda/envs/_build/include -I/home/main/miniconda/envs/_build/include/python2.7 build/py/_vector_wrapper_482d370613c7515d86da509a0c64e283.cpp\n",
      "g++ -o build/py/_vector_wrapper_9a9c8568ca785125b188e41db1e2d3a8.os -c -std=c++0x -ftemplate-depth-100 -fPIC -DBOOST_PYTHON_DYNAMIC_LIB -I/home/main/miniconda/envs/_build/include -I/home/main/miniconda/envs/_build/include/python2.7 build/py/_vector_wrapper_9a9c8568ca785125b188e41db1e2d3a8.cpp\n",
      "g++ -o build/py/_vector_wrapper_379fdefb971c5446ade4e91736639711.os -c -std=c++0x -ftemplate-depth-100 -fPIC -DBOOST_PYTHON_DYNAMIC_LIB -I/home/main/miniconda/envs/_build/include -I/home/main/miniconda/envs/_build/include/python2.7 build/py/_vector_wrapper_379fdefb971c5446ade4e91736639711.cpp\n",
      "g++ -o build/py/_vector_wrapper_dd574906226e58d3afe05c653738b4ef.os -c -std=c++0x -ftemplate-depth-100 -fPIC -DBOOST_PYTHON_DYNAMIC_LIB -I/home/main/miniconda/envs/_build/include -I/home/main/miniconda/envs/_build/include/python2.7 build/py/_vector_wrapper_dd574906226e58d3afe05c653738b4ef.cpp\n",
      "g++ -o build/py/_vector_wrapper_e632015974785749a122d93115df274a.os -c -std=c++0x -ftemplate-depth-100 -fPIC -DBOOST_PYTHON_DYNAMIC_LIB -I/home/main/miniconda/envs/_build/include -I/home/main/miniconda/envs/_build/include/python2.7 build/py/_vector_wrapper_e632015974785749a122d93115df274a.cpp\n",
      "g++ -o build/py/_vector_wrapper_e102b867f3765e87889ff8f3373ea10b.os -c -std=c++0x -ftemplate-depth-100 -fPIC -DBOOST_PYTHON_DYNAMIC_LIB -I/home/main/miniconda/envs/_build/include -I/home/main/miniconda/envs/_build/include/python2.7 build/py/_vector_wrapper_e102b867f3765e87889ff8f3373ea10b.cpp\n",
      "g++ -o build/py/_vector_wrapper_fca17f710d195093b3688c031fef3ac8.os -c -std=c++0x -ftemplate-depth-100 -fPIC -DBOOST_PYTHON_DYNAMIC_LIB -I/home/main/miniconda/envs/_build/include -I/home/main/miniconda/envs/_build/include/python2.7 build/py/_vector_wrapper_fca17f710d195093b3688c031fef3ac8.cpp\n",
      "g++ -o build/py/_vector_wrapper_fff447fd74a958bfba3666264dac6d27.os -c -std=c++0x -ftemplate-depth-100 -fPIC -DBOOST_PYTHON_DYNAMIC_LIB -I/home/main/miniconda/envs/_build/include -I/home/main/miniconda/envs/_build/include/python2.7 build/py/_vector_wrapper_fff447fd74a958bfba3666264dac6d27.cpp\n",
      "g++ -o build/py/_vector_wrapper_44b78dc9e72d5a489a6dac21287fed83.os -c -std=c++0x -ftemplate-depth-100 -fPIC -DBOOST_PYTHON_DYNAMIC_LIB -I/home/main/miniconda/envs/_build/include -I/home/main/miniconda/envs/_build/include/python2.7 build/py/_vector_wrapper_44b78dc9e72d5a489a6dac21287fed83.cpp\n",
      "g++ -o build/py/_vector_wrapper_ad538ac3d99a517282f43ab30243e37f.os -c -std=c++0x -ftemplate-depth-100 -fPIC -DBOOST_PYTHON_DYNAMIC_LIB -I/home/main/miniconda/envs/_build/include -I/home/main/miniconda/envs/_build/include/python2.7 build/py/_vector_wrapper_ad538ac3d99a517282f43ab30243e37f.cpp\n",
      "g++ -o build/py/_vector_wrapper_ee0b02ad4f3052838e28a420a6614392.os -c -std=c++0x -ftemplate-depth-100 -fPIC -DBOOST_PYTHON_DYNAMIC_LIB -I/home/main/miniconda/envs/_build/include -I/home/main/miniconda/envs/_build/include/python2.7 build/py/_vector_wrapper_ee0b02ad4f3052838e28a420a6614392.cpp\n",
      "g++ -o build/py/_vector_wrapper_c8eaccb305715f1eae60c27500ff5749.os -c -std=c++0x -ftemplate-depth-100 -fPIC -DBOOST_PYTHON_DYNAMIC_LIB -I/home/main/miniconda/envs/_build/include -I/home/main/miniconda/envs/_build/include/python2.7 build/py/_vector_wrapper_c8eaccb305715f1eae60c27500ff5749.cpp\n",
      "g++ -o build/py/_vector_wrapper_6b9ae5eac40858c9a0f5e6e21c15d1d3.os -c -std=c++0x -ftemplate-depth-100 -fPIC -DBOOST_PYTHON_DYNAMIC_LIB -I/home/main/miniconda/envs/_build/include -I/home/main/miniconda/envs/_build/include/python2.7 build/py/_vector_wrapper_6b9ae5eac40858c9a0f5e6e21c15d1d3.cpp\n",
      "g++ -o build/py/_vector_wrapper_33919fb76bbe5217b3b8c610c9d0162d.os -c -std=c++0x -ftemplate-depth-100 -fPIC -DBOOST_PYTHON_DYNAMIC_LIB -I/home/main/miniconda/envs/_build/include -I/home/main/miniconda/envs/_build/include/python2.7 build/py/_vector_wrapper_33919fb76bbe5217b3b8c610c9d0162d.cpp\n",
      "g++ -o build/py/_vector_wrapper_b7887e7d3ec55c12be905092bac540f4.os -c -std=c++0x -ftemplate-depth-100 -fPIC -DBOOST_PYTHON_DYNAMIC_LIB -I/home/main/miniconda/envs/_build/include -I/home/main/miniconda/envs/_build/include/python2.7 build/py/_vector_wrapper_b7887e7d3ec55c12be905092bac540f4.cpp\n",
      "g++ -o build/py/_vector_wrapper_624754f3ede15e4080979369bb8591d8.os -c -std=c++0x -ftemplate-depth-100 -fPIC -DBOOST_PYTHON_DYNAMIC_LIB -I/home/main/miniconda/envs/_build/include -I/home/main/miniconda/envs/_build/include/python2.7 build/py/_vector_wrapper_624754f3ede15e4080979369bb8591d8.cpp\n",
      "g++ -o build/py/_vector_wrapper_b5f9e3f210155bfa9e8023c21e2f68e7.os -c -std=c++0x -ftemplate-depth-100 -fPIC -DBOOST_PYTHON_DYNAMIC_LIB -I/home/main/miniconda/envs/_build/include -I/home/main/miniconda/envs/_build/include/python2.7 build/py/_vector_wrapper_b5f9e3f210155bfa9e8023c21e2f68e7.cpp\n",
      "g++ -o build/py/_vector_wrapper_a7336a9b688e5e07a88dc74675c2ca7f.os -c -std=c++0x -ftemplate-depth-100 -fPIC -DBOOST_PYTHON_DYNAMIC_LIB -I/home/main/miniconda/envs/_build/include -I/home/main/miniconda/envs/_build/include/python2.7 build/py/_vector_wrapper_a7336a9b688e5e07a88dc74675c2ca7f.cpp\n",
      "g++ -o build/py/_vector_wrapper_a04993072614556e8730c2a6d775a141.os -c -std=c++0x -ftemplate-depth-100 -fPIC -DBOOST_PYTHON_DYNAMIC_LIB -I/home/main/miniconda/envs/_build/include -I/home/main/miniconda/envs/_build/include/python2.7 build/py/_vector_wrapper_a04993072614556e8730c2a6d775a141.cpp\n",
      "g++ -o build/py/_vector_wrapper_8ff7692ad1c650be9160074c4ab37531.os -c -std=c++0x -ftemplate-depth-100 -fPIC -DBOOST_PYTHON_DYNAMIC_LIB -I/home/main/miniconda/envs/_build/include -I/home/main/miniconda/envs/_build/include/python2.7 build/py/_vector_wrapper_8ff7692ad1c650be9160074c4ab37531.cpp\n",
      "g++ -o build/py/_vector_wrapper_a91c3fef18385249807e98e8b5753f60.os -c -std=c++0x -ftemplate-depth-100 -fPIC -DBOOST_PYTHON_DYNAMIC_LIB -I/home/main/miniconda/envs/_build/include -I/home/main/miniconda/envs/_build/include/python2.7 build/py/_vector_wrapper_a91c3fef18385249807e98e8b5753f60.cpp\n",
      "g++ -o build/py/_vector_wrapper_e02265b3556258f58f3c778c3fc40f56.os -c -std=c++0x -ftemplate-depth-100 -fPIC -DBOOST_PYTHON_DYNAMIC_LIB -I/home/main/miniconda/envs/_build/include -I/home/main/miniconda/envs/_build/include/python2.7 build/py/_vector_wrapper_e02265b3556258f58f3c778c3fc40f56.cpp\n",
      "g++ -o build/py/_vector_wrapper_a6c2977327a85bf59654b361c2e34409.os -c -std=c++0x -ftemplate-depth-100 -fPIC -DBOOST_PYTHON_DYNAMIC_LIB -I/home/main/miniconda/envs/_build/include -I/home/main/miniconda/envs/_build/include/python2.7 build/py/_vector_wrapper_a6c2977327a85bf59654b361c2e34409.cpp\n",
      "g++ -o build/py/_vector_wrapper_63dbb4ed142d596581adfe09b3fe41f8.os -c -std=c++0x -ftemplate-depth-100 -fPIC -DBOOST_PYTHON_DYNAMIC_LIB -I/home/main/miniconda/envs/_build/include -I/home/main/miniconda/envs/_build/include/python2.7 build/py/_vector_wrapper_63dbb4ed142d596581adfe09b3fe41f8.cpp\n",
      "g++ -o build/py/_vector_wrapper_5c240ebcadc5548e8604142465c4b7ca.os -c -std=c++0x -ftemplate-depth-100 -fPIC -DBOOST_PYTHON_DYNAMIC_LIB -I/home/main/miniconda/envs/_build/include -I/home/main/miniconda/envs/_build/include/python2.7 build/py/_vector_wrapper_5c240ebcadc5548e8604142465c4b7ca.cpp\n",
      "g++ -o build/py/_vector_wrapper_531b0243a56b5497bd47e4cce51ed4e4.os -c -std=c++0x -ftemplate-depth-100 -fPIC -DBOOST_PYTHON_DYNAMIC_LIB -I/home/main/miniconda/envs/_build/include -I/home/main/miniconda/envs/_build/include/python2.7 build/py/_vector_wrapper_531b0243a56b5497bd47e4cce51ed4e4.cpp\n",
      "g++ -o build/py/_vector_wrapper_4edc62cf7f845edb8992cd2e875c383c.os -c -std=c++0x -ftemplate-depth-100 -fPIC -DBOOST_PYTHON_DYNAMIC_LIB -I/home/main/miniconda/envs/_build/include -I/home/main/miniconda/envs/_build/include/python2.7 build/py/_vector_wrapper_4edc62cf7f845edb8992cd2e875c383c.cpp\n",
      "g++ -o build/py/_vector_wrapper_638b5f13aeb35908b8704eb38f85096c.os -c -std=c++0x -ftemplate-depth-100 -fPIC -DBOOST_PYTHON_DYNAMIC_LIB -I/home/main/miniconda/envs/_build/include -I/home/main/miniconda/envs/_build/include/python2.7 build/py/_vector_wrapper_638b5f13aeb35908b8704eb38f85096c.cpp\n",
      "g++ -o build/py/_vector_wrapper_bab02560630e5d17aec6a97efb9e79ef.os -c -std=c++0x -ftemplate-depth-100 -fPIC -DBOOST_PYTHON_DYNAMIC_LIB -I/home/main/miniconda/envs/_build/include -I/home/main/miniconda/envs/_build/include/python2.7 build/py/_vector_wrapper_bab02560630e5d17aec6a97efb9e79ef.cpp\n",
      "g++ -o build/py/_vector_wrapper_3a9322b686485f919045f6bda70b3bcd.os -c -std=c++0x -ftemplate-depth-100 -fPIC -DBOOST_PYTHON_DYNAMIC_LIB -I/home/main/miniconda/envs/_build/include -I/home/main/miniconda/envs/_build/include/python2.7 build/py/_vector_wrapper_3a9322b686485f919045f6bda70b3bcd.cpp\n",
      "g++ -o build/py/_vector_wrapper_e01b7ade8cab5e31a34a5e2f80a619a6.os -c -std=c++0x -ftemplate-depth-100 -fPIC -DBOOST_PYTHON_DYNAMIC_LIB -I/home/main/miniconda/envs/_build/include -I/home/main/miniconda/envs/_build/include/python2.7 build/py/_vector_wrapper_e01b7ade8cab5e31a34a5e2f80a619a6.cpp\n",
      "g++ -o build/py/_vector_wrapper_8518d8cddff8585aa13dd5f834615874.os -c -std=c++0x -ftemplate-depth-100 -fPIC -DBOOST_PYTHON_DYNAMIC_LIB -I/home/main/miniconda/envs/_build/include -I/home/main/miniconda/envs/_build/include/python2.7 build/py/_vector_wrapper_8518d8cddff8585aa13dd5f834615874.cpp\n",
      "g++ -o build/py/_vector_wrapper_821f52165ab1565093f9ea5b7cdd5401.os -c -std=c++0x -ftemplate-depth-100 -fPIC -DBOOST_PYTHON_DYNAMIC_LIB -I/home/main/miniconda/envs/_build/include -I/home/main/miniconda/envs/_build/include/python2.7 build/py/_vector_wrapper_821f52165ab1565093f9ea5b7cdd5401.cpp\n",
      "g++ -o build/py/_vector_wrapper_7250fa2c0760552197a3dcd1661ce86e.os -c -std=c++0x -ftemplate-depth-100 -fPIC -DBOOST_PYTHON_DYNAMIC_LIB -I/home/main/miniconda/envs/_build/include -I/home/main/miniconda/envs/_build/include/python2.7 build/py/_vector_wrapper_7250fa2c0760552197a3dcd1661ce86e.cpp\n",
      "g++ -o build/py/_vector_wrapper_2fad85dfda3b59a0aaa5d1b146eeda5a.os -c -std=c++0x -ftemplate-depth-100 -fPIC -DBOOST_PYTHON_DYNAMIC_LIB -I/home/main/miniconda/envs/_build/include -I/home/main/miniconda/envs/_build/include/python2.7 build/py/_vector_wrapper_2fad85dfda3b59a0aaa5d1b146eeda5a.cpp\n",
      "g++ -o build/py/_vector_wrapper_281b7253b4a6521dbb6cc56d653f532f.os -c -std=c++0x -ftemplate-depth-100 -fPIC -DBOOST_PYTHON_DYNAMIC_LIB -I/home/main/miniconda/envs/_build/include -I/home/main/miniconda/envs/_build/include/python2.7 build/py/_vector_wrapper_281b7253b4a6521dbb6cc56d653f532f.cpp\n",
      "g++ -o build/py/_vector_wrapper_265b31e258cb5e039da061a7912f3582.os -c -std=c++0x -ftemplate-depth-100 -fPIC -DBOOST_PYTHON_DYNAMIC_LIB -I/home/main/miniconda/envs/_build/include -I/home/main/miniconda/envs/_build/include/python2.7 build/py/_vector_wrapper_265b31e258cb5e039da061a7912f3582.cpp\n",
      "g++ -o build/py/_vector_wrapper_218192e673e758a6adeaa080aeffc335.os -c -std=c++0x -ftemplate-depth-100 -fPIC -DBOOST_PYTHON_DYNAMIC_LIB -I/home/main/miniconda/envs/_build/include -I/home/main/miniconda/envs/_build/include/python2.7 build/py/_vector_wrapper_218192e673e758a6adeaa080aeffc335.cpp\n",
      "g++ -o build/py/_vector_wrapper_5e59f95c68125b96ba31137d6627a165.os -c -std=c++0x -ftemplate-depth-100 -fPIC -DBOOST_PYTHON_DYNAMIC_LIB -I/home/main/miniconda/envs/_build/include -I/home/main/miniconda/envs/_build/include/python2.7 build/py/_vector_wrapper_5e59f95c68125b96ba31137d6627a165.cpp\n",
      "g++ -o build/py/_vector_wrapper_151d1c06f105539eb2def0ecf89b8344.os -c -std=c++0x -ftemplate-depth-100 -fPIC -DBOOST_PYTHON_DYNAMIC_LIB -I/home/main/miniconda/envs/_build/include -I/home/main/miniconda/envs/_build/include/python2.7 build/py/_vector_wrapper_151d1c06f105539eb2def0ecf89b8344.cpp\n",
      "g++ -o build/py/_vector_wrapper_dc5522842bc75d8b9ac7b46020c60854.os -c -std=c++0x -ftemplate-depth-100 -fPIC -DBOOST_PYTHON_DYNAMIC_LIB -I/home/main/miniconda/envs/_build/include -I/home/main/miniconda/envs/_build/include/python2.7 build/py/_vector_wrapper_dc5522842bc75d8b9ac7b46020c60854.cpp\n",
      "g++ -o build/py/_vector_wrapper_b1d4dac67ce65e478ebcc3e3b56007c7.os -c -std=c++0x -ftemplate-depth-100 -fPIC -DBOOST_PYTHON_DYNAMIC_LIB -I/home/main/miniconda/envs/_build/include -I/home/main/miniconda/envs/_build/include/python2.7 build/py/_vector_wrapper_b1d4dac67ce65e478ebcc3e3b56007c7.cpp\n",
      "g++ -o build/py/_vector_wrapper_6b6426e5b87757949fbae3f22b9dc4a8.os -c -std=c++0x -ftemplate-depth-100 -fPIC -DBOOST_PYTHON_DYNAMIC_LIB -I/home/main/miniconda/envs/_build/include -I/home/main/miniconda/envs/_build/include/python2.7 build/py/_vector_wrapper_6b6426e5b87757949fbae3f22b9dc4a8.cpp\n",
      "g++ -o build/py/_vector_wrapper_babff9f9175b5c6da7c377644f58cc0f.os -c -std=c++0x -ftemplate-depth-100 -fPIC -DBOOST_PYTHON_DYNAMIC_LIB -I/home/main/miniconda/envs/_build/include -I/home/main/miniconda/envs/_build/include/python2.7 build/py/_vector_wrapper_babff9f9175b5c6da7c377644f58cc0f.cpp\n",
      "g++ -o build/py/_vector_wrapper_89be5585bd625a54ae293ceda0032d2f.os -c -std=c++0x -ftemplate-depth-100 -fPIC -DBOOST_PYTHON_DYNAMIC_LIB -I/home/main/miniconda/envs/_build/include -I/home/main/miniconda/envs/_build/include/python2.7 build/py/_vector_wrapper_89be5585bd625a54ae293ceda0032d2f.cpp\n",
      "g++ -o build/py/_vector_wrapper_a91a18eff57b57bf937c00c6700ed896.os -c -std=c++0x -ftemplate-depth-100 -fPIC -DBOOST_PYTHON_DYNAMIC_LIB -I/home/main/miniconda/envs/_build/include -I/home/main/miniconda/envs/_build/include/python2.7 build/py/_vector_wrapper_a91a18eff57b57bf937c00c6700ed896.cpp\n",
      "gcc -o src/py/stl/vector/__vector.so @/home/main/miniconda/conda-bld/work/build/py/vector_response_file.rsp -shared -Wl,-Bsymbolic -Wl,-soname=__vector.so -L/home/main/miniconda/envs/_build/lib -lboost_python -lpython2.7\n",
      "scons: done building targets.\n",
      "running install\n",
      "running bdist_egg\n",
      "running egg_info\n",
      "creating src/py/PySTL.egg-info\n",
      "writing src/py/PySTL.egg-info/PKG-INFO\n",
      "writing top-level names to src/py/PySTL.egg-info/top_level.txt\n",
      "writing dependency_links to src/py/PySTL.egg-info/dependency_links.txt\n",
      "writing manifest file 'src/py/PySTL.egg-info/SOURCES.txt'\n",
      "reading manifest file 'src/py/PySTL.egg-info/SOURCES.txt'\n",
      "writing manifest file 'src/py/PySTL.egg-info/SOURCES.txt'\n",
      "installing library code to build/bdist.linux-x86_64/egg\n",
      "running install_lib\n",
      "running build_py\n",
      "creating build/lib\n",
      "creating build/lib/stl\n",
      "copying src/py/stl/__init__.py -> build/lib/stl\n",
      "creating build/lib/stl/vector\n",
      "copying src/py/stl/vector/_vector.py -> build/lib/stl/vector\n",
      "copying src/py/stl/vector/__init__.py -> build/lib/stl/vector\n",
      "creating build/bdist.linux-x86_64\n",
      "creating build/bdist.linux-x86_64/egg\n",
      "creating build/bdist.linux-x86_64/egg/stl\n",
      "creating build/bdist.linux-x86_64/egg/stl/vector\n",
      "copying build/lib/stl/vector/_vector.py -> build/bdist.linux-x86_64/egg/stl/vector\n",
      "copying build/lib/stl/vector/__init__.py -> build/bdist.linux-x86_64/egg/stl/vector\n",
      "copying build/lib/stl/__init__.py -> build/bdist.linux-x86_64/egg/stl\n",
      "byte-compiling build/bdist.linux-x86_64/egg/stl/vector/_vector.py to _vector.pyc\n",
      "byte-compiling build/bdist.linux-x86_64/egg/stl/vector/__init__.py to __init__.pyc\n",
      "byte-compiling build/bdist.linux-x86_64/egg/stl/__init__.py to __init__.pyc\n",
      "creating build/bdist.linux-x86_64/egg/EGG-INFO\n",
      "copying src/py/PySTL.egg-info/PKG-INFO -> build/bdist.linux-x86_64/egg/EGG-INFO\n",
      "copying src/py/PySTL.egg-info/SOURCES.txt -> build/bdist.linux-x86_64/egg/EGG-INFO\n",
      "copying src/py/PySTL.egg-info/dependency_links.txt -> build/bdist.linux-x86_64/egg/EGG-INFO\n",
      "copying src/py/PySTL.egg-info/top_level.txt -> build/bdist.linux-x86_64/egg/EGG-INFO\n",
      "creating dist\n",
      "creating 'dist/PySTL-0.1.0-py2.7.egg' and adding 'build/bdist.linux-x86_64/egg' to it\n",
      "removing 'build/bdist.linux-x86_64/egg' (and everything under it)\n",
      "Processing PySTL-0.1.0-py2.7.egg\n",
      "Copying PySTL-0.1.0-py2.7.egg to /home/main/miniconda/envs/_build/lib/python2.7/site-packages\n",
      "Adding PySTL 0.1.0 to easy-install.pth file\n",
      "\n",
      "Installed /home/main/miniconda/envs/_build/lib/python2.7/site-packages/PySTL-0.1.0-py2.7.egg\n",
      "Processing dependencies for PySTL==0.1.0\n",
      "Finished processing dependencies for PySTL==0.1.0\n",
      "\n",
      "The following NEW packages will be INSTALLED:\n",
      "\n",
      "    icu:          54.1-0                 \n",
      "    libboost:     1.61.0-py27_0 statiskit\n",
      "    libpystl:     1.0.0-0       local    \n",
      "    openssl:      1.0.2h-1               \n",
      "    pip:          8.1.2-py27_0           \n",
      "    python:       2.7.12-1               \n",
      "    python-scons: 2.5.0-py27_0  statiskit\n",
      "    pyyaml:       3.11-py27_4            \n",
      "    readline:     6.2-2                  \n",
      "    setuptools:   26.1.1-py27_0          \n",
      "    sqlite:       3.13.0-0               \n",
      "    tk:           8.5.18-0               \n",
      "    wheel:        0.29.0-py27_0          \n",
      "    yaml:         0.1.6-0                \n",
      "    zlib:         1.2.8-3                \n",
      "\n",
      "Copying /home/main/AutoWIG/doc/examples/PySTL to /home/main/miniconda/conda-bld/work\n",
      "BUILD START: python-stl-vector-1.0.0-py27_0\n",
      "Package: python-stl-vector-1.0.0-py27_0\n",
      "source tree in: /home/main/miniconda/conda-bld/work\n",
      "found egg: /home/main/miniconda/envs/_build/lib/python2.7/site-packages/PySTL-0.1.0-py2.7.egg\n",
      "number of files: 2\n",
      "Fixing permissions\n",
      "Fixing permissions\n",
      "BUILD END: python-stl-vector-1.0.0-py27_0\n",
      "Nothing to test for: python-stl-vector-1.0.0-py27_0\n",
      "# If you want to upload this package to anaconda.org later, type:\n",
      "#\n",
      "# $ anaconda upload /home/main/miniconda/conda-bld/linux-64/python-stl-vector-1.0.0-py27_0.tar.bz2\n",
      "#\n",
      "# To have conda build upload to anaconda.org automatically, use\n",
      "# $ conda config --set anaconda_upload yes\n",
      "\n",
      "Fetching package metadata ...........\n",
      "Solving package specifications: ..........\n",
      "\n",
      "Package plan for installation in environment /home/main/miniconda:\n",
      "\n",
      "The following packages will be downloaded:\n",
      "\n",
      "    package                    |            build\n",
      "    ---------------------------|-----------------\n",
      "    python-stl-vector-1.0.0    |           py27_0          10 KB  local\n",
      "\n",
      "The following NEW packages will be INSTALLED:\n",
      "\n",
      "    python-stl-vector: 1.0.0-py27_0 local\n",
      "\n"
     ]
    },
    {
     "name": "stderr",
     "output_type": "stream",
     "text": [
      "Using Anaconda API: https://api.anaconda.org\n",
      "\n",
      "WARNING: conda-build appears to be out of date. You have version 1.21.7 but the\n",
      "latest version is 2.0.0. Run\n",
      "\n",
      "conda update -n root conda-build\n",
      "\n",
      "to get the latest version.\n",
      "\n",
      "+ source activate /home/main/miniconda/envs/_build\n",
      "++ [[ -n 4.3.11(1)-release ]]\n",
      "++ _SCRIPT_LOCATION=/home/main/miniconda/envs/_build/bin/activate\n",
      "++ _SHELL=bash\n",
      "+++ dirname /home/main/miniconda/envs/_build/bin/activate\n",
      "++ _CONDA_DIR=/home/main/miniconda/envs/_build/bin\n",
      "++ '[' 1 -gt 1 ']'\n",
      "++ case \"$(uname -s)\" in\n",
      "+++ uname -s\n",
      "++ EXT=\n",
      "++ [[ -n 4.3.11(1)-release ]]\n",
      "+++ basename /home/main/miniconda/conda-bld/work/conda_build.sh\n",
      "++ [[ conda_build.sh == \\a\\c\\t\\i\\v\\a\\t\\e ]]\n",
      "++ '[' 1 -eq 0 ']'\n",
      "++ args=/home/main/miniconda/envs/_build\n",
      "++ /home/main/miniconda/envs/_build/bin/conda ..checkenv bash /home/main/miniconda/envs/_build\n",
      "++ ((  0 != 0  ))\n",
      "++ source /home/main/miniconda/envs/_build/bin/deactivate\n",
      "+++ [[ -n 4.3.11(1)-release ]]\n",
      "+++ _SCRIPT_LOCATION=/home/main/miniconda/envs/_build/bin/deactivate\n",
      "+++ _SHELL=bash\n",
      "++++ dirname /home/main/miniconda/envs/_build/bin/deactivate\n",
      "+++ _CONDA_DIR=/home/main/miniconda/envs/_build/bin\n",
      "+++ case \"$(uname -s)\" in\n",
      "++++ uname -s\n",
      "+++ EXT=\n",
      "+++ [[ 1 > 0 ]]\n",
      "+++ key=/home/main/miniconda/envs/_build\n",
      "+++ case $key in\n",
      "+++ shift\n",
      "+++ [[ 0 > 0 ]]\n",
      "+++ [[ -n 4.3.11(1)-release ]]\n",
      "++++ basename /home/main/miniconda/conda-bld/work/conda_build.sh\n",
      "+++ [[ conda_build.sh == \\d\\e\\a\\c\\t\\i\\v\\a\\t\\e ]]\n",
      "+++ [[ -z '' ]]\n",
      "+++ [[ -n 4.3.11(1)-release ]]\n",
      "++++ basename /home/main/miniconda/conda-bld/work/conda_build.sh\n",
      "+++ [[ conda_build.sh == \\d\\e\\a\\c\\t\\i\\v\\a\\t\\e ]]\n",
      "+++ return 0\n",
      "+++ /home/main/miniconda/envs/_build/bin/conda ..activate bash /home/main/miniconda/envs/_build\n",
      "++ _NEW_PART=/home/main/miniconda/envs/_build/bin\n",
      "++ ((  0 == 0  ))\n",
      "++ export CONDA_PATH_BACKUP=/home/main/miniconda/envs/_build/bin:/home/main/miniconda/bin:/usr/local/sbin:/usr/local/bin:/usr/sbin:/usr/bin:/sbin:/bin:/home/main/miniconda/bin\n",
      "++ CONDA_PATH_BACKUP=/home/main/miniconda/envs/_build/bin:/home/main/miniconda/bin:/usr/local/sbin:/usr/local/bin:/usr/sbin:/usr/bin:/sbin:/bin:/home/main/miniconda/bin\n",
      "++ export CONDA_PS1_BACKUP=\n",
      "++ CONDA_PS1_BACKUP=\n",
      "++ export PATH=/home/main/miniconda/envs/_build/bin:/home/main/miniconda/envs/_build/bin:/home/main/miniconda/bin:/usr/local/sbin:/usr/local/bin:/usr/sbin:/usr/bin:/sbin:/bin:/home/main/miniconda/bin\n",
      "++ PATH=/home/main/miniconda/envs/_build/bin:/home/main/miniconda/envs/_build/bin:/home/main/miniconda/bin:/usr/local/sbin:/usr/local/bin:/usr/sbin:/usr/bin:/sbin:/bin:/home/main/miniconda/bin\n",
      "++ [[ '' == */* ]]\n",
      "++ export CONDA_DEFAULT_ENV=/home/main/miniconda/envs/_build\n",
      "++ CONDA_DEFAULT_ENV=/home/main/miniconda/envs/_build\n",
      "++ firstpath=/home/main/miniconda/envs/_build/bin\n",
      "+++ echo /home/main/miniconda/envs/_build/bin\n",
      "+++ sed 's|/bin$||'\n",
      "++ export CONDA_PREFIX=/home/main/miniconda/envs/_build\n",
      "+++ /home/main/miniconda/envs/_build/bin/conda ..changeps1\n",
      "++ '[' 0 = 1 ']'\n",
      "++ _CONDA_D=/home/main/miniconda/envs/_build/etc/conda/activate.d\n",
      "++ [[ -d /home/main/miniconda/envs/_build/etc/conda/activate.d ]]\n",
      "++ unset CONDA_PATH\n",
      "++ [[ -n 4.3.11(1)-release ]]\n",
      "++ hash -r\n",
      "+ scons py-vector -j8\n",
      "+ python setup.py install\n",
      "WARNING: '' not a valid package name; please use only .-separated package names in setup.py\n",
      "zip_safe flag not set; analyzing archive contents...\n",
      "Using Anaconda API: https://api.anaconda.org\n"
     ]
    }
   ],
   "source": [
    "%%bash\n",
    "conda build PySTL/conda/python-stl-vector --use-local -c statiskit \n",
    "conda install -y python-stl-vector --use-local -c statiskit"
   ]
  },
  {
   "cell_type": "markdown",
   "metadata": {},
   "source": [
    "Finally, we can hereafter use the *C++* library in the *Python* interpreter."
   ]
  },
  {
   "cell_type": "code",
   "execution_count": null,
   "metadata": {
    "collapsed": true
   },
   "outputs": [],
   "source": [
    "from stl import vector\n",
    "v = vector.Int()\n",
    "v.push_back(-1)\n",
    "v.push_back(0)\n",
    "v.push_back(1)\n",
    "v"
   ]
  },
  {
   "cell_type": "code",
   "execution_count": null,
   "metadata": {
    "collapsed": true
   },
   "outputs": [],
   "source": [
    "list(v)"
   ]
  },
  {
   "cell_type": "code",
   "execution_count": null,
   "metadata": {
    "collapsed": true
   },
   "outputs": [],
   "source": [
    "v[0]"
   ]
  },
  {
   "cell_type": "code",
   "execution_count": null,
   "metadata": {
    "collapsed": true
   },
   "outputs": [],
   "source": [
    "v[0] = -2\n",
    "v[0]"
   ]
  },
  {
   "cell_type": "code",
   "execution_count": null,
   "metadata": {
    "collapsed": true
   },
   "outputs": [],
   "source": [
    "vector.Int([0, 1])"
   ]
  }
 ],
 "metadata": {
  "anaconda-cloud": {},
  "kernelspec": {
   "display_name": "Python [default]",
   "language": "python",
   "name": "python2"
  },
  "language_info": {
   "codemirror_mode": {
    "name": "ipython",
    "version": 2
   },
   "file_extension": ".py",
   "mimetype": "text/x-python",
   "name": "python",
   "nbconvert_exporter": "python",
   "pygments_lexer": "ipython2",
   "version": "2.7.12"
  }
 },
 "nbformat": 4,
 "nbformat_minor": 0
}
