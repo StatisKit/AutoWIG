{
 "cells": [
  {
   "cell_type": "markdown",
   "metadata": {
    "collapsed": true
   },
   "source": [
    "# Wrapping a template library\n",
    "\n",
    "A template library is a library where there are only template classes that can be instantiated.\n",
    "Wrapping such libraries therefore requires **AutoWIG** to be able to consider various *C++* template classes instantiations during the `Parse` step.\n",
    "It is therefore required to install the `pyclanglite` `parser`."
   ]
  },
  {
   "cell_type": "code",
   "execution_count": 8,
   "metadata": {
    "collapsed": false
   },
   "outputs": [
    {
     "name": "stdout",
     "output_type": "stream",
     "text": [
      "Fetching package metadata .........\n",
      "Solving package specifications: ..........\n",
      "\n",
      "# All requested packages already installed.\n",
      "# packages in environment at /home/pfernique/.miniconda2/envs/autowig:\n",
      "#\n",
      "python-clanglite          3.8.0                    py27_0    statiskit\n"
     ]
    },
    {
     "name": "stderr",
     "output_type": "stream",
     "text": [
      "Using Anaconda Cloud api site https://api.anaconda.org\n"
     ]
    }
   ],
   "source": [
    "%%bash\n",
    "conda install -y -q python-clanglite -c statiskit"
   ]
  },
  {
   "cell_type": "markdown",
   "metadata": {},
   "source": [
    "The **Standard Template Library (STL)** library is a *C++* library that provides a set of common *C++* template classes such as containers and associative arrays.\n",
    "These classes can be used with any built-in or user-defined type that supports some elementary operations (e.g. copying, assignment).\n",
    "It is divided in four components called algorithms, containers, functional and iterators.\n",
    "**STL** containers (e.g. `std::vector`, `std::set`) are used in many *C++* libraries.\n",
    "In such a case, it does not seem relevant that every wrapped *C++* library contains wrappers for usual **STL** containers (e.g. `std::vector< double >`, `std::set< int >`).\n",
    "We therefore proposed *Python* bindings for sequence containers (i.e. `pair`, `array`, `vector`, `deque`, `forward_list` and `list` of the `std` namespace) and associative containers (`set`, `multiset`, `map`, `multimap`, `unordered_set`, `unordered_multiset`, `unordered_map` and `unordered_multimap` of the `std` namespace).\n",
    "These template instantiations are done for *C++* fundamental types (`bool`, `signed char`, `unsigned char`, `char`, `wchar_t`, `int` (with sign modifiers `signed` and `signed` combined or not with size modifiers `short`, `long` and `long long`), `float`, `double`, `long double`) and strings (`string`, `wstring` of the `std` namespace).\n",
    "For ordered associative containers both `std::less` and `std::greater` comparators are used.\n",
    "We here only illustrate the procedure on the `std::vector` template class.\n",
    "For the complete procedure refers to the `AutoWIG.py` file situed at the root of the **PySTL** [repository](https://github.com/StatisKit/PySTL)."
   ]
  },
  {
   "cell_type": "markdown",
   "metadata": {},
   "source": [
    "The **PySTL** GitHub repository must be cloned into the **PySTL** directory."
   ]
  },
  {
   "cell_type": "code",
   "execution_count": 1,
   "metadata": {
    "collapsed": false
   },
   "outputs": [
    {
     "name": "stderr",
     "output_type": "stream",
     "text": [
      "Cloning into 'PySTL'...\n"
     ]
    }
   ],
   "source": [
    "%%bash\n",
    "git clone https://github.com/StatisKit/PySTL.git"
   ]
  },
  {
   "cell_type": "markdown",
   "metadata": {},
   "source": [
    "This repository already has wrappers, we therefore need to remove them."
   ]
  },
  {
   "cell_type": "code",
   "execution_count": 2,
   "metadata": {
    "collapsed": true
   },
   "outputs": [],
   "source": [
    "from path import path\n",
    "srcdir = path('PySTL')/'src'/'py'\n",
    "for wrapper in srcdir.walkfiles('*.cpp'):\n",
    "    wrapper.unlink()\n",
    "for wrapper in srcdir.walkfiles('*.h'):\n",
    "    wrapper.unlink()\n",
    "wrapper = srcdir/'stl'/'vector'/'_vector.py'\n",
    "if wrapper.exists():\n",
    "    wrapper.unlink()"
   ]
  },
  {
   "cell_type": "markdown",
   "metadata": {},
   "source": [
    "Then, to install and compile the *C++* library we use available **Conda** recipes."
   ]
  },
  {
   "cell_type": "code",
   "execution_count": 3,
   "metadata": {
    "collapsed": false
   },
   "outputs": [
    {
     "name": "stdout",
     "output_type": "stream",
     "text": [
      "scons: Reading SConscript files ...\n",
      "scons: done reading SConscript files.\n",
      "scons: Building targets ...\n",
      "Install file: \"build/cpp/array.h\" as \"/home/pfernique/.miniconda2/envs/_build_placehold_placehold_placehold_placehold_/include/pystl/array.h\"\n",
      "Install file: \"build/cpp/deque.h\" as \"/home/pfernique/.miniconda2/envs/_build_placehold_placehold_placehold_placehold_/include/pystl/deque.h\"\n",
      "Install file: \"build/cpp/forward_list.h\" as \"/home/pfernique/.miniconda2/envs/_build_placehold_placehold_placehold_placehold_/include/pystl/forward_list.h\"\n",
      "Install file: \"build/cpp/map.h\" as \"/home/pfernique/.miniconda2/envs/_build_placehold_placehold_placehold_placehold_/include/pystl/map.h\"\n",
      "Install file: \"build/cpp/multimap.h\" as \"/home/pfernique/.miniconda2/envs/_build_placehold_placehold_placehold_placehold_/include/pystl/multimap.h\"\n",
      "Install file: \"build/cpp/multiset.h\" as \"/home/pfernique/.miniconda2/envs/_build_placehold_placehold_placehold_placehold_/include/pystl/multiset.h\"\n",
      "Install file: \"build/cpp/set.h\" as \"/home/pfernique/.miniconda2/envs/_build_placehold_placehold_placehold_placehold_/include/pystl/set.h\"\n",
      "Install file: \"build/cpp/vector.h\" as \"/home/pfernique/.miniconda2/envs/_build_placehold_placehold_placehold_placehold_/include/pystl/vector.h\"\n",
      "scons: done building targets.\n",
      "Removing old build environment\n",
      "BUILD START: libpystl-1.0.0-0\n",
      "    (actual version deferred until further download or env creation)\n",
      "\n",
      "The following NEW packages will be INSTALLED:\n",
      "\n",
      "    icu:          54.1-0                 \n",
      "    libboost:     1.61.0-py27_0 statiskit\n",
      "    openssl:      1.0.2h-1               \n",
      "    pip:          8.1.2-py27_0           \n",
      "    python:       2.7.12-1               \n",
      "    python-scons: 2.5.0-py27_0  statiskit\n",
      "    readline:     6.2-2                  \n",
      "    setuptools:   26.1.1-py27_0          \n",
      "    sqlite:       3.13.0-0               \n",
      "    tk:           8.5.18-0               \n",
      "    wheel:        0.29.0-py27_0          \n",
      "    zlib:         1.2.8-3                \n",
      "\n",
      "Copying /home/pfernique/Desktop/AutoWIG/doc/examples/PySTL to /home/pfernique/.miniconda2/conda-bld/work\n",
      "BUILD START: libpystl-1.0.0-0\n",
      "Package: libpystl-1.0.0-0\n",
      "source tree in: /home/pfernique/.miniconda2/conda-bld/work\n",
      "number of files: 8\n",
      "Fixing permissions\n",
      "Fixing permissions\n",
      "BUILD END: libpystl-1.0.0-0\n",
      "Nothing to test for: libpystl-1.0.0-0\n",
      "# If you want to upload this package to anaconda.org later, type:\n",
      "#\n",
      "# $ anaconda upload /home/pfernique/.miniconda2/conda-bld/linux-64/libpystl-1.0.0-0.tar.bz2\n",
      "#\n",
      "# To have conda build upload to anaconda.org automatically, use\n",
      "# $ conda config --set anaconda_upload yes\n",
      "\n",
      "Fetching package metadata ...........\n",
      "Solving package specifications: ..........\n",
      "\n",
      "Package plan for installation in environment /home/pfernique/.miniconda2/envs/autowig:\n",
      "\n",
      "The following packages will be downloaded:\n",
      "\n",
      "    package                    |            build\n",
      "    ---------------------------|-----------------\n",
      "    libpystl-1.0.0             |                0          23 KB  local\n",
      "\n",
      "The following NEW packages will be INSTALLED:\n",
      "\n",
      "    libpystl: 1.0.0-0 local\n",
      "\n"
     ]
    }
   ],
   "source": [
    "%%bash --err error\n",
    "conda build -q PySTL/conda/libpystl -c statiskit\n",
    "conda install -y -q libpystl --use-local -c statiskit"
   ]
  },
  {
   "cell_type": "markdown",
   "metadata": {},
   "source": [
    "As presented below, in order to wrap a template library, the user needs to write headers containing aliases for desired template class instantiations."
   ]
  },
  {
   "cell_type": "code",
   "execution_count": 4,
   "metadata": {
    "collapsed": false
   },
   "outputs": [
    {
     "name": "stdout",
     "output_type": "stream",
     "text": [
      "\u001b[36m#\u001b[39;49;00m\u001b[36minclude\u001b[39;49;00m \u001b[37m<vector>\u001b[39;49;00m\u001b[36m\u001b[39;49;00m\n",
      "\u001b[36m#\u001b[39;49;00m\u001b[36minclude\u001b[39;49;00m \u001b[37m<string>\u001b[39;49;00m\u001b[36m\u001b[39;49;00m\n",
      "\n",
      "namespace pystl\n",
      "{\n",
      "    namespace vector\n",
      "    {\n",
      "        \u001b[34mtypedef\u001b[39;49;00m std::vector< \u001b[36mbool\u001b[39;49;00m > Bool;\n",
      "        \u001b[34mtypedef\u001b[39;49;00m std::vector< \u001b[36mchar\u001b[39;49;00m > Char;\n",
      "        \u001b[34mtypedef\u001b[39;49;00m std::vector< \u001b[36msigned\u001b[39;49;00m \u001b[36mchar\u001b[39;49;00m > SignedChar;\n",
      "        \u001b[34mtypedef\u001b[39;49;00m std::vector< \u001b[36munsigned\u001b[39;49;00m \u001b[36mchar\u001b[39;49;00m > UnsignedChar;\n",
      "        \u001b[34mtypedef\u001b[39;49;00m std::vector< \u001b[36mint\u001b[39;49;00m > Int;\n",
      "        \u001b[34mtypedef\u001b[39;49;00m std::vector< \u001b[36mshort\u001b[39;49;00m > Short;\n",
      "        \u001b[34mtypedef\u001b[39;49;00m std::vector< \u001b[36mshort\u001b[39;49;00m \u001b[36mint\u001b[39;49;00m > ShortInt;\n",
      "        \u001b[34mtypedef\u001b[39;49;00m std::vector< \u001b[36mlong\u001b[39;49;00m > Long;\n",
      "        \u001b[34mtypedef\u001b[39;49;00m std::vector< \u001b[36mlong\u001b[39;49;00m \u001b[36mint\u001b[39;49;00m > LongInt;\n",
      "        \u001b[34mtypedef\u001b[39;49;00m std::vector< \u001b[36mlong\u001b[39;49;00m \u001b[36mlong\u001b[39;49;00m > LongLong;\n",
      "        \u001b[34mtypedef\u001b[39;49;00m std::vector< \u001b[36mlong\u001b[39;49;00m \u001b[36mlong\u001b[39;49;00m \u001b[36mint\u001b[39;49;00m > LongLongInt;\n",
      "        \u001b[34mtypedef\u001b[39;49;00m std::vector< \u001b[36msigned\u001b[39;49;00m > Signed;\n",
      "        \u001b[34mtypedef\u001b[39;49;00m std::vector< \u001b[36msigned\u001b[39;49;00m  \u001b[36mint\u001b[39;49;00m > SignedInt;\n",
      "        \u001b[34mtypedef\u001b[39;49;00m std::vector< \u001b[36msigned\u001b[39;49;00m \u001b[36mshort\u001b[39;49;00m > SignedShort;\n",
      "        \u001b[34mtypedef\u001b[39;49;00m std::vector< \u001b[36msigned\u001b[39;49;00m \u001b[36mshort\u001b[39;49;00m \u001b[36mint\u001b[39;49;00m > SignedShortInt;\n",
      "        \u001b[34mtypedef\u001b[39;49;00m std::vector< \u001b[36msigned\u001b[39;49;00m \u001b[36mlong\u001b[39;49;00m > SignedLong;\n",
      "        \u001b[34mtypedef\u001b[39;49;00m std::vector< \u001b[36msigned\u001b[39;49;00m \u001b[36mlong\u001b[39;49;00m \u001b[36mint\u001b[39;49;00m > SignedLongInt;\n",
      "        \u001b[34mtypedef\u001b[39;49;00m std::vector< \u001b[36msigned\u001b[39;49;00m \u001b[36mlong\u001b[39;49;00m \u001b[36mlong\u001b[39;49;00m > SignedLongLong;\n",
      "        \u001b[34mtypedef\u001b[39;49;00m std::vector< \u001b[36msigned\u001b[39;49;00m \u001b[36mlong\u001b[39;49;00m \u001b[36mlong\u001b[39;49;00m \u001b[36mint\u001b[39;49;00m > SignedLongLongInt;\n",
      "        \u001b[34mtypedef\u001b[39;49;00m std::vector< \u001b[36munsigned\u001b[39;49;00m > Unsigned;\n",
      "        \u001b[34mtypedef\u001b[39;49;00m std::vector< \u001b[36munsigned\u001b[39;49;00m  \u001b[36mint\u001b[39;49;00m > UnsignedInt;\n",
      "        \u001b[34mtypedef\u001b[39;49;00m std::vector< \u001b[36munsigned\u001b[39;49;00m \u001b[36mshort\u001b[39;49;00m > UnsignedShort;\n",
      "        \u001b[34mtypedef\u001b[39;49;00m std::vector< \u001b[36munsigned\u001b[39;49;00m \u001b[36mshort\u001b[39;49;00m \u001b[36mint\u001b[39;49;00m > UnsignedShortInt;\n",
      "        \u001b[34mtypedef\u001b[39;49;00m std::vector< \u001b[36munsigned\u001b[39;49;00m \u001b[36mlong\u001b[39;49;00m > UnsignedLong;\n",
      "        \u001b[34mtypedef\u001b[39;49;00m std::vector< \u001b[36munsigned\u001b[39;49;00m \u001b[36mlong\u001b[39;49;00m \u001b[36mint\u001b[39;49;00m > UnsignedLongInt;\n",
      "        \u001b[34mtypedef\u001b[39;49;00m std::vector< \u001b[36munsigned\u001b[39;49;00m \u001b[36mlong\u001b[39;49;00m \u001b[36mlong\u001b[39;49;00m > UnsignedLongLong;\n",
      "        \u001b[34mtypedef\u001b[39;49;00m std::vector< \u001b[36munsigned\u001b[39;49;00m \u001b[36mlong\u001b[39;49;00m \u001b[36mlong\u001b[39;49;00m \u001b[36mint\u001b[39;49;00m > UnsignedLongLongInt;\n",
      "        \u001b[34mtypedef\u001b[39;49;00m std::vector< \u001b[36mfloat\u001b[39;49;00m > Float;\n",
      "        \u001b[34mtypedef\u001b[39;49;00m std::vector< \u001b[36mdouble\u001b[39;49;00m > Double;\n",
      "        \u001b[34mtypedef\u001b[39;49;00m std::vector< \u001b[36mlong\u001b[39;49;00m \u001b[36mdouble\u001b[39;49;00m > LongDouble;\n",
      "        \u001b[34mtypedef\u001b[39;49;00m std::vector< std::string > String;\n",
      "        \u001b[34mtypedef\u001b[39;49;00m std::vector< std::wstring > Wstring;\n",
      "    }\n",
      "}\n"
     ]
    }
   ],
   "source": [
    "%%bash\n",
    "pygmentize PySTL/src/cpp/vector.h"
   ]
  },
  {
   "cell_type": "markdown",
   "metadata": {},
   "source": [
    "Once these preliminaries done, we can proceed to the actual generation of wrappers for the **PySTL** library.\n",
    "For this, we import **AutoWIG** and create an empty Abstract Semantic Graph (ASG)."
   ]
  },
  {
   "cell_type": "code",
   "execution_count": 5,
   "metadata": {
    "collapsed": false
   },
   "outputs": [],
   "source": [
    "import autowig\n",
    "asg = autowig.AbstractSemanticGraph()"
   ]
  },
  {
   "cell_type": "markdown",
   "metadata": {},
   "source": [
    "We need then to install the *C++* headers. This is done using the `cpp` target in **SCons**."
   ]
  },
  {
   "cell_type": "code",
   "execution_count": 6,
   "metadata": {
    "collapsed": false
   },
   "outputs": [
    {
     "name": "stdout",
     "output_type": "stream",
     "text": [
      "scons: Entering directory `/home/pfernique/Desktop/AutoWIG/doc/examples/PySTL'\n",
      "scons: Reading SConscript files ...\n",
      "scons: done reading SConscript files.\n",
      "scons: Building targets ...\n",
      "Install file: \"build/cpp/array.h\" as \"/home/pfernique/.miniconda2/envs/autowig/include/pystl/array.h\"\n",
      "Install file: \"build/cpp/deque.h\" as \"/home/pfernique/.miniconda2/envs/autowig/include/pystl/deque.h\"\n",
      "Install file: \"build/cpp/forward_list.h\" as \"/home/pfernique/.miniconda2/envs/autowig/include/pystl/forward_list.h\"\n",
      "Install file: \"build/cpp/map.h\" as \"/home/pfernique/.miniconda2/envs/autowig/include/pystl/map.h\"\n",
      "Install file: \"build/cpp/multimap.h\" as \"/home/pfernique/.miniconda2/envs/autowig/include/pystl/multimap.h\"\n",
      "Install file: \"build/cpp/multiset.h\" as \"/home/pfernique/.miniconda2/envs/autowig/include/pystl/multiset.h\"\n",
      "Install file: \"build/cpp/set.h\" as \"/home/pfernique/.miniconda2/envs/autowig/include/pystl/set.h\"\n",
      "Install file: \"build/cpp/vector.h\" as \"/home/pfernique/.miniconda2/envs/autowig/include/pystl/vector.h\"\n",
      "scons: done building targets.\n"
     ]
    },
    {
     "name": "stderr",
     "output_type": "stream",
     "text": [
      "\n",
      "scons: warning: Ignoring missing SConscript 'build/py/vector/SConscript'\n",
      "File \"/home/pfernique/Desktop/AutoWIG/doc/examples/PySTL/SConstruct\", line 78, in <module>\n"
     ]
    }
   ],
   "source": [
    "%%bash\n",
    "scons cpp -C PySTL"
   ]
  },
  {
   "cell_type": "markdown",
   "metadata": {},
   "source": [
    "Once the headers habe been installed in the system, we parse headers with relevant compilation flags."
   ]
  },
  {
   "cell_type": "code",
   "execution_count": 7,
   "metadata": {
    "collapsed": false
   },
   "outputs": [
    {
     "ename": "ImportError",
     "evalue": "/home/pfernique/.miniconda2/envs/autowig/lib/python2.7/site-packages/clanglite/../../../libclanglite.so: undefined symbol: _ZNK5clang15DeclarationName11getAsStringB5cxx11Ev",
     "output_type": "error",
     "traceback": [
      "\u001b[0;31m---------------------------------------------------------------------------\u001b[0m",
      "\u001b[0;31mImportError\u001b[0m                               Traceback (most recent call last)",
      "\u001b[0;32m<ipython-input-7-b104aa8f17fb>\u001b[0m in \u001b[0;36m<module>\u001b[0;34m()\u001b[0m\n\u001b[1;32m      6\u001b[0m                               '-I' + sys.prefix + '/include'],\n\u001b[1;32m      7\u001b[0m                      \u001b[0mbootstrap\u001b[0m \u001b[0;34m=\u001b[0m \u001b[0;36m1\u001b[0m\u001b[0;34m,\u001b[0m\u001b[0;34m\u001b[0m\u001b[0m\n\u001b[0;32m----> 8\u001b[0;31m                      silent = True)\n\u001b[0m",
      "\u001b[0;32m/home/pfernique/.miniconda2/envs/autowig/lib/python2.7/site-packages/PkgTk-0.1.0-py2.7.egg/pkgtk/plugin.py\u001b[0m in \u001b[0;36m__get__\u001b[0;34m(self, obj, objtype)\u001b[0m\n\u001b[1;32m    103\u001b[0m         \u001b[0mplugin\u001b[0m \u001b[0;34m=\u001b[0m \u001b[0mobj\u001b[0m\u001b[0;34m.\u001b[0m\u001b[0mplugin\u001b[0m\u001b[0;34m\u001b[0m\u001b[0m\n\u001b[1;32m    104\u001b[0m         \u001b[0;32mif\u001b[0m \u001b[0mplugin\u001b[0m\u001b[0;34m:\u001b[0m\u001b[0;34m\u001b[0m\u001b[0m\n\u001b[0;32m--> 105\u001b[0;31m             \u001b[0;32mreturn\u001b[0m \u001b[0mobj\u001b[0m\u001b[0;34m[\u001b[0m\u001b[0mplugin\u001b[0m\u001b[0;34m]\u001b[0m\u001b[0;34m\u001b[0m\u001b[0m\n\u001b[0m\u001b[1;32m    106\u001b[0m         \u001b[0;32melse\u001b[0m\u001b[0;34m:\u001b[0m\u001b[0;34m\u001b[0m\u001b[0m\n\u001b[1;32m    107\u001b[0m             \u001b[0;32mdef\u001b[0m \u001b[0m__call__\u001b[0m\u001b[0;34m(\u001b[0m\u001b[0;34m)\u001b[0m\u001b[0;34m:\u001b[0m\u001b[0;34m\u001b[0m\u001b[0m\n",
      "\u001b[0;32m/home/pfernique/.miniconda2/envs/autowig/lib/python2.7/site-packages/PkgTk-0.1.0-py2.7.egg/pkgtk/plugin.py\u001b[0m in \u001b[0;36m__getitem__\u001b[0;34m(self, plugin)\u001b[0m\n\u001b[1;32m    143\u001b[0m             \u001b[0;32mreturn\u001b[0m \u001b[0mplugin\u001b[0m\u001b[0;34m\u001b[0m\u001b[0m\n\u001b[1;32m    144\u001b[0m         \u001b[0;32melse\u001b[0m\u001b[0;34m:\u001b[0m\u001b[0;34m\u001b[0m\u001b[0m\n\u001b[0;32m--> 145\u001b[0;31m             \u001b[0;32mreturn\u001b[0m \u001b[0mpkg_resources\u001b[0m\u001b[0;34m.\u001b[0m\u001b[0miter_entry_points\u001b[0m\u001b[0;34m(\u001b[0m\u001b[0mself\u001b[0m\u001b[0;34m.\u001b[0m\u001b[0m_group\u001b[0m\u001b[0;34m,\u001b[0m \u001b[0mplugin\u001b[0m\u001b[0;34m)\u001b[0m\u001b[0;34m.\u001b[0m\u001b[0mnext\u001b[0m\u001b[0;34m(\u001b[0m\u001b[0;34m)\u001b[0m\u001b[0;34m.\u001b[0m\u001b[0mload\u001b[0m\u001b[0;34m(\u001b[0m\u001b[0;34m)\u001b[0m\u001b[0;34m\u001b[0m\u001b[0m\n\u001b[0m\u001b[1;32m    146\u001b[0m \u001b[0;34m\u001b[0m\u001b[0m\n\u001b[1;32m    147\u001b[0m     \u001b[0;32mdef\u001b[0m \u001b[0m__setitem__\u001b[0m\u001b[0;34m(\u001b[0m\u001b[0mself\u001b[0m\u001b[0;34m,\u001b[0m \u001b[0mplugin\u001b[0m\u001b[0;34m,\u001b[0m \u001b[0mimplementation\u001b[0m\u001b[0;34m)\u001b[0m\u001b[0;34m:\u001b[0m\u001b[0;34m\u001b[0m\u001b[0m\n",
      "\u001b[0;32m/home/pfernique/.miniconda2/envs/autowig/lib/python2.7/site-packages/pkg_resources/__init__.pyc\u001b[0m in \u001b[0;36mload\u001b[0;34m(self, require, *args, **kwargs)\u001b[0m\n\u001b[1;32m   2247\u001b[0m         \u001b[0;32mif\u001b[0m \u001b[0mrequire\u001b[0m\u001b[0;34m:\u001b[0m\u001b[0;34m\u001b[0m\u001b[0m\n\u001b[1;32m   2248\u001b[0m             \u001b[0mself\u001b[0m\u001b[0;34m.\u001b[0m\u001b[0mrequire\u001b[0m\u001b[0;34m(\u001b[0m\u001b[0;34m*\u001b[0m\u001b[0margs\u001b[0m\u001b[0;34m,\u001b[0m \u001b[0;34m**\u001b[0m\u001b[0mkwargs\u001b[0m\u001b[0;34m)\u001b[0m\u001b[0;34m\u001b[0m\u001b[0m\n\u001b[0;32m-> 2249\u001b[0;31m         \u001b[0;32mreturn\u001b[0m \u001b[0mself\u001b[0m\u001b[0;34m.\u001b[0m\u001b[0mresolve\u001b[0m\u001b[0;34m(\u001b[0m\u001b[0;34m)\u001b[0m\u001b[0;34m\u001b[0m\u001b[0m\n\u001b[0m\u001b[1;32m   2250\u001b[0m \u001b[0;34m\u001b[0m\u001b[0m\n\u001b[1;32m   2251\u001b[0m     \u001b[0;32mdef\u001b[0m \u001b[0mresolve\u001b[0m\u001b[0;34m(\u001b[0m\u001b[0mself\u001b[0m\u001b[0;34m)\u001b[0m\u001b[0;34m:\u001b[0m\u001b[0;34m\u001b[0m\u001b[0m\n",
      "\u001b[0;32m/home/pfernique/.miniconda2/envs/autowig/lib/python2.7/site-packages/pkg_resources/__init__.pyc\u001b[0m in \u001b[0;36mresolve\u001b[0;34m(self)\u001b[0m\n\u001b[1;32m   2253\u001b[0m         \u001b[0mResolve\u001b[0m \u001b[0mthe\u001b[0m \u001b[0mentry\u001b[0m \u001b[0mpoint\u001b[0m \u001b[0;32mfrom\u001b[0m \u001b[0mits\u001b[0m \u001b[0mmodule\u001b[0m \u001b[0;32mand\u001b[0m \u001b[0mattrs\u001b[0m\u001b[0;34m.\u001b[0m\u001b[0;34m\u001b[0m\u001b[0m\n\u001b[1;32m   2254\u001b[0m         \"\"\"\n\u001b[0;32m-> 2255\u001b[0;31m         \u001b[0mmodule\u001b[0m \u001b[0;34m=\u001b[0m \u001b[0m__import__\u001b[0m\u001b[0;34m(\u001b[0m\u001b[0mself\u001b[0m\u001b[0;34m.\u001b[0m\u001b[0mmodule_name\u001b[0m\u001b[0;34m,\u001b[0m \u001b[0mfromlist\u001b[0m\u001b[0;34m=\u001b[0m\u001b[0;34m[\u001b[0m\u001b[0;34m'__name__'\u001b[0m\u001b[0;34m]\u001b[0m\u001b[0;34m,\u001b[0m \u001b[0mlevel\u001b[0m\u001b[0;34m=\u001b[0m\u001b[0;36m0\u001b[0m\u001b[0;34m)\u001b[0m\u001b[0;34m\u001b[0m\u001b[0m\n\u001b[0m\u001b[1;32m   2256\u001b[0m         \u001b[0;32mtry\u001b[0m\u001b[0;34m:\u001b[0m\u001b[0;34m\u001b[0m\u001b[0m\n\u001b[1;32m   2257\u001b[0m             \u001b[0;32mreturn\u001b[0m \u001b[0mfunctools\u001b[0m\u001b[0;34m.\u001b[0m\u001b[0mreduce\u001b[0m\u001b[0;34m(\u001b[0m\u001b[0mgetattr\u001b[0m\u001b[0;34m,\u001b[0m \u001b[0mself\u001b[0m\u001b[0;34m.\u001b[0m\u001b[0mattrs\u001b[0m\u001b[0;34m,\u001b[0m \u001b[0mmodule\u001b[0m\u001b[0;34m)\u001b[0m\u001b[0;34m\u001b[0m\u001b[0m\n",
      "\u001b[0;32m/home/pfernique/.miniconda2/envs/autowig/lib/python2.7/site-packages/clanglite/__init__.py\u001b[0m in \u001b[0;36m<module>\u001b[0;34m()\u001b[0m\n\u001b[1;32m      1\u001b[0m \u001b[0;32mfrom\u001b[0m \u001b[0mfunctools\u001b[0m \u001b[0;32mimport\u001b[0m \u001b[0mwraps\u001b[0m\u001b[0;34m\u001b[0m\u001b[0m\n\u001b[1;32m      2\u001b[0m \u001b[0;34m\u001b[0m\u001b[0m\n\u001b[0;32m----> 3\u001b[0;31m \u001b[0;32mimport\u001b[0m \u001b[0m_clanglite\u001b[0m\u001b[0;34m\u001b[0m\u001b[0m\n\u001b[0m\u001b[1;32m      4\u001b[0m \u001b[0;32mfrom\u001b[0m \u001b[0m__clanglite\u001b[0m \u001b[0;32mimport\u001b[0m \u001b[0;34m*\u001b[0m\u001b[0;34m\u001b[0m\u001b[0m\n\u001b[1;32m      5\u001b[0m \u001b[0;34m\u001b[0m\u001b[0m\n",
      "\u001b[0;32m/home/pfernique/.miniconda2/envs/autowig/lib/python2.7/site-packages/clanglite/_clanglite.py\u001b[0m in \u001b[0;36m<module>\u001b[0;34m()\u001b[0m\n\u001b[1;32m      3\u001b[0m \u001b[0;34m\u001b[0m\u001b[0m\n\u001b[1;32m      4\u001b[0m \u001b[0;31m# Import Boost.Python module\u001b[0m\u001b[0;34m\u001b[0m\u001b[0;34m\u001b[0m\u001b[0m\n\u001b[0;32m----> 5\u001b[0;31m \u001b[0;32mimport\u001b[0m \u001b[0mclanglite\u001b[0m\u001b[0;34m.\u001b[0m\u001b[0m__clanglite\u001b[0m\u001b[0;34m\u001b[0m\u001b[0m\n\u001b[0m\u001b[1;32m      6\u001b[0m \u001b[0;34m\u001b[0m\u001b[0m\n\u001b[1;32m      7\u001b[0m \u001b[0;31m# Resolve scopes\u001b[0m\u001b[0;34m\u001b[0m\u001b[0;34m\u001b[0m\u001b[0m\n",
      "\u001b[0;31mImportError\u001b[0m: /home/pfernique/.miniconda2/envs/autowig/lib/python2.7/site-packages/clanglite/../../../libclanglite.so: undefined symbol: _ZNK5clang15DeclarationName11getAsStringB5cxx11Ev"
     ]
    }
   ],
   "source": [
    "import sys\n",
    "autowig.parser.plugin = 'pyclanglite'\n",
    "asg = autowig.parser(asg,\n",
    "                     [sys.prefix + '/include/pystl/vector.h'],\n",
    "                     flags = ['-x', 'c++', '-std=c++11',\n",
    "                              '-I' + sys.prefix + '/include'],\n",
    "                     bootstrap = 1,\n",
    "                     silent = True)"
   ]
  },
  {
   "cell_type": "markdown",
   "metadata": {},
   "source": [
    "Since most of **AutoWIG** guidelines are respected, the `default` `controller` implementation is thus suitable."
   ]
  },
  {
   "cell_type": "code",
   "execution_count": null,
   "metadata": {
    "collapsed": true
   },
   "outputs": [],
   "source": [
    "autowig.controller.plugin = 'default'\n",
    "asg = autowig.controller(asg)"
   ]
  },
  {
   "cell_type": "markdown",
   "metadata": {},
   "source": [
    "In order to wrap the chosen instations of the `std::vector` template class, we need to select the `boost_python_internal` `generator` implementation."
   ]
  },
  {
   "cell_type": "code",
   "execution_count": null,
   "metadata": {
    "collapsed": true
   },
   "outputs": [],
   "source": [
    "autowig.generator.plugin = 'boost_python_internal'\n",
    "wrappers = autowig.generator(asg,\n",
    "                  module = './PySTL/src/py/_vector.cpp',\n",
    "                  prefix = '_vector_wrapper_',\n",
    "                  decorator = './PySTL/src/py/stl/vector/_vector.py',\n",
    "                  closure = True)"
   ]
  },
  {
   "cell_type": "markdown",
   "metadata": {},
   "source": [
    "The wrappers are only generated in-memory.\n",
    "It is therefore needed to write them on the disk to complete the process."
   ]
  },
  {
   "cell_type": "code",
   "execution_count": null,
   "metadata": {
    "collapsed": true
   },
   "outputs": [],
   "source": [
    "wrappers.write()"
   ]
  },
  {
   "cell_type": "markdown",
   "metadata": {},
   "source": [
    "Here is an example of the generated wrappers.\n",
    "We here present the wrappers for the `std::vector< int >` class."
   ]
  },
  {
   "cell_type": "code",
   "execution_count": null,
   "metadata": {
    "collapsed": true
   },
   "outputs": [],
   "source": [
    "asg['::pystl::vector::Int'].qualified_type.desugared_type.unqualified_type.boost_python_export"
   ]
  },
  {
   "cell_type": "markdown",
   "metadata": {},
   "source": [
    "Once the wrappers are written on disk, we need to compile and install the *Python* bindings."
   ]
  },
  {
   "cell_type": "code",
   "execution_count": null,
   "metadata": {
    "collapsed": true
   },
   "outputs": [],
   "source": [
    "%%bash --err error\n",
    "conda build -q PySTL/conda/python-stl-vector -c statiskit\n",
    "conda install -y -q python-stl-vector --use-local -c statiskit"
   ]
  },
  {
   "cell_type": "markdown",
   "metadata": {},
   "source": [
    "Finally, we can hereafter use the *C++* library in the *Python* interpreter."
   ]
  },
  {
   "cell_type": "code",
   "execution_count": null,
   "metadata": {
    "collapsed": true
   },
   "outputs": [],
   "source": [
    "from stl import vector\n",
    "v = vector.Int()\n",
    "v.push_back(-1)\n",
    "v.push_back(0)\n",
    "v.push_back(1)\n",
    "v"
   ]
  },
  {
   "cell_type": "code",
   "execution_count": null,
   "metadata": {
    "collapsed": true
   },
   "outputs": [],
   "source": [
    "list(v)"
   ]
  },
  {
   "cell_type": "code",
   "execution_count": null,
   "metadata": {
    "collapsed": true
   },
   "outputs": [],
   "source": [
    "v[0]"
   ]
  },
  {
   "cell_type": "code",
   "execution_count": null,
   "metadata": {
    "collapsed": true
   },
   "outputs": [],
   "source": [
    "v[0] = -2\n",
    "v[0]"
   ]
  },
  {
   "cell_type": "code",
   "execution_count": null,
   "metadata": {
    "collapsed": true
   },
   "outputs": [],
   "source": [
    "vector.Int([0, 1])"
   ]
  }
 ],
 "metadata": {
  "anaconda-cloud": {},
  "kernelspec": {
   "display_name": "Python [default]",
   "language": "python",
   "name": "python2"
  },
  "language_info": {
   "codemirror_mode": {
    "name": "ipython",
    "version": 2
   },
   "file_extension": ".py",
   "mimetype": "text/x-python",
   "name": "python",
   "nbconvert_exporter": "python",
   "pygments_lexer": "ipython2",
   "version": "2.7.12"
  }
 },
 "nbformat": 4,
 "nbformat_minor": 0
}
