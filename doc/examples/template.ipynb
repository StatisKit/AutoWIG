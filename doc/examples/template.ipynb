{
 "cells": [
  {
   "cell_type": "markdown",
   "metadata": {
    "collapsed": true
   },
   "source": [
    "# Wrapping a template library\n",
    "\n",
    "A template library is a library where there are only template classes that can be instantiated.\n",
    "Wrapping such libraries therefore requires **AutoWIG** to be able to consider various *C++* template classes instantiations during the `Parse` step.\n",
    "The **Standard Template Library (STL)** library is a *C++* library that provides a set of common *C++* template classes such as containers and associative arrays.\n",
    "These classes can be used with any built-in or user-defined type that supports some elementary operations (e.g. copying, assignment).\n",
    "It is divided in four components called algorithms, containers, functional and iterators.\n",
    "**STL** containers (e.g. `std::vector`, `std::set`) are used in many *C++* libraries.\n",
    "In such a case, it does not seem relevant that every wrapped *C++* library contains wrappers for usual **STL** containers (e.g. `std::vector< double >`, `std::set< int >`).\n",
    "We therefore proposed *Python* bindings for sequence containers (i.e. `pair`, `array`, `vector`, `deque`, `forward_list` and `list` of the `std` namespace) and associative containers (`set`, `multiset`, `map`, `multimap`, `unordered_set`, `unordered_multiset`, `unordered_map` and `unordered_multimap` of the `std` namespace).\n",
    "These template instantiations are done for *C++* fundamental types (`bool`, `signed char`, `unsigned char`, `char`, `wchar_t`, `int` (with sign modifiers `signed` and `signed` combined or not with size modifiers `short`, `long` and `long long`), `float`, `double`, `long double`) and strings (`string`, `wstring` of the `std` namespace).\n",
    "For ordered associative containers both `std::less` and `std::greater` comparators are used.\n",
    "\n",
    "To wrap a template library, it is required to install the `pyclanglite` `parser`."
   ]
  },
  {
   "cell_type": "code",
   "execution_count": null,
   "metadata": {
    "collapsed": false
   },
   "outputs": [],
   "source": [
    "%%bash\n",
    "conda install -y -q python-clanglite -c statiskit"
   ]
  },
  {
   "cell_type": "markdown",
   "metadata": {},
   "source": [
    "First, clone the **PySTL**  repository into the **PySTL** directory."
   ]
  },
  {
   "cell_type": "code",
   "execution_count": null,
   "metadata": {
    "collapsed": false
   },
   "outputs": [],
   "source": [
    "%%bash\n",
    "git clone https://github.com/StatisKit/PySTL.git"
   ]
  },
  {
   "cell_type": "markdown",
   "metadata": {},
   "source": [
    "In the following we will use **SCons** software construction tool for compiling *C++* libraries."
   ]
  },
  {
   "cell_type": "code",
   "execution_count": null,
   "metadata": {
    "collapsed": false
   },
   "outputs": [],
   "source": [
    "%%bash\n",
    "conda install python-scons -c statiskit"
   ]
  },
  {
   "cell_type": "markdown",
   "metadata": {},
   "source": [
    "As presented below, in order to wrap a template library, the user needs to write headers containing aliases for desired template class instantiations."
   ]
  },
  {
   "cell_type": "code",
   "execution_count": null,
   "metadata": {
    "collapsed": false
   },
   "outputs": [],
   "source": [
    "%%bash\n",
    "cd PySTL\n",
    "python build.py\n",
    "cd ..\n",
    "pygmentize PySTL/src/cpp/vector.h"
   ]
  },
  {
   "cell_type": "markdown",
   "metadata": {},
   "source": [
    "We import **AutoWIG** and create an empty Abstract Semantic Graph (ASG)."
   ]
  },
  {
   "cell_type": "code",
   "execution_count": null,
   "metadata": {
    "collapsed": false
   },
   "outputs": [],
   "source": [
    "import autowig\n",
    "asg = autowig.AbstractSemanticGraph()"
   ]
  },
  {
   "cell_type": "markdown",
   "metadata": {},
   "source": [
    "We need then to install the *C++* headers. This is done using the `cpp` target in **SCons**."
   ]
  },
  {
   "cell_type": "code",
   "execution_count": null,
   "metadata": {
    "collapsed": false
   },
   "outputs": [],
   "source": [
    "%%bash\n",
    "scons cpp -C PySTL"
   ]
  },
  {
   "cell_type": "markdown",
   "metadata": {},
   "source": [
    "Once the headers habe been installed in the system, we parse headers with relevant compilation flags."
   ]
  },
  {
   "cell_type": "code",
   "execution_count": null,
   "metadata": {
    "collapsed": false
   },
   "outputs": [],
   "source": [
    "from path import path\n",
    "import sys\n",
    "prefix = path(sys.prefix)\n",
    "autowig.parser.plugin = 'pyclanglite'\n",
    "asg = autowig.parser(asg,\n",
    "                     [prefix/'include'/'pystl'/'vector.h'],\n",
    "                     flags = ['-x', 'c++', '-std=c++11',\n",
    "                              '-I' + str((prefix/'include').abspath())],\n",
    "                     bootstrap = 1,\n",
    "                     silent = True)"
   ]
  },
  {
   "cell_type": "markdown",
   "metadata": {},
   "source": [
    "Since most of **AutoWIG** guidelines are respected, the `default` `controller` implementation is thus suitable."
   ]
  },
  {
   "cell_type": "code",
   "execution_count": null,
   "metadata": {
    "collapsed": true
   },
   "outputs": [],
   "source": [
    "autowig.controller.plugin = 'default'\n",
    "asg = autowig.controller(asg)"
   ]
  },
  {
   "cell_type": "code",
   "execution_count": null,
   "metadata": {
    "collapsed": true
   },
   "outputs": [],
   "source": [
    "autowig.generator.plugin = 'boost_python_internal'\n",
    "wrappers = autowig.generator(asg,\n",
    "                  module = './PySTL/src/py/_vector.cpp',\n",
    "                  prefix = '_vector_wrapper_',\n",
    "                  decorator = './PySTL/src/py/stl/vector/_vector.py',\n",
    "                  closure = True)\n",
    "wrappers.write()"
   ]
  }
 ],
 "metadata": {
  "anaconda-cloud": {},
  "kernelspec": {
   "display_name": "Python [default]",
   "language": "python",
   "name": "python2"
  },
  "language_info": {
   "codemirror_mode": {
    "name": "ipython",
    "version": 2
   },
   "file_extension": ".py",
   "mimetype": "text/x-python",
   "name": "python",
   "nbconvert_exporter": "python",
   "pygments_lexer": "ipython2",
   "version": "2.7.12"
  }
 },
 "nbformat": 4,
 "nbformat_minor": 0
}
