{
 "cells": [
  {
   "cell_type": "markdown",
   "metadata": {
    "collapsed": true
   },
   "source": [
    "# Wrapping a template library\n",
    "\n",
    "A template library is a library where there are only template classes that can be instantiated.\n",
    "Wrapping such libraries therefore requires **AutoWIG** to be able to consider various *C++* template classes instantiations during the `Parse` step.\n",
    "The **Standard Template Library (STL)** library is a *C++* library that provides a set of common *C++* template classes such as containers and associative arrays.\n",
    "These classes can be used with any built-in or user-defined type that supports some elementary operations (e.g. copying, assignment).\n",
    "It is divided in four components called algorithms, containers, functional and iterators.\n",
    "**STL** containers (e.g. `std::vector`, `std::set`) are used in many *C++* libraries.\n",
    "In such a case, it does not seem relevant that every wrapped *C++* library contains wrappers for usual **STL** containers (e.g. `std::vector< double >`, `std::set< int >`).\n",
    "We therefore proposed *Python* bindings for sequence containers (i.e. `pair`, `array`, `vector`, `deque`, `forward_list` and `list` of the `std` namespace) and associative containers (`set`, `multiset`, `map`, `multimap`, `unordered_set`, `unordered_multiset`, `unordered_map` and `unordered_multimap` of the `std` namespace).\n",
    "These template instantiations are done for *C++* fundamental types (`bool`, `signed char`, `unsigned char`, `char`, `wchar_t`, `int` (with sign modifiers `signed` and `signed` combined or not with size modifiers `short`, `long` and `long long`), `float`, `double`, `long double`) and strings (`string`, `wstring` of the `std` namespace).\n",
    "For ordered associative containers both `std::less` and `std::greater` comparators are used."
   ]
  },
  {
   "cell_type": "markdown",
   "metadata": {},
   "source": [
    "First, clone the **PySTL**  repository into the **PySTL** directory."
   ]
  },
  {
   "cell_type": "code",
   "execution_count": 3,
   "metadata": {
    "collapsed": false
   },
   "outputs": [
    {
     "name": "stderr",
     "output_type": "stream",
     "text": [
      "fatal: destination path 'PySTL' already exists and is not an empty directory.\n"
     ]
    }
   ],
   "source": [
    "%%bash\n",
    "git clone https://github.com/StatisKit/PySTL.git"
   ]
  },
  {
   "cell_type": "markdown",
   "metadata": {},
   "source": [
    "As presented below, in order to wrap a template library, the user needs to write headers containing aliases for desired template class instantiations."
   ]
  },
  {
   "cell_type": "code",
   "execution_count": 2,
   "metadata": {
    "collapsed": false
   },
   "outputs": [
    {
     "name": "stdout",
     "output_type": "stream",
     "text": [
      "\u001b[36m#\u001b[39;49;00m\u001b[36minclude\u001b[39;49;00m \u001b[37m<vector>\u001b[39;49;00m\u001b[36m\u001b[39;49;00m\n",
      "\u001b[36m#\u001b[39;49;00m\u001b[36minclude\u001b[39;49;00m \u001b[37m<string>\u001b[39;49;00m\u001b[36m\u001b[39;49;00m\n",
      "\n",
      "namespace pystl\n",
      "{\n",
      "    namespace vector\n",
      "    {\n",
      "        \u001b[34mtypedef\u001b[39;49;00m std::vector< \u001b[36mbool\u001b[39;49;00m > Bool;\n",
      "        \u001b[34mtypedef\u001b[39;49;00m std::vector< \u001b[36mchar\u001b[39;49;00m > Char;\n",
      "        \u001b[34mtypedef\u001b[39;49;00m std::vector< \u001b[36msigned\u001b[39;49;00m \u001b[36mchar\u001b[39;49;00m > SignedChar;\n",
      "        \u001b[34mtypedef\u001b[39;49;00m std::vector< \u001b[36munsigned\u001b[39;49;00m \u001b[36mchar\u001b[39;49;00m > UnsignedChar;\n",
      "        \u001b[34mtypedef\u001b[39;49;00m std::vector< \u001b[36mint\u001b[39;49;00m > Int;\n",
      "        \u001b[34mtypedef\u001b[39;49;00m std::vector< \u001b[36mshort\u001b[39;49;00m > Short;\n",
      "        \u001b[34mtypedef\u001b[39;49;00m std::vector< \u001b[36mshort\u001b[39;49;00m \u001b[36mint\u001b[39;49;00m > ShortInt;\n",
      "        \u001b[34mtypedef\u001b[39;49;00m std::vector< \u001b[36mlong\u001b[39;49;00m > Long;\n",
      "        \u001b[34mtypedef\u001b[39;49;00m std::vector< \u001b[36mlong\u001b[39;49;00m \u001b[36mint\u001b[39;49;00m > LongInt;\n",
      "        \u001b[34mtypedef\u001b[39;49;00m std::vector< \u001b[36mlong\u001b[39;49;00m \u001b[36mlong\u001b[39;49;00m > LongLong;\n",
      "        \u001b[34mtypedef\u001b[39;49;00m std::vector< \u001b[36mlong\u001b[39;49;00m \u001b[36mlong\u001b[39;49;00m \u001b[36mint\u001b[39;49;00m > LongLongInt;\n",
      "        \u001b[34mtypedef\u001b[39;49;00m std::vector< \u001b[36msigned\u001b[39;49;00m > Signed;\n",
      "        \u001b[34mtypedef\u001b[39;49;00m std::vector< \u001b[36msigned\u001b[39;49;00m  \u001b[36mint\u001b[39;49;00m > SignedInt;\n",
      "        \u001b[34mtypedef\u001b[39;49;00m std::vector< \u001b[36msigned\u001b[39;49;00m \u001b[36mshort\u001b[39;49;00m > SignedShort;\n",
      "        \u001b[34mtypedef\u001b[39;49;00m std::vector< \u001b[36msigned\u001b[39;49;00m \u001b[36mshort\u001b[39;49;00m \u001b[36mint\u001b[39;49;00m > SignedShortInt;\n",
      "        \u001b[34mtypedef\u001b[39;49;00m std::vector< \u001b[36msigned\u001b[39;49;00m \u001b[36mlong\u001b[39;49;00m > SignedLong;\n",
      "        \u001b[34mtypedef\u001b[39;49;00m std::vector< \u001b[36msigned\u001b[39;49;00m \u001b[36mlong\u001b[39;49;00m \u001b[36mint\u001b[39;49;00m > SignedLongInt;\n",
      "        \u001b[34mtypedef\u001b[39;49;00m std::vector< \u001b[36msigned\u001b[39;49;00m \u001b[36mlong\u001b[39;49;00m \u001b[36mlong\u001b[39;49;00m > SignedLongLong;\n",
      "        \u001b[34mtypedef\u001b[39;49;00m std::vector< \u001b[36msigned\u001b[39;49;00m \u001b[36mlong\u001b[39;49;00m \u001b[36mlong\u001b[39;49;00m \u001b[36mint\u001b[39;49;00m > SignedLongLongInt;\n",
      "        \u001b[34mtypedef\u001b[39;49;00m std::vector< \u001b[36munsigned\u001b[39;49;00m > Unsigned;\n",
      "        \u001b[34mtypedef\u001b[39;49;00m std::vector< \u001b[36munsigned\u001b[39;49;00m  \u001b[36mint\u001b[39;49;00m > UnsignedInt;\n",
      "        \u001b[34mtypedef\u001b[39;49;00m std::vector< \u001b[36munsigned\u001b[39;49;00m \u001b[36mshort\u001b[39;49;00m > UnsignedShort;\n",
      "        \u001b[34mtypedef\u001b[39;49;00m std::vector< \u001b[36munsigned\u001b[39;49;00m \u001b[36mshort\u001b[39;49;00m \u001b[36mint\u001b[39;49;00m > UnsignedShortInt;\n",
      "        \u001b[34mtypedef\u001b[39;49;00m std::vector< \u001b[36munsigned\u001b[39;49;00m \u001b[36mlong\u001b[39;49;00m > UnsignedLong;\n",
      "        \u001b[34mtypedef\u001b[39;49;00m std::vector< \u001b[36munsigned\u001b[39;49;00m \u001b[36mlong\u001b[39;49;00m \u001b[36mint\u001b[39;49;00m > UnsignedLongInt;\n",
      "        \u001b[34mtypedef\u001b[39;49;00m std::vector< \u001b[36munsigned\u001b[39;49;00m \u001b[36mlong\u001b[39;49;00m \u001b[36mlong\u001b[39;49;00m > UnsignedLongLong;\n",
      "        \u001b[34mtypedef\u001b[39;49;00m std::vector< \u001b[36munsigned\u001b[39;49;00m \u001b[36mlong\u001b[39;49;00m \u001b[36mlong\u001b[39;49;00m \u001b[36mint\u001b[39;49;00m > UnsignedLongLongInt;\n",
      "        \u001b[34mtypedef\u001b[39;49;00m std::vector< \u001b[36mfloat\u001b[39;49;00m > Float;\n",
      "        \u001b[34mtypedef\u001b[39;49;00m std::vector< \u001b[36mdouble\u001b[39;49;00m > Double;\n",
      "        \u001b[34mtypedef\u001b[39;49;00m std::vector< \u001b[36mlong\u001b[39;49;00m \u001b[36mdouble\u001b[39;49;00m > LongDouble;\n",
      "        \u001b[34mtypedef\u001b[39;49;00m std::vector< std::string > String;\n",
      "        \u001b[34mtypedef\u001b[39;49;00m std::vector< std::wstring > Wstring;\n",
      "    }\n",
      "}\n"
     ]
    }
   ],
   "source": [
    "%%bash\n",
    "pygmentize PySTL/src/cpp/vector.h"
   ]
  },
  {
   "cell_type": "markdown",
   "metadata": {},
   "source": [
    "We import **AutoWIG** and create an empty Abstract Semantic Graph (ASG)."
   ]
  },
  {
   "cell_type": "code",
   "execution_count": 3,
   "metadata": {
    "collapsed": false
   },
   "outputs": [
    {
     "ename": "ImportError",
     "evalue": "No module named pkgtk.plugin",
     "output_type": "error",
     "traceback": [
      "\u001b[1;31m---------------------------------------------------------------------------\u001b[0m",
      "\u001b[1;31mImportError\u001b[0m                               Traceback (most recent call last)",
      "\u001b[1;32m<ipython-input-3-73210db06a9a>\u001b[0m in \u001b[0;36m<module>\u001b[1;34m()\u001b[0m\n\u001b[1;32m----> 1\u001b[1;33m \u001b[1;32mimport\u001b[0m \u001b[0mautowig\u001b[0m\u001b[1;33m\u001b[0m\u001b[0m\n\u001b[0m\u001b[0;32m      2\u001b[0m \u001b[0masg\u001b[0m \u001b[1;33m=\u001b[0m \u001b[0mautowig\u001b[0m\u001b[1;33m.\u001b[0m\u001b[0mAbstractSemanticGraph\u001b[0m\u001b[1;33m(\u001b[0m\u001b[1;33m)\u001b[0m\u001b[1;33m\u001b[0m\u001b[0m\n",
      "\u001b[1;32m/home/pfernique/Desktop/AutoWIG/src/py/autowig/__init__.py\u001b[0m in \u001b[0;36m<module>\u001b[1;34m()\u001b[0m\n\u001b[0;32m      2\u001b[0m \"\"\"\n\u001b[0;32m      3\u001b[0m \u001b[1;33m\u001b[0m\u001b[0m\n\u001b[1;32m----> 4\u001b[1;33m \u001b[1;32mfrom\u001b[0m \u001b[1;33m.\u001b[0m\u001b[0masg\u001b[0m \u001b[1;32mimport\u001b[0m \u001b[0mAbstractSemanticGraph\u001b[0m\u001b[1;33m,\u001b[0m \u001b[0mvisitor\u001b[0m\u001b[1;33m\u001b[0m\u001b[0m\n\u001b[0m\u001b[0;32m      5\u001b[0m \u001b[0mvisitor\u001b[0m\u001b[1;33m.\u001b[0m\u001b[0mplugin\u001b[0m \u001b[1;33m=\u001b[0m \u001b[1;34m'all'\u001b[0m\u001b[1;33m\u001b[0m\u001b[0m\n\u001b[0;32m      6\u001b[0m \u001b[1;33m\u001b[0m\u001b[0m\n",
      "\u001b[1;32m/home/pfernique/Desktop/AutoWIG/src/py/autowig/asg.py\u001b[0m in \u001b[0;36m<module>\u001b[1;34m()\u001b[0m\n\u001b[0;32m      7\u001b[0m \u001b[1;32mimport\u001b[0m \u001b[0mre\u001b[0m\u001b[1;33m\u001b[0m\u001b[0m\n\u001b[0;32m      8\u001b[0m \u001b[1;32mfrom\u001b[0m \u001b[0mpath\u001b[0m \u001b[1;32mimport\u001b[0m \u001b[0mpath\u001b[0m\u001b[1;33m\u001b[0m\u001b[0m\n\u001b[1;32m----> 9\u001b[1;33m \u001b[1;32mfrom\u001b[0m \u001b[0mpkgtk\u001b[0m\u001b[1;33m.\u001b[0m\u001b[0mplugin\u001b[0m \u001b[1;32mimport\u001b[0m \u001b[0mPluginManager\u001b[0m\u001b[1;33m\u001b[0m\u001b[0m\n\u001b[0m\u001b[0;32m     10\u001b[0m \u001b[1;33m\u001b[0m\u001b[0m\n\u001b[0;32m     11\u001b[0m \u001b[1;32mfrom\u001b[0m \u001b[1;33m.\u001b[0m\u001b[0mtools\u001b[0m \u001b[1;32mimport\u001b[0m \u001b[0msubclasses\u001b[0m\u001b[1;33m\u001b[0m\u001b[0m\n",
      "\u001b[1;31mImportError\u001b[0m: No module named pkgtk.plugin"
     ]
    }
   ],
   "source": [
    "import autowig\n",
    "asg = autowig.AbstractSemanticGraph()"
   ]
  },
  {
   "cell_type": "markdown",
   "metadata": {},
   "source": [
    "We need then to install the *C++* headers. This is done using the `cpp` target in **SCons**."
   ]
  },
  {
   "cell_type": "code",
   "execution_count": 12,
   "metadata": {
    "collapsed": false
   },
   "outputs": [
    {
     "name": "stdout",
     "output_type": "stream",
     "text": [
      "scons: Entering directory `/home/pfernique/Desktop/AutoWIG/doc/examples/PySTL'\n",
      "scons: Reading SConscript files ...\n",
      "scons: done reading SConscript files.\n",
      "scons: Building targets ...\n",
      "scons: building terminated because of errors.\n"
     ]
    },
    {
     "name": "stderr",
     "output_type": "stream",
     "text": [
      "scons: *** [/usr/include/pystl] /usr/include/pystl: Permission denied\n"
     ]
    }
   ],
   "source": [
    "%%bash\n",
    "scons cpp -C PySTL"
   ]
  },
  {
   "cell_type": "markdown",
   "metadata": {},
   "source": [
    "Once the headers habe been installed in the system, we parse headers with relevant compilation flags."
   ]
  },
  {
   "cell_type": "code",
   "execution_count": null,
   "metadata": {
    "collapsed": true
   },
   "outputs": [],
   "source": [
    "from path import path\n",
    "autowig.parser.plugin = 'pyclanglite'\n",
    "asg = autowig.parser(asg,\n",
    "                     (path(sys.prefix)/'include'/'pystl').files('*.h'),\n",
    "                     flags = ['-x', 'c++', '-std=c++11',\n",
    "                              '-D__STDC_LIMIT_MACROS', '-D__STDC_CONSTANT_MACROS',\n",
    "                              '-I' + str((prefix/'include').abspath())],\n",
    "                     libpath = prefix/'lib'/'libclang.so',\n",
    "                     bootstrap = False,\n",
    "                     silent = True)"
   ]
  },
  {
   "cell_type": "markdown",
   "metadata": {},
   "source": [
    "Since most of **AutoWIG** guidelines are respected, the `default` `controller` implementation is thus suitable."
   ]
  },
  {
   "cell_type": "code",
   "execution_count": null,
   "metadata": {
    "collapsed": true
   },
   "outputs": [],
   "source": [
    "autowig.controller.plugin = 'default'\n",
    "asg = autowig.controller(asg)"
   ]
  },
  {
   "cell_type": "code",
   "execution_count": null,
   "metadata": {
    "collapsed": true
   },
   "outputs": [],
   "source": [
    "autowig.generator.plugin = 'boost_python_pattern'\n",
    "for pattern in ['vector']:\n",
    "    wrappers = autowig.generator(asg,\n",
    "                  pattern = '(class |struct |union |enum |)::std::vector< .* >',\n",
    "                  module = './PySTL/src/py/' + pattern + '/_' + pattern + '.cpp',\n",
    "                  decorator = './PySTL/src/py/stl/' + pattern + '/_' + pattern + '.py',\n",
    "                  closure = True)\n",
    "    wrappers.write()"
   ]
  }
 ],
 "metadata": {
  "kernelspec": {
   "display_name": "Python 2",
   "language": "python",
   "name": "python2"
  },
  "language_info": {
   "codemirror_mode": {
    "name": "ipython",
    "version": 2
   },
   "file_extension": ".py",
   "mimetype": "text/x-python",
   "name": "python",
   "nbconvert_exporter": "python",
   "pygments_lexer": "ipython2",
   "version": "2.7.12"
  }
 },
 "nbformat": 4,
 "nbformat_minor": 0
}
