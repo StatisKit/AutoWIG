{
 "cells": [
  {
   "cell_type": "markdown",
   "metadata": {
    "collapsed": true
   },
   "source": [
    "# Wrapping a template library\n",
    "\n",
    "A template library is a library where there are only template classes that can be instantiated.\n",
    "Wrapping such libraries therefore requires **AutoWIG** to be able to consider various *C++* template classes instantiations during the `Parse` step.\n",
    "It is therefore required to install the `pyclanglite` `parser`."
   ]
  },
  {
   "cell_type": "markdown",
   "metadata": {},
   "source": [
    "The **Standard Template Library (STL)** library is a *C++* library that provides a set of common *C++* template classes such as containers and associative arrays.\n",
    "These classes can be used with any built-in or user-defined type that supports some elementary operations (e.g. copying, assignment).\n",
    "It is divided in four components called algorithms, containers, functional and iterators.\n",
    "**STL** containers (e.g. `std::vector`, `std::set`) are used in many *C++* libraries.\n",
    "In such a case, it does not seem relevant that every wrapped *C++* library contains wrappers for usual **STL** containers (e.g. `std::vector< double >`, `std::set< int >`).\n",
    "We therefore proposed *Python* bindings for sequence containers (i.e. `pair`, `array`, `vector`, `deque`, `forward_list` and `list` of the `std` namespace) and associative containers (`set`, `multiset`, `map`, `multimap`, `unordered_set`, `unordered_multiset`, `unordered_map` and `unordered_multimap` of the `std` namespace).\n",
    "These template instantiations are done for *C++* fundamental types (`bool`, `signed char`, `unsigned char`, `char`, `wchar_t`, `int` (with sign modifiers `signed` and `signed` combined or not with size modifiers `short`, `long` and `long long`), `float`, `double`, `long double`) and strings (`string`, `wstring` of the `std` namespace).\n",
    "For ordered associative containers both `std::less` and `std::greater` comparators are used.\n",
    "We here only illustrate the procedure on the `std::vector` template class.\n",
    "For the complete procedure refers to the `AutoWIG.py` file situed at the root of the **PySTL** [repository](https://github.com/StatisKit/PySTL)."
   ]
  },
  {
   "cell_type": "markdown",
   "metadata": {},
   "source": [
    "Then, to install and compile the *C++* library we use available **Conda** recipes."
   ]
  },
  {
   "cell_type": "code",
   "execution_count": 1,
   "metadata": {},
   "outputs": [
    {
     "name": "stdout",
     "output_type": "stream",
     "text": [
      "BUILD START: libstatiskit_stl-1.0.0-0\n",
      "\n",
      "The following NEW packages will be INSTALLED:\n",
      "\n",
      "    libdev:       1.0.0-py27_0  local\n",
      "    openssl:      1.0.2k-1           \n",
      "    path.py:      10.3.1-py27_0      \n",
      "    pip:          9.0.1-py27_1       \n",
      "    python:       2.7.13-0           \n",
      "    python-scons: 2.5.0-py27_0  local\n",
      "    pyyaml:       3.12-py27_0        \n",
      "    readline:     6.2-2              \n",
      "    setuptools:   27.2.0-py27_0      \n",
      "    sqlite:       3.13.0-0           \n",
      "    tk:           8.5.18-0           \n",
      "    wheel:        0.29.0-py27_0      \n",
      "    yaml:         0.1.6-0            \n",
      "    zlib:         1.2.8-3            \n",
      "\n",
      "\n",
      "WARNING: conda-build appears to be out of date. You have version 2.1.10 but the\n",
      "latest version is 2.1.12. Run\n",
      "\n",
      "conda update -n root conda-build\n",
      "\n",
      "to get the latest version.\n",
      "\n",
      "Package: libstatiskit_stl-1.0.0-0\n",
      "source tree in: /home/pfernique/.miniconda/conda-bld/libstatiskit_stl_1494421751287/work\n",
      "+ source /home/pfernique/.miniconda/bin/activate /home/pfernique/.miniconda/conda-bld/libstatiskit_stl_1494421751287/_b_env_placehold_placehold_placehold_placehold_placehold_placehold_placehold_placehold_placehold_placehold_placehold_placehold_placehold_placehold_placehold_placehold_placehold_placehold_\n",
      "+ set -ve\n",
      "\n",
      "scons cpp --prefix=$PREFIX -j$CPU_COUNT\n",
      "+ scons cpp --prefix=/home/pfernique/.miniconda/conda-bld/libstatiskit_stl_1494421751287/_b_env_placehold_placehold_placehold_placehold_placehold_placehold_placehold_placehold_placehold_placehold_placehold_placehold_placehold_placehold_placehold_placehold_placehold_placehold_ -j8\n",
      "scons: Reading SConscript files ...\n",
      "scons: done reading SConscript files.\n",
      "scons: Building targets ...\n",
      "Install file: \"build/src/cpp/STL.h\" as \"/home/pfernique/.miniconda/conda-bld/libstatiskit_stl_1494421751287/_b_env_placehold_placehold_placehold_placehold_placehold_placehold_placehold_placehold_placehold_placehold_placehold_placehold_placehold_placehold_placehold_placehold_placehold_placehold_/include/statiskit/stl/STL.h\"\n",
      "g++ -o build/src/cpp/STL.os -c -x c++ -std=c++11 -fmax-errors=0 -Wl,--no-undefined -fvisibility=hidden -fPIC -DLIBSTATISKIT_STL -I/home/pfernique/.miniconda/conda-bld/libstatiskit_stl_1494421751287/_b_env_placehold_placehold_placehold_placehold_placehold_placehold_placehold_placehold_placehold_placehold_placehold_placehold_placehold_placehold_placehold_placehold_placehold_placehold_/include build/src/cpp/STL.cpp\n",
      "g++ -o /home/pfernique/.miniconda/conda-bld/libstatiskit_stl_1494421751287/_b_env_placehold_placehold_placehold_placehold_placehold_placehold_placehold_placehold_placehold_placehold_placehold_placehold_placehold_placehold_placehold_placehold_placehold_placehold_/lib/libstatiskit_stl.so -shared build/src/cpp/STL.os -L/home/pfernique/.miniconda/conda-bld/libstatiskit_stl_1494421751287/_b_env_placehold_placehold_placehold_placehold_placehold_placehold_placehold_placehold_placehold_placehold_placehold_placehold_placehold_placehold_placehold_placehold_placehold_placehold_/lib\n",
      "scons: done building targets.\n",
      "\n",
      "set +ve\n",
      "+ set +ve\n",
      "INFO conda_build.build:bundle_conda(865): Packaging libstatiskit_stl-1.0.0-0\n",
      "number of files: 2\n",
      "Fixing permissions\n",
      "patchelf: file: /home/pfernique/.miniconda/conda-bld/libstatiskit_stl_1494421751287/_b_env_placehold_placehold_placehold_placehold_placehold_placehold_placehold_placehold_placehold_placehold_placehold_placehold_placehold_placehold_placehold_placehold_placehold_placehold_/lib/libstatiskit_stl.so\n",
      "    setting rpath to: $ORIGIN/.\n",
      "Fixing permissions\n",
      "/home/pfernique/.miniconda/conda-bld/linux-64/libstatiskit_stl-1.0.0-0.tar.bz2\n",
      "Nothing to test for: /home/pfernique/.miniconda/conda-bld/linux-64/libstatiskit_stl-1.0.0-0.tar.bz2\n",
      "INFO conda_build.config:__exit__(432): --dirty flag not specified.  Removing build folder after successful build/test.\n",
      "\n",
      "# If you want to upload package(s) to anaconda.org later, type:\n",
      "\n",
      "anaconda upload /home/pfernique/.miniconda/conda-bld/linux-64/libstatiskit_stl-1.0.0-0.tar.bz2\n",
      "\n",
      "# To have conda build upload to anaconda.org automatically, use\n",
      "# $ conda config --set anaconda_upload yes\n",
      "\n",
      "anaconda_upload is not set.  Not uploading wheels: []\n",
      "\n",
      "\n",
      "\n",
      "####################################################################################\n",
      "Source and build intermediates have been left in /home/pfernique/.miniconda/conda-bld.\n",
      "There are currently 302 accumulated.\n",
      "To remove them, you can run the ```conda build purge``` command\n",
      "Fetching package metadata .............\n",
      "Solving package specifications: .\n",
      "\n",
      "# All requested packages already installed.\n",
      "# packages in environment at /home/pfernique/.miniconda/envs/statiskit-dev:\n",
      "#\n",
      "libstatiskit_stl          1.0.0                         0    local\n"
     ]
    }
   ],
   "source": [
    "!conda build -q STL/conda/libstatiskit_stl -c statiskit\n",
    "!conda install -y -q libstatiskit_stl --use-local -c statiskit"
   ]
  },
  {
   "cell_type": "markdown",
   "metadata": {},
   "source": [
    "As presented below, in order to wrap a template library, the user needs to write headers containing aliases for desired template class instantiations."
   ]
  },
  {
   "cell_type": "code",
   "execution_count": 2,
   "metadata": {
    "scrolled": true
   },
   "outputs": [
    {
     "name": "stdout",
     "output_type": "stream",
     "text": [
      "\u001b[36m#\u001b[39;49;00m\u001b[36mifndef STATISKIT_STL_H\u001b[39;49;00m\u001b[36m\u001b[39;49;00m\n",
      "\u001b[36m#\u001b[39;49;00m\u001b[36mdefine STATISKIT_STL_H\u001b[39;49;00m\u001b[36m\u001b[39;49;00m\n",
      "\n",
      "\u001b[36m#\u001b[39;49;00m\u001b[36minclude\u001b[39;49;00m \u001b[37m<vector>\u001b[39;49;00m\u001b[36m\u001b[39;49;00m\n",
      "\u001b[36m#\u001b[39;49;00m\u001b[36minclude\u001b[39;49;00m \u001b[37m<set>\u001b[39;49;00m\u001b[36m\u001b[39;49;00m\n",
      "\u001b[36m#\u001b[39;49;00m\u001b[36minclude\u001b[39;49;00m \u001b[37m<unordered_set>\u001b[39;49;00m\u001b[36m\u001b[39;49;00m\n",
      "\u001b[36m#\u001b[39;49;00m\u001b[36minclude\u001b[39;49;00m \u001b[37m<string>\u001b[39;49;00m\u001b[36m\u001b[39;49;00m\n",
      "\n",
      "\u001b[36m#\u001b[39;49;00m\u001b[36mif defined WIN32 || defined _WIN32 || defined __CYGWIN__\u001b[39;49;00m\u001b[36m\u001b[39;49;00m\n",
      "    \u001b[36m#\u001b[39;49;00m\u001b[36mifdef LIBSTATISKIT_STL\u001b[39;49;00m\u001b[36m\u001b[39;49;00m\n",
      "        \u001b[36m#\u001b[39;49;00m\u001b[36mifdef __GNUC__\u001b[39;49;00m\u001b[36m\u001b[39;49;00m\n",
      "            \u001b[36m#\u001b[39;49;00m\u001b[36mdefine STATISKIT_STL_API __attribute__ ((dllexport))\u001b[39;49;00m\u001b[36m\u001b[39;49;00m\n",
      "        \u001b[36m#\u001b[39;49;00m\u001b[36melse\u001b[39;49;00m\u001b[36m\u001b[39;49;00m\n",
      "            \u001b[36m#\u001b[39;49;00m\u001b[36mdefine STATISKIT_STL_API __declspec(dllexport)\u001b[39;49;00m\u001b[36m\u001b[39;49;00m\n",
      "        \u001b[36m#\u001b[39;49;00m\u001b[36mendif\u001b[39;49;00m\u001b[36m\u001b[39;49;00m\n",
      "    \u001b[36m#\u001b[39;49;00m\u001b[36melse\u001b[39;49;00m\u001b[36m\u001b[39;49;00m\n",
      "        \u001b[36m#\u001b[39;49;00m\u001b[36mifdef __GNUC__\u001b[39;49;00m\u001b[36m\u001b[39;49;00m\n",
      "            \u001b[36m#\u001b[39;49;00m\u001b[36mdefine STATISKIT_STL_API __attribute__ ((dllimport))\u001b[39;49;00m\u001b[36m\u001b[39;49;00m\n",
      "        \u001b[36m#\u001b[39;49;00m\u001b[36melse\u001b[39;49;00m\u001b[36m\u001b[39;49;00m\n",
      "            \u001b[36m#\u001b[39;49;00m\u001b[36mdefine STATISKIT_STL_API __declspec(dllimport)\u001b[39;49;00m\u001b[36m\u001b[39;49;00m\n",
      "        \u001b[36m#\u001b[39;49;00m\u001b[36mendif\u001b[39;49;00m\u001b[36m\u001b[39;49;00m\n",
      "    \u001b[36m#\u001b[39;49;00m\u001b[36mendif\u001b[39;49;00m\u001b[36m\u001b[39;49;00m\n",
      "\u001b[36m#\u001b[39;49;00m\u001b[36melse\u001b[39;49;00m\u001b[36m\u001b[39;49;00m\n",
      "    \u001b[36m#\u001b[39;49;00m\u001b[36mif __GNUC__ >= 4\u001b[39;49;00m\u001b[36m\u001b[39;49;00m\n",
      "        \u001b[36m#\u001b[39;49;00m\u001b[36mdefine STATISKIT_STL_API __attribute__ ((visibility (\"default\")))\u001b[39;49;00m\u001b[36m\u001b[39;49;00m\n",
      "    \u001b[36m#\u001b[39;49;00m\u001b[36melse\u001b[39;49;00m\u001b[36m\u001b[39;49;00m\n",
      "        \u001b[36m#\u001b[39;49;00m\u001b[36mdefine STATISKIT_STL_API\u001b[39;49;00m\u001b[36m\u001b[39;49;00m\n",
      "    \u001b[36m#\u001b[39;49;00m\u001b[36mendif\u001b[39;49;00m\u001b[36m\u001b[39;49;00m\n",
      "\u001b[36m#\u001b[39;49;00m\u001b[36mendif\u001b[39;49;00m\u001b[36m\u001b[39;49;00m\n",
      "\n",
      "namespace statiskit\n",
      "{\n",
      "    \u001b[34mtypedef\u001b[39;49;00m \u001b[36munsigned\u001b[39;49;00m \u001b[36mlong\u001b[39;49;00m \u001b[36mint\u001b[39;49;00m Index;\n",
      "    \u001b[34mtypedef\u001b[39;49;00m std::set< Index > Indices;\n",
      "\n",
      "    namespace stl\n",
      "    {\n",
      "\n",
      "        template<class T>\n",
      "            class Generator\n",
      "            {\n",
      "                public:\n",
      "                    Generator(\u001b[34mconst\u001b[39;49;00m T& iterable)\n",
      "                    { \n",
      "                        _cur = iterable.cbegin();\n",
      "                        _end = iterable.cend();\n",
      "                    }\n",
      "\n",
      "                    virtual ~Generator()\n",
      "                    {}\n",
      "\n",
      "                    Generator(\u001b[34mconst\u001b[39;49;00m Generator< T >& generator)\n",
      "                    { \n",
      "                        _cur = generator._cur;\n",
      "                        _end = generator._end;\n",
      "                    }\n",
      "\n",
      "                    \u001b[36mbool\u001b[39;49;00m is_valid() \u001b[34mconst\u001b[39;49;00m\n",
      "                    { \u001b[34mreturn\u001b[39;49;00m _cur != _end; }\n",
      "\n",
      "                    Generator< T >& operator++()\n",
      "                    { \n",
      "                        ++_cur;\n",
      "                        \u001b[34mreturn\u001b[39;49;00m *this;\n",
      "                    }\n",
      "\n",
      "                    \u001b[34mtypename\u001b[39;49;00m T::value_type value() \u001b[34mconst\u001b[39;49;00m\n",
      "                    { \u001b[34mreturn\u001b[39;49;00m *_cur; }\n",
      "\n",
      "                protected:\n",
      "                    \u001b[34mtypename\u001b[39;49;00m T::const_iterator _cur;\n",
      "                    \u001b[34mtypename\u001b[39;49;00m T::const_iterator _end;\n",
      "            };\n",
      "\n",
      "        \u001b[34mtypedef\u001b[39;49;00m std::string String;\n",
      "\n",
      "\n",
      "\t\t\u001b[34mtypedef\u001b[39;49;00m std::vector< Index > VectorIndex;\n",
      "\t\t\u001b[34mtypedef\u001b[39;49;00m std::vector< \u001b[36mint\u001b[39;49;00m > VectorInt;\n",
      "\t\t\u001b[34mtypedef\u001b[39;49;00m std::vector< \u001b[36mdouble\u001b[39;49;00m > VectorDouble;\n",
      "\t\t\u001b[34mtypedef\u001b[39;49;00m std::vector< std::string > VectorString;\n",
      "\n",
      "\t\t\u001b[34mtypedef\u001b[39;49;00m std::unordered_set< Index > SetIndex;\n",
      "\t\t\u001b[34mtypedef\u001b[39;49;00m Generator< SetIndex > SetIndexGenerator;\n",
      "\t\tSTATISKIT_STL_API SetIndexGenerator \u001b[32mgenerator\u001b[39;49;00m(\u001b[34mconst\u001b[39;49;00m SetIndex& iterable);\n",
      "\t\tSTATISKIT_STL_API \u001b[36mbool\u001b[39;49;00m \u001b[32minsert\u001b[39;49;00m(SetIndex& iterable, \u001b[34mconst\u001b[39;49;00m Index& value);\n",
      "\t\t\u001b[34mtypedef\u001b[39;49;00m std::set< Index, std::less< Index >, std::allocator< Index > > SetLessIndex;\n",
      "\t\t\u001b[34mtypedef\u001b[39;49;00m Generator< SetLessIndex > SetLessIndexGenerator;\n",
      "\t\tSTATISKIT_STL_API SetLessIndexGenerator \u001b[32mgenerator\u001b[39;49;00m(\u001b[34mconst\u001b[39;49;00m SetLessIndex& iterable);\n",
      "\t\tSTATISKIT_STL_API \u001b[36mbool\u001b[39;49;00m \u001b[32minsert\u001b[39;49;00m(SetLessIndex& iterable, \u001b[34mconst\u001b[39;49;00m Index& value);\n",
      "\t\t\u001b[34mtypedef\u001b[39;49;00m std::set< \u001b[36mint\u001b[39;49;00m, std::less< \u001b[36mint\u001b[39;49;00m >, std::allocator< \u001b[36mint\u001b[39;49;00m > > SetLessInt;\n",
      "\t\t\u001b[34mtypedef\u001b[39;49;00m Generator< SetLessInt > SetLessIntGenerator;\n",
      "\t\tSTATISKIT_STL_API SetLessIntGenerator \u001b[32mgenerator\u001b[39;49;00m(\u001b[34mconst\u001b[39;49;00m SetLessInt& iterable);\n",
      "\t\tSTATISKIT_STL_API \u001b[36mbool\u001b[39;49;00m \u001b[32minsert\u001b[39;49;00m(SetLessInt& iterable, \u001b[34mconst\u001b[39;49;00m \u001b[36mint\u001b[39;49;00m& value);\n",
      "\t\t\u001b[34mtypedef\u001b[39;49;00m std::set< \u001b[36mdouble\u001b[39;49;00m, std::less< \u001b[36mdouble\u001b[39;49;00m >, std::allocator< \u001b[36mdouble\u001b[39;49;00m > > SetLessDouble;\n",
      "\t\t\u001b[34mtypedef\u001b[39;49;00m Generator< SetLessDouble > SetLessDoubleGenerator;\n",
      "\t\tSTATISKIT_STL_API SetLessDoubleGenerator \u001b[32mgenerator\u001b[39;49;00m(\u001b[34mconst\u001b[39;49;00m SetLessDouble& iterable);\n",
      "\t\tSTATISKIT_STL_API \u001b[36mbool\u001b[39;49;00m \u001b[32minsert\u001b[39;49;00m(SetLessDouble& iterable, \u001b[34mconst\u001b[39;49;00m \u001b[36mdouble\u001b[39;49;00m& value);\n",
      "\t\t\u001b[34mtypedef\u001b[39;49;00m std::set< std::string, std::less< std::string >, std::allocator< std::string > > SetLessString;\n",
      "\t\t\u001b[34mtypedef\u001b[39;49;00m Generator< SetLessString > SetLessStringGenerator;\n",
      "\t\tSTATISKIT_STL_API SetLessStringGenerator \u001b[32mgenerator\u001b[39;49;00m(\u001b[34mconst\u001b[39;49;00m SetLessString& iterable);\n",
      "\t\tSTATISKIT_STL_API \u001b[36mbool\u001b[39;49;00m \u001b[32minsert\u001b[39;49;00m(SetLessString& iterable, \u001b[34mconst\u001b[39;49;00m std::string& value);\n",
      "\n",
      "\t}\n",
      "}\n",
      "\n",
      "\n",
      "\u001b[36m#\u001b[39;49;00m\u001b[36mendif\u001b[39;49;00m\u001b[36m\u001b[39;49;00m\n"
     ]
    }
   ],
   "source": [
    "!pygmentize STL/src/cpp/STL.h"
   ]
  },
  {
   "cell_type": "markdown",
   "metadata": {},
   "source": [
    "Once these preliminaries done, we can proceed to the actual generation of wrappers for the **PySTL** library.\n",
    "For this, we import **AutoWIG** and create an empty Abstract Semantic Graph (ASG)."
   ]
  },
  {
   "cell_type": "markdown",
   "metadata": {},
   "source": [
    "We need then to install the *C++* headers. This is done using the `cpp` target in **SCons**."
   ]
  },
  {
   "cell_type": "code",
   "execution_count": 3,
   "metadata": {},
   "outputs": [
    {
     "name": "stdout",
     "output_type": "stream",
     "text": [
      "scons: Entering directory `/home/pfernique/Desktop/develop/AutoWIG/doc/examples/STL'\n",
      "scons: Reading SConscript files ...\n",
      "scons: done reading SConscript files.\n",
      "scons: Building targets ...\n",
      "scons: `cpp' is up to date.\n",
      "scons: done building targets.\n"
     ]
    }
   ],
   "source": [
    "!scons cpp -C STL"
   ]
  },
  {
   "cell_type": "markdown",
   "metadata": {},
   "source": [
    "Once the headers habe been installed in the system, we parse headers with relevant compilation flags."
   ]
  },
  {
   "cell_type": "code",
   "execution_count": 4,
   "metadata": {},
   "outputs": [
    {
     "name": "stdout",
     "output_type": "stream",
     "text": [
      "scons: Entering directory `/home/pfernique/Desktop/develop/AutoWIG/doc/examples/STL'\n",
      "scons: Reading SConscript files ...\n",
      "scons: done reading SConscript files.\n",
      "scons: Cleaning targets ...\n",
      "Removed /home/pfernique/.miniconda/envs/statiskit-dev/include/statiskit/stl/STL.h\n",
      "Removed build/src/cpp/STL.os\n",
      "Removed /home/pfernique/.miniconda/envs/statiskit-dev/lib/libstatiskit_stl.so\n",
      "Removed /home/pfernique/.miniconda/envs/statiskit-dev/lib/python2.7/site-packages/autowig/site/controller/statiskit_stl.py\n",
      "Removed /home/pfernique/.miniconda/envs/statiskit-dev/lib/python2.7/site-packages/autowig/site/generator/statiskit_stl.py\n",
      "Removed /home/pfernique/.miniconda/envs/statiskit-dev/lib/python2.7/site-packages/autowig/site/ASG/statiskit_stl.pkl\n",
      "scons: done cleaning targets.\n",
      "scons: Entering directory `/home/pfernique/Desktop/develop/AutoWIG/doc/examples/STL'\n",
      "scons: Reading SConscript files ...\n",
      "scons: done reading SConscript files.\n",
      "scons: Building targets ...\n",
      "Install file: \"build/src/cpp/STL.h\" as \"/home/pfernique/.miniconda/envs/statiskit-dev/include/statiskit/stl/STL.h\"\n",
      "g++ -o build/src/cpp/STL.os -c -x c++ -std=c++11 -fmax-errors=0 -Wl,--no-undefined -fvisibility=hidden -fdiagnostics-color=always -fPIC -DLIBSTATISKIT_STL -I/home/pfernique/.miniconda/envs/statiskit-dev/include build/src/cpp/STL.cpp\n",
      "g++ -o /home/pfernique/.miniconda/envs/statiskit-dev/lib/libstatiskit_stl.so -shared build/src/cpp/STL.os -L/home/pfernique/.miniconda/envs/statiskit-dev/lib\n",
      "Install file: \"build/src/cpp/AutoWIG.py\" as \"/home/pfernique/.miniconda/envs/statiskit-dev/lib/python2.7/site-packages/autowig/site/controller/statiskit_stl.py\"\n",
      "Install file: \"build/src/cpp/AutoWIG.py\" as \"/home/pfernique/.miniconda/envs/statiskit-dev/lib/python2.7/site-packages/autowig/site/generator/statiskit_stl.py\"\n",
      "autowig: Generating Boost.Python interface ...\n",
      "warning: -Wl,--no-undefined: 'linker' input unused\n",
      "warning: argument unused during compilation: '-fmax-errors=0'\n",
      "/home/pfernique/.miniconda/envs/statiskit-dev/lib/python2.7/site-packages/clanglite/autowig_parser.py:856: Warning: \n",
      "  warnings.warn('', Warning)\n",
      "warning: -Wl,--no-undefined: 'linker' input unused\n",
      "warning: argument unused during compilation: '-fmax-errors=0'\n",
      "scons: done building targets.\n"
     ]
    }
   ],
   "source": [
    "!scons autowig -c -C STL\n",
    "!scons autowig -C STL"
   ]
  },
  {
   "cell_type": "markdown",
   "metadata": {},
   "source": [
    "Here is an example of the generated wrappers.\n",
    "We here present the wrappers for the `std::vector< int >` class."
   ]
  },
  {
   "cell_type": "code",
   "execution_count": 5,
   "metadata": {},
   "outputs": [],
   "source": [
    "import pickle\n",
    "import os\n",
    "import autowig\n",
    "\n",
    "with open(os.path.join(autowig.__path__[0], 'site', 'ASG', 'statiskit_stl.pkl'), 'r') as filehandler:\n",
    "    asg = pickle.load(filehandler)"
   ]
  },
  {
   "cell_type": "code",
   "execution_count": 6,
   "metadata": {
    "scrolled": false
   },
   "outputs": [
    {
     "name": "stdout",
     "output_type": "stream",
     "text": [
      "\u001b[36m#\u001b[39;49;00m\u001b[36minclude\u001b[39;49;00m \u001b[37m\"_stl.h\"\u001b[39;49;00m\u001b[36m\u001b[39;49;00m\n",
      "\n",
      "\n",
      "\n",
      "\u001b[34mnamespace\u001b[39;49;00m autowig\n",
      "{\n",
      "\n",
      "    \u001b[36mvoid\u001b[39;49;00m method_decorator_bb1e0852f2ca56c094260a03787426c7(\u001b[34mclass\u001b[39;49;00m \u001b[04m\u001b[31;01m:\u001b[39;49;00m\u001b[04m\u001b[31;01m:\u001b[39;49;00m\u001b[04m\u001b[32mstd\u001b[39;49;00m::vector< \u001b[36mint\u001b[39;49;00m, \u001b[34mclass\u001b[39;49;00m \u001b[04m\u001b[31;01m:\u001b[39;49;00m\u001b[04m\u001b[31;01m:\u001b[39;49;00m\u001b[04m\u001b[32mstd\u001b[39;49;00m::allocator< \u001b[36mint\u001b[39;49;00m > > & instance, ::std::vector< \u001b[36mint\u001b[39;49;00m, \u001b[34mclass\u001b[39;49;00m \u001b[04m\u001b[31;01m:\u001b[39;49;00m\u001b[04m\u001b[31;01m:\u001b[39;49;00m\u001b[04m\u001b[32mstd\u001b[39;49;00m::allocator< \u001b[36mint\u001b[39;49;00m > >::size_type  param_in_0, \u001b[36mint\u001b[39;49;00m param_out) { instance.at(param_in_0) = param_out; }\n",
      "    \u001b[36mvoid\u001b[39;49;00m method_decorator_7ec1ac72b0b05f3a9707175bcd5da0bd(\u001b[34mclass\u001b[39;49;00m \u001b[04m\u001b[31;01m:\u001b[39;49;00m\u001b[04m\u001b[31;01m:\u001b[39;49;00m\u001b[04m\u001b[32mstd\u001b[39;49;00m::vector< \u001b[36mint\u001b[39;49;00m, \u001b[34mclass\u001b[39;49;00m \u001b[04m\u001b[31;01m:\u001b[39;49;00m\u001b[04m\u001b[31;01m:\u001b[39;49;00m\u001b[04m\u001b[32mstd\u001b[39;49;00m::allocator< \u001b[36mint\u001b[39;49;00m > > & instance, \u001b[36mint\u001b[39;49;00m param_out) { instance.front() = param_out; }\n",
      "    \u001b[36mvoid\u001b[39;49;00m method_decorator_ed1cf37568ed54cbbd326e6ccbe5f27d(\u001b[34mclass\u001b[39;49;00m \u001b[04m\u001b[31;01m:\u001b[39;49;00m\u001b[04m\u001b[31;01m:\u001b[39;49;00m\u001b[04m\u001b[32mstd\u001b[39;49;00m::vector< \u001b[36mint\u001b[39;49;00m, \u001b[34mclass\u001b[39;49;00m \u001b[04m\u001b[31;01m:\u001b[39;49;00m\u001b[04m\u001b[31;01m:\u001b[39;49;00m\u001b[04m\u001b[32mstd\u001b[39;49;00m::allocator< \u001b[36mint\u001b[39;49;00m > > & instance, \u001b[36mint\u001b[39;49;00m param_out) { instance.back() = param_out; }\n",
      "}\n",
      "\n",
      "\u001b[36m#\u001b[39;49;00m\u001b[36mif defined(_MSC_VER)\u001b[39;49;00m\u001b[36m\u001b[39;49;00m\n",
      "    \u001b[36m#\u001b[39;49;00m\u001b[36mif (_MSC_VER == 1900)\u001b[39;49;00m\u001b[36m\u001b[39;49;00m\n",
      "\u001b[34mnamespace\u001b[39;49;00m boost\n",
      "{\n",
      "    \u001b[34mtemplate\u001b[39;49;00m <> \u001b[34mclass\u001b[39;49;00m \u001b[04m\u001b[31;01m:\u001b[39;49;00m\u001b[04m\u001b[31;01m:\u001b[39;49;00m\u001b[04m\u001b[32mstd\u001b[39;49;00m::vector< \u001b[36mint\u001b[39;49;00m, \u001b[34mclass\u001b[39;49;00m \u001b[04m\u001b[31;01m:\u001b[39;49;00m\u001b[04m\u001b[31;01m:\u001b[39;49;00m\u001b[04m\u001b[32mstd\u001b[39;49;00m::allocator< \u001b[36mint\u001b[39;49;00m > > \u001b[34mconst\u001b[39;49;00m \u001b[34mvolatile\u001b[39;49;00m * get_pointer<\u001b[34mclass\u001b[39;49;00m \u001b[04m\u001b[31;01m:\u001b[39;49;00m\u001b[04m\u001b[31;01m:\u001b[39;49;00m\u001b[04m\u001b[32mstd\u001b[39;49;00m::vector< \u001b[36mint\u001b[39;49;00m, \u001b[34mclass\u001b[39;49;00m \u001b[04m\u001b[31;01m:\u001b[39;49;00m\u001b[04m\u001b[31;01m:\u001b[39;49;00m\u001b[04m\u001b[32mstd\u001b[39;49;00m::allocator< \u001b[36mint\u001b[39;49;00m > > \u001b[34mconst\u001b[39;49;00m \u001b[34mvolatile\u001b[39;49;00m >(\u001b[34mclass\u001b[39;49;00m \u001b[04m\u001b[31;01m:\u001b[39;49;00m\u001b[04m\u001b[31;01m:\u001b[39;49;00m\u001b[04m\u001b[32mstd\u001b[39;49;00m::vector< \u001b[36mint\u001b[39;49;00m, \u001b[34mclass\u001b[39;49;00m \u001b[04m\u001b[31;01m:\u001b[39;49;00m\u001b[04m\u001b[31;01m:\u001b[39;49;00m\u001b[04m\u001b[32mstd\u001b[39;49;00m::allocator< \u001b[36mint\u001b[39;49;00m > > \u001b[34mconst\u001b[39;49;00m \u001b[34mvolatile\u001b[39;49;00m *c) { \u001b[34mreturn\u001b[39;49;00m c; }\n",
      "}\n",
      "    \u001b[36m#\u001b[39;49;00m\u001b[36mendif\u001b[39;49;00m\u001b[36m\u001b[39;49;00m\n",
      "\u001b[36m#\u001b[39;49;00m\u001b[36mendif\u001b[39;49;00m\u001b[36m\u001b[39;49;00m\n",
      "\n",
      "\n",
      "\n",
      "\u001b[36mvoid\u001b[39;49;00m wrapper_6b9ae5eac40858c9a0f5e6e21c15d1d3()\n",
      "{\n",
      "\n",
      "    std::string name_a5e4e9231d6351ccb0e06756b389f0af = boost::python::extract< std::string >(boost::python::scope().attr(\u001b[33m\"\u001b[39;49;00m\u001b[33m__name__\u001b[39;49;00m\u001b[33m\"\u001b[39;49;00m) + \u001b[33m\"\u001b[39;49;00m\u001b[33m.std\u001b[39;49;00m\u001b[33m\"\u001b[39;49;00m);\n",
      "    boost::python::object module_a5e4e9231d6351ccb0e06756b389f0af(boost::python::handle<  >(boost::python::borrowed(PyImport_AddModule(name_a5e4e9231d6351ccb0e06756b389f0af.c_str()))));\n",
      "    boost::python::scope().attr(\u001b[33m\"\u001b[39;49;00m\u001b[33mstd\u001b[39;49;00m\u001b[33m\"\u001b[39;49;00m) = module_a5e4e9231d6351ccb0e06756b389f0af;\n",
      "    boost::python::scope scope_a5e4e9231d6351ccb0e06756b389f0af = module_a5e4e9231d6351ccb0e06756b389f0af;\n",
      "    \u001b[36mvoid\u001b[39;49;00m  (::std::vector< \u001b[36mint\u001b[39;49;00m, ::std::allocator< \u001b[36mint\u001b[39;49;00m > >::*method_pointer_3ee60599950b5555a32f72572e8ff771)(::std::vector< \u001b[36mint\u001b[39;49;00m, \u001b[34mclass\u001b[39;49;00m \u001b[04m\u001b[31;01m:\u001b[39;49;00m\u001b[04m\u001b[31;01m:\u001b[39;49;00m\u001b[04m\u001b[32mstd\u001b[39;49;00m::allocator< \u001b[36mint\u001b[39;49;00m > >::size_type , ::std::vector< \u001b[36mint\u001b[39;49;00m, \u001b[34mclass\u001b[39;49;00m \u001b[04m\u001b[31;01m:\u001b[39;49;00m\u001b[04m\u001b[31;01m:\u001b[39;49;00m\u001b[04m\u001b[32mstd\u001b[39;49;00m::allocator< \u001b[36mint\u001b[39;49;00m > >::value_type \u001b[34mconst\u001b[39;49;00m &) = &::std::vector< \u001b[36mint\u001b[39;49;00m, \u001b[34mclass\u001b[39;49;00m \u001b[04m\u001b[31;01m:\u001b[39;49;00m\u001b[04m\u001b[31;01m:\u001b[39;49;00m\u001b[04m\u001b[32mstd\u001b[39;49;00m::allocator< \u001b[36mint\u001b[39;49;00m > >::assign;\n",
      "    ::std::vector< \u001b[36mint\u001b[39;49;00m, \u001b[34mclass\u001b[39;49;00m \u001b[04m\u001b[31;01m:\u001b[39;49;00m\u001b[04m\u001b[31;01m:\u001b[39;49;00m\u001b[04m\u001b[32mstd\u001b[39;49;00m::allocator< \u001b[36mint\u001b[39;49;00m > >::size_type  (::std::vector< \u001b[36mint\u001b[39;49;00m, ::std::allocator< \u001b[36mint\u001b[39;49;00m > >::*method_pointer_2f0bd94041965427ab114d1ec9369eb1)() \u001b[34mconst\u001b[39;49;00m = &::std::vector< \u001b[36mint\u001b[39;49;00m, \u001b[34mclass\u001b[39;49;00m \u001b[04m\u001b[31;01m:\u001b[39;49;00m\u001b[04m\u001b[31;01m:\u001b[39;49;00m\u001b[04m\u001b[32mstd\u001b[39;49;00m::allocator< \u001b[36mint\u001b[39;49;00m > >::size;\n",
      "    ::std::vector< \u001b[36mint\u001b[39;49;00m, \u001b[34mclass\u001b[39;49;00m \u001b[04m\u001b[31;01m:\u001b[39;49;00m\u001b[04m\u001b[31;01m:\u001b[39;49;00m\u001b[04m\u001b[32mstd\u001b[39;49;00m::allocator< \u001b[36mint\u001b[39;49;00m > >::size_type  (::std::vector< \u001b[36mint\u001b[39;49;00m, ::std::allocator< \u001b[36mint\u001b[39;49;00m > >::*method_pointer_03cb2a43c5ae5df48ecc631a008fa511)() \u001b[34mconst\u001b[39;49;00m = &::std::vector< \u001b[36mint\u001b[39;49;00m, \u001b[34mclass\u001b[39;49;00m \u001b[04m\u001b[31;01m:\u001b[39;49;00m\u001b[04m\u001b[31;01m:\u001b[39;49;00m\u001b[04m\u001b[32mstd\u001b[39;49;00m::allocator< \u001b[36mint\u001b[39;49;00m > >::max_size;\n",
      "    ::std::vector< \u001b[36mint\u001b[39;49;00m, \u001b[34mclass\u001b[39;49;00m \u001b[04m\u001b[31;01m:\u001b[39;49;00m\u001b[04m\u001b[31;01m:\u001b[39;49;00m\u001b[04m\u001b[32mstd\u001b[39;49;00m::allocator< \u001b[36mint\u001b[39;49;00m > >::size_type  (::std::vector< \u001b[36mint\u001b[39;49;00m, ::std::allocator< \u001b[36mint\u001b[39;49;00m > >::*method_pointer_2d96cb90afc35aaaa142783706900e63)() \u001b[34mconst\u001b[39;49;00m = &::std::vector< \u001b[36mint\u001b[39;49;00m, \u001b[34mclass\u001b[39;49;00m \u001b[04m\u001b[31;01m:\u001b[39;49;00m\u001b[04m\u001b[31;01m:\u001b[39;49;00m\u001b[04m\u001b[32mstd\u001b[39;49;00m::allocator< \u001b[36mint\u001b[39;49;00m > >::capacity;\n",
      "    \u001b[36mbool\u001b[39;49;00m  (::std::vector< \u001b[36mint\u001b[39;49;00m, ::std::allocator< \u001b[36mint\u001b[39;49;00m > >::*method_pointer_829beec6ac39542092370174938c108d)() \u001b[34mconst\u001b[39;49;00m = &::std::vector< \u001b[36mint\u001b[39;49;00m, \u001b[34mclass\u001b[39;49;00m \u001b[04m\u001b[31;01m:\u001b[39;49;00m\u001b[04m\u001b[31;01m:\u001b[39;49;00m\u001b[04m\u001b[32mstd\u001b[39;49;00m::allocator< \u001b[36mint\u001b[39;49;00m > >::empty;\n",
      "    \u001b[36mvoid\u001b[39;49;00m  (::std::vector< \u001b[36mint\u001b[39;49;00m, ::std::allocator< \u001b[36mint\u001b[39;49;00m > >::*method_pointer_bb2b15e55a165e4590a962713b38756e)(::std::vector< \u001b[36mint\u001b[39;49;00m, \u001b[34mclass\u001b[39;49;00m \u001b[04m\u001b[31;01m:\u001b[39;49;00m\u001b[04m\u001b[31;01m:\u001b[39;49;00m\u001b[04m\u001b[32mstd\u001b[39;49;00m::allocator< \u001b[36mint\u001b[39;49;00m > >::size_type ) = &::std::vector< \u001b[36mint\u001b[39;49;00m, \u001b[34mclass\u001b[39;49;00m \u001b[04m\u001b[31;01m:\u001b[39;49;00m\u001b[04m\u001b[31;01m:\u001b[39;49;00m\u001b[04m\u001b[32mstd\u001b[39;49;00m::allocator< \u001b[36mint\u001b[39;49;00m > >::reserve;\n",
      "    ::std::vector< \u001b[36mint\u001b[39;49;00m, \u001b[34mclass\u001b[39;49;00m \u001b[04m\u001b[31;01m:\u001b[39;49;00m\u001b[04m\u001b[31;01m:\u001b[39;49;00m\u001b[04m\u001b[32mstd\u001b[39;49;00m::allocator< \u001b[36mint\u001b[39;49;00m > >::reference  (::std::vector< \u001b[36mint\u001b[39;49;00m, ::std::allocator< \u001b[36mint\u001b[39;49;00m > >::*method_pointer_bb1e0852f2ca56c094260a03787426c7)(::std::vector< \u001b[36mint\u001b[39;49;00m, \u001b[34mclass\u001b[39;49;00m \u001b[04m\u001b[31;01m:\u001b[39;49;00m\u001b[04m\u001b[31;01m:\u001b[39;49;00m\u001b[04m\u001b[32mstd\u001b[39;49;00m::allocator< \u001b[36mint\u001b[39;49;00m > >::size_type ) = &::std::vector< \u001b[36mint\u001b[39;49;00m, \u001b[34mclass\u001b[39;49;00m \u001b[04m\u001b[31;01m:\u001b[39;49;00m\u001b[04m\u001b[31;01m:\u001b[39;49;00m\u001b[04m\u001b[32mstd\u001b[39;49;00m::allocator< \u001b[36mint\u001b[39;49;00m > >::at;\n",
      "    ::std::vector< \u001b[36mint\u001b[39;49;00m, \u001b[34mclass\u001b[39;49;00m \u001b[04m\u001b[31;01m:\u001b[39;49;00m\u001b[04m\u001b[31;01m:\u001b[39;49;00m\u001b[04m\u001b[32mstd\u001b[39;49;00m::allocator< \u001b[36mint\u001b[39;49;00m > >::const_reference  (::std::vector< \u001b[36mint\u001b[39;49;00m, ::std::allocator< \u001b[36mint\u001b[39;49;00m > >::*method_pointer_a36af7a241c15d6887cc6c239cd0d230)(::std::vector< \u001b[36mint\u001b[39;49;00m, \u001b[34mclass\u001b[39;49;00m \u001b[04m\u001b[31;01m:\u001b[39;49;00m\u001b[04m\u001b[31;01m:\u001b[39;49;00m\u001b[04m\u001b[32mstd\u001b[39;49;00m::allocator< \u001b[36mint\u001b[39;49;00m > >::size_type ) \u001b[34mconst\u001b[39;49;00m = &::std::vector< \u001b[36mint\u001b[39;49;00m, \u001b[34mclass\u001b[39;49;00m \u001b[04m\u001b[31;01m:\u001b[39;49;00m\u001b[04m\u001b[31;01m:\u001b[39;49;00m\u001b[04m\u001b[32mstd\u001b[39;49;00m::allocator< \u001b[36mint\u001b[39;49;00m > >::at;\n",
      "    ::std::vector< \u001b[36mint\u001b[39;49;00m, \u001b[34mclass\u001b[39;49;00m \u001b[04m\u001b[31;01m:\u001b[39;49;00m\u001b[04m\u001b[31;01m:\u001b[39;49;00m\u001b[04m\u001b[32mstd\u001b[39;49;00m::allocator< \u001b[36mint\u001b[39;49;00m > >::reference  (::std::vector< \u001b[36mint\u001b[39;49;00m, ::std::allocator< \u001b[36mint\u001b[39;49;00m > >::*method_pointer_7ec1ac72b0b05f3a9707175bcd5da0bd)() = &::std::vector< \u001b[36mint\u001b[39;49;00m, \u001b[34mclass\u001b[39;49;00m \u001b[04m\u001b[31;01m:\u001b[39;49;00m\u001b[04m\u001b[31;01m:\u001b[39;49;00m\u001b[04m\u001b[32mstd\u001b[39;49;00m::allocator< \u001b[36mint\u001b[39;49;00m > >::front;\n",
      "    ::std::vector< \u001b[36mint\u001b[39;49;00m, \u001b[34mclass\u001b[39;49;00m \u001b[04m\u001b[31;01m:\u001b[39;49;00m\u001b[04m\u001b[31;01m:\u001b[39;49;00m\u001b[04m\u001b[32mstd\u001b[39;49;00m::allocator< \u001b[36mint\u001b[39;49;00m > >::const_reference  (::std::vector< \u001b[36mint\u001b[39;49;00m, ::std::allocator< \u001b[36mint\u001b[39;49;00m > >::*method_pointer_b7cadb076a605b51b2601b9b3480c6b5)() \u001b[34mconst\u001b[39;49;00m = &::std::vector< \u001b[36mint\u001b[39;49;00m, \u001b[34mclass\u001b[39;49;00m \u001b[04m\u001b[31;01m:\u001b[39;49;00m\u001b[04m\u001b[31;01m:\u001b[39;49;00m\u001b[04m\u001b[32mstd\u001b[39;49;00m::allocator< \u001b[36mint\u001b[39;49;00m > >::front;\n",
      "    ::std::vector< \u001b[36mint\u001b[39;49;00m, \u001b[34mclass\u001b[39;49;00m \u001b[04m\u001b[31;01m:\u001b[39;49;00m\u001b[04m\u001b[31;01m:\u001b[39;49;00m\u001b[04m\u001b[32mstd\u001b[39;49;00m::allocator< \u001b[36mint\u001b[39;49;00m > >::reference  (::std::vector< \u001b[36mint\u001b[39;49;00m, ::std::allocator< \u001b[36mint\u001b[39;49;00m > >::*method_pointer_ed1cf37568ed54cbbd326e6ccbe5f27d)() = &::std::vector< \u001b[36mint\u001b[39;49;00m, \u001b[34mclass\u001b[39;49;00m \u001b[04m\u001b[31;01m:\u001b[39;49;00m\u001b[04m\u001b[31;01m:\u001b[39;49;00m\u001b[04m\u001b[32mstd\u001b[39;49;00m::allocator< \u001b[36mint\u001b[39;49;00m > >::back;\n",
      "    ::std::vector< \u001b[36mint\u001b[39;49;00m, \u001b[34mclass\u001b[39;49;00m \u001b[04m\u001b[31;01m:\u001b[39;49;00m\u001b[04m\u001b[31;01m:\u001b[39;49;00m\u001b[04m\u001b[32mstd\u001b[39;49;00m::allocator< \u001b[36mint\u001b[39;49;00m > >::const_reference  (::std::vector< \u001b[36mint\u001b[39;49;00m, ::std::allocator< \u001b[36mint\u001b[39;49;00m > >::*method_pointer_aaa6ab4cb09b56e3adee1ae72ce60d90)() \u001b[34mconst\u001b[39;49;00m = &::std::vector< \u001b[36mint\u001b[39;49;00m, \u001b[34mclass\u001b[39;49;00m \u001b[04m\u001b[31;01m:\u001b[39;49;00m\u001b[04m\u001b[31;01m:\u001b[39;49;00m\u001b[04m\u001b[32mstd\u001b[39;49;00m::allocator< \u001b[36mint\u001b[39;49;00m > >::back;\n",
      "    \u001b[36mvoid\u001b[39;49;00m  (::std::vector< \u001b[36mint\u001b[39;49;00m, ::std::allocator< \u001b[36mint\u001b[39;49;00m > >::*method_pointer_341df5e2719858f39df095cac9121eaf)(::std::vector< \u001b[36mint\u001b[39;49;00m, \u001b[34mclass\u001b[39;49;00m \u001b[04m\u001b[31;01m:\u001b[39;49;00m\u001b[04m\u001b[31;01m:\u001b[39;49;00m\u001b[04m\u001b[32mstd\u001b[39;49;00m::allocator< \u001b[36mint\u001b[39;49;00m > >::value_type \u001b[34mconst\u001b[39;49;00m &) = &::std::vector< \u001b[36mint\u001b[39;49;00m, \u001b[34mclass\u001b[39;49;00m \u001b[04m\u001b[31;01m:\u001b[39;49;00m\u001b[04m\u001b[31;01m:\u001b[39;49;00m\u001b[04m\u001b[32mstd\u001b[39;49;00m::allocator< \u001b[36mint\u001b[39;49;00m > >::push_back;\n",
      "    \u001b[36mvoid\u001b[39;49;00m  (::std::vector< \u001b[36mint\u001b[39;49;00m, ::std::allocator< \u001b[36mint\u001b[39;49;00m > >::*method_pointer_bbaecaa6c9535f04a1ffda1223792c23)() = &::std::vector< \u001b[36mint\u001b[39;49;00m, \u001b[34mclass\u001b[39;49;00m \u001b[04m\u001b[31;01m:\u001b[39;49;00m\u001b[04m\u001b[31;01m:\u001b[39;49;00m\u001b[04m\u001b[32mstd\u001b[39;49;00m::allocator< \u001b[36mint\u001b[39;49;00m > >::pop_back;\n",
      "    \u001b[36mvoid\u001b[39;49;00m  (::std::vector< \u001b[36mint\u001b[39;49;00m, ::std::allocator< \u001b[36mint\u001b[39;49;00m > >::*method_pointer_433012ce9fb655529590bcbd5d85150b)(\u001b[34mclass\u001b[39;49;00m \u001b[04m\u001b[31;01m:\u001b[39;49;00m\u001b[04m\u001b[31;01m:\u001b[39;49;00m\u001b[04m\u001b[32mstd\u001b[39;49;00m::vector< \u001b[36mint\u001b[39;49;00m, \u001b[34mclass\u001b[39;49;00m \u001b[04m\u001b[31;01m:\u001b[39;49;00m\u001b[04m\u001b[31;01m:\u001b[39;49;00m\u001b[04m\u001b[32mstd\u001b[39;49;00m::allocator< \u001b[36mint\u001b[39;49;00m > > &) = &::std::vector< \u001b[36mint\u001b[39;49;00m, \u001b[34mclass\u001b[39;49;00m \u001b[04m\u001b[31;01m:\u001b[39;49;00m\u001b[04m\u001b[31;01m:\u001b[39;49;00m\u001b[04m\u001b[32mstd\u001b[39;49;00m::allocator< \u001b[36mint\u001b[39;49;00m > >::swap;\n",
      "    \u001b[36mvoid\u001b[39;49;00m  (::std::vector< \u001b[36mint\u001b[39;49;00m, ::std::allocator< \u001b[36mint\u001b[39;49;00m > >::*method_pointer_201a5d8f6cc15fd1b83d45af764f3905)() = &::std::vector< \u001b[36mint\u001b[39;49;00m, \u001b[34mclass\u001b[39;49;00m \u001b[04m\u001b[31;01m:\u001b[39;49;00m\u001b[04m\u001b[31;01m:\u001b[39;49;00m\u001b[04m\u001b[32mstd\u001b[39;49;00m::allocator< \u001b[36mint\u001b[39;49;00m > >::clear;\n",
      "    boost::python::class_< \u001b[34mclass\u001b[39;49;00m \u001b[04m\u001b[31;01m:\u001b[39;49;00m\u001b[04m\u001b[31;01m:\u001b[39;49;00m\u001b[04m\u001b[32mstd\u001b[39;49;00m::vector< \u001b[36mint\u001b[39;49;00m, \u001b[34mclass\u001b[39;49;00m \u001b[04m\u001b[31;01m:\u001b[39;49;00m\u001b[04m\u001b[31;01m:\u001b[39;49;00m\u001b[04m\u001b[32mstd\u001b[39;49;00m::allocator< \u001b[36mint\u001b[39;49;00m > >, autowig::Held< \u001b[34mclass\u001b[39;49;00m \u001b[04m\u001b[31;01m:\u001b[39;49;00m\u001b[04m\u001b[31;01m:\u001b[39;49;00m\u001b[04m\u001b[32mstd\u001b[39;49;00m::vector< \u001b[36mint\u001b[39;49;00m, \u001b[34mclass\u001b[39;49;00m \u001b[04m\u001b[31;01m:\u001b[39;49;00m\u001b[04m\u001b[31;01m:\u001b[39;49;00m\u001b[04m\u001b[32mstd\u001b[39;49;00m::allocator< \u001b[36mint\u001b[39;49;00m > > >::Type > class_6b9ae5eac40858c9a0f5e6e21c15d1d3(\u001b[33m\"\u001b[39;49;00m\u001b[33m_Vector_6b9ae5eac40858c9a0f5e6e21c15d1d3\u001b[39;49;00m\u001b[33m\"\u001b[39;49;00m, \u001b[33m\"\u001b[39;49;00m\u001b[33m\"\u001b[39;49;00m, boost::python::no_init);\n",
      "    class_6b9ae5eac40858c9a0f5e6e21c15d1d3.def(boost::python::init<  >(\u001b[33m\"\u001b[39;49;00m\u001b[33m\"\u001b[39;49;00m));\n",
      "    class_6b9ae5eac40858c9a0f5e6e21c15d1d3.def(boost::python::init< \u001b[34mclass\u001b[39;49;00m \u001b[04m\u001b[31;01m:\u001b[39;49;00m\u001b[04m\u001b[31;01m:\u001b[39;49;00m\u001b[04m\u001b[32mstd\u001b[39;49;00m::vector< \u001b[36mint\u001b[39;49;00m, \u001b[34mclass\u001b[39;49;00m \u001b[04m\u001b[31;01m:\u001b[39;49;00m\u001b[04m\u001b[31;01m:\u001b[39;49;00m\u001b[04m\u001b[32mstd\u001b[39;49;00m::allocator< \u001b[36mint\u001b[39;49;00m > > \u001b[34mconst\u001b[39;49;00m & >(\u001b[33m\"\u001b[39;49;00m\u001b[33m\"\u001b[39;49;00m));\n",
      "    class_6b9ae5eac40858c9a0f5e6e21c15d1d3.def(\u001b[33m\"\u001b[39;49;00m\u001b[33massign\u001b[39;49;00m\u001b[33m\"\u001b[39;49;00m, method_pointer_3ee60599950b5555a32f72572e8ff771, \u001b[33m\"\u001b[39;49;00m\u001b[33m\"\u001b[39;49;00m);\n",
      "    class_6b9ae5eac40858c9a0f5e6e21c15d1d3.def(\u001b[33m\"\u001b[39;49;00m\u001b[33m__len__\u001b[39;49;00m\u001b[33m\"\u001b[39;49;00m, method_pointer_2f0bd94041965427ab114d1ec9369eb1, \u001b[33m\"\u001b[39;49;00m\u001b[33m\"\u001b[39;49;00m);\n",
      "    class_6b9ae5eac40858c9a0f5e6e21c15d1d3.def(\u001b[33m\"\u001b[39;49;00m\u001b[33mmax_size\u001b[39;49;00m\u001b[33m\"\u001b[39;49;00m, method_pointer_03cb2a43c5ae5df48ecc631a008fa511, \u001b[33m\"\u001b[39;49;00m\u001b[33m\"\u001b[39;49;00m);\n",
      "    class_6b9ae5eac40858c9a0f5e6e21c15d1d3.def(\u001b[33m\"\u001b[39;49;00m\u001b[33mcapacity\u001b[39;49;00m\u001b[33m\"\u001b[39;49;00m, method_pointer_2d96cb90afc35aaaa142783706900e63, \u001b[33m\"\u001b[39;49;00m\u001b[33m\"\u001b[39;49;00m);\n",
      "    class_6b9ae5eac40858c9a0f5e6e21c15d1d3.def(\u001b[33m\"\u001b[39;49;00m\u001b[33mempty\u001b[39;49;00m\u001b[33m\"\u001b[39;49;00m, method_pointer_829beec6ac39542092370174938c108d, \u001b[33m\"\u001b[39;49;00m\u001b[33m\"\u001b[39;49;00m);\n",
      "    class_6b9ae5eac40858c9a0f5e6e21c15d1d3.def(\u001b[33m\"\u001b[39;49;00m\u001b[33mreserve\u001b[39;49;00m\u001b[33m\"\u001b[39;49;00m, method_pointer_bb2b15e55a165e4590a962713b38756e, \u001b[33m\"\u001b[39;49;00m\u001b[33m\"\u001b[39;49;00m);\n",
      "    class_6b9ae5eac40858c9a0f5e6e21c15d1d3.def(\u001b[33m\"\u001b[39;49;00m\u001b[33mat\u001b[39;49;00m\u001b[33m\"\u001b[39;49;00m, method_pointer_bb1e0852f2ca56c094260a03787426c7, boost::python::return_value_policy< boost::python::return_by_value >(), \u001b[33m\"\u001b[39;49;00m\u001b[33m\"\u001b[39;49;00m);\n",
      "    class_6b9ae5eac40858c9a0f5e6e21c15d1d3.def(\u001b[33m\"\u001b[39;49;00m\u001b[33mat\u001b[39;49;00m\u001b[33m\"\u001b[39;49;00m, autowig::method_decorator_bb1e0852f2ca56c094260a03787426c7);\n",
      "    class_6b9ae5eac40858c9a0f5e6e21c15d1d3.def(\u001b[33m\"\u001b[39;49;00m\u001b[33mat\u001b[39;49;00m\u001b[33m\"\u001b[39;49;00m, method_pointer_a36af7a241c15d6887cc6c239cd0d230, boost::python::return_value_policy< boost::python::return_by_value >(), \u001b[33m\"\u001b[39;49;00m\u001b[33m\"\u001b[39;49;00m);\n",
      "    class_6b9ae5eac40858c9a0f5e6e21c15d1d3.def(\u001b[33m\"\u001b[39;49;00m\u001b[33mfront\u001b[39;49;00m\u001b[33m\"\u001b[39;49;00m, method_pointer_7ec1ac72b0b05f3a9707175bcd5da0bd, boost::python::return_value_policy< boost::python::return_by_value >(), \u001b[33m\"\u001b[39;49;00m\u001b[33m\"\u001b[39;49;00m);\n",
      "    class_6b9ae5eac40858c9a0f5e6e21c15d1d3.def(\u001b[33m\"\u001b[39;49;00m\u001b[33mfront\u001b[39;49;00m\u001b[33m\"\u001b[39;49;00m, autowig::method_decorator_7ec1ac72b0b05f3a9707175bcd5da0bd);\n",
      "    class_6b9ae5eac40858c9a0f5e6e21c15d1d3.def(\u001b[33m\"\u001b[39;49;00m\u001b[33mfront\u001b[39;49;00m\u001b[33m\"\u001b[39;49;00m, method_pointer_b7cadb076a605b51b2601b9b3480c6b5, boost::python::return_value_policy< boost::python::return_by_value >(), \u001b[33m\"\u001b[39;49;00m\u001b[33m\"\u001b[39;49;00m);\n",
      "    class_6b9ae5eac40858c9a0f5e6e21c15d1d3.def(\u001b[33m\"\u001b[39;49;00m\u001b[33mback\u001b[39;49;00m\u001b[33m\"\u001b[39;49;00m, method_pointer_ed1cf37568ed54cbbd326e6ccbe5f27d, boost::python::return_value_policy< boost::python::return_by_value >(), \u001b[33m\"\u001b[39;49;00m\u001b[33m\"\u001b[39;49;00m);\n",
      "    class_6b9ae5eac40858c9a0f5e6e21c15d1d3.def(\u001b[33m\"\u001b[39;49;00m\u001b[33mback\u001b[39;49;00m\u001b[33m\"\u001b[39;49;00m, autowig::method_decorator_ed1cf37568ed54cbbd326e6ccbe5f27d);\n",
      "    class_6b9ae5eac40858c9a0f5e6e21c15d1d3.def(\u001b[33m\"\u001b[39;49;00m\u001b[33mback\u001b[39;49;00m\u001b[33m\"\u001b[39;49;00m, method_pointer_aaa6ab4cb09b56e3adee1ae72ce60d90, boost::python::return_value_policy< boost::python::return_by_value >(), \u001b[33m\"\u001b[39;49;00m\u001b[33m\"\u001b[39;49;00m);\n",
      "    class_6b9ae5eac40858c9a0f5e6e21c15d1d3.def(\u001b[33m\"\u001b[39;49;00m\u001b[33mpush_back\u001b[39;49;00m\u001b[33m\"\u001b[39;49;00m, method_pointer_341df5e2719858f39df095cac9121eaf, \u001b[33m\"\u001b[39;49;00m\u001b[33m\"\u001b[39;49;00m);\n",
      "    class_6b9ae5eac40858c9a0f5e6e21c15d1d3.def(\u001b[33m\"\u001b[39;49;00m\u001b[33mpop_back\u001b[39;49;00m\u001b[33m\"\u001b[39;49;00m, method_pointer_bbaecaa6c9535f04a1ffda1223792c23, \u001b[33m\"\u001b[39;49;00m\u001b[33m\"\u001b[39;49;00m);\n",
      "    class_6b9ae5eac40858c9a0f5e6e21c15d1d3.def(\u001b[33m\"\u001b[39;49;00m\u001b[33mswap\u001b[39;49;00m\u001b[33m\"\u001b[39;49;00m, method_pointer_433012ce9fb655529590bcbd5d85150b, \u001b[33m\"\u001b[39;49;00m\u001b[33m\"\u001b[39;49;00m);\n",
      "    class_6b9ae5eac40858c9a0f5e6e21c15d1d3.def(\u001b[33m\"\u001b[39;49;00m\u001b[33mclear\u001b[39;49;00m\u001b[33m\"\u001b[39;49;00m, method_pointer_201a5d8f6cc15fd1b83d45af764f3905, \u001b[33m\"\u001b[39;49;00m\u001b[33m\"\u001b[39;49;00m);\n",
      "\n",
      "    \u001b[34mstruct\u001b[39;49;00m vector_6b9ae5eac40858c9a0f5e6e21c15d1d3_from_python\n",
      "    {\n",
      "        vector_6b9ae5eac40858c9a0f5e6e21c15d1d3_from_python()\n",
      "        {\n",
      "            boost::python::converter::registry::push_back(\n",
      "                &convertible,\n",
      "                &construct,\n",
      "                boost::python::type_id< \u001b[34mclass\u001b[39;49;00m \u001b[04m\u001b[31;01m:\u001b[39;49;00m\u001b[04m\u001b[31;01m:\u001b[39;49;00m\u001b[04m\u001b[32mstd\u001b[39;49;00m::vector< \u001b[36mint\u001b[39;49;00m, \u001b[34mclass\u001b[39;49;00m \u001b[04m\u001b[31;01m:\u001b[39;49;00m\u001b[04m\u001b[31;01m:\u001b[39;49;00m\u001b[04m\u001b[32mstd\u001b[39;49;00m::allocator< \u001b[36mint\u001b[39;49;00m > > >());\n",
      "        }\n",
      "\n",
      "        \u001b[34mstatic\u001b[39;49;00m \u001b[36mvoid\u001b[39;49;00m* convertible(PyObject* obj_ptr)\n",
      "        { \u001b[34mreturn\u001b[39;49;00m obj_ptr; }\n",
      "\n",
      "        \u001b[34mstatic\u001b[39;49;00m \u001b[36mvoid\u001b[39;49;00m construct(PyObject* obj_ptr, boost::python::converter::rvalue_from_python_stage1_data* data)\n",
      "        {\n",
      "            boost::python::handle<> obj_iter(PyObject_GetIter(obj_ptr));\n",
      "            \u001b[36mvoid\u001b[39;49;00m* storage = ((boost::python::converter::rvalue_from_python_storage< \u001b[34mclass\u001b[39;49;00m \u001b[04m\u001b[31;01m:\u001b[39;49;00m\u001b[04m\u001b[31;01m:\u001b[39;49;00m\u001b[04m\u001b[32mstd\u001b[39;49;00m::vector< \u001b[36mint\u001b[39;49;00m, \u001b[34mclass\u001b[39;49;00m \u001b[04m\u001b[31;01m:\u001b[39;49;00m\u001b[04m\u001b[31;01m:\u001b[39;49;00m\u001b[04m\u001b[32mstd\u001b[39;49;00m::allocator< \u001b[36mint\u001b[39;49;00m > > >*)data)->storage.bytes;\n",
      "            \u001b[34mnew\u001b[39;49;00m (storage) \u001b[34mclass\u001b[39;49;00m \u001b[04m\u001b[31;01m:\u001b[39;49;00m\u001b[04m\u001b[31;01m:\u001b[39;49;00m\u001b[04m\u001b[32mstd\u001b[39;49;00m::vector< \u001b[36mint\u001b[39;49;00m, \u001b[34mclass\u001b[39;49;00m \u001b[04m\u001b[31;01m:\u001b[39;49;00m\u001b[04m\u001b[31;01m:\u001b[39;49;00m\u001b[04m\u001b[32mstd\u001b[39;49;00m::allocator< \u001b[36mint\u001b[39;49;00m > >();\n",
      "            data->convertible = storage;\n",
      "            \u001b[34mclass\u001b[39;49;00m \u001b[04m\u001b[31;01m:\u001b[39;49;00m\u001b[04m\u001b[31;01m:\u001b[39;49;00m\u001b[04m\u001b[32mstd\u001b[39;49;00m::vector< \u001b[36mint\u001b[39;49;00m, \u001b[34mclass\u001b[39;49;00m \u001b[04m\u001b[31;01m:\u001b[39;49;00m\u001b[04m\u001b[31;01m:\u001b[39;49;00m\u001b[04m\u001b[32mstd\u001b[39;49;00m::allocator< \u001b[36mint\u001b[39;49;00m > >& result = *((\u001b[34mclass\u001b[39;49;00m \u001b[04m\u001b[31;01m:\u001b[39;49;00m\u001b[04m\u001b[31;01m:\u001b[39;49;00m\u001b[04m\u001b[32mstd\u001b[39;49;00m::vector< \u001b[36mint\u001b[39;49;00m, \u001b[34mclass\u001b[39;49;00m \u001b[04m\u001b[31;01m:\u001b[39;49;00m\u001b[04m\u001b[31;01m:\u001b[39;49;00m\u001b[04m\u001b[32mstd\u001b[39;49;00m::allocator< \u001b[36mint\u001b[39;49;00m > >*)storage);\n",
      "            \u001b[36munsigned\u001b[39;49;00m \u001b[36mint\u001b[39;49;00m i = \u001b[34m0\u001b[39;49;00m;\n",
      "            \u001b[34mfor\u001b[39;49;00m(;; i++)\n",
      "            {\n",
      "                boost::python::handle<> py_elem_hdl(boost::python::allow_null(PyIter_Next(obj_iter.get())));\n",
      "                \u001b[34mif\u001b[39;49;00m(PyErr_Occurred())\n",
      "                { boost::python::throw_error_already_set(); }\n",
      "                \u001b[34mif\u001b[39;49;00m(!py_elem_hdl.get())\n",
      "                { \u001b[34mbreak\u001b[39;49;00m; }\n",
      "                boost::python::object py_elem_obj(py_elem_hdl);\n",
      "                result.push_back(boost::python::extract< \u001b[36mint\u001b[39;49;00m  >(py_elem_obj));\n",
      "            }\n",
      "        }\n",
      "    };\n",
      "\n",
      "    vector_6b9ae5eac40858c9a0f5e6e21c15d1d3_from_python();\n",
      "}\n"
     ]
    }
   ],
   "source": [
    "!pygmentize STL/src/py/wrapper_6b9ae5eac40858c9a0f5e6e21c15d1d3.cpp"
   ]
  },
  {
   "cell_type": "markdown",
   "metadata": {},
   "source": [
    "Once the wrappers are written on disk, we need to compile and install the *Python* bindings."
   ]
  },
  {
   "cell_type": "code",
   "execution_count": 7,
   "metadata": {
    "scrolled": true
   },
   "outputs": [
    {
     "name": "stdout",
     "output_type": "stream",
     "text": [
      "BUILD START: python-statiskit_stl-3.3.1-py27_0\n",
      "    (actual version deferred until further download or env creation)\n",
      "updating index in: /home/pfernique/.miniconda/conda-bld/linux-64\n",
      "updating index in: /home/pfernique/.miniconda/conda-bld/noarch\n",
      "\n",
      "The following NEW packages will be INSTALLED:\n",
      "\n",
      "    coverage:         4.3.4-py27_0       \n",
      "    icu:              54.1-0             \n",
      "    libboost:         1.61.0-py27_0 local\n",
      "    libdev:           1.0.0-py27_0  local\n",
      "    librun:           1.0.0-py27_0  local\n",
      "    libstatiskit_stl: 1.0.0-0       local\n",
      "    nose:             1.3.7-py27_1       \n",
      "    openssl:          1.0.2k-1           \n",
      "    path.py:          10.3.1-py27_0      \n",
      "    pip:              9.0.1-py27_1       \n",
      "    python:           2.7.13-0           \n",
      "    python-dev:       1.0.0-py27_0  local\n",
      "    python-scons:     2.5.0-py27_0  local\n",
      "    pyyaml:           3.12-py27_0        \n",
      "    readline:         6.2-2              \n",
      "    setuptools:       27.2.0-py27_0      \n",
      "    sqlite:           3.13.0-0           \n",
      "    tk:               8.5.18-0           \n",
      "    wheel:            0.29.0-py27_0      \n",
      "    yaml:             0.1.6-0            \n",
      "    zlib:             1.2.8-3            \n",
      "\n",
      "\n",
      "WARNING: conda-build appears to be out of date. You have version 2.1.10 but the\n",
      "latest version is 2.1.12. Run\n",
      "\n",
      "conda update -n root conda-build\n",
      "\n",
      "to get the latest version.\n",
      "\n",
      "Copying /home/pfernique/Desktop/develop/AutoWIG/doc/examples/STL to /home/pfernique/.miniconda/conda-bld/python-statiskit_stl_1494421927494/work\n",
      "fatal: Not a git repository: /home/pfernique/.miniconda/conda-bld/python-statiskit_stl_1494421927494/work/../../../.git/modules/doc/examples/stl\n",
      "WARNING conda_build.environ:get_git_info(167): Failed to obtain git tag information.  Are you using annotated tags?\n",
      "fatal: Not a git repository: /home/pfernique/.miniconda/conda-bld/python-statiskit_stl_1494421927494/work/../../../.git/modules/doc/examples/stl\n",
      "WARNING conda_build.environ:get_git_info(178): Error obtaining git commit information.  Error was: \n",
      "WARNING conda_build.environ:get_git_info(179): Command '['git', 'rev-parse', 'HEAD']' returned non-zero exit status 128\n",
      "fatal: Not a git repository: /home/pfernique/.miniconda/conda-bld/python-statiskit_stl_1494421927494/work/../../../.git/modules/doc/examples/stl\n",
      "WARNING conda_build.environ:get_git_info(167): Failed to obtain git tag information.  Are you using annotated tags?\n",
      "fatal: Not a git repository: /home/pfernique/.miniconda/conda-bld/python-statiskit_stl_1494421927494/work/../../../.git/modules/doc/examples/stl\n",
      "WARNING conda_build.environ:get_git_info(178): Error obtaining git commit information.  Error was: \n",
      "WARNING conda_build.environ:get_git_info(179): Command '['git', 'rev-parse', 'HEAD']' returned non-zero exit status 128\n",
      "fatal: Not a git repository: /home/pfernique/.miniconda/conda-bld/python-statiskit_stl_1494421927494/work/../../../.git/modules/doc/examples/stl\n",
      "WARNING conda_build.environ:get_git_info(167): Failed to obtain git tag information.  Are you using annotated tags?\n",
      "fatal: Not a git repository: /home/pfernique/.miniconda/conda-bld/python-statiskit_stl_1494421927494/work/../../../.git/modules/doc/examples/stl\n",
      "WARNING conda_build.environ:get_git_info(178): Error obtaining git commit information.  Error was: \n",
      "WARNING conda_build.environ:get_git_info(179): Command '['git', 'rev-parse', 'HEAD']' returned non-zero exit status 128\n",
      "fatal: Not a git repository: /home/pfernique/.miniconda/conda-bld/python-statiskit_stl_1494421927494/work/../../../.git/modules/doc/examples/stl\n",
      "WARNING conda_build.environ:get_git_info(167): Failed to obtain git tag information.  Are you using annotated tags?\n",
      "fatal: Not a git repository: /home/pfernique/.miniconda/conda-bld/python-statiskit_stl_1494421927494/work/../../../.git/modules/doc/examples/stl\n",
      "WARNING conda_build.environ:get_git_info(178): Error obtaining git commit information.  Error was: \n",
      "WARNING conda_build.environ:get_git_info(179): Command '['git', 'rev-parse', 'HEAD']' returned non-zero exit status 128\n",
      "fatal: Not a git repository: /home/pfernique/.miniconda/conda-bld/python-statiskit_stl_1494421927494/work/../../../.git/modules/doc/examples/stl\n",
      "WARNING conda_build.environ:get_git_info(167): Failed to obtain git tag information.  Are you using annotated tags?\n",
      "fatal: Not a git repository: /home/pfernique/.miniconda/conda-bld/python-statiskit_stl_1494421927494/work/../../../.git/modules/doc/examples/stl\n",
      "WARNING conda_build.environ:get_git_info(178): Error obtaining git commit information.  Error was: \n",
      "WARNING conda_build.environ:get_git_info(179): Command '['git', 'rev-parse', 'HEAD']' returned non-zero exit status 128\n",
      "fatal: Not a git repository: /home/pfernique/.miniconda/conda-bld/python-statiskit_stl_1494421927494/work/../../../.git/modules/doc/examples/stl\n",
      "WARNING conda_build.environ:get_git_info(167): Failed to obtain git tag information.  Are you using annotated tags?\n",
      "fatal: Not a git repository: /home/pfernique/.miniconda/conda-bld/python-statiskit_stl_1494421927494/work/../../../.git/modules/doc/examples/stl\n",
      "WARNING conda_build.environ:get_git_info(178): Error obtaining git commit information.  Error was: \n",
      "WARNING conda_build.environ:get_git_info(179): Command '['git', 'rev-parse', 'HEAD']' returned non-zero exit status 128\n",
      "BUILD START (revised): python-statiskit_stl-3.3.1-py27_0\n",
      "Package: python-statiskit_stl-3.3.1-py27_0\n",
      "source tree in: /home/pfernique/.miniconda/conda-bld/python-statiskit_stl_1494421927494/work\n",
      "fatal: Not a git repository: /home/pfernique/.miniconda/conda-bld/python-statiskit_stl_1494421927494/work/../../../.git/modules/doc/examples/stl\n",
      "WARNING conda_build.environ:get_git_info(167): Failed to obtain git tag information.  Are you using annotated tags?\n",
      "fatal: Not a git repository: /home/pfernique/.miniconda/conda-bld/python-statiskit_stl_1494421927494/work/../../../.git/modules/doc/examples/stl\n",
      "WARNING conda_build.environ:get_git_info(178): Error obtaining git commit information.  Error was: \n",
      "WARNING conda_build.environ:get_git_info(179): Command '['git', 'rev-parse', 'HEAD']' returned non-zero exit status 128\n",
      "+ source /home/pfernique/.miniconda/bin/activate /home/pfernique/.miniconda/conda-bld/python-statiskit_stl_1494421927494/_b_env_placehold_placehold_placehold_placehold_placehold_placehold_placehold_placehold_placehold_placehold_placehold_placehold_placehold_placehold_placehold_placehold_placehold_placeh\n",
      "+ set -ve\n",
      "\n",
      "scons py --prefix=$PREFIX -j$CPU_COUNT\n",
      "+ scons py --prefix=/home/pfernique/.miniconda/conda-bld/python-statiskit_stl_1494421927494/_b_env_placehold_placehold_placehold_placehold_placehold_placehold_placehold_placehold_placehold_placehold_placehold_placehold_placehold_placehold_placehold_placehold_placehold_placeh -j8\n",
      "scons: Reading SConscript files ...\n",
      "scons: done reading SConscript files.\n",
      "scons: Building targets ...\n",
      "Install file: \"build/src/cpp/STL.h\" as \"/home/pfernique/.miniconda/conda-bld/python-statiskit_stl_1494421927494/_b_env_placehold_placehold_placehold_placehold_placehold_placehold_placehold_placehold_placehold_placehold_placehold_placehold_placehold_placehold_placehold_placehold_placehold_placeh/include/statiskit/stl/STL.h\"\n",
      "Creating 'build/src/py/response_file.rsp'\n",
      "g++ -o build/src/cpp/STL.os -c -x c++ -std=c++11 -fmax-errors=0 -Wl,--no-undefined -fvisibility=hidden -fPIC -DLIBSTATISKIT_STL -I/home/pfernique/.miniconda/conda-bld/python-statiskit_stl_1494421927494/_b_env_placehold_placehold_placehold_placehold_placehold_placehold_placehold_placehold_placehold_placehold_placehold_placehold_placehold_placehold_placehold_placehold_placehold_placeh/include build/src/cpp/STL.cpp\n",
      "g++ -o build/src/py/_stl.h.gch -x c++-header -c -fPIC -std=c++11 -DBOOST_PYTHON_DYNAMIC_LIB -DBOOST_ALL_NO_LIB -I/home/pfernique/.miniconda/conda-bld/python-statiskit_stl_1494421927494/_b_env_placehold_placehold_placehold_placehold_placehold_placehold_placehold_placehold_placehold_placehold_placehold_placehold_placehold_placehold_placehold_placehold_placehold_placeh/include -I/home/pfernique/.miniconda/conda-bld/python-statiskit_stl_1494421927494/_b_env_placehold_placehold_placehold_placehold_placehold_placehold_placehold_placehold_placehold_placehold_placehold_placehold_placehold_placehold_placehold_placehold_placehold_placeh/include/python2.7 build/src/py/_stl.h\n"
     ]
    },
    {
     "name": "stdout",
     "output_type": "stream",
     "text": [
      "g++ -o /home/pfernique/.miniconda/conda-bld/python-statiskit_stl_1494421927494/_b_env_placehold_placehold_placehold_placehold_placehold_placehold_placehold_placehold_placehold_placehold_placehold_placehold_placehold_placehold_placehold_placehold_placehold_placeh/lib/libstatiskit_stl.so -shared build/src/cpp/STL.os -L/home/pfernique/.miniconda/conda-bld/python-statiskit_stl_1494421927494/_b_env_placehold_placehold_placehold_placehold_placehold_placehold_placehold_placehold_placehold_placehold_placehold_placehold_placehold_placehold_placehold_placehold_placehold_placeh/lib\n",
      "Install file: \"src/py/statiskit/stl/generator.py\" as \"/home/pfernique/.miniconda/conda-bld/python-statiskit_stl_1494421927494/_b_env_placehold_placehold_placehold_placehold_placehold_placehold_placehold_placehold_placehold_placehold_placehold_placehold_placehold_placehold_placehold_placehold_placehold_placeh/lib/python2.7/site-packages/statiskit/stl/generator.py\"\n",
      "Install file: \"src/py/statiskit/stl/__init__.py\" as \"/home/pfernique/.miniconda/conda-bld/python-statiskit_stl_1494421927494/_b_env_placehold_placehold_placehold_placehold_placehold_placehold_placehold_placehold_placehold_placehold_placehold_placehold_placehold_placehold_placehold_placehold_placehold_placeh/lib/python2.7/site-packages/statiskit/stl/__init__.py\"\n",
      "Install file: \"src/py/statiskit/stl/_stl.py\" as \"/home/pfernique/.miniconda/conda-bld/python-statiskit_stl_1494421927494/_b_env_placehold_placehold_placehold_placehold_placehold_placehold_placehold_placehold_placehold_placehold_placehold_placehold_placehold_placehold_placehold_placehold_placehold_placeh/lib/python2.7/site-packages/statiskit/stl/_stl.py\"\n",
      "Install file: \"src/py/statiskit/__init__.py\" as \"/home/pfernique/.miniconda/conda-bld/python-statiskit_stl_1494421927494/_b_env_placehold_placehold_placehold_placehold_placehold_placehold_placehold_placehold_placehold_placehold_placehold_placehold_placehold_placehold_placehold_placehold_placehold_placeh/lib/python2.7/site-packages/statiskit/__init__.py\"\n",
      "Install file: \"src/py/statiskit/stl/set.py\" as \"/home/pfernique/.miniconda/conda-bld/python-statiskit_stl_1494421927494/_b_env_placehold_placehold_placehold_placehold_placehold_placehold_placehold_placehold_placehold_placehold_placehold_placehold_placehold_placehold_placehold_placehold_placehold_placeh/lib/python2.7/site-packages/statiskit/stl/set.py\"\n",
      "Install file: \"src/py/statiskit/stl/vector.py\" as \"/home/pfernique/.miniconda/conda-bld/python-statiskit_stl_1494421927494/_b_env_placehold_placehold_placehold_placehold_placehold_placehold_placehold_placehold_placehold_placehold_placehold_placehold_placehold_placehold_placehold_placehold_placehold_placeh/lib/python2.7/site-packages/statiskit/stl/vector.py\"\n",
      "In file included from /home/pfernique/.miniconda/conda-bld/python-statiskit_stl_1494421927494/_b_env_placehold_placehold_placehold_placehold_placehold_placehold_placehold_placehold_placehold_placehold_placehold_placehold_placehold_placehold_placehold_placehold_placehold_placeh/include/boost/python/detail/is_xxx.hpp:8:0,\n",
      "                 from /home/pfernique/.miniconda/conda-bld/python-statiskit_stl_1494421927494/_b_env_placehold_placehold_placehold_placehold_placehold_placehold_placehold_placehold_placehold_placehold_placehold_placehold_placehold_placehold_placehold_placehold_placehold_placeh/include/boost/python/detail/is_auto_ptr.hpp:9,\n",
      "                 from /home/pfernique/.miniconda/conda-bld/python-statiskit_stl_1494421927494/_b_env_placehold_placehold_placehold_placehold_placehold_placehold_placehold_placehold_placehold_placehold_placehold_placehold_placehold_placehold_placehold_placehold_placehold_placeh/include/boost/python/detail/copy_ctor_mutates_rhs.hpp:8,\n",
      "                 from /home/pfernique/.miniconda/conda-bld/python-statiskit_stl_1494421927494/_b_env_placehold_placehold_placehold_placehold_placehold_placehold_placehold_placehold_placehold_placehold_placehold_placehold_placehold_placehold_placehold_placehold_placehold_placeh/include/boost/python/detail/value_arg.hpp:7,\n",
      "                 from /home/pfernique/.miniconda/conda-bld/python-statiskit_stl_1494421927494/_b_env_placehold_placehold_placehold_placehold_placehold_placehold_placehold_placehold_placehold_placehold_placehold_placehold_placehold_placehold_placehold_placehold_placehold_placeh/include/boost/python/object/forward.hpp:13,\n",
      "                 from /home/pfernique/.miniconda/conda-bld/python-statiskit_stl_1494421927494/_b_env_placehold_placehold_placehold_placehold_placehold_placehold_placehold_placehold_placehold_placehold_placehold_placehold_placehold_placehold_placehold_placehold_placehold_placeh/include/boost/python/object/pointer_holder.hpp:16,\n",
      "                 from /home/pfernique/.miniconda/conda-bld/python-statiskit_stl_1494421927494/_b_env_placehold_placehold_placehold_placehold_placehold_placehold_placehold_placehold_placehold_placehold_placehold_placehold_placehold_placehold_placehold_placehold_placehold_placeh/include/boost/python/to_python_indirect.hpp:10,\n",
      "                 from /home/pfernique/.miniconda/conda-bld/python-statiskit_stl_1494421927494/_b_env_placehold_placehold_placehold_placehold_placehold_placehold_placehold_placehold_placehold_placehold_placehold_placehold_placehold_placehold_placehold_placehold_placehold_placeh/include/boost/python/converter/arg_to_python.hpp:10,\n",
      "                 from /home/pfernique/.miniconda/conda-bld/python-statiskit_stl_1494421927494/_b_env_placehold_placehold_placehold_placehold_placehold_placehold_placehold_placehold_placehold_placehold_placehold_placehold_placehold_placehold_placehold_placehold_placehold_placeh/include/boost/python/call.hpp:15,\n",
      "                 from /home/pfernique/.miniconda/conda-bld/python-statiskit_stl_1494421927494/_b_env_placehold_placehold_placehold_placehold_placehold_placehold_placehold_placehold_placehold_placehold_placehold_placehold_placehold_placehold_placehold_placehold_placehold_placeh/include/boost/python/object_core.hpp:14,\n",
      "                 from /home/pfernique/.miniconda/conda-bld/python-statiskit_stl_1494421927494/_b_env_placehold_placehold_placehold_placehold_placehold_placehold_placehold_placehold_placehold_placehold_placehold_placehold_placehold_placehold_placehold_placehold_placehold_placeh/include/boost/python/args.hpp:25,\n",
      "                 from /home/pfernique/.miniconda/conda-bld/python-statiskit_stl_1494421927494/_b_env_placehold_placehold_placehold_placehold_placehold_placehold_placehold_placehold_placehold_placehold_placehold_placehold_placehold_placehold_placehold_placehold_placehold_placeh/include/boost/python.hpp:11,\n",
      "                 from build/src/py/_stl.h:4:\n",
      "/home/pfernique/.miniconda/conda-bld/python-statiskit_stl_1494421927494/_b_env_placehold_placehold_placehold_placehold_placehold_placehold_placehold_placehold_placehold_placehold_placehold_placehold_placehold_placehold_placehold_placehold_placehold_placeh/include/boost/python/detail/is_auto_ptr.hpp:17:40: warning: 'template<class> class std::auto_ptr' is deprecated [-Wdeprecated-declarations]\n",
      " BOOST_PYTHON_IS_XXX_DEF(auto_ptr, std::auto_ptr, 1)\n",
      "                                        ^\n",
      "/home/pfernique/.miniconda/conda-bld/python-statiskit_stl_1494421927494/_b_env_placehold_placehold_placehold_placehold_placehold_placehold_placehold_placehold_placehold_placehold_placehold_placehold_placehold_placehold_placehold_placehold_placehold_placeh/include/boost/detail/is_xxx.hpp:20:4: note: in definition of macro 'BOOST_DETAIL_IS_XXX_DEF'\n",
      "    qualified_name< BOOST_PP_ENUM_PARAMS_Z(1, nargs, T) >        \\\n",
      "    ^\n",
      "/home/pfernique/.miniconda/conda-bld/python-statiskit_stl_1494421927494/_b_env_placehold_placehold_placehold_placehold_placehold_placehold_placehold_placehold_placehold_placehold_placehold_placehold_placehold_placehold_placehold_placehold_placehold_placeh/include/boost/python/detail/is_auto_ptr.hpp:17:1: note: in expansion of macro 'BOOST_PYTHON_IS_XXX_DEF'\n",
      " BOOST_PYTHON_IS_XXX_DEF(auto_ptr, std::auto_ptr, 1)\n",
      " ^\n",
      "In file included from /usr/include/c++/5/memory:81:0,\n",
      "                 from /home/pfernique/.miniconda/conda-bld/python-statiskit_stl_1494421927494/_b_env_placehold_placehold_placehold_placehold_placehold_placehold_placehold_placehold_placehold_placehold_placehold_placehold_placehold_placehold_placehold_placehold_placehold_placeh/include/boost/function/function_base.hpp:16,\n",
      "                 from /home/pfernique/.miniconda/conda-bld/python-statiskit_stl_1494421927494/_b_env_placehold_placehold_placehold_placehold_placehold_placehold_placehold_placehold_placehold_placehold_placehold_placehold_placehold_placehold_placehold_placehold_placehold_placeh/include/boost/function/detail/prologue.hpp:17,\n",
      "                 from /home/pfernique/.miniconda/conda-bld/python-statiskit_stl_1494421927494/_b_env_placehold_placehold_placehold_placehold_placehold_placehold_placehold_placehold_placehold_placehold_placehold_placehold_placehold_placehold_placehold_placehold_placehold_placeh/include/boost/function/function_template.hpp:13,\n",
      "                 from /home/pfernique/.miniconda/conda-bld/python-statiskit_stl_1494421927494/_b_env_placehold_placehold_placehold_placehold_placehold_placehold_placehold_placehold_placehold_placehold_placehold_placehold_placehold_placehold_placehold_placehold_placehold_placeh/include/boost/function/detail/maybe_include.hpp:13,\n",
      "                 from /home/pfernique/.miniconda/conda-bld/python-statiskit_stl_1494421927494/_b_env_placehold_placehold_placehold_placehold_placehold_placehold_placehold_placehold_placehold_placehold_placehold_placehold_placehold_placehold_placehold_placehold_placehold_placeh/include/boost/function/function0.hpp:11,\n",
      "                 from /home/pfernique/.miniconda/conda-bld/python-statiskit_stl_1494421927494/_b_env_placehold_placehold_placehold_placehold_placehold_placehold_placehold_placehold_placehold_placehold_placehold_placehold_placehold_placehold_placehold_placehold_placehold_placeh/include/boost/python/errors.hpp:13,\n",
      "                 from /home/pfernique/.miniconda/conda-bld/python-statiskit_stl_1494421927494/_b_env_placehold_placehold_placehold_placehold_placehold_placehold_placehold_placehold_placehold_placehold_placehold_placehold_placehold_placehold_placehold_placehold_placehold_placeh/include/boost/python/handle.hpp:11,\n",
      "                 from /home/pfernique/.miniconda/conda-bld/python-statiskit_stl_1494421927494/_b_env_placehold_placehold_placehold_placehold_placehold_placehold_placehold_placehold_placehold_placehold_placehold_placehold_placehold_placehold_placehold_placehold_placehold_placeh/include/boost/python/args_fwd.hpp:10,\n",
      "                 from /home/pfernique/.miniconda/conda-bld/python-statiskit_stl_1494421927494/_b_env_placehold_placehold_placehold_placehold_placehold_placehold_placehold_placehold_placehold_placehold_placehold_placehold_placehold_placehold_placehold_placehold_placehold_placeh/include/boost/python/args.hpp:10,\n",
      "                 from /home/pfernique/.miniconda/conda-bld/python-statiskit_stl_1494421927494/_b_env_placehold_placehold_placehold_placehold_placehold_placehold_placehold_placehold_placehold_placehold_placehold_placehold_placehold_placehold_placehold_placehold_placehold_placeh/include/boost/python.hpp:11,\n",
      "                 from build/src/py/_stl.h:4:\n",
      "/usr/include/c++/5/bits/unique_ptr.h:49:28: note: declared here\n",
      "   template<typename> class auto_ptr;\n",
      "                            ^\n",
      "In file included from /home/pfernique/.miniconda/conda-bld/python-statiskit_stl_1494421927494/_b_env_placehold_placehold_placehold_placehold_placehold_placehold_placehold_placehold_placehold_placehold_placehold_placehold_placehold_placehold_placehold_placehold_placehold_placeh/include/boost/python/converter/arg_to_python.hpp:10:0,\n",
      "                 from /home/pfernique/.miniconda/conda-bld/python-statiskit_stl_1494421927494/_b_env_placehold_placehold_placehold_placehold_placehold_placehold_placehold_placehold_placehold_placehold_placehold_placehold_placehold_placehold_placehold_placehold_placehold_placeh/include/boost/python/call.hpp:15,\n",
      "                 from /home/pfernique/.miniconda/conda-bld/python-statiskit_stl_1494421927494/_b_env_placehold_placehold_placehold_placehold_placehold_placehold_placehold_placehold_placehold_placehold_placehold_placehold_placehold_placehold_placehold_placehold_placehold_placeh/include/boost/python/object_core.hpp:14,\n",
      "                 from /home/pfernique/.miniconda/conda-bld/python-statiskit_stl_1494421927494/_b_env_placehold_placehold_placehold_placehold_placehold_placehold_placehold_placehold_placehold_placehold_placehold_placehold_placehold_placehold_placehold_placehold_placehold_placeh/include/boost/python/args.hpp:25,\n",
      "                 from /home/pfernique/.miniconda/conda-bld/python-statiskit_stl_1494421927494/_b_env_placehold_placehold_placehold_placehold_placehold_placehold_placehold_placehold_placehold_placehold_placehold_placehold_placehold_placehold_placehold_placehold_placehold_placeh/include/boost/python.hpp:11,\n",
      "                 from build/src/py/_stl.h:4:\n",
      "/home/pfernique/.miniconda/conda-bld/python-statiskit_stl_1494421927494/_b_env_placehold_placehold_placehold_placehold_placehold_placehold_placehold_placehold_placehold_placehold_placehold_placehold_placehold_placehold_placehold_placehold_placehold_placeh/include/boost/python/to_python_indirect.hpp: In static member function 'static PyObject* boost::python::detail::make_owning_holder::execute(T*)':\n",
      "/home/pfernique/.miniconda/conda-bld/python-statiskit_stl_1494421927494/_b_env_placehold_placehold_placehold_placehold_placehold_placehold_placehold_placehold_placehold_placehold_placehold_placehold_placehold_placehold_placehold_placehold_placehold_placeh/include/boost/python/to_python_indirect.hpp:90:24: warning: 'template<class> class std::auto_ptr' is deprecated [-Wdeprecated-declarations]\n",
      "           typedef std::auto_ptr<T> smart_pointer;\n",
      "                        ^\n",
      "In file included from /usr/include/c++/5/memory:81:0,\n",
      "                 from /home/pfernique/.miniconda/conda-bld/python-statiskit_stl_1494421927494/_b_env_placehold_placehold_placehold_placehold_placehold_placehold_placehold_placehold_placehold_placehold_placehold_placehold_placehold_placehold_placehold_placehold_placehold_placeh/include/boost/function/function_base.hpp:16,\n",
      "                 from /home/pfernique/.miniconda/conda-bld/python-statiskit_stl_1494421927494/_b_env_placehold_placehold_placehold_placehold_placehold_placehold_placehold_placehold_placehold_placehold_placehold_placehold_placehold_placehold_placehold_placehold_placehold_placeh/include/boost/function/detail/prologue.hpp:17,\n",
      "                 from /home/pfernique/.miniconda/conda-bld/python-statiskit_stl_1494421927494/_b_env_placehold_placehold_placehold_placehold_placehold_placehold_placehold_placehold_placehold_placehold_placehold_placehold_placehold_placehold_placehold_placehold_placehold_placeh/include/boost/function/function_template.hpp:13,\n",
      "                 from /home/pfernique/.miniconda/conda-bld/python-statiskit_stl_1494421927494/_b_env_placehold_placehold_placehold_placehold_placehold_placehold_placehold_placehold_placehold_placehold_placehold_placehold_placehold_placehold_placehold_placehold_placehold_placeh/include/boost/function/detail/maybe_include.hpp:13,\n",
      "                 from /home/pfernique/.miniconda/conda-bld/python-statiskit_stl_1494421927494/_b_env_placehold_placehold_placehold_placehold_placehold_placehold_placehold_placehold_placehold_placehold_placehold_placehold_placehold_placehold_placehold_placehold_placehold_placeh/include/boost/function/function0.hpp:11,\n",
      "                 from /home/pfernique/.miniconda/conda-bld/python-statiskit_stl_1494421927494/_b_env_placehold_placehold_placehold_placehold_placehold_placehold_placehold_placehold_placehold_placehold_placehold_placehold_placehold_placehold_placehold_placehold_placehold_placeh/include/boost/python/errors.hpp:13,\n",
      "                 from /home/pfernique/.miniconda/conda-bld/python-statiskit_stl_1494421927494/_b_env_placehold_placehold_placehold_placehold_placehold_placehold_placehold_placehold_placehold_placehold_placehold_placehold_placehold_placehold_placehold_placehold_placehold_placeh/include/boost/python/handle.hpp:11,\n",
      "                 from /home/pfernique/.miniconda/conda-bld/python-statiskit_stl_1494421927494/_b_env_placehold_placehold_placehold_placehold_placehold_placehold_placehold_placehold_placehold_placehold_placehold_placehold_placehold_placehold_placehold_placehold_placehold_placeh/include/boost/python/args_fwd.hpp:10,\n",
      "                 from /home/pfernique/.miniconda/conda-bld/python-statiskit_stl_1494421927494/_b_env_placehold_placehold_placehold_placehold_placehold_placehold_placehold_placehold_placehold_placehold_placehold_placehold_placehold_placehold_placehold_placehold_placehold_placeh/include/boost/python/args.hpp:10,\n",
      "                 from /home/pfernique/.miniconda/conda-bld/python-statiskit_stl_1494421927494/_b_env_placehold_placehold_placehold_placehold_placehold_placehold_placehold_placehold_placehold_placehold_placehold_placehold_placehold_placehold_placehold_placehold_placehold_placeh/include/boost/python.hpp:11,\n",
      "                 from build/src/py/_stl.h:4:\n",
      "/usr/include/c++/5/bits/unique_ptr.h:49:28: note: declared here\n",
      "   template<typename> class auto_ptr;\n",
      "                            ^\n"
     ]
    },
    {
     "name": "stdout",
     "output_type": "stream",
     "text": [
      "In file included from /home/pfernique/.miniconda/conda-bld/python-statiskit_stl_1494421927494/_b_env_placehold_placehold_placehold_placehold_placehold_placehold_placehold_placehold_placehold_placehold_placehold_placehold_placehold_placehold_placehold_placehold_placehold_placeh/include/boost/python/object/function_handle.hpp:10:0,\n",
      "                 from /home/pfernique/.miniconda/conda-bld/python-statiskit_stl_1494421927494/_b_env_placehold_placehold_placehold_placehold_placehold_placehold_placehold_placehold_placehold_placehold_placehold_placehold_placehold_placehold_placehold_placehold_placehold_placeh/include/boost/python/converter/arg_to_python.hpp:19,\n",
      "                 from /home/pfernique/.miniconda/conda-bld/python-statiskit_stl_1494421927494/_b_env_placehold_placehold_placehold_placehold_placehold_placehold_placehold_placehold_placehold_placehold_placehold_placehold_placehold_placehold_placehold_placehold_placehold_placeh/include/boost/python/call.hpp:15,\n",
      "                 from /home/pfernique/.miniconda/conda-bld/python-statiskit_stl_1494421927494/_b_env_placehold_placehold_placehold_placehold_placehold_placehold_placehold_placehold_placehold_placehold_placehold_placehold_placehold_placehold_placehold_placehold_placehold_placeh/include/boost/python/object_core.hpp:14,\n",
      "                 from /home/pfernique/.miniconda/conda-bld/python-statiskit_stl_1494421927494/_b_env_placehold_placehold_placehold_placehold_placehold_placehold_placehold_placehold_placehold_placehold_placehold_placehold_placehold_placehold_placehold_placehold_placehold_placeh/include/boost/python/args.hpp:25,\n",
      "                 from /home/pfernique/.miniconda/conda-bld/python-statiskit_stl_1494421927494/_b_env_placehold_placehold_placehold_placehold_placehold_placehold_placehold_placehold_placehold_placehold_placehold_placehold_placehold_placehold_placehold_placehold_placehold_placeh/include/boost/python.hpp:11,\n",
      "                 from build/src/py/_stl.h:4:\n",
      "/home/pfernique/.miniconda/conda-bld/python-statiskit_stl_1494421927494/_b_env_placehold_placehold_placehold_placehold_placehold_placehold_placehold_placehold_placehold_placehold_placehold_placehold_placehold_placehold_placehold_placehold_placehold_placeh/include/boost/python/object/py_function.hpp: At global scope:\n",
      "/home/pfernique/.miniconda/conda-bld/python-statiskit_stl_1494421927494/_b_env_placehold_placehold_placehold_placehold_placehold_placehold_placehold_placehold_placehold_placehold_placehold_placehold_placehold_placehold_placehold_placehold_placehold_placeh/include/boost/python/object/py_function.hpp:167:18: warning: 'template<class> class std::auto_ptr' is deprecated [-Wdeprecated-declarations]\n",
      "     mutable std::auto_ptr<py_function_impl_base> m_impl;\n",
      "                  ^\n",
      "In file included from /usr/include/c++/5/memory:81:0,\n",
      "                 from /home/pfernique/.miniconda/conda-bld/python-statiskit_stl_1494421927494/_b_env_placehold_placehold_placehold_placehold_placehold_placehold_placehold_placehold_placehold_placehold_placehold_placehold_placehold_placehold_placehold_placehold_placehold_placeh/include/boost/function/function_base.hpp:16,\n",
      "                 from /home/pfernique/.miniconda/conda-bld/python-statiskit_stl_1494421927494/_b_env_placehold_placehold_placehold_placehold_placehold_placehold_placehold_placehold_placehold_placehold_placehold_placehold_placehold_placehold_placehold_placehold_placehold_placeh/include/boost/function/detail/prologue.hpp:17,\n",
      "                 from /home/pfernique/.miniconda/conda-bld/python-statiskit_stl_1494421927494/_b_env_placehold_placehold_placehold_placehold_placehold_placehold_placehold_placehold_placehold_placehold_placehold_placehold_placehold_placehold_placehold_placehold_placehold_placeh/include/boost/function/function_template.hpp:13,\n",
      "                 from /home/pfernique/.miniconda/conda-bld/python-statiskit_stl_1494421927494/_b_env_placehold_placehold_placehold_placehold_placehold_placehold_placehold_placehold_placehold_placehold_placehold_placehold_placehold_placehold_placehold_placehold_placehold_placeh/include/boost/function/detail/maybe_include.hpp:13,\n",
      "                 from /home/pfernique/.miniconda/conda-bld/python-statiskit_stl_1494421927494/_b_env_placehold_placehold_placehold_placehold_placehold_placehold_placehold_placehold_placehold_placehold_placehold_placehold_placehold_placehold_placehold_placehold_placehold_placeh/include/boost/function/function0.hpp:11,\n",
      "                 from /home/pfernique/.miniconda/conda-bld/python-statiskit_stl_1494421927494/_b_env_placehold_placehold_placehold_placehold_placehold_placehold_placehold_placehold_placehold_placehold_placehold_placehold_placehold_placehold_placehold_placehold_placehold_placeh/include/boost/python/errors.hpp:13,\n",
      "                 from /home/pfernique/.miniconda/conda-bld/python-statiskit_stl_1494421927494/_b_env_placehold_placehold_placehold_placehold_placehold_placehold_placehold_placehold_placehold_placehold_placehold_placehold_placehold_placehold_placehold_placehold_placehold_placeh/include/boost/python/handle.hpp:11,\n",
      "                 from /home/pfernique/.miniconda/conda-bld/python-statiskit_stl_1494421927494/_b_env_placehold_placehold_placehold_placehold_placehold_placehold_placehold_placehold_placehold_placehold_placehold_placehold_placehold_placehold_placehold_placehold_placehold_placeh/include/boost/python/args_fwd.hpp:10,\n",
      "                 from /home/pfernique/.miniconda/conda-bld/python-statiskit_stl_1494421927494/_b_env_placehold_placehold_placehold_placehold_placehold_placehold_placehold_placehold_placehold_placehold_placehold_placehold_placehold_placehold_placehold_placehold_placehold_placeh/include/boost/python/args.hpp:10,\n",
      "                 from /home/pfernique/.miniconda/conda-bld/python-statiskit_stl_1494421927494/_b_env_placehold_placehold_placehold_placehold_placehold_placehold_placehold_placehold_placehold_placehold_placehold_placehold_placehold_placehold_placehold_placehold_placehold_placeh/include/boost/python.hpp:11,\n",
      "                 from build/src/py/_stl.h:4:\n",
      "/usr/include/c++/5/bits/unique_ptr.h:49:28: note: declared here\n",
      "   template<typename> class auto_ptr;\n",
      "                            ^\n",
      "In file included from /home/pfernique/.miniconda/conda-bld/python-statiskit_stl_1494421927494/_b_env_placehold_placehold_placehold_placehold_placehold_placehold_placehold_placehold_placehold_placehold_placehold_placehold_placehold_placehold_placehold_placehold_placehold_placeh/include/boost/python.hpp:41:0,\n",
      "                 from build/src/py/_stl.h:4:\n",
      "/home/pfernique/.miniconda/conda-bld/python-statiskit_stl_1494421927494/_b_env_placehold_placehold_placehold_placehold_placehold_placehold_placehold_placehold_placehold_placehold_placehold_placehold_placehold_placehold_placehold_placehold_placehold_placeh/include/boost/python/make_constructor.hpp: In member function 'void boost::python::detail::install_holder<T>::dispatch(U*, mpl_::true_) const':\n",
      "/home/pfernique/.miniconda/conda-bld/python-statiskit_stl_1494421927494/_b_env_placehold_placehold_placehold_placehold_placehold_placehold_placehold_placehold_placehold_placehold_placehold_placehold_placehold_placehold_placehold_placehold_placehold_placeh/include/boost/python/make_constructor.hpp:48:16: warning: 'template<class> class std::auto_ptr' is deprecated [-Wdeprecated-declarations]\n",
      "           std::auto_ptr<U> owner(x);\n",
      "                ^\n",
      "In file included from /usr/include/c++/5/memory:81:0,\n",
      "                 from /home/pfernique/.miniconda/conda-bld/python-statiskit_stl_1494421927494/_b_env_placehold_placehold_placehold_placehold_placehold_placehold_placehold_placehold_placehold_placehold_placehold_placehold_placehold_placehold_placehold_placehold_placehold_placeh/include/boost/function/function_base.hpp:16,\n",
      "                 from /home/pfernique/.miniconda/conda-bld/python-statiskit_stl_1494421927494/_b_env_placehold_placehold_placehold_placehold_placehold_placehold_placehold_placehold_placehold_placehold_placehold_placehold_placehold_placehold_placehold_placehold_placehold_placeh/include/boost/function/detail/prologue.hpp:17,\n",
      "                 from /home/pfernique/.miniconda/conda-bld/python-statiskit_stl_1494421927494/_b_env_placehold_placehold_placehold_placehold_placehold_placehold_placehold_placehold_placehold_placehold_placehold_placehold_placehold_placehold_placehold_placehold_placehold_placeh/include/boost/function/function_template.hpp:13,\n",
      "                 from /home/pfernique/.miniconda/conda-bld/python-statiskit_stl_1494421927494/_b_env_placehold_placehold_placehold_placehold_placehold_placehold_placehold_placehold_placehold_placehold_placehold_placehold_placehold_placehold_placehold_placehold_placehold_placeh/include/boost/function/detail/maybe_include.hpp:13,\n",
      "                 from /home/pfernique/.miniconda/conda-bld/python-statiskit_stl_1494421927494/_b_env_placehold_placehold_placehold_placehold_placehold_placehold_placehold_placehold_placehold_placehold_placehold_placehold_placehold_placehold_placehold_placehold_placehold_placeh/include/boost/function/function0.hpp:11,\n",
      "                 from /home/pfernique/.miniconda/conda-bld/python-statiskit_stl_1494421927494/_b_env_placehold_placehold_placehold_placehold_placehold_placehold_placehold_placehold_placehold_placehold_placehold_placehold_placehold_placehold_placehold_placehold_placehold_placeh/include/boost/python/errors.hpp:13,\n",
      "                 from /home/pfernique/.miniconda/conda-bld/python-statiskit_stl_1494421927494/_b_env_placehold_placehold_placehold_placehold_placehold_placehold_placehold_placehold_placehold_placehold_placehold_placehold_placehold_placehold_placehold_placehold_placehold_placeh/include/boost/python/handle.hpp:11,\n",
      "                 from /home/pfernique/.miniconda/conda-bld/python-statiskit_stl_1494421927494/_b_env_placehold_placehold_placehold_placehold_placehold_placehold_placehold_placehold_placehold_placehold_placehold_placehold_placehold_placehold_placehold_placehold_placehold_placeh/include/boost/python/args_fwd.hpp:10,\n",
      "                 from /home/pfernique/.miniconda/conda-bld/python-statiskit_stl_1494421927494/_b_env_placehold_placehold_placehold_placehold_placehold_placehold_placehold_placehold_placehold_placehold_placehold_placehold_placehold_placehold_placehold_placehold_placehold_placeh/include/boost/python/args.hpp:10,\n",
      "                 from /home/pfernique/.miniconda/conda-bld/python-statiskit_stl_1494421927494/_b_env_placehold_placehold_placehold_placehold_placehold_placehold_placehold_placehold_placehold_placehold_placehold_placehold_placehold_placehold_placehold_placehold_placehold_placeh/include/boost/python.hpp:11,\n",
      "                 from build/src/py/_stl.h:4:\n",
      "/usr/include/c++/5/bits/unique_ptr.h:49:28: note: declared here\n",
      "   template<typename> class auto_ptr;\n",
      "                            ^\n"
     ]
    },
    {
     "name": "stdout",
     "output_type": "stream",
     "text": [
      "g++ -o build/src/py/wrapper_d48105936d4f5d09a78d2aa9f878fdb8.os -c -x c++ -std=c++11 -fmax-errors=0 -Wl,--no-undefined -fvisibility=hidden -fPIC -DBOOST_PYTHON_DYNAMIC_LIB -DBOOST_ALL_NO_LIB -I/home/pfernique/.miniconda/conda-bld/python-statiskit_stl_1494421927494/_b_env_placehold_placehold_placehold_placehold_placehold_placehold_placehold_placehold_placehold_placehold_placehold_placehold_placehold_placehold_placehold_placehold_placehold_placeh/include -I/home/pfernique/.miniconda/conda-bld/python-statiskit_stl_1494421927494/_b_env_placehold_placehold_placehold_placehold_placehold_placehold_placehold_placehold_placehold_placehold_placehold_placehold_placehold_placehold_placehold_placehold_placehold_placeh/include/python2.7 build/src/py/wrapper_d48105936d4f5d09a78d2aa9f878fdb8.cpp\n",
      "g++ -o build/src/py/wrapper_448c20257e485acda59dc59305fceb58.os -c -x c++ -std=c++11 -fmax-errors=0 -Wl,--no-undefined -fvisibility=hidden -fPIC -DBOOST_PYTHON_DYNAMIC_LIB -DBOOST_ALL_NO_LIB -I/home/pfernique/.miniconda/conda-bld/python-statiskit_stl_1494421927494/_b_env_placehold_placehold_placehold_placehold_placehold_placehold_placehold_placehold_placehold_placehold_placehold_placehold_placehold_placehold_placehold_placehold_placehold_placeh/include -I/home/pfernique/.miniconda/conda-bld/python-statiskit_stl_1494421927494/_b_env_placehold_placehold_placehold_placehold_placehold_placehold_placehold_placehold_placehold_placehold_placehold_placehold_placehold_placehold_placehold_placehold_placehold_placeh/include/python2.7 build/src/py/wrapper_448c20257e485acda59dc59305fceb58.cpp\n",
      "g++ -o build/src/py/wrapper_858bbf0613575e2ebe4b0e5902107ad6.os -c -x c++ -std=c++11 -fmax-errors=0 -Wl,--no-undefined -fvisibility=hidden -fPIC -DBOOST_PYTHON_DYNAMIC_LIB -DBOOST_ALL_NO_LIB -I/home/pfernique/.miniconda/conda-bld/python-statiskit_stl_1494421927494/_b_env_placehold_placehold_placehold_placehold_placehold_placehold_placehold_placehold_placehold_placehold_placehold_placehold_placehold_placehold_placehold_placehold_placehold_placeh/include -I/home/pfernique/.miniconda/conda-bld/python-statiskit_stl_1494421927494/_b_env_placehold_placehold_placehold_placehold_placehold_placehold_placehold_placehold_placehold_placehold_placehold_placehold_placehold_placehold_placehold_placehold_placehold_placeh/include/python2.7 build/src/py/wrapper_858bbf0613575e2ebe4b0e5902107ad6.cpp\n",
      "g++ -o build/src/py/wrapper_882a8dd1e64a51b4a9da29ab852a852e.os -c -x c++ -std=c++11 -fmax-errors=0 -Wl,--no-undefined -fvisibility=hidden -fPIC -DBOOST_PYTHON_DYNAMIC_LIB -DBOOST_ALL_NO_LIB -I/home/pfernique/.miniconda/conda-bld/python-statiskit_stl_1494421927494/_b_env_placehold_placehold_placehold_placehold_placehold_placehold_placehold_placehold_placehold_placehold_placehold_placehold_placehold_placehold_placehold_placehold_placehold_placeh/include -I/home/pfernique/.miniconda/conda-bld/python-statiskit_stl_1494421927494/_b_env_placehold_placehold_placehold_placehold_placehold_placehold_placehold_placehold_placehold_placehold_placehold_placehold_placehold_placehold_placehold_placehold_placehold_placeh/include/python2.7 build/src/py/wrapper_882a8dd1e64a51b4a9da29ab852a852e.cpp\n",
      "g++ -o build/src/py/wrapper_745e4933f5b250d9bc5232fe864d0cf7.os -c -x c++ -std=c++11 -fmax-errors=0 -Wl,--no-undefined -fvisibility=hidden -fPIC -DBOOST_PYTHON_DYNAMIC_LIB -DBOOST_ALL_NO_LIB -I/home/pfernique/.miniconda/conda-bld/python-statiskit_stl_1494421927494/_b_env_placehold_placehold_placehold_placehold_placehold_placehold_placehold_placehold_placehold_placehold_placehold_placehold_placehold_placehold_placehold_placehold_placehold_placeh/include -I/home/pfernique/.miniconda/conda-bld/python-statiskit_stl_1494421927494/_b_env_placehold_placehold_placehold_placehold_placehold_placehold_placehold_placehold_placehold_placehold_placehold_placehold_placehold_placehold_placehold_placehold_placehold_placeh/include/python2.7 build/src/py/wrapper_745e4933f5b250d9bc5232fe864d0cf7.cpp\n",
      "g++ -o build/src/py/wrapper_10b14312eeb655268489cd34090870cf.os -c -x c++ -std=c++11 -fmax-errors=0 -Wl,--no-undefined -fvisibility=hidden -fPIC -DBOOST_PYTHON_DYNAMIC_LIB -DBOOST_ALL_NO_LIB -I/home/pfernique/.miniconda/conda-bld/python-statiskit_stl_1494421927494/_b_env_placehold_placehold_placehold_placehold_placehold_placehold_placehold_placehold_placehold_placehold_placehold_placehold_placehold_placehold_placehold_placehold_placehold_placeh/include -I/home/pfernique/.miniconda/conda-bld/python-statiskit_stl_1494421927494/_b_env_placehold_placehold_placehold_placehold_placehold_placehold_placehold_placehold_placehold_placehold_placehold_placehold_placehold_placehold_placehold_placehold_placehold_placeh/include/python2.7 build/src/py/wrapper_10b14312eeb655268489cd34090870cf.cpp\n",
      "g++ -o build/src/py/wrapper_f1ab29faa1815285a06ca52391d1425f.os -c -x c++ -std=c++11 -fmax-errors=0 -Wl,--no-undefined -fvisibility=hidden -fPIC -DBOOST_PYTHON_DYNAMIC_LIB -DBOOST_ALL_NO_LIB -I/home/pfernique/.miniconda/conda-bld/python-statiskit_stl_1494421927494/_b_env_placehold_placehold_placehold_placehold_placehold_placehold_placehold_placehold_placehold_placehold_placehold_placehold_placehold_placehold_placehold_placehold_placehold_placeh/include -I/home/pfernique/.miniconda/conda-bld/python-statiskit_stl_1494421927494/_b_env_placehold_placehold_placehold_placehold_placehold_placehold_placehold_placehold_placehold_placehold_placehold_placehold_placehold_placehold_placehold_placehold_placehold_placeh/include/python2.7 build/src/py/wrapper_f1ab29faa1815285a06ca52391d1425f.cpp\n",
      "g++ -o build/src/py/wrapper_74bc331707c1505eb2f807cae7c32bbb.os -c -x c++ -std=c++11 -fmax-errors=0 -Wl,--no-undefined -fvisibility=hidden -fPIC -DBOOST_PYTHON_DYNAMIC_LIB -DBOOST_ALL_NO_LIB -I/home/pfernique/.miniconda/conda-bld/python-statiskit_stl_1494421927494/_b_env_placehold_placehold_placehold_placehold_placehold_placehold_placehold_placehold_placehold_placehold_placehold_placehold_placehold_placehold_placehold_placehold_placehold_placeh/include -I/home/pfernique/.miniconda/conda-bld/python-statiskit_stl_1494421927494/_b_env_placehold_placehold_placehold_placehold_placehold_placehold_placehold_placehold_placehold_placehold_placehold_placehold_placehold_placehold_placehold_placehold_placehold_placeh/include/python2.7 build/src/py/wrapper_74bc331707c1505eb2f807cae7c32bbb.cpp\n",
      "g++ -o build/src/py/wrapper_107131f9768c56e794a9b0de728d1738.os -c -x c++ -std=c++11 -fmax-errors=0 -Wl,--no-undefined -fvisibility=hidden -fPIC -DBOOST_PYTHON_DYNAMIC_LIB -DBOOST_ALL_NO_LIB -I/home/pfernique/.miniconda/conda-bld/python-statiskit_stl_1494421927494/_b_env_placehold_placehold_placehold_placehold_placehold_placehold_placehold_placehold_placehold_placehold_placehold_placehold_placehold_placehold_placehold_placehold_placehold_placeh/include -I/home/pfernique/.miniconda/conda-bld/python-statiskit_stl_1494421927494/_b_env_placehold_placehold_placehold_placehold_placehold_placehold_placehold_placehold_placehold_placehold_placehold_placehold_placehold_placehold_placehold_placehold_placehold_placeh/include/python2.7 build/src/py/wrapper_107131f9768c56e794a9b0de728d1738.cpp\n",
      "g++ -o build/src/py/wrapper_dc5522842bc75d8b9ac7b46020c60854.os -c -x c++ -std=c++11 -fmax-errors=0 -Wl,--no-undefined -fvisibility=hidden -fPIC -DBOOST_PYTHON_DYNAMIC_LIB -DBOOST_ALL_NO_LIB -I/home/pfernique/.miniconda/conda-bld/python-statiskit_stl_1494421927494/_b_env_placehold_placehold_placehold_placehold_placehold_placehold_placehold_placehold_placehold_placehold_placehold_placehold_placehold_placehold_placehold_placehold_placehold_placeh/include -I/home/pfernique/.miniconda/conda-bld/python-statiskit_stl_1494421927494/_b_env_placehold_placehold_placehold_placehold_placehold_placehold_placehold_placehold_placehold_placehold_placehold_placehold_placehold_placehold_placehold_placehold_placehold_placeh/include/python2.7 build/src/py/wrapper_dc5522842bc75d8b9ac7b46020c60854.cpp\n",
      "g++ -o build/src/py/wrapper_e76a1308464d5a9a837d9a61f942fae7.os -c -x c++ -std=c++11 -fmax-errors=0 -Wl,--no-undefined -fvisibility=hidden -fPIC -DBOOST_PYTHON_DYNAMIC_LIB -DBOOST_ALL_NO_LIB -I/home/pfernique/.miniconda/conda-bld/python-statiskit_stl_1494421927494/_b_env_placehold_placehold_placehold_placehold_placehold_placehold_placehold_placehold_placehold_placehold_placehold_placehold_placehold_placehold_placehold_placehold_placehold_placeh/include -I/home/pfernique/.miniconda/conda-bld/python-statiskit_stl_1494421927494/_b_env_placehold_placehold_placehold_placehold_placehold_placehold_placehold_placehold_placehold_placehold_placehold_placehold_placehold_placehold_placehold_placehold_placehold_placeh/include/python2.7 build/src/py/wrapper_e76a1308464d5a9a837d9a61f942fae7.cpp\n"
     ]
    },
    {
     "name": "stdout",
     "output_type": "stream",
     "text": [
      "g++ -o build/src/py/wrapper_6436891c9b6854f494789a812891cbe5.os -c -x c++ -std=c++11 -fmax-errors=0 -Wl,--no-undefined -fvisibility=hidden -fPIC -DBOOST_PYTHON_DYNAMIC_LIB -DBOOST_ALL_NO_LIB -I/home/pfernique/.miniconda/conda-bld/python-statiskit_stl_1494421927494/_b_env_placehold_placehold_placehold_placehold_placehold_placehold_placehold_placehold_placehold_placehold_placehold_placehold_placehold_placehold_placehold_placehold_placehold_placeh/include -I/home/pfernique/.miniconda/conda-bld/python-statiskit_stl_1494421927494/_b_env_placehold_placehold_placehold_placehold_placehold_placehold_placehold_placehold_placehold_placehold_placehold_placehold_placehold_placehold_placehold_placehold_placehold_placeh/include/python2.7 build/src/py/wrapper_6436891c9b6854f494789a812891cbe5.cpp\n",
      "g++ -o build/src/py/wrapper_c047f2c3135554ceb57f166fd404cfc8.os -c -x c++ -std=c++11 -fmax-errors=0 -Wl,--no-undefined -fvisibility=hidden -fPIC -DBOOST_PYTHON_DYNAMIC_LIB -DBOOST_ALL_NO_LIB -I/home/pfernique/.miniconda/conda-bld/python-statiskit_stl_1494421927494/_b_env_placehold_placehold_placehold_placehold_placehold_placehold_placehold_placehold_placehold_placehold_placehold_placehold_placehold_placehold_placehold_placehold_placehold_placeh/include -I/home/pfernique/.miniconda/conda-bld/python-statiskit_stl_1494421927494/_b_env_placehold_placehold_placehold_placehold_placehold_placehold_placehold_placehold_placehold_placehold_placehold_placehold_placehold_placehold_placehold_placehold_placehold_placeh/include/python2.7 build/src/py/wrapper_c047f2c3135554ceb57f166fd404cfc8.cpp\n",
      "g++ -o build/src/py/wrapper_3b59a0980c80518c808634f7a84dc3cd.os -c -x c++ -std=c++11 -fmax-errors=0 -Wl,--no-undefined -fvisibility=hidden -fPIC -DBOOST_PYTHON_DYNAMIC_LIB -DBOOST_ALL_NO_LIB -I/home/pfernique/.miniconda/conda-bld/python-statiskit_stl_1494421927494/_b_env_placehold_placehold_placehold_placehold_placehold_placehold_placehold_placehold_placehold_placehold_placehold_placehold_placehold_placehold_placehold_placehold_placehold_placeh/include -I/home/pfernique/.miniconda/conda-bld/python-statiskit_stl_1494421927494/_b_env_placehold_placehold_placehold_placehold_placehold_placehold_placehold_placehold_placehold_placehold_placehold_placehold_placehold_placehold_placehold_placehold_placehold_placeh/include/python2.7 build/src/py/wrapper_3b59a0980c80518c808634f7a84dc3cd.cpp\n",
      "g++ -o build/src/py/wrapper_476c1c1f206251dba7af53c48f3f6e42.os -c -x c++ -std=c++11 -fmax-errors=0 -Wl,--no-undefined -fvisibility=hidden -fPIC -DBOOST_PYTHON_DYNAMIC_LIB -DBOOST_ALL_NO_LIB -I/home/pfernique/.miniconda/conda-bld/python-statiskit_stl_1494421927494/_b_env_placehold_placehold_placehold_placehold_placehold_placehold_placehold_placehold_placehold_placehold_placehold_placehold_placehold_placehold_placehold_placehold_placehold_placeh/include -I/home/pfernique/.miniconda/conda-bld/python-statiskit_stl_1494421927494/_b_env_placehold_placehold_placehold_placehold_placehold_placehold_placehold_placehold_placehold_placehold_placehold_placehold_placehold_placehold_placehold_placehold_placehold_placeh/include/python2.7 build/src/py/wrapper_476c1c1f206251dba7af53c48f3f6e42.cpp\n",
      "g++ -o build/src/py/wrapper_6b9ae5eac40858c9a0f5e6e21c15d1d3.os -c -x c++ -std=c++11 -fmax-errors=0 -Wl,--no-undefined -fvisibility=hidden -fPIC -DBOOST_PYTHON_DYNAMIC_LIB -DBOOST_ALL_NO_LIB -I/home/pfernique/.miniconda/conda-bld/python-statiskit_stl_1494421927494/_b_env_placehold_placehold_placehold_placehold_placehold_placehold_placehold_placehold_placehold_placehold_placehold_placehold_placehold_placehold_placehold_placehold_placehold_placeh/include -I/home/pfernique/.miniconda/conda-bld/python-statiskit_stl_1494421927494/_b_env_placehold_placehold_placehold_placehold_placehold_placehold_placehold_placehold_placehold_placehold_placehold_placehold_placehold_placehold_placehold_placehold_placehold_placeh/include/python2.7 build/src/py/wrapper_6b9ae5eac40858c9a0f5e6e21c15d1d3.cpp\n",
      "g++ -o build/src/py/_stl.os -c -x c++ -std=c++11 -fmax-errors=0 -Wl,--no-undefined -fvisibility=hidden -fPIC -DBOOST_PYTHON_DYNAMIC_LIB -DBOOST_ALL_NO_LIB -I/home/pfernique/.miniconda/conda-bld/python-statiskit_stl_1494421927494/_b_env_placehold_placehold_placehold_placehold_placehold_placehold_placehold_placehold_placehold_placehold_placehold_placehold_placehold_placehold_placehold_placehold_placehold_placeh/include -I/home/pfernique/.miniconda/conda-bld/python-statiskit_stl_1494421927494/_b_env_placehold_placehold_placehold_placehold_placehold_placehold_placehold_placehold_placehold_placehold_placehold_placehold_placehold_placehold_placehold_placehold_placehold_placeh/include/python2.7 build/src/py/_stl.cpp\n",
      "gcc -o /home/pfernique/.miniconda/conda-bld/python-statiskit_stl_1494421927494/_b_env_placehold_placehold_placehold_placehold_placehold_placehold_placehold_placehold_placehold_placehold_placehold_placehold_placehold_placehold_placehold_placehold_placehold_placeh/lib/python2.7/site-packages/statiskit/stl/__stl.so @/home/pfernique/.miniconda/conda-bld/python-statiskit_stl_1494421927494/work/build/src/py/response_file.rsp -shared -Wl,-Bsymbolic -Wl,-soname=__stl.so -L/home/pfernique/.miniconda/conda-bld/python-statiskit_stl_1494421927494/_b_env_placehold_placehold_placehold_placehold_placehold_placehold_placehold_placehold_placehold_placehold_placehold_placehold_placehold_placehold_placehold_placehold_placehold_placeh/lib -lboost_python -lpython2.7 -lstatiskit_stl\n",
      "scons: done building targets.\n",
      "\n",
      "set +ve\n",
      "+ set +ve\n",
      "INFO conda_build.build:bundle_conda(865): Packaging python-statiskit_stl-3.3.1-py27_0\n",
      "compiling .pyc files...\n",
      "number of files: 13\n",
      "Fixing permissions\n",
      "patchelf: file: /home/pfernique/.miniconda/conda-bld/python-statiskit_stl_1494421927494/_b_env_placehold_placehold_placehold_placehold_placehold_placehold_placehold_placehold_placehold_placehold_placehold_placehold_placehold_placehold_placehold_placehold_placehold_placeh/lib/python2.7/site-packages/statiskit/stl/__stl.so\n",
      "    setting rpath to: $ORIGIN/../../../..\n",
      "Fixing permissions\n",
      "/home/pfernique/.miniconda/conda-bld/linux-64/python-statiskit_stl-3.3.1-py27_0.tar.bz2\n",
      "updating index in: /home/pfernique/.miniconda/conda-bld\n",
      "updating index in: /home/pfernique/.miniconda/conda-bld/noarch\n",
      "updating index in: /home/pfernique/.miniconda/conda-bld/linux-64\n",
      "updating: python-statiskit_stl-3.3.1-py27_0.tar.bz2\n",
      "updating index in: /home/pfernique/.miniconda/conda-bld\n",
      "TEST START: /home/pfernique/.miniconda/conda-bld/linux-64/python-statiskit_stl-3.3.1-py27_0.tar.bz2\n",
      "Deleting work directory, /home/pfernique/.miniconda/conda-bld/python-statiskit_stl_1494421927494/work\n",
      "updating index in: /home/pfernique/.miniconda/conda-bld/linux-64\n",
      "updating index in: /home/pfernique/.miniconda/conda-bld/noarch\n",
      "\n",
      "The following NEW packages will be INSTALLED:\n",
      "\n",
      "    coverage:             4.3.4-py27_0       \n",
      "    icu:                  54.1-0             \n",
      "    libboost:             1.61.0-py27_0 local\n",
      "    libdev:               1.0.0-py27_0  local\n",
      "    librun:               1.0.0-py27_0  local\n",
      "    libstatiskit_stl:     1.0.0-0       local\n",
      "    nose:                 1.3.7-py27_1       \n",
      "    openssl:              1.0.2k-1           \n",
      "    path.py:              10.3.1-py27_0      \n",
      "    pip:                  9.0.1-py27_1       \n",
      "    python:               2.7.13-0           \n",
      "    python-dev:           1.0.0-py27_0  local\n",
      "    python-scons:         2.5.0-py27_0  local\n",
      "    python-statiskit_stl: 3.3.1-py27_0  local\n",
      "    pyyaml:               3.12-py27_0        \n",
      "    readline:             6.2-2              \n",
      "    setuptools:           27.2.0-py27_0      \n",
      "    sqlite:               3.13.0-0           \n",
      "    tk:                   8.5.18-0           \n",
      "    wheel:                0.29.0-py27_0      \n",
      "    yaml:                 0.1.6-0            \n",
      "    zlib:                 1.2.8-3            \n",
      "\n",
      "\n",
      "WARNING: conda-build appears to be out of date. You have version 2.1.10 but the\n",
      "latest version is 2.1.12. Run\n",
      "\n",
      "conda update -n root conda-build\n",
      "\n",
      "to get the latest version.\n",
      "\n",
      "+ source /home/pfernique/.miniconda/bin/activate /home/pfernique/.miniconda/conda-bld/python-statiskit_stl_1494421927494/_t_env\n",
      "+ /home/pfernique/.miniconda/conda-bld/python-statiskit_stl_1494421927494/_t_env/bin/python -s /home/pfernique/.miniconda/conda-bld/python-statiskit_stl_1494421927494/test_tmp/run_test.py\n",
      "import: u'statiskit.stl'\n",
      "+ /bin/bash -x -e /home/pfernique/.miniconda/conda-bld/python-statiskit_stl_1494421927494/test_tmp/run_test.sh\n",
      "+ nosetests test -x -s -v -A 'level <= 3 and linux'\n"
     ]
    },
    {
     "name": "stdout",
     "output_type": "stream",
     "text": [
      "Test set initialization ... ok\n",
      "Test set manipulation ... ok\n",
      "Test set latex representation ... ok\n",
      "Test set string representation ... ok\n",
      "\n",
      "----------------------------------------------------------------------\n",
      "Ran 4 tests in 0.007s\n",
      "\n",
      "OK\n",
      "TEST END: /home/pfernique/.miniconda/conda-bld/linux-64/python-statiskit_stl-3.3.1-py27_0.tar.bz2\n",
      "INFO conda_build.config:__exit__(432): --dirty flag not specified.  Removing build folder after successful build/test.\n",
      "\n",
      "# If you want to upload package(s) to anaconda.org later, type:\n",
      "\n",
      "anaconda upload /home/pfernique/.miniconda/conda-bld/linux-64/python-statiskit_stl-3.3.1-py27_0.tar.bz2\n",
      "\n",
      "# To have conda build upload to anaconda.org automatically, use\n",
      "# $ conda config --set anaconda_upload yes\n",
      "\n",
      "anaconda_upload is not set.  Not uploading wheels: []\n",
      "\n",
      "\n",
      "\n",
      "####################################################################################\n",
      "Source and build intermediates have been left in /home/pfernique/.miniconda/conda-bld.\n",
      "There are currently 302 accumulated.\n",
      "To remove them, you can run the ```conda build purge``` command\n",
      "Fetching package metadata .............\n",
      "Solving package specifications: .\n",
      "\n",
      "Package plan for installation in environment /home/pfernique/.miniconda/envs/statiskit-dev:\n",
      "\n",
      "The following NEW packages will be INSTALLED:\n",
      "\n",
      "    python-statiskit_stl: 3.3.1-py27_0 local\n",
      "\n"
     ]
    }
   ],
   "source": [
    "!conda build STL/conda/python-statiskit_stl -c statiskit \n",
    "!conda install -y python-statiskit_stl --use-local -c statiskit --force"
   ]
  },
  {
   "cell_type": "markdown",
   "metadata": {},
   "source": [
    "Finally, we can hereafter use the *C++* library in the *Python* interpreter."
   ]
  },
  {
   "cell_type": "code",
   "execution_count": 8,
   "metadata": {},
   "outputs": [
    {
     "data": {
      "text/latex": [
       "$\\left\\{-1, 0, 1\\right\\}$"
      ],
      "text/plain": [
       "[-1, 0, 1]"
      ]
     },
     "execution_count": 8,
     "metadata": {},
     "output_type": "execute_result"
    }
   ],
   "source": [
    "from statiskit.stl import VectorInt\n",
    "v = VectorInt()\n",
    "v.push_back(-1)\n",
    "v.push_back(0)\n",
    "v.push_back(1)\n",
    "v"
   ]
  },
  {
   "cell_type": "code",
   "execution_count": 9,
   "metadata": {},
   "outputs": [
    {
     "data": {
      "text/plain": [
       "[-1, 0, 1]"
      ]
     },
     "execution_count": 9,
     "metadata": {},
     "output_type": "execute_result"
    }
   ],
   "source": [
    "list(v)"
   ]
  },
  {
   "cell_type": "code",
   "execution_count": 10,
   "metadata": {},
   "outputs": [
    {
     "data": {
      "text/plain": [
       "-1"
      ]
     },
     "execution_count": 10,
     "metadata": {},
     "output_type": "execute_result"
    }
   ],
   "source": [
    "v[0]"
   ]
  },
  {
   "cell_type": "code",
   "execution_count": 11,
   "metadata": {},
   "outputs": [
    {
     "data": {
      "text/plain": [
       "-2"
      ]
     },
     "execution_count": 11,
     "metadata": {},
     "output_type": "execute_result"
    }
   ],
   "source": [
    "v[0] = -2\n",
    "v[0]"
   ]
  },
  {
   "cell_type": "code",
   "execution_count": 12,
   "metadata": {},
   "outputs": [
    {
     "data": {
      "text/latex": [
       "$\\left\\{0, 1\\right\\}$"
      ],
      "text/plain": [
       "[0, 1]"
      ]
     },
     "execution_count": 12,
     "metadata": {},
     "output_type": "execute_result"
    }
   ],
   "source": [
    "VectorInt([0, 1])"
   ]
  }
 ],
 "metadata": {
  "anaconda-cloud": {},
  "kernelspec": {
   "display_name": "Python 2",
   "language": "python",
   "name": "python2"
  },
  "language_info": {
   "codemirror_mode": {
    "name": "ipython",
    "version": 2
   },
   "file_extension": ".py",
   "mimetype": "text/x-python",
   "name": "python",
   "nbconvert_exporter": "python",
   "pygments_lexer": "ipython2",
   "version": "2.7.13"
  }
 },
 "nbformat": 4,
 "nbformat_minor": 1
}
