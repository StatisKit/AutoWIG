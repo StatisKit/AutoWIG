{
 "cells": [
  {
   "cell_type": "markdown",
   "metadata": {},
   "source": [
    "# Wrapping a subset of a very large library\n",
    "\n",
    "Sometimes, for a very large library, only a subset of available *C++* components is useful for end-users.\n",
    "Wrapping such libraries therefore requires **AutoWIG** to be able to consider only a subset of the *C++* components during the `Generate` step.\n",
    "The **Clang** library is a complete *C*/*C++* compiler.\n",
    "**Clang** is a great tool, but its stable *Python* interface (i.e. **libclang**) is lacking some useful features that are needed by **AutoWIG**.\n",
    "In particular, class template specializations are not available in the abstract syntax tree.\n",
    "Fortunately, most of the classes that would be needed during the traversal of the *C++* abstract syntax tree are not template specializations.\n",
    "We therefore proposed to bootstrap the **Clang** *Python* bindings using the `libclang` `parser` of **AutoWIG**.\n",
    "This new **Clang** *Python* interface is called **PyClangLite** and is able to parse class template specializations.\n",
    "As for **libclang**, this interface is proposed only for a subset of the **Clang** library sufficient enough for proposing the new `pyclanglite` `parser`.\n",
    "\n",
    "First, ensure that the **LLVM**/**Clang** technologies are installed on your computer and if there were built with `RTTI`."
   ]
  },
  {
   "cell_type": "code",
   "execution_count": 1,
   "metadata": {
    "collapsed": false
   },
   "outputs": [],
   "source": [
    "import subprocess\n",
    "subprocess.check_call([\"llvm-config\", \"--version\"])\n",
    "subprocess.check_call(['clang++', '--version'])\n",
    "if not subprocess.check_output([\"llvm-config\", \"--has-rtti\"]).strip() == 'YES':\n",
    "    raise Exception('LLVM and Clang libraries have not been built with RTTI')"
   ]
  },
  {
   "cell_type": "markdown",
   "metadata": {},
   "source": [
    "Note that these techonologies must be installed using the current system prefix"
   ]
  },
  {
   "cell_type": "code",
   "execution_count": 2,
   "metadata": {
    "collapsed": false
   },
   "outputs": [],
   "source": [
    "import sys\n",
    "from path import path\n",
    "prefix = path(sys.prefix).abspath()\n",
    "if not prefix == subprocess.check_output([\"llvm-config\", \"--prefix\"]).strip():\n",
    "    raise Exception('LLVM and Clang libraries have not been built with the \\'' + prefix + '\\' prefix')"
   ]
  },
  {
   "cell_type": "markdown",
   "metadata": {},
   "source": [
    "In the following we will use **SCons** software construction tool for compiling *C++* libraries and their *Python* bindings.\n",
    "This software is installed with the **Conda** package management system."
   ]
  },
  {
   "cell_type": "code",
   "execution_count": 3,
   "metadata": {
    "collapsed": false
   },
   "outputs": [
    {
     "name": "stdout",
     "output_type": "stream",
     "text": [
      "Fetching package metadata .........\n",
      "Solving package specifications: ..........\n",
      "\n",
      "Package plan for installation in environment /home/main/miniconda:\n",
      "\n",
      "The following packages will be downloaded:\n",
      "\n",
      "    package                    |            build\n",
      "    ---------------------------|-----------------\n",
      "    python-scons-2.5.0         |           py27_0         739 KB  statiskit\n",
      "\n",
      "The following NEW packages will be INSTALLED:\n",
      "\n",
      "    python-scons: 2.5.0-py27_0 statiskit\n",
      "\n",
      "Fetching packages ...\n",
      "python-scons-2 100% |###############################| Time: 0:00:01 686.77 kB/s\r\n",
      "Extracting packages ...\n",
      "[      COMPLETE      ]|##################################################| 100%\r\n",
      "Linking packages ...\n",
      "[      COMPLETE      ]|##################################################| 100%\r\n"
     ]
    },
    {
     "name": "stderr",
     "output_type": "stream",
     "text": [
      "Using Anaconda API: https://api.anaconda.org\n"
     ]
    }
   ],
   "source": [
    "%%bash\n",
    "conda install python-scons -c statiskit"
   ]
  },
  {
   "cell_type": "markdown",
   "metadata": {},
   "source": [
    "The **PyClangLite** GitHub repository must be cloned into the **PyClangLite** directory."
   ]
  },
  {
   "cell_type": "code",
   "execution_count": 4,
   "metadata": {
    "collapsed": false
   },
   "outputs": [
    {
     "name": "stderr",
     "output_type": "stream",
     "text": [
      "Cloning into 'PyClangLite'...\n"
     ]
    }
   ],
   "source": [
    "%%bash\n",
    "git clone https://github.com/StatisKit/PyClangLite.git"
   ]
  },
  {
   "cell_type": "markdown",
   "metadata": {},
   "source": [
    "This repository already has wrappers, we therefore need to remove them."
   ]
  },
  {
   "cell_type": "code",
   "execution_count": 5,
   "metadata": {
    "collapsed": false
   },
   "outputs": [],
   "source": [
    "srcdir = path('PyClangLite')/'src'/'py'\n",
    "for wrapper in srcdir.walkfiles('*.cpp'):\n",
    "    wrapper.unlink()\n",
    "for wrapper in srcdir.walkfiles('*.h'):\n",
    "    wrapper.unlink()\n",
    "wrapper = srcdir/'clanglite'/'_clanglite.py'\n",
    "if wrapper.exists():\n",
    "    wrapper.unlink()"
   ]
  },
  {
   "cell_type": "markdown",
   "metadata": {},
   "source": [
    "In addition to the **Clang** libraries, the **ClangLite** library is needed in order to have access to some functionalities.\n",
    "The `tool.h` header of this **ClangLite** library includes all necessary **Clang** headers.\n",
    "This library is installed using the **SCons** `cpp`  target."
   ]
  },
  {
   "cell_type": "code",
   "execution_count": 6,
   "metadata": {
    "collapsed": false,
    "scrolled": true
   },
   "outputs": [
    {
     "name": "stdout",
     "output_type": "stream",
     "text": [
      "scons: Entering directory `/home/main/AutoWIG/doc/examples/PyClangLite'\n",
      "scons: Reading SConscript files ...\n",
      "scons: done reading SConscript files.\n",
      "scons: Building targets ...\n",
      "Install file: \"build/cpp/tool.h\" as \"/home/main/miniconda/include/clanglite/tool.h\"\n",
      "g++ -o build/cpp/tool.os -c -std=c++0x -fvisibility-inlines-hidden -ffunction-sections -fdata-sections -Wno-deprecated-declarations -fPIC -DBOOST_PYTHON_DYNAMIC_LIB -D_GNU_SOURCE -D__STDC_CONSTANT_MACROS -D__STDC_FORMAT_MACROS -D__STDC_LIMIT_MACROS -I/home/main/miniconda/include -I/home/main/miniconda/include/python2.7 build/cpp/tool.cpp\n",
      "g++ -o /home/main/miniconda/lib/libclanglite.so -shared build/cpp/tool.os -L/home/main/miniconda/lib -lboost_python -lpython2.7 -lclangIndex -lclangARCMigrate -lclangRewriteFrontend -lclangFormat -lclangTooling -lclangToolingCore -lclangFrontend -lclangDriver -lclangSerialization -lclangParse -lclangSema -lclangStaticAnalyzerCheckers -lclangStaticAnalyzerCore -lclangRewrite -lclangAnalysis -lclangEdit -lclangASTMatchers -lclangAST -lclangLex -lclangBasic -lLLVMInterpreter -lLLVMTableGen -lLLVMMIRParser -lLLVMDebugInfoCodeView -lLLVMXCoreDisassembler -lLLVMXCoreCodeGen -lLLVMXCoreDesc -lLLVMXCoreInfo -lLLVMXCoreAsmPrinter -lLLVMSystemZDisassembler -lLLVMSystemZCodeGen -lLLVMSystemZAsmParser -lLLVMSystemZDesc -lLLVMSystemZInfo -lLLVMSystemZAsmPrinter -lLLVMSparcDisassembler -lLLVMSparcCodeGen -lLLVMSparcAsmParser -lLLVMSparcDesc -lLLVMSparcInfo -lLLVMSparcAsmPrinter -lLLVMPowerPCDisassembler -lLLVMPowerPCCodeGen -lLLVMPowerPCAsmParser -lLLVMPowerPCDesc -lLLVMPowerPCInfo -lLLVMPowerPCAsmPrinter -lLLVMNVPTXCodeGen -lLLVMNVPTXDesc -lLLVMNVPTXInfo -lLLVMNVPTXAsmPrinter -lLLVMMSP430CodeGen -lLLVMMSP430Desc -lLLVMMSP430Info -lLLVMMSP430AsmPrinter -lLLVMMipsDisassembler -lLLVMMipsCodeGen -lLLVMMipsAsmParser -lLLVMMipsDesc -lLLVMMipsInfo -lLLVMMipsAsmPrinter -lLLVMHexagonDisassembler -lLLVMHexagonCodeGen -lLLVMHexagonAsmParser -lLLVMHexagonDesc -lLLVMHexagonInfo -lLLVMCppBackendCodeGen -lLLVMCppBackendInfo -lLLVMBPFCodeGen -lLLVMBPFDesc -lLLVMBPFInfo -lLLVMBPFAsmPrinter -lLLVMARMDisassembler -lLLVMARMCodeGen -lLLVMARMAsmParser -lLLVMARMDesc -lLLVMARMInfo -lLLVMARMAsmPrinter -lLLVMAMDGPUCodeGen -lLLVMAMDGPUAsmParser -lLLVMAMDGPUDesc -lLLVMAMDGPUUtils -lLLVMAMDGPUInfo -lLLVMAMDGPUAsmPrinter -lLLVMAArch64Disassembler -lLLVMAArch64CodeGen -lLLVMAArch64AsmParser -lLLVMAArch64Desc -lLLVMAArch64Info -lLLVMAArch64AsmPrinter -lLLVMAArch64Utils -lLLVMX86Disassembler -lLLVMX86AsmParser -lLLVMX86CodeGen -lLLVMSelectionDAG -lLLVMAsmPrinter -lLLVMX86Desc -lLLVMMCDisassembler -lLLVMX86Info -lLLVMX86AsmPrinter -lLLVMX86Utils -lLLVMMCJIT -lLLVMPasses -lLLVMLibDriver -lLLVMOption -lLLVMLTO -lLLVMObjCARCOpts -lLLVMipo -lLLVMVectorize -lLLVMLinker -lLLVMIRReader -lLLVMAsmParser -lLLVMCodeGen -lLLVMScalarOpts -lLLVMInstCombine -lLLVMInstrumentation -lLLVMProfileData -lLLVMBitWriter -lLLVMOrcJIT -lLLVMTransformUtils -lLLVMExecutionEngine -lLLVMTarget -lLLVMAnalysis -lLLVMRuntimeDyld -lLLVMLineEditor -lLLVMSymbolize -lLLVMDebugInfoPDB -lLLVMDebugInfoDWARF -lLLVMObject -lLLVMMCParser -lLLVMMC -lLLVMBitReader -lLLVMCore -lLLVMSupport -lrt -ldl -lpthread -lm\n",
      "scons: done building targets.\n"
     ]
    }
   ],
   "source": [
    "%%bash\n",
    "scons cpp -C PyClangLite"
   ]
  },
  {
   "cell_type": "markdown",
   "metadata": {},
   "source": [
    "Once these preliminaries done, we can proceed to the actual generation of wrappers for the **Clang** library.\n",
    "For this, we import **AutoWIG** and create an empty Abstract Semantic Graph (ASG)."
   ]
  },
  {
   "cell_type": "code",
   "execution_count": 7,
   "metadata": {
    "collapsed": false
   },
   "outputs": [],
   "source": [
    "import autowig\n",
    "asg = autowig.AbstractSemanticGraph()"
   ]
  },
  {
   "cell_type": "markdown",
   "metadata": {},
   "source": [
    "We then parse the `tool.h` header of the **ClangLite** library with relevant compilation flags."
   ]
  },
  {
   "cell_type": "code",
   "execution_count": 8,
   "metadata": {
    "collapsed": false,
    "scrolled": true
   },
   "outputs": [
    {
     "name": "stdout",
     "output_type": "stream",
     "text": [
      "CPU times: user 2min 15s, sys: 396 ms, total: 2min 15s\n",
      "Wall time: 2min 15s\n"
     ]
    }
   ],
   "source": [
    "%%time\n",
    "autowig.parser.plugin = 'libclang'\n",
    "asg = autowig.parser(asg, [prefix/'include'/'clanglite'/'tool.h'],\n",
    "               flags = ['-x', 'c++', '-std=c++11',\n",
    "                        '-D__STDC_LIMIT_MACROS',\n",
    "                        '-D__STDC_CONSTANT_MACROS',\n",
    "                        '-I' + str((prefix/'include').abspath())],\n",
    "               libpath = prefix/'lib'/'libclang.so',\n",
    "               bootstrap = False,\n",
    "               silent = True)"
   ]
  },
  {
   "cell_type": "markdown",
   "metadata": {},
   "source": [
    "Since most of **AutoWIG** guidelines are respected in the **Clang** library, the `default` `controller` implementation could be suitable.\n",
    "Nevertheless, we need to force some *C++* components to be wrapped or not.\n",
    "We therefore implements a new `controller`."
   ]
  },
  {
   "cell_type": "code",
   "execution_count": 9,
   "metadata": {
    "collapsed": false
   },
   "outputs": [],
   "source": [
    "def clanglite_controller(asg):\n",
    "    \n",
    "    for node in asg['::boost::python'].classes(nested = True):\n",
    "        node.is_copyable = True\n",
    "        \n",
    "    for node in asg.classes():\n",
    "        node.boost_python_export = False\n",
    "    for node in asg.enumerations():\n",
    "        node.boost_python_export = False\n",
    "    for node in asg.enumerators():\n",
    "        if node.parent.boost_python_export:\n",
    "            node.boost_python_export = False\n",
    "    for node in asg.typedefs():\n",
    "        node.boost_python_export = False\n",
    "            \n",
    "    from autowig.default_controller import refactoring\n",
    "    asg = refactoring(asg)\n",
    "    for fct in asg['::clanglite'].functions():\n",
    "        if not fct.localname == 'build_ast_from_code_with_args':\n",
    "            fct.parent = fct.parameters[0].qualified_type.desugared_type.unqualified_type\n",
    "            \n",
    "    for node in asg.functions(free = True):\n",
    "        node.boost_python_export = False\n",
    "    for node in asg.variables(free = True):\n",
    "        node.boost_python_export = False\n",
    "    \n",
    "    asg['class ::boost::python::api::object'].boost_python_export = True\n",
    "    asg['class ::boost::python::list'].boost_python_export = True \n",
    "    asg['class ::boost::python::str'].boost_python_export = True \n",
    "\n",
    "    subset = []\n",
    "    classes = [asg['class ::clang::QualType'],\n",
    "               asg['class ::clang::Type'],\n",
    "               asg['class ::clang::Decl']]\n",
    "    asg['class ::clang::QualType'].is_abstract = False\n",
    "    asg['class ::clang::QualType'].is_copyable = True\n",
    "    subset += classes\n",
    "    for cls in classes:\n",
    "        subset += cls.subclasses(recursive=True)\n",
    "    subset.append(asg['class ::llvm::StringRef'])\n",
    "    asg['class ::llvm::StringRef'].is_abstract = False\n",
    "    asg['class ::llvm::StringRef'].is_copyable = True\n",
    "    subset.append(asg['class ::clang::ASTUnit'])\n",
    "    subset.append(asg['class ::clang::ASTContext'])\n",
    "    subset.append(asg['class ::clang::SourceManager'])\n",
    "    for mtd in asg['class ::clang::ASTContext'].methods(pattern='.*getSourceManager.*'):\n",
    "        if mtd.return_type.globalname == 'class ::clang::SourceManager &':\n",
    "                mtd.boost_python_export = True\n",
    "                break\n",
    "    subset.append(asg['class ::clang::FileID'])\n",
    "    asg['class ::clang::FileID'].is_abstract = False\n",
    "    asg['class ::clang::FileID'].is_copyable = True\n",
    "    subset.append(asg['class ::clang::SourceLocation'])\n",
    "    asg['class ::clang::SourceLocation'].is_abstract = False\n",
    "    asg['class ::clang::SourceLocation'].is_copyable = True\n",
    "    subset.append(asg['class ::clang::CXXBaseSpecifier'])\n",
    "    subset.append(asg['class ::clang::DeclContext'])\n",
    "    subset.append(asg['class ::clang::TemplateArgument'])\n",
    "    asg['class ::clang::TemplateArgument'].is_abstract = False\n",
    "    asg['class ::clang::TemplateArgument'].is_copyable = True\n",
    "    subset.append(asg['class ::clang::TemplateArgumentList'])\n",
    "    subset.append(asg['enum ::clang::Type::TypeClass'])\n",
    "    subset.append(asg['enum ::clang::AccessSpecifier'])\n",
    "    subset.append(asg['enum ::clang::LinkageSpecDecl::LanguageIDs'])\n",
    "    subset.append(asg['enum ::clang::BuiltinType::Kind'])\n",
    "    subset.append(asg['enum ::clang::TemplateArgument::ArgKind'])\n",
    "    subset.append(asg['enum ::clang::Decl::Kind'])\n",
    "    subset.extend(asg['::boost::python'].classes(nested = True))\n",
    "    subset.extend(asg['::boost::python'].enumerations(nested = True))\n",
    "    subset.extend(asg.nodes('::clanglite::build_ast_from_code_with_args'))\n",
    "\n",
    "    for node in subset:\n",
    "        node.boost_python_export = True\n",
    "\n",
    "    if autowig.parser.plugin == 'libclang':\n",
    "        for node in (asg.functions(pattern='.*(llvm|clang).*_(begin|end)')\n",
    "                     + asg.functions(pattern='.*(llvm|clang).*getNameAsString')\n",
    "                     + asg.nodes('::clang::NamedDecl::getQualifiedNameAsString')\n",
    "                     + asg.nodes('::clang::ObjCProtocolDecl::collectInheritedProtocolProperties')\n",
    "                     + asg.nodes('::clang::ASTUnit::LoadFromASTFile')\n",
    "                     + asg.nodes('::clang::ASTUnit::getCachedCompletionTypes')\n",
    "                     + asg.nodes('::clang::ASTUnit::getBufferForFile')\n",
    "                     + asg.nodes('::clang::CXXRecordDecl::getCaptureFields')\n",
    "                     + asg.nodes('::clang::ASTContext::SectionInfos')\n",
    "                     + asg.nodes('::clang::ASTContext::getAllocator')\n",
    "                     + asg.nodes('::clang::ASTContext::getObjCEncoding.*')\n",
    "                     + asg.nodes('::clang::ASTContext::getAllocator')\n",
    "                     + asg.nodes('::clang::QualType::getAsString')\n",
    "                     + asg.nodes('::clang::SourceLocation::printToString')\n",
    "                     + asg['class ::llvm::StringRef'].methods()):\n",
    "            node.boost_python_export = False\n",
    "            \n",
    "    import sys\n",
    "    from path import path\n",
    "    for header in (path(sys.prefix)/'include'/'clang').walkfiles('*.h'):\n",
    "        asg[header.abspath()].is_external_dependency = False\n",
    "    \n",
    "    return asg"
   ]
  },
  {
   "cell_type": "markdown",
   "metadata": {},
   "source": [
    "This `controller` is then dynamically registered and used on the ASG."
   ]
  },
  {
   "cell_type": "code",
   "execution_count": 10,
   "metadata": {
    "collapsed": false
   },
   "outputs": [
    {
     "name": "stdout",
     "output_type": "stream",
     "text": [
      "CPU times: user 1min 45s, sys: 92 ms, total: 1min 45s\n",
      "Wall time: 1min 45s\n"
     ]
    }
   ],
   "source": [
    "%%time\n",
    "autowig.controller['clanglite'] = clanglite_controller\n",
    "autowig.controller.plugin = 'clanglite'\n",
    "asg = autowig.controller(asg)"
   ]
  },
  {
   "cell_type": "markdown",
   "metadata": {},
   "source": [
    "In order to wrap a subset of the **Clang** library, we need to select the `boost_python_internal` `generator` implementation."
   ]
  },
  {
   "cell_type": "code",
   "execution_count": 11,
   "metadata": {
    "collapsed": false
   },
   "outputs": [
    {
     "name": "stdout",
     "output_type": "stream",
     "text": [
      "CPU times: user 8.07 s, sys: 32 ms, total: 8.1 s\n",
      "Wall time: 8.07 s\n"
     ]
    }
   ],
   "source": [
    "%%time\n",
    "autowig.generator.plugin = 'boost_python_pattern'\n",
    "wrappers = autowig.generator(asg,\n",
    "                  module = srcdir/'_clanglite.cpp',\n",
    "                  decorator = srcdir/'clanglite'/'_clanglite.py',\n",
    "                  closure = False)"
   ]
  },
  {
   "cell_type": "markdown",
   "metadata": {},
   "source": [
    "The wrappers are only generated in-memory.\n",
    "It is therefore needed to write them on the disk to complete the process."
   ]
  },
  {
   "cell_type": "code",
   "execution_count": 12,
   "metadata": {
    "collapsed": false
   },
   "outputs": [
    {
     "name": "stdout",
     "output_type": "stream",
     "text": [
      "CPU times: user 39.9 s, sys: 60 ms, total: 39.9 s\n",
      "Wall time: 40.3 s\n"
     ]
    }
   ],
   "source": [
    "%%time\n",
    "wrappers.write()"
   ]
  },
  {
   "cell_type": "markdown",
   "metadata": {},
   "source": [
    "Here is an example of the generated wrappers.\n",
    "We here present the wrappers for the `clang::Decl` class."
   ]
  },
  {
   "cell_type": "code",
   "execution_count": 13,
   "metadata": {
    "collapsed": true
   },
   "outputs": [
    {
     "name": "stdout",
     "output_type": "stream",
     "text": [
      "\u001b[36m#\u001b[39;49;00m\u001b[36minclude\u001b[39;49;00m \u001b[37m\"_clanglite.h\"\u001b[39;49;00m\u001b[36m\u001b[39;49;00m\n",
      "\n",
      "\n",
      "\u001b[34mnamespace\u001b[39;49;00m autowig\n",
      "{\n",
      "}\n",
      "\n",
      "\n",
      "\u001b[36mvoid\u001b[39;49;00m wrapper_a6aedb4654a55a40aeecf4b1dc5fcc98()\n",
      "{\n",
      "\n",
      "    std::string name_7bbff48d109853e88270b3595c663a99 = boost::python::extract< std::string >(boost::python::scope().attr(\u001b[33m\"\u001b[39;49;00m\u001b[33m__name__\u001b[39;49;00m\u001b[33m\"\u001b[39;49;00m) + \u001b[33m\"\u001b[39;49;00m\u001b[33m.clang\u001b[39;49;00m\u001b[33m\"\u001b[39;49;00m);\n",
      "    boost::python::object module_7bbff48d109853e88270b3595c663a99(boost::python::handle<  >(boost::python::borrowed(PyImport_AddModule(name_7bbff48d109853e88270b3595c663a99.c_str()))));\n",
      "    boost::python::scope().attr(\u001b[33m\"\u001b[39;49;00m\u001b[33mclang\u001b[39;49;00m\u001b[33m\"\u001b[39;49;00m) = module_7bbff48d109853e88270b3595c663a99;\n",
      "    boost::python::scope scope_7bbff48d109853e88270b3595c663a99 = module_7bbff48d109853e88270b3595c663a99;\n",
      "    \u001b[36mvoid\u001b[39;49;00m  (*method_pointer_8288015051cf51e79f540a2c8e2b1aad)() = ::clang::Decl::EnableStatistics;\n",
      "    \u001b[36mvoid\u001b[39;49;00m  (*method_pointer_b31534bafe255e8bbda2ec6367431a21)() = ::clang::Decl::PrintStats;\n",
      "    \u001b[36mvoid\u001b[39;49;00m  (*method_pointer_7b0c40d02e2d580a89454b9f18884ddb)(\u001b[34menum\u001b[39;49;00m ::clang::Decl::Kind ) = ::clang::Decl::add;\n",
      "    \u001b[36mbool\u001b[39;49;00m  (::clang::Decl::*method_pointer_73f90d27df4352e4a017e4e0610a8681)(\u001b[36mbool\u001b[39;49;00m  &) \u001b[34mconst\u001b[39;49;00m = &::clang::Decl::canBeWeakImported;\n",
      "    \u001b[34mclass\u001b[39;49;00m \u001b[04m\u001b[31;01m:\u001b[39;49;00m\u001b[04m\u001b[31;01m:\u001b[39;49;00m\u001b[04m\u001b[32mclang\u001b[39;49;00m::Decl  * (*method_pointer_6336fa46a43e5cb88b5a1332df16e251)(\u001b[34mclass\u001b[39;49;00m \u001b[04m\u001b[31;01m:\u001b[39;49;00m\u001b[04m\u001b[31;01m:\u001b[39;49;00m\u001b[04m\u001b[32mclang\u001b[39;49;00m::DeclContext  \u001b[34mconst\u001b[39;49;00m *) = ::clang::Decl::castFromDeclContext;\n",
      "    \u001b[34mclass\u001b[39;49;00m \u001b[04m\u001b[31;01m:\u001b[39;49;00m\u001b[04m\u001b[31;01m:\u001b[39;49;00m\u001b[04m\u001b[32mclang\u001b[39;49;00m::DeclContext  * (*method_pointer_b4ae7f4f7c1d53b1a67b46db73109be1)(\u001b[34mclass\u001b[39;49;00m \u001b[04m\u001b[31;01m:\u001b[39;49;00m\u001b[04m\u001b[31;01m:\u001b[39;49;00m\u001b[04m\u001b[32mclang\u001b[39;49;00m::Decl  \u001b[34mconst\u001b[39;49;00m *) = ::clang::Decl::castToDeclContext;\n",
      "    \u001b[36mbool\u001b[39;49;00m  (*method_pointer_5752c3c81b9e58d3bdc35b4e925d1f25)(\u001b[34menum\u001b[39;49;00m ::clang::Decl::Kind ) = ::clang::Decl::classofKind;\n",
      "    \u001b[36mvoid\u001b[39;49;00m  (::clang::Decl::*method_pointer_b240a082560c5f92b44295a37f6247c3)() = &::clang::Decl::dropAttrs;\n",
      "    \u001b[36mvoid\u001b[39;49;00m  (::clang::Decl::*method_pointer_b1b3a958b5395bd79f624daa049250b8)() \u001b[34mconst\u001b[39;49;00m = &::clang::Decl::dump;\n",
      "    \u001b[36mvoid\u001b[39;49;00m  (::clang::Decl::*method_pointer_90795b0d45a857a187fbf6b9f6536fd2)() \u001b[34mconst\u001b[39;49;00m = &::clang::Decl::dumpColor;\n",
      "    \u001b[34mclass\u001b[39;49;00m \u001b[04m\u001b[31;01m:\u001b[39;49;00m\u001b[04m\u001b[31;01m:\u001b[39;49;00m\u001b[04m\u001b[32mclang\u001b[39;49;00m::ASTContext  & (::clang::Decl::*method_pointer_5779a4d9b2b65cd490a1c66b11a0087f)() \u001b[34mconst\u001b[39;49;00m = &::clang::Decl::getASTContext;\n",
      "    \u001b[34menum\u001b[39;49;00m ::clang::AccessSpecifier  (::clang::Decl::*method_pointer_8f6da73f27675e1a8067b510d226254e)() \u001b[34mconst\u001b[39;49;00m = &::clang::Decl::getAccess;\n",
      "    \u001b[34menum\u001b[39;49;00m ::clang::AccessSpecifier  (::clang::Decl::*method_pointer_6c6f7fedac1a5cd1ac44379ebbfa1396)() \u001b[34mconst\u001b[39;49;00m = &::clang::Decl::getAccessUnsafe;\n",
      "    \u001b[34mclass\u001b[39;49;00m \u001b[04m\u001b[31;01m:\u001b[39;49;00m\u001b[04m\u001b[31;01m:\u001b[39;49;00m\u001b[04m\u001b[32mclang\u001b[39;49;00m::FunctionDecl  * (::clang::Decl::*method_pointer_f6ab407a5f9f54f58306e9d0974b6e38)() = &::clang::Decl::getAsFunction;\n",
      "    \u001b[34mclass\u001b[39;49;00m \u001b[04m\u001b[31;01m:\u001b[39;49;00m\u001b[04m\u001b[31;01m:\u001b[39;49;00m\u001b[04m\u001b[32mclang\u001b[39;49;00m::FunctionDecl  \u001b[34mconst\u001b[39;49;00m * (::clang::Decl::*method_pointer_e783948e363058258ad79e45ed39659f)() \u001b[34mconst\u001b[39;49;00m = &::clang::Decl::getAsFunction;\n",
      "    \u001b[34mclass\u001b[39;49;00m \u001b[04m\u001b[31;01m:\u001b[39;49;00m\u001b[04m\u001b[31;01m:\u001b[39;49;00m\u001b[04m\u001b[32mclang\u001b[39;49;00m::SourceLocation  (::clang::Decl::*method_pointer_ae2cf8bc40ea5f23a17767b9ca04acd4)() \u001b[34mconst\u001b[39;49;00m = &::clang::Decl::getBodyRBrace;\n",
      "    \u001b[34mclass\u001b[39;49;00m \u001b[04m\u001b[31;01m:\u001b[39;49;00m\u001b[04m\u001b[31;01m:\u001b[39;49;00m\u001b[04m\u001b[32mclang\u001b[39;49;00m::Decl  \u001b[34mconst\u001b[39;49;00m * (::clang::Decl::*method_pointer_80bde7c2a2765301887db46a43721049)() \u001b[34mconst\u001b[39;49;00m = &::clang::Decl::getCanonicalDecl;\n",
      "    \u001b[34mclass\u001b[39;49;00m \u001b[04m\u001b[31;01m:\u001b[39;49;00m\u001b[04m\u001b[31;01m:\u001b[39;49;00m\u001b[04m\u001b[32mclang\u001b[39;49;00m::Decl  * (::clang::Decl::*method_pointer_4d8129855cb75195970d93ad0878bb7b)() = &::clang::Decl::getCanonicalDecl;\n",
      "    \u001b[34mclass\u001b[39;49;00m \u001b[04m\u001b[31;01m:\u001b[39;49;00m\u001b[04m\u001b[31;01m:\u001b[39;49;00m\u001b[04m\u001b[32mclang\u001b[39;49;00m::DeclContext  * (::clang::Decl::*method_pointer_b0750f954d8259f49d7236261e837e1e)() = &::clang::Decl::getDeclContext;\n",
      "    \u001b[34mclass\u001b[39;49;00m \u001b[04m\u001b[31;01m:\u001b[39;49;00m\u001b[04m\u001b[31;01m:\u001b[39;49;00m\u001b[04m\u001b[32mclang\u001b[39;49;00m::DeclContext  \u001b[34mconst\u001b[39;49;00m * (::clang::Decl::*method_pointer_308c148be2a05b6cb371a8afffdafd24)() \u001b[34mconst\u001b[39;49;00m = &::clang::Decl::getDeclContext;\n",
      "    \u001b[34mclass\u001b[39;49;00m \u001b[04m\u001b[31;01m:\u001b[39;49;00m\u001b[04m\u001b[31;01m:\u001b[39;49;00m\u001b[04m\u001b[32mclang\u001b[39;49;00m::FunctionType  \u001b[34mconst\u001b[39;49;00m * (::clang::Decl::*method_pointer_bc2e41106c6e576a8d63554a2c592fa7)(\u001b[36mbool\u001b[39;49;00m ) \u001b[34mconst\u001b[39;49;00m = &::clang::Decl::getFunctionType;\n",
      "    \u001b[36munsigned\u001b[39;49;00m \u001b[32mint\u001b[39;49;00m  (::clang::Decl::*method_pointer_8ea7f7b985ea5f9a9b0c3bb6230a6101)() \u001b[34mconst\u001b[39;49;00m = &::clang::Decl::getGlobalID;\n",
      "    \u001b[36munsigned\u001b[39;49;00m \u001b[32mint\u001b[39;49;00m  (::clang::Decl::*method_pointer_27c41414138d53d3b6e7f4d31d191055)() \u001b[34mconst\u001b[39;49;00m = &::clang::Decl::getIdentifierNamespace;\n",
      "    \u001b[36munsigned\u001b[39;49;00m \u001b[32mint\u001b[39;49;00m  (*method_pointer_e79afb627fd857ef9a9bac86594aaef7)(\u001b[34menum\u001b[39;49;00m ::clang::Decl::Kind ) = ::clang::Decl::getIdentifierNamespaceForKind;\n",
      "    \u001b[34menum\u001b[39;49;00m ::clang::Decl::Kind  (::clang::Decl::*method_pointer_5937e9bb811d5ae7bd4a681eb6fd725d)() \u001b[34mconst\u001b[39;49;00m = &::clang::Decl::getKind;\n",
      "    \u001b[34mclass\u001b[39;49;00m \u001b[04m\u001b[31;01m:\u001b[39;49;00m\u001b[04m\u001b[31;01m:\u001b[39;49;00m\u001b[04m\u001b[32mclang\u001b[39;49;00m::DeclContext  * (::clang::Decl::*method_pointer_5060aa8c8c155679b483435a8b17456a)() = &::clang::Decl::getLexicalDeclContext;\n",
      "    \u001b[34mclass\u001b[39;49;00m \u001b[04m\u001b[31;01m:\u001b[39;49;00m\u001b[04m\u001b[31;01m:\u001b[39;49;00m\u001b[04m\u001b[32mclang\u001b[39;49;00m::DeclContext  \u001b[34mconst\u001b[39;49;00m * (::clang::Decl::*method_pointer_9fef947b89df5ae19370545b15a935e6)() \u001b[34mconst\u001b[39;49;00m = &::clang::Decl::getLexicalDeclContext;\n",
      "    \u001b[34mclass\u001b[39;49;00m \u001b[04m\u001b[31;01m:\u001b[39;49;00m\u001b[04m\u001b[31;01m:\u001b[39;49;00m\u001b[04m\u001b[32mclang\u001b[39;49;00m::SourceLocation  (::clang::Decl::*method_pointer_8615f5b61d3d5f6abca1fec83f653971)() \u001b[34mconst\u001b[39;49;00m = &::clang::Decl::getLocEnd;\n",
      "    \u001b[34mclass\u001b[39;49;00m \u001b[04m\u001b[31;01m:\u001b[39;49;00m\u001b[04m\u001b[31;01m:\u001b[39;49;00m\u001b[04m\u001b[32mclang\u001b[39;49;00m::SourceLocation  (::clang::Decl::*method_pointer_b2d56fdab8755d378dccb375b5567f55)() \u001b[34mconst\u001b[39;49;00m = &::clang::Decl::getLocStart;\n",
      "    \u001b[34mclass\u001b[39;49;00m \u001b[04m\u001b[31;01m:\u001b[39;49;00m\u001b[04m\u001b[31;01m:\u001b[39;49;00m\u001b[04m\u001b[32mclang\u001b[39;49;00m::SourceLocation  (::clang::Decl::*method_pointer_8a0e9b759cf95bd180500e4c42c67a67)() \u001b[34mconst\u001b[39;49;00m = &::clang::Decl::getLocation;\n",
      "    \u001b[36munsigned\u001b[39;49;00m \u001b[32mint\u001b[39;49;00m  (::clang::Decl::*method_pointer_af6a9363aeae5e9b9776b7620ff069e3)() \u001b[34mconst\u001b[39;49;00m = &::clang::Decl::getMaxAlignment;\n",
      "    \u001b[34mclass\u001b[39;49;00m \u001b[04m\u001b[31;01m:\u001b[39;49;00m\u001b[04m\u001b[31;01m:\u001b[39;49;00m\u001b[04m\u001b[32mclang\u001b[39;49;00m::Decl  \u001b[34mconst\u001b[39;49;00m * (::clang::Decl::*method_pointer_c8250f60742f5c95becd6ad2fc380d47)() \u001b[34mconst\u001b[39;49;00m = &::clang::Decl::getMostRecentDecl;\n",
      "    \u001b[34mclass\u001b[39;49;00m \u001b[04m\u001b[31;01m:\u001b[39;49;00m\u001b[04m\u001b[31;01m:\u001b[39;49;00m\u001b[04m\u001b[32mclang\u001b[39;49;00m::Decl  * (::clang::Decl::*method_pointer_7fc9b64d83ac5e509885f26aef335193)() = &::clang::Decl::getMostRecentDecl;\n",
      "    \u001b[34mclass\u001b[39;49;00m \u001b[04m\u001b[31;01m:\u001b[39;49;00m\u001b[04m\u001b[31;01m:\u001b[39;49;00m\u001b[04m\u001b[32mclang\u001b[39;49;00m::Decl  \u001b[34mconst\u001b[39;49;00m * (::clang::Decl::*method_pointer_4ad95fce17df5fb0a5333e9a3dcb23a8)() \u001b[34mconst\u001b[39;49;00m = &::clang::Decl::getNextDeclInContext;\n",
      "    \u001b[34mclass\u001b[39;49;00m \u001b[04m\u001b[31;01m:\u001b[39;49;00m\u001b[04m\u001b[31;01m:\u001b[39;49;00m\u001b[04m\u001b[32mclang\u001b[39;49;00m::Decl  * (::clang::Decl::*method_pointer_8a902b0e0767575ab6e264f00fc2b98c)() = &::clang::Decl::getNextDeclInContext;\n",
      "    \u001b[34mclass\u001b[39;49;00m \u001b[04m\u001b[31;01m:\u001b[39;49;00m\u001b[04m\u001b[31;01m:\u001b[39;49;00m\u001b[04m\u001b[32mclang\u001b[39;49;00m::Decl  * (::clang::Decl::*method_pointer_6088444b3ccd50338740e8243dd22283)() = &::clang::Decl::getNonClosureContext;\n",
      "    \u001b[34mclass\u001b[39;49;00m \u001b[04m\u001b[31;01m:\u001b[39;49;00m\u001b[04m\u001b[31;01m:\u001b[39;49;00m\u001b[04m\u001b[32mclang\u001b[39;49;00m::Decl  \u001b[34mconst\u001b[39;49;00m * (::clang::Decl::*method_pointer_8e1e39c6355254a6a7c2d08322e7fd89)() \u001b[34mconst\u001b[39;49;00m = &::clang::Decl::getNonClosureContext;\n",
      "    \u001b[36munsigned\u001b[39;49;00m \u001b[32mint\u001b[39;49;00m  (::clang::Decl::*method_pointer_94df7ad6b69a54e2a63ad282149a5e35)() \u001b[34mconst\u001b[39;49;00m = &::clang::Decl::getOwningModuleID;\n",
      "    \u001b[34mclass\u001b[39;49;00m \u001b[04m\u001b[31;01m:\u001b[39;49;00m\u001b[04m\u001b[31;01m:\u001b[39;49;00m\u001b[04m\u001b[32mclang\u001b[39;49;00m::DeclContext  \u001b[34mconst\u001b[39;49;00m * (::clang::Decl::*method_pointer_f85e4a425ba25e20be7bd85bd22d3cd4)() \u001b[34mconst\u001b[39;49;00m = &::clang::Decl::getParentFunctionOrMethod;\n",
      "    \u001b[34mclass\u001b[39;49;00m \u001b[04m\u001b[31;01m:\u001b[39;49;00m\u001b[04m\u001b[31;01m:\u001b[39;49;00m\u001b[04m\u001b[32mclang\u001b[39;49;00m::DeclContext  * (::clang::Decl::*method_pointer_1659be62e9e8594abb0a40610d239ae0)() = &::clang::Decl::getParentFunctionOrMethod;\n",
      "    \u001b[34mclass\u001b[39;49;00m \u001b[04m\u001b[31;01m:\u001b[39;49;00m\u001b[04m\u001b[31;01m:\u001b[39;49;00m\u001b[04m\u001b[32mclang\u001b[39;49;00m::Decl  * (::clang::Decl::*method_pointer_6ca7d28f6d1152bfa770c5628937d9c2)() = &::clang::Decl::getPreviousDecl;\n",
      "    \u001b[34mclass\u001b[39;49;00m \u001b[04m\u001b[31;01m:\u001b[39;49;00m\u001b[04m\u001b[31;01m:\u001b[39;49;00m\u001b[04m\u001b[32mclang\u001b[39;49;00m::Decl  \u001b[34mconst\u001b[39;49;00m * (::clang::Decl::*method_pointer_473c1012fca55a4b8c4eed18475efed5)() \u001b[34mconst\u001b[39;49;00m = &::clang::Decl::getPreviousDecl;\n",
      "    \u001b[34mclass\u001b[39;49;00m \u001b[04m\u001b[31;01m:\u001b[39;49;00m\u001b[04m\u001b[31;01m:\u001b[39;49;00m\u001b[04m\u001b[32mclang\u001b[39;49;00m::TranslationUnitDecl  * (::clang::Decl::*method_pointer_1a9e3289af595ee9824e8baea1a9a92a)() = &::clang::Decl::getTranslationUnitDecl;\n",
      "    \u001b[34mclass\u001b[39;49;00m \u001b[04m\u001b[31;01m:\u001b[39;49;00m\u001b[04m\u001b[31;01m:\u001b[39;49;00m\u001b[04m\u001b[32mclang\u001b[39;49;00m::TranslationUnitDecl  \u001b[34mconst\u001b[39;49;00m * (::clang::Decl::*method_pointer_59cd036310545a90b3465fefeeab9d4d)() \u001b[34mconst\u001b[39;49;00m = &::clang::Decl::getTranslationUnitDecl;\n",
      "    \u001b[36mbool\u001b[39;49;00m  (::clang::Decl::*method_pointer_90d8725fc46d5b0aba87ad0f3a21827b)() \u001b[34mconst\u001b[39;49;00m = &::clang::Decl::hasAttrs;\n",
      "    \u001b[36mbool\u001b[39;49;00m  (::clang::Decl::*method_pointer_eb9798fbe2885b31aed2b3786cb67de4)() \u001b[34mconst\u001b[39;49;00m = &::clang::Decl::hasBody;\n",
      "    \u001b[36mbool\u001b[39;49;00m  (::clang::Decl::*method_pointer_73a7c2a834db5e929e5c2c049bbcf39e)() \u001b[34mconst\u001b[39;49;00m = &::clang::Decl::hasTagIdentifierNamespace;\n",
      "    \u001b[36mbool\u001b[39;49;00m  (::clang::Decl::*method_pointer_c78b24d0fb8d5648921e1e771a876f7e)() \u001b[34mconst\u001b[39;49;00m = &::clang::Decl::isCanonicalDecl;\n",
      "    \u001b[36mbool\u001b[39;49;00m  (::clang::Decl::*method_pointer_aabd2573912b5f01850619f5fec6e937)() \u001b[34mconst\u001b[39;49;00m = &::clang::Decl::isDefinedOutsideFunctionOrMethod;\n",
      "    \u001b[36mbool\u001b[39;49;00m  (::clang::Decl::*method_pointer_0c231c36928759bb896d1a1a1de36600)() \u001b[34mconst\u001b[39;49;00m = &::clang::Decl::isFirstDecl;\n",
      "    \u001b[36mbool\u001b[39;49;00m  (::clang::Decl::*method_pointer_87beef1edc0752208e4baab18e6e483a)() \u001b[34mconst\u001b[39;49;00m = &::clang::Decl::isFromASTFile;\n",
      "    \u001b[36mbool\u001b[39;49;00m  (::clang::Decl::*method_pointer_031f05307af155cdbd486d68f3c5a905)() \u001b[34mconst\u001b[39;49;00m = &::clang::Decl::isFunctionOrFunctionTemplate;\n",
      "    \u001b[36mbool\u001b[39;49;00m  (::clang::Decl::*method_pointer_1a14d1befa675895ba4e5c3202df8e40)() \u001b[34mconst\u001b[39;49;00m = &::clang::Decl::isImplicit;\n",
      "    \u001b[36mbool\u001b[39;49;00m  (::clang::Decl::*method_pointer_354f730376725348a6fdfa290c8c41d6)() \u001b[34mconst\u001b[39;49;00m = &::clang::Decl::isInAnonymousNamespace;\n",
      "    \u001b[36mbool\u001b[39;49;00m  (::clang::Decl::*method_pointer_9a3c930395bb53e5a4dece1272a71d5b)(\u001b[36munsigned\u001b[39;49;00m \u001b[36mint\u001b[39;49;00m ) \u001b[34mconst\u001b[39;49;00m = &::clang::Decl::isInIdentifierNamespace;\n",
      "    \u001b[36mbool\u001b[39;49;00m  (::clang::Decl::*method_pointer_86e17c09e5475a45928437cc01f4e9d0)() \u001b[34mconst\u001b[39;49;00m = &::clang::Decl::isInStdNamespace;\n",
      "    \u001b[36mbool\u001b[39;49;00m  (::clang::Decl::*method_pointer_e8eb4150604558fcbf6968f5e8ea3fa7)() \u001b[34mconst\u001b[39;49;00m = &::clang::Decl::isInvalidDecl;\n",
      "    \u001b[36mbool\u001b[39;49;00m  (::clang::Decl::*method_pointer_b04056f5f2e75358b1a18c6cc7234d2f)() \u001b[34mconst\u001b[39;49;00m = &::clang::Decl::isLexicallyWithinFunctionOrMethod;\n",
      "    \u001b[36mbool\u001b[39;49;00m  (::clang::Decl::*method_pointer_4ac7151777e55396a48877bd2ca86a24)() = &::clang::Decl::isLocalExternDecl;\n",
      "    \u001b[36mbool\u001b[39;49;00m  (::clang::Decl::*method_pointer_3ca59a27f2145025901f99e6d61673c0)() \u001b[34mconst\u001b[39;49;00m = &::clang::Decl::isModulePrivate;\n",
      "    \u001b[36mbool\u001b[39;49;00m  (::clang::Decl::*method_pointer_7d3f6bd5435a5218a03b0bb9673421da)() \u001b[34mconst\u001b[39;49;00m = &::clang::Decl::isOutOfLine;\n",
      "    \u001b[36mbool\u001b[39;49;00m  (::clang::Decl::*method_pointer_dba54761fc455f26951d103ebb78c493)() \u001b[34mconst\u001b[39;49;00m = &::clang::Decl::isParameterPack;\n",
      "    \u001b[36mbool\u001b[39;49;00m  (::clang::Decl::*method_pointer_78e0ccf47cb95cd686836d0a8d11cec7)() \u001b[34mconst\u001b[39;49;00m = &::clang::Decl::isReferenced;\n",
      "    \u001b[36mbool\u001b[39;49;00m  (*method_pointer_8065bafd3dcb54c69a0f4ded6be94f20)(\u001b[36munsigned\u001b[39;49;00m \u001b[36mint\u001b[39;49;00m ) = ::clang::Decl::isTagIdentifierNamespace;\n",
      "    \u001b[36mbool\u001b[39;49;00m  (::clang::Decl::*method_pointer_fbc622307f89543ba532c72acc66dfe4)() \u001b[34mconst\u001b[39;49;00m = &::clang::Decl::isTemplateDecl;\n",
      "    \u001b[36mbool\u001b[39;49;00m  (::clang::Decl::*method_pointer_39e28632b220580f974b300e12cddf88)() \u001b[34mconst\u001b[39;49;00m = &::clang::Decl::isTemplateParameter;\n",
      "    \u001b[36mbool\u001b[39;49;00m  (::clang::Decl::*method_pointer_40c0269a3e4e5aaf90ad512da2629c38)() \u001b[34mconst\u001b[39;49;00m = &::clang::Decl::isTemplateParameterPack;\n",
      "    \u001b[36mbool\u001b[39;49;00m  (::clang::Decl::*method_pointer_d57e02b85ad55d839b66b5fab165bd43)() \u001b[34mconst\u001b[39;49;00m = &::clang::Decl::isThisDeclarationReferenced;\n",
      "    \u001b[36mbool\u001b[39;49;00m  (::clang::Decl::*method_pointer_2e00644621c9538abcc3bf6cc56b91f2)() \u001b[34mconst\u001b[39;49;00m = &::clang::Decl::isTopLevelDeclInObjCContainer;\n",
      "    \u001b[36mbool\u001b[39;49;00m  (::clang::Decl::*method_pointer_80d416e3bbbe5fcd8c58e4c6ce148e15)(\u001b[36mbool\u001b[39;49;00m ) \u001b[34mconst\u001b[39;49;00m = &::clang::Decl::isUsed;\n",
      "    \u001b[36mbool\u001b[39;49;00m  (::clang::Decl::*method_pointer_001deaade68a502e9d722040233e5299)() \u001b[34mconst\u001b[39;49;00m = &::clang::Decl::isWeakImported;\n",
      "    \u001b[36mvoid\u001b[39;49;00m  (::clang::Decl::*method_pointer_b2c58c81ffee5fa7ab7efd1e92d37f64)(\u001b[34mclass\u001b[39;49;00m \u001b[04m\u001b[31;01m:\u001b[39;49;00m\u001b[04m\u001b[31;01m:\u001b[39;49;00m\u001b[04m\u001b[32mclang\u001b[39;49;00m::ASTContext  &) = &::clang::Decl::markUsed;\n",
      "    \u001b[36mvoid\u001b[39;49;00m  (::clang::Decl::*method_pointer_71ec851e2efd58e0b2781d554d8d95f1)(\u001b[34menum\u001b[39;49;00m ::clang::AccessSpecifier ) = &::clang::Decl::setAccess;\n",
      "    \u001b[36mvoid\u001b[39;49;00m  (::clang::Decl::*method_pointer_e0e15c86c8f1553a80411870165cb8d0)(\u001b[34mclass\u001b[39;49;00m \u001b[04m\u001b[31;01m:\u001b[39;49;00m\u001b[04m\u001b[31;01m:\u001b[39;49;00m\u001b[04m\u001b[32mclang\u001b[39;49;00m::DeclContext  *) = &::clang::Decl::setDeclContext;\n",
      "    \u001b[36mvoid\u001b[39;49;00m  (::clang::Decl::*method_pointer_f7f1f0459727519aac61b959f91d8a2e)(\u001b[36mbool\u001b[39;49;00m ) = &::clang::Decl::setImplicit;\n",
      "    \u001b[36mvoid\u001b[39;49;00m  (::clang::Decl::*method_pointer_f6c04b5fc9a8534cbee7c61f1c8cb967)(\u001b[36mbool\u001b[39;49;00m ) = &::clang::Decl::setInvalidDecl;\n",
      "    \u001b[36mvoid\u001b[39;49;00m  (::clang::Decl::*method_pointer_41886f45087858bfab6e7c4b61f6fff5)() = &::clang::Decl::setIsUsed;\n",
      "    \u001b[36mvoid\u001b[39;49;00m  (::clang::Decl::*method_pointer_cee9fb2fabdb59349c02e55a7059ed50)(\u001b[34mclass\u001b[39;49;00m \u001b[04m\u001b[31;01m:\u001b[39;49;00m\u001b[04m\u001b[31;01m:\u001b[39;49;00m\u001b[04m\u001b[32mclang\u001b[39;49;00m::DeclContext  *) = &::clang::Decl::setLexicalDeclContext;\n",
      "    \u001b[36mvoid\u001b[39;49;00m  (::clang::Decl::*method_pointer_08a0cad6a94f5d3994f89a53ecc575f5)() = &::clang::Decl::setLocalExternDecl;\n",
      "    \u001b[36mvoid\u001b[39;49;00m  (::clang::Decl::*method_pointer_6627ed002330523b8946749a7ed2dd87)(\u001b[34mclass\u001b[39;49;00m \u001b[04m\u001b[31;01m:\u001b[39;49;00m\u001b[04m\u001b[31;01m:\u001b[39;49;00m\u001b[04m\u001b[32mclang\u001b[39;49;00m::SourceLocation ) = &::clang::Decl::setLocation;\n",
      "    \u001b[36mvoid\u001b[39;49;00m  (::clang::Decl::*method_pointer_6ad554a6ebd15b298d284046a5fb010c)() = &::clang::Decl::setNonMemberOperator;\n",
      "    \u001b[36mvoid\u001b[39;49;00m  (::clang::Decl::*method_pointer_59bace9e77e25ab6932c4a8e767c6356)(\u001b[36mbool\u001b[39;49;00m ) = &::clang::Decl::setObjectOfFriendDecl;\n",
      "    \u001b[36mvoid\u001b[39;49;00m  (::clang::Decl::*method_pointer_3db2643674425073b982d0a1d9c96763)(\u001b[36mbool\u001b[39;49;00m ) = &::clang::Decl::setReferenced;\n",
      "    \u001b[36mvoid\u001b[39;49;00m  (::clang::Decl::*method_pointer_01b2f66cfc8b50a2a0d31aea9f1b776c)(\u001b[36mbool\u001b[39;49;00m ) = &::clang::Decl::setTopLevelDeclInObjCContainer;\n",
      "    \u001b[34mstruct\u001b[39;49;00m function_group\n",
      "    {\n",
      "        \u001b[34mstatic\u001b[39;49;00m \u001b[34mclass\u001b[39;49;00m \u001b[04m\u001b[31;01m:\u001b[39;49;00m\u001b[04m\u001b[31;01m:\u001b[39;49;00m\u001b[04m\u001b[32mboost\u001b[39;49;00m::python::str  function_e3dad76b13315bcba5c77dd5333856e1(\u001b[34mclass\u001b[39;49;00m \u001b[04m\u001b[31;01m:\u001b[39;49;00m\u001b[04m\u001b[31;01m:\u001b[39;49;00m\u001b[04m\u001b[32mclang\u001b[39;49;00m::Decl  * parameter_0)\n",
      "        { \u001b[34mreturn\u001b[39;49;00m ::clanglite::get_comment(parameter_0); }\n",
      "    };\n",
      "    boost::python::class_< \u001b[34mclass\u001b[39;49;00m \u001b[04m\u001b[31;01m:\u001b[39;49;00m\u001b[04m\u001b[31;01m:\u001b[39;49;00m\u001b[04m\u001b[32mclang\u001b[39;49;00m::Decl, autowig::HeldType< \u001b[34mclass\u001b[39;49;00m \u001b[04m\u001b[31;01m:\u001b[39;49;00m\u001b[04m\u001b[31;01m:\u001b[39;49;00m\u001b[04m\u001b[32mclang\u001b[39;49;00m::Decl >, boost::noncopyable > class_a6aedb4654a55a40aeecf4b1dc5fcc98(\u001b[33m\"\u001b[39;49;00m\u001b[33mDecl\u001b[39;49;00m\u001b[33m\"\u001b[39;49;00m, \u001b[33m\"\u001b[39;49;00m\u001b[33m\"\u001b[39;49;00m, boost::python::no_init);\n",
      "    class_a6aedb4654a55a40aeecf4b1dc5fcc98.def(\u001b[33m\"\u001b[39;49;00m\u001b[33menable_statistics\u001b[39;49;00m\u001b[33m\"\u001b[39;49;00m, method_pointer_8288015051cf51e79f540a2c8e2b1aad, \u001b[33m\"\u001b[39;49;00m\u001b[33m\"\u001b[39;49;00m);\n",
      "    class_a6aedb4654a55a40aeecf4b1dc5fcc98.def(\u001b[33m\"\u001b[39;49;00m\u001b[33mprint_stats\u001b[39;49;00m\u001b[33m\"\u001b[39;49;00m, method_pointer_b31534bafe255e8bbda2ec6367431a21, \u001b[33m\"\u001b[39;49;00m\u001b[33m\"\u001b[39;49;00m);\n",
      "    class_a6aedb4654a55a40aeecf4b1dc5fcc98.def(\u001b[33m\"\u001b[39;49;00m\u001b[33madd\u001b[39;49;00m\u001b[33m\"\u001b[39;49;00m, method_pointer_7b0c40d02e2d580a89454b9f18884ddb, \u001b[33m\"\u001b[39;49;00m\u001b[33m\"\u001b[39;49;00m);\n",
      "    class_a6aedb4654a55a40aeecf4b1dc5fcc98.def(\u001b[33m\"\u001b[39;49;00m\u001b[33mcan_be_weak_imported\u001b[39;49;00m\u001b[33m\"\u001b[39;49;00m, method_pointer_73f90d27df4352e4a017e4e0610a8681, \u001b[33m\"\u001b[39;49;00m\u001b[33m\"\u001b[39;49;00m);\n",
      "    class_a6aedb4654a55a40aeecf4b1dc5fcc98.def(\u001b[33m\"\u001b[39;49;00m\u001b[33mcast_from_decl_context\u001b[39;49;00m\u001b[33m\"\u001b[39;49;00m, method_pointer_6336fa46a43e5cb88b5a1332df16e251, boost::python::return_value_policy< boost::python::reference_existing_object >(), \u001b[33m\"\u001b[39;49;00m\u001b[33m\"\u001b[39;49;00m);\n",
      "    class_a6aedb4654a55a40aeecf4b1dc5fcc98.def(\u001b[33m\"\u001b[39;49;00m\u001b[33mcast_to_decl_context\u001b[39;49;00m\u001b[33m\"\u001b[39;49;00m, method_pointer_b4ae7f4f7c1d53b1a67b46db73109be1, boost::python::return_value_policy< boost::python::reference_existing_object >(), \u001b[33m\"\u001b[39;49;00m\u001b[33m\"\u001b[39;49;00m);\n",
      "    class_a6aedb4654a55a40aeecf4b1dc5fcc98.def(\u001b[33m\"\u001b[39;49;00m\u001b[33mclassof_kind\u001b[39;49;00m\u001b[33m\"\u001b[39;49;00m, method_pointer_5752c3c81b9e58d3bdc35b4e925d1f25, \u001b[33m\"\u001b[39;49;00m\u001b[33m\"\u001b[39;49;00m);\n",
      "    class_a6aedb4654a55a40aeecf4b1dc5fcc98.def(\u001b[33m\"\u001b[39;49;00m\u001b[33mdrop_attrs\u001b[39;49;00m\u001b[33m\"\u001b[39;49;00m, method_pointer_b240a082560c5f92b44295a37f6247c3, \u001b[33m\"\u001b[39;49;00m\u001b[33m\"\u001b[39;49;00m);\n",
      "    class_a6aedb4654a55a40aeecf4b1dc5fcc98.def(\u001b[33m\"\u001b[39;49;00m\u001b[33mdump\u001b[39;49;00m\u001b[33m\"\u001b[39;49;00m, method_pointer_b1b3a958b5395bd79f624daa049250b8, \u001b[33m\"\u001b[39;49;00m\u001b[33m\"\u001b[39;49;00m);\n",
      "    class_a6aedb4654a55a40aeecf4b1dc5fcc98.def(\u001b[33m\"\u001b[39;49;00m\u001b[33mdump_color\u001b[39;49;00m\u001b[33m\"\u001b[39;49;00m, method_pointer_90795b0d45a857a187fbf6b9f6536fd2, \u001b[33m\"\u001b[39;49;00m\u001b[33m\"\u001b[39;49;00m);\n",
      "    class_a6aedb4654a55a40aeecf4b1dc5fcc98.def(\u001b[33m\"\u001b[39;49;00m\u001b[33mget_ast_context\u001b[39;49;00m\u001b[33m\"\u001b[39;49;00m, method_pointer_5779a4d9b2b65cd490a1c66b11a0087f, boost::python::return_internal_reference<>(), \u001b[33m\"\u001b[39;49;00m\u001b[33m\"\u001b[39;49;00m);\n",
      "    class_a6aedb4654a55a40aeecf4b1dc5fcc98.def(\u001b[33m\"\u001b[39;49;00m\u001b[33mget_access\u001b[39;49;00m\u001b[33m\"\u001b[39;49;00m, method_pointer_8f6da73f27675e1a8067b510d226254e, \u001b[33m\"\u001b[39;49;00m\u001b[33m\"\u001b[39;49;00m);\n",
      "    class_a6aedb4654a55a40aeecf4b1dc5fcc98.def(\u001b[33m\"\u001b[39;49;00m\u001b[33mget_access_unsafe\u001b[39;49;00m\u001b[33m\"\u001b[39;49;00m, method_pointer_6c6f7fedac1a5cd1ac44379ebbfa1396, \u001b[33m\"\u001b[39;49;00m\u001b[33m\"\u001b[39;49;00m);\n",
      "    class_a6aedb4654a55a40aeecf4b1dc5fcc98.def(\u001b[33m\"\u001b[39;49;00m\u001b[33mget_as_function\u001b[39;49;00m\u001b[33m\"\u001b[39;49;00m, method_pointer_f6ab407a5f9f54f58306e9d0974b6e38, boost::python::return_value_policy< boost::python::reference_existing_object >(), \u001b[33m\"\u001b[39;49;00m\u001b[33m\"\u001b[39;49;00m);\n",
      "    class_a6aedb4654a55a40aeecf4b1dc5fcc98.def(\u001b[33m\"\u001b[39;49;00m\u001b[33mget_as_function\u001b[39;49;00m\u001b[33m\"\u001b[39;49;00m, method_pointer_e783948e363058258ad79e45ed39659f, boost::python::return_value_policy< boost::python::reference_existing_object >(), \u001b[33m\"\u001b[39;49;00m\u001b[33m\"\u001b[39;49;00m);\n",
      "    class_a6aedb4654a55a40aeecf4b1dc5fcc98.def(\u001b[33m\"\u001b[39;49;00m\u001b[33mget_body_r_brace\u001b[39;49;00m\u001b[33m\"\u001b[39;49;00m, method_pointer_ae2cf8bc40ea5f23a17767b9ca04acd4, \u001b[33m\"\u001b[39;49;00m\u001b[33m\"\u001b[39;49;00m);\n",
      "    class_a6aedb4654a55a40aeecf4b1dc5fcc98.def(\u001b[33m\"\u001b[39;49;00m\u001b[33mget_canonical_decl\u001b[39;49;00m\u001b[33m\"\u001b[39;49;00m, method_pointer_80bde7c2a2765301887db46a43721049, boost::python::return_value_policy< boost::python::reference_existing_object >(), \u001b[33m\"\u001b[39;49;00m\u001b[33m\"\u001b[39;49;00m);\n",
      "    class_a6aedb4654a55a40aeecf4b1dc5fcc98.def(\u001b[33m\"\u001b[39;49;00m\u001b[33mget_canonical_decl\u001b[39;49;00m\u001b[33m\"\u001b[39;49;00m, method_pointer_4d8129855cb75195970d93ad0878bb7b, boost::python::return_value_policy< boost::python::reference_existing_object >(), \u001b[33m\"\u001b[39;49;00m\u001b[33m\"\u001b[39;49;00m);\n",
      "    class_a6aedb4654a55a40aeecf4b1dc5fcc98.def(\u001b[33m\"\u001b[39;49;00m\u001b[33mget_decl_context\u001b[39;49;00m\u001b[33m\"\u001b[39;49;00m, method_pointer_b0750f954d8259f49d7236261e837e1e, boost::python::return_value_policy< boost::python::reference_existing_object >(), \u001b[33m\"\u001b[39;49;00m\u001b[33m\"\u001b[39;49;00m);\n",
      "    class_a6aedb4654a55a40aeecf4b1dc5fcc98.def(\u001b[33m\"\u001b[39;49;00m\u001b[33mget_decl_context\u001b[39;49;00m\u001b[33m\"\u001b[39;49;00m, method_pointer_308c148be2a05b6cb371a8afffdafd24, boost::python::return_value_policy< boost::python::reference_existing_object >(), \u001b[33m\"\u001b[39;49;00m\u001b[33m\"\u001b[39;49;00m);\n",
      "    class_a6aedb4654a55a40aeecf4b1dc5fcc98.def(\u001b[33m\"\u001b[39;49;00m\u001b[33mget_function_type\u001b[39;49;00m\u001b[33m\"\u001b[39;49;00m, method_pointer_bc2e41106c6e576a8d63554a2c592fa7, boost::python::return_value_policy< boost::python::reference_existing_object >(), \u001b[33m\"\u001b[39;49;00m\u001b[33m\"\u001b[39;49;00m);\n",
      "    class_a6aedb4654a55a40aeecf4b1dc5fcc98.def(\u001b[33m\"\u001b[39;49;00m\u001b[33mget_global_id\u001b[39;49;00m\u001b[33m\"\u001b[39;49;00m, method_pointer_8ea7f7b985ea5f9a9b0c3bb6230a6101, \u001b[33m\"\u001b[39;49;00m\u001b[33m\"\u001b[39;49;00m);\n",
      "    class_a6aedb4654a55a40aeecf4b1dc5fcc98.def(\u001b[33m\"\u001b[39;49;00m\u001b[33mget_identifier_namespace\u001b[39;49;00m\u001b[33m\"\u001b[39;49;00m, method_pointer_27c41414138d53d3b6e7f4d31d191055, \u001b[33m\"\u001b[39;49;00m\u001b[33m\"\u001b[39;49;00m);\n",
      "    class_a6aedb4654a55a40aeecf4b1dc5fcc98.def(\u001b[33m\"\u001b[39;49;00m\u001b[33mget_identifier_namespace_for_kind\u001b[39;49;00m\u001b[33m\"\u001b[39;49;00m, method_pointer_e79afb627fd857ef9a9bac86594aaef7, \u001b[33m\"\u001b[39;49;00m\u001b[33m\"\u001b[39;49;00m);\n",
      "    class_a6aedb4654a55a40aeecf4b1dc5fcc98.def(\u001b[33m\"\u001b[39;49;00m\u001b[33mget_kind\u001b[39;49;00m\u001b[33m\"\u001b[39;49;00m, method_pointer_5937e9bb811d5ae7bd4a681eb6fd725d, \u001b[33m\"\u001b[39;49;00m\u001b[33m\"\u001b[39;49;00m);\n",
      "    class_a6aedb4654a55a40aeecf4b1dc5fcc98.def(\u001b[33m\"\u001b[39;49;00m\u001b[33mget_lexical_decl_context\u001b[39;49;00m\u001b[33m\"\u001b[39;49;00m, method_pointer_5060aa8c8c155679b483435a8b17456a, boost::python::return_value_policy< boost::python::reference_existing_object >(), \u001b[33m\"\u001b[39;49;00m\u001b[33m\"\u001b[39;49;00m);\n",
      "    class_a6aedb4654a55a40aeecf4b1dc5fcc98.def(\u001b[33m\"\u001b[39;49;00m\u001b[33mget_lexical_decl_context\u001b[39;49;00m\u001b[33m\"\u001b[39;49;00m, method_pointer_9fef947b89df5ae19370545b15a935e6, boost::python::return_value_policy< boost::python::reference_existing_object >(), \u001b[33m\"\u001b[39;49;00m\u001b[33m\"\u001b[39;49;00m);\n",
      "    class_a6aedb4654a55a40aeecf4b1dc5fcc98.def(\u001b[33m\"\u001b[39;49;00m\u001b[33mget_loc_end\u001b[39;49;00m\u001b[33m\"\u001b[39;49;00m, method_pointer_8615f5b61d3d5f6abca1fec83f653971, \u001b[33m\"\u001b[39;49;00m\u001b[33m\"\u001b[39;49;00m);\n",
      "    class_a6aedb4654a55a40aeecf4b1dc5fcc98.def(\u001b[33m\"\u001b[39;49;00m\u001b[33mget_loc_start\u001b[39;49;00m\u001b[33m\"\u001b[39;49;00m, method_pointer_b2d56fdab8755d378dccb375b5567f55, \u001b[33m\"\u001b[39;49;00m\u001b[33m\"\u001b[39;49;00m);\n",
      "    class_a6aedb4654a55a40aeecf4b1dc5fcc98.def(\u001b[33m\"\u001b[39;49;00m\u001b[33mget_location\u001b[39;49;00m\u001b[33m\"\u001b[39;49;00m, method_pointer_8a0e9b759cf95bd180500e4c42c67a67, \u001b[33m\"\u001b[39;49;00m\u001b[33m\"\u001b[39;49;00m);\n",
      "    class_a6aedb4654a55a40aeecf4b1dc5fcc98.def(\u001b[33m\"\u001b[39;49;00m\u001b[33mget_max_alignment\u001b[39;49;00m\u001b[33m\"\u001b[39;49;00m, method_pointer_af6a9363aeae5e9b9776b7620ff069e3, \u001b[33m\"\u001b[39;49;00m\u001b[33m\"\u001b[39;49;00m);\n",
      "    class_a6aedb4654a55a40aeecf4b1dc5fcc98.def(\u001b[33m\"\u001b[39;49;00m\u001b[33mget_most_recent_decl\u001b[39;49;00m\u001b[33m\"\u001b[39;49;00m, method_pointer_c8250f60742f5c95becd6ad2fc380d47, boost::python::return_value_policy< boost::python::reference_existing_object >(), \u001b[33m\"\u001b[39;49;00m\u001b[33m\"\u001b[39;49;00m);\n",
      "    class_a6aedb4654a55a40aeecf4b1dc5fcc98.def(\u001b[33m\"\u001b[39;49;00m\u001b[33mget_most_recent_decl\u001b[39;49;00m\u001b[33m\"\u001b[39;49;00m, method_pointer_7fc9b64d83ac5e509885f26aef335193, boost::python::return_value_policy< boost::python::reference_existing_object >(), \u001b[33m\"\u001b[39;49;00m\u001b[33m\"\u001b[39;49;00m);\n",
      "    class_a6aedb4654a55a40aeecf4b1dc5fcc98.def(\u001b[33m\"\u001b[39;49;00m\u001b[33mget_next_decl_in_context\u001b[39;49;00m\u001b[33m\"\u001b[39;49;00m, method_pointer_4ad95fce17df5fb0a5333e9a3dcb23a8, boost::python::return_value_policy< boost::python::reference_existing_object >(), \u001b[33m\"\u001b[39;49;00m\u001b[33m\"\u001b[39;49;00m);\n",
      "    class_a6aedb4654a55a40aeecf4b1dc5fcc98.def(\u001b[33m\"\u001b[39;49;00m\u001b[33mget_next_decl_in_context\u001b[39;49;00m\u001b[33m\"\u001b[39;49;00m, method_pointer_8a902b0e0767575ab6e264f00fc2b98c, boost::python::return_value_policy< boost::python::reference_existing_object >(), \u001b[33m\"\u001b[39;49;00m\u001b[33m\"\u001b[39;49;00m);\n",
      "    class_a6aedb4654a55a40aeecf4b1dc5fcc98.def(\u001b[33m\"\u001b[39;49;00m\u001b[33mget_non_closure_context\u001b[39;49;00m\u001b[33m\"\u001b[39;49;00m, method_pointer_6088444b3ccd50338740e8243dd22283, boost::python::return_value_policy< boost::python::reference_existing_object >(), \u001b[33m\"\u001b[39;49;00m\u001b[33m\"\u001b[39;49;00m);\n",
      "    class_a6aedb4654a55a40aeecf4b1dc5fcc98.def(\u001b[33m\"\u001b[39;49;00m\u001b[33mget_non_closure_context\u001b[39;49;00m\u001b[33m\"\u001b[39;49;00m, method_pointer_8e1e39c6355254a6a7c2d08322e7fd89, boost::python::return_value_policy< boost::python::reference_existing_object >(), \u001b[33m\"\u001b[39;49;00m\u001b[33m\"\u001b[39;49;00m);\n",
      "    class_a6aedb4654a55a40aeecf4b1dc5fcc98.def(\u001b[33m\"\u001b[39;49;00m\u001b[33mget_owning_module_id\u001b[39;49;00m\u001b[33m\"\u001b[39;49;00m, method_pointer_94df7ad6b69a54e2a63ad282149a5e35, \u001b[33m\"\u001b[39;49;00m\u001b[33m\"\u001b[39;49;00m);\n",
      "    class_a6aedb4654a55a40aeecf4b1dc5fcc98.def(\u001b[33m\"\u001b[39;49;00m\u001b[33mget_parent_function_or_method\u001b[39;49;00m\u001b[33m\"\u001b[39;49;00m, method_pointer_f85e4a425ba25e20be7bd85bd22d3cd4, boost::python::return_value_policy< boost::python::reference_existing_object >(), \u001b[33m\"\u001b[39;49;00m\u001b[33m\"\u001b[39;49;00m);\n",
      "    class_a6aedb4654a55a40aeecf4b1dc5fcc98.def(\u001b[33m\"\u001b[39;49;00m\u001b[33mget_parent_function_or_method\u001b[39;49;00m\u001b[33m\"\u001b[39;49;00m, method_pointer_1659be62e9e8594abb0a40610d239ae0, boost::python::return_value_policy< boost::python::reference_existing_object >(), \u001b[33m\"\u001b[39;49;00m\u001b[33m\"\u001b[39;49;00m);\n",
      "    class_a6aedb4654a55a40aeecf4b1dc5fcc98.def(\u001b[33m\"\u001b[39;49;00m\u001b[33mget_previous_decl\u001b[39;49;00m\u001b[33m\"\u001b[39;49;00m, method_pointer_6ca7d28f6d1152bfa770c5628937d9c2, boost::python::return_value_policy< boost::python::reference_existing_object >(), \u001b[33m\"\u001b[39;49;00m\u001b[33m\"\u001b[39;49;00m);\n",
      "    class_a6aedb4654a55a40aeecf4b1dc5fcc98.def(\u001b[33m\"\u001b[39;49;00m\u001b[33mget_previous_decl\u001b[39;49;00m\u001b[33m\"\u001b[39;49;00m, method_pointer_473c1012fca55a4b8c4eed18475efed5, boost::python::return_value_policy< boost::python::reference_existing_object >(), \u001b[33m\"\u001b[39;49;00m\u001b[33m\"\u001b[39;49;00m);\n",
      "    class_a6aedb4654a55a40aeecf4b1dc5fcc98.def(\u001b[33m\"\u001b[39;49;00m\u001b[33mget_translation_unit_decl\u001b[39;49;00m\u001b[33m\"\u001b[39;49;00m, method_pointer_1a9e3289af595ee9824e8baea1a9a92a, boost::python::return_value_policy< boost::python::reference_existing_object >(), \u001b[33m\"\u001b[39;49;00m\u001b[33m\"\u001b[39;49;00m);\n",
      "    class_a6aedb4654a55a40aeecf4b1dc5fcc98.def(\u001b[33m\"\u001b[39;49;00m\u001b[33mget_translation_unit_decl\u001b[39;49;00m\u001b[33m\"\u001b[39;49;00m, method_pointer_59cd036310545a90b3465fefeeab9d4d, boost::python::return_value_policy< boost::python::reference_existing_object >(), \u001b[33m\"\u001b[39;49;00m\u001b[33m\"\u001b[39;49;00m);\n",
      "    class_a6aedb4654a55a40aeecf4b1dc5fcc98.def(\u001b[33m\"\u001b[39;49;00m\u001b[33mhas_attrs\u001b[39;49;00m\u001b[33m\"\u001b[39;49;00m, method_pointer_90d8725fc46d5b0aba87ad0f3a21827b, \u001b[33m\"\u001b[39;49;00m\u001b[33m\"\u001b[39;49;00m);\n",
      "    class_a6aedb4654a55a40aeecf4b1dc5fcc98.def(\u001b[33m\"\u001b[39;49;00m\u001b[33mhas_body\u001b[39;49;00m\u001b[33m\"\u001b[39;49;00m, method_pointer_eb9798fbe2885b31aed2b3786cb67de4, \u001b[33m\"\u001b[39;49;00m\u001b[33m\"\u001b[39;49;00m);\n",
      "    class_a6aedb4654a55a40aeecf4b1dc5fcc98.def(\u001b[33m\"\u001b[39;49;00m\u001b[33mhas_tag_identifier_namespace\u001b[39;49;00m\u001b[33m\"\u001b[39;49;00m, method_pointer_73a7c2a834db5e929e5c2c049bbcf39e, \u001b[33m\"\u001b[39;49;00m\u001b[33m\"\u001b[39;49;00m);\n",
      "    class_a6aedb4654a55a40aeecf4b1dc5fcc98.def(\u001b[33m\"\u001b[39;49;00m\u001b[33mis_canonical_decl\u001b[39;49;00m\u001b[33m\"\u001b[39;49;00m, method_pointer_c78b24d0fb8d5648921e1e771a876f7e, \u001b[33m\"\u001b[39;49;00m\u001b[33m\"\u001b[39;49;00m);\n",
      "    class_a6aedb4654a55a40aeecf4b1dc5fcc98.def(\u001b[33m\"\u001b[39;49;00m\u001b[33mis_defined_outside_function_or_method\u001b[39;49;00m\u001b[33m\"\u001b[39;49;00m, method_pointer_aabd2573912b5f01850619f5fec6e937, \u001b[33m\"\u001b[39;49;00m\u001b[33m\"\u001b[39;49;00m);\n",
      "    class_a6aedb4654a55a40aeecf4b1dc5fcc98.def(\u001b[33m\"\u001b[39;49;00m\u001b[33mis_first_decl\u001b[39;49;00m\u001b[33m\"\u001b[39;49;00m, method_pointer_0c231c36928759bb896d1a1a1de36600, \u001b[33m\"\u001b[39;49;00m\u001b[33m\"\u001b[39;49;00m);\n",
      "    class_a6aedb4654a55a40aeecf4b1dc5fcc98.def(\u001b[33m\"\u001b[39;49;00m\u001b[33mis_from_ast_file\u001b[39;49;00m\u001b[33m\"\u001b[39;49;00m, method_pointer_87beef1edc0752208e4baab18e6e483a, \u001b[33m\"\u001b[39;49;00m\u001b[33m\"\u001b[39;49;00m);\n",
      "    class_a6aedb4654a55a40aeecf4b1dc5fcc98.def(\u001b[33m\"\u001b[39;49;00m\u001b[33mis_function_or_function_template\u001b[39;49;00m\u001b[33m\"\u001b[39;49;00m, method_pointer_031f05307af155cdbd486d68f3c5a905, \u001b[33m\"\u001b[39;49;00m\u001b[33m\"\u001b[39;49;00m);\n",
      "    class_a6aedb4654a55a40aeecf4b1dc5fcc98.def(\u001b[33m\"\u001b[39;49;00m\u001b[33mis_implicit\u001b[39;49;00m\u001b[33m\"\u001b[39;49;00m, method_pointer_1a14d1befa675895ba4e5c3202df8e40, \u001b[33m\"\u001b[39;49;00m\u001b[33m\"\u001b[39;49;00m);\n",
      "    class_a6aedb4654a55a40aeecf4b1dc5fcc98.def(\u001b[33m\"\u001b[39;49;00m\u001b[33mis_in_anonymous_namespace\u001b[39;49;00m\u001b[33m\"\u001b[39;49;00m, method_pointer_354f730376725348a6fdfa290c8c41d6, \u001b[33m\"\u001b[39;49;00m\u001b[33m\"\u001b[39;49;00m);\n",
      "    class_a6aedb4654a55a40aeecf4b1dc5fcc98.def(\u001b[33m\"\u001b[39;49;00m\u001b[33mis_in_identifier_namespace\u001b[39;49;00m\u001b[33m\"\u001b[39;49;00m, method_pointer_9a3c930395bb53e5a4dece1272a71d5b, \u001b[33m\"\u001b[39;49;00m\u001b[33m\"\u001b[39;49;00m);\n",
      "    class_a6aedb4654a55a40aeecf4b1dc5fcc98.def(\u001b[33m\"\u001b[39;49;00m\u001b[33mis_in_std_namespace\u001b[39;49;00m\u001b[33m\"\u001b[39;49;00m, method_pointer_86e17c09e5475a45928437cc01f4e9d0, \u001b[33m\"\u001b[39;49;00m\u001b[33m\"\u001b[39;49;00m);\n",
      "    class_a6aedb4654a55a40aeecf4b1dc5fcc98.def(\u001b[33m\"\u001b[39;49;00m\u001b[33mis_invalid_decl\u001b[39;49;00m\u001b[33m\"\u001b[39;49;00m, method_pointer_e8eb4150604558fcbf6968f5e8ea3fa7, \u001b[33m\"\u001b[39;49;00m\u001b[33m\"\u001b[39;49;00m);\n",
      "    class_a6aedb4654a55a40aeecf4b1dc5fcc98.def(\u001b[33m\"\u001b[39;49;00m\u001b[33mis_lexically_within_function_or_method\u001b[39;49;00m\u001b[33m\"\u001b[39;49;00m, method_pointer_b04056f5f2e75358b1a18c6cc7234d2f, \u001b[33m\"\u001b[39;49;00m\u001b[33m\"\u001b[39;49;00m);\n",
      "    class_a6aedb4654a55a40aeecf4b1dc5fcc98.def(\u001b[33m\"\u001b[39;49;00m\u001b[33mis_local_extern_decl\u001b[39;49;00m\u001b[33m\"\u001b[39;49;00m, method_pointer_4ac7151777e55396a48877bd2ca86a24, \u001b[33m\"\u001b[39;49;00m\u001b[33m\"\u001b[39;49;00m);\n",
      "    class_a6aedb4654a55a40aeecf4b1dc5fcc98.def(\u001b[33m\"\u001b[39;49;00m\u001b[33mis_module_private\u001b[39;49;00m\u001b[33m\"\u001b[39;49;00m, method_pointer_3ca59a27f2145025901f99e6d61673c0, \u001b[33m\"\u001b[39;49;00m\u001b[33m\"\u001b[39;49;00m);\n",
      "    class_a6aedb4654a55a40aeecf4b1dc5fcc98.def(\u001b[33m\"\u001b[39;49;00m\u001b[33mis_out_of_line\u001b[39;49;00m\u001b[33m\"\u001b[39;49;00m, method_pointer_7d3f6bd5435a5218a03b0bb9673421da, \u001b[33m\"\u001b[39;49;00m\u001b[33m\"\u001b[39;49;00m);\n",
      "    class_a6aedb4654a55a40aeecf4b1dc5fcc98.def(\u001b[33m\"\u001b[39;49;00m\u001b[33mis_parameter_pack\u001b[39;49;00m\u001b[33m\"\u001b[39;49;00m, method_pointer_dba54761fc455f26951d103ebb78c493, \u001b[33m\"\u001b[39;49;00m\u001b[33m\"\u001b[39;49;00m);\n",
      "    class_a6aedb4654a55a40aeecf4b1dc5fcc98.def(\u001b[33m\"\u001b[39;49;00m\u001b[33mis_referenced\u001b[39;49;00m\u001b[33m\"\u001b[39;49;00m, method_pointer_78e0ccf47cb95cd686836d0a8d11cec7, \u001b[33m\"\u001b[39;49;00m\u001b[33m\"\u001b[39;49;00m);\n",
      "    class_a6aedb4654a55a40aeecf4b1dc5fcc98.def(\u001b[33m\"\u001b[39;49;00m\u001b[33mis_tag_identifier_namespace\u001b[39;49;00m\u001b[33m\"\u001b[39;49;00m, method_pointer_8065bafd3dcb54c69a0f4ded6be94f20, \u001b[33m\"\u001b[39;49;00m\u001b[33m\"\u001b[39;49;00m);\n",
      "    class_a6aedb4654a55a40aeecf4b1dc5fcc98.def(\u001b[33m\"\u001b[39;49;00m\u001b[33mis_template_decl\u001b[39;49;00m\u001b[33m\"\u001b[39;49;00m, method_pointer_fbc622307f89543ba532c72acc66dfe4, \u001b[33m\"\u001b[39;49;00m\u001b[33m\"\u001b[39;49;00m);\n",
      "    class_a6aedb4654a55a40aeecf4b1dc5fcc98.def(\u001b[33m\"\u001b[39;49;00m\u001b[33mis_template_parameter\u001b[39;49;00m\u001b[33m\"\u001b[39;49;00m, method_pointer_39e28632b220580f974b300e12cddf88, \u001b[33m\"\u001b[39;49;00m\u001b[33m\"\u001b[39;49;00m);\n",
      "    class_a6aedb4654a55a40aeecf4b1dc5fcc98.def(\u001b[33m\"\u001b[39;49;00m\u001b[33mis_template_parameter_pack\u001b[39;49;00m\u001b[33m\"\u001b[39;49;00m, method_pointer_40c0269a3e4e5aaf90ad512da2629c38, \u001b[33m\"\u001b[39;49;00m\u001b[33m\"\u001b[39;49;00m);\n",
      "    class_a6aedb4654a55a40aeecf4b1dc5fcc98.def(\u001b[33m\"\u001b[39;49;00m\u001b[33mis_this_declaration_referenced\u001b[39;49;00m\u001b[33m\"\u001b[39;49;00m, method_pointer_d57e02b85ad55d839b66b5fab165bd43, \u001b[33m\"\u001b[39;49;00m\u001b[33m\"\u001b[39;49;00m);\n",
      "    class_a6aedb4654a55a40aeecf4b1dc5fcc98.def(\u001b[33m\"\u001b[39;49;00m\u001b[33mis_top_level_decl_in_obj_c_container\u001b[39;49;00m\u001b[33m\"\u001b[39;49;00m, method_pointer_2e00644621c9538abcc3bf6cc56b91f2, \u001b[33m\"\u001b[39;49;00m\u001b[33m\"\u001b[39;49;00m);\n",
      "    class_a6aedb4654a55a40aeecf4b1dc5fcc98.def(\u001b[33m\"\u001b[39;49;00m\u001b[33mis_used\u001b[39;49;00m\u001b[33m\"\u001b[39;49;00m, method_pointer_80d416e3bbbe5fcd8c58e4c6ce148e15, \u001b[33m\"\u001b[39;49;00m\u001b[33m\"\u001b[39;49;00m);\n",
      "    class_a6aedb4654a55a40aeecf4b1dc5fcc98.def(\u001b[33m\"\u001b[39;49;00m\u001b[33mis_weak_imported\u001b[39;49;00m\u001b[33m\"\u001b[39;49;00m, method_pointer_001deaade68a502e9d722040233e5299, \u001b[33m\"\u001b[39;49;00m\u001b[33m\"\u001b[39;49;00m);\n",
      "    class_a6aedb4654a55a40aeecf4b1dc5fcc98.def(\u001b[33m\"\u001b[39;49;00m\u001b[33mmark_used\u001b[39;49;00m\u001b[33m\"\u001b[39;49;00m, method_pointer_b2c58c81ffee5fa7ab7efd1e92d37f64, \u001b[33m\"\u001b[39;49;00m\u001b[33m\"\u001b[39;49;00m);\n",
      "    class_a6aedb4654a55a40aeecf4b1dc5fcc98.def(\u001b[33m\"\u001b[39;49;00m\u001b[33mset_access\u001b[39;49;00m\u001b[33m\"\u001b[39;49;00m, method_pointer_71ec851e2efd58e0b2781d554d8d95f1, \u001b[33m\"\u001b[39;49;00m\u001b[33m\"\u001b[39;49;00m);\n",
      "    class_a6aedb4654a55a40aeecf4b1dc5fcc98.def(\u001b[33m\"\u001b[39;49;00m\u001b[33mset_decl_context\u001b[39;49;00m\u001b[33m\"\u001b[39;49;00m, method_pointer_e0e15c86c8f1553a80411870165cb8d0, \u001b[33m\"\u001b[39;49;00m\u001b[33m\"\u001b[39;49;00m);\n",
      "    class_a6aedb4654a55a40aeecf4b1dc5fcc98.def(\u001b[33m\"\u001b[39;49;00m\u001b[33mset_implicit\u001b[39;49;00m\u001b[33m\"\u001b[39;49;00m, method_pointer_f7f1f0459727519aac61b959f91d8a2e, \u001b[33m\"\u001b[39;49;00m\u001b[33m\"\u001b[39;49;00m);\n",
      "    class_a6aedb4654a55a40aeecf4b1dc5fcc98.def(\u001b[33m\"\u001b[39;49;00m\u001b[33mset_invalid_decl\u001b[39;49;00m\u001b[33m\"\u001b[39;49;00m, method_pointer_f6c04b5fc9a8534cbee7c61f1c8cb967, \u001b[33m\"\u001b[39;49;00m\u001b[33m\"\u001b[39;49;00m);\n",
      "    class_a6aedb4654a55a40aeecf4b1dc5fcc98.def(\u001b[33m\"\u001b[39;49;00m\u001b[33mset_is_used\u001b[39;49;00m\u001b[33m\"\u001b[39;49;00m, method_pointer_41886f45087858bfab6e7c4b61f6fff5, \u001b[33m\"\u001b[39;49;00m\u001b[33m\"\u001b[39;49;00m);\n",
      "    class_a6aedb4654a55a40aeecf4b1dc5fcc98.def(\u001b[33m\"\u001b[39;49;00m\u001b[33mset_lexical_decl_context\u001b[39;49;00m\u001b[33m\"\u001b[39;49;00m, method_pointer_cee9fb2fabdb59349c02e55a7059ed50, \u001b[33m\"\u001b[39;49;00m\u001b[33m\"\u001b[39;49;00m);\n",
      "    class_a6aedb4654a55a40aeecf4b1dc5fcc98.def(\u001b[33m\"\u001b[39;49;00m\u001b[33mset_local_extern_decl\u001b[39;49;00m\u001b[33m\"\u001b[39;49;00m, method_pointer_08a0cad6a94f5d3994f89a53ecc575f5, \u001b[33m\"\u001b[39;49;00m\u001b[33m\"\u001b[39;49;00m);\n",
      "    class_a6aedb4654a55a40aeecf4b1dc5fcc98.def(\u001b[33m\"\u001b[39;49;00m\u001b[33mset_location\u001b[39;49;00m\u001b[33m\"\u001b[39;49;00m, method_pointer_6627ed002330523b8946749a7ed2dd87, \u001b[33m\"\u001b[39;49;00m\u001b[33m\"\u001b[39;49;00m);\n",
      "    class_a6aedb4654a55a40aeecf4b1dc5fcc98.def(\u001b[33m\"\u001b[39;49;00m\u001b[33mset_non_member_operator\u001b[39;49;00m\u001b[33m\"\u001b[39;49;00m, method_pointer_6ad554a6ebd15b298d284046a5fb010c, \u001b[33m\"\u001b[39;49;00m\u001b[33m\"\u001b[39;49;00m);\n",
      "    class_a6aedb4654a55a40aeecf4b1dc5fcc98.def(\u001b[33m\"\u001b[39;49;00m\u001b[33mset_object_of_friend_decl\u001b[39;49;00m\u001b[33m\"\u001b[39;49;00m, method_pointer_59bace9e77e25ab6932c4a8e767c6356, \u001b[33m\"\u001b[39;49;00m\u001b[33m\"\u001b[39;49;00m);\n",
      "    class_a6aedb4654a55a40aeecf4b1dc5fcc98.def(\u001b[33m\"\u001b[39;49;00m\u001b[33mset_referenced\u001b[39;49;00m\u001b[33m\"\u001b[39;49;00m, method_pointer_3db2643674425073b982d0a1d9c96763, \u001b[33m\"\u001b[39;49;00m\u001b[33m\"\u001b[39;49;00m);\n",
      "    class_a6aedb4654a55a40aeecf4b1dc5fcc98.def(\u001b[33m\"\u001b[39;49;00m\u001b[33mset_top_level_decl_in_obj_c_container\u001b[39;49;00m\u001b[33m\"\u001b[39;49;00m, method_pointer_01b2f66cfc8b50a2a0d31aea9f1b776c, \u001b[33m\"\u001b[39;49;00m\u001b[33m\"\u001b[39;49;00m);\n",
      "    class_a6aedb4654a55a40aeecf4b1dc5fcc98.staticmethod(\u001b[33m\"\u001b[39;49;00m\u001b[33mcast_from_decl_context\u001b[39;49;00m\u001b[33m\"\u001b[39;49;00m);\n",
      "    class_a6aedb4654a55a40aeecf4b1dc5fcc98.staticmethod(\u001b[33m\"\u001b[39;49;00m\u001b[33mcast_to_decl_context\u001b[39;49;00m\u001b[33m\"\u001b[39;49;00m);\n",
      "    class_a6aedb4654a55a40aeecf4b1dc5fcc98.staticmethod(\u001b[33m\"\u001b[39;49;00m\u001b[33menable_statistics\u001b[39;49;00m\u001b[33m\"\u001b[39;49;00m);\n",
      "    class_a6aedb4654a55a40aeecf4b1dc5fcc98.staticmethod(\u001b[33m\"\u001b[39;49;00m\u001b[33madd\u001b[39;49;00m\u001b[33m\"\u001b[39;49;00m);\n",
      "    class_a6aedb4654a55a40aeecf4b1dc5fcc98.staticmethod(\u001b[33m\"\u001b[39;49;00m\u001b[33mclassof_kind\u001b[39;49;00m\u001b[33m\"\u001b[39;49;00m);\n",
      "    class_a6aedb4654a55a40aeecf4b1dc5fcc98.staticmethod(\u001b[33m\"\u001b[39;49;00m\u001b[33mprint_stats\u001b[39;49;00m\u001b[33m\"\u001b[39;49;00m);\n",
      "    class_a6aedb4654a55a40aeecf4b1dc5fcc98.staticmethod(\u001b[33m\"\u001b[39;49;00m\u001b[33mget_identifier_namespace_for_kind\u001b[39;49;00m\u001b[33m\"\u001b[39;49;00m);\n",
      "    class_a6aedb4654a55a40aeecf4b1dc5fcc98.staticmethod(\u001b[33m\"\u001b[39;49;00m\u001b[33mis_tag_identifier_namespace\u001b[39;49;00m\u001b[33m\"\u001b[39;49;00m);\n",
      "    class_a6aedb4654a55a40aeecf4b1dc5fcc98.def(\u001b[33m\"\u001b[39;49;00m\u001b[33mget_comment\u001b[39;49;00m\u001b[33m\"\u001b[39;49;00m, function_group::function_e3dad76b13315bcba5c77dd5333856e1, \u001b[33m\"\u001b[39;49;00m\u001b[33m\"\u001b[39;49;00m);\n",
      "\n",
      "}\n"
     ]
    }
   ],
   "source": [
    "%%bash\n",
    "pygmentize PyClangLite/src/py/wrapper_a6aedb4654a55a40aeecf4b1dc5fcc98.cpp"
   ]
  },
  {
   "cell_type": "markdown",
   "metadata": {},
   "source": [
    "Once the wrappers are written on the disk, the bingings must be compiled and installed.\n",
    "This can be done using the **SCons** `py`  target."
   ]
  }
 ],
 "metadata": {
  "anaconda-cloud": {},
  "kernelspec": {
   "display_name": "Python [default]",
   "language": "python",
   "name": "python2"
  },
  "language_info": {
   "codemirror_mode": {
    "name": "ipython",
    "version": 2
   },
   "file_extension": ".py",
   "mimetype": "text/x-python",
   "name": "python",
   "nbconvert_exporter": "python",
   "pygments_lexer": "ipython2",
   "version": "2.7.12"
  }
 },
 "nbformat": 4,
 "nbformat_minor": 0
}
