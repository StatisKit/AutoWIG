{
 "cells": [
  {
   "cell_type": "markdown",
   "metadata": {},
   "source": [
    "# Wrapping a subset of a very large library\n",
    "\n",
    "Sometimes, for a very large library, only a subset of available *C++* components is useful for end-users.\n",
    "Wrapping such libraries therefore requires **AutoWIG** to be able to consider only a subset of the *C++* components during the `Generate` step.\n",
    "The **Clang** library is a complete *C*/*C++* compiler.\n",
    "**Clang** is a great tool, but its stable *Python* interface (i.e. **libclang**) is lacking some useful features that are needed by **AutoWIG**.\n",
    "In particular, class template specializations are not available in the abstract syntax tree.\n",
    "Fortunately, most of the classes that would be needed during the traversal of the *C++* abstract syntax tree are not template specializations.\n",
    "We therefore proposed to bootstrap the **Clang** *Python* bindings using the `libclang` `parser` of **AutoWIG**.\n",
    "This new **Clang** *Python* interface is called **PyClangLite** and is able to parse class template specializations.\n",
    "As for **libclang**, this interface is proposed only for a subset of the **Clang** library sufficient enough for proposing the new `pyclanglite` `parser`.\n",
    "\n",
    "First, ensure that the **LLVM**/**Clang** technologies are installed on your computer and if there were built with `RTTI`."
   ]
  },
  {
   "cell_type": "code",
   "execution_count": 1,
   "metadata": {
    "collapsed": false
   },
   "outputs": [],
   "source": [
    "import subprocess\n",
    "subprocess.check_call([\"llvm-config\", \"--version\"])\n",
    "subprocess.check_call(['clang++', '--version'])\n",
    "if not subprocess.check_output([\"llvm-config\", \"--has-rtti\"]).strip() == 'YES':\n",
    "    raise Exception('LLVM and Clang libraries have not been built with RTTI')"
   ]
  },
  {
   "cell_type": "markdown",
   "metadata": {},
   "source": [
    "Note that these techonologies must be installed using the current system prefix"
   ]
  },
  {
   "cell_type": "code",
   "execution_count": 2,
   "metadata": {
    "collapsed": false
   },
   "outputs": [],
   "source": [
    "import sys\n",
    "from path import path\n",
    "prefix = path(sys.prefix).abspath()\n",
    "if not prefix == subprocess.check_output([\"llvm-config\", \"--prefix\"]).strip():\n",
    "    raise Exception('LLVM and Clang libraries have not been built with the \\'' + prefix + '\\' prefix')"
   ]
  },
  {
   "cell_type": "markdown",
   "metadata": {},
   "source": [
    "In the following we will use **SCons** software construction tool for compiling *C++* libraries and their *Python* bindings.\n",
    "This software is installed with the **Conda** package management system."
   ]
  },
  {
   "cell_type": "code",
   "execution_count": 3,
   "metadata": {
    "collapsed": false
   },
   "outputs": [
    {
     "name": "stdout",
     "output_type": "stream",
     "text": [
      "Fetching package metadata .........\n",
      "Solving package specifications: ..........\n",
      "\n",
      "Package plan for installation in environment /home/main/miniconda:\n",
      "\n",
      "The following packages will be downloaded:\n",
      "\n",
      "    package                    |            build\n",
      "    ---------------------------|-----------------\n",
      "    python-scons-2.5.0         |           py27_0         739 KB  statiskit\n",
      "\n",
      "The following NEW packages will be INSTALLED:\n",
      "\n",
      "    python-scons: 2.5.0-py27_0 statiskit\n",
      "\n",
      "Fetching packages ...\n",
      "python-scons-2 100% |###############################| Time: 0:00:01 748.04 kB/s\r\n",
      "Extracting packages ...\n",
      "[      COMPLETE      ]|##################################################| 100%\r\n",
      "Linking packages ...\n",
      "[      COMPLETE      ]|##################################################| 100%\r\n"
     ]
    },
    {
     "name": "stderr",
     "output_type": "stream",
     "text": [
      "Using Anaconda API: https://api.anaconda.org\n"
     ]
    }
   ],
   "source": [
    "%%bash\n",
    "conda install python-scons -c statiskit"
   ]
  },
  {
   "cell_type": "markdown",
   "metadata": {},
   "source": [
    "The **PyClangLite** GitHub repository must be cloned into the **PyClangLite** directory."
   ]
  },
  {
   "cell_type": "code",
   "execution_count": 4,
   "metadata": {
    "collapsed": false
   },
   "outputs": [
    {
     "name": "stderr",
     "output_type": "stream",
     "text": [
      "Cloning into 'PyClangLite'...\n"
     ]
    }
   ],
   "source": [
    "%%bash\n",
    "git clone https://github.com/StatisKit/PyClangLite.git"
   ]
  },
  {
   "cell_type": "markdown",
   "metadata": {},
   "source": [
    "This repository already has wrappers, we therefore need to remove them."
   ]
  },
  {
   "cell_type": "code",
   "execution_count": 5,
   "metadata": {
    "collapsed": false
   },
   "outputs": [],
   "source": [
    "srcdir = path('PyClangLite')/'src'/'py'\n",
    "for wrapper in srcdir.walkfiles('*.cpp'):\n",
    "    wrapper.unlink()\n",
    "for wrapper in srcdir.walkfiles('*.h'):\n",
    "    wrapper.unlink()\n",
    "wrapper = srcdir/'clanglite'/'_clanglite.py'\n",
    "if wrapper.exists():\n",
    "    wrapper.unlink()"
   ]
  },
  {
   "cell_type": "markdown",
   "metadata": {},
   "source": [
    "In addition to the **Clang** libraries, the **ClangLite** library is needed in order to have access to some functionalities.\n",
    "The `tool.h` header of this **ClangLite** library includes all necessary **Clang** headers.\n",
    "This library is installed using the **SCons** `cpp`  target."
   ]
  },
  {
   "cell_type": "code",
   "execution_count": 6,
   "metadata": {
    "collapsed": false,
    "scrolled": true
   },
   "outputs": [
    {
     "name": "stdout",
     "output_type": "stream",
     "text": [
      "scons: Entering directory `/home/main/AutoWIG/doc/examples/PyClangLite'\n",
      "scons: Reading SConscript files ...\n",
      "scons: done reading SConscript files.\n",
      "scons: Building targets ...\n",
      "Install file: \"build/cpp/tool.h\" as \"/home/main/miniconda/include/clanglite/tool.h\"\n",
      "g++ -o build/cpp/tool.os -c -std=c++0x -fvisibility-inlines-hidden -ffunction-sections -fdata-sections -Wno-deprecated-declarations -fPIC -DBOOST_PYTHON_DYNAMIC_LIB -D_GNU_SOURCE -D__STDC_CONSTANT_MACROS -D__STDC_FORMAT_MACROS -D__STDC_LIMIT_MACROS -I/home/main/miniconda/include -I/home/main/miniconda/include/python2.7 build/cpp/tool.cpp\n",
      "g++ -o /home/main/miniconda/lib/libclanglite.so -shared build/cpp/tool.os -L/home/main/miniconda/lib -lboost_python -lpython2.7 -lclangIndex -lclangARCMigrate -lclangRewriteFrontend -lclangFormat -lclangTooling -lclangToolingCore -lclangFrontend -lclangDriver -lclangSerialization -lclangParse -lclangSema -lclangStaticAnalyzerCheckers -lclangStaticAnalyzerCore -lclangRewrite -lclangAnalysis -lclangEdit -lclangASTMatchers -lclangAST -lclangLex -lclangBasic -lLLVMInterpreter -lLLVMTableGen -lLLVMMIRParser -lLLVMDebugInfoCodeView -lLLVMXCoreDisassembler -lLLVMXCoreCodeGen -lLLVMXCoreDesc -lLLVMXCoreInfo -lLLVMXCoreAsmPrinter -lLLVMSystemZDisassembler -lLLVMSystemZCodeGen -lLLVMSystemZAsmParser -lLLVMSystemZDesc -lLLVMSystemZInfo -lLLVMSystemZAsmPrinter -lLLVMSparcDisassembler -lLLVMSparcCodeGen -lLLVMSparcAsmParser -lLLVMSparcDesc -lLLVMSparcInfo -lLLVMSparcAsmPrinter -lLLVMPowerPCDisassembler -lLLVMPowerPCCodeGen -lLLVMPowerPCAsmParser -lLLVMPowerPCDesc -lLLVMPowerPCInfo -lLLVMPowerPCAsmPrinter -lLLVMNVPTXCodeGen -lLLVMNVPTXDesc -lLLVMNVPTXInfo -lLLVMNVPTXAsmPrinter -lLLVMMSP430CodeGen -lLLVMMSP430Desc -lLLVMMSP430Info -lLLVMMSP430AsmPrinter -lLLVMMipsDisassembler -lLLVMMipsCodeGen -lLLVMMipsAsmParser -lLLVMMipsDesc -lLLVMMipsInfo -lLLVMMipsAsmPrinter -lLLVMHexagonDisassembler -lLLVMHexagonCodeGen -lLLVMHexagonAsmParser -lLLVMHexagonDesc -lLLVMHexagonInfo -lLLVMCppBackendCodeGen -lLLVMCppBackendInfo -lLLVMBPFCodeGen -lLLVMBPFDesc -lLLVMBPFInfo -lLLVMBPFAsmPrinter -lLLVMARMDisassembler -lLLVMARMCodeGen -lLLVMARMAsmParser -lLLVMARMDesc -lLLVMARMInfo -lLLVMARMAsmPrinter -lLLVMAMDGPUCodeGen -lLLVMAMDGPUAsmParser -lLLVMAMDGPUDesc -lLLVMAMDGPUUtils -lLLVMAMDGPUInfo -lLLVMAMDGPUAsmPrinter -lLLVMAArch64Disassembler -lLLVMAArch64CodeGen -lLLVMAArch64AsmParser -lLLVMAArch64Desc -lLLVMAArch64Info -lLLVMAArch64AsmPrinter -lLLVMAArch64Utils -lLLVMX86Disassembler -lLLVMX86AsmParser -lLLVMX86CodeGen -lLLVMSelectionDAG -lLLVMAsmPrinter -lLLVMX86Desc -lLLVMMCDisassembler -lLLVMX86Info -lLLVMX86AsmPrinter -lLLVMX86Utils -lLLVMMCJIT -lLLVMPasses -lLLVMLibDriver -lLLVMOption -lLLVMLTO -lLLVMObjCARCOpts -lLLVMipo -lLLVMVectorize -lLLVMLinker -lLLVMIRReader -lLLVMAsmParser -lLLVMCodeGen -lLLVMScalarOpts -lLLVMInstCombine -lLLVMInstrumentation -lLLVMProfileData -lLLVMBitWriter -lLLVMOrcJIT -lLLVMTransformUtils -lLLVMExecutionEngine -lLLVMTarget -lLLVMAnalysis -lLLVMRuntimeDyld -lLLVMLineEditor -lLLVMSymbolize -lLLVMDebugInfoPDB -lLLVMDebugInfoDWARF -lLLVMObject -lLLVMMCParser -lLLVMMC -lLLVMBitReader -lLLVMCore -lLLVMSupport -lrt -ldl -lpthread -lm\n",
      "scons: done building targets.\n"
     ]
    }
   ],
   "source": [
    "%%bash\n",
    "scons cpp -C PyClangLite"
   ]
  },
  {
   "cell_type": "markdown",
   "metadata": {},
   "source": [
    "Once these preliminaries done, we can proceed to the actual generation of wrappers for the **Clang** library.\n",
    "For this, we import **AutoWIG** and create an empty Abstract Semantic Graph (ASG)."
   ]
  },
  {
   "cell_type": "code",
   "execution_count": 7,
   "metadata": {
    "collapsed": false
   },
   "outputs": [],
   "source": [
    "import autowig\n",
    "asg = autowig.AbstractSemanticGraph()"
   ]
  },
  {
   "cell_type": "markdown",
   "metadata": {},
   "source": [
    "We then parse the `tool.h` header of the **ClangLite** library with relevant compilation flags."
   ]
  },
  {
   "cell_type": "code",
   "execution_count": 8,
   "metadata": {
    "collapsed": false,
    "scrolled": true
   },
   "outputs": [
    {
     "name": "stdout",
     "output_type": "stream",
     "text": [
      "CPU times: user 2min 15s, sys: 404 ms, total: 2min 15s\n",
      "Wall time: 2min 16s\n"
     ]
    }
   ],
   "source": [
    "%%time\n",
    "autowig.parser.plugin = 'libclang'\n",
    "asg = autowig.parser(asg, [prefix/'include'/'clanglite'/'tool.h'],\n",
    "               flags = ['-x', 'c++', '-std=c++11',\n",
    "                        '-D__STDC_LIMIT_MACROS',\n",
    "                        '-D__STDC_CONSTANT_MACROS',\n",
    "                        '-I' + str((prefix/'include').abspath())],\n",
    "               libpath = prefix/'lib'/'libclang.so',\n",
    "               bootstrap = False,\n",
    "               silent = True)"
   ]
  },
  {
   "cell_type": "markdown",
   "metadata": {},
   "source": [
    "Since most of **AutoWIG** guidelines are respected in the **Clang** library, the `default` `controller` implementation could be suitable.\n",
    "Nevertheless, we need to force some *C++* components to be wrapped or not.\n",
    "We therefore implements a new `controller`."
   ]
  },
  {
   "cell_type": "code",
   "execution_count": 9,
   "metadata": {
    "collapsed": false
   },
   "outputs": [],
   "source": [
    "def clanglite_controller(asg):\n",
    "    \n",
    "    for node in asg['::boost::python'].classes(nested = True):\n",
    "        node.is_copyable = True\n",
    "        \n",
    "    for node in asg.classes():\n",
    "        node.boost_python_export = False\n",
    "    for node in asg.enumerations():\n",
    "        node.boost_python_export = False\n",
    "    for node in asg.enumerators():\n",
    "        if node.parent.boost_python_export:\n",
    "            node.boost_python_export = False\n",
    "    for node in asg.typedefs():\n",
    "        node.boost_python_export = False\n",
    "            \n",
    "    from autowig.default_controller import refactoring\n",
    "    asg = refactoring(asg)\n",
    "    for fct in asg['::clanglite'].functions():\n",
    "        if not fct.localname == 'build_ast_from_code_with_args':\n",
    "            fct.parent = fct.parameters[0].qualified_type.desugared_type.unqualified_type\n",
    "            \n",
    "    for node in asg.functions(free = True):\n",
    "        node.boost_python_export = False\n",
    "    for node in asg.variables(free = True):\n",
    "        node.boost_python_export = False\n",
    "    \n",
    "    asg['class ::boost::python::api::object'].boost_python_export = True\n",
    "    asg['class ::boost::python::list'].boost_python_export = True \n",
    "    asg['class ::boost::python::str'].boost_python_export = True \n",
    "\n",
    "    subset = []\n",
    "    classes = [asg['class ::clang::QualType'],\n",
    "               asg['class ::clang::Type'],\n",
    "               asg['class ::clang::Decl']]\n",
    "    asg['class ::clang::QualType'].is_abstract = False\n",
    "    asg['class ::clang::QualType'].is_copyable = True\n",
    "    subset += classes\n",
    "    for cls in classes:\n",
    "        subset += cls.subclasses(recursive=True)\n",
    "    subset.append(asg['class ::llvm::StringRef'])\n",
    "    asg['class ::llvm::StringRef'].is_abstract = False\n",
    "    asg['class ::llvm::StringRef'].is_copyable = True\n",
    "    subset.append(asg['class ::clang::ASTUnit'])\n",
    "    subset.append(asg['class ::clang::ASTContext'])\n",
    "    subset.append(asg['class ::clang::SourceManager'])\n",
    "    for mtd in asg['class ::clang::ASTContext'].methods(pattern='.*getSourceManager.*'):\n",
    "        if mtd.return_type.globalname == 'class ::clang::SourceManager &':\n",
    "                mtd.boost_python_export = True\n",
    "                break\n",
    "    subset.append(asg['class ::clang::FileID'])\n",
    "    asg['class ::clang::FileID'].is_abstract = False\n",
    "    asg['class ::clang::FileID'].is_copyable = True\n",
    "    subset.append(asg['class ::clang::SourceLocation'])\n",
    "    asg['class ::clang::SourceLocation'].is_abstract = False\n",
    "    asg['class ::clang::SourceLocation'].is_copyable = True\n",
    "    subset.append(asg['class ::clang::CXXBaseSpecifier'])\n",
    "    subset.append(asg['class ::clang::DeclContext'])\n",
    "    subset.append(asg['class ::clang::TemplateArgument'])\n",
    "    asg['class ::clang::TemplateArgument'].is_abstract = False\n",
    "    asg['class ::clang::TemplateArgument'].is_copyable = True\n",
    "    subset.append(asg['class ::clang::TemplateArgumentList'])\n",
    "    subset.append(asg['enum ::clang::Type::TypeClass'])\n",
    "    subset.append(asg['enum ::clang::AccessSpecifier'])\n",
    "    subset.append(asg['enum ::clang::LinkageSpecDecl::LanguageIDs'])\n",
    "    subset.append(asg['enum ::clang::BuiltinType::Kind'])\n",
    "    subset.append(asg['enum ::clang::TemplateArgument::ArgKind'])\n",
    "    subset.append(asg['enum ::clang::Decl::Kind'])\n",
    "    subset.extend(asg['::boost::python'].classes(nested = True))\n",
    "    subset.extend(asg['::boost::python'].enumerations(nested = True))\n",
    "    subset.extend(asg.nodes('::clanglite::build_ast_from_code_with_args'))\n",
    "\n",
    "    for node in subset:\n",
    "        node.boost_python_export = True\n",
    "\n",
    "    if autowig.parser.plugin == 'libclang':\n",
    "        for node in (asg.functions(pattern='.*(llvm|clang).*_(begin|end)')\n",
    "                     + asg.functions(pattern='.*(llvm|clang).*getNameAsString')\n",
    "                     + asg.nodes('::clang::NamedDecl::getQualifiedNameAsString')\n",
    "                     + asg.nodes('::clang::ObjCProtocolDecl::collectInheritedProtocolProperties')\n",
    "                     + asg.nodes('::clang::ASTUnit::LoadFromASTFile')\n",
    "                     + asg.nodes('::clang::ASTUnit::getCachedCompletionTypes')\n",
    "                     + asg.nodes('::clang::ASTUnit::getBufferForFile')\n",
    "                     + asg.nodes('::clang::CXXRecordDecl::getCaptureFields')\n",
    "                     + asg.nodes('::clang::ASTContext::SectionInfos')\n",
    "                     + asg.nodes('::clang::ASTContext::getAllocator')\n",
    "                     + asg.nodes('::clang::ASTContext::getObjCEncoding.*')\n",
    "                     + asg.nodes('::clang::ASTContext::getAllocator')\n",
    "                     + asg.nodes('::clang::QualType::getAsString')\n",
    "                     + asg.nodes('::clang::SourceLocation::printToString')\n",
    "                     + asg['class ::llvm::StringRef'].methods()):\n",
    "            node.boost_python_export = False\n",
    "            \n",
    "    import sys\n",
    "    from path import path\n",
    "    for header in (path(sys.prefix)/'include'/'clang').walkfiles('*.h'):\n",
    "        asg[header.abspath()].is_external_dependency = False\n",
    "    \n",
    "    return asg"
   ]
  },
  {
   "cell_type": "markdown",
   "metadata": {},
   "source": [
    "This `controller` is then dynamically registered and used on the ASG."
   ]
  },
  {
   "cell_type": "code",
   "execution_count": 10,
   "metadata": {
    "collapsed": false
   },
   "outputs": [
    {
     "name": "stdout",
     "output_type": "stream",
     "text": [
      "CPU times: user 1min 46s, sys: 128 ms, total: 1min 46s\n",
      "Wall time: 1min 46s\n"
     ]
    }
   ],
   "source": [
    "%%time\n",
    "autowig.controller['clanglite'] = clanglite_controller\n",
    "autowig.controller.plugin = 'clanglite'\n",
    "asg = autowig.controller(asg)"
   ]
  },
  {
   "cell_type": "markdown",
   "metadata": {},
   "source": [
    "In order to wrap a subset of the **Clang** library, we need to select the `boost_python_internal` `generator` implementation."
   ]
  },
  {
   "cell_type": "code",
   "execution_count": 11,
   "metadata": {
    "collapsed": false
   },
   "outputs": [
    {
     "name": "stdout",
     "output_type": "stream",
     "text": [
      "CPU times: user 8.12 s, sys: 36 ms, total: 8.16 s\n",
      "Wall time: 8.12 s\n"
     ]
    }
   ],
   "source": [
    "%%time\n",
    "autowig.generator.plugin = 'boost_python_pattern'\n",
    "wrappers = autowig.generator(asg,\n",
    "                  module = srcdir/'_clanglite.cpp',\n",
    "                  decorator = srcdir/'clanglite'/'_clanglite.py',\n",
    "                  closure = False)"
   ]
  },
  {
   "cell_type": "markdown",
   "metadata": {},
   "source": [
    "The wrappers are only generated in-memory.\n",
    "It is therefore needed to write them on the disk to complete the process."
   ]
  },
  {
   "cell_type": "code",
   "execution_count": 12,
   "metadata": {
    "collapsed": false
   },
   "outputs": [
    {
     "name": "stdout",
     "output_type": "stream",
     "text": [
      "CPU times: user 39.1 s, sys: 16 ms, total: 39.1 s\n",
      "Wall time: 39.1 s\n"
     ]
    }
   ],
   "source": [
    "%%time\n",
    "wrappers.write()"
   ]
  },
  {
   "cell_type": "markdown",
   "metadata": {},
   "source": [
    "Here is an example of the generated wrappers.\n",
    "We here present the wrappers for the `clang::Decl` class."
   ]
  },
  {
   "cell_type": "code",
   "execution_count": 13,
   "metadata": {
    "collapsed": true
   },
   "outputs": [
    {
     "name": "stdout",
     "output_type": "stream",
     "text": [
      "\u001b[36m#\u001b[39;49;00m\u001b[36minclude\u001b[39;49;00m \u001b[37m\"_clanglite.h\"\u001b[39;49;00m\u001b[36m\u001b[39;49;00m\n",
      "\n",
      "\n",
      "\u001b[34mnamespace\u001b[39;49;00m autowig\n",
      "{\n",
      "}\n",
      "\n",
      "\n",
      "\u001b[36mvoid\u001b[39;49;00m wrapper_a6aedb4654a55a40aeecf4b1dc5fcc98()\n",
      "{\n",
      "\n",
      "    std::string name_7bbff48d109853e88270b3595c663a99 = boost::python::extract< std::string >(boost::python::scope().attr(\u001b[33m\"\u001b[39;49;00m\u001b[33m__name__\u001b[39;49;00m\u001b[33m\"\u001b[39;49;00m) + \u001b[33m\"\u001b[39;49;00m\u001b[33m.clang\u001b[39;49;00m\u001b[33m\"\u001b[39;49;00m);\n",
      "    boost::python::object module_7bbff48d109853e88270b3595c663a99(boost::python::handle<  >(boost::python::borrowed(PyImport_AddModule(name_7bbff48d109853e88270b3595c663a99.c_str()))));\n",
      "    boost::python::scope().attr(\u001b[33m\"\u001b[39;49;00m\u001b[33mclang\u001b[39;49;00m\u001b[33m\"\u001b[39;49;00m) = module_7bbff48d109853e88270b3595c663a99;\n",
      "    boost::python::scope scope_7bbff48d109853e88270b3595c663a99 = module_7bbff48d109853e88270b3595c663a99;\n",
      "    \u001b[36mvoid\u001b[39;49;00m  (*method_pointer_924ad1fe0a4a501aa0c99be3b5fd8380)() = ::clang::Decl::EnableStatistics;\n",
      "    \u001b[36mvoid\u001b[39;49;00m  (*method_pointer_060768f146c95f53adb18aa4a6858a2e)() = ::clang::Decl::PrintStats;\n",
      "    \u001b[36mvoid\u001b[39;49;00m  (*method_pointer_18a1f7ea7391583a949cfce33b80e1d3)(\u001b[34menum\u001b[39;49;00m ::clang::Decl::Kind ) = ::clang::Decl::add;\n",
      "    \u001b[36mbool\u001b[39;49;00m  (::clang::Decl::*method_pointer_fe7c5a3100995a5686f5c3b0ad58e184)(\u001b[36mbool\u001b[39;49;00m  &) \u001b[34mconst\u001b[39;49;00m = &::clang::Decl::canBeWeakImported;\n",
      "    \u001b[34mclass\u001b[39;49;00m \u001b[04m\u001b[31;01m:\u001b[39;49;00m\u001b[04m\u001b[31;01m:\u001b[39;49;00m\u001b[04m\u001b[32mclang\u001b[39;49;00m::Decl  * (*method_pointer_f332ee01ca4f5143920cc7d1f981f644)(\u001b[34mclass\u001b[39;49;00m \u001b[04m\u001b[31;01m:\u001b[39;49;00m\u001b[04m\u001b[31;01m:\u001b[39;49;00m\u001b[04m\u001b[32mclang\u001b[39;49;00m::DeclContext  \u001b[34mconst\u001b[39;49;00m *) = ::clang::Decl::castFromDeclContext;\n",
      "    \u001b[34mclass\u001b[39;49;00m \u001b[04m\u001b[31;01m:\u001b[39;49;00m\u001b[04m\u001b[31;01m:\u001b[39;49;00m\u001b[04m\u001b[32mclang\u001b[39;49;00m::DeclContext  * (*method_pointer_10b156f4b15d51fbb38bc83f1ed20212)(\u001b[34mclass\u001b[39;49;00m \u001b[04m\u001b[31;01m:\u001b[39;49;00m\u001b[04m\u001b[31;01m:\u001b[39;49;00m\u001b[04m\u001b[32mclang\u001b[39;49;00m::Decl  \u001b[34mconst\u001b[39;49;00m *) = ::clang::Decl::castToDeclContext;\n",
      "    \u001b[36mbool\u001b[39;49;00m  (*method_pointer_419a9d8540d85557b3f7a897df31dcb4)(\u001b[34menum\u001b[39;49;00m ::clang::Decl::Kind ) = ::clang::Decl::classofKind;\n",
      "    \u001b[36mvoid\u001b[39;49;00m  (::clang::Decl::*method_pointer_fbe452f7a5065f8cbfda8e75df748781)() = &::clang::Decl::dropAttrs;\n",
      "    \u001b[36mvoid\u001b[39;49;00m  (::clang::Decl::*method_pointer_8c64e67b52545e9ca1e074ee9e6d0c80)() \u001b[34mconst\u001b[39;49;00m = &::clang::Decl::dump;\n",
      "    \u001b[36mvoid\u001b[39;49;00m  (::clang::Decl::*method_pointer_39a061ddd65c55bfa8a270c9aa6f6c24)() \u001b[34mconst\u001b[39;49;00m = &::clang::Decl::dumpColor;\n",
      "    \u001b[34mclass\u001b[39;49;00m \u001b[04m\u001b[31;01m:\u001b[39;49;00m\u001b[04m\u001b[31;01m:\u001b[39;49;00m\u001b[04m\u001b[32mclang\u001b[39;49;00m::ASTContext  & (::clang::Decl::*method_pointer_987fcbe10608581f88c8aa3fdfe3f916)() \u001b[34mconst\u001b[39;49;00m = &::clang::Decl::getASTContext;\n",
      "    \u001b[34menum\u001b[39;49;00m ::clang::AccessSpecifier  (::clang::Decl::*method_pointer_fc613a30141a56c7a4abdcd0bb9c7d18)() \u001b[34mconst\u001b[39;49;00m = &::clang::Decl::getAccess;\n",
      "    \u001b[34menum\u001b[39;49;00m ::clang::AccessSpecifier  (::clang::Decl::*method_pointer_5ae30ce20ba75408848ecb88e512cf6c)() \u001b[34mconst\u001b[39;49;00m = &::clang::Decl::getAccessUnsafe;\n",
      "    \u001b[34mclass\u001b[39;49;00m \u001b[04m\u001b[31;01m:\u001b[39;49;00m\u001b[04m\u001b[31;01m:\u001b[39;49;00m\u001b[04m\u001b[32mclang\u001b[39;49;00m::FunctionDecl  * (::clang::Decl::*method_pointer_588ebdbd90c5588ab1025af9f7b2d4aa)() = &::clang::Decl::getAsFunction;\n",
      "    \u001b[34mclass\u001b[39;49;00m \u001b[04m\u001b[31;01m:\u001b[39;49;00m\u001b[04m\u001b[31;01m:\u001b[39;49;00m\u001b[04m\u001b[32mclang\u001b[39;49;00m::FunctionDecl  \u001b[34mconst\u001b[39;49;00m * (::clang::Decl::*method_pointer_d53bf168dfaf5a13b14b3e8f9df048fc)() \u001b[34mconst\u001b[39;49;00m = &::clang::Decl::getAsFunction;\n",
      "    \u001b[34mclass\u001b[39;49;00m \u001b[04m\u001b[31;01m:\u001b[39;49;00m\u001b[04m\u001b[31;01m:\u001b[39;49;00m\u001b[04m\u001b[32mclang\u001b[39;49;00m::SourceLocation  (::clang::Decl::*method_pointer_3b01a364dea154a48e2a826ff522e7ea)() \u001b[34mconst\u001b[39;49;00m = &::clang::Decl::getBodyRBrace;\n",
      "    \u001b[34mclass\u001b[39;49;00m \u001b[04m\u001b[31;01m:\u001b[39;49;00m\u001b[04m\u001b[31;01m:\u001b[39;49;00m\u001b[04m\u001b[32mclang\u001b[39;49;00m::Decl  * (::clang::Decl::*method_pointer_9c4287af499250bead636f5b20084277)() = &::clang::Decl::getCanonicalDecl;\n",
      "    \u001b[34mclass\u001b[39;49;00m \u001b[04m\u001b[31;01m:\u001b[39;49;00m\u001b[04m\u001b[31;01m:\u001b[39;49;00m\u001b[04m\u001b[32mclang\u001b[39;49;00m::Decl  \u001b[34mconst\u001b[39;49;00m * (::clang::Decl::*method_pointer_24c91203cb67547581a0c01456b61432)() \u001b[34mconst\u001b[39;49;00m = &::clang::Decl::getCanonicalDecl;\n",
      "    \u001b[34mclass\u001b[39;49;00m \u001b[04m\u001b[31;01m:\u001b[39;49;00m\u001b[04m\u001b[31;01m:\u001b[39;49;00m\u001b[04m\u001b[32mclang\u001b[39;49;00m::DeclContext  \u001b[34mconst\u001b[39;49;00m * (::clang::Decl::*method_pointer_06c80e7457a4572eb4d634c80c8fd59e)() \u001b[34mconst\u001b[39;49;00m = &::clang::Decl::getDeclContext;\n",
      "    \u001b[34mclass\u001b[39;49;00m \u001b[04m\u001b[31;01m:\u001b[39;49;00m\u001b[04m\u001b[31;01m:\u001b[39;49;00m\u001b[04m\u001b[32mclang\u001b[39;49;00m::DeclContext  * (::clang::Decl::*method_pointer_3d5614a514a15831ac9c9053c3ac8c2e)() = &::clang::Decl::getDeclContext;\n",
      "    \u001b[34mclass\u001b[39;49;00m \u001b[04m\u001b[31;01m:\u001b[39;49;00m\u001b[04m\u001b[31;01m:\u001b[39;49;00m\u001b[04m\u001b[32mclang\u001b[39;49;00m::FunctionType  \u001b[34mconst\u001b[39;49;00m * (::clang::Decl::*method_pointer_392c7037bd7f5ad188e969cd47534882)(\u001b[36mbool\u001b[39;49;00m ) \u001b[34mconst\u001b[39;49;00m = &::clang::Decl::getFunctionType;\n",
      "    \u001b[36munsigned\u001b[39;49;00m \u001b[32mint\u001b[39;49;00m  (::clang::Decl::*method_pointer_54b1482245bb5accbf1b06f445e214f9)() \u001b[34mconst\u001b[39;49;00m = &::clang::Decl::getGlobalID;\n",
      "    \u001b[36munsigned\u001b[39;49;00m \u001b[32mint\u001b[39;49;00m  (::clang::Decl::*method_pointer_d1b5a41348605b38acc2dfe32c38fc72)() \u001b[34mconst\u001b[39;49;00m = &::clang::Decl::getIdentifierNamespace;\n",
      "    \u001b[36munsigned\u001b[39;49;00m \u001b[32mint\u001b[39;49;00m  (*method_pointer_7ed2527b3ca15ca29181827239a2423b)(\u001b[34menum\u001b[39;49;00m ::clang::Decl::Kind ) = ::clang::Decl::getIdentifierNamespaceForKind;\n",
      "    \u001b[34menum\u001b[39;49;00m ::clang::Decl::Kind  (::clang::Decl::*method_pointer_863bf04c7b3a5e3fae6fe0dc17275557)() \u001b[34mconst\u001b[39;49;00m = &::clang::Decl::getKind;\n",
      "    \u001b[34mclass\u001b[39;49;00m \u001b[04m\u001b[31;01m:\u001b[39;49;00m\u001b[04m\u001b[31;01m:\u001b[39;49;00m\u001b[04m\u001b[32mclang\u001b[39;49;00m::DeclContext  \u001b[34mconst\u001b[39;49;00m * (::clang::Decl::*method_pointer_735f9d33b83a53daaf5b9cf881239443)() \u001b[34mconst\u001b[39;49;00m = &::clang::Decl::getLexicalDeclContext;\n",
      "    \u001b[34mclass\u001b[39;49;00m \u001b[04m\u001b[31;01m:\u001b[39;49;00m\u001b[04m\u001b[31;01m:\u001b[39;49;00m\u001b[04m\u001b[32mclang\u001b[39;49;00m::DeclContext  * (::clang::Decl::*method_pointer_39c001889003500fad265352d554468f)() = &::clang::Decl::getLexicalDeclContext;\n",
      "    \u001b[34mclass\u001b[39;49;00m \u001b[04m\u001b[31;01m:\u001b[39;49;00m\u001b[04m\u001b[31;01m:\u001b[39;49;00m\u001b[04m\u001b[32mclang\u001b[39;49;00m::SourceLocation  (::clang::Decl::*method_pointer_2c443c699bdc56a69597cb0c0d7367bf)() \u001b[34mconst\u001b[39;49;00m = &::clang::Decl::getLocEnd;\n",
      "    \u001b[34mclass\u001b[39;49;00m \u001b[04m\u001b[31;01m:\u001b[39;49;00m\u001b[04m\u001b[31;01m:\u001b[39;49;00m\u001b[04m\u001b[32mclang\u001b[39;49;00m::SourceLocation  (::clang::Decl::*method_pointer_6e839248ab2d5d33bf97f2d1c9800c96)() \u001b[34mconst\u001b[39;49;00m = &::clang::Decl::getLocStart;\n",
      "    \u001b[34mclass\u001b[39;49;00m \u001b[04m\u001b[31;01m:\u001b[39;49;00m\u001b[04m\u001b[31;01m:\u001b[39;49;00m\u001b[04m\u001b[32mclang\u001b[39;49;00m::SourceLocation  (::clang::Decl::*method_pointer_f7dddfbbe9a25e419b1e9965a6dd484a)() \u001b[34mconst\u001b[39;49;00m = &::clang::Decl::getLocation;\n",
      "    \u001b[36munsigned\u001b[39;49;00m \u001b[32mint\u001b[39;49;00m  (::clang::Decl::*method_pointer_c07c7e8b13515d3790cdc63e5ea50beb)() \u001b[34mconst\u001b[39;49;00m = &::clang::Decl::getMaxAlignment;\n",
      "    \u001b[34mclass\u001b[39;49;00m \u001b[04m\u001b[31;01m:\u001b[39;49;00m\u001b[04m\u001b[31;01m:\u001b[39;49;00m\u001b[04m\u001b[32mclang\u001b[39;49;00m::Decl  * (::clang::Decl::*method_pointer_1535bb638fc554739d0db22af81c6cdb)() = &::clang::Decl::getMostRecentDecl;\n",
      "    \u001b[34mclass\u001b[39;49;00m \u001b[04m\u001b[31;01m:\u001b[39;49;00m\u001b[04m\u001b[31;01m:\u001b[39;49;00m\u001b[04m\u001b[32mclang\u001b[39;49;00m::Decl  \u001b[34mconst\u001b[39;49;00m * (::clang::Decl::*method_pointer_1169a923319c5f29aa9681dd2adb8d68)() \u001b[34mconst\u001b[39;49;00m = &::clang::Decl::getMostRecentDecl;\n",
      "    \u001b[34mclass\u001b[39;49;00m \u001b[04m\u001b[31;01m:\u001b[39;49;00m\u001b[04m\u001b[31;01m:\u001b[39;49;00m\u001b[04m\u001b[32mclang\u001b[39;49;00m::Decl  * (::clang::Decl::*method_pointer_794b9c614a61557291ebabce6cd67012)() = &::clang::Decl::getNextDeclInContext;\n",
      "    \u001b[34mclass\u001b[39;49;00m \u001b[04m\u001b[31;01m:\u001b[39;49;00m\u001b[04m\u001b[31;01m:\u001b[39;49;00m\u001b[04m\u001b[32mclang\u001b[39;49;00m::Decl  \u001b[34mconst\u001b[39;49;00m * (::clang::Decl::*method_pointer_996d19cf88fc510b8c92524c80065cf2)() \u001b[34mconst\u001b[39;49;00m = &::clang::Decl::getNextDeclInContext;\n",
      "    \u001b[34mclass\u001b[39;49;00m \u001b[04m\u001b[31;01m:\u001b[39;49;00m\u001b[04m\u001b[31;01m:\u001b[39;49;00m\u001b[04m\u001b[32mclang\u001b[39;49;00m::Decl  * (::clang::Decl::*method_pointer_201db1e22a96574eab68981d4aa3d3f4)() = &::clang::Decl::getNonClosureContext;\n",
      "    \u001b[34mclass\u001b[39;49;00m \u001b[04m\u001b[31;01m:\u001b[39;49;00m\u001b[04m\u001b[31;01m:\u001b[39;49;00m\u001b[04m\u001b[32mclang\u001b[39;49;00m::Decl  \u001b[34mconst\u001b[39;49;00m * (::clang::Decl::*method_pointer_4b8062fcb4a75986be960e9a88cbb8c6)() \u001b[34mconst\u001b[39;49;00m = &::clang::Decl::getNonClosureContext;\n",
      "    \u001b[36munsigned\u001b[39;49;00m \u001b[32mint\u001b[39;49;00m  (::clang::Decl::*method_pointer_f0ee485615875ad38e82bc870af4275d)() \u001b[34mconst\u001b[39;49;00m = &::clang::Decl::getOwningModuleID;\n",
      "    \u001b[34mclass\u001b[39;49;00m \u001b[04m\u001b[31;01m:\u001b[39;49;00m\u001b[04m\u001b[31;01m:\u001b[39;49;00m\u001b[04m\u001b[32mclang\u001b[39;49;00m::DeclContext  * (::clang::Decl::*method_pointer_1bbea61259375c7e882c6557a374590c)() = &::clang::Decl::getParentFunctionOrMethod;\n",
      "    \u001b[34mclass\u001b[39;49;00m \u001b[04m\u001b[31;01m:\u001b[39;49;00m\u001b[04m\u001b[31;01m:\u001b[39;49;00m\u001b[04m\u001b[32mclang\u001b[39;49;00m::DeclContext  \u001b[34mconst\u001b[39;49;00m * (::clang::Decl::*method_pointer_59abae71910e55d8a6c3300c8e3a8b42)() \u001b[34mconst\u001b[39;49;00m = &::clang::Decl::getParentFunctionOrMethod;\n",
      "    \u001b[34mclass\u001b[39;49;00m \u001b[04m\u001b[31;01m:\u001b[39;49;00m\u001b[04m\u001b[31;01m:\u001b[39;49;00m\u001b[04m\u001b[32mclang\u001b[39;49;00m::Decl  \u001b[34mconst\u001b[39;49;00m * (::clang::Decl::*method_pointer_3f30df24d1e85197ac9e678001e3a94c)() \u001b[34mconst\u001b[39;49;00m = &::clang::Decl::getPreviousDecl;\n",
      "    \u001b[34mclass\u001b[39;49;00m \u001b[04m\u001b[31;01m:\u001b[39;49;00m\u001b[04m\u001b[31;01m:\u001b[39;49;00m\u001b[04m\u001b[32mclang\u001b[39;49;00m::Decl  * (::clang::Decl::*method_pointer_9a19b1adee3356ed9863beccf4e5ce51)() = &::clang::Decl::getPreviousDecl;\n",
      "    \u001b[34mclass\u001b[39;49;00m \u001b[04m\u001b[31;01m:\u001b[39;49;00m\u001b[04m\u001b[31;01m:\u001b[39;49;00m\u001b[04m\u001b[32mclang\u001b[39;49;00m::TranslationUnitDecl  \u001b[34mconst\u001b[39;49;00m * (::clang::Decl::*method_pointer_0cff91f40967555baa2eab0598605524)() \u001b[34mconst\u001b[39;49;00m = &::clang::Decl::getTranslationUnitDecl;\n",
      "    \u001b[34mclass\u001b[39;49;00m \u001b[04m\u001b[31;01m:\u001b[39;49;00m\u001b[04m\u001b[31;01m:\u001b[39;49;00m\u001b[04m\u001b[32mclang\u001b[39;49;00m::TranslationUnitDecl  * (::clang::Decl::*method_pointer_6cdf53c62ca45b4d8171dfd1cad9950e)() = &::clang::Decl::getTranslationUnitDecl;\n",
      "    \u001b[36mbool\u001b[39;49;00m  (::clang::Decl::*method_pointer_d2a1bbff0e525f73af57146789c4d0f6)() \u001b[34mconst\u001b[39;49;00m = &::clang::Decl::hasAttrs;\n",
      "    \u001b[36mbool\u001b[39;49;00m  (::clang::Decl::*method_pointer_02daf7651beb58779c41e0f5b3c49779)() \u001b[34mconst\u001b[39;49;00m = &::clang::Decl::hasBody;\n",
      "    \u001b[36mbool\u001b[39;49;00m  (::clang::Decl::*method_pointer_d2aa5116ea615bebb5f206aad0a3309c)() \u001b[34mconst\u001b[39;49;00m = &::clang::Decl::hasTagIdentifierNamespace;\n",
      "    \u001b[36mbool\u001b[39;49;00m  (::clang::Decl::*method_pointer_9ef2015e31e75e54b5940bfb5dbbdb33)() \u001b[34mconst\u001b[39;49;00m = &::clang::Decl::isCanonicalDecl;\n",
      "    \u001b[36mbool\u001b[39;49;00m  (::clang::Decl::*method_pointer_5d86bd3c2e935203905acf0a16d31d3d)() \u001b[34mconst\u001b[39;49;00m = &::clang::Decl::isDefinedOutsideFunctionOrMethod;\n",
      "    \u001b[36mbool\u001b[39;49;00m  (::clang::Decl::*method_pointer_7d9cf1d06cd45d57bcf594821dfb1d81)() \u001b[34mconst\u001b[39;49;00m = &::clang::Decl::isFirstDecl;\n",
      "    \u001b[36mbool\u001b[39;49;00m  (::clang::Decl::*method_pointer_78b954b174fc599a8f2e3218bb8c5f4d)() \u001b[34mconst\u001b[39;49;00m = &::clang::Decl::isFromASTFile;\n",
      "    \u001b[36mbool\u001b[39;49;00m  (::clang::Decl::*method_pointer_a3f41e042312579ba2d743276c5dc22b)() \u001b[34mconst\u001b[39;49;00m = &::clang::Decl::isFunctionOrFunctionTemplate;\n",
      "    \u001b[36mbool\u001b[39;49;00m  (::clang::Decl::*method_pointer_4a4bee92e4f058d593b531bdf2d6f50b)() \u001b[34mconst\u001b[39;49;00m = &::clang::Decl::isImplicit;\n",
      "    \u001b[36mbool\u001b[39;49;00m  (::clang::Decl::*method_pointer_7a146e8eceeb5e3f93fcc450a362c724)() \u001b[34mconst\u001b[39;49;00m = &::clang::Decl::isInAnonymousNamespace;\n",
      "    \u001b[36mbool\u001b[39;49;00m  (::clang::Decl::*method_pointer_98b6f9e9a2b15d8080929d67f794fab2)(\u001b[36munsigned\u001b[39;49;00m \u001b[36mint\u001b[39;49;00m ) \u001b[34mconst\u001b[39;49;00m = &::clang::Decl::isInIdentifierNamespace;\n",
      "    \u001b[36mbool\u001b[39;49;00m  (::clang::Decl::*method_pointer_444036b50d61590090cae6a6561c16c4)() \u001b[34mconst\u001b[39;49;00m = &::clang::Decl::isInStdNamespace;\n",
      "    \u001b[36mbool\u001b[39;49;00m  (::clang::Decl::*method_pointer_a26f6d7cfe915f76be8ed7905748f505)() \u001b[34mconst\u001b[39;49;00m = &::clang::Decl::isInvalidDecl;\n",
      "    \u001b[36mbool\u001b[39;49;00m  (::clang::Decl::*method_pointer_bb1614c59d715d6c92cfcb7701c1d4f6)() \u001b[34mconst\u001b[39;49;00m = &::clang::Decl::isLexicallyWithinFunctionOrMethod;\n",
      "    \u001b[36mbool\u001b[39;49;00m  (::clang::Decl::*method_pointer_4929e5f878cd5073bf215eb2bdd27b02)() = &::clang::Decl::isLocalExternDecl;\n",
      "    \u001b[36mbool\u001b[39;49;00m  (::clang::Decl::*method_pointer_89e500b43f4d5ba381e7501efe004c79)() \u001b[34mconst\u001b[39;49;00m = &::clang::Decl::isModulePrivate;\n",
      "    \u001b[36mbool\u001b[39;49;00m  (::clang::Decl::*method_pointer_5665b606927859c48de56ce64b307db8)() \u001b[34mconst\u001b[39;49;00m = &::clang::Decl::isOutOfLine;\n",
      "    \u001b[36mbool\u001b[39;49;00m  (::clang::Decl::*method_pointer_9ba3481608ac5bc58204759a283a9159)() \u001b[34mconst\u001b[39;49;00m = &::clang::Decl::isParameterPack;\n",
      "    \u001b[36mbool\u001b[39;49;00m  (::clang::Decl::*method_pointer_f677107362d95b2fb2040258c45ff675)() \u001b[34mconst\u001b[39;49;00m = &::clang::Decl::isReferenced;\n",
      "    \u001b[36mbool\u001b[39;49;00m  (*method_pointer_a641878af4645ecbae6f6b3b1a456859)(\u001b[36munsigned\u001b[39;49;00m \u001b[36mint\u001b[39;49;00m ) = ::clang::Decl::isTagIdentifierNamespace;\n",
      "    \u001b[36mbool\u001b[39;49;00m  (::clang::Decl::*method_pointer_2cfd92d4215f5ec089a70808ce4f2697)() \u001b[34mconst\u001b[39;49;00m = &::clang::Decl::isTemplateDecl;\n",
      "    \u001b[36mbool\u001b[39;49;00m  (::clang::Decl::*method_pointer_ec03ff0ad2d35863a5b6276b0706e2a9)() \u001b[34mconst\u001b[39;49;00m = &::clang::Decl::isTemplateParameter;\n",
      "    \u001b[36mbool\u001b[39;49;00m  (::clang::Decl::*method_pointer_9456d14f814854e1b9d34667bd695bf4)() \u001b[34mconst\u001b[39;49;00m = &::clang::Decl::isTemplateParameterPack;\n",
      "    \u001b[36mbool\u001b[39;49;00m  (::clang::Decl::*method_pointer_aae161254e375ea2aeeea5c8c117becd)() \u001b[34mconst\u001b[39;49;00m = &::clang::Decl::isThisDeclarationReferenced;\n",
      "    \u001b[36mbool\u001b[39;49;00m  (::clang::Decl::*method_pointer_10f2c21331f65bf4a9ff16f0268c848c)() \u001b[34mconst\u001b[39;49;00m = &::clang::Decl::isTopLevelDeclInObjCContainer;\n",
      "    \u001b[36mbool\u001b[39;49;00m  (::clang::Decl::*method_pointer_dd18e174216a5205ad409b7cbb2bf3e6)(\u001b[36mbool\u001b[39;49;00m ) \u001b[34mconst\u001b[39;49;00m = &::clang::Decl::isUsed;\n",
      "    \u001b[36mbool\u001b[39;49;00m  (::clang::Decl::*method_pointer_50ddd7359390587a8756d8a207c2509d)() \u001b[34mconst\u001b[39;49;00m = &::clang::Decl::isWeakImported;\n",
      "    \u001b[36mvoid\u001b[39;49;00m  (::clang::Decl::*method_pointer_b710369c0cdc52f482f86673211a949b)(\u001b[34mclass\u001b[39;49;00m \u001b[04m\u001b[31;01m:\u001b[39;49;00m\u001b[04m\u001b[31;01m:\u001b[39;49;00m\u001b[04m\u001b[32mclang\u001b[39;49;00m::ASTContext  &) = &::clang::Decl::markUsed;\n",
      "    \u001b[36mvoid\u001b[39;49;00m  (::clang::Decl::*method_pointer_cc7b51f51e96510686a1123d65a777f5)(\u001b[34menum\u001b[39;49;00m ::clang::AccessSpecifier ) = &::clang::Decl::setAccess;\n",
      "    \u001b[36mvoid\u001b[39;49;00m  (::clang::Decl::*method_pointer_7694d4d2ada55b60863a20ccc80c0ef6)(\u001b[34mclass\u001b[39;49;00m \u001b[04m\u001b[31;01m:\u001b[39;49;00m\u001b[04m\u001b[31;01m:\u001b[39;49;00m\u001b[04m\u001b[32mclang\u001b[39;49;00m::DeclContext  *) = &::clang::Decl::setDeclContext;\n",
      "    \u001b[36mvoid\u001b[39;49;00m  (::clang::Decl::*method_pointer_0d8d442459bb560d968653357ce1e2da)(\u001b[36mbool\u001b[39;49;00m ) = &::clang::Decl::setImplicit;\n",
      "    \u001b[36mvoid\u001b[39;49;00m  (::clang::Decl::*method_pointer_1e8412e1c7a258c7ac5bf4667bcbc20f)(\u001b[36mbool\u001b[39;49;00m ) = &::clang::Decl::setInvalidDecl;\n",
      "    \u001b[36mvoid\u001b[39;49;00m  (::clang::Decl::*method_pointer_060e41efc12b5d2c9cb83ae94bbdb6e6)() = &::clang::Decl::setIsUsed;\n",
      "    \u001b[36mvoid\u001b[39;49;00m  (::clang::Decl::*method_pointer_70bd9c3743f256e684f47b4c62f43d48)(\u001b[34mclass\u001b[39;49;00m \u001b[04m\u001b[31;01m:\u001b[39;49;00m\u001b[04m\u001b[31;01m:\u001b[39;49;00m\u001b[04m\u001b[32mclang\u001b[39;49;00m::DeclContext  *) = &::clang::Decl::setLexicalDeclContext;\n",
      "    \u001b[36mvoid\u001b[39;49;00m  (::clang::Decl::*method_pointer_b4649db121365b90a3ed7a00cbe76d38)() = &::clang::Decl::setLocalExternDecl;\n",
      "    \u001b[36mvoid\u001b[39;49;00m  (::clang::Decl::*method_pointer_dfa4211c03ae505f819fada529f3cd3e)(\u001b[34mclass\u001b[39;49;00m \u001b[04m\u001b[31;01m:\u001b[39;49;00m\u001b[04m\u001b[31;01m:\u001b[39;49;00m\u001b[04m\u001b[32mclang\u001b[39;49;00m::SourceLocation ) = &::clang::Decl::setLocation;\n",
      "    \u001b[36mvoid\u001b[39;49;00m  (::clang::Decl::*method_pointer_ca3d413307b35318adb7ca0ebacede20)() = &::clang::Decl::setNonMemberOperator;\n",
      "    \u001b[36mvoid\u001b[39;49;00m  (::clang::Decl::*method_pointer_7e95cf5ddf46540c87d502ad84406fbc)(\u001b[36mbool\u001b[39;49;00m ) = &::clang::Decl::setObjectOfFriendDecl;\n",
      "    \u001b[36mvoid\u001b[39;49;00m  (::clang::Decl::*method_pointer_a8f9a4516b2e5a7aa6fe6515be3b914b)(\u001b[36mbool\u001b[39;49;00m ) = &::clang::Decl::setReferenced;\n",
      "    \u001b[36mvoid\u001b[39;49;00m  (::clang::Decl::*method_pointer_4cf35b7b7bc25a60b0393f29aad2b22c)(\u001b[36mbool\u001b[39;49;00m ) = &::clang::Decl::setTopLevelDeclInObjCContainer;\n",
      "    \u001b[34mstruct\u001b[39;49;00m function_group\n",
      "    {\n",
      "        \u001b[34mstatic\u001b[39;49;00m \u001b[34mclass\u001b[39;49;00m \u001b[04m\u001b[31;01m:\u001b[39;49;00m\u001b[04m\u001b[31;01m:\u001b[39;49;00m\u001b[04m\u001b[32mboost\u001b[39;49;00m::python::str  function_9c12cc81db695d41bdbc576ebdc8cec5(\u001b[34mclass\u001b[39;49;00m \u001b[04m\u001b[31;01m:\u001b[39;49;00m\u001b[04m\u001b[31;01m:\u001b[39;49;00m\u001b[04m\u001b[32mclang\u001b[39;49;00m::Decl  * parameter_0)\n",
      "        { \u001b[34mreturn\u001b[39;49;00m ::clanglite::get_comment(parameter_0); }\n",
      "    };\n",
      "    boost::python::class_< \u001b[34mclass\u001b[39;49;00m \u001b[04m\u001b[31;01m:\u001b[39;49;00m\u001b[04m\u001b[31;01m:\u001b[39;49;00m\u001b[04m\u001b[32mclang\u001b[39;49;00m::Decl, autowig::HeldType< \u001b[34mclass\u001b[39;49;00m \u001b[04m\u001b[31;01m:\u001b[39;49;00m\u001b[04m\u001b[31;01m:\u001b[39;49;00m\u001b[04m\u001b[32mclang\u001b[39;49;00m::Decl >, boost::noncopyable > class_a6aedb4654a55a40aeecf4b1dc5fcc98(\u001b[33m\"\u001b[39;49;00m\u001b[33mDecl\u001b[39;49;00m\u001b[33m\"\u001b[39;49;00m, \u001b[33m\"\u001b[39;49;00m\u001b[33m\"\u001b[39;49;00m, boost::python::no_init);\n",
      "    class_a6aedb4654a55a40aeecf4b1dc5fcc98.def(\u001b[33m\"\u001b[39;49;00m\u001b[33menable_statistics\u001b[39;49;00m\u001b[33m\"\u001b[39;49;00m, method_pointer_924ad1fe0a4a501aa0c99be3b5fd8380, \u001b[33m\"\u001b[39;49;00m\u001b[33m\"\u001b[39;49;00m);\n",
      "    class_a6aedb4654a55a40aeecf4b1dc5fcc98.def(\u001b[33m\"\u001b[39;49;00m\u001b[33mprint_stats\u001b[39;49;00m\u001b[33m\"\u001b[39;49;00m, method_pointer_060768f146c95f53adb18aa4a6858a2e, \u001b[33m\"\u001b[39;49;00m\u001b[33m\"\u001b[39;49;00m);\n",
      "    class_a6aedb4654a55a40aeecf4b1dc5fcc98.def(\u001b[33m\"\u001b[39;49;00m\u001b[33madd\u001b[39;49;00m\u001b[33m\"\u001b[39;49;00m, method_pointer_18a1f7ea7391583a949cfce33b80e1d3, \u001b[33m\"\u001b[39;49;00m\u001b[33m\"\u001b[39;49;00m);\n",
      "    class_a6aedb4654a55a40aeecf4b1dc5fcc98.def(\u001b[33m\"\u001b[39;49;00m\u001b[33mcan_be_weak_imported\u001b[39;49;00m\u001b[33m\"\u001b[39;49;00m, method_pointer_fe7c5a3100995a5686f5c3b0ad58e184, \u001b[33m\"\u001b[39;49;00m\u001b[33m\"\u001b[39;49;00m);\n",
      "    class_a6aedb4654a55a40aeecf4b1dc5fcc98.def(\u001b[33m\"\u001b[39;49;00m\u001b[33mcast_from_decl_context\u001b[39;49;00m\u001b[33m\"\u001b[39;49;00m, method_pointer_f332ee01ca4f5143920cc7d1f981f644, boost::python::return_value_policy< boost::python::reference_existing_object >(), \u001b[33m\"\u001b[39;49;00m\u001b[33m\"\u001b[39;49;00m);\n",
      "    class_a6aedb4654a55a40aeecf4b1dc5fcc98.def(\u001b[33m\"\u001b[39;49;00m\u001b[33mcast_to_decl_context\u001b[39;49;00m\u001b[33m\"\u001b[39;49;00m, method_pointer_10b156f4b15d51fbb38bc83f1ed20212, boost::python::return_value_policy< boost::python::reference_existing_object >(), \u001b[33m\"\u001b[39;49;00m\u001b[33m\"\u001b[39;49;00m);\n",
      "    class_a6aedb4654a55a40aeecf4b1dc5fcc98.def(\u001b[33m\"\u001b[39;49;00m\u001b[33mclassof_kind\u001b[39;49;00m\u001b[33m\"\u001b[39;49;00m, method_pointer_419a9d8540d85557b3f7a897df31dcb4, \u001b[33m\"\u001b[39;49;00m\u001b[33m\"\u001b[39;49;00m);\n",
      "    class_a6aedb4654a55a40aeecf4b1dc5fcc98.def(\u001b[33m\"\u001b[39;49;00m\u001b[33mdrop_attrs\u001b[39;49;00m\u001b[33m\"\u001b[39;49;00m, method_pointer_fbe452f7a5065f8cbfda8e75df748781, \u001b[33m\"\u001b[39;49;00m\u001b[33m\"\u001b[39;49;00m);\n",
      "    class_a6aedb4654a55a40aeecf4b1dc5fcc98.def(\u001b[33m\"\u001b[39;49;00m\u001b[33mdump\u001b[39;49;00m\u001b[33m\"\u001b[39;49;00m, method_pointer_8c64e67b52545e9ca1e074ee9e6d0c80, \u001b[33m\"\u001b[39;49;00m\u001b[33m\"\u001b[39;49;00m);\n",
      "    class_a6aedb4654a55a40aeecf4b1dc5fcc98.def(\u001b[33m\"\u001b[39;49;00m\u001b[33mdump_color\u001b[39;49;00m\u001b[33m\"\u001b[39;49;00m, method_pointer_39a061ddd65c55bfa8a270c9aa6f6c24, \u001b[33m\"\u001b[39;49;00m\u001b[33m\"\u001b[39;49;00m);\n",
      "    class_a6aedb4654a55a40aeecf4b1dc5fcc98.def(\u001b[33m\"\u001b[39;49;00m\u001b[33mget_ast_context\u001b[39;49;00m\u001b[33m\"\u001b[39;49;00m, method_pointer_987fcbe10608581f88c8aa3fdfe3f916, boost::python::return_internal_reference<>(), \u001b[33m\"\u001b[39;49;00m\u001b[33m\"\u001b[39;49;00m);\n",
      "    class_a6aedb4654a55a40aeecf4b1dc5fcc98.def(\u001b[33m\"\u001b[39;49;00m\u001b[33mget_access\u001b[39;49;00m\u001b[33m\"\u001b[39;49;00m, method_pointer_fc613a30141a56c7a4abdcd0bb9c7d18, \u001b[33m\"\u001b[39;49;00m\u001b[33m\"\u001b[39;49;00m);\n",
      "    class_a6aedb4654a55a40aeecf4b1dc5fcc98.def(\u001b[33m\"\u001b[39;49;00m\u001b[33mget_access_unsafe\u001b[39;49;00m\u001b[33m\"\u001b[39;49;00m, method_pointer_5ae30ce20ba75408848ecb88e512cf6c, \u001b[33m\"\u001b[39;49;00m\u001b[33m\"\u001b[39;49;00m);\n",
      "    class_a6aedb4654a55a40aeecf4b1dc5fcc98.def(\u001b[33m\"\u001b[39;49;00m\u001b[33mget_as_function\u001b[39;49;00m\u001b[33m\"\u001b[39;49;00m, method_pointer_588ebdbd90c5588ab1025af9f7b2d4aa, boost::python::return_value_policy< boost::python::reference_existing_object >(), \u001b[33m\"\u001b[39;49;00m\u001b[33m\"\u001b[39;49;00m);\n",
      "    class_a6aedb4654a55a40aeecf4b1dc5fcc98.def(\u001b[33m\"\u001b[39;49;00m\u001b[33mget_as_function\u001b[39;49;00m\u001b[33m\"\u001b[39;49;00m, method_pointer_d53bf168dfaf5a13b14b3e8f9df048fc, boost::python::return_value_policy< boost::python::reference_existing_object >(), \u001b[33m\"\u001b[39;49;00m\u001b[33m\"\u001b[39;49;00m);\n",
      "    class_a6aedb4654a55a40aeecf4b1dc5fcc98.def(\u001b[33m\"\u001b[39;49;00m\u001b[33mget_body_r_brace\u001b[39;49;00m\u001b[33m\"\u001b[39;49;00m, method_pointer_3b01a364dea154a48e2a826ff522e7ea, \u001b[33m\"\u001b[39;49;00m\u001b[33m\"\u001b[39;49;00m);\n",
      "    class_a6aedb4654a55a40aeecf4b1dc5fcc98.def(\u001b[33m\"\u001b[39;49;00m\u001b[33mget_canonical_decl\u001b[39;49;00m\u001b[33m\"\u001b[39;49;00m, method_pointer_9c4287af499250bead636f5b20084277, boost::python::return_value_policy< boost::python::reference_existing_object >(), \u001b[33m\"\u001b[39;49;00m\u001b[33m\"\u001b[39;49;00m);\n",
      "    class_a6aedb4654a55a40aeecf4b1dc5fcc98.def(\u001b[33m\"\u001b[39;49;00m\u001b[33mget_canonical_decl\u001b[39;49;00m\u001b[33m\"\u001b[39;49;00m, method_pointer_24c91203cb67547581a0c01456b61432, boost::python::return_value_policy< boost::python::reference_existing_object >(), \u001b[33m\"\u001b[39;49;00m\u001b[33m\"\u001b[39;49;00m);\n",
      "    class_a6aedb4654a55a40aeecf4b1dc5fcc98.def(\u001b[33m\"\u001b[39;49;00m\u001b[33mget_decl_context\u001b[39;49;00m\u001b[33m\"\u001b[39;49;00m, method_pointer_06c80e7457a4572eb4d634c80c8fd59e, boost::python::return_value_policy< boost::python::reference_existing_object >(), \u001b[33m\"\u001b[39;49;00m\u001b[33m\"\u001b[39;49;00m);\n",
      "    class_a6aedb4654a55a40aeecf4b1dc5fcc98.def(\u001b[33m\"\u001b[39;49;00m\u001b[33mget_decl_context\u001b[39;49;00m\u001b[33m\"\u001b[39;49;00m, method_pointer_3d5614a514a15831ac9c9053c3ac8c2e, boost::python::return_value_policy< boost::python::reference_existing_object >(), \u001b[33m\"\u001b[39;49;00m\u001b[33m\"\u001b[39;49;00m);\n",
      "    class_a6aedb4654a55a40aeecf4b1dc5fcc98.def(\u001b[33m\"\u001b[39;49;00m\u001b[33mget_function_type\u001b[39;49;00m\u001b[33m\"\u001b[39;49;00m, method_pointer_392c7037bd7f5ad188e969cd47534882, boost::python::return_value_policy< boost::python::reference_existing_object >(), \u001b[33m\"\u001b[39;49;00m\u001b[33m\"\u001b[39;49;00m);\n",
      "    class_a6aedb4654a55a40aeecf4b1dc5fcc98.def(\u001b[33m\"\u001b[39;49;00m\u001b[33mget_global_id\u001b[39;49;00m\u001b[33m\"\u001b[39;49;00m, method_pointer_54b1482245bb5accbf1b06f445e214f9, \u001b[33m\"\u001b[39;49;00m\u001b[33m\"\u001b[39;49;00m);\n",
      "    class_a6aedb4654a55a40aeecf4b1dc5fcc98.def(\u001b[33m\"\u001b[39;49;00m\u001b[33mget_identifier_namespace\u001b[39;49;00m\u001b[33m\"\u001b[39;49;00m, method_pointer_d1b5a41348605b38acc2dfe32c38fc72, \u001b[33m\"\u001b[39;49;00m\u001b[33m\"\u001b[39;49;00m);\n",
      "    class_a6aedb4654a55a40aeecf4b1dc5fcc98.def(\u001b[33m\"\u001b[39;49;00m\u001b[33mget_identifier_namespace_for_kind\u001b[39;49;00m\u001b[33m\"\u001b[39;49;00m, method_pointer_7ed2527b3ca15ca29181827239a2423b, \u001b[33m\"\u001b[39;49;00m\u001b[33m\"\u001b[39;49;00m);\n",
      "    class_a6aedb4654a55a40aeecf4b1dc5fcc98.def(\u001b[33m\"\u001b[39;49;00m\u001b[33mget_kind\u001b[39;49;00m\u001b[33m\"\u001b[39;49;00m, method_pointer_863bf04c7b3a5e3fae6fe0dc17275557, \u001b[33m\"\u001b[39;49;00m\u001b[33m\"\u001b[39;49;00m);\n",
      "    class_a6aedb4654a55a40aeecf4b1dc5fcc98.def(\u001b[33m\"\u001b[39;49;00m\u001b[33mget_lexical_decl_context\u001b[39;49;00m\u001b[33m\"\u001b[39;49;00m, method_pointer_735f9d33b83a53daaf5b9cf881239443, boost::python::return_value_policy< boost::python::reference_existing_object >(), \u001b[33m\"\u001b[39;49;00m\u001b[33m\"\u001b[39;49;00m);\n",
      "    class_a6aedb4654a55a40aeecf4b1dc5fcc98.def(\u001b[33m\"\u001b[39;49;00m\u001b[33mget_lexical_decl_context\u001b[39;49;00m\u001b[33m\"\u001b[39;49;00m, method_pointer_39c001889003500fad265352d554468f, boost::python::return_value_policy< boost::python::reference_existing_object >(), \u001b[33m\"\u001b[39;49;00m\u001b[33m\"\u001b[39;49;00m);\n",
      "    class_a6aedb4654a55a40aeecf4b1dc5fcc98.def(\u001b[33m\"\u001b[39;49;00m\u001b[33mget_loc_end\u001b[39;49;00m\u001b[33m\"\u001b[39;49;00m, method_pointer_2c443c699bdc56a69597cb0c0d7367bf, \u001b[33m\"\u001b[39;49;00m\u001b[33m\"\u001b[39;49;00m);\n",
      "    class_a6aedb4654a55a40aeecf4b1dc5fcc98.def(\u001b[33m\"\u001b[39;49;00m\u001b[33mget_loc_start\u001b[39;49;00m\u001b[33m\"\u001b[39;49;00m, method_pointer_6e839248ab2d5d33bf97f2d1c9800c96, \u001b[33m\"\u001b[39;49;00m\u001b[33m\"\u001b[39;49;00m);\n",
      "    class_a6aedb4654a55a40aeecf4b1dc5fcc98.def(\u001b[33m\"\u001b[39;49;00m\u001b[33mget_location\u001b[39;49;00m\u001b[33m\"\u001b[39;49;00m, method_pointer_f7dddfbbe9a25e419b1e9965a6dd484a, \u001b[33m\"\u001b[39;49;00m\u001b[33m\"\u001b[39;49;00m);\n",
      "    class_a6aedb4654a55a40aeecf4b1dc5fcc98.def(\u001b[33m\"\u001b[39;49;00m\u001b[33mget_max_alignment\u001b[39;49;00m\u001b[33m\"\u001b[39;49;00m, method_pointer_c07c7e8b13515d3790cdc63e5ea50beb, \u001b[33m\"\u001b[39;49;00m\u001b[33m\"\u001b[39;49;00m);\n",
      "    class_a6aedb4654a55a40aeecf4b1dc5fcc98.def(\u001b[33m\"\u001b[39;49;00m\u001b[33mget_most_recent_decl\u001b[39;49;00m\u001b[33m\"\u001b[39;49;00m, method_pointer_1535bb638fc554739d0db22af81c6cdb, boost::python::return_value_policy< boost::python::reference_existing_object >(), \u001b[33m\"\u001b[39;49;00m\u001b[33m\"\u001b[39;49;00m);\n",
      "    class_a6aedb4654a55a40aeecf4b1dc5fcc98.def(\u001b[33m\"\u001b[39;49;00m\u001b[33mget_most_recent_decl\u001b[39;49;00m\u001b[33m\"\u001b[39;49;00m, method_pointer_1169a923319c5f29aa9681dd2adb8d68, boost::python::return_value_policy< boost::python::reference_existing_object >(), \u001b[33m\"\u001b[39;49;00m\u001b[33m\"\u001b[39;49;00m);\n",
      "    class_a6aedb4654a55a40aeecf4b1dc5fcc98.def(\u001b[33m\"\u001b[39;49;00m\u001b[33mget_next_decl_in_context\u001b[39;49;00m\u001b[33m\"\u001b[39;49;00m, method_pointer_794b9c614a61557291ebabce6cd67012, boost::python::return_value_policy< boost::python::reference_existing_object >(), \u001b[33m\"\u001b[39;49;00m\u001b[33m\"\u001b[39;49;00m);\n",
      "    class_a6aedb4654a55a40aeecf4b1dc5fcc98.def(\u001b[33m\"\u001b[39;49;00m\u001b[33mget_next_decl_in_context\u001b[39;49;00m\u001b[33m\"\u001b[39;49;00m, method_pointer_996d19cf88fc510b8c92524c80065cf2, boost::python::return_value_policy< boost::python::reference_existing_object >(), \u001b[33m\"\u001b[39;49;00m\u001b[33m\"\u001b[39;49;00m);\n",
      "    class_a6aedb4654a55a40aeecf4b1dc5fcc98.def(\u001b[33m\"\u001b[39;49;00m\u001b[33mget_non_closure_context\u001b[39;49;00m\u001b[33m\"\u001b[39;49;00m, method_pointer_201db1e22a96574eab68981d4aa3d3f4, boost::python::return_value_policy< boost::python::reference_existing_object >(), \u001b[33m\"\u001b[39;49;00m\u001b[33m\"\u001b[39;49;00m);\n",
      "    class_a6aedb4654a55a40aeecf4b1dc5fcc98.def(\u001b[33m\"\u001b[39;49;00m\u001b[33mget_non_closure_context\u001b[39;49;00m\u001b[33m\"\u001b[39;49;00m, method_pointer_4b8062fcb4a75986be960e9a88cbb8c6, boost::python::return_value_policy< boost::python::reference_existing_object >(), \u001b[33m\"\u001b[39;49;00m\u001b[33m\"\u001b[39;49;00m);\n",
      "    class_a6aedb4654a55a40aeecf4b1dc5fcc98.def(\u001b[33m\"\u001b[39;49;00m\u001b[33mget_owning_module_id\u001b[39;49;00m\u001b[33m\"\u001b[39;49;00m, method_pointer_f0ee485615875ad38e82bc870af4275d, \u001b[33m\"\u001b[39;49;00m\u001b[33m\"\u001b[39;49;00m);\n",
      "    class_a6aedb4654a55a40aeecf4b1dc5fcc98.def(\u001b[33m\"\u001b[39;49;00m\u001b[33mget_parent_function_or_method\u001b[39;49;00m\u001b[33m\"\u001b[39;49;00m, method_pointer_1bbea61259375c7e882c6557a374590c, boost::python::return_value_policy< boost::python::reference_existing_object >(), \u001b[33m\"\u001b[39;49;00m\u001b[33m\"\u001b[39;49;00m);\n",
      "    class_a6aedb4654a55a40aeecf4b1dc5fcc98.def(\u001b[33m\"\u001b[39;49;00m\u001b[33mget_parent_function_or_method\u001b[39;49;00m\u001b[33m\"\u001b[39;49;00m, method_pointer_59abae71910e55d8a6c3300c8e3a8b42, boost::python::return_value_policy< boost::python::reference_existing_object >(), \u001b[33m\"\u001b[39;49;00m\u001b[33m\"\u001b[39;49;00m);\n",
      "    class_a6aedb4654a55a40aeecf4b1dc5fcc98.def(\u001b[33m\"\u001b[39;49;00m\u001b[33mget_previous_decl\u001b[39;49;00m\u001b[33m\"\u001b[39;49;00m, method_pointer_3f30df24d1e85197ac9e678001e3a94c, boost::python::return_value_policy< boost::python::reference_existing_object >(), \u001b[33m\"\u001b[39;49;00m\u001b[33m\"\u001b[39;49;00m);\n",
      "    class_a6aedb4654a55a40aeecf4b1dc5fcc98.def(\u001b[33m\"\u001b[39;49;00m\u001b[33mget_previous_decl\u001b[39;49;00m\u001b[33m\"\u001b[39;49;00m, method_pointer_9a19b1adee3356ed9863beccf4e5ce51, boost::python::return_value_policy< boost::python::reference_existing_object >(), \u001b[33m\"\u001b[39;49;00m\u001b[33m\"\u001b[39;49;00m);\n",
      "    class_a6aedb4654a55a40aeecf4b1dc5fcc98.def(\u001b[33m\"\u001b[39;49;00m\u001b[33mget_translation_unit_decl\u001b[39;49;00m\u001b[33m\"\u001b[39;49;00m, method_pointer_0cff91f40967555baa2eab0598605524, boost::python::return_value_policy< boost::python::reference_existing_object >(), \u001b[33m\"\u001b[39;49;00m\u001b[33m\"\u001b[39;49;00m);\n",
      "    class_a6aedb4654a55a40aeecf4b1dc5fcc98.def(\u001b[33m\"\u001b[39;49;00m\u001b[33mget_translation_unit_decl\u001b[39;49;00m\u001b[33m\"\u001b[39;49;00m, method_pointer_6cdf53c62ca45b4d8171dfd1cad9950e, boost::python::return_value_policy< boost::python::reference_existing_object >(), \u001b[33m\"\u001b[39;49;00m\u001b[33m\"\u001b[39;49;00m);\n",
      "    class_a6aedb4654a55a40aeecf4b1dc5fcc98.def(\u001b[33m\"\u001b[39;49;00m\u001b[33mhas_attrs\u001b[39;49;00m\u001b[33m\"\u001b[39;49;00m, method_pointer_d2a1bbff0e525f73af57146789c4d0f6, \u001b[33m\"\u001b[39;49;00m\u001b[33m\"\u001b[39;49;00m);\n",
      "    class_a6aedb4654a55a40aeecf4b1dc5fcc98.def(\u001b[33m\"\u001b[39;49;00m\u001b[33mhas_body\u001b[39;49;00m\u001b[33m\"\u001b[39;49;00m, method_pointer_02daf7651beb58779c41e0f5b3c49779, \u001b[33m\"\u001b[39;49;00m\u001b[33m\"\u001b[39;49;00m);\n",
      "    class_a6aedb4654a55a40aeecf4b1dc5fcc98.def(\u001b[33m\"\u001b[39;49;00m\u001b[33mhas_tag_identifier_namespace\u001b[39;49;00m\u001b[33m\"\u001b[39;49;00m, method_pointer_d2aa5116ea615bebb5f206aad0a3309c, \u001b[33m\"\u001b[39;49;00m\u001b[33m\"\u001b[39;49;00m);\n",
      "    class_a6aedb4654a55a40aeecf4b1dc5fcc98.def(\u001b[33m\"\u001b[39;49;00m\u001b[33mis_canonical_decl\u001b[39;49;00m\u001b[33m\"\u001b[39;49;00m, method_pointer_9ef2015e31e75e54b5940bfb5dbbdb33, \u001b[33m\"\u001b[39;49;00m\u001b[33m\"\u001b[39;49;00m);\n",
      "    class_a6aedb4654a55a40aeecf4b1dc5fcc98.def(\u001b[33m\"\u001b[39;49;00m\u001b[33mis_defined_outside_function_or_method\u001b[39;49;00m\u001b[33m\"\u001b[39;49;00m, method_pointer_5d86bd3c2e935203905acf0a16d31d3d, \u001b[33m\"\u001b[39;49;00m\u001b[33m\"\u001b[39;49;00m);\n",
      "    class_a6aedb4654a55a40aeecf4b1dc5fcc98.def(\u001b[33m\"\u001b[39;49;00m\u001b[33mis_first_decl\u001b[39;49;00m\u001b[33m\"\u001b[39;49;00m, method_pointer_7d9cf1d06cd45d57bcf594821dfb1d81, \u001b[33m\"\u001b[39;49;00m\u001b[33m\"\u001b[39;49;00m);\n",
      "    class_a6aedb4654a55a40aeecf4b1dc5fcc98.def(\u001b[33m\"\u001b[39;49;00m\u001b[33mis_from_ast_file\u001b[39;49;00m\u001b[33m\"\u001b[39;49;00m, method_pointer_78b954b174fc599a8f2e3218bb8c5f4d, \u001b[33m\"\u001b[39;49;00m\u001b[33m\"\u001b[39;49;00m);\n",
      "    class_a6aedb4654a55a40aeecf4b1dc5fcc98.def(\u001b[33m\"\u001b[39;49;00m\u001b[33mis_function_or_function_template\u001b[39;49;00m\u001b[33m\"\u001b[39;49;00m, method_pointer_a3f41e042312579ba2d743276c5dc22b, \u001b[33m\"\u001b[39;49;00m\u001b[33m\"\u001b[39;49;00m);\n",
      "    class_a6aedb4654a55a40aeecf4b1dc5fcc98.def(\u001b[33m\"\u001b[39;49;00m\u001b[33mis_implicit\u001b[39;49;00m\u001b[33m\"\u001b[39;49;00m, method_pointer_4a4bee92e4f058d593b531bdf2d6f50b, \u001b[33m\"\u001b[39;49;00m\u001b[33m\"\u001b[39;49;00m);\n",
      "    class_a6aedb4654a55a40aeecf4b1dc5fcc98.def(\u001b[33m\"\u001b[39;49;00m\u001b[33mis_in_anonymous_namespace\u001b[39;49;00m\u001b[33m\"\u001b[39;49;00m, method_pointer_7a146e8eceeb5e3f93fcc450a362c724, \u001b[33m\"\u001b[39;49;00m\u001b[33m\"\u001b[39;49;00m);\n",
      "    class_a6aedb4654a55a40aeecf4b1dc5fcc98.def(\u001b[33m\"\u001b[39;49;00m\u001b[33mis_in_identifier_namespace\u001b[39;49;00m\u001b[33m\"\u001b[39;49;00m, method_pointer_98b6f9e9a2b15d8080929d67f794fab2, \u001b[33m\"\u001b[39;49;00m\u001b[33m\"\u001b[39;49;00m);\n",
      "    class_a6aedb4654a55a40aeecf4b1dc5fcc98.def(\u001b[33m\"\u001b[39;49;00m\u001b[33mis_in_std_namespace\u001b[39;49;00m\u001b[33m\"\u001b[39;49;00m, method_pointer_444036b50d61590090cae6a6561c16c4, \u001b[33m\"\u001b[39;49;00m\u001b[33m\"\u001b[39;49;00m);\n",
      "    class_a6aedb4654a55a40aeecf4b1dc5fcc98.def(\u001b[33m\"\u001b[39;49;00m\u001b[33mis_invalid_decl\u001b[39;49;00m\u001b[33m\"\u001b[39;49;00m, method_pointer_a26f6d7cfe915f76be8ed7905748f505, \u001b[33m\"\u001b[39;49;00m\u001b[33m\"\u001b[39;49;00m);\n",
      "    class_a6aedb4654a55a40aeecf4b1dc5fcc98.def(\u001b[33m\"\u001b[39;49;00m\u001b[33mis_lexically_within_function_or_method\u001b[39;49;00m\u001b[33m\"\u001b[39;49;00m, method_pointer_bb1614c59d715d6c92cfcb7701c1d4f6, \u001b[33m\"\u001b[39;49;00m\u001b[33m\"\u001b[39;49;00m);\n",
      "    class_a6aedb4654a55a40aeecf4b1dc5fcc98.def(\u001b[33m\"\u001b[39;49;00m\u001b[33mis_local_extern_decl\u001b[39;49;00m\u001b[33m\"\u001b[39;49;00m, method_pointer_4929e5f878cd5073bf215eb2bdd27b02, \u001b[33m\"\u001b[39;49;00m\u001b[33m\"\u001b[39;49;00m);\n",
      "    class_a6aedb4654a55a40aeecf4b1dc5fcc98.def(\u001b[33m\"\u001b[39;49;00m\u001b[33mis_module_private\u001b[39;49;00m\u001b[33m\"\u001b[39;49;00m, method_pointer_89e500b43f4d5ba381e7501efe004c79, \u001b[33m\"\u001b[39;49;00m\u001b[33m\"\u001b[39;49;00m);\n",
      "    class_a6aedb4654a55a40aeecf4b1dc5fcc98.def(\u001b[33m\"\u001b[39;49;00m\u001b[33mis_out_of_line\u001b[39;49;00m\u001b[33m\"\u001b[39;49;00m, method_pointer_5665b606927859c48de56ce64b307db8, \u001b[33m\"\u001b[39;49;00m\u001b[33m\"\u001b[39;49;00m);\n",
      "    class_a6aedb4654a55a40aeecf4b1dc5fcc98.def(\u001b[33m\"\u001b[39;49;00m\u001b[33mis_parameter_pack\u001b[39;49;00m\u001b[33m\"\u001b[39;49;00m, method_pointer_9ba3481608ac5bc58204759a283a9159, \u001b[33m\"\u001b[39;49;00m\u001b[33m\"\u001b[39;49;00m);\n",
      "    class_a6aedb4654a55a40aeecf4b1dc5fcc98.def(\u001b[33m\"\u001b[39;49;00m\u001b[33mis_referenced\u001b[39;49;00m\u001b[33m\"\u001b[39;49;00m, method_pointer_f677107362d95b2fb2040258c45ff675, \u001b[33m\"\u001b[39;49;00m\u001b[33m\"\u001b[39;49;00m);\n",
      "    class_a6aedb4654a55a40aeecf4b1dc5fcc98.def(\u001b[33m\"\u001b[39;49;00m\u001b[33mis_tag_identifier_namespace\u001b[39;49;00m\u001b[33m\"\u001b[39;49;00m, method_pointer_a641878af4645ecbae6f6b3b1a456859, \u001b[33m\"\u001b[39;49;00m\u001b[33m\"\u001b[39;49;00m);\n",
      "    class_a6aedb4654a55a40aeecf4b1dc5fcc98.def(\u001b[33m\"\u001b[39;49;00m\u001b[33mis_template_decl\u001b[39;49;00m\u001b[33m\"\u001b[39;49;00m, method_pointer_2cfd92d4215f5ec089a70808ce4f2697, \u001b[33m\"\u001b[39;49;00m\u001b[33m\"\u001b[39;49;00m);\n",
      "    class_a6aedb4654a55a40aeecf4b1dc5fcc98.def(\u001b[33m\"\u001b[39;49;00m\u001b[33mis_template_parameter\u001b[39;49;00m\u001b[33m\"\u001b[39;49;00m, method_pointer_ec03ff0ad2d35863a5b6276b0706e2a9, \u001b[33m\"\u001b[39;49;00m\u001b[33m\"\u001b[39;49;00m);\n",
      "    class_a6aedb4654a55a40aeecf4b1dc5fcc98.def(\u001b[33m\"\u001b[39;49;00m\u001b[33mis_template_parameter_pack\u001b[39;49;00m\u001b[33m\"\u001b[39;49;00m, method_pointer_9456d14f814854e1b9d34667bd695bf4, \u001b[33m\"\u001b[39;49;00m\u001b[33m\"\u001b[39;49;00m);\n",
      "    class_a6aedb4654a55a40aeecf4b1dc5fcc98.def(\u001b[33m\"\u001b[39;49;00m\u001b[33mis_this_declaration_referenced\u001b[39;49;00m\u001b[33m\"\u001b[39;49;00m, method_pointer_aae161254e375ea2aeeea5c8c117becd, \u001b[33m\"\u001b[39;49;00m\u001b[33m\"\u001b[39;49;00m);\n",
      "    class_a6aedb4654a55a40aeecf4b1dc5fcc98.def(\u001b[33m\"\u001b[39;49;00m\u001b[33mis_top_level_decl_in_obj_c_container\u001b[39;49;00m\u001b[33m\"\u001b[39;49;00m, method_pointer_10f2c21331f65bf4a9ff16f0268c848c, \u001b[33m\"\u001b[39;49;00m\u001b[33m\"\u001b[39;49;00m);\n",
      "    class_a6aedb4654a55a40aeecf4b1dc5fcc98.def(\u001b[33m\"\u001b[39;49;00m\u001b[33mis_used\u001b[39;49;00m\u001b[33m\"\u001b[39;49;00m, method_pointer_dd18e174216a5205ad409b7cbb2bf3e6, \u001b[33m\"\u001b[39;49;00m\u001b[33m\"\u001b[39;49;00m);\n",
      "    class_a6aedb4654a55a40aeecf4b1dc5fcc98.def(\u001b[33m\"\u001b[39;49;00m\u001b[33mis_weak_imported\u001b[39;49;00m\u001b[33m\"\u001b[39;49;00m, method_pointer_50ddd7359390587a8756d8a207c2509d, \u001b[33m\"\u001b[39;49;00m\u001b[33m\"\u001b[39;49;00m);\n",
      "    class_a6aedb4654a55a40aeecf4b1dc5fcc98.def(\u001b[33m\"\u001b[39;49;00m\u001b[33mmark_used\u001b[39;49;00m\u001b[33m\"\u001b[39;49;00m, method_pointer_b710369c0cdc52f482f86673211a949b, \u001b[33m\"\u001b[39;49;00m\u001b[33m\"\u001b[39;49;00m);\n",
      "    class_a6aedb4654a55a40aeecf4b1dc5fcc98.def(\u001b[33m\"\u001b[39;49;00m\u001b[33mset_access\u001b[39;49;00m\u001b[33m\"\u001b[39;49;00m, method_pointer_cc7b51f51e96510686a1123d65a777f5, \u001b[33m\"\u001b[39;49;00m\u001b[33m\"\u001b[39;49;00m);\n",
      "    class_a6aedb4654a55a40aeecf4b1dc5fcc98.def(\u001b[33m\"\u001b[39;49;00m\u001b[33mset_decl_context\u001b[39;49;00m\u001b[33m\"\u001b[39;49;00m, method_pointer_7694d4d2ada55b60863a20ccc80c0ef6, \u001b[33m\"\u001b[39;49;00m\u001b[33m\"\u001b[39;49;00m);\n",
      "    class_a6aedb4654a55a40aeecf4b1dc5fcc98.def(\u001b[33m\"\u001b[39;49;00m\u001b[33mset_implicit\u001b[39;49;00m\u001b[33m\"\u001b[39;49;00m, method_pointer_0d8d442459bb560d968653357ce1e2da, \u001b[33m\"\u001b[39;49;00m\u001b[33m\"\u001b[39;49;00m);\n",
      "    class_a6aedb4654a55a40aeecf4b1dc5fcc98.def(\u001b[33m\"\u001b[39;49;00m\u001b[33mset_invalid_decl\u001b[39;49;00m\u001b[33m\"\u001b[39;49;00m, method_pointer_1e8412e1c7a258c7ac5bf4667bcbc20f, \u001b[33m\"\u001b[39;49;00m\u001b[33m\"\u001b[39;49;00m);\n",
      "    class_a6aedb4654a55a40aeecf4b1dc5fcc98.def(\u001b[33m\"\u001b[39;49;00m\u001b[33mset_is_used\u001b[39;49;00m\u001b[33m\"\u001b[39;49;00m, method_pointer_060e41efc12b5d2c9cb83ae94bbdb6e6, \u001b[33m\"\u001b[39;49;00m\u001b[33m\"\u001b[39;49;00m);\n",
      "    class_a6aedb4654a55a40aeecf4b1dc5fcc98.def(\u001b[33m\"\u001b[39;49;00m\u001b[33mset_lexical_decl_context\u001b[39;49;00m\u001b[33m\"\u001b[39;49;00m, method_pointer_70bd9c3743f256e684f47b4c62f43d48, \u001b[33m\"\u001b[39;49;00m\u001b[33m\"\u001b[39;49;00m);\n",
      "    class_a6aedb4654a55a40aeecf4b1dc5fcc98.def(\u001b[33m\"\u001b[39;49;00m\u001b[33mset_local_extern_decl\u001b[39;49;00m\u001b[33m\"\u001b[39;49;00m, method_pointer_b4649db121365b90a3ed7a00cbe76d38, \u001b[33m\"\u001b[39;49;00m\u001b[33m\"\u001b[39;49;00m);\n",
      "    class_a6aedb4654a55a40aeecf4b1dc5fcc98.def(\u001b[33m\"\u001b[39;49;00m\u001b[33mset_location\u001b[39;49;00m\u001b[33m\"\u001b[39;49;00m, method_pointer_dfa4211c03ae505f819fada529f3cd3e, \u001b[33m\"\u001b[39;49;00m\u001b[33m\"\u001b[39;49;00m);\n",
      "    class_a6aedb4654a55a40aeecf4b1dc5fcc98.def(\u001b[33m\"\u001b[39;49;00m\u001b[33mset_non_member_operator\u001b[39;49;00m\u001b[33m\"\u001b[39;49;00m, method_pointer_ca3d413307b35318adb7ca0ebacede20, \u001b[33m\"\u001b[39;49;00m\u001b[33m\"\u001b[39;49;00m);\n",
      "    class_a6aedb4654a55a40aeecf4b1dc5fcc98.def(\u001b[33m\"\u001b[39;49;00m\u001b[33mset_object_of_friend_decl\u001b[39;49;00m\u001b[33m\"\u001b[39;49;00m, method_pointer_7e95cf5ddf46540c87d502ad84406fbc, \u001b[33m\"\u001b[39;49;00m\u001b[33m\"\u001b[39;49;00m);\n",
      "    class_a6aedb4654a55a40aeecf4b1dc5fcc98.def(\u001b[33m\"\u001b[39;49;00m\u001b[33mset_referenced\u001b[39;49;00m\u001b[33m\"\u001b[39;49;00m, method_pointer_a8f9a4516b2e5a7aa6fe6515be3b914b, \u001b[33m\"\u001b[39;49;00m\u001b[33m\"\u001b[39;49;00m);\n",
      "    class_a6aedb4654a55a40aeecf4b1dc5fcc98.def(\u001b[33m\"\u001b[39;49;00m\u001b[33mset_top_level_decl_in_obj_c_container\u001b[39;49;00m\u001b[33m\"\u001b[39;49;00m, method_pointer_4cf35b7b7bc25a60b0393f29aad2b22c, \u001b[33m\"\u001b[39;49;00m\u001b[33m\"\u001b[39;49;00m);\n",
      "    class_a6aedb4654a55a40aeecf4b1dc5fcc98.staticmethod(\u001b[33m\"\u001b[39;49;00m\u001b[33mcast_from_decl_context\u001b[39;49;00m\u001b[33m\"\u001b[39;49;00m);\n",
      "    class_a6aedb4654a55a40aeecf4b1dc5fcc98.staticmethod(\u001b[33m\"\u001b[39;49;00m\u001b[33mcast_to_decl_context\u001b[39;49;00m\u001b[33m\"\u001b[39;49;00m);\n",
      "    class_a6aedb4654a55a40aeecf4b1dc5fcc98.staticmethod(\u001b[33m\"\u001b[39;49;00m\u001b[33menable_statistics\u001b[39;49;00m\u001b[33m\"\u001b[39;49;00m);\n",
      "    class_a6aedb4654a55a40aeecf4b1dc5fcc98.staticmethod(\u001b[33m\"\u001b[39;49;00m\u001b[33madd\u001b[39;49;00m\u001b[33m\"\u001b[39;49;00m);\n",
      "    class_a6aedb4654a55a40aeecf4b1dc5fcc98.staticmethod(\u001b[33m\"\u001b[39;49;00m\u001b[33mclassof_kind\u001b[39;49;00m\u001b[33m\"\u001b[39;49;00m);\n",
      "    class_a6aedb4654a55a40aeecf4b1dc5fcc98.staticmethod(\u001b[33m\"\u001b[39;49;00m\u001b[33mprint_stats\u001b[39;49;00m\u001b[33m\"\u001b[39;49;00m);\n",
      "    class_a6aedb4654a55a40aeecf4b1dc5fcc98.staticmethod(\u001b[33m\"\u001b[39;49;00m\u001b[33mget_identifier_namespace_for_kind\u001b[39;49;00m\u001b[33m\"\u001b[39;49;00m);\n",
      "    class_a6aedb4654a55a40aeecf4b1dc5fcc98.staticmethod(\u001b[33m\"\u001b[39;49;00m\u001b[33mis_tag_identifier_namespace\u001b[39;49;00m\u001b[33m\"\u001b[39;49;00m);\n",
      "    class_a6aedb4654a55a40aeecf4b1dc5fcc98.def(\u001b[33m\"\u001b[39;49;00m\u001b[33mget_comment\u001b[39;49;00m\u001b[33m\"\u001b[39;49;00m, function_group::function_9c12cc81db695d41bdbc576ebdc8cec5, \u001b[33m\"\u001b[39;49;00m\u001b[33m\"\u001b[39;49;00m);\n",
      "\n",
      "}\n"
     ]
    }
   ],
   "source": [
    "%%bash\n",
    "pygmentize PyClangLite/src/py/wrapper_a6aedb4654a55a40aeecf4b1dc5fcc98.cpp"
   ]
  },
  {
   "cell_type": "markdown",
   "metadata": {},
   "source": [
    "Once the wrappers are written on the disk, the bingings must be compiled and installed.\n",
    "This can be done using the **SCons** `py`  target."
   ]
  }
 ],
 "metadata": {
  "anaconda-cloud": {},
  "kernelspec": {
   "display_name": "Python [default]",
   "language": "python",
   "name": "python2"
  },
  "language_info": {
   "codemirror_mode": {
    "name": "ipython",
    "version": 2
   },
   "file_extension": ".py",
   "mimetype": "text/x-python",
   "name": "python",
   "nbconvert_exporter": "python",
   "pygments_lexer": "ipython2",
   "version": "2.7.12"
  }
 },
 "nbformat": 4,
 "nbformat_minor": 0
}
