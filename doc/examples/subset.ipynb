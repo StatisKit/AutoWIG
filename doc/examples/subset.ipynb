{
 "cells": [
  {
   "cell_type": "markdown",
   "metadata": {},
   "source": [
    "# Wrapping a subset of a very large library\n",
    "\n",
    "Sometimes, for a very large library, only a subset of available *C++* components is useful for end-users.\n",
    "Wrapping such libraries therefore requires **AutoWIG** to be able to consider only a subset of the *C++* components during the `Generate` step.\n",
    "The **Clang** library is a complete *C*/*C++* compiler.\n",
    "**Clang** is a great tool, but its stable *Python* interface (i.e. **libclang**) is lacking some useful features that are needed by **AutoWIG**.\n",
    "In particular, class template specializations are not available in the abstract syntax tree.\n",
    "Fortunately, most of the classes that would be needed during the traversal of the *C++* abstract syntax tree are not template specializations.\n",
    "We therefore proposed to bootstrap the **Clang** *Python* bindings using the `libclang` `parser` of **AutoWIG**.\n",
    "This new **Clang** *Python* interface is called **PyClangLite** and is able to parse class template specializations.\n",
    "As for **libclang**, this interface is proposed only for a subset of the **Clang** library sufficient enough for proposing the new `pyclanglite` `parser`."
   ]
  },
  {
   "cell_type": "markdown",
   "metadata": {},
   "source": [
    "This repository already has wrappers, we therefore need to remove them."
   ]
  },
  {
   "cell_type": "code",
   "execution_count": null,
   "metadata": {},
   "outputs": [],
   "source": [
    "!git clone https://github.com/StatisKit/ClangLite ClangLite\n",
    "!git -C ClangLite checkout a13322e37683012ca346595e88abc48ac591112c"
   ]
  },
  {
   "cell_type": "code",
   "execution_count": null,
   "metadata": {
    "collapsed": true
   },
   "outputs": [],
   "source": [
    "from path import Path\n",
    "import shutil\n",
    "srcdir = Path('ClangLite')/'src'/'py'\n",
    "for wrapper in srcdir.walkfiles('*.cpp'):\n",
    "    wrapper.unlink()\n",
    "for wrapper in srcdir.walkfiles('*.h'):\n",
    "    wrapper.unlink()\n",
    "wrapper = srcdir/'clanglite'/'_clanglite.py'\n",
    "if wrapper.exists():\n",
    "    wrapper.unlink()\n",
    "blddir = srcdir.parent.parent/'build'\n",
    "if blddir.exists():\n",
    "    shutil.rmtree(srcdir.parent.parent/'build')"
   ]
  },
  {
   "cell_type": "markdown",
   "metadata": {},
   "source": [
    "In addition to the **Clang** libraries, the **ClangLite** library is needed in order to have access to some functionalities.\n",
    "The `tool.h` header of this **ClangLite** library includes all necessary **Clang** headers.\n",
    "This library is installed using the **SCons** `cpp`  target."
   ]
  },
  {
   "cell_type": "code",
   "execution_count": null,
   "metadata": {
    "scrolled": true
   },
   "outputs": [],
   "source": [
    "!conda remove libclanglite -y\n",
    "!conda build ClangLite/conda/libclanglite -c statiskit -c conda-forge\n",
    "!conda install -y libclanglite --use-local -c statiskit -c conda-forge"
   ]
  },
  {
   "cell_type": "markdown",
   "metadata": {},
   "source": [
    "Once these preliminaries done, we can proceed to the actual generation of wrappers for the **Clang** library.\n",
    "For this, we import **AutoWIG** and create an empty Abstract Semantic Graph (ASG)."
   ]
  },
  {
   "cell_type": "code",
   "execution_count": null,
   "metadata": {
    "collapsed": true
   },
   "outputs": [],
   "source": [
    "import autowig\n",
    "asg = autowig.AbstractSemanticGraph()"
   ]
  },
  {
   "cell_type": "markdown",
   "metadata": {},
   "source": [
    "We then parse the `tool.h` header of the **ClangLite** library with relevant compilation flags."
   ]
  },
  {
   "cell_type": "code",
   "execution_count": null,
   "metadata": {
    "scrolled": true
   },
   "outputs": [],
   "source": [
    "%%time\n",
    "import sys\n",
    "prefix = Path(sys.prefix).abspath()\n",
    "autowig.parser.plugin = 'libclang'\n",
    "asg = autowig.parser(asg, [prefix/'include'/'clanglite'/'tool.h'],\n",
    "               flags = ['-x', 'c++', '-std=c++11',\n",
    "                        '-D__STDC_LIMIT_MACROS',\n",
    "                        '-D__STDC_CONSTANT_MACROS',\n",
    "                        '-I' + str((prefix/'include').abspath())],\n",
    "               libpath = prefix/'lib'/'libclang.so',\n",
    "               bootstrap = False,\n",
    "               silent = True)"
   ]
  },
  {
   "cell_type": "markdown",
   "metadata": {},
   "source": [
    "Since most of **AutoWIG** guidelines are respected in the **Clang** library, the `default` `controller` implementation could be suitable.\n",
    "Nevertheless, we need to force some *C++* components to be wrapped or not.\n",
    "We therefore implements a new `controller`."
   ]
  },
  {
   "cell_type": "code",
   "execution_count": null,
   "metadata": {
    "collapsed": true
   },
   "outputs": [],
   "source": [
    "def clanglite_controller(asg):\n",
    "    \n",
    "    for node in asg['::boost::python'].classes(nested = True):\n",
    "        node.is_copyable = True\n",
    "        \n",
    "    for node in asg.classes():\n",
    "        node.boost_python_export = False\n",
    "    for node in asg.functions(free=True):\n",
    "        node.boost_python_export = False\n",
    "    for node in asg.variables(free = True):\n",
    "        node.boost_python_export = False\n",
    "    for node in asg.enumerations():\n",
    "        node.boost_python_export = False\n",
    "    for node in asg.enumerators():\n",
    "        if node.parent.boost_python_export:\n",
    "            node.boost_python_export = False\n",
    "    for node in asg.typedefs():\n",
    "        node.boost_python_export = False\n",
    "            \n",
    "    from autowig.default_controller import refactoring\n",
    "    asg = refactoring(asg)\n",
    "\n",
    "    if autowig.parser.plugin == 'libclang':\n",
    "        for fct in asg.functions(free=False):\n",
    "            asg._nodes[fct._node]['_is_virtual'] = False\n",
    "            asg._nodes[fct._node]['_is_pure'] = False\n",
    "        asg['class ::clang::QualType'].is_abstract = False\n",
    "        asg['class ::clang::QualType'].is_copyable = True\n",
    "        asg['class ::llvm::StringRef'].is_abstract = False\n",
    "        asg['class ::llvm::StringRef'].is_copyable = True\n",
    "        asg['class ::clang::FileID'].is_abstract = False\n",
    "        asg['class ::clang::FileID'].is_copyable = True\n",
    "        asg['class ::clang::SourceLocation'].is_abstract = False\n",
    "        asg['class ::clang::SourceLocation'].is_copyable = True\n",
    "        asg['class ::clang::TemplateArgument'].is_abstract = False\n",
    "        asg['class ::clang::TemplateArgument'].is_copyable = True\n",
    "        for cls in ['::clang::FriendDecl', '::clang::CapturedDecl', '::clang::OMPThreadPrivateDecl',\n",
    "                    '::clang::NonTypeTemplateParmDecl', '::clang::TemplateArgumentList', '::clang::ImportDecl',\n",
    "                    '::clang::TemplateTemplateParmDecl', '::clang::CapturedDecl', '::clang::OMPThreadPrivateDecl',\n",
    "                    '::clang::NonTypeTemplateParmDecl', '::clang::TemplateArgumentList', '::clang::ImportDecl',\n",
    "                    '::clang::TemplateTemplateParmDecl']:\n",
    "            asg['class ' + cls].is_abstract = False\n",
    "        \n",
    "    asg['class ::boost::python::api::object'].boost_python_export = True\n",
    "    asg['class ::boost::python::list'].boost_python_export = True \n",
    "    asg['class ::boost::python::str'].boost_python_export = True \n",
    "        \n",
    "    subset = []\n",
    "    classes = [asg['class ::clang::QualType'],\n",
    "               asg['class ::clang::Type'],\n",
    "               asg['class ::clang::Decl']]\n",
    "    subset += classes\n",
    "    for cls in classes:\n",
    "        subset += cls.subclasses(recursive=True)\n",
    "    for cls in subset:\n",
    "        if not cls.globalname.strip('class ') in ['::clang::QualType',\n",
    "                                                  '::llvm::StringRef',\n",
    "                                                  '::clang::FileID',\n",
    "                                                  '::clang::SourceLocation',\n",
    "                                                  '::clang::TemplateArgument',\n",
    "                                                  '::clang::FriendDecl',\n",
    "                                                  '::clang::CapturedDecl',\n",
    "                                                  '::clang::OMPThreadPrivateDecl',\n",
    "                                                  '::clang::NonTypeTemplateParmDecl',\n",
    "                                                  '::clang::TemplateArgumentList',\n",
    "                                                  '::clang::ImportDecl',\n",
    "                                                  '::clang::TemplateTemplateParmDecl']:\n",
    "            cls.is_copyable = False\n",
    "        else:\n",
    "            cls.is_copyable = True\n",
    "    subset.append(asg['class ::llvm::StringRef'])\n",
    "\n",
    "    subset.append(asg['class ::clang::ASTUnit'])\n",
    "    subset.append(asg['class ::clang::ASTContext'])\n",
    "    subset.append(asg['class ::clang::SourceManager'])\n",
    "    subset.append(asg['class ::clang::FileID'])\n",
    "\n",
    "    subset.append(asg['class ::clang::SourceLocation'])\n",
    "\n",
    "    subset.append(asg['class ::clang::CXXBaseSpecifier'])\n",
    "    subset.append(asg['class ::clang::DeclContext'])\n",
    "    subset.append(asg['class ::clang::TemplateArgument'])\n",
    "\n",
    "    subset.append(asg['class ::clang::TemplateArgumentList'])\n",
    "    subset.append(asg['enum ::clang::Type::TypeClass'])\n",
    "    subset.append(asg['enum ::clang::AccessSpecifier'])\n",
    "    subset.append(asg['enum ::clang::LinkageSpecDecl::LanguageIDs'])\n",
    "    subset.append(asg['enum ::clang::BuiltinType::Kind'])\n",
    "    subset.append(asg['enum ::clang::TemplateArgument::ArgKind'])\n",
    "    subset.append(asg['enum ::clang::Decl::Kind'])\n",
    "    # subset.extend(asg['::boost::python'].classes(nested = True))\n",
    "    # subset.extend(asg['::boost::python'].enumerations(nested = True))\n",
    "    subset.extend(asg.nodes('::clanglite::build_ast_from_code_with_args'))\n",
    "\n",
    "    for node in subset:\n",
    "        node.boost_python_export = True\n",
    "        \n",
    "    for fct in asg['::clanglite'].functions():\n",
    "        if not fct.localname == 'build_ast_from_code_with_args':\n",
    "            fct.parent = fct.parameters[0].qualified_type.desugared_type.unqualified_type\n",
    "        fct.boost_python_export = True\n",
    "        \n",
    "    for mtd in asg['class ::clang::ASTContext'].methods(pattern='.*getSourceManager.*'):\n",
    "        if mtd.return_type.globalname == 'class ::clang::SourceManager &':\n",
    "                mtd.boost_python_export = True\n",
    "                break\n",
    "                \n",
    "    if autowig.parser.plugin == 'libclang':\n",
    "        for node in (asg.functions(pattern='.*(llvm|clang).*_(begin|end)')\n",
    "                     + asg.functions(pattern='::clang::CXXRecordDecl::getCaptureFields')\n",
    "                     + asg.functions(pattern='.*(llvm|clang).*getNameAsString')\n",
    "                     + asg.nodes('::clang::NamedDecl::getQualifiedNameAsString')\n",
    "                     + asg.functions(pattern='.*::clang::ObjCProtocolDecl')\n",
    "                     + asg.nodes('::clang::ObjCProtocolDecl::collectInheritedProtocolProperties')\n",
    "                     + asg.nodes('::clang::ASTUnit::LoadFromASTFile')\n",
    "                     + asg.nodes('::clang::ASTUnit::getCachedCompletionTypes')\n",
    "                     + asg.nodes('::clang::ASTUnit::getBufferForFile')\n",
    "                     + asg.nodes('::clang::CXXRecordDecl::getCaptureFields')\n",
    "                     + asg.nodes('::clang::ASTContext::SectionInfos')\n",
    "                     + asg.nodes('::clang::ASTContext::getAllocator')\n",
    "                     + asg.nodes('::clang::ASTContext::getObjCEncoding.*')\n",
    "                     + asg.nodes('::clang::ASTContext::getAllocator')\n",
    "                     + asg.nodes('::clang::QualType::getAsString')\n",
    "                     + asg.nodes('::clang::SourceLocation::printToString')\n",
    "                     + asg['class ::llvm::StringRef'].methods()):\n",
    "            node.boost_python_export = False\n",
    "            \n",
    "    if autowig.parser.plugin == 'clanglite':\n",
    "        for mtd in asg['class ::clang::Decl'].methods():\n",
    "            if mtd.localname == 'hasAttr':\n",
    "                mtd.boost_python_export = False\n",
    "                \n",
    "    import sys\n",
    "    from path import path\n",
    "    for header in (path(sys.prefix)/'include'/'clang').walkfiles('*.h'):\n",
    "        asg[header.abspath()].is_external_dependency = False\n",
    "    \n",
    "    return asg"
   ]
  },
  {
   "cell_type": "markdown",
   "metadata": {},
   "source": [
    "This `controller` is then dynamically registered and used on the ASG."
   ]
  },
  {
   "cell_type": "code",
   "execution_count": null,
   "metadata": {},
   "outputs": [],
   "source": [
    "%%time\n",
    "autowig.controller['clanglite'] = clanglite_controller\n",
    "autowig.controller.plugin = 'clanglite'\n",
    "asg = autowig.controller(asg)"
   ]
  },
  {
   "cell_type": "markdown",
   "metadata": {},
   "source": [
    "In order to wrap a subset of the **Clang** library, we need to select the `boost_python_internal` `generator` implementation."
   ]
  },
  {
   "cell_type": "code",
   "execution_count": null,
   "metadata": {},
   "outputs": [],
   "source": [
    "%%time\n",
    "autowig.generator.plugin = 'boost_python_pattern'\n",
    "wrappers = autowig.generator(asg,\n",
    "                  module = srcdir/'_clanglite.cpp',\n",
    "                  decorator = srcdir/'clanglite'/'_clanglite.py',\n",
    "                  closure = False)"
   ]
  },
  {
   "cell_type": "markdown",
   "metadata": {},
   "source": [
    "The wrappers are only generated in-memory.\n",
    "It is therefore needed to write them on the disk to complete the process."
   ]
  },
  {
   "cell_type": "code",
   "execution_count": null,
   "metadata": {},
   "outputs": [],
   "source": [
    "%%time\n",
    "wrappers.write()"
   ]
  },
  {
   "cell_type": "markdown",
   "metadata": {},
   "source": [
    "Here is an example of the generated wrappers.\n",
    "We here present the wrappers for the `clang::Decl` class."
   ]
  },
  {
   "cell_type": "code",
   "execution_count": null,
   "metadata": {
    "scrolled": true
   },
   "outputs": [],
   "source": [
    "!pygmentize ClangLite/src/py/wrapper_a6aedb4654a55a40aeecf4b1dc5fcc98.cpp"
   ]
  },
  {
   "cell_type": "markdown",
   "metadata": {},
   "source": [
    "Once the wrappers are written on the disk, the bingings must be compiled and installed.\n",
    "This can be done using the **SCons** `py`  target."
   ]
  },
  {
   "cell_type": "code",
   "execution_count": null,
   "metadata": {
    "scrolled": true
   },
   "outputs": [],
   "source": [
    "!conda build ClangLite/conda/python-clanglite -c statiskit -c conda-forge\n",
    "!conda install -y python-clanglite --use-local -c statiskit -c conda-forge"
   ]
  },
  {
   "cell_type": "code",
   "execution_count": null,
   "metadata": {},
   "outputs": [],
   "source": [
    "import autowig\n",
    "from clanglite.autowig_parser import autowig_parser\n",
    "autowig.parser['clanglite'] = autowig_parser\n",
    "autowig.parser.plugin = 'clanglite'\n",
    "from path import Path\n",
    "import sys\n",
    "\n",
    "for wrapper in srcdir.walkfiles('*.cpp'):\n",
    "    wrapper.unlink()\n",
    "for wrapper in srcdir.walkfiles('*.h'):\n",
    "    wrapper.unlink()\n",
    "wrapper = srcdir/'clanglite'/'_clanglite.py'\n",
    "if wrapper.exists():\n",
    "    wrapper.unlink()\n",
    "    \n",
    "prefix = Path(sys.prefix).abspath()\n",
    "    \n",
    "asgbis = autowig.AbstractSemanticGraph()\n",
    "\n",
    "asgbis = autowig.parser(asgbis, [prefix/'include'/'clanglite'/'tool.h'],\n",
    "               flags = ['-x', 'c++', '-std=c++11',\n",
    "                        '-D__STDC_CONSTANT_MACROS',\n",
    "                        '-D__STDC_FORMAT_MACROS',\n",
    "                        '-D__STDC_LIMIT_MACROS',\n",
    "                        '-I' + str((prefix/'include').abspath()),\n",
    "                        '-I' + str((prefix/'include'/'python2.7').abspath())],\n",
    "               bootstrap = False,\n",
    "               silent = True)\n",
    "\n",
    "autowig.controller['clanglite'] = clanglite_controller\n",
    "autowig.controller.plugin = 'clanglite'\n",
    "asgbis = autowig.controller(asgbis)\n",
    "\n",
    "autowig.generator.plugin = 'boost_python_pattern'\n",
    "wrappers = autowig.generator(asgbis,\n",
    "                  module = srcdir/'_clanglite.cpp',\n",
    "                  decorator = srcdir/'clanglite'/'_clanglite.py',\n",
    "                  closure = False)\n",
    "\n",
    "wrappers.write()"
   ]
  },
  {
   "cell_type": "code",
   "execution_count": null,
   "metadata": {},
   "outputs": [],
   "source": [
    "!conda remove python-clanglite -y\n",
    "!conda build ClangLite/conda/python-clanglite -c statiskit -c conda-forge\n",
    "!conda install -y python-clanglite --use-local -c statiskit -c conda-forge"
   ]
  }
 ],
 "metadata": {
  "anaconda-cloud": {},
  "kernelspec": {
   "display_name": "Python 2",
   "language": "python",
   "name": "python2"
  },
  "language_info": {
   "codemirror_mode": {
    "name": "ipython",
    "version": 2
   },
   "file_extension": ".py",
   "mimetype": "text/x-python",
   "name": "python",
   "nbconvert_exporter": "python",
   "pygments_lexer": "ipython2",
   "version": "2.7.13"
  }
 },
 "nbformat": 4,
 "nbformat_minor": 1
}
