{
 "cells": [
  {
   "cell_type": "markdown",
   "metadata": {},
   "source": [
    "# Wrapping a subset of a very large library\n",
    "\n",
    "Sometimes, for a very large library, only a subset of available *C++* components is useful for end-users.\n",
    "Wrapping such libraries therefore requires **AutoWIG** to be able to consider only a subset of the *C++* components during the `Generate` step.\n",
    "The **Clang** library is a complete *C*/*C++* compiler.\n",
    "**Clang** is a great tool, but its stable *Python* interface (i.e. **libclang**) is lacking some useful features that are needed by **AutoWIG**.\n",
    "In particular, class template specializations are not available in the abstract syntax tree.\n",
    "Fortunately, most of the classes that would be needed during the traversal of the *C++* abstract syntax tree are not template specializations.\n",
    "We therefore proposed to bootstrap the **Clang** *Python* bindings using the `libclang` `parser` of **AutoWIG**.\n",
    "This new **Clang** *Python* interface is called **PyClangLite** and is able to parse class template specializations.\n",
    "As for **libclang**, this interface is proposed only for a subset of the **Clang** library sufficient enough for proposing the new `pyclanglite` `parser`.\n",
    "\n",
    "First, ensure that the **LLVM**/**Clang** technologies are installed on your computer and if there were built with `RTTI`."
   ]
  },
  {
   "cell_type": "code",
   "execution_count": 1,
   "metadata": {
    "collapsed": false
   },
   "outputs": [],
   "source": [
    "import subprocess\n",
    "subprocess.check_call([\"llvm-config\", \"--version\"])\n",
    "subprocess.check_call(['clang++', '--version'])\n",
    "if not subprocess.check_output([\"llvm-config\", \"--has-rtti\"]).strip() == 'YES':\n",
    "    raise Exception('LLVM and Clang libraries have not been built with RTTI')"
   ]
  },
  {
   "cell_type": "markdown",
   "metadata": {},
   "source": [
    "Note that these techonologies must be installed using the current system prefix"
   ]
  },
  {
   "cell_type": "code",
   "execution_count": 2,
   "metadata": {
    "collapsed": false
   },
   "outputs": [],
   "source": [
    "import sys\n",
    "from path import path\n",
    "prefix = path(sys.prefix).abspath()\n",
    "if not prefix == subprocess.check_output([\"llvm-config\", \"--prefix\"]).strip():\n",
    "    raise Exception('LLVM and Clang libraries have not been built with the \\'' + prefix + '\\' prefix')"
   ]
  },
  {
   "cell_type": "markdown",
   "metadata": {},
   "source": [
    "In the following we will use **SCons** software construction tool for compiling *C++* libraries and their *Python* bindings.\n",
    "This software is installed with the **Conda** package management system."
   ]
  },
  {
   "cell_type": "code",
   "execution_count": 3,
   "metadata": {
    "collapsed": false
   },
   "outputs": [
    {
     "name": "stdout",
     "output_type": "stream",
     "text": [
      "Fetching package metadata .........\n",
      "Solving package specifications: ..........\n",
      "\n",
      "# All requested packages already installed.\n",
      "# packages in environment at /home/pfernique/.miniconda2/envs/autowig:\n",
      "#\n",
      "python-scons              2.5.0                    py27_0    statiskit\n"
     ]
    },
    {
     "name": "stderr",
     "output_type": "stream",
     "text": [
      "Using Anaconda Cloud api site https://api.anaconda.org\n"
     ]
    }
   ],
   "source": [
    "%%bash\n",
    "conda install python-scons -c statiskit"
   ]
  },
  {
   "cell_type": "markdown",
   "metadata": {},
   "source": [
    "The **PyClangLite** GitHub repository must be cloned into the **PyClangLite** directory."
   ]
  },
  {
   "cell_type": "code",
   "execution_count": 4,
   "metadata": {
    "collapsed": false
   },
   "outputs": [
    {
     "name": "stderr",
     "output_type": "stream",
     "text": [
      "fatal: destination path 'PyClangLite' already exists and is not an empty directory.\n"
     ]
    }
   ],
   "source": [
    "%%bash\n",
    "git clone https://github.com/StatisKit/PyClangLite.git"
   ]
  },
  {
   "cell_type": "markdown",
   "metadata": {},
   "source": [
    "This repository already has wrappers, we therefore need to remove them."
   ]
  },
  {
   "cell_type": "code",
   "execution_count": 5,
   "metadata": {
    "collapsed": false
   },
   "outputs": [],
   "source": [
    "srcdir = path('PyClangLite')/'src'/'py'\n",
    "for wrapper in srcdir.walkfiles('*.cpp'):\n",
    "    wrapper.unlink()\n",
    "for wrapper in srcdir.walkfiles('*.h'):\n",
    "    wrapper.unlink()\n",
    "wrapper = srcdir/'clanglite'/'_clanglite.py'\n",
    "if wrapper.exists():\n",
    "    wrapper.unlink()"
   ]
  },
  {
   "cell_type": "markdown",
   "metadata": {},
   "source": [
    "In addition to the **Clang** libraries, the **ClangLite** library is needed in order to have access to some functionalities.\n",
    "The `tool.h` header of this **ClangLite** library includes all necessary **Clang** headers.\n",
    "This library is installed using the **SCons** `cpp`  target."
   ]
  },
  {
   "cell_type": "code",
   "execution_count": 6,
   "metadata": {
    "collapsed": false,
    "scrolled": true
   },
   "outputs": [
    {
     "name": "stdout",
     "output_type": "stream",
     "text": [
      "scons: Entering directory `/home/pfernique/Desktop/AutoWIG/doc/examples/PyClangLite'\n",
      "scons: Reading SConscript files ...\n",
      "scons: done reading SConscript files.\n",
      "scons: Building targets ...\n",
      "scons: `cpp' is up to date.\n",
      "scons: done building targets.\n"
     ]
    }
   ],
   "source": [
    "%%bash\n",
    "scons cpp -C PyClangLite"
   ]
  },
  {
   "cell_type": "markdown",
   "metadata": {},
   "source": [
    "Once these preliminaries done, we can proceed to the actual generation of wrappers for the **Clang** library.\n",
    "For this, we import **AutoWIG** and create an empty Abstract Semantic Graph (ASG)."
   ]
  },
  {
   "cell_type": "code",
   "execution_count": 7,
   "metadata": {
    "collapsed": false
   },
   "outputs": [],
   "source": [
    "import autowig\n",
    "asg = autowig.AbstractSemanticGraph()"
   ]
  },
  {
   "cell_type": "markdown",
   "metadata": {},
   "source": [
    "We then parse the `tool.h` header of the **ClangLite** library with relevant compilation flags."
   ]
  },
  {
   "cell_type": "code",
   "execution_count": 8,
   "metadata": {
    "collapsed": false,
    "scrolled": true
   },
   "outputs": [
    {
     "name": "stdout",
     "output_type": "stream",
     "text": [
      "CPU times: user 2min 41s, sys: 392 ms, total: 2min 42s\n",
      "Wall time: 2min 42s\n"
     ]
    }
   ],
   "source": [
    "%%time\n",
    "autowig.parser.plugin = 'libclang'\n",
    "asg = autowig.parser(asg, [prefix/'include'/'clanglite'/'tool.h'],\n",
    "               flags = ['-x', 'c++', '-std=c++11',\n",
    "                        '-D__STDC_LIMIT_MACROS',\n",
    "                        '-D__STDC_CONSTANT_MACROS',\n",
    "                        '-I' + str((prefix/'include').abspath())],\n",
    "               libpath = prefix/'lib'/'libclang.so',\n",
    "               bootstrap = False,\n",
    "               silent = True)"
   ]
  },
  {
   "cell_type": "markdown",
   "metadata": {},
   "source": [
    "Since most of **AutoWIG** guidelines are respected in the **Clang** library, the `default` `controller` implementation could be suitable.\n",
    "Nevertheless, we need to force some *C++* components to be wrapped or not.\n",
    "We therefore implements a new `controller`."
   ]
  },
  {
   "cell_type": "code",
   "execution_count": 9,
   "metadata": {
    "collapsed": false
   },
   "outputs": [],
   "source": [
    "def clanglite_controller(asg):\n",
    "    \n",
    "    for node in asg['::boost::python'].classes(nested = True):\n",
    "        node.is_copyable = True\n",
    "        \n",
    "    for node in asg.classes():\n",
    "        node.boost_python_export = False\n",
    "    for node in asg.enumerations():\n",
    "        node.boost_python_export = False\n",
    "    for node in asg.enumerators():\n",
    "        if node.parent.boost_python_export:\n",
    "            node.boost_python_export = False\n",
    "    for node in asg.typedefs():\n",
    "        node.boost_python_export = False\n",
    "            \n",
    "    from autowig.default_controller import refactoring\n",
    "    asg = refactoring(asg)\n",
    "    for fct in asg['::clanglite'].functions():\n",
    "        if not fct.localname == 'build_ast_from_code_with_args':\n",
    "            fct.parent = fct.parameters[0].qualified_type.desugared_type.unqualified_type\n",
    "            \n",
    "    for node in asg.functions(free = True):\n",
    "        node.boost_python_export = False\n",
    "    for node in asg.variables(free = True):\n",
    "        node.boost_python_export = False\n",
    "    \n",
    "    asg['class ::boost::python::api::object'].boost_python_export = True\n",
    "    asg['class ::boost::python::list'].boost_python_export = True \n",
    "    asg['class ::boost::python::str'].boost_python_export = True \n",
    "\n",
    "    subset = []\n",
    "    classes = [asg['class ::clang::QualType'],\n",
    "               asg['class ::clang::Type'],\n",
    "               asg['class ::clang::Decl']]\n",
    "    asg['class ::clang::QualType'].is_abstract = False\n",
    "    asg['class ::clang::QualType'].is_copyable = True\n",
    "    subset += classes\n",
    "    for cls in classes:\n",
    "        subset += cls.subclasses(recursive=True)\n",
    "    subset.append(asg['class ::llvm::StringRef'])\n",
    "    asg['class ::llvm::StringRef'].is_abstract = False\n",
    "    asg['class ::llvm::StringRef'].is_copyable = True\n",
    "    subset.append(asg['class ::clang::ASTUnit'])\n",
    "    subset.append(asg['class ::clang::ASTContext'])\n",
    "    subset.append(asg['class ::clang::SourceManager'])\n",
    "    for mtd in asg['class ::clang::ASTContext'].methods(pattern='.*getSourceManager.*'):\n",
    "        if mtd.return_type.globalname == 'class ::clang::SourceManager &':\n",
    "                mtd.boost_python_export = True\n",
    "                break\n",
    "    subset.append(asg['class ::clang::FileID'])\n",
    "    asg['class ::clang::FileID'].is_abstract = False\n",
    "    asg['class ::clang::FileID'].is_copyable = True\n",
    "    subset.append(asg['class ::clang::SourceLocation'])\n",
    "    asg['class ::clang::SourceLocation'].is_abstract = False\n",
    "    asg['class ::clang::SourceLocation'].is_copyable = True\n",
    "    subset.append(asg['class ::clang::CXXBaseSpecifier'])\n",
    "    subset.append(asg['class ::clang::DeclContext'])\n",
    "    subset.append(asg['class ::clang::TemplateArgument'])\n",
    "    asg['class ::clang::TemplateArgument'].is_abstract = False\n",
    "    asg['class ::clang::TemplateArgument'].is_copyable = True\n",
    "    subset.append(asg['class ::clang::TemplateArgumentList'])\n",
    "    subset.append(asg['enum ::clang::Type::TypeClass'])\n",
    "    subset.append(asg['enum ::clang::AccessSpecifier'])\n",
    "    subset.append(asg['enum ::clang::LinkageSpecDecl::LanguageIDs'])\n",
    "    subset.append(asg['enum ::clang::BuiltinType::Kind'])\n",
    "    subset.append(asg['enum ::clang::TemplateArgument::ArgKind'])\n",
    "    subset.append(asg['enum ::clang::Decl::Kind'])\n",
    "    subset.extend(asg['::boost::python'].classes(nested = True))\n",
    "    subset.extend(asg['::boost::python'].enumerations(nested = True))\n",
    "    subset.extend(asg.nodes('::clanglite::build_ast_from_code_with_args'))\n",
    "\n",
    "    for node in subset:\n",
    "        node.boost_python_export = True\n",
    "\n",
    "    if autowig.parser.plugin == 'libclang':\n",
    "        for node in (asg.functions(pattern='.*(llvm|clang).*_(begin|end)')\n",
    "                     + asg.functions(pattern='.*(llvm|clang).*getNameAsString')\n",
    "                     + asg.nodes('::clang::NamedDecl::getQualifiedNameAsString')\n",
    "                     + asg.nodes('::clang::ObjCProtocolDecl::collectInheritedProtocolProperties')\n",
    "                     + asg.nodes('::clang::ASTUnit::LoadFromASTFile')\n",
    "                     + asg.nodes('::clang::ASTUnit::getCachedCompletionTypes')\n",
    "                     + asg.nodes('::clang::ASTUnit::getBufferForFile')\n",
    "                     + asg.nodes('::clang::CXXRecordDecl::getCaptureFields')\n",
    "                     + asg.nodes('::clang::ASTContext::SectionInfos')\n",
    "                     + asg.nodes('::clang::ASTContext::getAllocator')\n",
    "                     + asg.nodes('::clang::ASTContext::getObjCEncoding.*')\n",
    "                     + asg.nodes('::clang::ASTContext::getAllocator')\n",
    "                     + asg.nodes('::clang::QualType::getAsString')\n",
    "                     + asg.nodes('::clang::SourceLocation::printToString')\n",
    "                     + asg['class ::llvm::StringRef'].methods()):\n",
    "            node.boost_python_export = False\n",
    "            \n",
    "    import sys\n",
    "    from path import path\n",
    "    for header in (path(sys.prefix)/'include'/'clang').walkfiles('*.h'):\n",
    "        asg[header.abspath()].is_external_dependency = False\n",
    "    \n",
    "    return asg"
   ]
  },
  {
   "cell_type": "markdown",
   "metadata": {},
   "source": [
    "This `controller` is then dynamically registered and used on the ASG."
   ]
  },
  {
   "cell_type": "code",
   "execution_count": 10,
   "metadata": {
    "collapsed": false
   },
   "outputs": [
    {
     "ename": "AttributeError",
     "evalue": "'dict' object has no attribute 'is_abstract'",
     "output_type": "error",
     "traceback": [
      "\u001b[0;31m---------------------------------------------------------------------------\u001b[0m",
      "\u001b[0;31mAttributeError\u001b[0m                            Traceback (most recent call last)",
      "\u001b[0;32m<ipython-input-10-4e28706c39ff>\u001b[0m in \u001b[0;36m<module>\u001b[0;34m()\u001b[0m\n\u001b[0;32m----> 1\u001b[0;31m \u001b[0mget_ipython\u001b[0m\u001b[0;34m(\u001b[0m\u001b[0;34m)\u001b[0m\u001b[0;34m.\u001b[0m\u001b[0mrun_cell_magic\u001b[0m\u001b[0;34m(\u001b[0m\u001b[0;34mu'time'\u001b[0m\u001b[0;34m,\u001b[0m \u001b[0;34mu''\u001b[0m\u001b[0;34m,\u001b[0m \u001b[0;34mu\"autowig.controller['clanglite'] = clanglite_controller\\nautowig.controller.plugin = 'clanglite'\\nasg = autowig.controller(asg)\"\u001b[0m\u001b[0;34m)\u001b[0m\u001b[0;34m\u001b[0m\u001b[0m\n\u001b[0m",
      "\u001b[0;32m/home/pfernique/.miniconda2/envs/autowig/lib/python2.7/site-packages/IPython/core/interactiveshell.pyc\u001b[0m in \u001b[0;36mrun_cell_magic\u001b[0;34m(self, magic_name, line, cell)\u001b[0m\n\u001b[1;32m   2113\u001b[0m             \u001b[0mmagic_arg_s\u001b[0m \u001b[0;34m=\u001b[0m \u001b[0mself\u001b[0m\u001b[0;34m.\u001b[0m\u001b[0mvar_expand\u001b[0m\u001b[0;34m(\u001b[0m\u001b[0mline\u001b[0m\u001b[0;34m,\u001b[0m \u001b[0mstack_depth\u001b[0m\u001b[0;34m)\u001b[0m\u001b[0;34m\u001b[0m\u001b[0m\n\u001b[1;32m   2114\u001b[0m             \u001b[0;32mwith\u001b[0m \u001b[0mself\u001b[0m\u001b[0;34m.\u001b[0m\u001b[0mbuiltin_trap\u001b[0m\u001b[0;34m:\u001b[0m\u001b[0;34m\u001b[0m\u001b[0m\n\u001b[0;32m-> 2115\u001b[0;31m                 \u001b[0mresult\u001b[0m \u001b[0;34m=\u001b[0m \u001b[0mfn\u001b[0m\u001b[0;34m(\u001b[0m\u001b[0mmagic_arg_s\u001b[0m\u001b[0;34m,\u001b[0m \u001b[0mcell\u001b[0m\u001b[0;34m)\u001b[0m\u001b[0;34m\u001b[0m\u001b[0m\n\u001b[0m\u001b[1;32m   2116\u001b[0m             \u001b[0;32mreturn\u001b[0m \u001b[0mresult\u001b[0m\u001b[0;34m\u001b[0m\u001b[0m\n\u001b[1;32m   2117\u001b[0m \u001b[0;34m\u001b[0m\u001b[0m\n",
      "\u001b[0;32m<decorator-gen-59>\u001b[0m in \u001b[0;36mtime\u001b[0;34m(self, line, cell, local_ns)\u001b[0m\n",
      "\u001b[0;32m/home/pfernique/.miniconda2/envs/autowig/lib/python2.7/site-packages/IPython/core/magic.pyc\u001b[0m in \u001b[0;36m<lambda>\u001b[0;34m(f, *a, **k)\u001b[0m\n\u001b[1;32m    186\u001b[0m     \u001b[0;31m# but it's overkill for just that one bit of state.\u001b[0m\u001b[0;34m\u001b[0m\u001b[0;34m\u001b[0m\u001b[0m\n\u001b[1;32m    187\u001b[0m     \u001b[0;32mdef\u001b[0m \u001b[0mmagic_deco\u001b[0m\u001b[0;34m(\u001b[0m\u001b[0marg\u001b[0m\u001b[0;34m)\u001b[0m\u001b[0;34m:\u001b[0m\u001b[0;34m\u001b[0m\u001b[0m\n\u001b[0;32m--> 188\u001b[0;31m         \u001b[0mcall\u001b[0m \u001b[0;34m=\u001b[0m \u001b[0;32mlambda\u001b[0m \u001b[0mf\u001b[0m\u001b[0;34m,\u001b[0m \u001b[0;34m*\u001b[0m\u001b[0ma\u001b[0m\u001b[0;34m,\u001b[0m \u001b[0;34m**\u001b[0m\u001b[0mk\u001b[0m\u001b[0;34m:\u001b[0m \u001b[0mf\u001b[0m\u001b[0;34m(\u001b[0m\u001b[0;34m*\u001b[0m\u001b[0ma\u001b[0m\u001b[0;34m,\u001b[0m \u001b[0;34m**\u001b[0m\u001b[0mk\u001b[0m\u001b[0;34m)\u001b[0m\u001b[0;34m\u001b[0m\u001b[0m\n\u001b[0m\u001b[1;32m    189\u001b[0m \u001b[0;34m\u001b[0m\u001b[0m\n\u001b[1;32m    190\u001b[0m         \u001b[0;32mif\u001b[0m \u001b[0mcallable\u001b[0m\u001b[0;34m(\u001b[0m\u001b[0marg\u001b[0m\u001b[0;34m)\u001b[0m\u001b[0;34m:\u001b[0m\u001b[0;34m\u001b[0m\u001b[0m\n",
      "\u001b[0;32m/home/pfernique/.miniconda2/envs/autowig/lib/python2.7/site-packages/IPython/core/magics/execution.pyc\u001b[0m in \u001b[0;36mtime\u001b[0;34m(self, line, cell, local_ns)\u001b[0m\n\u001b[1;32m   1178\u001b[0m         \u001b[0;32melse\u001b[0m\u001b[0;34m:\u001b[0m\u001b[0;34m\u001b[0m\u001b[0m\n\u001b[1;32m   1179\u001b[0m             \u001b[0mst\u001b[0m \u001b[0;34m=\u001b[0m \u001b[0mclock2\u001b[0m\u001b[0;34m(\u001b[0m\u001b[0;34m)\u001b[0m\u001b[0;34m\u001b[0m\u001b[0m\n\u001b[0;32m-> 1180\u001b[0;31m             \u001b[0;32mexec\u001b[0m\u001b[0;34m(\u001b[0m\u001b[0mcode\u001b[0m\u001b[0;34m,\u001b[0m \u001b[0mglob\u001b[0m\u001b[0;34m,\u001b[0m \u001b[0mlocal_ns\u001b[0m\u001b[0;34m)\u001b[0m\u001b[0;34m\u001b[0m\u001b[0m\n\u001b[0m\u001b[1;32m   1181\u001b[0m             \u001b[0mend\u001b[0m \u001b[0;34m=\u001b[0m \u001b[0mclock2\u001b[0m\u001b[0;34m(\u001b[0m\u001b[0;34m)\u001b[0m\u001b[0;34m\u001b[0m\u001b[0m\n\u001b[1;32m   1182\u001b[0m             \u001b[0mout\u001b[0m \u001b[0;34m=\u001b[0m \u001b[0mNone\u001b[0m\u001b[0;34m\u001b[0m\u001b[0m\n",
      "\u001b[0;32m<timed exec>\u001b[0m in \u001b[0;36m<module>\u001b[0;34m()\u001b[0m\n",
      "\u001b[0;32m<ipython-input-9-ce244a1bdd1a>\u001b[0m in \u001b[0;36mclanglite_controller\u001b[0;34m(asg)\u001b[0m\n\u001b[1;32m     33\u001b[0m                \u001b[0masg\u001b[0m\u001b[0;34m[\u001b[0m\u001b[0;34m'class ::clang::Type'\u001b[0m\u001b[0;34m]\u001b[0m\u001b[0;34m,\u001b[0m\u001b[0;34m\u001b[0m\u001b[0m\n\u001b[1;32m     34\u001b[0m                asg['class ::clang::Decl']]\n\u001b[0;32m---> 35\u001b[0;31m     \u001b[0masg\u001b[0m\u001b[0;34m.\u001b[0m\u001b[0m_nodes\u001b[0m\u001b[0;34m[\u001b[0m\u001b[0;34m'class ::clang::QualType'\u001b[0m\u001b[0;34m]\u001b[0m\u001b[0;34m.\u001b[0m\u001b[0mis_abstract\u001b[0m \u001b[0;34m=\u001b[0m \u001b[0mFalse\u001b[0m\u001b[0;34m\u001b[0m\u001b[0m\n\u001b[0m\u001b[1;32m     36\u001b[0m     \u001b[0masg\u001b[0m\u001b[0;34m[\u001b[0m\u001b[0;34m'class ::clang::QualType'\u001b[0m\u001b[0;34m]\u001b[0m\u001b[0;34m.\u001b[0m\u001b[0mis_copyable\u001b[0m \u001b[0;34m=\u001b[0m \u001b[0mTrue\u001b[0m\u001b[0;34m\u001b[0m\u001b[0m\n\u001b[1;32m     37\u001b[0m     \u001b[0msubset\u001b[0m \u001b[0;34m+=\u001b[0m \u001b[0mclasses\u001b[0m\u001b[0;34m\u001b[0m\u001b[0m\n",
      "\u001b[0;31mAttributeError\u001b[0m: 'dict' object has no attribute 'is_abstract'"
     ]
    }
   ],
   "source": [
    "%%time\n",
    "autowig.controller['clanglite'] = clanglite_controller\n",
    "autowig.controller.plugin = 'clanglite'\n",
    "asg = autowig.controller(asg)"
   ]
  },
  {
   "cell_type": "markdown",
   "metadata": {},
   "source": [
    "In order to wrap a subset of the **Clang** library, the user need to implements a `generator` that passes particular nodes to the `boost_python` `generator`."
   ]
  },
  {
   "cell_type": "code",
   "execution_count": null,
   "metadata": {
    "collapsed": false
   },
   "outputs": [],
   "source": [
    "%%time\n",
    "autowig.generator.plugin = 'boost_python_pattern'\n",
    "wrappers = autowig.generator(asg,\n",
    "                  module = srcdir/'_clanglite.cpp',\n",
    "                  decorator = srcdir/'clanglite'/'_clanglite.py',\n",
    "                  closure = False)"
   ]
  },
  {
   "cell_type": "markdown",
   "metadata": {},
   "source": [
    "The wrappers are only generated in-memory.\n",
    "We therefore need to write them on the disk to complete the process."
   ]
  },
  {
   "cell_type": "code",
   "execution_count": null,
   "metadata": {
    "collapsed": false
   },
   "outputs": [],
   "source": [
    "wrappers.write()"
   ]
  },
  {
   "cell_type": "markdown",
   "metadata": {},
   "source": [
    "Once the wrappers are written on the disk, the bingings must be compiled and installed.\n",
    "This can be done using the **SCons** `py`  target."
   ]
  }
 ],
 "metadata": {
  "anaconda-cloud": {},
  "kernelspec": {
   "display_name": "Python [default]",
   "language": "python",
   "name": "python2"
  },
  "language_info": {
   "codemirror_mode": {
    "name": "ipython",
    "version": 2
   },
   "file_extension": ".py",
   "mimetype": "text/x-python",
   "name": "python",
   "nbconvert_exporter": "python",
   "pygments_lexer": "ipython2",
   "version": "2.7.12"
  }
 },
 "nbformat": 4,
 "nbformat_minor": 0
}
