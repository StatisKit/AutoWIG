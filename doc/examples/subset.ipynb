{
 "cells": [
  {
   "cell_type": "markdown",
   "metadata": {},
   "source": [
    "# Wrapping a subset of a very large library\n",
    "\n",
    "Sometimes, for a very large library, only a subset of available *C++* components is useful for end-users.\n",
    "Wrapping such libraries therefore requires **AutoWIG** to be able to consider only a subset of the *C++* components during the `Generate` step.\n",
    "The **Clang** library is a complete *C*/*C++* compiler.\n",
    "**Clang** is a great tool, but its stable *Python* interface (i.e. **libclang**) is lacking some useful features that are needed by **AutoWIG**.\n",
    "In particular, class template specializations are not available in the abstract syntax tree.\n",
    "Fortunately, most of the classes that would be needed during the traversal of the *C++* abstract syntax tree are not template specializations.\n",
    "We therefore proposed to bootstrap the **Clang** *Python* bindings using the `libclang` `parser` of **AutoWIG**.\n",
    "This new **Clang** *Python* interface is called **PyClangLite** and is able to parse class template specializations.\n",
    "As for **libclang**, this interface is proposed only for a subset of the **Clang** library sufficient enough for proposing the new `pyclanglite` `parser`.\n",
    "\n",
    "First, ensure that the **LLVM**/**Clang** technologies are installed on your computer and if there were built with `RTTI`."
   ]
  },
  {
   "cell_type": "code",
   "execution_count": 1,
   "metadata": {
    "collapsed": false
   },
   "outputs": [],
   "source": [
    "import subprocess\n",
    "subprocess.check_call([\"llvm-config\", \"--version\"])\n",
    "subprocess.check_call(['clang++', '--version'])\n",
    "if not subprocess.check_output([\"llvm-config\", \"--has-rtti\"]).strip() == 'YES':\n",
    "    raise Exception('LLVM and Clang libraries have not been built with RTTI')"
   ]
  },
  {
   "cell_type": "markdown",
   "metadata": {},
   "source": [
    "Note that these techonologies must be installed using the current system prefix"
   ]
  },
  {
   "cell_type": "code",
   "execution_count": 2,
   "metadata": {
    "collapsed": false
   },
   "outputs": [],
   "source": [
    "import sys\n",
    "from path import path\n",
    "prefix = path(sys.prefix).abspath()\n",
    "if not prefix == subprocess.check_output([\"llvm-config\", \"--prefix\"]).strip():\n",
    "    raise Exception('LLVM and Clang libraries have not been built with the \\'' + prefix + '\\' prefix')"
   ]
  },
  {
   "cell_type": "markdown",
   "metadata": {},
   "source": [
    "In the following we will use **SCons** software construction tool for compiling *C++* libraries and their *Python* bindings.\n",
    "This software is installed with the **Conda** package management system."
   ]
  },
  {
   "cell_type": "code",
   "execution_count": 3,
   "metadata": {
    "collapsed": false
   },
   "outputs": [
    {
     "name": "stdout",
     "output_type": "stream",
     "text": [
      "Fetching package metadata .........\n",
      "Solving package specifications: ..........\n",
      "\n",
      "Package plan for installation in environment /home/main/miniconda:\n",
      "\n",
      "The following packages will be downloaded:\n",
      "\n",
      "    package                    |            build\n",
      "    ---------------------------|-----------------\n",
      "    python-scons-2.5.0         |           py27_0         739 KB  statiskit\n",
      "\n",
      "The following NEW packages will be INSTALLED:\n",
      "\n",
      "    python-scons: 2.5.0-py27_0 statiskit\n",
      "\n",
      "Fetching packages ...\n",
      "python-scons-2 100% |###############################| Time: 0:00:00 876.53 kB/s\r\n",
      "Extracting packages ...\n",
      "[      COMPLETE      ]|##################################################| 100%\r\n",
      "Linking packages ...\n",
      "[      COMPLETE      ]|##################################################| 100%\r\n"
     ]
    },
    {
     "name": "stderr",
     "output_type": "stream",
     "text": [
      "Using Anaconda API: https://api.anaconda.org\n"
     ]
    }
   ],
   "source": [
    "%%bash\n",
    "conda install python-scons -c statiskit"
   ]
  },
  {
   "cell_type": "markdown",
   "metadata": {},
   "source": [
    "The **PyClangLite** GitHub repository must be cloned into the **PyClangLite** directory."
   ]
  },
  {
   "cell_type": "code",
   "execution_count": 4,
   "metadata": {
    "collapsed": false
   },
   "outputs": [
    {
     "name": "stderr",
     "output_type": "stream",
     "text": [
      "Cloning into 'PyClangLite'...\n"
     ]
    }
   ],
   "source": [
    "%%bash\n",
    "git clone https://github.com/StatisKit/PyClangLite.git"
   ]
  },
  {
   "cell_type": "markdown",
   "metadata": {},
   "source": [
    "This repository already has wrappers, we therefore need to remove them."
   ]
  },
  {
   "cell_type": "code",
   "execution_count": 5,
   "metadata": {
    "collapsed": false
   },
   "outputs": [],
   "source": [
    "srcdir = path('PyClangLite')/'src'/'py'\n",
    "for wrapper in srcdir.walkfiles('*.cpp'):\n",
    "    wrapper.unlink()\n",
    "for wrapper in srcdir.walkfiles('*.h'):\n",
    "    wrapper.unlink()\n",
    "wrapper = srcdir/'clanglite'/'_clanglite.py'\n",
    "if wrapper.exists():\n",
    "    wrapper.unlink()"
   ]
  },
  {
   "cell_type": "markdown",
   "metadata": {},
   "source": [
    "In addition to the **Clang** libraries, the **ClangLite** library is needed in order to have access to some functionalities.\n",
    "The `tool.h` header of this **ClangLite** library includes all necessary **Clang** headers.\n",
    "This library is installed using the **SCons** `cpp`  target."
   ]
  },
  {
   "cell_type": "code",
   "execution_count": 6,
   "metadata": {
    "collapsed": false,
    "scrolled": true
   },
   "outputs": [
    {
     "name": "stdout",
     "output_type": "stream",
     "text": [
      "scons: Entering directory `/home/main/AutoWIG/doc/examples/PyClangLite'\n",
      "scons: Reading SConscript files ...\n",
      "scons: done reading SConscript files.\n",
      "scons: Building targets ...\n",
      "Install file: \"build/cpp/tool.h\" as \"/home/main/miniconda/include/clanglite/tool.h\"\n",
      "g++ -o build/cpp/tool.os -c -std=c++0x -fvisibility-inlines-hidden -ffunction-sections -fdata-sections -Wno-deprecated-declarations -fPIC -DBOOST_PYTHON_DYNAMIC_LIB -D_GNU_SOURCE -D__STDC_CONSTANT_MACROS -D__STDC_FORMAT_MACROS -D__STDC_LIMIT_MACROS -I/home/main/miniconda/include -I/home/main/miniconda/include/python2.7 build/cpp/tool.cpp\n",
      "g++ -o /home/main/miniconda/lib/libclanglite.so -shared build/cpp/tool.os -L/home/main/miniconda/lib -lboost_python -lpython2.7 -lclangIndex -lclangARCMigrate -lclangRewriteFrontend -lclangFormat -lclangTooling -lclangToolingCore -lclangFrontend -lclangDriver -lclangSerialization -lclangParse -lclangSema -lclangStaticAnalyzerCheckers -lclangStaticAnalyzerCore -lclangRewrite -lclangAnalysis -lclangEdit -lclangASTMatchers -lclangAST -lclangLex -lclangBasic -lLLVMInterpreter -lLLVMTableGen -lLLVMMIRParser -lLLVMDebugInfoCodeView -lLLVMXCoreDisassembler -lLLVMXCoreCodeGen -lLLVMXCoreDesc -lLLVMXCoreInfo -lLLVMXCoreAsmPrinter -lLLVMSystemZDisassembler -lLLVMSystemZCodeGen -lLLVMSystemZAsmParser -lLLVMSystemZDesc -lLLVMSystemZInfo -lLLVMSystemZAsmPrinter -lLLVMSparcDisassembler -lLLVMSparcCodeGen -lLLVMSparcAsmParser -lLLVMSparcDesc -lLLVMSparcInfo -lLLVMSparcAsmPrinter -lLLVMPowerPCDisassembler -lLLVMPowerPCCodeGen -lLLVMPowerPCAsmParser -lLLVMPowerPCDesc -lLLVMPowerPCInfo -lLLVMPowerPCAsmPrinter -lLLVMNVPTXCodeGen -lLLVMNVPTXDesc -lLLVMNVPTXInfo -lLLVMNVPTXAsmPrinter -lLLVMMSP430CodeGen -lLLVMMSP430Desc -lLLVMMSP430Info -lLLVMMSP430AsmPrinter -lLLVMMipsDisassembler -lLLVMMipsCodeGen -lLLVMMipsAsmParser -lLLVMMipsDesc -lLLVMMipsInfo -lLLVMMipsAsmPrinter -lLLVMHexagonDisassembler -lLLVMHexagonCodeGen -lLLVMHexagonAsmParser -lLLVMHexagonDesc -lLLVMHexagonInfo -lLLVMCppBackendCodeGen -lLLVMCppBackendInfo -lLLVMBPFCodeGen -lLLVMBPFDesc -lLLVMBPFInfo -lLLVMBPFAsmPrinter -lLLVMARMDisassembler -lLLVMARMCodeGen -lLLVMARMAsmParser -lLLVMARMDesc -lLLVMARMInfo -lLLVMARMAsmPrinter -lLLVMAMDGPUCodeGen -lLLVMAMDGPUAsmParser -lLLVMAMDGPUDesc -lLLVMAMDGPUUtils -lLLVMAMDGPUInfo -lLLVMAMDGPUAsmPrinter -lLLVMAArch64Disassembler -lLLVMAArch64CodeGen -lLLVMAArch64AsmParser -lLLVMAArch64Desc -lLLVMAArch64Info -lLLVMAArch64AsmPrinter -lLLVMAArch64Utils -lLLVMX86Disassembler -lLLVMX86AsmParser -lLLVMX86CodeGen -lLLVMSelectionDAG -lLLVMAsmPrinter -lLLVMX86Desc -lLLVMMCDisassembler -lLLVMX86Info -lLLVMX86AsmPrinter -lLLVMX86Utils -lLLVMMCJIT -lLLVMPasses -lLLVMLibDriver -lLLVMOption -lLLVMLTO -lLLVMObjCARCOpts -lLLVMipo -lLLVMVectorize -lLLVMLinker -lLLVMIRReader -lLLVMAsmParser -lLLVMCodeGen -lLLVMScalarOpts -lLLVMInstCombine -lLLVMInstrumentation -lLLVMProfileData -lLLVMBitWriter -lLLVMOrcJIT -lLLVMTransformUtils -lLLVMExecutionEngine -lLLVMTarget -lLLVMAnalysis -lLLVMRuntimeDyld -lLLVMLineEditor -lLLVMSymbolize -lLLVMDebugInfoPDB -lLLVMDebugInfoDWARF -lLLVMObject -lLLVMMCParser -lLLVMMC -lLLVMBitReader -lLLVMCore -lLLVMSupport -lrt -ldl -lpthread -lm\n",
      "scons: done building targets.\n"
     ]
    }
   ],
   "source": [
    "%%bash\n",
    "scons cpp -C PyClangLite"
   ]
  },
  {
   "cell_type": "markdown",
   "metadata": {},
   "source": [
    "Once these preliminaries done, we can proceed to the actual generation of wrappers for the **Clang** library.\n",
    "For this, we import **AutoWIG** and create an empty Abstract Semantic Graph (ASG)."
   ]
  },
  {
   "cell_type": "code",
   "execution_count": 7,
   "metadata": {
    "collapsed": false
   },
   "outputs": [],
   "source": [
    "import autowig\n",
    "asg = autowig.AbstractSemanticGraph()"
   ]
  },
  {
   "cell_type": "markdown",
   "metadata": {},
   "source": [
    "We then parse the `tool.h` header of the **ClangLite** library with relevant compilation flags."
   ]
  },
  {
   "cell_type": "code",
   "execution_count": 8,
   "metadata": {
    "collapsed": false,
    "scrolled": true
   },
   "outputs": [
    {
     "name": "stdout",
     "output_type": "stream",
     "text": [
      "CPU times: user 2min 10s, sys: 436 ms, total: 2min 11s\n",
      "Wall time: 2min 11s\n"
     ]
    }
   ],
   "source": [
    "%%time\n",
    "autowig.parser.plugin = 'libclang'\n",
    "asg = autowig.parser(asg, [prefix/'include'/'clanglite'/'tool.h'],\n",
    "               flags = ['-x', 'c++', '-std=c++11',\n",
    "                        '-D__STDC_LIMIT_MACROS',\n",
    "                        '-D__STDC_CONSTANT_MACROS',\n",
    "                        '-I' + str((prefix/'include').abspath())],\n",
    "               libpath = prefix/'lib'/'libclang.so',\n",
    "               bootstrap = False,\n",
    "               silent = True)"
   ]
  },
  {
   "cell_type": "markdown",
   "metadata": {},
   "source": [
    "Since most of **AutoWIG** guidelines are respected in the **Clang** library, the `default` `controller` implementation could be suitable.\n",
    "Nevertheless, we need to force some *C++* components to be wrapped or not.\n",
    "We therefore implements a new `controller`."
   ]
  },
  {
   "cell_type": "code",
   "execution_count": 9,
   "metadata": {
    "collapsed": false
   },
   "outputs": [],
   "source": [
    "def clanglite_controller(asg):\n",
    "    \n",
    "    for node in asg['::boost::python'].classes(nested = True):\n",
    "        node.is_copyable = True\n",
    "        \n",
    "    for node in asg.classes():\n",
    "        node.boost_python_export = False\n",
    "    for node in asg.enumerations():\n",
    "        node.boost_python_export = False\n",
    "    for node in asg.enumerators():\n",
    "        if node.parent.boost_python_export:\n",
    "            node.boost_python_export = False\n",
    "    for node in asg.typedefs():\n",
    "        node.boost_python_export = False\n",
    "            \n",
    "    from autowig.default_controller import refactoring\n",
    "    asg = refactoring(asg)\n",
    "    for fct in asg['::clanglite'].functions():\n",
    "        if not fct.localname == 'build_ast_from_code_with_args':\n",
    "            fct.parent = fct.parameters[0].qualified_type.desugared_type.unqualified_type\n",
    "            \n",
    "    for node in asg.functions(free = True):\n",
    "        node.boost_python_export = False\n",
    "    for node in asg.variables(free = True):\n",
    "        node.boost_python_export = False\n",
    "    \n",
    "    asg['class ::boost::python::api::object'].boost_python_export = True\n",
    "    asg['class ::boost::python::list'].boost_python_export = True \n",
    "    asg['class ::boost::python::str'].boost_python_export = True \n",
    "\n",
    "    subset = []\n",
    "    classes = [asg['class ::clang::QualType'],\n",
    "               asg['class ::clang::Type'],\n",
    "               asg['class ::clang::Decl']]\n",
    "    asg['class ::clang::QualType'].is_abstract = False\n",
    "    asg['class ::clang::QualType'].is_copyable = True\n",
    "    subset += classes\n",
    "    for cls in classes:\n",
    "        subset += cls.subclasses(recursive=True)\n",
    "    subset.append(asg['class ::llvm::StringRef'])\n",
    "    asg['class ::llvm::StringRef'].is_abstract = False\n",
    "    asg['class ::llvm::StringRef'].is_copyable = True\n",
    "    subset.append(asg['class ::clang::ASTUnit'])\n",
    "    subset.append(asg['class ::clang::ASTContext'])\n",
    "    subset.append(asg['class ::clang::SourceManager'])\n",
    "    for mtd in asg['class ::clang::ASTContext'].methods(pattern='.*getSourceManager.*'):\n",
    "        if mtd.return_type.globalname == 'class ::clang::SourceManager &':\n",
    "                mtd.boost_python_export = True\n",
    "                break\n",
    "    subset.append(asg['class ::clang::FileID'])\n",
    "    asg['class ::clang::FileID'].is_abstract = False\n",
    "    asg['class ::clang::FileID'].is_copyable = True\n",
    "    subset.append(asg['class ::clang::SourceLocation'])\n",
    "    asg['class ::clang::SourceLocation'].is_abstract = False\n",
    "    asg['class ::clang::SourceLocation'].is_copyable = True\n",
    "    subset.append(asg['class ::clang::CXXBaseSpecifier'])\n",
    "    subset.append(asg['class ::clang::DeclContext'])\n",
    "    subset.append(asg['class ::clang::TemplateArgument'])\n",
    "    asg['class ::clang::TemplateArgument'].is_abstract = False\n",
    "    asg['class ::clang::TemplateArgument'].is_copyable = True\n",
    "    subset.append(asg['class ::clang::TemplateArgumentList'])\n",
    "    subset.append(asg['enum ::clang::Type::TypeClass'])\n",
    "    subset.append(asg['enum ::clang::AccessSpecifier'])\n",
    "    subset.append(asg['enum ::clang::LinkageSpecDecl::LanguageIDs'])\n",
    "    subset.append(asg['enum ::clang::BuiltinType::Kind'])\n",
    "    subset.append(asg['enum ::clang::TemplateArgument::ArgKind'])\n",
    "    subset.append(asg['enum ::clang::Decl::Kind'])\n",
    "    subset.extend(asg['::boost::python'].classes(nested = True))\n",
    "    subset.extend(asg['::boost::python'].enumerations(nested = True))\n",
    "    subset.extend(asg.nodes('::clanglite::build_ast_from_code_with_args'))\n",
    "\n",
    "    for node in subset:\n",
    "        node.boost_python_export = True\n",
    "\n",
    "    if autowig.parser.plugin == 'libclang':\n",
    "        for node in (asg.functions(pattern='.*(llvm|clang).*_(begin|end)')\n",
    "                     + asg.functions(pattern='.*(llvm|clang).*getNameAsString')\n",
    "                     + asg.nodes('::clang::NamedDecl::getQualifiedNameAsString')\n",
    "                     + asg.nodes('::clang::ObjCProtocolDecl::collectInheritedProtocolProperties')\n",
    "                     + asg.nodes('::clang::ASTUnit::LoadFromASTFile')\n",
    "                     + asg.nodes('::clang::ASTUnit::getCachedCompletionTypes')\n",
    "                     + asg.nodes('::clang::ASTUnit::getBufferForFile')\n",
    "                     + asg.nodes('::clang::CXXRecordDecl::getCaptureFields')\n",
    "                     + asg.nodes('::clang::ASTContext::SectionInfos')\n",
    "                     + asg.nodes('::clang::ASTContext::getAllocator')\n",
    "                     + asg.nodes('::clang::ASTContext::getObjCEncoding.*')\n",
    "                     + asg.nodes('::clang::ASTContext::getAllocator')\n",
    "                     + asg.nodes('::clang::QualType::getAsString')\n",
    "                     + asg.nodes('::clang::SourceLocation::printToString')\n",
    "                     + asg['class ::llvm::StringRef'].methods()):\n",
    "            node.boost_python_export = False\n",
    "            \n",
    "    import sys\n",
    "    from path import path\n",
    "    for header in (path(sys.prefix)/'include'/'clang').walkfiles('*.h'):\n",
    "        asg[header.abspath()].is_external_dependency = False\n",
    "    \n",
    "    return asg"
   ]
  },
  {
   "cell_type": "markdown",
   "metadata": {},
   "source": [
    "This `controller` is then dynamically registered and used on the ASG."
   ]
  },
  {
   "cell_type": "code",
   "execution_count": 10,
   "metadata": {
    "collapsed": false
   },
   "outputs": [
    {
     "name": "stdout",
     "output_type": "stream",
     "text": [
      "CPU times: user 1min 51s, sys: 112 ms, total: 1min 51s\n",
      "Wall time: 1min 51s\n"
     ]
    }
   ],
   "source": [
    "%%time\n",
    "autowig.controller['clanglite'] = clanglite_controller\n",
    "autowig.controller.plugin = 'clanglite'\n",
    "asg = autowig.controller(asg)"
   ]
  },
  {
   "cell_type": "markdown",
   "metadata": {},
   "source": [
    "In order to wrap a subset of the **Clang** library, we need to select the `boost_python_internal` `generator` implementation."
   ]
  },
  {
   "cell_type": "code",
   "execution_count": 11,
   "metadata": {
    "collapsed": false
   },
   "outputs": [
    {
     "name": "stdout",
     "output_type": "stream",
     "text": [
      "CPU times: user 8.17 s, sys: 40 ms, total: 8.21 s\n",
      "Wall time: 8.18 s\n"
     ]
    }
   ],
   "source": [
    "%%time\n",
    "autowig.generator.plugin = 'boost_python_pattern'\n",
    "wrappers = autowig.generator(asg,\n",
    "                  module = srcdir/'_clanglite.cpp',\n",
    "                  decorator = srcdir/'clanglite'/'_clanglite.py',\n",
    "                  closure = False)"
   ]
  },
  {
   "cell_type": "markdown",
   "metadata": {},
   "source": [
    "The wrappers are only generated in-memory.\n",
    "It is therefore needed to write them on the disk to complete the process."
   ]
  },
  {
   "cell_type": "code",
   "execution_count": 12,
   "metadata": {
    "collapsed": false
   },
   "outputs": [
    {
     "name": "stdout",
     "output_type": "stream",
     "text": [
      "CPU times: user 39.4 s, sys: 36 ms, total: 39.4 s\n",
      "Wall time: 39.4 s\n"
     ]
    }
   ],
   "source": [
    "%%time\n",
    "wrappers.write()"
   ]
  },
  {
   "cell_type": "markdown",
   "metadata": {},
   "source": [
    "Here is an example of the generated wrappers.\n",
    "We here present the wrappers for the `clang::Decl` class."
   ]
  },
  {
   "cell_type": "code",
   "execution_count": 13,
   "metadata": {
    "collapsed": true
   },
   "outputs": [
    {
     "name": "stdout",
     "output_type": "stream",
     "text": [
      "\u001b[36m#\u001b[39;49;00m\u001b[36minclude\u001b[39;49;00m \u001b[37m\"_clanglite.h\"\u001b[39;49;00m\u001b[36m\u001b[39;49;00m\n",
      "\n",
      "\n",
      "\u001b[34mnamespace\u001b[39;49;00m autowig\n",
      "{\n",
      "}\n",
      "\n",
      "\n",
      "\u001b[36mvoid\u001b[39;49;00m wrapper_a6aedb4654a55a40aeecf4b1dc5fcc98()\n",
      "{\n",
      "\n",
      "    std::string name_7bbff48d109853e88270b3595c663a99 = boost::python::extract< std::string >(boost::python::scope().attr(\u001b[33m\"\u001b[39;49;00m\u001b[33m__name__\u001b[39;49;00m\u001b[33m\"\u001b[39;49;00m) + \u001b[33m\"\u001b[39;49;00m\u001b[33m.clang\u001b[39;49;00m\u001b[33m\"\u001b[39;49;00m);\n",
      "    boost::python::object module_7bbff48d109853e88270b3595c663a99(boost::python::handle<  >(boost::python::borrowed(PyImport_AddModule(name_7bbff48d109853e88270b3595c663a99.c_str()))));\n",
      "    boost::python::scope().attr(\u001b[33m\"\u001b[39;49;00m\u001b[33mclang\u001b[39;49;00m\u001b[33m\"\u001b[39;49;00m) = module_7bbff48d109853e88270b3595c663a99;\n",
      "    boost::python::scope scope_7bbff48d109853e88270b3595c663a99 = module_7bbff48d109853e88270b3595c663a99;\n",
      "    \u001b[36mvoid\u001b[39;49;00m  (*method_pointer_4053c8f5abc2507ba73355adeb9b3769)() = ::clang::Decl::EnableStatistics;\n",
      "    \u001b[36mvoid\u001b[39;49;00m  (*method_pointer_597650f0008559e89ad130c681eed082)() = ::clang::Decl::PrintStats;\n",
      "    \u001b[36mvoid\u001b[39;49;00m  (*method_pointer_362dac5663ef50a8bfea193a64071d0d)(\u001b[34menum\u001b[39;49;00m ::clang::Decl::Kind ) = ::clang::Decl::add;\n",
      "    \u001b[36mbool\u001b[39;49;00m  (::clang::Decl::*method_pointer_395eb94f7fad57c391563c21c3de997a)(\u001b[36mbool\u001b[39;49;00m  &) \u001b[34mconst\u001b[39;49;00m = &::clang::Decl::canBeWeakImported;\n",
      "    \u001b[34mclass\u001b[39;49;00m \u001b[04m\u001b[31;01m:\u001b[39;49;00m\u001b[04m\u001b[31;01m:\u001b[39;49;00m\u001b[04m\u001b[32mclang\u001b[39;49;00m::Decl  * (*method_pointer_40b3d5294bf25843b0348eba18ee7a66)(\u001b[34mclass\u001b[39;49;00m \u001b[04m\u001b[31;01m:\u001b[39;49;00m\u001b[04m\u001b[31;01m:\u001b[39;49;00m\u001b[04m\u001b[32mclang\u001b[39;49;00m::DeclContext  \u001b[34mconst\u001b[39;49;00m *) = ::clang::Decl::castFromDeclContext;\n",
      "    \u001b[34mclass\u001b[39;49;00m \u001b[04m\u001b[31;01m:\u001b[39;49;00m\u001b[04m\u001b[31;01m:\u001b[39;49;00m\u001b[04m\u001b[32mclang\u001b[39;49;00m::DeclContext  * (*method_pointer_df1e45443a805d2588bcdc79b5572646)(\u001b[34mclass\u001b[39;49;00m \u001b[04m\u001b[31;01m:\u001b[39;49;00m\u001b[04m\u001b[31;01m:\u001b[39;49;00m\u001b[04m\u001b[32mclang\u001b[39;49;00m::Decl  \u001b[34mconst\u001b[39;49;00m *) = ::clang::Decl::castToDeclContext;\n",
      "    \u001b[36mbool\u001b[39;49;00m  (*method_pointer_19857982403d5029ad4a5c1bece71039)(\u001b[34menum\u001b[39;49;00m ::clang::Decl::Kind ) = ::clang::Decl::classofKind;\n",
      "    \u001b[36mvoid\u001b[39;49;00m  (::clang::Decl::*method_pointer_fb503bf7fa27542d8affde6bc495d1a1)() = &::clang::Decl::dropAttrs;\n",
      "    \u001b[36mvoid\u001b[39;49;00m  (::clang::Decl::*method_pointer_a90797e34edd58a483a48ed6621758b8)() \u001b[34mconst\u001b[39;49;00m = &::clang::Decl::dump;\n",
      "    \u001b[36mvoid\u001b[39;49;00m  (::clang::Decl::*method_pointer_e02e40b950a2549798a18630ece2d23f)() \u001b[34mconst\u001b[39;49;00m = &::clang::Decl::dumpColor;\n",
      "    \u001b[34mclass\u001b[39;49;00m \u001b[04m\u001b[31;01m:\u001b[39;49;00m\u001b[04m\u001b[31;01m:\u001b[39;49;00m\u001b[04m\u001b[32mclang\u001b[39;49;00m::ASTContext  & (::clang::Decl::*method_pointer_d8ff0f832a9e576494639b3d0a3d3357)() \u001b[34mconst\u001b[39;49;00m = &::clang::Decl::getASTContext;\n",
      "    \u001b[34menum\u001b[39;49;00m ::clang::AccessSpecifier  (::clang::Decl::*method_pointer_7cd22d80c7d15f189cd5a9ba4626bd11)() \u001b[34mconst\u001b[39;49;00m = &::clang::Decl::getAccess;\n",
      "    \u001b[34menum\u001b[39;49;00m ::clang::AccessSpecifier  (::clang::Decl::*method_pointer_6e24d79a0c0f5edebce06fdaa1225453)() \u001b[34mconst\u001b[39;49;00m = &::clang::Decl::getAccessUnsafe;\n",
      "    \u001b[34mclass\u001b[39;49;00m \u001b[04m\u001b[31;01m:\u001b[39;49;00m\u001b[04m\u001b[31;01m:\u001b[39;49;00m\u001b[04m\u001b[32mclang\u001b[39;49;00m::FunctionDecl  * (::clang::Decl::*method_pointer_78b392e7a04d5494a72ce907598e0d2c)() = &::clang::Decl::getAsFunction;\n",
      "    \u001b[34mclass\u001b[39;49;00m \u001b[04m\u001b[31;01m:\u001b[39;49;00m\u001b[04m\u001b[31;01m:\u001b[39;49;00m\u001b[04m\u001b[32mclang\u001b[39;49;00m::FunctionDecl  \u001b[34mconst\u001b[39;49;00m * (::clang::Decl::*method_pointer_2d0e197da46458cfa88add46affd252a)() \u001b[34mconst\u001b[39;49;00m = &::clang::Decl::getAsFunction;\n",
      "    \u001b[34mclass\u001b[39;49;00m \u001b[04m\u001b[31;01m:\u001b[39;49;00m\u001b[04m\u001b[31;01m:\u001b[39;49;00m\u001b[04m\u001b[32mclang\u001b[39;49;00m::SourceLocation  (::clang::Decl::*method_pointer_0b60e6d4ec92508faf9a31d89a01dfeb)() \u001b[34mconst\u001b[39;49;00m = &::clang::Decl::getBodyRBrace;\n",
      "    \u001b[34mclass\u001b[39;49;00m \u001b[04m\u001b[31;01m:\u001b[39;49;00m\u001b[04m\u001b[31;01m:\u001b[39;49;00m\u001b[04m\u001b[32mclang\u001b[39;49;00m::Decl  * (::clang::Decl::*method_pointer_e9afcab2218455949420b8c836248100)() = &::clang::Decl::getCanonicalDecl;\n",
      "    \u001b[34mclass\u001b[39;49;00m \u001b[04m\u001b[31;01m:\u001b[39;49;00m\u001b[04m\u001b[31;01m:\u001b[39;49;00m\u001b[04m\u001b[32mclang\u001b[39;49;00m::Decl  \u001b[34mconst\u001b[39;49;00m * (::clang::Decl::*method_pointer_094c6cff8704555da5ffcc28529b40ff)() \u001b[34mconst\u001b[39;49;00m = &::clang::Decl::getCanonicalDecl;\n",
      "    \u001b[34mclass\u001b[39;49;00m \u001b[04m\u001b[31;01m:\u001b[39;49;00m\u001b[04m\u001b[31;01m:\u001b[39;49;00m\u001b[04m\u001b[32mclang\u001b[39;49;00m::DeclContext  * (::clang::Decl::*method_pointer_54e12ce9c0ef5ca2818a1d93811602a7)() = &::clang::Decl::getDeclContext;\n",
      "    \u001b[34mclass\u001b[39;49;00m \u001b[04m\u001b[31;01m:\u001b[39;49;00m\u001b[04m\u001b[31;01m:\u001b[39;49;00m\u001b[04m\u001b[32mclang\u001b[39;49;00m::DeclContext  \u001b[34mconst\u001b[39;49;00m * (::clang::Decl::*method_pointer_c23e0f361e895be1bcd5b5f946fa6051)() \u001b[34mconst\u001b[39;49;00m = &::clang::Decl::getDeclContext;\n",
      "    \u001b[34mclass\u001b[39;49;00m \u001b[04m\u001b[31;01m:\u001b[39;49;00m\u001b[04m\u001b[31;01m:\u001b[39;49;00m\u001b[04m\u001b[32mclang\u001b[39;49;00m::FunctionType  \u001b[34mconst\u001b[39;49;00m * (::clang::Decl::*method_pointer_ec469fcc42a453908b79528c9a5bb3d4)(\u001b[36mbool\u001b[39;49;00m ) \u001b[34mconst\u001b[39;49;00m = &::clang::Decl::getFunctionType;\n",
      "    \u001b[36munsigned\u001b[39;49;00m \u001b[32mint\u001b[39;49;00m  (::clang::Decl::*method_pointer_c510f51a5ead57209af8673d577d7657)() \u001b[34mconst\u001b[39;49;00m = &::clang::Decl::getGlobalID;\n",
      "    \u001b[36munsigned\u001b[39;49;00m \u001b[32mint\u001b[39;49;00m  (::clang::Decl::*method_pointer_e81f7413df7e5a2e873428adc71865ba)() \u001b[34mconst\u001b[39;49;00m = &::clang::Decl::getIdentifierNamespace;\n",
      "    \u001b[36munsigned\u001b[39;49;00m \u001b[32mint\u001b[39;49;00m  (*method_pointer_f141c73718485e90b2f9c1098d771175)(\u001b[34menum\u001b[39;49;00m ::clang::Decl::Kind ) = ::clang::Decl::getIdentifierNamespaceForKind;\n",
      "    \u001b[34menum\u001b[39;49;00m ::clang::Decl::Kind  (::clang::Decl::*method_pointer_5146626e036350dca12d3788fb6dd574)() \u001b[34mconst\u001b[39;49;00m = &::clang::Decl::getKind;\n",
      "    \u001b[34mclass\u001b[39;49;00m \u001b[04m\u001b[31;01m:\u001b[39;49;00m\u001b[04m\u001b[31;01m:\u001b[39;49;00m\u001b[04m\u001b[32mclang\u001b[39;49;00m::DeclContext  * (::clang::Decl::*method_pointer_6cef62b0d0a951f092d97ece8c0b5d9a)() = &::clang::Decl::getLexicalDeclContext;\n",
      "    \u001b[34mclass\u001b[39;49;00m \u001b[04m\u001b[31;01m:\u001b[39;49;00m\u001b[04m\u001b[31;01m:\u001b[39;49;00m\u001b[04m\u001b[32mclang\u001b[39;49;00m::DeclContext  \u001b[34mconst\u001b[39;49;00m * (::clang::Decl::*method_pointer_18e8b0e21c265226aa2cd30cd9a26dc3)() \u001b[34mconst\u001b[39;49;00m = &::clang::Decl::getLexicalDeclContext;\n",
      "    \u001b[34mclass\u001b[39;49;00m \u001b[04m\u001b[31;01m:\u001b[39;49;00m\u001b[04m\u001b[31;01m:\u001b[39;49;00m\u001b[04m\u001b[32mclang\u001b[39;49;00m::SourceLocation  (::clang::Decl::*method_pointer_4cd83ce48c5d52558a51ae8ee5b93881)() \u001b[34mconst\u001b[39;49;00m = &::clang::Decl::getLocEnd;\n",
      "    \u001b[34mclass\u001b[39;49;00m \u001b[04m\u001b[31;01m:\u001b[39;49;00m\u001b[04m\u001b[31;01m:\u001b[39;49;00m\u001b[04m\u001b[32mclang\u001b[39;49;00m::SourceLocation  (::clang::Decl::*method_pointer_8c56b17c3eee598cb76d439a34b0012b)() \u001b[34mconst\u001b[39;49;00m = &::clang::Decl::getLocStart;\n",
      "    \u001b[34mclass\u001b[39;49;00m \u001b[04m\u001b[31;01m:\u001b[39;49;00m\u001b[04m\u001b[31;01m:\u001b[39;49;00m\u001b[04m\u001b[32mclang\u001b[39;49;00m::SourceLocation  (::clang::Decl::*method_pointer_c7bdca412fa25e0fb82556289a3bd806)() \u001b[34mconst\u001b[39;49;00m = &::clang::Decl::getLocation;\n",
      "    \u001b[36munsigned\u001b[39;49;00m \u001b[32mint\u001b[39;49;00m  (::clang::Decl::*method_pointer_c9985870e867542289a54fcfc1d9935f)() \u001b[34mconst\u001b[39;49;00m = &::clang::Decl::getMaxAlignment;\n",
      "    \u001b[34mclass\u001b[39;49;00m \u001b[04m\u001b[31;01m:\u001b[39;49;00m\u001b[04m\u001b[31;01m:\u001b[39;49;00m\u001b[04m\u001b[32mclang\u001b[39;49;00m::Decl  * (::clang::Decl::*method_pointer_f8ca492318345d119096f5842fe84658)() = &::clang::Decl::getMostRecentDecl;\n",
      "    \u001b[34mclass\u001b[39;49;00m \u001b[04m\u001b[31;01m:\u001b[39;49;00m\u001b[04m\u001b[31;01m:\u001b[39;49;00m\u001b[04m\u001b[32mclang\u001b[39;49;00m::Decl  \u001b[34mconst\u001b[39;49;00m * (::clang::Decl::*method_pointer_b706d88b1e095fb5a871817947b5ced4)() \u001b[34mconst\u001b[39;49;00m = &::clang::Decl::getMostRecentDecl;\n",
      "    \u001b[34mclass\u001b[39;49;00m \u001b[04m\u001b[31;01m:\u001b[39;49;00m\u001b[04m\u001b[31;01m:\u001b[39;49;00m\u001b[04m\u001b[32mclang\u001b[39;49;00m::Decl  \u001b[34mconst\u001b[39;49;00m * (::clang::Decl::*method_pointer_490db849066e5d6e866e2108371ca3a5)() \u001b[34mconst\u001b[39;49;00m = &::clang::Decl::getNextDeclInContext;\n",
      "    \u001b[34mclass\u001b[39;49;00m \u001b[04m\u001b[31;01m:\u001b[39;49;00m\u001b[04m\u001b[31;01m:\u001b[39;49;00m\u001b[04m\u001b[32mclang\u001b[39;49;00m::Decl  * (::clang::Decl::*method_pointer_e5636ccb07ea50d985ef13e2c55a0d79)() = &::clang::Decl::getNextDeclInContext;\n",
      "    \u001b[34mclass\u001b[39;49;00m \u001b[04m\u001b[31;01m:\u001b[39;49;00m\u001b[04m\u001b[31;01m:\u001b[39;49;00m\u001b[04m\u001b[32mclang\u001b[39;49;00m::Decl  * (::clang::Decl::*method_pointer_70a73645955a528b8e4f1eeb4672d6ea)() = &::clang::Decl::getNonClosureContext;\n",
      "    \u001b[34mclass\u001b[39;49;00m \u001b[04m\u001b[31;01m:\u001b[39;49;00m\u001b[04m\u001b[31;01m:\u001b[39;49;00m\u001b[04m\u001b[32mclang\u001b[39;49;00m::Decl  \u001b[34mconst\u001b[39;49;00m * (::clang::Decl::*method_pointer_80238a3a4ad1560cbf293fe85eabfa01)() \u001b[34mconst\u001b[39;49;00m = &::clang::Decl::getNonClosureContext;\n",
      "    \u001b[36munsigned\u001b[39;49;00m \u001b[32mint\u001b[39;49;00m  (::clang::Decl::*method_pointer_e6350c34159b597a878b137e1d9a1946)() \u001b[34mconst\u001b[39;49;00m = &::clang::Decl::getOwningModuleID;\n",
      "    \u001b[34mclass\u001b[39;49;00m \u001b[04m\u001b[31;01m:\u001b[39;49;00m\u001b[04m\u001b[31;01m:\u001b[39;49;00m\u001b[04m\u001b[32mclang\u001b[39;49;00m::DeclContext  \u001b[34mconst\u001b[39;49;00m * (::clang::Decl::*method_pointer_5f673b479bf0544292b8f86815f70061)() \u001b[34mconst\u001b[39;49;00m = &::clang::Decl::getParentFunctionOrMethod;\n",
      "    \u001b[34mclass\u001b[39;49;00m \u001b[04m\u001b[31;01m:\u001b[39;49;00m\u001b[04m\u001b[31;01m:\u001b[39;49;00m\u001b[04m\u001b[32mclang\u001b[39;49;00m::DeclContext  * (::clang::Decl::*method_pointer_b7c62c3ee162591ea922d44af31db6c3)() = &::clang::Decl::getParentFunctionOrMethod;\n",
      "    \u001b[34mclass\u001b[39;49;00m \u001b[04m\u001b[31;01m:\u001b[39;49;00m\u001b[04m\u001b[31;01m:\u001b[39;49;00m\u001b[04m\u001b[32mclang\u001b[39;49;00m::Decl  \u001b[34mconst\u001b[39;49;00m * (::clang::Decl::*method_pointer_81bce0f3ede8517b920ac9b8f1da8b61)() \u001b[34mconst\u001b[39;49;00m = &::clang::Decl::getPreviousDecl;\n",
      "    \u001b[34mclass\u001b[39;49;00m \u001b[04m\u001b[31;01m:\u001b[39;49;00m\u001b[04m\u001b[31;01m:\u001b[39;49;00m\u001b[04m\u001b[32mclang\u001b[39;49;00m::Decl  * (::clang::Decl::*method_pointer_2080634cc06058ffbc54bb085ac4ac42)() = &::clang::Decl::getPreviousDecl;\n",
      "    \u001b[34mclass\u001b[39;49;00m \u001b[04m\u001b[31;01m:\u001b[39;49;00m\u001b[04m\u001b[31;01m:\u001b[39;49;00m\u001b[04m\u001b[32mclang\u001b[39;49;00m::TranslationUnitDecl  * (::clang::Decl::*method_pointer_fe3c37801067594f8a357ef9eeeb0762)() = &::clang::Decl::getTranslationUnitDecl;\n",
      "    \u001b[34mclass\u001b[39;49;00m \u001b[04m\u001b[31;01m:\u001b[39;49;00m\u001b[04m\u001b[31;01m:\u001b[39;49;00m\u001b[04m\u001b[32mclang\u001b[39;49;00m::TranslationUnitDecl  \u001b[34mconst\u001b[39;49;00m * (::clang::Decl::*method_pointer_aefd97f4143e51778cf6bc72aeb3ee32)() \u001b[34mconst\u001b[39;49;00m = &::clang::Decl::getTranslationUnitDecl;\n",
      "    \u001b[36mbool\u001b[39;49;00m  (::clang::Decl::*method_pointer_69f82f0df0c95d608caa437585371aca)() \u001b[34mconst\u001b[39;49;00m = &::clang::Decl::hasAttrs;\n",
      "    \u001b[36mbool\u001b[39;49;00m  (::clang::Decl::*method_pointer_e21a104fb37e5d83ae3545cf29e7e0c2)() \u001b[34mconst\u001b[39;49;00m = &::clang::Decl::hasBody;\n",
      "    \u001b[36mbool\u001b[39;49;00m  (::clang::Decl::*method_pointer_e0c3f9f908e4529eab5439b427c1e83f)() \u001b[34mconst\u001b[39;49;00m = &::clang::Decl::hasTagIdentifierNamespace;\n",
      "    \u001b[36mbool\u001b[39;49;00m  (::clang::Decl::*method_pointer_db7146970d855469bf94eb05838f54f3)() \u001b[34mconst\u001b[39;49;00m = &::clang::Decl::isCanonicalDecl;\n",
      "    \u001b[36mbool\u001b[39;49;00m  (::clang::Decl::*method_pointer_c727cc0d51bd523694544b28f7458147)() \u001b[34mconst\u001b[39;49;00m = &::clang::Decl::isDefinedOutsideFunctionOrMethod;\n",
      "    \u001b[36mbool\u001b[39;49;00m  (::clang::Decl::*method_pointer_55cf11898fd5515ab1db934850887bd1)() \u001b[34mconst\u001b[39;49;00m = &::clang::Decl::isFirstDecl;\n",
      "    \u001b[36mbool\u001b[39;49;00m  (::clang::Decl::*method_pointer_a39bfbdc30065ba4b96dceabdc29c308)() \u001b[34mconst\u001b[39;49;00m = &::clang::Decl::isFromASTFile;\n",
      "    \u001b[36mbool\u001b[39;49;00m  (::clang::Decl::*method_pointer_232274264305537d8d2f0db1f89d722b)() \u001b[34mconst\u001b[39;49;00m = &::clang::Decl::isFunctionOrFunctionTemplate;\n",
      "    \u001b[36mbool\u001b[39;49;00m  (::clang::Decl::*method_pointer_bea01b7b86795ccfb932e38d88c98584)() \u001b[34mconst\u001b[39;49;00m = &::clang::Decl::isImplicit;\n",
      "    \u001b[36mbool\u001b[39;49;00m  (::clang::Decl::*method_pointer_15d21013682c5a2b8856f3f886986304)() \u001b[34mconst\u001b[39;49;00m = &::clang::Decl::isInAnonymousNamespace;\n",
      "    \u001b[36mbool\u001b[39;49;00m  (::clang::Decl::*method_pointer_9199043911815f0c99c90450fcbc23c9)(\u001b[36munsigned\u001b[39;49;00m \u001b[36mint\u001b[39;49;00m ) \u001b[34mconst\u001b[39;49;00m = &::clang::Decl::isInIdentifierNamespace;\n",
      "    \u001b[36mbool\u001b[39;49;00m  (::clang::Decl::*method_pointer_c721c537f1235915a44b475f77385828)() \u001b[34mconst\u001b[39;49;00m = &::clang::Decl::isInStdNamespace;\n",
      "    \u001b[36mbool\u001b[39;49;00m  (::clang::Decl::*method_pointer_4fe73894db53557aa178a7ef68e23ca5)() \u001b[34mconst\u001b[39;49;00m = &::clang::Decl::isInvalidDecl;\n",
      "    \u001b[36mbool\u001b[39;49;00m  (::clang::Decl::*method_pointer_82eb4380eb6e5b618a2904a2d66b93c2)() \u001b[34mconst\u001b[39;49;00m = &::clang::Decl::isLexicallyWithinFunctionOrMethod;\n",
      "    \u001b[36mbool\u001b[39;49;00m  (::clang::Decl::*method_pointer_9c8728a3b00e5e03bc51791ab4518de9)() = &::clang::Decl::isLocalExternDecl;\n",
      "    \u001b[36mbool\u001b[39;49;00m  (::clang::Decl::*method_pointer_4a53f3fb98b45c23bfe4529392afd3b6)() \u001b[34mconst\u001b[39;49;00m = &::clang::Decl::isModulePrivate;\n",
      "    \u001b[36mbool\u001b[39;49;00m  (::clang::Decl::*method_pointer_db04d60f110f52759cffecbabab6cb41)() \u001b[34mconst\u001b[39;49;00m = &::clang::Decl::isOutOfLine;\n",
      "    \u001b[36mbool\u001b[39;49;00m  (::clang::Decl::*method_pointer_13182a132dd65a9d80b42db2bb7aa7c1)() \u001b[34mconst\u001b[39;49;00m = &::clang::Decl::isParameterPack;\n",
      "    \u001b[36mbool\u001b[39;49;00m  (::clang::Decl::*method_pointer_8e9d9a5d0f545fbc8272b741d37688aa)() \u001b[34mconst\u001b[39;49;00m = &::clang::Decl::isReferenced;\n",
      "    \u001b[36mbool\u001b[39;49;00m  (*method_pointer_a91bf4e27537597cabaa139e76da4018)(\u001b[36munsigned\u001b[39;49;00m \u001b[36mint\u001b[39;49;00m ) = ::clang::Decl::isTagIdentifierNamespace;\n",
      "    \u001b[36mbool\u001b[39;49;00m  (::clang::Decl::*method_pointer_270a3247576657fba845c88ad2db1491)() \u001b[34mconst\u001b[39;49;00m = &::clang::Decl::isTemplateDecl;\n",
      "    \u001b[36mbool\u001b[39;49;00m  (::clang::Decl::*method_pointer_6477760fa6db5582a3707a8e7cebc112)() \u001b[34mconst\u001b[39;49;00m = &::clang::Decl::isTemplateParameter;\n",
      "    \u001b[36mbool\u001b[39;49;00m  (::clang::Decl::*method_pointer_b6ae317b66db5e4780125e2a089b5e79)() \u001b[34mconst\u001b[39;49;00m = &::clang::Decl::isTemplateParameterPack;\n",
      "    \u001b[36mbool\u001b[39;49;00m  (::clang::Decl::*method_pointer_471abb9731f9509491ef489615ff3c48)() \u001b[34mconst\u001b[39;49;00m = &::clang::Decl::isThisDeclarationReferenced;\n",
      "    \u001b[36mbool\u001b[39;49;00m  (::clang::Decl::*method_pointer_68dc8337388e5223a214bec57747d5c6)() \u001b[34mconst\u001b[39;49;00m = &::clang::Decl::isTopLevelDeclInObjCContainer;\n",
      "    \u001b[36mbool\u001b[39;49;00m  (::clang::Decl::*method_pointer_b607ebcf7c8c560ea01ba17196e3550f)(\u001b[36mbool\u001b[39;49;00m ) \u001b[34mconst\u001b[39;49;00m = &::clang::Decl::isUsed;\n",
      "    \u001b[36mbool\u001b[39;49;00m  (::clang::Decl::*method_pointer_a18c3a5c3e9e529aa5392ad983351a67)() \u001b[34mconst\u001b[39;49;00m = &::clang::Decl::isWeakImported;\n",
      "    \u001b[36mvoid\u001b[39;49;00m  (::clang::Decl::*method_pointer_f38099ee98bb53158813f7b162157647)(\u001b[34mclass\u001b[39;49;00m \u001b[04m\u001b[31;01m:\u001b[39;49;00m\u001b[04m\u001b[31;01m:\u001b[39;49;00m\u001b[04m\u001b[32mclang\u001b[39;49;00m::ASTContext  &) = &::clang::Decl::markUsed;\n",
      "    \u001b[36mvoid\u001b[39;49;00m  (::clang::Decl::*method_pointer_0f2a4278500e58158dba67097ad5f0e7)(\u001b[34menum\u001b[39;49;00m ::clang::AccessSpecifier ) = &::clang::Decl::setAccess;\n",
      "    \u001b[36mvoid\u001b[39;49;00m  (::clang::Decl::*method_pointer_a2860bfea49653debee7e4084de18904)(\u001b[34mclass\u001b[39;49;00m \u001b[04m\u001b[31;01m:\u001b[39;49;00m\u001b[04m\u001b[31;01m:\u001b[39;49;00m\u001b[04m\u001b[32mclang\u001b[39;49;00m::DeclContext  *) = &::clang::Decl::setDeclContext;\n",
      "    \u001b[36mvoid\u001b[39;49;00m  (::clang::Decl::*method_pointer_880d955702765634a828c0ac5ff4d2de)(\u001b[36mbool\u001b[39;49;00m ) = &::clang::Decl::setImplicit;\n",
      "    \u001b[36mvoid\u001b[39;49;00m  (::clang::Decl::*method_pointer_8889f84166c55e41b03ca3f720e38c13)(\u001b[36mbool\u001b[39;49;00m ) = &::clang::Decl::setInvalidDecl;\n",
      "    \u001b[36mvoid\u001b[39;49;00m  (::clang::Decl::*method_pointer_6eadd6fe35445e419f15e106cb95f3ea)() = &::clang::Decl::setIsUsed;\n",
      "    \u001b[36mvoid\u001b[39;49;00m  (::clang::Decl::*method_pointer_3e306e17f281521baa948e55356a3688)(\u001b[34mclass\u001b[39;49;00m \u001b[04m\u001b[31;01m:\u001b[39;49;00m\u001b[04m\u001b[31;01m:\u001b[39;49;00m\u001b[04m\u001b[32mclang\u001b[39;49;00m::DeclContext  *) = &::clang::Decl::setLexicalDeclContext;\n",
      "    \u001b[36mvoid\u001b[39;49;00m  (::clang::Decl::*method_pointer_26f8908093485946ab7a76679c4c5c02)() = &::clang::Decl::setLocalExternDecl;\n",
      "    \u001b[36mvoid\u001b[39;49;00m  (::clang::Decl::*method_pointer_461d994982ac5a6a85d4d6077f2914cf)(\u001b[34mclass\u001b[39;49;00m \u001b[04m\u001b[31;01m:\u001b[39;49;00m\u001b[04m\u001b[31;01m:\u001b[39;49;00m\u001b[04m\u001b[32mclang\u001b[39;49;00m::SourceLocation ) = &::clang::Decl::setLocation;\n",
      "    \u001b[36mvoid\u001b[39;49;00m  (::clang::Decl::*method_pointer_0441c87f2a755eb5b2debe05c8fa1b60)() = &::clang::Decl::setNonMemberOperator;\n",
      "    \u001b[36mvoid\u001b[39;49;00m  (::clang::Decl::*method_pointer_8d3a3f76c42952fa825b4b43960cc981)(\u001b[36mbool\u001b[39;49;00m ) = &::clang::Decl::setObjectOfFriendDecl;\n",
      "    \u001b[36mvoid\u001b[39;49;00m  (::clang::Decl::*method_pointer_fc516d00a7cd59fc80e50c44b15b8366)(\u001b[36mbool\u001b[39;49;00m ) = &::clang::Decl::setReferenced;\n",
      "    \u001b[36mvoid\u001b[39;49;00m  (::clang::Decl::*method_pointer_582178e60ef459609a50e69062a5e356)(\u001b[36mbool\u001b[39;49;00m ) = &::clang::Decl::setTopLevelDeclInObjCContainer;\n",
      "    \u001b[34mstruct\u001b[39;49;00m function_group\n",
      "    {\n",
      "        \u001b[34mstatic\u001b[39;49;00m \u001b[34mclass\u001b[39;49;00m \u001b[04m\u001b[31;01m:\u001b[39;49;00m\u001b[04m\u001b[31;01m:\u001b[39;49;00m\u001b[04m\u001b[32mboost\u001b[39;49;00m::python::str  function_34fccbbca4595d71aa834e6048994ee1(\u001b[34mclass\u001b[39;49;00m \u001b[04m\u001b[31;01m:\u001b[39;49;00m\u001b[04m\u001b[31;01m:\u001b[39;49;00m\u001b[04m\u001b[32mclang\u001b[39;49;00m::Decl  * parameter_0)\n",
      "        { \u001b[34mreturn\u001b[39;49;00m ::clanglite::get_comment(parameter_0); }\n",
      "    };\n",
      "    boost::python::class_< \u001b[34mclass\u001b[39;49;00m \u001b[04m\u001b[31;01m:\u001b[39;49;00m\u001b[04m\u001b[31;01m:\u001b[39;49;00m\u001b[04m\u001b[32mclang\u001b[39;49;00m::Decl, autowig::HeldType< \u001b[34mclass\u001b[39;49;00m \u001b[04m\u001b[31;01m:\u001b[39;49;00m\u001b[04m\u001b[31;01m:\u001b[39;49;00m\u001b[04m\u001b[32mclang\u001b[39;49;00m::Decl >, boost::noncopyable > class_a6aedb4654a55a40aeecf4b1dc5fcc98(\u001b[33m\"\u001b[39;49;00m\u001b[33mDecl\u001b[39;49;00m\u001b[33m\"\u001b[39;49;00m, \u001b[33m\"\u001b[39;49;00m\u001b[33m\"\u001b[39;49;00m, boost::python::no_init);\n",
      "    class_a6aedb4654a55a40aeecf4b1dc5fcc98.def(\u001b[33m\"\u001b[39;49;00m\u001b[33menable_statistics\u001b[39;49;00m\u001b[33m\"\u001b[39;49;00m, method_pointer_4053c8f5abc2507ba73355adeb9b3769, \u001b[33m\"\u001b[39;49;00m\u001b[33m\"\u001b[39;49;00m);\n",
      "    class_a6aedb4654a55a40aeecf4b1dc5fcc98.def(\u001b[33m\"\u001b[39;49;00m\u001b[33mprint_stats\u001b[39;49;00m\u001b[33m\"\u001b[39;49;00m, method_pointer_597650f0008559e89ad130c681eed082, \u001b[33m\"\u001b[39;49;00m\u001b[33m\"\u001b[39;49;00m);\n",
      "    class_a6aedb4654a55a40aeecf4b1dc5fcc98.def(\u001b[33m\"\u001b[39;49;00m\u001b[33madd\u001b[39;49;00m\u001b[33m\"\u001b[39;49;00m, method_pointer_362dac5663ef50a8bfea193a64071d0d, \u001b[33m\"\u001b[39;49;00m\u001b[33m\"\u001b[39;49;00m);\n",
      "    class_a6aedb4654a55a40aeecf4b1dc5fcc98.def(\u001b[33m\"\u001b[39;49;00m\u001b[33mcan_be_weak_imported\u001b[39;49;00m\u001b[33m\"\u001b[39;49;00m, method_pointer_395eb94f7fad57c391563c21c3de997a, \u001b[33m\"\u001b[39;49;00m\u001b[33m\"\u001b[39;49;00m);\n",
      "    class_a6aedb4654a55a40aeecf4b1dc5fcc98.def(\u001b[33m\"\u001b[39;49;00m\u001b[33mcast_from_decl_context\u001b[39;49;00m\u001b[33m\"\u001b[39;49;00m, method_pointer_40b3d5294bf25843b0348eba18ee7a66, boost::python::return_value_policy< boost::python::reference_existing_object >(), \u001b[33m\"\u001b[39;49;00m\u001b[33m\"\u001b[39;49;00m);\n",
      "    class_a6aedb4654a55a40aeecf4b1dc5fcc98.def(\u001b[33m\"\u001b[39;49;00m\u001b[33mcast_to_decl_context\u001b[39;49;00m\u001b[33m\"\u001b[39;49;00m, method_pointer_df1e45443a805d2588bcdc79b5572646, boost::python::return_value_policy< boost::python::reference_existing_object >(), \u001b[33m\"\u001b[39;49;00m\u001b[33m\"\u001b[39;49;00m);\n",
      "    class_a6aedb4654a55a40aeecf4b1dc5fcc98.def(\u001b[33m\"\u001b[39;49;00m\u001b[33mclassof_kind\u001b[39;49;00m\u001b[33m\"\u001b[39;49;00m, method_pointer_19857982403d5029ad4a5c1bece71039, \u001b[33m\"\u001b[39;49;00m\u001b[33m\"\u001b[39;49;00m);\n",
      "    class_a6aedb4654a55a40aeecf4b1dc5fcc98.def(\u001b[33m\"\u001b[39;49;00m\u001b[33mdrop_attrs\u001b[39;49;00m\u001b[33m\"\u001b[39;49;00m, method_pointer_fb503bf7fa27542d8affde6bc495d1a1, \u001b[33m\"\u001b[39;49;00m\u001b[33m\"\u001b[39;49;00m);\n",
      "    class_a6aedb4654a55a40aeecf4b1dc5fcc98.def(\u001b[33m\"\u001b[39;49;00m\u001b[33mdump\u001b[39;49;00m\u001b[33m\"\u001b[39;49;00m, method_pointer_a90797e34edd58a483a48ed6621758b8, \u001b[33m\"\u001b[39;49;00m\u001b[33m\"\u001b[39;49;00m);\n",
      "    class_a6aedb4654a55a40aeecf4b1dc5fcc98.def(\u001b[33m\"\u001b[39;49;00m\u001b[33mdump_color\u001b[39;49;00m\u001b[33m\"\u001b[39;49;00m, method_pointer_e02e40b950a2549798a18630ece2d23f, \u001b[33m\"\u001b[39;49;00m\u001b[33m\"\u001b[39;49;00m);\n",
      "    class_a6aedb4654a55a40aeecf4b1dc5fcc98.def(\u001b[33m\"\u001b[39;49;00m\u001b[33mget_ast_context\u001b[39;49;00m\u001b[33m\"\u001b[39;49;00m, method_pointer_d8ff0f832a9e576494639b3d0a3d3357, boost::python::return_internal_reference<>(), \u001b[33m\"\u001b[39;49;00m\u001b[33m\"\u001b[39;49;00m);\n",
      "    class_a6aedb4654a55a40aeecf4b1dc5fcc98.def(\u001b[33m\"\u001b[39;49;00m\u001b[33mget_access\u001b[39;49;00m\u001b[33m\"\u001b[39;49;00m, method_pointer_7cd22d80c7d15f189cd5a9ba4626bd11, \u001b[33m\"\u001b[39;49;00m\u001b[33m\"\u001b[39;49;00m);\n",
      "    class_a6aedb4654a55a40aeecf4b1dc5fcc98.def(\u001b[33m\"\u001b[39;49;00m\u001b[33mget_access_unsafe\u001b[39;49;00m\u001b[33m\"\u001b[39;49;00m, method_pointer_6e24d79a0c0f5edebce06fdaa1225453, \u001b[33m\"\u001b[39;49;00m\u001b[33m\"\u001b[39;49;00m);\n",
      "    class_a6aedb4654a55a40aeecf4b1dc5fcc98.def(\u001b[33m\"\u001b[39;49;00m\u001b[33mget_as_function\u001b[39;49;00m\u001b[33m\"\u001b[39;49;00m, method_pointer_78b392e7a04d5494a72ce907598e0d2c, boost::python::return_value_policy< boost::python::reference_existing_object >(), \u001b[33m\"\u001b[39;49;00m\u001b[33m\"\u001b[39;49;00m);\n",
      "    class_a6aedb4654a55a40aeecf4b1dc5fcc98.def(\u001b[33m\"\u001b[39;49;00m\u001b[33mget_as_function\u001b[39;49;00m\u001b[33m\"\u001b[39;49;00m, method_pointer_2d0e197da46458cfa88add46affd252a, boost::python::return_value_policy< boost::python::reference_existing_object >(), \u001b[33m\"\u001b[39;49;00m\u001b[33m\"\u001b[39;49;00m);\n",
      "    class_a6aedb4654a55a40aeecf4b1dc5fcc98.def(\u001b[33m\"\u001b[39;49;00m\u001b[33mget_body_r_brace\u001b[39;49;00m\u001b[33m\"\u001b[39;49;00m, method_pointer_0b60e6d4ec92508faf9a31d89a01dfeb, \u001b[33m\"\u001b[39;49;00m\u001b[33m\"\u001b[39;49;00m);\n",
      "    class_a6aedb4654a55a40aeecf4b1dc5fcc98.def(\u001b[33m\"\u001b[39;49;00m\u001b[33mget_canonical_decl\u001b[39;49;00m\u001b[33m\"\u001b[39;49;00m, method_pointer_e9afcab2218455949420b8c836248100, boost::python::return_value_policy< boost::python::reference_existing_object >(), \u001b[33m\"\u001b[39;49;00m\u001b[33m\"\u001b[39;49;00m);\n",
      "    class_a6aedb4654a55a40aeecf4b1dc5fcc98.def(\u001b[33m\"\u001b[39;49;00m\u001b[33mget_canonical_decl\u001b[39;49;00m\u001b[33m\"\u001b[39;49;00m, method_pointer_094c6cff8704555da5ffcc28529b40ff, boost::python::return_value_policy< boost::python::reference_existing_object >(), \u001b[33m\"\u001b[39;49;00m\u001b[33m\"\u001b[39;49;00m);\n",
      "    class_a6aedb4654a55a40aeecf4b1dc5fcc98.def(\u001b[33m\"\u001b[39;49;00m\u001b[33mget_decl_context\u001b[39;49;00m\u001b[33m\"\u001b[39;49;00m, method_pointer_54e12ce9c0ef5ca2818a1d93811602a7, boost::python::return_value_policy< boost::python::reference_existing_object >(), \u001b[33m\"\u001b[39;49;00m\u001b[33m\"\u001b[39;49;00m);\n",
      "    class_a6aedb4654a55a40aeecf4b1dc5fcc98.def(\u001b[33m\"\u001b[39;49;00m\u001b[33mget_decl_context\u001b[39;49;00m\u001b[33m\"\u001b[39;49;00m, method_pointer_c23e0f361e895be1bcd5b5f946fa6051, boost::python::return_value_policy< boost::python::reference_existing_object >(), \u001b[33m\"\u001b[39;49;00m\u001b[33m\"\u001b[39;49;00m);\n",
      "    class_a6aedb4654a55a40aeecf4b1dc5fcc98.def(\u001b[33m\"\u001b[39;49;00m\u001b[33mget_function_type\u001b[39;49;00m\u001b[33m\"\u001b[39;49;00m, method_pointer_ec469fcc42a453908b79528c9a5bb3d4, boost::python::return_value_policy< boost::python::reference_existing_object >(), \u001b[33m\"\u001b[39;49;00m\u001b[33m\"\u001b[39;49;00m);\n",
      "    class_a6aedb4654a55a40aeecf4b1dc5fcc98.def(\u001b[33m\"\u001b[39;49;00m\u001b[33mget_global_id\u001b[39;49;00m\u001b[33m\"\u001b[39;49;00m, method_pointer_c510f51a5ead57209af8673d577d7657, \u001b[33m\"\u001b[39;49;00m\u001b[33m\"\u001b[39;49;00m);\n",
      "    class_a6aedb4654a55a40aeecf4b1dc5fcc98.def(\u001b[33m\"\u001b[39;49;00m\u001b[33mget_identifier_namespace\u001b[39;49;00m\u001b[33m\"\u001b[39;49;00m, method_pointer_e81f7413df7e5a2e873428adc71865ba, \u001b[33m\"\u001b[39;49;00m\u001b[33m\"\u001b[39;49;00m);\n",
      "    class_a6aedb4654a55a40aeecf4b1dc5fcc98.def(\u001b[33m\"\u001b[39;49;00m\u001b[33mget_identifier_namespace_for_kind\u001b[39;49;00m\u001b[33m\"\u001b[39;49;00m, method_pointer_f141c73718485e90b2f9c1098d771175, \u001b[33m\"\u001b[39;49;00m\u001b[33m\"\u001b[39;49;00m);\n",
      "    class_a6aedb4654a55a40aeecf4b1dc5fcc98.def(\u001b[33m\"\u001b[39;49;00m\u001b[33mget_kind\u001b[39;49;00m\u001b[33m\"\u001b[39;49;00m, method_pointer_5146626e036350dca12d3788fb6dd574, \u001b[33m\"\u001b[39;49;00m\u001b[33m\"\u001b[39;49;00m);\n",
      "    class_a6aedb4654a55a40aeecf4b1dc5fcc98.def(\u001b[33m\"\u001b[39;49;00m\u001b[33mget_lexical_decl_context\u001b[39;49;00m\u001b[33m\"\u001b[39;49;00m, method_pointer_6cef62b0d0a951f092d97ece8c0b5d9a, boost::python::return_value_policy< boost::python::reference_existing_object >(), \u001b[33m\"\u001b[39;49;00m\u001b[33m\"\u001b[39;49;00m);\n",
      "    class_a6aedb4654a55a40aeecf4b1dc5fcc98.def(\u001b[33m\"\u001b[39;49;00m\u001b[33mget_lexical_decl_context\u001b[39;49;00m\u001b[33m\"\u001b[39;49;00m, method_pointer_18e8b0e21c265226aa2cd30cd9a26dc3, boost::python::return_value_policy< boost::python::reference_existing_object >(), \u001b[33m\"\u001b[39;49;00m\u001b[33m\"\u001b[39;49;00m);\n",
      "    class_a6aedb4654a55a40aeecf4b1dc5fcc98.def(\u001b[33m\"\u001b[39;49;00m\u001b[33mget_loc_end\u001b[39;49;00m\u001b[33m\"\u001b[39;49;00m, method_pointer_4cd83ce48c5d52558a51ae8ee5b93881, \u001b[33m\"\u001b[39;49;00m\u001b[33m\"\u001b[39;49;00m);\n",
      "    class_a6aedb4654a55a40aeecf4b1dc5fcc98.def(\u001b[33m\"\u001b[39;49;00m\u001b[33mget_loc_start\u001b[39;49;00m\u001b[33m\"\u001b[39;49;00m, method_pointer_8c56b17c3eee598cb76d439a34b0012b, \u001b[33m\"\u001b[39;49;00m\u001b[33m\"\u001b[39;49;00m);\n",
      "    class_a6aedb4654a55a40aeecf4b1dc5fcc98.def(\u001b[33m\"\u001b[39;49;00m\u001b[33mget_location\u001b[39;49;00m\u001b[33m\"\u001b[39;49;00m, method_pointer_c7bdca412fa25e0fb82556289a3bd806, \u001b[33m\"\u001b[39;49;00m\u001b[33m\"\u001b[39;49;00m);\n",
      "    class_a6aedb4654a55a40aeecf4b1dc5fcc98.def(\u001b[33m\"\u001b[39;49;00m\u001b[33mget_max_alignment\u001b[39;49;00m\u001b[33m\"\u001b[39;49;00m, method_pointer_c9985870e867542289a54fcfc1d9935f, \u001b[33m\"\u001b[39;49;00m\u001b[33m\"\u001b[39;49;00m);\n",
      "    class_a6aedb4654a55a40aeecf4b1dc5fcc98.def(\u001b[33m\"\u001b[39;49;00m\u001b[33mget_most_recent_decl\u001b[39;49;00m\u001b[33m\"\u001b[39;49;00m, method_pointer_f8ca492318345d119096f5842fe84658, boost::python::return_value_policy< boost::python::reference_existing_object >(), \u001b[33m\"\u001b[39;49;00m\u001b[33m\"\u001b[39;49;00m);\n",
      "    class_a6aedb4654a55a40aeecf4b1dc5fcc98.def(\u001b[33m\"\u001b[39;49;00m\u001b[33mget_most_recent_decl\u001b[39;49;00m\u001b[33m\"\u001b[39;49;00m, method_pointer_b706d88b1e095fb5a871817947b5ced4, boost::python::return_value_policy< boost::python::reference_existing_object >(), \u001b[33m\"\u001b[39;49;00m\u001b[33m\"\u001b[39;49;00m);\n",
      "    class_a6aedb4654a55a40aeecf4b1dc5fcc98.def(\u001b[33m\"\u001b[39;49;00m\u001b[33mget_next_decl_in_context\u001b[39;49;00m\u001b[33m\"\u001b[39;49;00m, method_pointer_490db849066e5d6e866e2108371ca3a5, boost::python::return_value_policy< boost::python::reference_existing_object >(), \u001b[33m\"\u001b[39;49;00m\u001b[33m\"\u001b[39;49;00m);\n",
      "    class_a6aedb4654a55a40aeecf4b1dc5fcc98.def(\u001b[33m\"\u001b[39;49;00m\u001b[33mget_next_decl_in_context\u001b[39;49;00m\u001b[33m\"\u001b[39;49;00m, method_pointer_e5636ccb07ea50d985ef13e2c55a0d79, boost::python::return_value_policy< boost::python::reference_existing_object >(), \u001b[33m\"\u001b[39;49;00m\u001b[33m\"\u001b[39;49;00m);\n",
      "    class_a6aedb4654a55a40aeecf4b1dc5fcc98.def(\u001b[33m\"\u001b[39;49;00m\u001b[33mget_non_closure_context\u001b[39;49;00m\u001b[33m\"\u001b[39;49;00m, method_pointer_70a73645955a528b8e4f1eeb4672d6ea, boost::python::return_value_policy< boost::python::reference_existing_object >(), \u001b[33m\"\u001b[39;49;00m\u001b[33m\"\u001b[39;49;00m);\n",
      "    class_a6aedb4654a55a40aeecf4b1dc5fcc98.def(\u001b[33m\"\u001b[39;49;00m\u001b[33mget_non_closure_context\u001b[39;49;00m\u001b[33m\"\u001b[39;49;00m, method_pointer_80238a3a4ad1560cbf293fe85eabfa01, boost::python::return_value_policy< boost::python::reference_existing_object >(), \u001b[33m\"\u001b[39;49;00m\u001b[33m\"\u001b[39;49;00m);\n",
      "    class_a6aedb4654a55a40aeecf4b1dc5fcc98.def(\u001b[33m\"\u001b[39;49;00m\u001b[33mget_owning_module_id\u001b[39;49;00m\u001b[33m\"\u001b[39;49;00m, method_pointer_e6350c34159b597a878b137e1d9a1946, \u001b[33m\"\u001b[39;49;00m\u001b[33m\"\u001b[39;49;00m);\n",
      "    class_a6aedb4654a55a40aeecf4b1dc5fcc98.def(\u001b[33m\"\u001b[39;49;00m\u001b[33mget_parent_function_or_method\u001b[39;49;00m\u001b[33m\"\u001b[39;49;00m, method_pointer_5f673b479bf0544292b8f86815f70061, boost::python::return_value_policy< boost::python::reference_existing_object >(), \u001b[33m\"\u001b[39;49;00m\u001b[33m\"\u001b[39;49;00m);\n",
      "    class_a6aedb4654a55a40aeecf4b1dc5fcc98.def(\u001b[33m\"\u001b[39;49;00m\u001b[33mget_parent_function_or_method\u001b[39;49;00m\u001b[33m\"\u001b[39;49;00m, method_pointer_b7c62c3ee162591ea922d44af31db6c3, boost::python::return_value_policy< boost::python::reference_existing_object >(), \u001b[33m\"\u001b[39;49;00m\u001b[33m\"\u001b[39;49;00m);\n",
      "    class_a6aedb4654a55a40aeecf4b1dc5fcc98.def(\u001b[33m\"\u001b[39;49;00m\u001b[33mget_previous_decl\u001b[39;49;00m\u001b[33m\"\u001b[39;49;00m, method_pointer_81bce0f3ede8517b920ac9b8f1da8b61, boost::python::return_value_policy< boost::python::reference_existing_object >(), \u001b[33m\"\u001b[39;49;00m\u001b[33m\"\u001b[39;49;00m);\n",
      "    class_a6aedb4654a55a40aeecf4b1dc5fcc98.def(\u001b[33m\"\u001b[39;49;00m\u001b[33mget_previous_decl\u001b[39;49;00m\u001b[33m\"\u001b[39;49;00m, method_pointer_2080634cc06058ffbc54bb085ac4ac42, boost::python::return_value_policy< boost::python::reference_existing_object >(), \u001b[33m\"\u001b[39;49;00m\u001b[33m\"\u001b[39;49;00m);\n",
      "    class_a6aedb4654a55a40aeecf4b1dc5fcc98.def(\u001b[33m\"\u001b[39;49;00m\u001b[33mget_translation_unit_decl\u001b[39;49;00m\u001b[33m\"\u001b[39;49;00m, method_pointer_fe3c37801067594f8a357ef9eeeb0762, boost::python::return_value_policy< boost::python::reference_existing_object >(), \u001b[33m\"\u001b[39;49;00m\u001b[33m\"\u001b[39;49;00m);\n",
      "    class_a6aedb4654a55a40aeecf4b1dc5fcc98.def(\u001b[33m\"\u001b[39;49;00m\u001b[33mget_translation_unit_decl\u001b[39;49;00m\u001b[33m\"\u001b[39;49;00m, method_pointer_aefd97f4143e51778cf6bc72aeb3ee32, boost::python::return_value_policy< boost::python::reference_existing_object >(), \u001b[33m\"\u001b[39;49;00m\u001b[33m\"\u001b[39;49;00m);\n",
      "    class_a6aedb4654a55a40aeecf4b1dc5fcc98.def(\u001b[33m\"\u001b[39;49;00m\u001b[33mhas_attrs\u001b[39;49;00m\u001b[33m\"\u001b[39;49;00m, method_pointer_69f82f0df0c95d608caa437585371aca, \u001b[33m\"\u001b[39;49;00m\u001b[33m\"\u001b[39;49;00m);\n",
      "    class_a6aedb4654a55a40aeecf4b1dc5fcc98.def(\u001b[33m\"\u001b[39;49;00m\u001b[33mhas_body\u001b[39;49;00m\u001b[33m\"\u001b[39;49;00m, method_pointer_e21a104fb37e5d83ae3545cf29e7e0c2, \u001b[33m\"\u001b[39;49;00m\u001b[33m\"\u001b[39;49;00m);\n",
      "    class_a6aedb4654a55a40aeecf4b1dc5fcc98.def(\u001b[33m\"\u001b[39;49;00m\u001b[33mhas_tag_identifier_namespace\u001b[39;49;00m\u001b[33m\"\u001b[39;49;00m, method_pointer_e0c3f9f908e4529eab5439b427c1e83f, \u001b[33m\"\u001b[39;49;00m\u001b[33m\"\u001b[39;49;00m);\n",
      "    class_a6aedb4654a55a40aeecf4b1dc5fcc98.def(\u001b[33m\"\u001b[39;49;00m\u001b[33mis_canonical_decl\u001b[39;49;00m\u001b[33m\"\u001b[39;49;00m, method_pointer_db7146970d855469bf94eb05838f54f3, \u001b[33m\"\u001b[39;49;00m\u001b[33m\"\u001b[39;49;00m);\n",
      "    class_a6aedb4654a55a40aeecf4b1dc5fcc98.def(\u001b[33m\"\u001b[39;49;00m\u001b[33mis_defined_outside_function_or_method\u001b[39;49;00m\u001b[33m\"\u001b[39;49;00m, method_pointer_c727cc0d51bd523694544b28f7458147, \u001b[33m\"\u001b[39;49;00m\u001b[33m\"\u001b[39;49;00m);\n",
      "    class_a6aedb4654a55a40aeecf4b1dc5fcc98.def(\u001b[33m\"\u001b[39;49;00m\u001b[33mis_first_decl\u001b[39;49;00m\u001b[33m\"\u001b[39;49;00m, method_pointer_55cf11898fd5515ab1db934850887bd1, \u001b[33m\"\u001b[39;49;00m\u001b[33m\"\u001b[39;49;00m);\n",
      "    class_a6aedb4654a55a40aeecf4b1dc5fcc98.def(\u001b[33m\"\u001b[39;49;00m\u001b[33mis_from_ast_file\u001b[39;49;00m\u001b[33m\"\u001b[39;49;00m, method_pointer_a39bfbdc30065ba4b96dceabdc29c308, \u001b[33m\"\u001b[39;49;00m\u001b[33m\"\u001b[39;49;00m);\n",
      "    class_a6aedb4654a55a40aeecf4b1dc5fcc98.def(\u001b[33m\"\u001b[39;49;00m\u001b[33mis_function_or_function_template\u001b[39;49;00m\u001b[33m\"\u001b[39;49;00m, method_pointer_232274264305537d8d2f0db1f89d722b, \u001b[33m\"\u001b[39;49;00m\u001b[33m\"\u001b[39;49;00m);\n",
      "    class_a6aedb4654a55a40aeecf4b1dc5fcc98.def(\u001b[33m\"\u001b[39;49;00m\u001b[33mis_implicit\u001b[39;49;00m\u001b[33m\"\u001b[39;49;00m, method_pointer_bea01b7b86795ccfb932e38d88c98584, \u001b[33m\"\u001b[39;49;00m\u001b[33m\"\u001b[39;49;00m);\n",
      "    class_a6aedb4654a55a40aeecf4b1dc5fcc98.def(\u001b[33m\"\u001b[39;49;00m\u001b[33mis_in_anonymous_namespace\u001b[39;49;00m\u001b[33m\"\u001b[39;49;00m, method_pointer_15d21013682c5a2b8856f3f886986304, \u001b[33m\"\u001b[39;49;00m\u001b[33m\"\u001b[39;49;00m);\n",
      "    class_a6aedb4654a55a40aeecf4b1dc5fcc98.def(\u001b[33m\"\u001b[39;49;00m\u001b[33mis_in_identifier_namespace\u001b[39;49;00m\u001b[33m\"\u001b[39;49;00m, method_pointer_9199043911815f0c99c90450fcbc23c9, \u001b[33m\"\u001b[39;49;00m\u001b[33m\"\u001b[39;49;00m);\n",
      "    class_a6aedb4654a55a40aeecf4b1dc5fcc98.def(\u001b[33m\"\u001b[39;49;00m\u001b[33mis_in_std_namespace\u001b[39;49;00m\u001b[33m\"\u001b[39;49;00m, method_pointer_c721c537f1235915a44b475f77385828, \u001b[33m\"\u001b[39;49;00m\u001b[33m\"\u001b[39;49;00m);\n",
      "    class_a6aedb4654a55a40aeecf4b1dc5fcc98.def(\u001b[33m\"\u001b[39;49;00m\u001b[33mis_invalid_decl\u001b[39;49;00m\u001b[33m\"\u001b[39;49;00m, method_pointer_4fe73894db53557aa178a7ef68e23ca5, \u001b[33m\"\u001b[39;49;00m\u001b[33m\"\u001b[39;49;00m);\n",
      "    class_a6aedb4654a55a40aeecf4b1dc5fcc98.def(\u001b[33m\"\u001b[39;49;00m\u001b[33mis_lexically_within_function_or_method\u001b[39;49;00m\u001b[33m\"\u001b[39;49;00m, method_pointer_82eb4380eb6e5b618a2904a2d66b93c2, \u001b[33m\"\u001b[39;49;00m\u001b[33m\"\u001b[39;49;00m);\n",
      "    class_a6aedb4654a55a40aeecf4b1dc5fcc98.def(\u001b[33m\"\u001b[39;49;00m\u001b[33mis_local_extern_decl\u001b[39;49;00m\u001b[33m\"\u001b[39;49;00m, method_pointer_9c8728a3b00e5e03bc51791ab4518de9, \u001b[33m\"\u001b[39;49;00m\u001b[33m\"\u001b[39;49;00m);\n",
      "    class_a6aedb4654a55a40aeecf4b1dc5fcc98.def(\u001b[33m\"\u001b[39;49;00m\u001b[33mis_module_private\u001b[39;49;00m\u001b[33m\"\u001b[39;49;00m, method_pointer_4a53f3fb98b45c23bfe4529392afd3b6, \u001b[33m\"\u001b[39;49;00m\u001b[33m\"\u001b[39;49;00m);\n",
      "    class_a6aedb4654a55a40aeecf4b1dc5fcc98.def(\u001b[33m\"\u001b[39;49;00m\u001b[33mis_out_of_line\u001b[39;49;00m\u001b[33m\"\u001b[39;49;00m, method_pointer_db04d60f110f52759cffecbabab6cb41, \u001b[33m\"\u001b[39;49;00m\u001b[33m\"\u001b[39;49;00m);\n",
      "    class_a6aedb4654a55a40aeecf4b1dc5fcc98.def(\u001b[33m\"\u001b[39;49;00m\u001b[33mis_parameter_pack\u001b[39;49;00m\u001b[33m\"\u001b[39;49;00m, method_pointer_13182a132dd65a9d80b42db2bb7aa7c1, \u001b[33m\"\u001b[39;49;00m\u001b[33m\"\u001b[39;49;00m);\n",
      "    class_a6aedb4654a55a40aeecf4b1dc5fcc98.def(\u001b[33m\"\u001b[39;49;00m\u001b[33mis_referenced\u001b[39;49;00m\u001b[33m\"\u001b[39;49;00m, method_pointer_8e9d9a5d0f545fbc8272b741d37688aa, \u001b[33m\"\u001b[39;49;00m\u001b[33m\"\u001b[39;49;00m);\n",
      "    class_a6aedb4654a55a40aeecf4b1dc5fcc98.def(\u001b[33m\"\u001b[39;49;00m\u001b[33mis_tag_identifier_namespace\u001b[39;49;00m\u001b[33m\"\u001b[39;49;00m, method_pointer_a91bf4e27537597cabaa139e76da4018, \u001b[33m\"\u001b[39;49;00m\u001b[33m\"\u001b[39;49;00m);\n",
      "    class_a6aedb4654a55a40aeecf4b1dc5fcc98.def(\u001b[33m\"\u001b[39;49;00m\u001b[33mis_template_decl\u001b[39;49;00m\u001b[33m\"\u001b[39;49;00m, method_pointer_270a3247576657fba845c88ad2db1491, \u001b[33m\"\u001b[39;49;00m\u001b[33m\"\u001b[39;49;00m);\n",
      "    class_a6aedb4654a55a40aeecf4b1dc5fcc98.def(\u001b[33m\"\u001b[39;49;00m\u001b[33mis_template_parameter\u001b[39;49;00m\u001b[33m\"\u001b[39;49;00m, method_pointer_6477760fa6db5582a3707a8e7cebc112, \u001b[33m\"\u001b[39;49;00m\u001b[33m\"\u001b[39;49;00m);\n",
      "    class_a6aedb4654a55a40aeecf4b1dc5fcc98.def(\u001b[33m\"\u001b[39;49;00m\u001b[33mis_template_parameter_pack\u001b[39;49;00m\u001b[33m\"\u001b[39;49;00m, method_pointer_b6ae317b66db5e4780125e2a089b5e79, \u001b[33m\"\u001b[39;49;00m\u001b[33m\"\u001b[39;49;00m);\n",
      "    class_a6aedb4654a55a40aeecf4b1dc5fcc98.def(\u001b[33m\"\u001b[39;49;00m\u001b[33mis_this_declaration_referenced\u001b[39;49;00m\u001b[33m\"\u001b[39;49;00m, method_pointer_471abb9731f9509491ef489615ff3c48, \u001b[33m\"\u001b[39;49;00m\u001b[33m\"\u001b[39;49;00m);\n",
      "    class_a6aedb4654a55a40aeecf4b1dc5fcc98.def(\u001b[33m\"\u001b[39;49;00m\u001b[33mis_top_level_decl_in_obj_c_container\u001b[39;49;00m\u001b[33m\"\u001b[39;49;00m, method_pointer_68dc8337388e5223a214bec57747d5c6, \u001b[33m\"\u001b[39;49;00m\u001b[33m\"\u001b[39;49;00m);\n",
      "    class_a6aedb4654a55a40aeecf4b1dc5fcc98.def(\u001b[33m\"\u001b[39;49;00m\u001b[33mis_used\u001b[39;49;00m\u001b[33m\"\u001b[39;49;00m, method_pointer_b607ebcf7c8c560ea01ba17196e3550f, \u001b[33m\"\u001b[39;49;00m\u001b[33m\"\u001b[39;49;00m);\n",
      "    class_a6aedb4654a55a40aeecf4b1dc5fcc98.def(\u001b[33m\"\u001b[39;49;00m\u001b[33mis_weak_imported\u001b[39;49;00m\u001b[33m\"\u001b[39;49;00m, method_pointer_a18c3a5c3e9e529aa5392ad983351a67, \u001b[33m\"\u001b[39;49;00m\u001b[33m\"\u001b[39;49;00m);\n",
      "    class_a6aedb4654a55a40aeecf4b1dc5fcc98.def(\u001b[33m\"\u001b[39;49;00m\u001b[33mmark_used\u001b[39;49;00m\u001b[33m\"\u001b[39;49;00m, method_pointer_f38099ee98bb53158813f7b162157647, \u001b[33m\"\u001b[39;49;00m\u001b[33m\"\u001b[39;49;00m);\n",
      "    class_a6aedb4654a55a40aeecf4b1dc5fcc98.def(\u001b[33m\"\u001b[39;49;00m\u001b[33mset_access\u001b[39;49;00m\u001b[33m\"\u001b[39;49;00m, method_pointer_0f2a4278500e58158dba67097ad5f0e7, \u001b[33m\"\u001b[39;49;00m\u001b[33m\"\u001b[39;49;00m);\n",
      "    class_a6aedb4654a55a40aeecf4b1dc5fcc98.def(\u001b[33m\"\u001b[39;49;00m\u001b[33mset_decl_context\u001b[39;49;00m\u001b[33m\"\u001b[39;49;00m, method_pointer_a2860bfea49653debee7e4084de18904, \u001b[33m\"\u001b[39;49;00m\u001b[33m\"\u001b[39;49;00m);\n",
      "    class_a6aedb4654a55a40aeecf4b1dc5fcc98.def(\u001b[33m\"\u001b[39;49;00m\u001b[33mset_implicit\u001b[39;49;00m\u001b[33m\"\u001b[39;49;00m, method_pointer_880d955702765634a828c0ac5ff4d2de, \u001b[33m\"\u001b[39;49;00m\u001b[33m\"\u001b[39;49;00m);\n",
      "    class_a6aedb4654a55a40aeecf4b1dc5fcc98.def(\u001b[33m\"\u001b[39;49;00m\u001b[33mset_invalid_decl\u001b[39;49;00m\u001b[33m\"\u001b[39;49;00m, method_pointer_8889f84166c55e41b03ca3f720e38c13, \u001b[33m\"\u001b[39;49;00m\u001b[33m\"\u001b[39;49;00m);\n",
      "    class_a6aedb4654a55a40aeecf4b1dc5fcc98.def(\u001b[33m\"\u001b[39;49;00m\u001b[33mset_is_used\u001b[39;49;00m\u001b[33m\"\u001b[39;49;00m, method_pointer_6eadd6fe35445e419f15e106cb95f3ea, \u001b[33m\"\u001b[39;49;00m\u001b[33m\"\u001b[39;49;00m);\n",
      "    class_a6aedb4654a55a40aeecf4b1dc5fcc98.def(\u001b[33m\"\u001b[39;49;00m\u001b[33mset_lexical_decl_context\u001b[39;49;00m\u001b[33m\"\u001b[39;49;00m, method_pointer_3e306e17f281521baa948e55356a3688, \u001b[33m\"\u001b[39;49;00m\u001b[33m\"\u001b[39;49;00m);\n",
      "    class_a6aedb4654a55a40aeecf4b1dc5fcc98.def(\u001b[33m\"\u001b[39;49;00m\u001b[33mset_local_extern_decl\u001b[39;49;00m\u001b[33m\"\u001b[39;49;00m, method_pointer_26f8908093485946ab7a76679c4c5c02, \u001b[33m\"\u001b[39;49;00m\u001b[33m\"\u001b[39;49;00m);\n",
      "    class_a6aedb4654a55a40aeecf4b1dc5fcc98.def(\u001b[33m\"\u001b[39;49;00m\u001b[33mset_location\u001b[39;49;00m\u001b[33m\"\u001b[39;49;00m, method_pointer_461d994982ac5a6a85d4d6077f2914cf, \u001b[33m\"\u001b[39;49;00m\u001b[33m\"\u001b[39;49;00m);\n",
      "    class_a6aedb4654a55a40aeecf4b1dc5fcc98.def(\u001b[33m\"\u001b[39;49;00m\u001b[33mset_non_member_operator\u001b[39;49;00m\u001b[33m\"\u001b[39;49;00m, method_pointer_0441c87f2a755eb5b2debe05c8fa1b60, \u001b[33m\"\u001b[39;49;00m\u001b[33m\"\u001b[39;49;00m);\n",
      "    class_a6aedb4654a55a40aeecf4b1dc5fcc98.def(\u001b[33m\"\u001b[39;49;00m\u001b[33mset_object_of_friend_decl\u001b[39;49;00m\u001b[33m\"\u001b[39;49;00m, method_pointer_8d3a3f76c42952fa825b4b43960cc981, \u001b[33m\"\u001b[39;49;00m\u001b[33m\"\u001b[39;49;00m);\n",
      "    class_a6aedb4654a55a40aeecf4b1dc5fcc98.def(\u001b[33m\"\u001b[39;49;00m\u001b[33mset_referenced\u001b[39;49;00m\u001b[33m\"\u001b[39;49;00m, method_pointer_fc516d00a7cd59fc80e50c44b15b8366, \u001b[33m\"\u001b[39;49;00m\u001b[33m\"\u001b[39;49;00m);\n",
      "    class_a6aedb4654a55a40aeecf4b1dc5fcc98.def(\u001b[33m\"\u001b[39;49;00m\u001b[33mset_top_level_decl_in_obj_c_container\u001b[39;49;00m\u001b[33m\"\u001b[39;49;00m, method_pointer_582178e60ef459609a50e69062a5e356, \u001b[33m\"\u001b[39;49;00m\u001b[33m\"\u001b[39;49;00m);\n",
      "    class_a6aedb4654a55a40aeecf4b1dc5fcc98.staticmethod(\u001b[33m\"\u001b[39;49;00m\u001b[33mcast_from_decl_context\u001b[39;49;00m\u001b[33m\"\u001b[39;49;00m);\n",
      "    class_a6aedb4654a55a40aeecf4b1dc5fcc98.staticmethod(\u001b[33m\"\u001b[39;49;00m\u001b[33mcast_to_decl_context\u001b[39;49;00m\u001b[33m\"\u001b[39;49;00m);\n",
      "    class_a6aedb4654a55a40aeecf4b1dc5fcc98.staticmethod(\u001b[33m\"\u001b[39;49;00m\u001b[33menable_statistics\u001b[39;49;00m\u001b[33m\"\u001b[39;49;00m);\n",
      "    class_a6aedb4654a55a40aeecf4b1dc5fcc98.staticmethod(\u001b[33m\"\u001b[39;49;00m\u001b[33madd\u001b[39;49;00m\u001b[33m\"\u001b[39;49;00m);\n",
      "    class_a6aedb4654a55a40aeecf4b1dc5fcc98.staticmethod(\u001b[33m\"\u001b[39;49;00m\u001b[33mclassof_kind\u001b[39;49;00m\u001b[33m\"\u001b[39;49;00m);\n",
      "    class_a6aedb4654a55a40aeecf4b1dc5fcc98.staticmethod(\u001b[33m\"\u001b[39;49;00m\u001b[33mprint_stats\u001b[39;49;00m\u001b[33m\"\u001b[39;49;00m);\n",
      "    class_a6aedb4654a55a40aeecf4b1dc5fcc98.staticmethod(\u001b[33m\"\u001b[39;49;00m\u001b[33mget_identifier_namespace_for_kind\u001b[39;49;00m\u001b[33m\"\u001b[39;49;00m);\n",
      "    class_a6aedb4654a55a40aeecf4b1dc5fcc98.staticmethod(\u001b[33m\"\u001b[39;49;00m\u001b[33mis_tag_identifier_namespace\u001b[39;49;00m\u001b[33m\"\u001b[39;49;00m);\n",
      "    class_a6aedb4654a55a40aeecf4b1dc5fcc98.def(\u001b[33m\"\u001b[39;49;00m\u001b[33mget_comment\u001b[39;49;00m\u001b[33m\"\u001b[39;49;00m, function_group::function_34fccbbca4595d71aa834e6048994ee1, \u001b[33m\"\u001b[39;49;00m\u001b[33m\"\u001b[39;49;00m);\n",
      "\n",
      "}\n"
     ]
    }
   ],
   "source": [
    "%%bash\n",
    "pygmentize PyClangLite/src/py/wrapper_a6aedb4654a55a40aeecf4b1dc5fcc98.cpp"
   ]
  },
  {
   "cell_type": "markdown",
   "metadata": {},
   "source": [
    "Once the wrappers are written on the disk, the bingings must be compiled and installed.\n",
    "This can be done using the **SCons** `py`  target."
   ]
  }
 ],
 "metadata": {
  "anaconda-cloud": {},
  "kernelspec": {
   "display_name": "Python [default]",
   "language": "python",
   "name": "python2"
  },
  "language_info": {
   "codemirror_mode": {
    "name": "ipython",
    "version": 2
   },
   "file_extension": ".py",
   "mimetype": "text/x-python",
   "name": "python",
   "nbconvert_exporter": "python",
   "pygments_lexer": "ipython2",
   "version": "2.7.12"
  }
 },
 "nbformat": 4,
 "nbformat_minor": 0
}
