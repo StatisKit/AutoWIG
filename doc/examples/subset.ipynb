{
 "cells": [
  {
   "cell_type": "markdown",
   "metadata": {},
   "source": [
    "# Wrapping a subset of a very large library\n",
    "\n",
    "In this example, we aim at presenting the methodology to wrap only a subset of a library.\n",
    "For the purpose of illustration and to demonstrate the usage of **AutoWIG** for very complex libraries, we considered the wrapping of the **Clang** library, a complete *C*/*C++* compiler.\n",
    "**Clang** is a great tool, but its stable *Python* interface (i.e. **libclang**) is lacking some useful features that are needed by **AutoWIG**.\n",
    "In particular, class template specializations are not available in the abstract syntax tree.\n",
    "Fortunately, most of the classes that would be needed during the traversal of the *C++* abstract syntax tree are not template specializations.\n",
    "We therefore proposed to bootstrap the **Clang** *Python* bindings with a first version of **AutoWIG** that uses only **libclang**.\n",
    "The new **Clang** *Python* interface, produced by **AutoWIG**, is **PyClangLite**.\n",
    "**PyClangLite** is able to wrap class template specializations.\n",
    "As for **libclang**, this interface is proposed only for a subset of the **Clang** library sufficient enough for proposing the new `pyclanglite` `parser`.\n",
    "\n",
    "First, ensure that the **LLVM**/**Clang** technologies are installed on your computer and if there were built with `RTTI`."
   ]
  },
  {
   "cell_type": "code",
   "execution_count": 1,
   "metadata": {
    "collapsed": false
   },
   "outputs": [],
   "source": [
    "import subprocess\n",
    "if not subprocess.check_output([\"llvm-config\", \"--version\"]).strip() == '3.8.1':\n",
    "    raise Exception\n",
    "subprocess.check_call(['clang++', '--version'])\n",
    "if not subprocess.check_output([\"llvm-config\", \"--has-rtti\"]).strip() == 'YES':\n",
    "    raise Exception"
   ]
  },
  {
   "cell_type": "markdown",
   "metadata": {},
   "source": [
    "Note that these techonologies must be installed using the current system prefix"
   ]
  },
  {
   "cell_type": "code",
   "execution_count": 2,
   "metadata": {
    "collapsed": false
   },
   "outputs": [],
   "source": [
    "import sys\n",
    "from path import path\n",
    "prefix = path(sys.prefix)\n",
    "if not prefix == subprocess.check_output([\"llvm-config\", \"--prefix\"]).strip():\n",
    "    raise Exception"
   ]
  },
  {
   "cell_type": "markdown",
   "metadata": {},
   "source": [
    "In the following we will use **SCons** software construction tool for compiling *C++* libraries."
   ]
  },
  {
   "cell_type": "code",
   "execution_count": 3,
   "metadata": {
    "collapsed": false
   },
   "outputs": [
    {
     "name": "stdout",
     "output_type": "stream",
     "text": [
      "Fetching package metadata .........\n",
      "Solving package specifications: ..........\n",
      "\n",
      "# All requested packages already installed.\n",
      "# packages in environment at /home/pfernique/.miniconda2/envs/autowig:\n",
      "#\n",
      "python-scons              2.5.0                    py27_0    statiskit\n"
     ]
    },
    {
     "name": "stderr",
     "output_type": "stream",
     "text": [
      "Using Anaconda Cloud api site https://api.anaconda.org\n"
     ]
    }
   ],
   "source": [
    "%%bash\n",
    "conda install python-scons -c statiskit"
   ]
  },
  {
   "cell_type": "markdown",
   "metadata": {},
   "source": [
    "Then, clone the **PyClangLite**  repository into the **PyClangLite** directory."
   ]
  },
  {
   "cell_type": "code",
   "execution_count": 4,
   "metadata": {
    "collapsed": false
   },
   "outputs": [
    {
     "name": "stderr",
     "output_type": "stream",
     "text": [
      "fatal: destination path 'PyClangLite' already exists and is not an empty directory.\n"
     ]
    }
   ],
   "source": [
    "%%bash\n",
    "git clone https://github.com/StatisKit/PyClangLite.git"
   ]
  },
  {
   "cell_type": "markdown",
   "metadata": {},
   "source": [
    "This repository already has wrappers, we therefore need to remove them."
   ]
  },
  {
   "cell_type": "code",
   "execution_count": 5,
   "metadata": {
    "collapsed": false
   },
   "outputs": [],
   "source": [
    "srcdir = path('PyClangLite')/'src'/'py'\n",
    "for wrapper in srcdir.walkfiles('*.cpp'):\n",
    "    wrapper.unlink()\n",
    "for wrapper in srcdir.walkfiles('*.h'):\n",
    "    wrapper.unlink()\n",
    "wrapper = srcdir/'clanglite'/'_clanglite.py'\n",
    "if wrapper.exists():\n",
    "    wrapper.unlink()"
   ]
  },
  {
   "cell_type": "markdown",
   "metadata": {},
   "source": [
    "In addition to the **Clang** libraries, the **ClangLite** library is needed in order to have access to some functionalities.\n",
    "The `tool.h` header of this **ClangLite** library includes all necessary **Clang** headers."
   ]
  },
  {
   "cell_type": "code",
   "execution_count": 6,
   "metadata": {
    "collapsed": false,
    "scrolled": true
   },
   "outputs": [
    {
     "name": "stdout",
     "output_type": "stream",
     "text": [
      "scons: Entering directory `/home/pfernique/Desktop/AutoWIG/doc/examples/PyClangLite'\n",
      "scons: Reading SConscript files ...\n",
      "scons: done reading SConscript files.\n",
      "scons: Building targets ...\n",
      "scons: `cpp' is up to date.\n",
      "scons: done building targets.\n"
     ]
    }
   ],
   "source": [
    "%%bash\n",
    "scons cpp -C PyClangLite"
   ]
  },
  {
   "cell_type": "markdown",
   "metadata": {},
   "source": [
    "We import **AutoWIG** and create an empty Abstract Semantic Graph (ASG)."
   ]
  },
  {
   "cell_type": "code",
   "execution_count": 7,
   "metadata": {
    "collapsed": false
   },
   "outputs": [],
   "source": [
    "import autowig\n",
    "asg = autowig.AbstractSemanticGraph()"
   ]
  },
  {
   "cell_type": "markdown",
   "metadata": {},
   "source": [
    "We then parse the header with relevant compilation flags."
   ]
  },
  {
   "cell_type": "code",
   "execution_count": 8,
   "metadata": {
    "collapsed": false,
    "scrolled": true
   },
   "outputs": [],
   "source": [
    "autowig.parser.plugin = 'libclang'\n",
    "asg = autowig.parser(asg, [prefix/'include'/'clanglite'/'tool.h'],\n",
    "               flags = ['-x', 'c++', '-std=c++11',\n",
    "                        '-D__STDC_LIMIT_MACROS', '-D__STDC_CONSTANT_MACROS',\n",
    "                        '-I' + str((prefix/'include').abspath())],\n",
    "               libpath = prefix/'lib'/'libclang.so',\n",
    "               bootstrap = False,\n",
    "               silent = True)"
   ]
  },
  {
   "cell_type": "markdown",
   "metadata": {},
   "source": [
    "Since most of **AutoWIG** guidelines are respected, the `default` `controller` implementation could be suitable.\n",
    "Nevertheless, we need to force some *C++* components to be wrapped or not.\n",
    "Moreover, **libclang** does not allow to investigate if enumerations are scoped or not.\n",
    "We therefore implements a new `controller`."
   ]
  },
  {
   "cell_type": "code",
   "execution_count": 9,
   "metadata": {
    "collapsed": false
   },
   "outputs": [],
   "source": [
    "def clanglite_controller(asg):\n",
    "    \n",
    "    for node in asg['::boost::python'].classes(nested = True):\n",
    "        node.is_copyable = True\n",
    "        \n",
    "    for node in asg.classes():\n",
    "        node.boost_python_export = False\n",
    "    for node in asg.enumerations():\n",
    "        node.boost_python_export = False\n",
    "    for node in asg.enumerators():\n",
    "        if node.parent.boost_python_export:\n",
    "            node.boost_python_export = False\n",
    "    for node in asg.typedefs():\n",
    "        node.boost_python_export = False\n",
    "            \n",
    "    from autowig.default_controller import refactoring\n",
    "    asg = refactoring(asg)\n",
    "    for fct in asg['::clanglite'].functions():\n",
    "        if not fct.localname == 'build_ast_from_code_with_args':\n",
    "            fct.parent = fct.parameters[0].qualified_type.desugared_type.unqualified_type\n",
    "            \n",
    "    for node in asg.functions(free = True):\n",
    "        node.boost_python_export = False\n",
    "    for node in asg.variables(free = True):\n",
    "        node.boost_python_export = False\n",
    "    \n",
    "    asg['class ::boost::python::api::object'].boost_python_export = True\n",
    "    asg['class ::boost::python::list'].boost_python_export = True \n",
    "    asg['class ::boost::python::str'].boost_python_export = True \n",
    "\n",
    "    subset = []\n",
    "    classes = [asg['class ::clang::QualType'],\n",
    "               asg['class ::clang::Type'],\n",
    "               asg['class ::clang::Decl']]\n",
    "    asg._nodes['class ::clang::QualType']['_is_abstract'] = False\n",
    "    asg['class ::clang::QualType'].is_copyable = True\n",
    "    subset += classes\n",
    "    for cls in classes:\n",
    "        subset += cls.subclasses(recursive=True)\n",
    "    subset.append(asg['class ::llvm::StringRef'])\n",
    "    asg._nodes['class ::llvm::StringRef']['_is_abstract'] = False\n",
    "    asg['class ::llvm::StringRef'].is_copyable = True\n",
    "    subset.append(asg['class ::clang::ASTUnit'])\n",
    "    subset.append(asg['class ::clang::ASTContext'])\n",
    "    subset.append(asg['class ::clang::SourceManager'])\n",
    "    for mtd in asg['class ::clang::ASTContext'].methods(pattern='.*getSourceManager.*'):\n",
    "        if mtd.return_type.globalname == 'class ::clang::SourceManager &':\n",
    "                mtd.boost_python_export = True\n",
    "                break\n",
    "    subset.append(asg['class ::clang::FileID'])\n",
    "    asg._nodes['class ::clang::FileID']['_is_abstract'] = False\n",
    "    asg['class ::clang::FileID'].is_copyable = True\n",
    "    subset.append(asg['class ::clang::SourceLocation'])\n",
    "    asg._nodes['class ::clang::SourceLocation']['_is_abstract'] = False\n",
    "    asg['class ::clang::SourceLocation'].is_copyable = True\n",
    "    subset.append(asg['class ::clang::CXXBaseSpecifier'])\n",
    "    subset.append(asg['class ::clang::DeclContext'])\n",
    "    subset.append(asg['class ::clang::TemplateArgument'])\n",
    "    asg._nodes['class ::clang::TemplateArgument']['_is_abstract'] = False\n",
    "    asg['class ::clang::TemplateArgument'].is_copyable = True\n",
    "    subset.append(asg['class ::clang::TemplateArgumentList'])\n",
    "    subset.append(asg['enum ::clang::Type::TypeClass'])\n",
    "    subset.append(asg['enum ::clang::AccessSpecifier'])\n",
    "    subset.append(asg['enum ::clang::LinkageSpecDecl::LanguageIDs'])\n",
    "    subset.append(asg['enum ::clang::BuiltinType::Kind'])\n",
    "    subset.append(asg['enum ::clang::TemplateArgument::ArgKind'])\n",
    "    subset.append(asg['enum ::clang::Decl::Kind'])\n",
    "    subset.extend(asg['::boost::python'].classes(nested = True))\n",
    "    subset.extend(asg['::boost::python'].enumerations(nested = True))\n",
    "    subset.extend(asg.nodes('::clanglite::build_ast_from_code_with_args'))\n",
    "\n",
    "    for node in subset:\n",
    "        node.boost_python_export = True\n",
    "\n",
    "    if autowig.parser.plugin == 'libclang':\n",
    "        for node in (asg.functions(pattern='.*(llvm|clang).*_(begin|end)')\n",
    "                     + asg.functions(pattern='.*(llvm|clang).*getNameAsString')\n",
    "                     + asg.nodes('::clang::NamedDecl::getQualifiedNameAsString')\n",
    "                     + asg.nodes('::clang::ObjCProtocolDecl::collectInheritedProtocolProperties')\n",
    "                     + asg.nodes('::clang::ASTUnit::LoadFromASTFile')\n",
    "                     + asg.nodes('::clang::ASTUnit::getCachedCompletionTypes')\n",
    "                     + asg.nodes('::clang::ASTUnit::getBufferForFile')\n",
    "                     + asg.nodes('::clang::CXXRecordDecl::getCaptureFields')\n",
    "                     + asg.nodes('::clang::ASTContext::SectionInfos')\n",
    "                     + asg.nodes('::clang::ASTContext::getAllocator')\n",
    "                     + asg.nodes('::clang::ASTContext::getObjCEncoding.*')\n",
    "                     + asg.nodes('::clang::ASTContext::getAllocator')\n",
    "                     + asg.nodes('::clang::QualType::getAsString')\n",
    "                     + asg.nodes('::clang::SourceLocation::printToString')\n",
    "                     + asg['class ::llvm::StringRef'].methods()):\n",
    "            node.boost_python_export = False\n",
    "            \n",
    "    import sys\n",
    "    from path import path\n",
    "    for header in (path(sys.prefix)/'include'/'clang').walkfiles('*.h'):\n",
    "        asg[header.abspath()].is_external_dependency = False\n",
    "    \n",
    "    return asg"
   ]
  },
  {
   "cell_type": "markdown",
   "metadata": {},
   "source": [
    "This `controller` is then dynamically registered and used on the ASG."
   ]
  },
  {
   "cell_type": "code",
   "execution_count": 10,
   "metadata": {
    "collapsed": false
   },
   "outputs": [],
   "source": [
    "autowig.controller['clanglite'] = clanglite_controller\n",
    "autowig.controller.plugin = 'clanglite'\n",
    "asg = autowig.controller(asg)"
   ]
  },
  {
   "cell_type": "markdown",
   "metadata": {},
   "source": [
    "In order to wrap a subset of the **Clang** library, the user need to implements a `generator` that passes particular nodes to the `boost_python` `generator`."
   ]
  },
  {
   "cell_type": "code",
   "execution_count": 11,
   "metadata": {
    "collapsed": false
   },
   "outputs": [],
   "source": [
    "autowig.generator.plugin = 'boost_python_pattern'\n",
    "wrappers = autowig.generator(asg,\n",
    "                  module = srcdir/'_clanglite.cpp',\n",
    "                  decorator = srcdir/'clanglite'/'_clanglite.py',\n",
    "                  closure = False)"
   ]
  },
  {
   "cell_type": "markdown",
   "metadata": {},
   "source": [
    "The wrappers are only generated in-memory.\n",
    "We therefore need to write them on the disk to complete the process."
   ]
  },
  {
   "cell_type": "code",
   "execution_count": 12,
   "metadata": {
    "collapsed": false
   },
   "outputs": [],
   "source": [
    "wrappers.write()"
   ]
  },
  {
   "cell_type": "code",
   "execution_count": 13,
   "metadata": {
    "collapsed": false
   },
   "outputs": [
    {
     "name": "stdout",
     "output_type": "stream",
     "text": [
      "clanglite\n",
      "_clanglite.cpp\n",
      "_clanglite.h\n",
      "SConscript\n",
      "wrapper_00d7b4ec424957c0864030e709457564.cpp\n",
      "wrapper_0130a4e370175641be1e3842dbaa2946.cpp\n",
      "wrapper_0418dea67efc501bbbeb15890bd22f08.cpp\n",
      "wrapper_055e36c244395ee3a248c7839b4485ca.cpp\n",
      "wrapper_0869bbafffae51179c9684cecf6a16e5.cpp\n",
      "wrapper_0a741a99c7fd512dbe7c31ae23782c5f.cpp\n",
      "wrapper_0a82bf6cb6325db1b638ad3b52a9cbba.cpp\n",
      "wrapper_0c11b148868f50d9aba81b8d12b3ed37.cpp\n",
      "wrapper_0dd00d729e905a24a952147ef6cb1f26.cpp\n",
      "wrapper_0e10ce891e695236a844405946461eeb.cpp\n",
      "wrapper_12825f8c256e5579af64c2c38d33efa3.cpp\n",
      "wrapper_134a185b7d1855029390fd1393cbf65e.cpp\n",
      "wrapper_13b544d609775d6c82f349029c56dab2.cpp\n",
      "wrapper_14c4bbdd8f0a57b0a17277a678e9b9df.cpp\n",
      "wrapper_170cacd8da615406967b5b7d712829ee.cpp\n",
      "wrapper_17505392838a5ddf8a16f3bdbb8f586b.cpp\n",
      "wrapper_178ac6ece7df533ebe6f01cdd1dd69db.cpp\n",
      "wrapper_179220ac78145becbf9b283ff6879c57.cpp\n",
      "wrapper_185117225e1a5743866dee867a4d2c40.cpp\n",
      "wrapper_19b8049789335462bac78de513b121a7.cpp\n",
      "wrapper_19f2e9be2a19546ea2b5c16dcb943e36.cpp\n",
      "wrapper_1ab4808ba4c9580baf99795b73ebb3b3.cpp\n",
      "wrapper_1b564da04ac05f648bb815ef8ea9bbfa.cpp\n",
      "wrapper_1d580556003654da9f00e93300e8c7d9.cpp\n",
      "wrapper_1fef548e459e5e63a7da47f30a93388e.cpp\n",
      "wrapper_2198d75fc7db59f993b4aad8ea48a954.cpp\n",
      "wrapper_22efe3f498cf50c59902eded307491d8.cpp\n",
      "wrapper_25a4e8c5abd554c2a050a995c8119962.cpp\n",
      "wrapper_2721a2c9fe8c5ec0841f62992e916981.cpp\n",
      "wrapper_27832f94d4b655328d914fc34177af19.cpp\n",
      "wrapper_27b991df0f7e5400a9194d9007d0f312.cpp\n",
      "wrapper_282d613855865c408950cce436839a1f.cpp\n",
      "wrapper_289d20f99a245c299406a081a1259a49.cpp\n",
      "wrapper_2c0e35bd45075f9c8d8dfc0dec5fe74e.cpp\n",
      "wrapper_2cee44285ee85f019f99b9a11d8414aa.cpp\n",
      "wrapper_2de15cc0fe1a5f2a82a86ea58402c4c6.cpp\n",
      "wrapper_2fbc20c1c02555b8b7a912504bb82c73.cpp\n",
      "wrapper_306b968f39b7549b8ac1af6424e98129.cpp\n",
      "wrapper_318d521fba1c5de1976ad419741000bb.cpp\n",
      "wrapper_3298a1b3ddb4528fa8f00d1841c595c8.cpp\n",
      "wrapper_3355f55454c958cf9ccb029a6c5f8b78.cpp\n",
      "wrapper_343731ee4eba5641ba0d7ad711f1744f.cpp\n",
      "wrapper_349b01a7525f5245a8ca7e0497dd56cd.cpp\n",
      "wrapper_35e4ead7d84e5119abf635b652b833ad.cpp\n",
      "wrapper_38c4ce0111b15a6cb3ab07a527312f9a.cpp\n",
      "wrapper_39040e7b8b3d52478768b96bddf0e676.cpp\n",
      "wrapper_3980f13801db50f498b55d818463d500.cpp\n",
      "wrapper_3a570aceb0775977a9f9834ae62fa9d6.cpp\n",
      "wrapper_3bb72e110333506a85ff3706c82d0672.cpp\n",
      "wrapper_3bcdbbe507dd5ad29df9e33aca4e435f.cpp\n",
      "wrapper_3bff763d917f5a62bc6b705f9eb6fdba.cpp\n",
      "wrapper_3c36278b447559a3a5d2a8e223d530d9.cpp\n",
      "wrapper_40fbba8dfa075307bb51cf2b9b55fe29.cpp\n",
      "wrapper_411e70b105bb5141b394c3e9e429e0b0.cpp\n",
      "wrapper_41db8c9435975db59206c5f1329984a4.cpp\n",
      "wrapper_434f2e3471bb55ffb2ed175a1ab61e17.cpp\n",
      "wrapper_47c5fcf7feee5cccbd62b4f53577d9f2.cpp\n",
      "wrapper_47d43e4eda7252d2bec0204a93977671.cpp\n",
      "wrapper_47f71413abb4586bb938f19f83933475.cpp\n",
      "wrapper_498c623c598c5706b5ea24c85168e827.cpp\n",
      "wrapper_4b0c303b863250cda7e3852025001de0.cpp\n",
      "wrapper_4b4e99a998695d79afb2678ecd4ef38b.cpp\n",
      "wrapper_4b8444f6e9695ad99a1ccdbf56dc74ac.cpp\n",
      "wrapper_4bd154797c5c544abd201e6b7c018504.cpp\n",
      "wrapper_4fb4fd6ff1345ebb9986bbeba504830c.cpp\n",
      "wrapper_4ff0907c4cfb5a9d9c16c3507271537a.cpp\n",
      "wrapper_557461a0e7815680b4a198f8dd2d342b.cpp\n",
      "wrapper_5578de9a4833559791574e29dbc59084.cpp\n",
      "wrapper_566b7f2eb62955db8f0e90ccbfe7d271.cpp\n",
      "wrapper_588ae92d4ae656e0a0a3246865a3ff9a.cpp\n",
      "wrapper_5aa0bc7eafbe5acc934e3770558bbd42.cpp\n",
      "wrapper_5b83319a964955aab6022f803e5c21f4.cpp\n",
      "wrapper_5bcc2733ddc958549cd0c0749e7c5ede.cpp\n",
      "wrapper_5bdf5625d5c952b18d64d5eba72241ce.cpp\n",
      "wrapper_5bfc55543ee4569b9b6f1d945bfacbbb.cpp\n",
      "wrapper_5f33feacf7d95c7395305b121995a699.cpp\n",
      "wrapper_60dfe77022be5b63b9861a29e42d1303.cpp\n",
      "wrapper_6233218fd23f5990af8fd7d74a9cbd9a.cpp\n",
      "wrapper_62eab835a4da5837b4c743953387c734.cpp\n",
      "wrapper_63dc6750407a5028aa2e82229f8ea352.cpp\n",
      "wrapper_693db0b37725552a85ff783087528c5b.cpp\n",
      "wrapper_69d409490fc05f00af970e471a94279a.cpp\n",
      "wrapper_69ef5751cb19567085dced299c047c9f.cpp\n",
      "wrapper_6ad42784eaff547697796c119fd8c30f.cpp\n",
      "wrapper_6cffbf9796c15449896c91bf24672d40.cpp\n",
      "wrapper_6d094fa53b15516db85a0d4b3b7fd665.cpp\n",
      "wrapper_6fe8ea7f48fd5aec8c83607b627eef0d.cpp\n",
      "wrapper_708015b5173c579ca15734236c01d5a8.cpp\n",
      "wrapper_7130d3fcb2735f6eb2eb3ef44aefdbc3.cpp\n",
      "wrapper_71391b5023a057ca94506c6564b06c2a.cpp\n",
      "wrapper_7289d815af725e0c81cacbe193055c17.cpp\n",
      "wrapper_72a947d59e2e5194bab98d04fc2841fb.cpp\n",
      "wrapper_744be89803015d4fa974827041a9835a.cpp\n",
      "wrapper_75ad505213c95f08890405277058becd.cpp\n",
      "wrapper_772637d055235cf8aad3a634a5362f9b.cpp\n",
      "wrapper_773f851c49f157e1a79838cd44932cff.cpp\n",
      "wrapper_77869ea344e0552885031daa303806b9.cpp\n",
      "wrapper_7794fc5d989f5bb2bfd527c0b99f8256.cpp\n",
      "wrapper_7866edaf0cb15a78acecaff0a8cbe6c0.cpp\n",
      "wrapper_7981b6362f50522ab01234005fa1e76a.cpp\n",
      "wrapper_7a0922211d1a5f6bb52def66e2db78ad.cpp\n",
      "wrapper_7a8dbb57ea425a4ca4c5329f099a1ce8.cpp\n",
      "wrapper_7bc3191eac5451618d350bf624886bc4.cpp\n",
      "wrapper_7d10a38ead5950acb903ebd8bb882a64.cpp\n",
      "wrapper_7eb8c37147b553928d32568c9da28cc6.cpp\n",
      "wrapper_7f94615a46d751afa71bfa020eacfecb.cpp\n",
      "wrapper_7fe14ac9706f5b4d9d341b651fb0117a.cpp\n",
      "wrapper_808dfaeb3c825011b508a4347f0e64a5.cpp\n",
      "wrapper_80ca55a3e7785ce48e982c583ad333f5.cpp\n",
      "wrapper_82889ac35d675fc9a65f0285105ee4d5.cpp\n",
      "wrapper_8617928d1b235b0f86f9ac19c58850ab.cpp\n",
      "wrapper_8792dec06996512a853ddf675dc4d4a5.cpp\n",
      "wrapper_89cd23d27d8a5d2aadb4907c3b1a773c.cpp\n",
      "wrapper_8b48d97cca97599ea7333c5eb6eaade9.cpp\n",
      "wrapper_8c3d682fda725ecaa6f62d0cc71e3761.cpp\n",
      "wrapper_8d01556e36c3546b8e1c01fbdb3d882d.cpp\n",
      "wrapper_8dff7489d4cf55338c9ec5a38967e457.cpp\n",
      "wrapper_8ed765a365325afd812394a92e49d498.cpp\n",
      "wrapper_8f5f4288215e5b87851751eed309fd18.cpp\n",
      "wrapper_8fdac62c679a5af4bbd3db54e12cc78b.cpp\n",
      "wrapper_902a9bb2e95657b784deb3b4e5d5526b.cpp\n",
      "wrapper_905349ffcd105c71941a2e3b1ec8ec3a.cpp\n",
      "wrapper_90fba55bcadf52088b0326eb2a205040.cpp\n",
      "wrapper_9202ae6b0373518c9fbcc487804b1f29.cpp\n",
      "wrapper_9419a5691d8f5533a8aa1195204b8893.cpp\n",
      "wrapper_945af159c3a0553abed1af6e2d31e631.cpp\n",
      "wrapper_965317a99a3458ed96e874a6ebc9656c.cpp\n",
      "wrapper_967edc1ff497557ca6cf5601dbc409ed.cpp\n",
      "wrapper_96d583a082485956938c728f02b79bce.cpp\n",
      "wrapper_973074796ca857b3a9a2c7a922cd35ae.cpp\n",
      "wrapper_99d3396ee242572bbeaada83b5e83165.cpp\n",
      "wrapper_9a20f9773af45c788737982cd20471fd.cpp\n",
      "wrapper_9e2974d2ed6b5833946cd12a4205bb14.cpp\n",
      "wrapper_9e44afaac15f57249b2dc948f4ddc4d0.cpp\n",
      "wrapper_9e52028d1c305f31bd87257e6d3ccc53.cpp\n",
      "wrapper_9e743a2cacb25baaabcd1704a696efe3.cpp\n",
      "wrapper_a049632b742a55ecb3317bc028db1124.cpp\n",
      "wrapper_a17549d1336953b08ed02070ee0558cb.cpp\n",
      "wrapper_a3dfe4539e9653d6812c469a0b171768.cpp\n",
      "wrapper_a48aa9ea770c53f78dda53d1616fcc09.cpp\n",
      "wrapper_a5a572713b525da081973d0456ca1a47.cpp\n",
      "wrapper_a6aedb4654a55a40aeecf4b1dc5fcc98.cpp\n",
      "wrapper_a87ae00f0f7b5d138ba9e724912a319b.cpp\n",
      "wrapper_aa0102629ad95421ae8dc7b78f7a31e4.cpp\n",
      "wrapper_af4470701d7f5ca1967ae6676dc947da.cpp\n",
      "wrapper_b1580b6f5457571a867a2347d7b1f865.cpp\n",
      "wrapper_b1fd1e019724544297cacfa9f9dcfbac.cpp\n",
      "wrapper_b348446fe4565d159b9283397730fb76.cpp\n",
      "wrapper_b968379b40f8521d806301d873d53080.cpp\n",
      "wrapper_b96de3155b7b5e0da5ca4b7273f8bf14.cpp\n",
      "wrapper_b97237ef74ad5566bc5ae85fdde5a9b6.cpp\n",
      "wrapper_bda52e5bd7bb54feb63e41eb6b39b7c5.cpp\n",
      "wrapper_bdd89b7a7de6531ab0b4e606146ae6ee.cpp\n",
      "wrapper_c135a712d4ea5ecca5fd38e224a91e4a.cpp\n",
      "wrapper_c250e00bbfb75b9aacb637fd13b46571.cpp\n",
      "wrapper_c2665c86b07b57a395ff46c8699e82ba.cpp\n",
      "wrapper_c2c58010c75a5c0296a62fc307090e44.cpp\n",
      "wrapper_c36c84c61d245be2a9de47ae3c87a824.cpp\n",
      "wrapper_c7715178388b540a9b2b221d54389737.cpp\n",
      "wrapper_c847c69cad125c81a14648604da481c4.cpp\n",
      "wrapper_ca60b4fc83ce57b1b8f217896573c57c.cpp\n",
      "wrapper_ca8ac52d86e758baac4c0aab82cfaeb8.cpp\n",
      "wrapper_cbd3f716be3f50e88e8e811688f1e3aa.cpp\n",
      "wrapper_cbf4eed979af518c9bfc92b80f626bda.cpp\n",
      "wrapper_cd47f4ade7c353f18d12b4d4927f160e.cpp\n",
      "wrapper_cdfef35342885d34aab4762243178440.cpp\n",
      "wrapper_d0a4d455ddf25a6eaff261924ecb6a85.cpp\n",
      "wrapper_d0efdbd5b95959ba97c04af8ec7e31d1.cpp\n",
      "wrapper_d1031962618550cc8286398791b05794.cpp\n",
      "wrapper_d461400a4d565e6ead554ed313b56ac4.cpp\n",
      "wrapper_d4790e32f2be5f9eab45014861546a96.cpp\n",
      "wrapper_d6bc5e95f1ea5198ab856f195f4d6354.cpp\n",
      "wrapper_d780ee1f9c3953908579ad420a07a673.cpp\n",
      "wrapper_d838cd6dfd2c51dfaa64ce4e68e945ec.cpp\n",
      "wrapper_dcc054c796b75900b6320f767d12d934.cpp\n",
      "wrapper_ddf4f6a337ad5858b0356016f29ff01e.cpp\n",
      "wrapper_de94aa1389475f358482e14ff73b5999.cpp\n",
      "wrapper_e0e8b25440e15b948d776dc4cfad6a1f.cpp\n",
      "wrapper_e0f3aeacd4b75f1a90a27af45ebd888b.cpp\n",
      "wrapper_e1bf2afb60925357a415152f90671c83.cpp\n",
      "wrapper_e4cef5772c4f56478cdedd9f0b21301a.cpp\n",
      "wrapper_e536a5cae34e54058d1fe69715937f7a.cpp\n",
      "wrapper_e59c79ef2b295deabf6e36d9f454bbd7.cpp\n",
      "wrapper_e6312b364bf15398ab3a9553ab9c9c8c.cpp\n",
      "wrapper_e6f4659cd31f536d8a173fe6b97a9e5a.cpp\n",
      "wrapper_e74d86805e805e54bd75b42dea3808e2.cpp\n",
      "wrapper_e763e0d8384558ef98fffcc5e4c39e65.cpp\n",
      "wrapper_e7b3b4e4c9fa5685aa128e57eb78adb2.cpp\n",
      "wrapper_e8de972362795c73b92c7a53a3029be0.cpp\n",
      "wrapper_e90b60b39fbc5f209cecad897014de3b.cpp\n",
      "wrapper_ec9ca573ec45549fa9da5c3f72552e8f.cpp\n",
      "wrapper_ee2f6fcd9daa55ddac1faab4f85880a8.cpp\n",
      "wrapper_ee4ed14ebca95be7b6de45571cde69c6.cpp\n",
      "wrapper_f301756c73b6518392c0b1c3e424eedd.cpp\n",
      "wrapper_f36600d29ca4530a95955d39f3729dd4.cpp\n",
      "wrapper_f549ce8f1b295099974aaf1951f7fd53.cpp\n",
      "wrapper_f651c14028675908a3d30652316d9859.cpp\n",
      "wrapper_f7e9f3c7c3795878ac28d81041643656.cpp\n",
      "wrapper_f851c7810ad1557e8a7e1af726d40e21.cpp\n",
      "wrapper_f9430f8f69e9507289300743fe149840.cpp\n",
      "wrapper_f962c9f0723d5c5fa0f3eb20b8b2a111.cpp\n",
      "wrapper_f985630f6d5d5a2083b01d182b863d7a.cpp\n",
      "wrapper_fa70cbf14eb958718b2fd94051e17863.cpp\n",
      "wrapper_fc38531deabd59f7af56c335d2b2bb1d.cpp\n",
      "wrapper_fc90b41e4ffe50f4b385110b0e7e9e2a.cpp\n",
      "wrapper_fcccd64b80075599a0a8ea554051b540.cpp\n",
      "wrapper_fec3f4f39b7458bf9ddad72041e2a6d0.cpp\n",
      "wrapper_fee0b351ba125e67a931f272642991b9.cpp\n",
      "wrapper_ff13fc75304755eba19420f476625564.cpp\n",
      "wrapper_ff69dd7e2df555fbb9b9f50bff481c75.cpp\n",
      "wrapper_fffc00a4de905ab4bf23b7321e62f698.cpp\n"
     ]
    }
   ],
   "source": [
    "%%bash\n",
    "ls PyClangLite/src/py -C"
   ]
  }
 ],
 "metadata": {
  "kernelspec": {
   "display_name": "Python [default]",
   "language": "python",
   "name": "python2"
  },
  "language_info": {
   "codemirror_mode": {
    "name": "ipython",
    "version": 2
   },
   "file_extension": ".py",
   "mimetype": "text/x-python",
   "name": "python",
   "nbconvert_exporter": "python",
   "pygments_lexer": "ipython2",
   "version": "2.7.12"
  },
  "nbsphinx": {
   "execute": "never"
  }
 },
 "nbformat": 4,
 "nbformat_minor": 0
}
